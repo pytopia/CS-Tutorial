{
 "cells": [
  {
   "cell_type": "markdown",
   "metadata": {},
   "source": [
    "<img src=\"../../images/banners/python-advanced.png\" width=\"600\"/>"
   ]
  },
  {
   "cell_type": "markdown",
   "metadata": {},
   "source": [
    "# <img src=\"../../images/logos/python.png\" width=\"23\"/> An Intro to Threading in Python \n"
   ]
  },
  {
   "cell_type": "markdown",
   "metadata": {},
   "source": [
    "<a class=\"anchor\" id=\"table_of_contents\"></a>\n",
    "## <img src=\"../../images/logos/toc.png\" width=\"20\"/> Table of Contents  \n",
    "* [What Is a Thread?](#what_is_a_thread?)\n",
    "* [Starting a Thread](#starting_a_thread)\n",
    "    * [Daemon Threads](#daemon_threads)\n",
    "    * [join() a Thread](#join()_a_thread)\n",
    "* [Working With Many Threads](#working_with_many_threads)\n",
    "* [Using a ThreadPoolExecutor](#using_a_threadpoolexecutor)\n",
    "* [Race Conditions](#race_conditions)\n",
    "    * [One Thread](#one_thread)\n",
    "    * [Two Threads](#two_threads)\n",
    "    * [Why This Isn’t a Silly Example](#why_this_isn’t_a_silly_example)\n",
    "* [Basic Synchronization Using Lock](#basic_synchronization_using_lock)\n",
    "* [Deadlock](#deadlock)\n",
    "* [Producer-Consumer Threading](#producer-consumer_threading)\n",
    "    * [Producer-Consumer Using Lock](#producer-consumer_using_lock)\n",
    "    * [Producer-Consumer Using Queue](#producer-consumer_using_queue)\n",
    "* [Threading Objects](#threading_objects)\n",
    "    * [Semaphore](#semaphore)\n",
    "    * [Timer](#timer)\n",
    "    * [Barrier](#barrier)\n",
    "* [Conclusion: Threading in Python](#conclusion:_threading_in_python)\n",
    "\n",
    "---"
   ]
  },
  {
   "cell_type": "markdown",
   "metadata": {},
   "source": [
    "<p>Python threading allows you to have different parts of your program run concurrently and can simplify your design. If you’ve got some experience in Python and want to speed up your program using threads, then this tutorial is for you!</p>"
   ]
  },
  {
   "cell_type": "markdown",
   "metadata": {},
   "source": [
    "<p><strong>In this article, you’ll learn:</strong></p>"
   ]
  },
  {
   "cell_type": "markdown",
   "metadata": {},
   "source": [
    "- What threads are\n",
    "- How to create threads and wait for them to finish\n",
    "- How to use a <code>ThreadPoolExecutor</code>\n",
    "- How to avoid race conditions\n",
    "- How to use the common tools that Python <code>threading</code> provides\n"
   ]
  },
  {
   "cell_type": "markdown",
   "metadata": {},
   "source": [
    "<a class=\"anchor\" id=\"what_is_a_thread?\"></a>\n",
    "## What Is a Thread? [<img src=\"../../images/logos/back_to_top.png\" width=\"22\" align= \"center\"/>](#table_of_contents)"
   ]
  },
  {
   "cell_type": "markdown",
   "metadata": {},
   "source": [
    "<p>A thread is a separate flow of execution. This means that your program will have two things happening at once. But for most Python 3 implementations the different threads do not actually execute at the same time: they merely appear to.</p>"
   ]
  },
  {
   "cell_type": "markdown",
   "metadata": {},
   "source": [
    "<p>It’s tempting to think of threading as having two (or more) different processors running on your program, each one doing an independent task at the same time. That’s almost right. The threads may be running on different processors, but they will only be running one at a time. </p>"
   ]
  },
  {
   "cell_type": "markdown",
   "metadata": {},
   "source": [
    "<p>Getting multiple tasks running simultaneously requires a non-standard implementation of Python, writing some of your code in a different language, or using <code>multiprocessing</code> which comes with some extra overhead.</p>"
   ]
  },
  {
   "cell_type": "markdown",
   "metadata": {},
   "source": [
    "<p>Because of the way CPython implementation of Python works, threading may not speed up all tasks. This is due to interactions with the <a href=\"./What Is the Python Global Interpreter Lock (GIL)?.ipynb\">GIL</a> that essentially limit one Python thread to run at a time.\n",
    "The Python Global Interpreter Lock or <a href=\"https://wiki.python.org/moin/GlobalInterpreterLock\">GIL</a>, in simple words, is a mutex (or a lock) that allows only one thread to hold the control of the Python interpreter. You will read more about GIL and how it works in the upcoming sections. <p>This means that only one thread can be in a state of execution at any point in time. The impact of the GIL isn’t visible to developers who execute single-threaded programs, but it can be a performance bottleneck in CPU-bound and multi-threaded code. GIL will be covered in details in the upcoming sections.\n",
    "</p>"
   ]
  },
  {
   "cell_type": "markdown",
   "metadata": {},
   "source": [
    "<p>Tasks that spend much of their time waiting for external events are generally good candidates for threading. Problems that require heavy CPU computation and spend little time waiting for external events might not run faster at all. </p>"
   ]
  },
  {
   "cell_type": "markdown",
   "metadata": {},
   "source": [
    "<p>This is true for code written in Python and running on the standard CPython implementation. If your threads are written in C they have the ability to release the GIL and run concurrently. If you are running on a different Python implementation, check with the documentation too see how it handles threads. </p>"
   ]
  },
  {
   "cell_type": "markdown",
   "metadata": {},
   "source": [
    "<p>If you are running a standard Python implementation, writing in only Python, and have a CPU-bound problem, you should check out the <code>multiprocessing</code> module instead.</p>"
   ]
  },
  {
   "cell_type": "markdown",
   "metadata": {},
   "source": [
    "<p>Architecting your program to use threading can also provide gains in design clarity. Most of the examples you’ll learn about in this tutorial are not necessarily going to run faster because they use threads. Using threading in them helps to make the design cleaner and easier to reason about.</p>"
   ]
  },
  {
   "cell_type": "markdown",
   "metadata": {},
   "source": [
    "<p>So, let’s stop talking about threading and start using it!</p>"
   ]
  },
  {
   "cell_type": "markdown",
   "metadata": {},
   "source": [
    "<a class=\"anchor\" id=\"starting_a_thread\"></a>\n",
    "## Starting a Thread [<img src=\"../../images/logos/back_to_top.png\" width=\"22\" align= \"center\"/>](#table_of_contents)"
   ]
  },
  {
   "cell_type": "markdown",
   "metadata": {},
   "source": [
    "<p>Now that you’ve got an idea of what a thread is, let’s learn how to make one. The Python standard library provides <a href=\"https://docs.python.org/3/library/threading.html\"><code>threading</code></a>, which contains most of the primitives you’ll see in this article. <code>Thread</code>, in this module, nicely encapsulates threads, providing a clean interface to work with them.</p>"
   ]
  },
  {
   "cell_type": "markdown",
   "metadata": {},
   "source": [
    "<p>To start a separate thread, you create a <code>Thread</code> instance and then tell it to <code>.start()</code>:</p>"
   ]
  },
  {
   "cell_type": "code",
   "execution_count": null,
   "metadata": {},
   "outputs": [],
   "source": [
    "import logging\n",
    "import threading\n",
    "import time\n",
    "\n",
    "def thread_function(name):\n",
    "    logging.info(f\"Thread {name}: starting\")\n",
    "    time.sleep(2)\n",
    "    logging.info(f\"Thread {name}: finishing\")\n",
    "\n",
    "if __name__ == \"__main__\":\n",
    "    format = \"%(asctime)s: %(message)s\"\n",
    "    logging.basicConfig(format=format, level=logging.INFO, datefmt=\"%H:%M:%S\")\n",
    "\n",
    "    logging.info(\"Main    : before creating thread\")\n",
    "    x = threading.Thread(target=thread_function, args=(1,))\n",
    "    logging.info(\"Main    : before running thread\")\n",
    "    x.start()\n",
    "    logging.info(\"Main    : wait for the thread to finish\")\n",
    "    # x.join()\n",
    "    logging.info(\"Main    : all done\")"
   ]
  },
  {
   "cell_type": "markdown",
   "metadata": {},
   "source": [
    "<p>If you look around the <a href=\"https://realpython.com/python-logging/\">logging</a> statements, you can see that the <code>main</code> section is creating and starting the thread:</p>"
   ]
  },
  {
   "cell_type": "code",
   "execution_count": null,
   "metadata": {},
   "outputs": [],
   "source": [
    "x = threading.Thread(target=thread_function, args=(1,))\n",
    "x.start()"
   ]
  },
  {
   "cell_type": "markdown",
   "metadata": {},
   "source": [
    "<p>When you create a <code>Thread</code>, you pass it a function and a list containing the arguments to that function. In this case, you’re telling the <code>Thread</code> to run <code>thread_function()</code> and to pass it <code>1</code> as an argument.</p>"
   ]
  },
  {
   "cell_type": "markdown",
   "metadata": {},
   "source": [
    "<p>For this article, you’ll use sequential integers as names for your threads. There is <code>threading.get_ident()</code>, which returns a unique name for each thread, but these are usually neither short nor easily readable.</p>"
   ]
  },
  {
   "cell_type": "markdown",
   "metadata": {},
   "source": [
    "<p><code>thread_function()</code> itself doesn’t do much. It simply logs some messages with a <a href=\"https://realpython.com/python-sleep/\"><code>time.sleep()</code></a> in between them.</p>"
   ]
  },
  {
   "cell_type": "markdown",
   "metadata": {},
   "source": [
    "<p>When you run this program as it is (with line twenty commented out), the output will look like this:</p>"
   ]
  },
  {
   "cell_type": "markdown",
   "metadata": {},
   "source": [
    "```sh\n",
    "$ ./single_thread.py\n",
    "Main    : before creating thread\n",
    "Main    : before running thread\n",
    "Thread 1: starting\n",
    "Main    : wait for the thread to finish\n",
    "Main    : all done\n",
    "Thread 1: finishing\n",
    "```"
   ]
  },
  {
   "cell_type": "markdown",
   "metadata": {},
   "source": [
    "<p>You’ll notice that the <code>Thread</code> finished after the <code>Main</code> section of your code did. You’ll come back to why that is and talk about the mysterious line twenty (<code>x.join()</code>) in the next section.</p>"
   ]
  },
  {
   "cell_type": "markdown",
   "metadata": {},
   "source": [
    "<a class=\"anchor\" id=\"daemon_threads\"></a>\n",
    "### Daemon Threads [<img src=\"../../images/logos/back_to_top.png\" width=\"22\" align= \"center\"/>](#table_of_contents)"
   ]
  },
  {
   "cell_type": "markdown",
   "metadata": {},
   "source": [
    "<p>In computer science, a <a href=\"https://en.wikipedia.org/wiki/Daemon_(computing)\"><code>daemon</code></a> is a process that runs in the background.</p>"
   ]
  },
  {
   "cell_type": "markdown",
   "metadata": {},
   "source": [
    "<p>Python <code>threading</code> has a more specific meaning for <code>daemon</code>. A <code>daemon</code> thread will shut down immediately when the program exits. One way to think about these definitions is to consider the <code>daemon</code> thread a thread that runs in the background without worrying about shutting it down.</p>"
   ]
  },
  {
   "cell_type": "markdown",
   "metadata": {},
   "source": [
    "<p>If a program is running <code>Threads</code> that are not <code>daemons</code>, then the program will wait for those threads to complete before it terminates. <code>Threads</code> that <em>are</em> daemons, however, are just killed wherever they are when the program is exiting.</p>"
   ]
  },
  {
   "cell_type": "markdown",
   "metadata": {},
   "source": [
    "<p>Let’s look a little more closely at the output of your program above. The last two lines are the interesting bit. When you run the program, you’ll notice that there is a pause (of about 2 seconds) after <a href=\"https://realpython.com/python-main-function/\"><code>__main__</code></a> has printed its <code>all done</code> message and before the thread is finished.</p>"
   ]
  },
  {
   "cell_type": "markdown",
   "metadata": {},
   "source": [
    "<p>This pause is Python waiting for the non-daemonic thread to complete. When your Python program ends, part of the shutdown process is to clean up the threading routine.</p>"
   ]
  },
  {
   "cell_type": "markdown",
   "metadata": {},
   "source": [
    "<p>If you look at the <a href=\"https://github.com/python/cpython/blob/df5cdc11123a35065bbf1636251447d0bfe789a5/Lib/threading.py#L1263\">source for Python <code>threading</code></a>, you’ll see that <code>threading._shutdown()</code> walks through all of the running threads and calls <code>.join()</code> on every one that does not have the <code>daemon</code> flag set.</p>"
   ]
  },
  {
   "cell_type": "markdown",
   "metadata": {},
   "source": [
    "<p>So your program waits to exit because the thread itself is waiting in a sleep. As soon as it has completed and printed the message, <code>.join()</code> will return and the program can exit.</p>"
   ]
  },
  {
   "cell_type": "markdown",
   "metadata": {},
   "source": [
    "<p>Frequently, this behavior is what you want, but there are other options available to us. Let’s first repeat the program with a <code>daemon</code> thread. You do that by changing how you construct the <code>Thread</code>, adding the <code>daemon=True</code> flag:</p>"
   ]
  },
  {
   "cell_type": "code",
   "execution_count": null,
   "metadata": {},
   "outputs": [],
   "source": [
    "x = threading.Thread(target=thread_function, args=(1,), daemon=True)"
   ]
  },
  {
   "cell_type": "markdown",
   "metadata": {},
   "source": [
    "<p>When you run the program now, you should see this output:</p>"
   ]
  },
  {
   "cell_type": "markdown",
   "metadata": {},
   "source": [
    "```sh\n",
    "$ ./daemon_thread.py\n",
    "Main    : before creating thread\n",
    "Main    : before running thread\n",
    "Thread 1: starting\n",
    "Main    : wait for the thread to finish\n",
    "Main    : all done\n",
    "```"
   ]
  },
  {
   "cell_type": "markdown",
   "metadata": {},
   "source": [
    "<p>The difference here is that the final line of the output is missing. <code>thread_function()</code> did not get a chance to complete. It was a <code>daemon</code> thread, so when <code>__main__</code> reached the end of its code and the program wanted to finish, the daemon was killed.</p>"
   ]
  },
  {
   "cell_type": "markdown",
   "metadata": {},
   "source": [
    "<a class=\"anchor\" id=\"join()_a_thread\"></a>\n",
    "### `join()` a Thread [<img src=\"../../images/logos/back_to_top.png\" width=\"22\" align= \"center\"/>](#table_of_contents)"
   ]
  },
  {
   "cell_type": "markdown",
   "metadata": {},
   "source": [
    "<p>Daemon threads are handy, but what about when you want to wait for a thread to stop? What about when you want to do that and not exit your program? Now let’s go back to your original program and look at that commented out line twenty:</p>"
   ]
  },
  {
   "cell_type": "code",
   "execution_count": null,
   "metadata": {},
   "outputs": [],
   "source": [
    "# x.join()"
   ]
  },
  {
   "cell_type": "markdown",
   "metadata": {},
   "source": [
    "<p>To tell one thread to wait for another thread to finish, you call <code>.join()</code>. If you uncomment that line, the main thread will pause and wait for the thread <code>x</code> to complete running.</p>"
   ]
  },
  {
   "cell_type": "markdown",
   "metadata": {},
   "source": [
    "<p>Did you test this on the code with the daemon thread or the regular thread? It turns out that it doesn’t matter. If you <code>.join()</code> a thread, that statement will wait until either kind of thread is finished.</p>"
   ]
  },
  {
   "cell_type": "markdown",
   "metadata": {},
   "source": [
    "<a class=\"anchor\" id=\"working_with_many_threads\"></a>\n",
    "## Working With Many Threads [<img src=\"../../images/logos/back_to_top.png\" width=\"22\" align= \"center\"/>](#table_of_contents)"
   ]
  },
  {
   "cell_type": "markdown",
   "metadata": {},
   "source": [
    "<p>The example code so far has only been working with two threads: the main thread and one you started with the <code>threading.Thread</code> object. </p>"
   ]
  },
  {
   "cell_type": "markdown",
   "metadata": {},
   "source": [
    "<p>Frequently, you’ll want to start a number of threads and have them do interesting work. Let’s start by looking at the harder way of doing that, and then you’ll move on to an easier method.</p>"
   ]
  },
  {
   "cell_type": "markdown",
   "metadata": {},
   "source": [
    "<p>The harder way of starting multiple threads is the one you already know:</p>"
   ]
  },
  {
   "cell_type": "code",
   "execution_count": null,
   "metadata": {},
   "outputs": [],
   "source": [
    "import logging\n",
    "import threading\n",
    "import time\n",
    "\n",
    "def thread_function(name):\n",
    "    logging.info(\"Thread %s: starting\", name)\n",
    "    time.sleep(2)\n",
    "    logging.info(\"Thread %s: finishing\", name)\n",
    "\n",
    "if __name__ == \"__main__\":\n",
    "    format = \"%(asctime)s: %(message)s\"\n",
    "    logging.basicConfig(format=format, level=logging.INFO,\n",
    "                        datefmt=\"%H:%M:%S\")\n",
    "\n",
    "    threads = list()\n",
    "    for index in range(3):\n",
    "        logging.info(\"Main    : create and start thread %d.\", index)\n",
    "        x = threading.Thread(target=thread_function, args=(index,))\n",
    "        threads.append(x)\n",
    "        x.start()\n",
    "\n",
    "    for index, thread in enumerate(threads):\n",
    "        logging.info(\"Main    : before joining thread %d.\", index)\n",
    "        thread.join()\n",
    "        logging.info(\"Main    : thread %d done\", index)"
   ]
  },
  {
   "cell_type": "markdown",
   "metadata": {},
   "source": [
    "<p>This code uses the same mechanism you saw above to start a thread, create a <code>Thread</code> object, and then call <code>.start()</code>. The program keeps a list of <code>Thread</code> objects so that it can then wait for them later using <code>.join()</code>.</p>"
   ]
  },
  {
   "cell_type": "markdown",
   "metadata": {},
   "source": [
    "<p>Running this code multiple times will likely produce some interesting results. Here’s an example output from my machine:</p>"
   ]
  },
  {
   "cell_type": "markdown",
   "metadata": {},
   "source": [
    "```sh\n",
    "$ ./multiple_threads.py\n",
    "Main    : create and start thread 0.\n",
    "Thread 0: starting\n",
    "Main    : create and start thread 1.\n",
    "Thread 1: starting\n",
    "Main    : create and start thread 2.\n",
    "Thread 2: starting\n",
    "Main    : before joining thread 0.\n",
    "Thread 2: finishing\n",
    "Thread 1: finishing\n",
    "Thread 0: finishing\n",
    "Main    : thread 0 done\n",
    "Main    : before joining thread 1.\n",
    "Main    : thread 1 done\n",
    "Main    : before joining thread 2.\n",
    "Main    : thread 2 done\n",
    "```"
   ]
  },
  {
   "cell_type": "markdown",
   "metadata": {},
   "source": [
    "<p>If you walk through the output carefully, you’ll see all three threads getting started in the order you might expect, but in this case they finish in the opposite order! Multiple runs will produce different orderings. Look for the <code>Thread x: finishing</code> message to tell you when each thread is done.</p>"
   ]
  },
  {
   "cell_type": "markdown",
   "metadata": {},
   "source": [
    "<p>The order in which threads are run is determined by the operating system and can be quite hard to predict. It may (and likely will) vary from run to run, so you need to be aware of that when you design algorithms that use threading.</p>"
   ]
  },
  {
   "cell_type": "markdown",
   "metadata": {},
   "source": [
    "<p>Fortunately, Python gives you several primitives that you’ll look at later to help coordinate threads and get them running together. Before that, let’s look at how to make managing a group of threads a bit easier.</p>"
   ]
  },
  {
   "cell_type": "markdown",
   "metadata": {},
   "source": [
    "<a class=\"anchor\" id=\"using_a_threadpoolexecutor\"></a>\n",
    "## Using a ThreadPoolExecutor [<img src=\"../../images/logos/back_to_top.png\" width=\"22\" align= \"center\"/>](#table_of_contents)"
   ]
  },
  {
   "cell_type": "markdown",
   "metadata": {},
   "source": [
    "<p>There’s an easier way to start up a group of threads than the one you saw above. It’s called a <code>ThreadPoolExecutor</code>, and it’s part of the standard library in <a href=\"https://docs.python.org/3/library/concurrent.futures.html\"><code>concurrent.futures</code></a> (as of Python 3.2).</p>"
   ]
  },
  {
   "cell_type": "markdown",
   "metadata": {},
   "source": [
    "<p>The easiest way to create it is as a context manager, using the <a href=\"https://realpython.com/python-with-statement/\"><code>with</code> statement</a> to manage the creation and destruction of the pool.</p>"
   ]
  },
  {
   "cell_type": "markdown",
   "metadata": {},
   "source": [
    "<p>Here’s the <code>__main__</code> from the last example rewritten to use a <code>ThreadPoolExecutor</code>:</p>"
   ]
  },
  {
   "cell_type": "code",
   "execution_count": null,
   "metadata": {},
   "outputs": [],
   "source": [
    "import concurrent.futures\n",
    "\n",
    "# [rest of code]\n",
    "\n",
    "if __name__ == \"__main__\":\n",
    "    format = \"%(asctime)s: %(message)s\"\n",
    "    logging.basicConfig(\n",
    "        format=format, level=logging.INFO, datefmt=\"%H:%M:%S\"\n",
    "    )\n",
    "\n",
    "    with concurrent.futures.ThreadPoolExecutor(max_workers=3) as executor:\n",
    "        executor.map(thread_function, range(3))"
   ]
  },
  {
   "cell_type": "markdown",
   "metadata": {},
   "source": [
    "<p>The code creates a <code>ThreadPoolExecutor</code> as a context manager, telling it how many worker threads it wants in the pool. It then uses <code>.map()</code> to step through an iterable of things, in your case <code>range(3)</code>, passing each one to a thread in the pool. You can think of <code>concurrent.map</code> as just a parallel version of the builtin <code>map</code> function.</p>"
   ]
  },
  {
   "cell_type": "markdown",
   "metadata": {},
   "source": [
    "<p>The end of the <code>with</code> block causes the <code>ThreadPoolExecutor</code> to do a <code>.join()</code> on each of the threads in the pool. It is <em>strongly</em> recommended that you use <code>ThreadPoolExecutor</code> as a context manager when you can so that you never forget to <code>.join()</code> the threads.</p>"
   ]
  },
  {
   "cell_type": "markdown",
   "metadata": {},
   "source": [
    "<p>Running your corrected example code will produce output that looks like this:</p>"
   ]
  },
  {
   "cell_type": "markdown",
   "metadata": {},
   "source": [
    "```sh\n",
    "$ ./executor.py\n",
    "Thread 0: starting\n",
    "Thread 1: starting\n",
    "Thread 2: starting\n",
    "Thread 1: finishing\n",
    "Thread 0: finishing\n",
    "Thread 2: finishing\n",
    "```"
   ]
  },
  {
   "cell_type": "markdown",
   "metadata": {},
   "source": [
    "<p>Again, notice how <code>Thread 1</code> finished before <code>Thread 0</code>. The scheduling of threads is done by the operating system and does not follow a plan that’s easy to figure out.</p>"
   ]
  },
  {
   "cell_type": "markdown",
   "metadata": {},
   "source": [
    "<a class=\"anchor\" id=\"race_conditions\"></a>\n",
    "## Race Conditions [<img src=\"../../images/logos/back_to_top.png\" width=\"22\" align= \"center\"/>](#table_of_contents)"
   ]
  },
  {
   "cell_type": "markdown",
   "metadata": {},
   "source": [
    "<p>Before you move on to some of the other features tucked away in Python <code>threading</code>, let’s talk a bit about one of the more difficult issues you’ll run into when writing threaded programs: <a href=\"https://en.wikipedia.org/wiki/Race_condition\">race conditions</a>.</p>"
   ]
  },
  {
   "cell_type": "markdown",
   "metadata": {},
   "source": [
    "<p>Once you’ve seen what a race condition is and looked at one happening, you’ll move on to some of the primitives provided by the standard library to prevent race conditions from happening.</p>"
   ]
  },
  {
   "cell_type": "markdown",
   "metadata": {},
   "source": [
    "<p>Race conditions can occur when two or more threads access a shared piece of data or resource. In this example, you’re going to create a large race condition that happens every time, but be aware that most race conditions are not this obvious. Frequently, they only occur rarely, and they can produce confusing results. As you can imagine, <strong>this makes them quite difficult to debug</strong>.</p>"
   ]
  },
  {
   "cell_type": "markdown",
   "metadata": {},
   "source": [
    "<p>Fortunately, this race condition will happen every time, and you’ll walk through it in detail to explain what is happening.</p>"
   ]
  },
  {
   "cell_type": "markdown",
   "metadata": {},
   "source": [
    "<p>For this example, you’re going to write a class that updates a database. Okay, you’re not really going to have a database: you’re just going to fake it, because that’s not the point of this article.</p>"
   ]
  },
  {
   "cell_type": "markdown",
   "metadata": {},
   "source": [
    "<p>Your <code>FakeDatabase</code> will have <code>.__init__()</code> and <code>.update()</code> methods:</p>"
   ]
  },
  {
   "cell_type": "code",
   "execution_count": null,
   "metadata": {},
   "outputs": [],
   "source": [
    "class FakeDatabase:\n",
    "    def __init__(self):\n",
    "        self.value = 0\n",
    "\n",
    "    def update(self, name):\n",
    "        logging.info(f\"Thread {name}: starting update\")\n",
    "        local_copy = self.value\n",
    "        local_copy += 1\n",
    "        time.sleep(0.1)\n",
    "        self.value = local_copy\n",
    "        logging.info(f\"Thread {name}: finishing update\")"
   ]
  },
  {
   "cell_type": "markdown",
   "metadata": {},
   "source": [
    "<p><code>FakeDatabase</code> is keeping track of a single number: <code>.value</code>. This is going to be the shared data on which you’ll see the race condition.</p>"
   ]
  },
  {
   "cell_type": "markdown",
   "metadata": {},
   "source": [
    "<p><code>.__init__()</code> simply initializes <code>.value</code> to zero. So far, so good.</p>"
   ]
  },
  {
   "cell_type": "markdown",
   "metadata": {},
   "source": [
    "<p><code>.update()</code> looks a little strange. It’s simulating reading a value from a database, doing some computation on it, and then writing a new value back to the database.</p>"
   ]
  },
  {
   "cell_type": "markdown",
   "metadata": {},
   "source": [
    "<p>In this case, reading from the database just means copying <code>.value</code> to a local variable. The computation is just to add one to the value and then <code>.sleep()</code> for a little bit. Finally, it writes the value back by copying the local value back to <code>.value</code>.</p>"
   ]
  },
  {
   "cell_type": "markdown",
   "metadata": {},
   "source": [
    "<p>Here’s how you’ll use this <code>FakeDatabase</code>:</p>"
   ]
  },
  {
   "cell_type": "code",
   "execution_count": null,
   "metadata": {},
   "outputs": [],
   "source": [
    "format = \"%(asctime)s: %(message)s\"\n",
    "logging.basicConfig(format=format, level=logging.INFO, datefmt=\"%H:%M:%S\")\n",
    "\n",
    "database = FakeDatabase()\n",
    "logging.info(f\"Testing update. Starting value is {database.value}.\")\n",
    "with concurrent.futures.ThreadPoolExecutor(max_workers=2) as executor:\n",
    "    for ® in range(2):\n",
    "        executor.submit(database.update, index)\n",
    "logging.info(f\"Testing update. Ending value is {database.value}.\")"
   ]
  },
  {
   "cell_type": "markdown",
   "metadata": {},
   "source": [
    "<p>The program creates a <code>ThreadPoolExecutor</code> with two threads and then calls <code>.submit()</code> on each of them, telling them to run <code>database.update()</code>.</p>"
   ]
  },
  {
   "cell_type": "markdown",
   "metadata": {},
   "source": [
    "<p><code>.submit()</code> has a signature that allows both positional and named arguments to be passed to the function running in the thread:</p>"
   ]
  },
  {
   "cell_type": "code",
   "execution_count": null,
   "metadata": {},
   "outputs": [],
   "source": [
    ".submit(function, *args, **kwargs)"
   ]
  },
  {
   "cell_type": "markdown",
   "metadata": {},
   "source": [
    "<p>In the usage above, <code>index</code> is passed as the first and only positional argument to <code>database.update()</code>. You’ll see later in this article where you can pass multiple arguments in a similar manner.</p>"
   ]
  },
  {
   "cell_type": "markdown",
   "metadata": {},
   "source": [
    "<p>Since each thread runs <code>.update()</code>, and <code>.update()</code> adds one to <code>.value</code>, you might expect <code>database.value</code> to be <code>2</code> when it’s printed out at the end. But you wouldn’t be looking at this example if that was the case. If you run the above code, the output looks like this:</p>"
   ]
  },
  {
   "cell_type": "markdown",
   "metadata": {},
   "source": [
    "```sh\n",
    "$ ./racecond.py\n",
    "Testing unlocked update. Starting value is 0.\n",
    "Thread 0: starting update\n",
    "Thread 1: starting update\n",
    "Thread 0: finishing update\n",
    "Thread 1: finishing update\n",
    "Testing unlocked update. Ending value is 1.\n",
    "```"
   ]
  },
  {
   "cell_type": "markdown",
   "metadata": {},
   "source": [
    "<p>You might have expected that to happen, but let’s look at the details of what’s really going on here, as that will make the solution to this problem easier to understand.</p>"
   ]
  },
  {
   "cell_type": "markdown",
   "metadata": {},
   "source": [
    "<a class=\"anchor\" id=\"one_thread\"></a>\n",
    "### One Thread [<img src=\"../../images/logos/back_to_top.png\" width=\"22\" align= \"center\"/>](#table_of_contents)"
   ]
  },
  {
   "cell_type": "markdown",
   "metadata": {},
   "source": [
    "<p>Before you dive into this issue with two threads, let’s step back and talk a bit about some details of how threads work.</p>"
   ]
  },
  {
   "cell_type": "markdown",
   "metadata": {},
   "source": [
    "<p>You won’t be diving into all of the details here, as that’s not important at this level. We’ll also be simplifying a few things in a way that won’t be technically accurate but will give you the right idea of what is happening.</p>"
   ]
  },
  {
   "cell_type": "markdown",
   "metadata": {},
   "source": [
    "<p>When you tell your <code>ThreadPoolExecutor</code> to run each thread, you tell it which function to run and what parameters to pass to it: <code>executor.submit(database.update, index)</code>. </p>"
   ]
  },
  {
   "cell_type": "markdown",
   "metadata": {},
   "source": [
    "<p>The result of this is that each of the threads in the pool will call <code>database.update(index)</code>. Note that <code>database</code> is a reference to the one <code>FakeDatabase</code> object created in <code>__main__</code>. Calling <code>.update()</code> on that object calls an <a href=\"https://realpython.com/instance-class-and-static-methods-demystified/\">instance method</a> on that object.</p>"
   ]
  },
  {
   "cell_type": "markdown",
   "metadata": {},
   "source": [
    "<p>Each thread is going to have a reference to the same <code>FakeDatabase</code> object, <code>database</code>. Each thread will also have a unique value, <code>index</code>, to make the logging statements a bit easier to read:</p>"
   ]
  },
  {
   "cell_type": "markdown",
   "metadata": {},
   "source": [
    "<img src=\"images/an-intro-to-threading-in-python/intro-threading-shared-database.267a5d8c6aa1.png\" width=\"600px\">"
   ]
  },
  {
   "cell_type": "markdown",
   "metadata": {},
   "source": [
    "<p>When the thread starts running <code>.update()</code>, it has its own version of all of the data <strong>local</strong> to the function. In the case of <code>.update()</code>, this is <code>local_copy</code>. This is definitely a good thing. Otherwise, two threads running the same function would always confuse each other. It means that all variables that are scoped (or local) to a function are <strong>thread-safe</strong>.</p>"
   ]
  },
  {
   "cell_type": "markdown",
   "metadata": {},
   "source": [
    "<p>Now you can start walking through what happens if you run the program above with a single thread and a single call to <code>.update()</code>.</p>"
   ]
  },
  {
   "cell_type": "markdown",
   "metadata": {},
   "source": [
    "<p>The image below steps through the execution of <code>.update()</code> if only a single thread is run. The statement is shown on the left followed by a diagram showing the values in the thread’s <code>local_copy</code> and the shared <code>database.value</code>:</p>"
   ]
  },
  {
   "cell_type": "markdown",
   "metadata": {},
   "source": [
    "<img src=\"images/an-intro-to-threading-in-python/intro-threading-single-thread.6a11288bc199.png\" width=\"600px\">"
   ]
  },
  {
   "cell_type": "markdown",
   "metadata": {},
   "source": [
    "<p>The diagram is laid out so that time increases as you move from top to bottom. It begins when <code>Thread 1</code> is created and ends when it is terminated.</p>"
   ]
  },
  {
   "cell_type": "markdown",
   "metadata": {},
   "source": [
    "<p>When <code>Thread 1</code> starts, <code>FakeDatabase.value</code> is zero. The first line of code in the method, <code>local_copy = self.value</code>, copies the value zero to the local variable. Next it increments the value of <code>local_copy</code> with the <code>local_copy += 1</code> statement. You can see <code>.value</code> in <code>Thread 1</code> getting set to one.</p>"
   ]
  },
  {
   "cell_type": "markdown",
   "metadata": {},
   "source": [
    "<p>Next <code>time.sleep()</code> is called, which makes the current thread pause and allows other threads to run. Since there is only one thread in this example, this has no effect.</p>"
   ]
  },
  {
   "cell_type": "markdown",
   "metadata": {},
   "source": [
    "<p>When <code>Thread 1</code> wakes up and continues, it copies the new value from <code>local_copy</code> to <code>FakeDatabase.value</code>, and then the thread is complete. You can see that <code>database.value</code> is set to one.</p>"
   ]
  },
  {
   "cell_type": "markdown",
   "metadata": {},
   "source": [
    "<p>So far, so good. You ran <code>.update()</code> once and <code>FakeDatabase.value</code> was incremented to one.</p>"
   ]
  },
  {
   "cell_type": "markdown",
   "metadata": {},
   "source": [
    "<a class=\"anchor\" id=\"two_threads\"></a>\n",
    "### Two Threads [<img src=\"../../images/logos/back_to_top.png\" width=\"22\" align= \"center\"/>](#table_of_contents)"
   ]
  },
  {
   "cell_type": "markdown",
   "metadata": {},
   "source": [
    "<p>Getting back to the race condition, the two threads will be running concurrently but not at the same time. They will each have their own version of <code>local_copy</code> and will each point to the same <code>database</code>. It is this shared <code>database</code> object that is going to cause the problems.</p>"
   ]
  },
  {
   "cell_type": "markdown",
   "metadata": {},
   "source": [
    "<p>The program starts with <code>Thread 1</code> running <code>.update()</code>:</p>"
   ]
  },
  {
   "cell_type": "markdown",
   "metadata": {},
   "source": [
    "<img src=\"images/an-intro-to-threading-in-python/intro-threading-two-threads-part1.c1c0e65a8481.png\" width=\"600px\">"
   ]
  },
  {
   "cell_type": "markdown",
   "metadata": {},
   "source": [
    "<p>When <code>Thread 1</code> calls <code>time.sleep()</code>, it allows the other thread to start running. This is where things get interesting.</p>"
   ]
  },
  {
   "cell_type": "markdown",
   "metadata": {},
   "source": [
    "<p><code>Thread 2</code> starts up and does the same operations. It’s also copying <code>database.value</code> into its private <code>local_copy</code>, and this shared <code>database.value</code> has not yet been updated:</p>"
   ]
  },
  {
   "cell_type": "markdown",
   "metadata": {},
   "source": [
    "<img src=\"images/an-intro-to-threading-in-python/intro-threading-two-threads-part2.df42d4fbfe21.png\" width=\"600px\">"
   ]
  },
  {
   "cell_type": "markdown",
   "metadata": {},
   "source": [
    "<p>When <code>Thread 2</code> finally goes to sleep, the shared <code>database.value</code> is still unmodified at zero, and both private versions of <code>local_copy</code> have the value one.</p>"
   ]
  },
  {
   "cell_type": "markdown",
   "metadata": {},
   "source": [
    "<p><code>Thread 1</code> now wakes up and saves its version of <code>local_copy</code> and then terminates, giving <code>Thread 2</code> a final chance to run. <code>Thread 2</code> has no idea that <code>Thread 1</code> ran and updated <code>database.value</code> while it was sleeping. It stores <em>its</em> version of <code>local_copy</code> into <code>database.value</code>, also setting it to one:</p>"
   ]
  },
  {
   "cell_type": "markdown",
   "metadata": {},
   "source": [
    "<img src=\"images/an-intro-to-threading-in-python/intro-threading-two-threads-part3.18576920f88f.png\" width=\"600px\">"
   ]
  },
  {
   "cell_type": "markdown",
   "metadata": {},
   "source": [
    "<p>The two threads have interleaving access to a single shared object, overwriting each other’s results. Similar race conditions can arise when one thread frees memory or closes a file handle before the other thread is finished accessing it.</p>"
   ]
  },
  {
   "cell_type": "markdown",
   "metadata": {},
   "source": [
    "<a class=\"anchor\" id=\"why_this_isn’t_a_silly_example\"></a>\n",
    "### Why This Isn’t a Silly Example [<img src=\"../../images/logos/back_to_top.png\" width=\"22\" align= \"center\"/>](#table_of_contents)"
   ]
  },
  {
   "cell_type": "markdown",
   "metadata": {},
   "source": [
    "<p>The example above is contrived to make sure that the race condition happens every time you run your program. Because the operating system can swap out a thread at any time, it is possible to interrupt a statement like <code>x = x + 1</code> after it has read the value of <code>x</code> but before it has written back the incremented value.</p>"
   ]
  },
  {
   "cell_type": "markdown",
   "metadata": {},
   "source": [
    "<p>The details of how this happens are quite interesting, but not needed for the rest of this article, so feel free to skip over the section below.</p>"
   ]
  },
  {
   "cell_type": "markdown",
   "metadata": {},
   "source": [
    "#### How Does This Really Work [<img src=\"../../images/logos/back_to_top.png\" width=\"22\" align= \"center\"/>](#table_of_contents)"
   ]
  },
  {
   "cell_type": "markdown",
   "metadata": {},
   "source": [
    "The code above isn’t quite as out there as you might originally have thought. It was designed to force a race condition every time you run it, but that makes it much easier to solve than most race conditions."
   ]
  },
  {
   "cell_type": "markdown",
   "metadata": {},
   "source": [
    "There are two things to keep in mind when thinking about race conditions:\n",
    "\n",
    "1. Even an operation like x += 1 takes the processor many steps. Each of these steps is a separate instruction to the processor.\n",
    "2. The operating system can swap which thread is running at any time. A thread can be swapped out after any of these small instructions. This means that a thread can be put to sleep to let another thread run in the middle of a Python statement."
   ]
  },
  {
   "cell_type": "markdown",
   "metadata": {},
   "source": [
    "Let’s look at this in detail. The REPL below shows a function that takes a parameter and increments it:"
   ]
  },
  {
   "cell_type": "code",
   "execution_count": 2,
   "metadata": {},
   "outputs": [],
   "source": [
    "def inc(x):\n",
    "    x += 1"
   ]
  },
  {
   "cell_type": "code",
   "execution_count": 3,
   "metadata": {},
   "outputs": [],
   "source": [
    "import dis"
   ]
  },
  {
   "cell_type": "code",
   "execution_count": 4,
   "metadata": {},
   "outputs": [
    {
     "name": "stdout",
     "output_type": "stream",
     "text": [
      "  2           0 LOAD_FAST                0 (x)\n",
      "              2 LOAD_CONST               1 (1)\n",
      "              4 INPLACE_ADD\n",
      "              6 STORE_FAST               0 (x)\n",
      "              8 LOAD_CONST               0 (None)\n",
      "             10 RETURN_VALUE\n"
     ]
    }
   ],
   "source": [
    "dis.dis(inc)"
   ]
  },
  {
   "cell_type": "markdown",
   "metadata": {},
   "source": [
    "The REPL example uses [dis](https://docs.python.org/3/library/dis.html) from the Python standard library to show the smaller steps that the processor does to implement your function. It does a `LOAD_FAST` of the data value `x`, it does a `LOAD_CONST 1`, and then it uses the `INPLACE_ADD` to add those values together."
   ]
  },
  {
   "cell_type": "markdown",
   "metadata": {},
   "source": [
    "We’re stopping here for a specific reason. This is the point in `.update()` above where `time.sleep()` forced the threads to switch. It is entirely possible that, every once in while, the operating system would switch threads at that exact point even without `sleep()`, but the call to `sleep()` makes it happen every time."
   ]
  },
  {
   "cell_type": "markdown",
   "metadata": {},
   "source": [
    "As you learned above, the operating system can swap threads at any time. You’ve walked down this listing to the statement marked 4. If the operating system swaps out this thread and runs a different thread that also modifies `x`, then when this thread resumes, it will overwrite `x` with an incorrect value."
   ]
  },
  {
   "cell_type": "markdown",
   "metadata": {},
   "source": [
    "Technically, this example won’t have a race condition because `x` is local to `inc()`. It does illustrate how a thread can be interrupted during a single Python operation, however. The same `LOAD`, `MODIFY`, `STORE` set of operations also happens on global and shared values. You can explore with the `dis` module and prove that yourself."
   ]
  },
  {
   "cell_type": "markdown",
   "metadata": {},
   "source": [
    "It’s rare to get a race condition like this to occur, but remember that an infrequent event taken over millions of iterations becomes likely to happen. **The rarity of these race conditions makes them much, much harder to debug than regular bugs.**"
   ]
  },
  {
   "cell_type": "markdown",
   "metadata": {},
   "source": [
    "Now back to your regularly scheduled tutorial!"
   ]
  },
  {
   "cell_type": "markdown",
   "metadata": {},
   "source": [
    "<p>Now that you’ve seen a race condition in action, let’s find out how to solve them!</p>"
   ]
  },
  {
   "cell_type": "markdown",
   "metadata": {},
   "source": [
    "<a class=\"anchor\" id=\"basic_synchronization_using_lock\"></a>\n",
    "## Basic Synchronization Using Lock [<img src=\"../../images/logos/back_to_top.png\" width=\"22\" align= \"center\"/>](#table_of_contents)"
   ]
  },
  {
   "cell_type": "markdown",
   "metadata": {},
   "source": [
    "<p>There are a number of ways to avoid or solve race conditions. You won’t look at all of them here, but there are a couple that are used frequently. Let’s start with <code>Lock</code>.</p>"
   ]
  },
  {
   "cell_type": "markdown",
   "metadata": {},
   "source": [
    "<p>To solve your race condition above, you need to find a way to allow only one thread at a time into the read-modify-write section of your code. The most common way to do this is called <code>Lock</code> in Python. In some other languages this same idea is called a <code>mutex</code>. Mutex comes from MUTual EXclusion, which is exactly what a <code>Lock</code> does.</p>"
   ]
  },
  {
   "cell_type": "markdown",
   "metadata": {},
   "source": [
    "<p>A <code>Lock</code> is an object that acts like a hall pass. Only one thread at a time can have the <code>Lock</code>. Any other thread that wants the <code>Lock</code> must wait until the owner of the <code>Lock</code> gives it up.</p>"
   ]
  },
  {
   "cell_type": "markdown",
   "metadata": {},
   "source": [
    "<p>The basic functions to do this are <code>.acquire()</code> and <code>.release()</code>. A thread will call <code>my_lock.acquire()</code> to get the lock. If the lock is already held, the calling thread will wait until it is released. There’s an important point here. If one thread gets the lock but never gives it back, your program will be stuck. You’ll read more about this later.</p>"
   ]
  },
  {
   "cell_type": "markdown",
   "metadata": {},
   "source": [
    "<p>Fortunately, Python’s <code>Lock</code> will also operate as a context manager, so you can use it in a <code>with</code> statement, and it gets released automatically when the <code>with</code> block exits for any reason.</p>"
   ]
  },
  {
   "cell_type": "markdown",
   "metadata": {},
   "source": [
    "<p>Let’s look at the <code>FakeDatabase</code> with a <code>Lock</code> added to it. The calling function stays the same:</p>"
   ]
  },
  {
   "cell_type": "code",
   "execution_count": null,
   "metadata": {},
   "outputs": [],
   "source": [
    "class FakeDatabase:\n",
    "    def __init__(self):\n",
    "        self.value = 0\n",
    "        self._lock = threading.Lock()\n",
    "\n",
    "    def locked_update(self, name):\n",
    "        logging.info(\"Thread %s: starting update\", name)\n",
    "        logging.debug(\"Thread %s about to lock\", name)\n",
    "        with self._lock:\n",
    "            logging.debug(\"Thread %s has lock\", name)\n",
    "            local_copy = self.value\n",
    "            local_copy += 1\n",
    "            time.sleep(0.1)\n",
    "            self.value = local_copy\n",
    "            logging.debug(\"Thread %s about to release lock\", name)\n",
    "        logging.debug(\"Thread %s after release\", name)\n",
    "        logging.info(\"Thread %s: finishing update\", name)"
   ]
  },
  {
   "cell_type": "markdown",
   "metadata": {},
   "source": [
    "<p>Other than adding a bunch of debug logging so you can see the locking more clearly, the big change here is to add a member called <code>._lock</code>, which is a <code>threading.Lock()</code> object. This <code>._lock</code> is initialized in the unlocked state and locked and released by the <code>with</code> statement.</p>"
   ]
  },
  {
   "cell_type": "markdown",
   "metadata": {},
   "source": [
    "<p>It’s worth noting here that the thread running this function will hold on to that <code>Lock</code> until it is completely finished updating the database. In this case, that means it will hold the <code>Lock</code> while it copies, updates, sleeps, and then writes the value back to the database.</p>"
   ]
  },
  {
   "cell_type": "markdown",
   "metadata": {},
   "source": [
    "<p>If you run this version with logging set to warning level, you’ll see this:</p>"
   ]
  },
  {
   "cell_type": "markdown",
   "metadata": {},
   "source": [
    "```sh\n",
    "$ ./fixrace.py\n",
    "Testing locked update. Starting value is 0.\n",
    "Thread 0: starting update\n",
    "Thread 1: starting update\n",
    "Thread 0: finishing update\n",
    "Thread 1: finishing update\n",
    "Testing locked update. Ending value is 2.\n",
    "```"
   ]
  },
  {
   "cell_type": "markdown",
   "metadata": {},
   "source": [
    "<p>Look at that. Your program finally works!</p>"
   ]
  },
  {
   "cell_type": "markdown",
   "metadata": {},
   "source": [
    "<p>You can turn on full logging by setting the level to <code>DEBUG</code> by adding this statement after you configure the logging output in <code>__main__</code>:</p>"
   ]
  },
  {
   "cell_type": "code",
   "execution_count": null,
   "metadata": {},
   "outputs": [],
   "source": [
    "logging.getLogger().setLevel(logging.DEBUG)"
   ]
  },
  {
   "cell_type": "markdown",
   "metadata": {},
   "source": [
    "<p>Running this program with <code>DEBUG</code> logging turned on looks like this:</p>"
   ]
  },
  {
   "cell_type": "markdown",
   "metadata": {},
   "source": [
    "```sh\n",
    "$ ./fixrace.py\n",
    "Testing locked update. Starting value is 0.\n",
    "Thread 0: starting update\n",
    "Thread 0 about to lock\n",
    "Thread 0 has lock\n",
    "Thread 1: starting update\n",
    "Thread 1 about to lock\n",
    "Thread 0 about to release lock\n",
    "Thread 0 after release\n",
    "Thread 0: finishing update\n",
    "Thread 1 has lock\n",
    "Thread 1 about to release lock\n",
    "Thread 1 after release\n",
    "Thread 1: finishing update\n",
    "Testing locked update. Ending value is 2.\n",
    "```"
   ]
  },
  {
   "cell_type": "markdown",
   "metadata": {},
   "source": [
    "<p>In this output you can see <code>Thread 0</code> acquires the lock and is still holding it when it goes to sleep. <code>Thread 1</code> then starts and attempts to acquire the same lock. Because <code>Thread 0</code> is still holding it, <code>Thread 1</code> has to wait. This is the mutual exclusion that a <code>Lock</code> provides.</p>"
   ]
  },
  {
   "cell_type": "markdown",
   "metadata": {},
   "source": [
    "<p>Many of the examples in the rest of this article will have <code>WARNING</code> and <code>DEBUG</code> level logging. We’ll generally only show the <code>WARNING</code> level output, as the <code>DEBUG</code> logs can be quite lengthy. Try out the programs with the logging turned up and see what they do.</p>"
   ]
  },
  {
   "cell_type": "markdown",
   "metadata": {},
   "source": [
    "<a class=\"anchor\" id=\"deadlock\"></a>\n",
    "## Deadlock [<img src=\"../../images/logos/back_to_top.png\" width=\"22\" align= \"center\"/>](#table_of_contents)"
   ]
  },
  {
   "cell_type": "markdown",
   "metadata": {},
   "source": [
    "<p>Before you move on, you should look at a common problem when using <code>Locks</code>. As you saw, if the <code>Lock</code> has already been acquired, a second call to <code>.acquire()</code> will wait until the thread that is holding the <code>Lock</code> calls <code>.release()</code>. What do you think happens when you run this code:</p>"
   ]
  },
  {
   "cell_type": "code",
   "execution_count": null,
   "metadata": {},
   "outputs": [],
   "source": [
    "import threading\n",
    "\n",
    "l = threading.Lock()\n",
    "print(\"before first acquire\")\n",
    "l.acquire()\n",
    "print(\"before second acquire\")\n",
    "l.acquire()\n",
    "print(\"acquired lock twice\")"
   ]
  },
  {
   "cell_type": "markdown",
   "metadata": {},
   "source": [
    "<p>When the program calls <code>l.acquire()</code> the second time, it hangs waiting for the <code>Lock</code> to be released. In this example, you can fix the deadlock by removing the second call, but deadlocks usually happen from one of two subtle things:</p>"
   ]
  },
  {
   "cell_type": "markdown",
   "metadata": {},
   "source": [
    "1. An implementation bug where a <code>Lock</code> is not released properly\n",
    "2. A design issue where a utility function needs to be called by functions that might or might not already have the <code>Lock</code>\n"
   ]
  },
  {
   "cell_type": "markdown",
   "metadata": {},
   "source": [
    "<p>The first situation happens sometimes, but using a <code>Lock</code> as a context manager greatly reduces how often. It is recommended to write code whenever possible to make use of context managers, as they help to avoid situations where an exception skips you over the <code>.release()</code> call.</p>"
   ]
  },
  {
   "cell_type": "markdown",
   "metadata": {},
   "source": [
    "<p>The design issue can be a bit trickier in some languages. Thankfully, Python threading has a second object, called <code>RLock</code>, that is designed for just this situation. It allows a thread to <code>.acquire()</code> an <code>RLock</code> multiple times before it calls <code>.release()</code>. That thread is still required to call <code>.release()</code> the same number of times it called <code>.acquire()</code>, but it should be doing that anyway.</p>"
   ]
  },
  {
   "cell_type": "markdown",
   "metadata": {},
   "source": [
    "<p><code>Lock</code> and <code>RLock</code> are two of the basic tools used in threaded programming to prevent race conditions. There are a few other that work in different ways. Before you look at them, let’s shift to a slightly different problem domain.</p>"
   ]
  },
  {
   "cell_type": "markdown",
   "metadata": {},
   "source": [
    "<a class=\"anchor\" id=\"threading_objects\"></a>\n",
    "## Threading Objects [<img src=\"../../images/logos/back_to_top.png\" width=\"22\" align= \"center\"/>](#table_of_contents)"
   ]
  },
  {
   "cell_type": "markdown",
   "metadata": {},
   "source": [
    "<p>There are a few more primitives offered by the Python <code>threading</code> module. While you didn’t need these for the examples above, they can come in handy in different use cases, so it’s good to be familiar with them.</p>"
   ]
  },
  {
   "cell_type": "markdown",
   "metadata": {},
   "source": [
    "<a class=\"anchor\" id=\"semaphore\"></a>\n",
    "### Semaphore [<img src=\"../../images/logos/back_to_top.png\" width=\"22\" align= \"center\"/>](#table_of_contents)"
   ]
  },
  {
   "cell_type": "markdown",
   "metadata": {},
   "source": [
    "<p>The first Python <code>threading</code> object to look at is <code>threading.Semaphore</code>. A <code>Semaphore</code> is a counter with a few special properties. The first one is that the counting is atomic. This means that there is a guarantee that the operating system will not swap out the thread in the middle of incrementing or decrementing the counter.</p>"
   ]
  },
  {
   "cell_type": "markdown",
   "metadata": {},
   "source": [
    "<p>The internal counter is incremented when you call <code>.release()</code> and decremented when you call <code>.acquire()</code>.</p>"
   ]
  },
  {
   "cell_type": "markdown",
   "metadata": {},
   "source": [
    "<p>The next special property is that if a thread calls <code>.acquire()</code> when the counter is zero, that thread will block until a different thread calls <code>.release()</code> and increments the counter to one.</p>"
   ]
  },
  {
   "cell_type": "markdown",
   "metadata": {},
   "source": [
    "<p>Semaphores are frequently used to protect a resource that has a limited capacity. An example would be if you have a pool of connections and want to limit the size of that pool to a specific number.</p>"
   ]
  },
  {
   "cell_type": "markdown",
   "metadata": {},
   "source": [
    "<a class=\"anchor\" id=\"timer\"></a>\n",
    "### Timer [<img src=\"../../images/logos/back_to_top.png\" width=\"22\" align= \"center\"/>](#table_of_contents)"
   ]
  },
  {
   "cell_type": "markdown",
   "metadata": {},
   "source": [
    "<p>A <code>threading.Timer</code> is a way to schedule a function to be called after a certain amount of time has passed. You create a <code>Timer</code> by passing in a number of seconds to wait and a function to call:</p>"
   ]
  },
  {
   "cell_type": "code",
   "execution_count": null,
   "metadata": {},
   "outputs": [],
   "source": [
    "t = threading.Timer(30.0, my_function)"
   ]
  },
  {
   "cell_type": "markdown",
   "metadata": {},
   "source": [
    "<p>You start the <code>Timer</code> by calling <code>.start()</code>. The function will be called on a new thread at some point after the specified time, but be aware that there is no promise that it will be called exactly at the time you want.</p>"
   ]
  },
  {
   "cell_type": "markdown",
   "metadata": {},
   "source": [
    "<p>If you want to stop a <code>Timer</code> that you’ve already started, you can cancel it by calling <code>.cancel()</code>. Calling <code>.cancel()</code> after the <code>Timer</code> has triggered does nothing and does not produce an exception.</p>"
   ]
  },
  {
   "cell_type": "markdown",
   "metadata": {},
   "source": [
    "<p>A <code>Timer</code> can be used to prompt a user for action after a specific amount of time. If the user does the action before the <code>Timer</code> expires, <code>.cancel()</code> can be called.</p>"
   ]
  },
  {
   "cell_type": "markdown",
   "metadata": {},
   "source": [
    "<a class=\"anchor\" id=\"barrier\"></a>\n",
    "### Barrier [<img src=\"../../images/logos/back_to_top.png\" width=\"22\" align= \"center\"/>](#table_of_contents)"
   ]
  },
  {
   "cell_type": "markdown",
   "metadata": {},
   "source": [
    "<p>A <code>threading.Barrier</code> can be used to keep a fixed number of threads in sync. When creating a <code>Barrier</code>, the caller must specify how many threads will be synchronizing on it. Each thread calls <code>.wait()</code> on the <code>Barrier</code>. They all will remain blocked until the specified number of threads are waiting, and then the are all released at the same time.</p>"
   ]
  },
  {
   "cell_type": "markdown",
   "metadata": {},
   "source": [
    "<p>Remember that threads are scheduled by the operating system so, even though all of the threads are released simultaneously, they will be scheduled to run one at a time.</p>"
   ]
  },
  {
   "cell_type": "markdown",
   "metadata": {},
   "source": [
    "<p>One use for a <code>Barrier</code> is to allow a pool of threads to initialize themselves. Having the threads wait on a <code>Barrier</code> after they are initialized will ensure that none of the threads start running before all of the threads are finished with their initialization.</p>"
   ]
  },
  {
   "cell_type": "markdown",
   "metadata": {},
   "source": [
    "<a class=\"anchor\" id=\"conclusion:_threading_in_python\"></a>\n",
    "## Conclusion: Threading in Python [<img src=\"../../images/logos/back_to_top.png\" width=\"22\" align= \"center\"/>](#table_of_contents)"
   ]
  },
  {
   "cell_type": "markdown",
   "metadata": {},
   "source": [
    "<p>You’ve now seen much of what Python <code>threading</code> has to offer and some examples of how to build threaded programs and the problems they solve. You’ve also seen a few instances of the problems that arise when writing and debugging threaded programs.</p>"
   ]
  },
  {
   "cell_type": "markdown",
   "metadata": {},
   "source": [
    "<p>If you’d like to explore other options for concurrency in Python, check out <a href=\"https://realpython.com/python-concurrency/\">Speed Up Your Python Program With Concurrency</a>.</p>"
   ]
  },
  {
   "cell_type": "markdown",
   "metadata": {},
   "source": [
    "<p>If you’re interested in doing a deep dive on the <code>asyncio</code> module, go read <a href=\"https://realpython.com/async-io-python/\">Async IO in Python: A Complete Walkthrough</a>.</p>"
   ]
  },
  {
   "cell_type": "markdown",
   "metadata": {},
   "source": [
    "<p>Whatever you do, you now have the information and confidence you need to write programs using Python threading!</p>"
   ]
  },
  {
   "cell_type": "markdown",
   "metadata": {},
   "source": [
    "<p><em>Special thanks to reader JL Diaz for helping to clean up the introduction.</em></p>"
   ]
  }
 ],
 "metadata": {
  "kernelspec": {
   "display_name": "Python 3",
   "language": "python",
   "name": "python3"
  },
  "language_info": {
   "codemirror_mode": {
    "name": "ipython",
    "version": 3
   },
   "file_extension": ".py",
   "mimetype": "text/x-python",
   "name": "python",
   "nbconvert_exporter": "python",
   "pygments_lexer": "ipython3",
   "version": "3.7.6"
  }
 },
 "nbformat": 4,
 "nbformat_minor": 5
}
