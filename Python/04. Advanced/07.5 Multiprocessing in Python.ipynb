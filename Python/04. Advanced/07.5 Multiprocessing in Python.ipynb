{
 "cells": [
  {
   "cell_type": "markdown",
   "id": "887c282e",
   "metadata": {},
   "source": [
    "<img src=\"../../images/banners/python-advanced.png\" width=\"600\"/>"
   ]
  },
  {
   "cell_type": "markdown",
   "id": "7f11ad8c",
   "metadata": {},
   "source": [
    "# <img src=\"../../images/logos/python.png\" width=\"23\"/> Multiprocessing\n"
   ]
  },
  {
   "cell_type": "markdown",
   "id": "465d6032",
   "metadata": {},
   "source": [
    "## <img src=\"../../images/logos/toc.png\" width=\"20\"/> Table of Contents \n",
    "* [`multiprocessing` in a Nutshell](#`multiprocessing`_in_a_nutshell)\n",
    "    * [`multiprocessing` Code](#`multiprocessing`_code)\n",
    "    * [Why the `multiprocessing` Version Rocks](#why_the_`multiprocessing`_version_rocks)\n",
    "    * [The Problems With the `multiprocessing` Version](#the_problems_with_the_`multiprocessing`_version)\n",
    "* [How to Speed Up a CPU-Bound Program](#how_to_speed_up_a_cpu-bound_program)\n",
    "    * [CPU-Bound Synchronous Version](#cpu-bound_synchronous_version)\n",
    "    * [Threading and asyncio Versions](#threading_and_asyncio_versions)\n",
    "    * [CPU-Bound multiprocessing Version](#cpu-bound_multiprocessing_version)\n",
    "    * [Why the `multiprocessing` Version Rocks](#why_the_`multiprocessing`_version_rocks)\n",
    "    * [The Problems With the `multiprocessing` Version](#the_problems_with_the_`multiprocessing`_version)\n",
    "* [When to Use Concurrency](#when_to_use_concurrency)\n",
    "* [Conclusion](#conclusion)\n",
    "\n",
    "---"
   ]
  },
  {
   "cell_type": "markdown",
   "id": "cafa4ab0",
   "metadata": {},
   "source": [
    "Unlike the previous approaches to downloading sites in parallel, the `multiprocessing` version of the code takes full advantage of the multiple CPUs that your cool, new computer has. Or, in my case, that my clunky, old laptop has. Let’s start with the code:\n",
    "\n"
   ]
  },
  {
   "cell_type": "code",
   "execution_count": null,
   "id": "30e3566d",
   "metadata": {},
   "outputs": [],
   "source": [
    "import requests\n",
    "import multiprocessing\n",
    "import time\n",
    "\n",
    "session = None"
   ]
  },
  {
   "cell_type": "code",
   "execution_count": null,
   "id": "475ff1a3",
   "metadata": {},
   "outputs": [],
   "source": [
    "def set_global_session():\n",
    "    global session\n",
    "    if not session:\n",
    "        session = requests.Session()"
   ]
  },
  {
   "cell_type": "code",
   "execution_count": null,
   "id": "3f384541",
   "metadata": {},
   "outputs": [],
   "source": [
    "def download_site(url):\n",
    "    with session.get(url) as response:\n",
    "        name = multiprocessing.current_process().name\n",
    "        print(f\"{name}:Read {len(response.content)} from {url}\")"
   ]
  },
  {
   "cell_type": "code",
   "execution_count": null,
   "id": "adbd0d63",
   "metadata": {},
   "outputs": [],
   "source": [
    "def download_all_sites(sites):\n",
    "    with multiprocessing.Pool(initializer=set_global_session) as pool:\n",
    "        pool.map(download_site, sites)"
   ]
  },
  {
   "cell_type": "code",
   "execution_count": null,
   "id": "bab44f26",
   "metadata": {},
   "outputs": [],
   "source": [
    "sites = [\n",
    "    \"https://www.jython.org\",\n",
    "    \"http://olympus.realpython.org/dice\",\n",
    "] * 80\n",
    "start_time = time.time()\n",
    "download_all_sites(sites)\n",
    "duration = time.time() - start_time\n",
    "print(f\"Downloaded {len(sites)} in {duration} seconds\")"
   ]
  },
  {
   "cell_type": "markdown",
   "id": "439099d2",
   "metadata": {},
   "source": [
    "This is much shorter than the `asyncio` example and actually looks quite similar to the `threading` example, but before we dive into the code, let’s take a quick tour of what `multiprocessing` does for you.\n",
    "\n"
   ]
  },
  {
   "cell_type": "markdown",
   "id": "dbe20d45",
   "metadata": {},
   "source": [
    "<a class=\"anchor\" id=\"`multiprocessing`_in_a_nutshell\"></a>\n",
    "\n",
    "## `multiprocessing` in a Nutshell"
   ]
  },
  {
   "cell_type": "markdown",
   "id": "4686c184",
   "metadata": {},
   "source": [
    "Up until this point, all of the examples of concurrency in this article run only on a single CPU or core in your computer. The reasons for this have to do with the current design of CPython and something called the Global Interpreter Lock, or GIL.\n",
    "\n"
   ]
  },
  {
   "cell_type": "markdown",
   "id": "bf6fc04a",
   "metadata": {},
   "source": [
    "This article won’t dive into the hows and whys of the [GIL](https://realpython.com/python-gil/). It’s enough for now to know that the synchronous, `threading`, and `asyncio` versions of this example all run on a single CPU.\n",
    "\n"
   ]
  },
  {
   "cell_type": "markdown",
   "id": "1fb0ccdb",
   "metadata": {},
   "source": [
    "`multiprocessing` in the standard library was designed to break down that barrier and run your code across multiple CPUs. At a high level, it does this by creating a new instance of the Python interpreter to run on each CPU and then farming out part of your program to run on it.\n",
    "\n"
   ]
  },
  {
   "cell_type": "markdown",
   "id": "8644862f",
   "metadata": {},
   "source": [
    "As you can imagine, bringing up a separate Python interpreter is not as fast as starting a new thread in the current Python interpreter. It’s a heavyweight operation and comes with some restrictions and difficulties, but for the correct problem, it can make a huge difference.\n",
    "\n"
   ]
  },
  {
   "cell_type": "markdown",
   "id": "555a447e",
   "metadata": {},
   "source": [
    "<a class=\"anchor\" id=\"`multiprocessing`_code\"></a>\n",
    "\n",
    "### `multiprocessing` Code"
   ]
  },
  {
   "cell_type": "markdown",
   "id": "38d9ee26",
   "metadata": {},
   "source": [
    "The code has a few small changes from our synchronous version. The first one is in `download\\_all\\_sites()`. Instead of simply calling `download\\_site()` repeatedly, it creates a `multiprocessing.Pool` object and has it map `download\\_site` to the iterable `sites`. This should look familiar from the `threading` example.\n",
    "\n"
   ]
  },
  {
   "cell_type": "markdown",
   "id": "5c24a688",
   "metadata": {},
   "source": [
    "What happens here is that the `Pool` creates a number of separate Python interpreter processes and has each one run the specified function on some of the items in the iterable, which in our case is the list of sites. The communication between the main process and the other processes is handled by the `multiprocessing` module for you.\n",
    "\n"
   ]
  },
  {
   "cell_type": "markdown",
   "id": "3a5bd29e",
   "metadata": {},
   "source": [
    "The line that creates `Pool` is worth your attention. First off, it does not specify how many processes to create in the `Pool`, although that is an optional parameter. By default, `multiprocessing.Pool()` will determine the number of CPUs in your computer and match that. This is frequently the best answer, and it is in our case.\n",
    "\n"
   ]
  },
  {
   "cell_type": "markdown",
   "id": "1e69f6ef",
   "metadata": {},
   "source": [
    "For this problem, increasing the number of processes did not make things faster. It actually slowed things down because the cost for setting up and tearing down all those processes was larger than the benefit of doing the I/O requests in parallel.\n",
    "\n"
   ]
  },
  {
   "cell_type": "markdown",
   "id": "ff20b275",
   "metadata": {},
   "source": [
    "Next we have the `initializer=set\\_global\\_session` part of that call. Remember that each process in our `Pool` has its own memory space. That means that they cannot share things like a `Session` object. You don’t want to create a new `Session` each time the function is called, you want to create one for each process.\n",
    "\n"
   ]
  },
  {
   "cell_type": "markdown",
   "id": "43c800fa",
   "metadata": {},
   "source": [
    "The `initializer` function parameter is built for just this case. There is not a way to pass a return value back from the `initializer` to the function called by the process `download\\_site()`, but you can initialize a global `session` variable to hold the single session for each process. Because each process has its own memory space, the global for each one will be different.\n",
    "\n"
   ]
  },
  {
   "cell_type": "markdown",
   "id": "32a307ff",
   "metadata": {},
   "source": [
    "That’s really all there is to it. The rest of the code is quite similar to what you’ve seen before.\n",
    "\n"
   ]
  },
  {
   "cell_type": "markdown",
   "id": "041b78ff",
   "metadata": {},
   "source": [
    "<a class=\"anchor\" id=\"why_the_`multiprocessing`_version_rocks\"></a>\n",
    "\n",
    "### Why the `multiprocessing` Version Rocks"
   ]
  },
  {
   "cell_type": "markdown",
   "id": "00bbc149",
   "metadata": {},
   "source": [
    "The `multiprocessing` version of this example is great because it’s relatively easy to set up and requires little extra code. It also takes full advantage of the CPU power in your computer. The execution timing diagram for this code looks like this:\n",
    "\n"
   ]
  },
  {
   "cell_type": "markdown",
   "id": "145d260b",
   "metadata": {},
   "source": [
    "<img src=\"images/speed-up-your-python-program-with-concurrency/MProc.7cf3be371bbc.png\" width=\"600px\">"
   ]
  },
  {
   "cell_type": "markdown",
   "id": "f5fafa79",
   "metadata": {},
   "source": [
    "<a class=\"anchor\" id=\"the_problems_with_the_`multiprocessing`_version\"></a>\n",
    "\n",
    "### The Problems With the `multiprocessing` Version"
   ]
  },
  {
   "cell_type": "markdown",
   "id": "a846fda1",
   "metadata": {},
   "source": [
    "This version of the example does require some extra setup, and the global `session` object is strange. You have to spend some time thinking about which variables will be accessed in each process.\n",
    "\n"
   ]
  },
  {
   "cell_type": "markdown",
   "id": "a5307398",
   "metadata": {},
   "source": [
    "Finally, it is clearly slower than the `asyncio` and `threading` versions in this example:\n",
    "\n"
   ]
  },
  {
   "cell_type": "markdown",
   "id": "842c348c",
   "metadata": {},
   "source": [
    "```sh\n",
    "$ ./io\\\\_mp.py\n",
    " [most output skipped]\n",
    "Downloaded 160 in 5.718175172805786 seconds\n",
    "```"
   ]
  },
  {
   "cell_type": "markdown",
   "id": "62efe05f",
   "metadata": {},
   "source": [
    "That’s not surprising, as I/O-bound problems are not really why `multiprocessing` exists. You’ll see more as you step into the next section and look at CPU-bound examples.\n",
    "\n"
   ]
  },
  {
   "cell_type": "markdown",
   "id": "88737260",
   "metadata": {},
   "source": [
    "<a class=\"anchor\" id=\"how_to_speed_up_a_cpu-bound_program\"></a>\n",
    "\n",
    "## How to Speed Up a CPU-Bound Program"
   ]
  },
  {
   "cell_type": "markdown",
   "id": "037ee2c1",
   "metadata": {},
   "source": [
    "Let’s shift gears here a little bit. The examples so far have all dealt with an I/O-bound problem. Now, you’ll look into a CPU-bound problem. As you saw, an I/O-bound problem spends most of its time waiting for external operations, like a network call, to complete. A CPU-bound problem, on the other hand, does few I/O operations, and its overall execution time is a factor of how fast it can process the required data.\n",
    "\n"
   ]
  },
  {
   "cell_type": "markdown",
   "id": "b0859596",
   "metadata": {},
   "source": [
    "For the purposes of our example, we’ll use a somewhat silly function to create something that takes a long time to run on the CPU. This function computes the sum of the squares of each number from 0 to the passed-in value:\n",
    "\n"
   ]
  },
  {
   "cell_type": "code",
   "execution_count": null,
   "id": "747bd747",
   "metadata": {},
   "outputs": [],
   "source": [
    "def cpu_bound(number):\n",
    "    return sum(i * i for i in range(number))"
   ]
  },
  {
   "cell_type": "markdown",
   "id": "14441ce8",
   "metadata": {},
   "source": [
    "You’ll be passing in large [numbers](https://realpython.com/python-numbers/), so this will take a while. Remember, this is just a placeholder for your code that actually does something useful and requires significant processing time, like computing the roots of equations or [sorting](https://realpython.com/sorting-algorithms-python/) a large data structure.\n",
    "\n"
   ]
  },
  {
   "cell_type": "markdown",
   "id": "683427d2",
   "metadata": {},
   "source": [
    "<a class=\"anchor\" id=\"cpu-bound_synchronous_version\"></a>\n",
    "\n",
    "### CPU-Bound Synchronous Version"
   ]
  },
  {
   "cell_type": "markdown",
   "id": "b07c23b1",
   "metadata": {},
   "source": [
    "Now let’s look at the non-concurrent version of the example:\n",
    "\n"
   ]
  },
  {
   "cell_type": "code",
   "execution_count": null,
   "id": "a63799ad",
   "metadata": {},
   "outputs": [],
   "source": [
    "import time"
   ]
  },
  {
   "cell_type": "code",
   "execution_count": null,
   "id": "8a679ade",
   "metadata": {},
   "outputs": [],
   "source": [
    "def cpu_bound(number):\n",
    "    return sum(i * i for i in range(number))"
   ]
  },
  {
   "cell_type": "code",
   "execution_count": null,
   "id": "16b2aea7",
   "metadata": {},
   "outputs": [],
   "source": [
    "def find_sums(numbers):\n",
    "    for number in numbers:\n",
    "        cpu_bound(number)"
   ]
  },
  {
   "cell_type": "code",
   "execution_count": null,
   "id": "de082dce",
   "metadata": {},
   "outputs": [],
   "source": [
    "numbers = [5_000_000 + x for x in range(20)]\n",
    "\n",
    "start_time = time.time()\n",
    "find_sums(numbers)\n",
    "duration = time.time() - start_time\n",
    "print(f\"Duration {duration} seconds\")"
   ]
  },
  {
   "cell_type": "markdown",
   "id": "112de048",
   "metadata": {},
   "source": [
    "This code calls `cpu\\_bound()` 20 times with a different large number each time. It does all of this on a single thread in a single process on a single CPU. The execution timing diagram looks like this:\n",
    "\n"
   ]
  },
  {
   "cell_type": "markdown",
   "id": "35ee27d7",
   "metadata": {},
   "source": [
    "<img src=\"images/speed-up-your-python-program-with-concurrency/CPUBound.d2d32cb2626c.png\" width=\"600px\">"
   ]
  },
  {
   "cell_type": "markdown",
   "id": "80b7478b",
   "metadata": {},
   "source": [
    "Unlike the I/O-bound examples, the CPU-bound examples are usually fairly consistent in their run times. This one takes about 7.8 seconds on my machine:\n",
    "\n"
   ]
  },
  {
   "cell_type": "markdown",
   "id": "86209921",
   "metadata": {},
   "source": [
    "```sh\n",
    "$ ./cpu\\\\_non\\\\_concurrent.py\n",
    "Duration 7.834432125091553 seconds\n",
    "```"
   ]
  },
  {
   "cell_type": "markdown",
   "id": "006ad5c2",
   "metadata": {},
   "source": [
    "Clearly we can do better than this. This is all running on a single CPU with no concurrency. Let’s see what we can do to make it better.\n",
    "\n"
   ]
  },
  {
   "cell_type": "markdown",
   "id": "5bb274f1",
   "metadata": {},
   "source": [
    "<a class=\"anchor\" id=\"threading_and_asyncio_versions\"></a>\n",
    "\n",
    "### Threading and asyncio Versions"
   ]
  },
  {
   "cell_type": "markdown",
   "id": "3a765f75",
   "metadata": {},
   "source": [
    "How much do you think rewriting this code using `threading` or `asyncio` will speed this up?\n",
    "\n"
   ]
  },
  {
   "cell_type": "markdown",
   "id": "233d3b9e",
   "metadata": {},
   "source": [
    "If you answered “Not at all,” give yourself a cookie. If you answered, “It will slow it down,” give yourself two cookies.\n",
    "\n"
   ]
  },
  {
   "cell_type": "markdown",
   "id": "a40401b5",
   "metadata": {},
   "source": [
    "Here’s why: In your I/O-bound example above, much of the overall time was spent waiting for slow operations to finish. `threading` and `asyncio` sped this up by allowing you to overlap the times you were waiting instead of doing them sequentially.\n",
    "\n"
   ]
  },
  {
   "cell_type": "markdown",
   "id": "6689982d",
   "metadata": {},
   "source": [
    "On a CPU-bound problem, however, there is no waiting. The CPU is cranking away as fast as it can to finish the problem. In Python, both threads and tasks run on the same CPU in the same process. That means that the one CPU is doing all of the work of the non-concurrent code plus the extra work of setting up threads or tasks. It takes more than 10 seconds:\n",
    "\n"
   ]
  },
  {
   "cell_type": "markdown",
   "id": "47fdfda9",
   "metadata": {},
   "source": [
    "```sh\n",
    "$ ./cpu\\\\_threading.py\n",
    "Duration 10.407078266143799 seconds\n",
    "```"
   ]
  },
  {
   "cell_type": "markdown",
   "id": "bc6a6254",
   "metadata": {},
   "source": [
    "I’ve written up a `threading` version of this code and placed it with the other example code in the [GitHub repo](https://github.com/realpython/materials/tree/master/concurrency-overview) so you can go test this yourself. Let’s not look at that just yet, however.\n",
    "\n"
   ]
  },
  {
   "cell_type": "markdown",
   "id": "dcc375e3",
   "metadata": {},
   "source": [
    "<a class=\"anchor\" id=\"cpu-bound_multiprocessing_version\"></a>\n",
    "\n",
    "### CPU-Bound multiprocessing Version"
   ]
  },
  {
   "cell_type": "markdown",
   "id": "ecd5fab3",
   "metadata": {},
   "source": [
    "Now you’ve finally reached where `multiprocessing` really shines. Unlike the other concurrency libraries, `multiprocessing` is explicitly designed to share heavy CPU workloads across multiple CPUs. Here’s what its execution timing diagram looks like:\n",
    "\n"
   ]
  },
  {
   "cell_type": "markdown",
   "id": "44dedd90",
   "metadata": {},
   "source": [
    "<img src=\"images/speed-up-your-python-program-with-concurrency/CPUMP.69c1a7fad9c4.png\" width=\"600px\">"
   ]
  },
  {
   "cell_type": "markdown",
   "id": "1973bcba",
   "metadata": {},
   "source": [
    "Here’s what the code looks like:\n",
    "\n"
   ]
  },
  {
   "cell_type": "code",
   "execution_count": null,
   "id": "5bc80625",
   "metadata": {},
   "outputs": [],
   "source": [
    "import multiprocessing\n",
    "import time"
   ]
  },
  {
   "cell_type": "code",
   "execution_count": null,
   "id": "84d785f4",
   "metadata": {},
   "outputs": [],
   "source": [
    "def cpu_bound(number):\n",
    "    return sum(i * i for i in range(number))"
   ]
  },
  {
   "cell_type": "code",
   "execution_count": null,
   "id": "1814ca3d",
   "metadata": {},
   "outputs": [],
   "source": [
    "def find_sums(numbers):\n",
    "    with multiprocessing.Pool() as pool:\n",
    "        pool.map(cpu_bound, numbers)"
   ]
  },
  {
   "cell_type": "code",
   "execution_count": null,
   "id": "c6585b0d",
   "metadata": {},
   "outputs": [],
   "source": [
    "numbers = [5_000_000 + x for x in range(20)]\n",
    "\n",
    "start_time = time.time()\n",
    "find_sums(numbers)\n",
    "duration = time.time() - start_time\n",
    "print(f\"Duration {duration} seconds\")"
   ]
  },
  {
   "cell_type": "markdown",
   "id": "838e1132",
   "metadata": {},
   "source": [
    "Little of this code had to change from the non-concurrent version. You had to `import multiprocessing` and then just change from looping through the numbers to creating a `multiprocessing.Pool` object and using its `.map()` method to send individual numbers to worker-processes as they become free.\n",
    "\n"
   ]
  },
  {
   "cell_type": "markdown",
   "id": "cdc0b238",
   "metadata": {},
   "source": [
    "This was just what you did for the I/O-bound `multiprocessing` code, but here you don’t need to worry about the `Session` object.\n",
    "\n"
   ]
  },
  {
   "cell_type": "markdown",
   "id": "5c37577b",
   "metadata": {},
   "source": [
    "As mentioned above, the `processes` optional parameter to the `multiprocessing.Pool()` constructor deserves some attention. You can specify how many `Process` objects you want created and managed in the `Pool`. By default, it will determine how many CPUs are in your machine and create a process for each one. While this works great for our simple example, you might want to have a little more control in a production environment.\n",
    "\n"
   ]
  },
  {
   "cell_type": "markdown",
   "id": "c0ef9c9a",
   "metadata": {},
   "source": [
    "Also, as we mentioned in the first section about `threading`, the `multiprocessing.Pool` code is built upon building blocks like `Queue` and `Semaphore` that will be familiar to those of you who have done multithreaded and multiprocessing code in other languages.\n",
    "\n"
   ]
  },
  {
   "cell_type": "markdown",
   "id": "ae6cdf41",
   "metadata": {},
   "source": [
    "<a class=\"anchor\" id=\"why_the_`multiprocessing`_version_rocks\"></a>\n",
    "\n",
    "### Why the `multiprocessing` Version Rocks"
   ]
  },
  {
   "cell_type": "markdown",
   "id": "61f12b60",
   "metadata": {},
   "source": [
    "The `multiprocessing` version of this example is great because it’s relatively easy to set up and requires little extra code. It also takes full advantage of the CPU power in your computer.\n",
    "\n"
   ]
  },
  {
   "cell_type": "markdown",
   "id": "b3a3d3b1",
   "metadata": {},
   "source": [
    "Hey, that’s exactly what I said the last time we looked at `multiprocessing`. The big difference is that this time it is clearly the best option. It takes 2.5 seconds on my machine:\n",
    "\n"
   ]
  },
  {
   "cell_type": "markdown",
   "id": "6807a525",
   "metadata": {},
   "source": [
    "```sh\n",
    "$ ./cpu\\\\_mp.py\n",
    "Duration 2.5175397396087646 seconds\n",
    "```"
   ]
  },
  {
   "cell_type": "markdown",
   "id": "c8fe8c6b",
   "metadata": {},
   "source": [
    "That’s much better than we saw with the other options.\n",
    "\n"
   ]
  },
  {
   "cell_type": "markdown",
   "id": "8d9188ce",
   "metadata": {},
   "source": [
    "<a class=\"anchor\" id=\"the_problems_with_the_`multiprocessing`_version\"></a>\n",
    "\n",
    "### The Problems With the `multiprocessing` Version"
   ]
  },
  {
   "cell_type": "markdown",
   "id": "4b235901",
   "metadata": {},
   "source": [
    "There are some drawbacks to using `multiprocessing`. They don’t really show up in this simple example, but splitting your problem up so each processor can work independently can sometimes be difficult.\n",
    "\n"
   ]
  },
  {
   "cell_type": "markdown",
   "id": "8eac0119",
   "metadata": {},
   "source": [
    "Also, many solutions require more communication between the processes. This can add some complexity to your solution that a non-concurrent program would not need to deal with.\n",
    "\n"
   ]
  },
  {
   "cell_type": "markdown",
   "id": "069f57ed",
   "metadata": {},
   "source": [
    "<a class=\"anchor\" id=\"when_to_use_concurrency\"></a>\n",
    "\n",
    "## When to Use Concurrency"
   ]
  },
  {
   "cell_type": "markdown",
   "id": "503f9f3e",
   "metadata": {},
   "source": [
    "You’ve covered a lot of ground here, so let’s review some of the key ideas and then discuss some decision points that will help you determine which, if any, concurrency module you want to use in your project.\n",
    "\n"
   ]
  },
  {
   "cell_type": "markdown",
   "id": "4bf508e4",
   "metadata": {},
   "source": [
    "The first step of this process is deciding if you *should* use a concurrency module. While the examples here make each of the libraries look pretty simple, concurrency always comes with extra complexity and can often result in bugs that are difficult to find.\n",
    "\n"
   ]
  },
  {
   "cell_type": "markdown",
   "id": "178253a1",
   "metadata": {},
   "source": [
    "Hold out on adding concurrency until you have a known performance issue and *then* determine which type of concurrency you need. As [Donald Knuth](https://en.wikipedia.org/wiki/Donald\\_Knuth) has said, “Premature optimization is the root of all evil (or at least most of it) in programming.”\n",
    "\n"
   ]
  },
  {
   "cell_type": "markdown",
   "id": "2d5ee57c",
   "metadata": {},
   "source": [
    "Once you’ve decided that you should optimize your program, figuring out if your program is CPU-bound or I/O-bound is a great next step. Remember that I/O-bound programs are those that spend most of their time waiting for something to happen while CPU-bound programs spend their time processing data or crunching numbers as fast as they can.\n",
    "\n"
   ]
  },
  {
   "cell_type": "markdown",
   "id": "dd5afd2b",
   "metadata": {},
   "source": [
    "As you saw, CPU-bound problems only really gain from using `multiprocessing`. `threading` and `asyncio` did not help this type of problem at all.\n",
    "\n"
   ]
  },
  {
   "cell_type": "markdown",
   "id": "a206f263",
   "metadata": {},
   "source": [
    "For I/O-bound problems, there’s a general rule of thumb in the Python community: “Use `asyncio` when you can, `threading` when you must.” `asyncio` can provide the best speed up for this type of program, but sometimes you will require critical libraries that have not been ported to take advantage of `asyncio`. Remember that any task that doesn’t give up control to the event loop will block all of the other tasks.\n",
    "\n"
   ]
  },
  {
   "cell_type": "markdown",
   "id": "63f41e7b",
   "metadata": {},
   "source": [
    "<a class=\"anchor\" id=\"conclusion\"></a>\n",
    "\n",
    "## Conclusion"
   ]
  },
  {
   "cell_type": "markdown",
   "id": "cc400c04",
   "metadata": {},
   "source": [
    "You’ve now seen the basic types of concurrency available in Python:\n",
    "\n"
   ]
  },
  {
   "cell_type": "markdown",
   "id": "f4feda04",
   "metadata": {},
   "source": [
    "- `threading`\n",
    "- `asyncio`\n",
    "- `multiprocessing`\n"
   ]
  },
  {
   "cell_type": "markdown",
   "id": "473bbe80",
   "metadata": {},
   "source": [
    "You’ve got the understanding to decide which concurrency method you should use for a given problem, or if you should use any at all! In addition, you’ve achieved a better understanding of some of the problems that can arise when you’re using concurrency.\n",
    "\n"
   ]
  },
  {
   "cell_type": "markdown",
   "id": "c9b788dd",
   "metadata": {},
   "source": [
    "I hope you’ve learned a lot from this article and that you find a great use for concurrency in your own projects! Be sure to take our “Python Concurrency” quiz linked below to check your learning:\n",
    "\n"
   ]
  }
 ],
 "metadata": {
  "kernelspec": {
   "display_name": "Python 3",
   "language": "python",
   "name": "python3"
  },
  "language_info": {
   "codemirror_mode": {
    "name": "ipython",
    "version": 3
   },
   "file_extension": ".py",
   "mimetype": "text/x-python",
   "name": "python",
   "nbconvert_exporter": "python",
   "pygments_lexer": "ipython3",
   "version": "3.8.11"
  }
 },
 "nbformat": 4,
 "nbformat_minor": 5
}
