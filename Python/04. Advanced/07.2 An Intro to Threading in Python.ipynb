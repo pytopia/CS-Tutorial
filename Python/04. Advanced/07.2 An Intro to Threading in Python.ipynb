{
 "cells": [
  {
   "cell_type": "markdown",
   "id": "8c02953a",
   "metadata": {},
   "source": [
    "<img src=\"../../images/banners/python-advanced.png\" width=\"600\"/>"
   ]
  },
  {
   "cell_type": "markdown",
   "id": "ea888ab5",
   "metadata": {},
   "source": [
    "# <img src=\"../../images/logos/python.png\" width=\"23\"/> An Intro to Threading in Python \n"
   ]
  },
  {
   "cell_type": "markdown",
   "id": "4bf8a86d",
   "metadata": {},
   "source": [
    "## <img src=\"../../images/logos/toc.png\" width=\"20\"/> Table of Contents \n",
    "* [Download Sites: Synchronous Version](#download_sites:_synchronous_version)\n",
    "* [What Is a Thread?](#what_is_a_thread?)\n",
    "* [Starting a Thread](#starting_a_thread)\n",
    "    * [Daemon Threads](#daemon_threads)\n",
    "    * [`join()` a Thread](#`join()`_a_thread)\n",
    "* [Working With Many Threads](#working_with_many_threads)\n",
    "* [Using a ThreadPoolExecutor](#using_a_threadpoolexecutor)\n",
    "* [Race Conditions](#race_conditions)\n",
    "    * [One Thread](#one_thread)\n",
    "    * [Two Threads](#two_threads)\n",
    "    * [Why This Isn’t a Silly Example](#why_this_isn’t_a_silly_example)\n",
    "        * [How Does This Really Work](#how_does_this_really_work)\n",
    "* [Basic Synchronization Using Lock](#basic_synchronization_using_lock)\n",
    "* [Deadlock](#deadlock)\n",
    "* [Threading Objects](#threading_objects)\n",
    "    * [Semaphore](#semaphore)\n",
    "    * [Timer](#timer)\n",
    "    * [Barrier](#barrier)\n",
    "* [Download Sites: Threading Version](#download_sites:_threading_version)\n",
    "* [Conclusion: Threading in Python](#conclusion:_threading_in_python)\n",
    "\n",
    "---"
   ]
  },
  {
   "cell_type": "markdown",
   "id": "ed90f4ab-22f6-49de-8edc-601cfb26cbf2",
   "metadata": {},
   "source": [
    "Let’s start by focusing on I/O-bound programs and a common problem: downloading content over the network. For our example, you will be downloading web pages from a few sites, but it really could be any network traffic. It’s just easier to visualize and set up with web pages.\n",
    "\n"
   ]
  },
  {
   "cell_type": "markdown",
   "id": "ad054c39-0c03-467f-8949-a0f430f586e7",
   "metadata": {},
   "source": [
    "<a class=\"anchor\" id=\"download_sites:_synchronous_version\"></a>\n",
    "\n",
    "## Download Sites: Synchronous Version"
   ]
  },
  {
   "cell_type": "markdown",
   "id": "9434e6d5-06a6-4ea8-ba33-46753f9555af",
   "metadata": {},
   "source": [
    "We’ll start with a non-concurrent version of this task. Note that this program requires the [`requests`](http://docs.python-requests.org/en/master/) module. You should run `pip install requests` before running it, probably using a [virtualenv](https://realpython.com/python-virtual-environments-a-primer/). This version does not use concurrency at all:\n",
    "\n"
   ]
  },
  {
   "cell_type": "code",
   "execution_count": null,
   "id": "8d79b1d7-e384-47b1-b4a5-789e5238e161",
   "metadata": {},
   "outputs": [],
   "source": [
    "import requests\n",
    "import time"
   ]
  },
  {
   "cell_type": "code",
   "execution_count": null,
   "id": "b6e1576b-a1b7-4182-90b1-8850ad55c62e",
   "metadata": {},
   "outputs": [],
   "source": [
    "def download_site(url, session):\n",
    "    with session.get(url) as response:\n",
    "        print(f\"Read {len(response.content)} from {url}\")"
   ]
  },
  {
   "cell_type": "code",
   "execution_count": null,
   "id": "8e42ff11-ca95-498d-97f8-61af4edc0be5",
   "metadata": {},
   "outputs": [],
   "source": [
    "def download_all_sites(sites):\n",
    "    with requests.Session() as session:\n",
    "        for url in sites:\n",
    "            download_site(url, session)"
   ]
  },
  {
   "cell_type": "code",
   "execution_count": null,
   "id": "ad7c9a23-ac4c-430b-bbcf-8a40d63d14ef",
   "metadata": {},
   "outputs": [],
   "source": [
    "sites = [\n",
    "    \"https://www.jython.org\",\n",
    "    \"http://olympus.realpython.org/dice\",\n",
    "] * 80\n",
    "start_time = time.time()\n",
    "download_all_sites(sites)\n",
    "duration = time.time() - start_time\n",
    "print(f\"Downloaded {len(sites)} in {duration} seconds\")"
   ]
  },
  {
   "cell_type": "markdown",
   "id": "ee8f7015-a255-44e1-a77a-cf2aca0de623",
   "metadata": {},
   "source": [
    "As you can see, this is a fairly short program. `download_site()` just downloads the contents from a URL and prints the size. One small thing to point out is that we’re using a [`Session`](https://2.python-requests.org/en/master/user/advanced/#id1) object from `requests`.\n",
    "\n"
   ]
  },
  {
   "cell_type": "markdown",
   "id": "73284e07-a082-463c-9e63-ba826ef51ce6",
   "metadata": {},
   "source": [
    "It is possible to simply use `get()` from `requests` directly, but creating a `Session` object allows `requests` to do some fancy networking tricks and really speed things up.\n",
    "\n"
   ]
  },
  {
   "cell_type": "markdown",
   "id": "0c90802e-8ffe-47dd-88c8-96a544608081",
   "metadata": {},
   "source": [
    "`download_all_sites()` creates the `Session` and then walks through the [list](https://realpython.com/python-lists-tuples/) of sites, downloading each one in turn. Finally, it prints out how long this process took so you can have the satisfaction of seeing how much concurrency has helped us in the following examples.\n",
    "\n"
   ]
  },
  {
   "cell_type": "markdown",
   "id": "7364a121-1dde-46a3-a66a-2a010282c762",
   "metadata": {},
   "source": [
    "The processing diagram for this program will look much like the I/O-bound diagram in the last section.\n",
    "\n"
   ]
  },
  {
   "cell_type": "markdown",
   "id": "b945bbc9-7c5d-456f-8bd7-92e1d667135a",
   "metadata": {},
   "source": [
    "**Why the Synchronous Version Rocks**\n",
    "\n"
   ]
  },
  {
   "cell_type": "markdown",
   "id": "03204539-c51c-4dc3-b0f5-bb862b422f8e",
   "metadata": {},
   "source": [
    "The great thing about this version of code is that, well, it’s easy. It was comparatively easy to write and debug. It’s also more straight-forward to think about. There’s only one train of thought running through it, so you can predict what the next step is and how it will behave.\n",
    "\n"
   ]
  },
  {
   "cell_type": "markdown",
   "id": "b3eeb356-2583-4249-8714-97fea5b98101",
   "metadata": {},
   "source": [
    "**The Problems With the Synchronous Version**\n",
    "\n"
   ]
  },
  {
   "cell_type": "markdown",
   "id": "f9e89e3d-dac8-4119-8eeb-ac5cf49b245b",
   "metadata": {},
   "source": [
    "The big problem here is that it’s relatively slow compared to the other solutions we’ll provide. Here’s an example of what the final output gave on my machine:\n",
    "\n"
   ]
  },
  {
   "cell_type": "markdown",
   "id": "6c8cfc4d-07d6-46c7-be78-904f3f1a5476",
   "metadata": {},
   "source": [
    "```sh\n",
    "$ ./io_non_concurrent.py\n",
    " [most output skipped]\n",
    "Downloaded 160 in 14.289619207382202 seconds\n",
    "```"
   ]
  },
  {
   "cell_type": "markdown",
   "id": "927ae1cd-9bb6-4d7a-ad5c-2c0e632202ae",
   "metadata": {},
   "source": [
    "Being slower isn’t always a big issue, however. If the program you’re running takes only 2 seconds with a synchronous version and is only run rarely, it’s probably not worth adding concurrency. You can stop here.\n",
    "\n"
   ]
  },
  {
   "cell_type": "markdown",
   "id": "38f9b75a-e66a-453b-8f8f-9e5c845d235a",
   "metadata": {},
   "source": [
    "What if your program is run frequently? What if it takes hours to run? Let’s move on to concurrency by rewriting this program using `threading`.\n",
    "\n"
   ]
  },
  {
   "cell_type": "markdown",
   "id": "3fd9866b",
   "metadata": {},
   "source": [
    "Python threading allows you to have different parts of your program run concurrently and can simplify your design. If you’ve got some experience in Python and want to speed up your program using threads, then this tutorial is for you!\n",
    "\n"
   ]
  },
  {
   "cell_type": "markdown",
   "id": "52f29261",
   "metadata": {},
   "source": [
    "**In this article, you’ll learn:**\n",
    "\n"
   ]
  },
  {
   "cell_type": "markdown",
   "id": "220cc3cb",
   "metadata": {},
   "source": [
    "- What threads are\n",
    "- How to create threads and wait for them to finish\n",
    "- How to use a `ThreadPoolExecutor`\n",
    "- How to avoid race conditions\n",
    "- How to use the common tools that Python `threading` provides\n"
   ]
  },
  {
   "cell_type": "markdown",
   "id": "1091a59d",
   "metadata": {},
   "source": [
    "<a class=\"anchor\" id=\"what_is_a_thread?\"></a>\n",
    "## What Is a Thread?"
   ]
  },
  {
   "cell_type": "markdown",
   "id": "1f346ced",
   "metadata": {},
   "source": [
    "A thread is a separate flow of execution. This means that your program will have two things happening at once. But for most Python 3 implementations the different threads do not actually execute at the same time: they merely appear to.\n",
    "\n"
   ]
  },
  {
   "cell_type": "markdown",
   "id": "9228fb95",
   "metadata": {},
   "source": [
    "It’s tempting to think of threading as having two (or more) different processors running on your program, each one doing an independent task at the same time. That’s almost right. The threads may be running on different processors, but they will only be running one at a time. \n",
    "\n"
   ]
  },
  {
   "cell_type": "markdown",
   "id": "ea13e9f8",
   "metadata": {},
   "source": [
    "Getting multiple tasks running simultaneously requires a non-standard implementation of Python, writing some of your code in a different language, or using `multiprocessing` which comes with some extra overhead.\n",
    "\n"
   ]
  },
  {
   "cell_type": "markdown",
   "id": "476ded61",
   "metadata": {},
   "source": [
    "Because of the way CPython implementation of Python works, threading may not speed up all tasks. This is due to interactions with the GIL that essentially limit one Python thread to run at a time.\n",
    "\n",
    "\n",
    "The Python Global Interpreter Lock or [GIL](https://wiki.python.org/moin/GlobalInterpreterLock), in simple words, is a mutex (or a lock) that allows only one thread to hold the control of the Python interpreter. You will read more about GIL and how it works in the upcoming sections. This means that only one thread can be in a state of execution at any point in time. The impact of the GIL isn’t visible to developers who execute single-threaded programs, but it can be a performance bottleneck in CPU-bound and multi-threaded code. GIL will be covered in details in the upcoming sections.\n",
    "\n",
    "\n"
   ]
  },
  {
   "cell_type": "markdown",
   "id": "8a2ca8db",
   "metadata": {},
   "source": [
    "Tasks that spend much of their time waiting for external events are generally good candidates for threading. Problems that require heavy CPU computation and spend little time waiting for external events might not run faster at all. \n",
    "\n"
   ]
  },
  {
   "cell_type": "markdown",
   "id": "e0021b8c",
   "metadata": {},
   "source": [
    "This is true for code written in Python and running on the standard CPython implementation. If your threads are written in C they have the ability to release the GIL and run concurrently. If you are running on a different Python implementation, check with the documentation too see how it handles threads. \n",
    "\n"
   ]
  },
  {
   "cell_type": "markdown",
   "id": "296ce6c4",
   "metadata": {},
   "source": [
    "If you are running a standard Python implementation, writing in only Python, and have a CPU-bound problem, you should check out the `multiprocessing` module instead.\n",
    "\n"
   ]
  },
  {
   "cell_type": "markdown",
   "id": "a39f1998",
   "metadata": {},
   "source": [
    "Architecting your program to use threading can also provide gains in design clarity. Most of the examples you’ll learn about in this tutorial are not necessarily going to run faster because they use threads. Using threading in them helps to make the design cleaner and easier to reason about.\n",
    "\n"
   ]
  },
  {
   "cell_type": "markdown",
   "id": "e3084921",
   "metadata": {},
   "source": [
    "So, let’s stop talking about threading and start using it!\n",
    "\n"
   ]
  },
  {
   "cell_type": "markdown",
   "id": "4539f562",
   "metadata": {},
   "source": [
    "<a class=\"anchor\" id=\"starting_a_thread\"></a>\n",
    "## Starting a Thread"
   ]
  },
  {
   "cell_type": "markdown",
   "id": "c3288cfd",
   "metadata": {},
   "source": [
    "Now that you’ve got an idea of what a thread is, let’s learn how to make one. The Python standard library provides [`threading`](https://docs.python.org/3/library/threading.html), which contains most of the primitives you’ll see in this article. `Thread`, in this module, nicely encapsulates threads, providing a clean interface to work with them.\n",
    "\n"
   ]
  },
  {
   "cell_type": "markdown",
   "id": "cd41d0d4",
   "metadata": {},
   "source": [
    "To start a separate thread, you create a `Thread` instance and then tell it to `.start()`:\n",
    "\n"
   ]
  },
  {
   "cell_type": "code",
   "execution_count": null,
   "id": "c4547beb",
   "metadata": {},
   "outputs": [],
   "source": [
    "import logging\n",
    "import threading\n",
    "import time\n",
    "\n",
    "def thread_function(name):\n",
    "    logging.info(f\"Thread {name}: starting\")\n",
    "    time.sleep(2)\n",
    "    logging.info(f\"Thread {name}: finishing\")\n",
    "\n",
    "if __name__ == \"__main__\":\n",
    "    format = \"%(asctime)s: %(message)s\"\n",
    "    logging.basicConfig(format=format, level=logging.INFO, datefmt=\"%H:%M:%S\")\n",
    "\n",
    "    logging.info(\"Main    : before creating thread\")\n",
    "    x = threading.Thread(target=thread_function, args=(1,))\n",
    "    logging.info(\"Main    : before running thread\")\n",
    "    x.start()\n",
    "    logging.info(\"Main    : wait for the thread to finish\")\n",
    "    # x.join()\n",
    "    logging.info(\"Main    : all done\")"
   ]
  },
  {
   "cell_type": "markdown",
   "id": "c309bd30",
   "metadata": {},
   "source": [
    "If you look around the [logging](https://realpython.com/python-logging/) statements, you can see that the `main` section is creating and starting the thread:\n",
    "\n"
   ]
  },
  {
   "cell_type": "code",
   "execution_count": null,
   "id": "01130e13",
   "metadata": {},
   "outputs": [],
   "source": [
    "x = threading.Thread(target=thread_function, args=(1,))\n",
    "x.start()"
   ]
  },
  {
   "cell_type": "markdown",
   "id": "a58dcf66",
   "metadata": {},
   "source": [
    "When you create a `Thread`, you pass it a function and a list containing the arguments to that function. In this case, you’re telling the `Thread` to run `thread_function()` and to pass it `1` as an argument.\n",
    "\n"
   ]
  },
  {
   "cell_type": "markdown",
   "id": "e2ce0f47",
   "metadata": {},
   "source": [
    "For this article, you’ll use sequential integers as names for your threads. There is `threading.get_ident()`, which returns a unique name for each thread, but these are usually neither short nor easily readable.\n",
    "\n"
   ]
  },
  {
   "cell_type": "markdown",
   "id": "087bb8ce",
   "metadata": {},
   "source": [
    "`thread_function()` itself doesn’t do much. It simply logs some messages with a [`time.sleep()`](https://realpython.com/python-sleep/) in between them.\n",
    "\n"
   ]
  },
  {
   "cell_type": "markdown",
   "id": "a8ae8231",
   "metadata": {},
   "source": [
    "When you run this program as it is (with line twenty commented out), the output will look like this:\n",
    "\n"
   ]
  },
  {
   "cell_type": "markdown",
   "id": "5f6b1caf",
   "metadata": {},
   "source": [
    "```sh\n",
    "$ ./single_thread.py\n",
    "Main : before creating thread\n",
    "Main : before running thread\n",
    "Thread 1: starting\n",
    "Main : wait for the thread to finish\n",
    "Main : all done\n",
    "Thread 1: finishing\n",
    "```"
   ]
  },
  {
   "cell_type": "markdown",
   "id": "5349c6ab",
   "metadata": {},
   "source": [
    "You’ll notice that the `Thread` finished after the `Main` section of your code did. You’ll come back to why that is and talk about the mysterious line twenty (`x.join()`) in the next section.\n",
    "\n"
   ]
  },
  {
   "cell_type": "markdown",
   "id": "77b72dd5",
   "metadata": {},
   "source": [
    "<a class=\"anchor\" id=\"daemon_threads\"></a>\n",
    "### Daemon Threads"
   ]
  },
  {
   "cell_type": "markdown",
   "id": "a5fa7376",
   "metadata": {},
   "source": [
    "In computer science, a [`daemon`](https://en.wikipedia.org/wiki/Daemon\\\\_(computing)) is a process that runs in the background.\n",
    "\n"
   ]
  },
  {
   "cell_type": "markdown",
   "id": "7f0392a8",
   "metadata": {},
   "source": [
    "Python `threading` has a more specific meaning for `daemon`. A `daemon` thread will shut down immediately when the program exits. One way to think about these definitions is to consider the `daemon` thread a thread that runs in the background without worrying about shutting it down.\n",
    "\n"
   ]
  },
  {
   "cell_type": "markdown",
   "id": "cf036219",
   "metadata": {},
   "source": [
    "If a program is running `Threads` that are not `daemons`, then the program will wait for those threads to complete before it terminates. `Threads` that *are* daemons, however, are just killed wherever they are when the program is exiting.\n",
    "\n"
   ]
  },
  {
   "cell_type": "markdown",
   "id": "f93f5879",
   "metadata": {},
   "source": [
    "Let’s look a little more closely at the output of your program above. The last two lines are the interesting bit. When you run the program, you’ll notice that there is a pause (of about 2 seconds) after [`__main__`](https://realpython.com/python-main-function/) has printed its `all done` message and before the thread is finished.\n",
    "\n"
   ]
  },
  {
   "cell_type": "markdown",
   "id": "cfd2c483",
   "metadata": {},
   "source": [
    "This pause is Python waiting for the non-daemonic thread to complete. When your Python program ends, part of the shutdown process is to clean up the threading routine.\n",
    "\n"
   ]
  },
  {
   "cell_type": "markdown",
   "id": "817b95ec",
   "metadata": {},
   "source": [
    "If you look at the [source for Python `threading`](https://github.com/python/cpython/blob/df5cdc11123a35065bbf1636251447d0bfe789a5/Lib/threading.py#L1263), you’ll see that `threading._shutdown()` walks through all of the running threads and calls `.join()` on every one that does not have the `daemon` flag set.\n",
    "\n"
   ]
  },
  {
   "cell_type": "markdown",
   "id": "a4b79f3e",
   "metadata": {},
   "source": [
    "So your program waits to exit because the thread itself is waiting in a sleep. As soon as it has completed and printed the message, `.join()` will return and the program can exit.\n",
    "\n"
   ]
  },
  {
   "cell_type": "markdown",
   "id": "378ac58f",
   "metadata": {},
   "source": [
    "Frequently, this behavior is what you want, but there are other options available to us. Let’s first repeat the program with a `daemon` thread. You do that by changing how you construct the `Thread`, adding the `daemon=True` flag:\n",
    "\n"
   ]
  },
  {
   "cell_type": "code",
   "execution_count": null,
   "id": "b8a9d5c3",
   "metadata": {},
   "outputs": [],
   "source": [
    "x = threading.Thread(target=thread_function, args=(1,), daemon=True)"
   ]
  },
  {
   "cell_type": "markdown",
   "id": "c50b63e3",
   "metadata": {},
   "source": [
    "When you run the program now, you should see this output:\n",
    "\n"
   ]
  },
  {
   "cell_type": "markdown",
   "id": "e609cdd6",
   "metadata": {},
   "source": [
    "```sh\n",
    "$ ./daemon_thread.py\n",
    "Main : before creating thread\n",
    "Main : before running thread\n",
    "Thread 1: starting\n",
    "Main : wait for the thread to finish\n",
    "Main : all done\n",
    "```"
   ]
  },
  {
   "cell_type": "markdown",
   "id": "d72f3249",
   "metadata": {},
   "source": [
    "The difference here is that the final line of the output is missing. `thread_function()` did not get a chance to complete. It was a `daemon` thread, so when `__main__` reached the end of its code and the program wanted to finish, the daemon was killed.\n",
    "\n"
   ]
  },
  {
   "cell_type": "markdown",
   "id": "35a01cd6",
   "metadata": {},
   "source": [
    "<a class=\"anchor\" id=\"`join()`_a_thread\"></a>\n",
    "### `join()` a Thread"
   ]
  },
  {
   "cell_type": "markdown",
   "id": "58982ed9",
   "metadata": {},
   "source": [
    "Daemon threads are handy, but what about when you want to wait for a thread to stop? What about when you want to do that and not exit your program? Now let’s go back to your original program and look at that commented out line twenty:\n",
    "\n"
   ]
  },
  {
   "cell_type": "code",
   "execution_count": null,
   "id": "fee459a8",
   "metadata": {},
   "outputs": [],
   "source": [
    "# x.join()"
   ]
  },
  {
   "cell_type": "markdown",
   "id": "cf8965b0",
   "metadata": {},
   "source": [
    "To tell one thread to wait for another thread to finish, you call `.join()`. If you uncomment that line, the main thread will pause and wait for the thread `x` to complete running.\n",
    "\n"
   ]
  },
  {
   "cell_type": "markdown",
   "id": "8d646cd6",
   "metadata": {},
   "source": [
    "Did you test this on the code with the daemon thread or the regular thread? It turns out that it doesn’t matter. If you `.join()` a thread, that statement will wait until either kind of thread is finished.\n",
    "\n"
   ]
  },
  {
   "cell_type": "markdown",
   "id": "d7aa35c5",
   "metadata": {},
   "source": [
    "<a class=\"anchor\" id=\"working_with_many_threads\"></a>\n",
    "## Working With Many Threads"
   ]
  },
  {
   "cell_type": "markdown",
   "id": "4e5a9523",
   "metadata": {},
   "source": [
    "The example code so far has only been working with two threads: the main thread and one you started with the `threading.Thread` object. \n",
    "\n"
   ]
  },
  {
   "cell_type": "markdown",
   "id": "a11e61be",
   "metadata": {},
   "source": [
    "Frequently, you’ll want to start a number of threads and have them do interesting work. Let’s start by looking at the harder way of doing that, and then you’ll move on to an easier method.\n",
    "\n"
   ]
  },
  {
   "cell_type": "markdown",
   "id": "30c97615",
   "metadata": {},
   "source": [
    "The harder way of starting multiple threads is the one you already know:\n",
    "\n"
   ]
  },
  {
   "cell_type": "code",
   "execution_count": null,
   "id": "dc07f8fc",
   "metadata": {},
   "outputs": [],
   "source": [
    "import logging\n",
    "import threading\n",
    "import time\n",
    "\n",
    "def thread_function(name):\n",
    "    logging.info(\"Thread %s: starting\", name)\n",
    "    time.sleep(2)\n",
    "    logging.info(\"Thread %s: finishing\", name)\n",
    "\n",
    "if __name__ == \"__main__\":\n",
    "    format = \"%(asctime)s: %(message)s\"\n",
    "    logging.basicConfig(format=format, level=logging.INFO,\n",
    "                        datefmt=\"%H:%M:%S\")\n",
    "\n",
    "    threads = list()\n",
    "    for index in range(3):\n",
    "        logging.info(\"Main    : create and start thread %d.\", index)\n",
    "        x = threading.Thread(target=thread_function, args=(index,))\n",
    "        threads.append(x)\n",
    "        x.start()\n",
    "\n",
    "    for index, thread in enumerate(threads):\n",
    "        logging.info(\"Main    : before joining thread %d.\", index)\n",
    "        thread.join()\n",
    "        logging.info(\"Main    : thread %d done\", index)"
   ]
  },
  {
   "cell_type": "markdown",
   "id": "275e05a9",
   "metadata": {},
   "source": [
    "This code uses the same mechanism you saw above to start a thread, create a `Thread` object, and then call `.start()`. The program keeps a list of `Thread` objects so that it can then wait for them later using `.join()`.\n",
    "\n"
   ]
  },
  {
   "cell_type": "markdown",
   "id": "ca97518c",
   "metadata": {},
   "source": [
    "Running this code multiple times will likely produce some interesting results. Here’s an example output from my machine:\n",
    "\n"
   ]
  },
  {
   "cell_type": "markdown",
   "id": "3e52490b",
   "metadata": {},
   "source": [
    "```sh\n",
    "$ ./multiple_threads.py\n",
    "Main : create and start thread 0.\n",
    "Thread 0: starting\n",
    "Main : create and start thread 1.\n",
    "Thread 1: starting\n",
    "Main : create and start thread 2.\n",
    "Thread 2: starting\n",
    "Main : before joining thread 0.\n",
    "Thread 2: finishing\n",
    "Thread 1: finishing\n",
    "Thread 0: finishing\n",
    "Main : thread 0 done\n",
    "Main : before joining thread 1.\n",
    "Main : thread 1 done\n",
    "Main : before joining thread 2.\n",
    "Main : thread 2 done\n",
    "```"
   ]
  },
  {
   "cell_type": "markdown",
   "id": "3ce6dcda",
   "metadata": {},
   "source": [
    "If you walk through the output carefully, you’ll see all three threads getting started in the order you might expect, but in this case they finish in the opposite order! Multiple runs will produce different orderings. Look for the `Thread x: finishing` message to tell you when each thread is done.\n",
    "\n"
   ]
  },
  {
   "cell_type": "markdown",
   "id": "0bea45cd",
   "metadata": {},
   "source": [
    "The order in which threads are run is determined by the operating system and can be quite hard to predict. It may (and likely will) vary from run to run, so you need to be aware of that when you design algorithms that use threading.\n",
    "\n"
   ]
  },
  {
   "cell_type": "markdown",
   "id": "625b3c0c",
   "metadata": {},
   "source": [
    "Fortunately, Python gives you several primitives that you’ll look at later to help coordinate threads and get them running together. Before that, let’s look at how to make managing a group of threads a bit easier.\n",
    "\n"
   ]
  },
  {
   "cell_type": "markdown",
   "id": "12d5fe99",
   "metadata": {},
   "source": [
    "<a class=\"anchor\" id=\"using_a_threadpoolexecutor\"></a>\n",
    "## Using a ThreadPoolExecutor"
   ]
  },
  {
   "cell_type": "markdown",
   "id": "1af36d66",
   "metadata": {},
   "source": [
    "There’s an easier way to start up a group of threads than the one you saw above. It’s called a `ThreadPoolExecutor`, and it’s part of the standard library in [`concurrent.futures`](https://docs.python.org/3/library/concurrent.futures.html) (as of Python 3.2).\n",
    "\n"
   ]
  },
  {
   "cell_type": "markdown",
   "id": "62fed901",
   "metadata": {},
   "source": [
    "The easiest way to create it is as a context manager, using the [`with` statement](https://realpython.com/python-with-statement/) to manage the creation and destruction of the pool.\n",
    "\n"
   ]
  },
  {
   "cell_type": "markdown",
   "id": "ae70dfd1",
   "metadata": {},
   "source": [
    "Here’s the `__main__` from the last example rewritten to use a `ThreadPoolExecutor`:\n",
    "\n"
   ]
  },
  {
   "cell_type": "code",
   "execution_count": null,
   "id": "df421308",
   "metadata": {},
   "outputs": [],
   "source": [
    "import concurrent.futures\n",
    "\n",
    "# [rest of code]\n",
    "\n",
    "if __name__ == \"__main__\":\n",
    "    format = \"%(asctime)s: %(message)s\"\n",
    "    logging.basicConfig(\n",
    "        format=format, level=logging.INFO, datefmt=\"%H:%M:%S\"\n",
    "    )\n",
    "\n",
    "    with concurrent.futures.ThreadPoolExecutor(max_workers=3) as executor:\n",
    "        executor.map(thread_function, range(3))"
   ]
  },
  {
   "cell_type": "markdown",
   "id": "f48a8a4c",
   "metadata": {},
   "source": [
    "The code creates a `ThreadPoolExecutor` as a context manager, telling it how many worker threads it wants in the pool. It then uses `.map()` to step through an iterable of things, in your case `range(3)`, passing each one to a thread in the pool. You can think of `concurrent.map` as just a parallel version of the builtin `map` function.\n",
    "\n"
   ]
  },
  {
   "cell_type": "markdown",
   "id": "07fa2bc0",
   "metadata": {},
   "source": [
    "The end of the `with` block causes the `ThreadPoolExecutor` to do a `.join()` on each of the threads in the pool. It is *strongly* recommended that you use `ThreadPoolExecutor` as a context manager when you can so that you never forget to `.join()` the threads.\n",
    "\n"
   ]
  },
  {
   "cell_type": "markdown",
   "id": "ee2f3c6a",
   "metadata": {},
   "source": [
    "Running your corrected example code will produce output that looks like this:\n",
    "\n"
   ]
  },
  {
   "cell_type": "markdown",
   "id": "bd1f32a2",
   "metadata": {},
   "source": [
    "```sh\n",
    "$ ./executor.py\n",
    "Thread 0: starting\n",
    "Thread 1: starting\n",
    "Thread 2: starting\n",
    "Thread 1: finishing\n",
    "Thread 0: finishing\n",
    "Thread 2: finishing\n",
    "```"
   ]
  },
  {
   "cell_type": "markdown",
   "id": "e19b0dec",
   "metadata": {},
   "source": [
    "Again, notice how `Thread 1` finished before `Thread 0`. The scheduling of threads is done by the operating system and does not follow a plan that’s easy to figure out.\n",
    "\n"
   ]
  },
  {
   "cell_type": "markdown",
   "id": "12b74b59",
   "metadata": {},
   "source": [
    "<a class=\"anchor\" id=\"race_conditions\"></a>\n",
    "## Race Conditions"
   ]
  },
  {
   "cell_type": "markdown",
   "id": "1b873729",
   "metadata": {},
   "source": [
    "Before you move on to some of the other features tucked away in Python `threading`, let’s talk a bit about one of the more difficult issues you’ll run into when writing threaded programs: [race conditions](https://en.wikipedia.org/wiki/Race\\\\_condition).\n",
    "\n"
   ]
  },
  {
   "cell_type": "markdown",
   "id": "21412df9",
   "metadata": {},
   "source": [
    "Once you’ve seen what a race condition is and looked at one happening, you’ll move on to some of the primitives provided by the standard library to prevent race conditions from happening.\n",
    "\n"
   ]
  },
  {
   "cell_type": "markdown",
   "id": "7220a6e7",
   "metadata": {},
   "source": [
    "Race conditions can occur when two or more threads access a shared piece of data or resource. In this example, you’re going to create a large race condition that happens every time, but be aware that most race conditions are not this obvious. Frequently, they only occur rarely, and they can produce confusing results. As you can imagine, **this makes them quite difficult to debug**.\n",
    "\n"
   ]
  },
  {
   "cell_type": "markdown",
   "id": "52a605e9",
   "metadata": {},
   "source": [
    "Fortunately, this race condition will happen every time, and you’ll walk through it in detail to explain what is happening.\n",
    "\n"
   ]
  },
  {
   "cell_type": "markdown",
   "id": "ee561241",
   "metadata": {},
   "source": [
    "For this example, you’re going to write a class that updates a database. Okay, you’re not really going to have a database: you’re just going to fake it, because that’s not the point of this article.\n",
    "\n"
   ]
  },
  {
   "cell_type": "markdown",
   "id": "6b1e23d0",
   "metadata": {},
   "source": [
    "Your `FakeDatabase` will have `.__init__()` and `.update()` methods:\n",
    "\n"
   ]
  },
  {
   "cell_type": "code",
   "execution_count": null,
   "id": "4166d119",
   "metadata": {},
   "outputs": [],
   "source": [
    "class FakeDatabase:\n",
    "    def __init__(self):\n",
    "        self.value = 0\n",
    "\n",
    "    def update(self, name):\n",
    "        logging.info(f\"Thread {name}: starting update\")\n",
    "        local_copy = self.value\n",
    "        local_copy += 1\n",
    "        time.sleep(0.1)\n",
    "        self.value = local_copy\n",
    "        logging.info(f\"Thread {name}: finishing update\")"
   ]
  },
  {
   "cell_type": "markdown",
   "id": "ce085b80",
   "metadata": {},
   "source": [
    "`FakeDatabase` is keeping track of a single number: `.value`. This is going to be the shared data on which you’ll see the race condition.\n",
    "\n"
   ]
  },
  {
   "cell_type": "markdown",
   "id": "b8940470",
   "metadata": {},
   "source": [
    "`.__init__()` simply initializes `.value` to zero. So far, so good.\n",
    "\n"
   ]
  },
  {
   "cell_type": "markdown",
   "id": "68537a23",
   "metadata": {},
   "source": [
    "`.update()` looks a little strange. It’s simulating reading a value from a database, doing some computation on it, and then writing a new value back to the database.\n",
    "\n"
   ]
  },
  {
   "cell_type": "markdown",
   "id": "46803c9d",
   "metadata": {},
   "source": [
    "In this case, reading from the database just means copying `.value` to a local variable. The computation is just to add one to the value and then `.sleep()` for a little bit. Finally, it writes the value back by copying the local value back to `.value`.\n",
    "\n"
   ]
  },
  {
   "cell_type": "markdown",
   "id": "0acd10f0",
   "metadata": {},
   "source": [
    "Here’s how you’ll use this `FakeDatabase`:\n",
    "\n"
   ]
  },
  {
   "cell_type": "code",
   "execution_count": null,
   "id": "597a6eaa",
   "metadata": {},
   "outputs": [],
   "source": [
    "format = \"%(asctime)s: %(message)s\"\n",
    "logging.basicConfig(format=format, level=logging.INFO, datefmt=\"%H:%M:%S\")\n",
    "\n",
    "database = FakeDatabase()\n",
    "logging.info(f\"Testing update. Starting value is {database.value}.\")\n",
    "with concurrent.futures.ThreadPoolExecutor(max_workers=2) as executor:\n",
    "    for ® in range(2):\n",
    "        executor.submit(database.update, index)\n",
    "logging.info(f\"Testing update. Ending value is {database.value}.\")"
   ]
  },
  {
   "cell_type": "markdown",
   "id": "e2e44ae1",
   "metadata": {},
   "source": [
    "The program creates a `ThreadPoolExecutor` with two threads and then calls `.submit()` on each of them, telling them to run `database.update()`.\n",
    "\n"
   ]
  },
  {
   "cell_type": "markdown",
   "id": "d04d69d6",
   "metadata": {},
   "source": [
    "`.submit()` has a signature that allows both positional and named arguments to be passed to the function running in the thread:\n",
    "\n"
   ]
  },
  {
   "cell_type": "code",
   "execution_count": null,
   "id": "1665c173",
   "metadata": {},
   "outputs": [],
   "source": [
    ".submit(function, *args, **kwargs)"
   ]
  },
  {
   "cell_type": "markdown",
   "id": "7faa0f7e",
   "metadata": {},
   "source": [
    "In the usage above, `index` is passed as the first and only positional argument to `database.update()`. You’ll see later in this article where you can pass multiple arguments in a similar manner.\n",
    "\n"
   ]
  },
  {
   "cell_type": "markdown",
   "id": "7db781d0",
   "metadata": {},
   "source": [
    "Since each thread runs `.update()`, and `.update()` adds one to `.value`, you might expect `database.value` to be `2` when it’s printed out at the end. But you wouldn’t be looking at this example if that was the case. If you run the above code, the output looks like this:\n",
    "\n"
   ]
  },
  {
   "cell_type": "markdown",
   "id": "dbd1e8c9",
   "metadata": {},
   "source": [
    "```sh\n",
    "$ ./racecond.py\n",
    "Testing unlocked update. Starting value is 0.\n",
    "Thread 0: starting update\n",
    "Thread 1: starting update\n",
    "Thread 0: finishing update\n",
    "Thread 1: finishing update\n",
    "Testing unlocked update. Ending value is 1.\n",
    "```"
   ]
  },
  {
   "cell_type": "markdown",
   "id": "878454d6",
   "metadata": {},
   "source": [
    "You might have expected that to happen, but let’s look at the details of what’s really going on here, as that will make the solution to this problem easier to understand.\n",
    "\n"
   ]
  },
  {
   "cell_type": "markdown",
   "id": "624a49ba",
   "metadata": {},
   "source": [
    "<a class=\"anchor\" id=\"one_thread\"></a>\n",
    "### One Thread"
   ]
  },
  {
   "cell_type": "markdown",
   "id": "95da1ba1",
   "metadata": {},
   "source": [
    "Before you dive into this issue with two threads, let’s step back and talk a bit about some details of how threads work.\n",
    "\n"
   ]
  },
  {
   "cell_type": "markdown",
   "id": "a0676f97",
   "metadata": {},
   "source": [
    "You won’t be diving into all of the details here, as that’s not important at this level. We’ll also be simplifying a few things in a way that won’t be technically accurate but will give you the right idea of what is happening.\n",
    "\n"
   ]
  },
  {
   "cell_type": "markdown",
   "id": "ff0cea94",
   "metadata": {},
   "source": [
    "When you tell your `ThreadPoolExecutor` to run each thread, you tell it which function to run and what parameters to pass to it: `executor.submit(database.update, index)`. \n",
    "\n"
   ]
  },
  {
   "cell_type": "markdown",
   "id": "31d7d42f",
   "metadata": {},
   "source": [
    "The result of this is that each of the threads in the pool will call `database.update(index)`. Note that `database` is a reference to the one `FakeDatabase` object created in `__main__`. Calling `.update()` on that object calls an [instance method](https://realpython.com/instance-class-and-static-methods-demystified/) on that object.\n",
    "\n"
   ]
  },
  {
   "cell_type": "markdown",
   "id": "5da5e757",
   "metadata": {},
   "source": [
    "Each thread is going to have a reference to the same `FakeDatabase` object, `database`. Each thread will also have a unique value, `index`, to make the logging statements a bit easier to read:\n",
    "\n"
   ]
  },
  {
   "cell_type": "markdown",
   "id": "6128238e",
   "metadata": {},
   "source": [
    "<img src=\"images/an-intro-to-threading-in-python/intro-threading-shared-database.267a5d8c6aa1.png\" width=\"600px\">"
   ]
  },
  {
   "cell_type": "markdown",
   "id": "f694b7d7",
   "metadata": {},
   "source": [
    "When the thread starts running `.update()`, it has its own version of all of the data **local** to the function. In the case of `.update()`, this is `local_copy`. This is definitely a good thing. Otherwise, two threads running the same function would always confuse each other. It means that all variables that are scoped (or local) to a function are **thread-safe**.\n",
    "\n"
   ]
  },
  {
   "cell_type": "markdown",
   "id": "56991174",
   "metadata": {},
   "source": [
    "Now you can start walking through what happens if you run the program above with a single thread and a single call to `.update()`.\n",
    "\n"
   ]
  },
  {
   "cell_type": "markdown",
   "id": "a01ac5cd",
   "metadata": {},
   "source": [
    "The image below steps through the execution of `.update()` if only a single thread is run. The statement is shown on the left followed by a diagram showing the values in the thread’s `local_copy` and the shared `database.value`:\n",
    "\n"
   ]
  },
  {
   "cell_type": "markdown",
   "id": "926bb018",
   "metadata": {},
   "source": [
    "<img src=\"images/an-intro-to-threading-in-python/intro-threading-single-thread.6a11288bc199.png\" width=\"600px\">"
   ]
  },
  {
   "cell_type": "markdown",
   "id": "339c0dc9",
   "metadata": {},
   "source": [
    "The diagram is laid out so that time increases as you move from top to bottom. It begins when `Thread 1` is created and ends when it is terminated.\n",
    "\n"
   ]
  },
  {
   "cell_type": "markdown",
   "id": "22700667",
   "metadata": {},
   "source": [
    "When `Thread 1` starts, `FakeDatabase.value` is zero. The first line of code in the method, `local_copy = self.value`, copies the value zero to the local variable. Next it increments the value of `local_copy` with the `local_copy += 1` statement. You can see `.value` in `Thread 1` getting set to one.\n",
    "\n"
   ]
  },
  {
   "cell_type": "markdown",
   "id": "4e74e2f0",
   "metadata": {},
   "source": [
    "Next `time.sleep()` is called, which makes the current thread pause and allows other threads to run. Since there is only one thread in this example, this has no effect.\n",
    "\n"
   ]
  },
  {
   "cell_type": "markdown",
   "id": "bb48d54f",
   "metadata": {},
   "source": [
    "When `Thread 1` wakes up and continues, it copies the new value from `local_copy` to `FakeDatabase.value`, and then the thread is complete. You can see that `database.value` is set to one.\n",
    "\n"
   ]
  },
  {
   "cell_type": "markdown",
   "id": "edbfb228",
   "metadata": {},
   "source": [
    "So far, so good. You ran `.update()` once and `FakeDatabase.value` was incremented to one.\n",
    "\n"
   ]
  },
  {
   "cell_type": "markdown",
   "id": "95ccc821",
   "metadata": {},
   "source": [
    "<a class=\"anchor\" id=\"two_threads\"></a>\n",
    "### Two Threads"
   ]
  },
  {
   "cell_type": "markdown",
   "id": "35bf127a",
   "metadata": {},
   "source": [
    "Getting back to the race condition, the two threads will be running concurrently but not at the same time. They will each have their own version of `local_copy` and will each point to the same `database`. It is this shared `database` object that is going to cause the problems.\n",
    "\n"
   ]
  },
  {
   "cell_type": "markdown",
   "id": "557fefbf",
   "metadata": {},
   "source": [
    "The program starts with `Thread 1` running `.update()`:\n",
    "\n"
   ]
  },
  {
   "cell_type": "markdown",
   "id": "aadfc4e5",
   "metadata": {},
   "source": [
    "<img src=\"images/an-intro-to-threading-in-python/intro-threading-two-threads-part1.c1c0e65a8481.png\" width=\"600px\">"
   ]
  },
  {
   "cell_type": "markdown",
   "id": "3a379054",
   "metadata": {},
   "source": [
    "When `Thread 1` calls `time.sleep()`, it allows the other thread to start running. This is where things get interesting.\n",
    "\n"
   ]
  },
  {
   "cell_type": "markdown",
   "id": "afce9128",
   "metadata": {},
   "source": [
    "`Thread 2` starts up and does the same operations. It’s also copying `database.value` into its private `local_copy`, and this shared `database.value` has not yet been updated:\n",
    "\n"
   ]
  },
  {
   "cell_type": "markdown",
   "id": "9b699247",
   "metadata": {},
   "source": [
    "<img src=\"images/an-intro-to-threading-in-python/intro-threading-two-threads-part2.df42d4fbfe21.png\" width=\"600px\">"
   ]
  },
  {
   "cell_type": "markdown",
   "id": "29539810",
   "metadata": {},
   "source": [
    "When `Thread 2` finally goes to sleep, the shared `database.value` is still unmodified at zero, and both private versions of `local_copy` have the value one.\n",
    "\n"
   ]
  },
  {
   "cell_type": "markdown",
   "id": "1fce89f9",
   "metadata": {},
   "source": [
    "`Thread 1` now wakes up and saves its version of `local_copy` and then terminates, giving `Thread 2` a final chance to run. `Thread 2` has no idea that `Thread 1` ran and updated `database.value` while it was sleeping. It stores *its* version of `local_copy` into `database.value`, also setting it to one:\n",
    "\n"
   ]
  },
  {
   "cell_type": "markdown",
   "id": "53ca21d1",
   "metadata": {},
   "source": [
    "<img src=\"images/an-intro-to-threading-in-python/intro-threading-two-threads-part3.18576920f88f.png\" width=\"600px\">"
   ]
  },
  {
   "cell_type": "markdown",
   "id": "a3f6939c",
   "metadata": {},
   "source": [
    "The two threads have interleaving access to a single shared object, overwriting each other’s results. Similar race conditions can arise when one thread frees memory or closes a file handle before the other thread is finished accessing it.\n",
    "\n"
   ]
  },
  {
   "cell_type": "markdown",
   "id": "cc4c68c9",
   "metadata": {},
   "source": [
    "<a class=\"anchor\" id=\"why_this_isn’t_a_silly_example\"></a>\n",
    "### Why This Isn’t a Silly Example"
   ]
  },
  {
   "cell_type": "markdown",
   "id": "b0b633cf",
   "metadata": {},
   "source": [
    "The example above is contrived to make sure that the race condition happens every time you run your program. Because the operating system can swap out a thread at any time, it is possible to interrupt a statement like `x = x + 1` after it has read the value of `x` but before it has written back the incremented value.\n",
    "\n"
   ]
  },
  {
   "cell_type": "markdown",
   "id": "9875569f",
   "metadata": {},
   "source": [
    "The details of how this happens are quite interesting, but not needed for the rest of this article, so feel free to skip over the section below.\n",
    "\n"
   ]
  },
  {
   "cell_type": "markdown",
   "id": "1324052f-e72a-4273-ad34-883112586e70",
   "metadata": {},
   "source": [
    "<a class=\"anchor\" id=\"how_does_this_really_work\"></a>\n",
    "#### How Does This Really Work"
   ]
  },
  {
   "cell_type": "markdown",
   "id": "5efadb53-d5d0-4f5e-9e79-96a8ee4a7185",
   "metadata": {},
   "source": [
    "The code above isn’t quite as out there as you might originally have thought. It was designed to force a race condition every time you run it, but that makes it much easier to solve than most race conditions."
   ]
  },
  {
   "cell_type": "markdown",
   "id": "9dae45bb-444a-489d-ac93-10a2cead2806",
   "metadata": {},
   "source": [
    "There are two things to keep in mind when thinking about race conditions:\n",
    "\n",
    "1. Even an operation like x += 1 takes the processor many steps. Each of these steps is a separate instruction to the processor.\n",
    "2. The operating system can swap which thread is running at any time. A thread can be swapped out after any of these small instructions. This means that a thread can be put to sleep to let another thread run in the middle of a Python statement."
   ]
  },
  {
   "cell_type": "markdown",
   "id": "c6c3d807-5f62-4576-996e-6b8289bae757",
   "metadata": {},
   "source": [
    "Let’s look at this in detail. The REPL below shows a function that takes a parameter and increments it:"
   ]
  },
  {
   "cell_type": "code",
   "execution_count": 2,
   "id": "7eef1a30-4e4f-46a5-8a2b-0a0cfbbcf759",
   "metadata": {},
   "outputs": [],
   "source": [
    "def inc(x):\n",
    "    x += 1"
   ]
  },
  {
   "cell_type": "code",
   "execution_count": 3,
   "id": "bfd5c643-68f8-4478-8ffe-6c5b7b3e4a0e",
   "metadata": {},
   "outputs": [],
   "source": [
    "import dis"
   ]
  },
  {
   "cell_type": "code",
   "execution_count": 4,
   "id": "40b6cd46-391a-40d4-86df-2913885938be",
   "metadata": {},
   "outputs": [
    {
     "name": "stdout",
     "output_type": "stream",
     "text": [
      "  2           0 LOAD_FAST                0 (x)\n",
      "              2 LOAD_CONST               1 (1)\n",
      "              4 INPLACE_ADD\n",
      "              6 STORE_FAST               0 (x)\n",
      "              8 LOAD_CONST               0 (None)\n",
      "             10 RETURN_VALUE\n"
     ]
    }
   ],
   "source": [
    "dis.dis(inc)"
   ]
  },
  {
   "cell_type": "markdown",
   "id": "30f876ea-b191-4ec3-a60f-e63fb4bd5c45",
   "metadata": {},
   "source": [
    "The REPL example uses [dis](https://docs.python.org/3/library/dis.html) from the Python standard library to show the smaller steps that the processor does to implement your function. It does a `LOAD_FAST` of the data value `x`, it does a `LOAD_CONST 1`, and then it uses the `INPLACE_ADD` to add those values together."
   ]
  },
  {
   "cell_type": "markdown",
   "id": "a3d94418-b54d-45a0-b771-3b7465118c4e",
   "metadata": {},
   "source": [
    "We’re stopping here for a specific reason. This is the point in `.update()` above where `time.sleep()` forced the threads to switch. It is entirely possible that, every once in while, the operating system would switch threads at that exact point even without `sleep()`, but the call to `sleep()` makes it happen every time."
   ]
  },
  {
   "cell_type": "markdown",
   "id": "b6fb6178-8f32-4ab8-a2d6-0bf5ba4aec63",
   "metadata": {},
   "source": [
    "As you learned above, the operating system can swap threads at any time. You’ve walked down this listing to the statement marked 4. If the operating system swaps out this thread and runs a different thread that also modifies `x`, then when this thread resumes, it will overwrite `x` with an incorrect value."
   ]
  },
  {
   "cell_type": "markdown",
   "id": "84d9ae95-281b-486d-a4a6-cdebb9d552fa",
   "metadata": {},
   "source": [
    "Technically, this example won’t have a race condition because `x` is local to `inc()`. It does illustrate how a thread can be interrupted during a single Python operation, however. The same `LOAD`, `MODIFY`, `STORE` set of operations also happens on global and shared values. You can explore with the `dis` module and prove that yourself."
   ]
  },
  {
   "cell_type": "markdown",
   "id": "8ea904c8-f98f-4091-bf9f-f8f5db619602",
   "metadata": {},
   "source": [
    "It’s rare to get a race condition like this to occur, but remember that an infrequent event taken over millions of iterations becomes likely to happen. **The rarity of these race conditions makes them much, much harder to debug than regular bugs.**"
   ]
  },
  {
   "cell_type": "markdown",
   "id": "fa379bf5-0f3f-4e96-ac7e-9e9f9e38c0ae",
   "metadata": {},
   "source": [
    "Now back to your regularly scheduled tutorial!"
   ]
  },
  {
   "cell_type": "markdown",
   "id": "f58f4cbf",
   "metadata": {},
   "source": [
    "Now that you’ve seen a race condition in action, let’s find out how to solve them!\n",
    "\n"
   ]
  },
  {
   "cell_type": "markdown",
   "id": "ed53c4fc",
   "metadata": {},
   "source": [
    "<a class=\"anchor\" id=\"basic_synchronization_using_lock\"></a>\n",
    "## Basic Synchronization Using Lock"
   ]
  },
  {
   "cell_type": "markdown",
   "id": "bc1c8d21",
   "metadata": {},
   "source": [
    "There are a number of ways to avoid or solve race conditions. You won’t look at all of them here, but there are a couple that are used frequently. Let’s start with `Lock`.\n",
    "\n"
   ]
  },
  {
   "cell_type": "markdown",
   "id": "ceec914e",
   "metadata": {},
   "source": [
    "To solve your race condition above, you need to find a way to allow only one thread at a time into the read-modify-write section of your code. The most common way to do this is called `Lock` in Python. In some other languages this same idea is called a `mutex`. Mutex comes from MUTual EXclusion, which is exactly what a `Lock` does.\n",
    "\n"
   ]
  },
  {
   "cell_type": "markdown",
   "id": "ba71be4d",
   "metadata": {},
   "source": [
    "A `Lock` is an object that acts like a hall pass. Only one thread at a time can have the `Lock`. Any other thread that wants the `Lock` must wait until the owner of the `Lock` gives it up.\n",
    "\n"
   ]
  },
  {
   "cell_type": "markdown",
   "id": "6264c5fa",
   "metadata": {},
   "source": [
    "The basic functions to do this are `.acquire()` and `.release()`. A thread will call `my_lock.acquire()` to get the lock. If the lock is already held, the calling thread will wait until it is released. There’s an important point here. If one thread gets the lock but never gives it back, your program will be stuck. You’ll read more about this later.\n",
    "\n"
   ]
  },
  {
   "cell_type": "markdown",
   "id": "444fe2c7",
   "metadata": {},
   "source": [
    "Fortunately, Python’s `Lock` will also operate as a context manager, so you can use it in a `with` statement, and it gets released automatically when the `with` block exits for any reason.\n",
    "\n"
   ]
  },
  {
   "cell_type": "markdown",
   "id": "b5a3ca83",
   "metadata": {},
   "source": [
    "Let’s look at the `FakeDatabase` with a `Lock` added to it. The calling function stays the same:\n",
    "\n"
   ]
  },
  {
   "cell_type": "code",
   "execution_count": null,
   "id": "209b0559",
   "metadata": {},
   "outputs": [],
   "source": [
    "class FakeDatabase:\n",
    "    def __init__(self):\n",
    "        self.value = 0\n",
    "        self._lock = threading.Lock()\n",
    "\n",
    "    def locked_update(self, name):\n",
    "        logging.info(\"Thread %s: starting update\", name)\n",
    "        logging.debug(\"Thread %s about to lock\", name)\n",
    "        with self._lock:\n",
    "            logging.debug(\"Thread %s has lock\", name)\n",
    "            local_copy = self.value\n",
    "            local_copy += 1\n",
    "            time.sleep(0.1)\n",
    "            self.value = local_copy\n",
    "            logging.debug(\"Thread %s about to release lock\", name)\n",
    "        logging.debug(\"Thread %s after release\", name)\n",
    "        logging.info(\"Thread %s: finishing update\", name)"
   ]
  },
  {
   "cell_type": "markdown",
   "id": "9e55b2af",
   "metadata": {},
   "source": [
    "Other than adding a bunch of debug logging so you can see the locking more clearly, the big change here is to add a member called `._lock`, which is a `threading.Lock()` object. This `._lock` is initialized in the unlocked state and locked and released by the `with` statement.\n",
    "\n"
   ]
  },
  {
   "cell_type": "markdown",
   "id": "40101f18",
   "metadata": {},
   "source": [
    "It’s worth noting here that the thread running this function will hold on to that `Lock` until it is completely finished updating the database. In this case, that means it will hold the `Lock` while it copies, updates, sleeps, and then writes the value back to the database.\n",
    "\n"
   ]
  },
  {
   "cell_type": "markdown",
   "id": "cafda6a4",
   "metadata": {},
   "source": [
    "If you run this version with logging set to warning level, you’ll see this:\n",
    "\n"
   ]
  },
  {
   "cell_type": "markdown",
   "id": "fa6725b7",
   "metadata": {},
   "source": [
    "```sh\n",
    "$ ./fixrace.py\n",
    "Testing locked update. Starting value is 0.\n",
    "Thread 0: starting update\n",
    "Thread 1: starting update\n",
    "Thread 0: finishing update\n",
    "Thread 1: finishing update\n",
    "Testing locked update. Ending value is 2.\n",
    "```"
   ]
  },
  {
   "cell_type": "markdown",
   "id": "fbef0866",
   "metadata": {},
   "source": [
    "Look at that. Your program finally works!\n",
    "\n"
   ]
  },
  {
   "cell_type": "markdown",
   "id": "8a3fadf9",
   "metadata": {},
   "source": [
    "You can turn on full logging by setting the level to `DEBUG` by adding this statement after you configure the logging output in `__main__`:\n",
    "\n"
   ]
  },
  {
   "cell_type": "code",
   "execution_count": null,
   "id": "840afe9e",
   "metadata": {},
   "outputs": [],
   "source": [
    "logging.getLogger().setLevel(logging.DEBUG)"
   ]
  },
  {
   "cell_type": "markdown",
   "id": "c8976cac",
   "metadata": {},
   "source": [
    "Running this program with `DEBUG` logging turned on looks like this:\n",
    "\n"
   ]
  },
  {
   "cell_type": "markdown",
   "id": "0425d72e",
   "metadata": {},
   "source": [
    "```sh\n",
    "$ ./fixrace.py\n",
    "Testing locked update. Starting value is 0.\n",
    "Thread 0: starting update\n",
    "Thread 0 about to lock\n",
    "Thread 0 has lock\n",
    "Thread 1: starting update\n",
    "Thread 1 about to lock\n",
    "Thread 0 about to release lock\n",
    "Thread 0 after release\n",
    "Thread 0: finishing update\n",
    "Thread 1 has lock\n",
    "Thread 1 about to release lock\n",
    "Thread 1 after release\n",
    "Thread 1: finishing update\n",
    "Testing locked update. Ending value is 2.\n",
    "```"
   ]
  },
  {
   "cell_type": "markdown",
   "id": "78ca7b8a",
   "metadata": {},
   "source": [
    "In this output you can see `Thread 0` acquires the lock and is still holding it when it goes to sleep. `Thread 1` then starts and attempts to acquire the same lock. Because `Thread 0` is still holding it, `Thread 1` has to wait. This is the mutual exclusion that a `Lock` provides.\n",
    "\n"
   ]
  },
  {
   "cell_type": "markdown",
   "id": "89c11d3e",
   "metadata": {},
   "source": [
    "Many of the examples in the rest of this article will have `WARNING` and `DEBUG` level logging. We’ll generally only show the `WARNING` level output, as the `DEBUG` logs can be quite lengthy. Try out the programs with the logging turned up and see what they do.\n",
    "\n"
   ]
  },
  {
   "cell_type": "markdown",
   "id": "8093298a",
   "metadata": {},
   "source": [
    "<a class=\"anchor\" id=\"deadlock\"></a>\n",
    "## Deadlock"
   ]
  },
  {
   "cell_type": "markdown",
   "id": "50ad5628",
   "metadata": {},
   "source": [
    "Before you move on, you should look at a common problem when using `Locks`. As you saw, if the `Lock` has already been acquired, a second call to `.acquire()` will wait until the thread that is holding the `Lock` calls `.release()`. What do you think happens when you run this code:\n",
    "\n"
   ]
  },
  {
   "cell_type": "code",
   "execution_count": null,
   "id": "03c1b990",
   "metadata": {},
   "outputs": [],
   "source": [
    "import threading\n",
    "\n",
    "l = threading.Lock()\n",
    "print(\"before first acquire\")\n",
    "l.acquire()\n",
    "print(\"before second acquire\")\n",
    "l.acquire()\n",
    "print(\"acquired lock twice\")"
   ]
  },
  {
   "cell_type": "markdown",
   "id": "b39e0c57",
   "metadata": {},
   "source": [
    "When the program calls `l.acquire()` the second time, it hangs waiting for the `Lock` to be released. In this example, you can fix the deadlock by removing the second call, but deadlocks usually happen from one of two subtle things:\n",
    "\n"
   ]
  },
  {
   "cell_type": "markdown",
   "id": "f5b9f85b",
   "metadata": {},
   "source": [
    "1. An implementation bug where a `Lock` is not released properly\n",
    "2. A design issue where a utility function needs to be called by functions that might or might not already have the `Lock`\n"
   ]
  },
  {
   "cell_type": "markdown",
   "id": "8f919d48",
   "metadata": {},
   "source": [
    "The first situation happens sometimes, but using a `Lock` as a context manager greatly reduces how often. It is recommended to write code whenever possible to make use of context managers, as they help to avoid situations where an exception skips you over the `.release()` call.\n",
    "\n"
   ]
  },
  {
   "cell_type": "markdown",
   "id": "85d6c556",
   "metadata": {},
   "source": [
    "The design issue can be a bit trickier in some languages. Thankfully, Python threading has a second object, called `RLock`, that is designed for just this situation. It allows a thread to `.acquire()` an `RLock` multiple times before it calls `.release()`. That thread is still required to call `.release()` the same number of times it called `.acquire()`, but it should be doing that anyway.\n",
    "\n"
   ]
  },
  {
   "cell_type": "markdown",
   "id": "96e3226c",
   "metadata": {},
   "source": [
    "`Lock` and `RLock` are two of the basic tools used in threaded programming to prevent race conditions. There are a few other that work in different ways. Before you look at them, let’s shift to a slightly different problem domain.\n",
    "\n"
   ]
  },
  {
   "cell_type": "markdown",
   "id": "e8c83981",
   "metadata": {},
   "source": [
    "<a class=\"anchor\" id=\"threading_objects\"></a>\n",
    "## Threading Objects"
   ]
  },
  {
   "cell_type": "markdown",
   "id": "51e7c445",
   "metadata": {},
   "source": [
    "There are a few more primitives offered by the Python `threading` module. While you didn’t need these for the examples above, they can come in handy in different use cases, so it’s good to be familiar with them.\n",
    "\n"
   ]
  },
  {
   "cell_type": "markdown",
   "id": "166c5b1c",
   "metadata": {},
   "source": [
    "<a class=\"anchor\" id=\"semaphore\"></a>\n",
    "### Semaphore"
   ]
  },
  {
   "cell_type": "markdown",
   "id": "4146ec84",
   "metadata": {},
   "source": [
    "The first Python `threading` object to look at is `threading.Semaphore`. A `Semaphore` is a counter with a few special properties. The first one is that the counting is atomic. This means that there is a guarantee that the operating system will not swap out the thread in the middle of incrementing or decrementing the counter.\n",
    "\n"
   ]
  },
  {
   "cell_type": "markdown",
   "id": "46770ba5",
   "metadata": {},
   "source": [
    "The internal counter is incremented when you call `.release()` and decremented when you call `.acquire()`.\n",
    "\n"
   ]
  },
  {
   "cell_type": "markdown",
   "id": "379368a4",
   "metadata": {},
   "source": [
    "The next special property is that if a thread calls `.acquire()` when the counter is zero, that thread will block until a different thread calls `.release()` and increments the counter to one.\n",
    "\n"
   ]
  },
  {
   "cell_type": "markdown",
   "id": "72466e00",
   "metadata": {},
   "source": [
    "Semaphores are frequently used to protect a resource that has a limited capacity. An example would be if you have a pool of connections and want to limit the size of that pool to a specific number.\n",
    "\n"
   ]
  },
  {
   "cell_type": "markdown",
   "id": "2c5b4f3f",
   "metadata": {},
   "source": [
    "<a class=\"anchor\" id=\"timer\"></a>\n",
    "### Timer"
   ]
  },
  {
   "cell_type": "markdown",
   "id": "96b10938",
   "metadata": {},
   "source": [
    "A `threading.Timer` is a way to schedule a function to be called after a certain amount of time has passed. You create a `Timer` by passing in a number of seconds to wait and a function to call:\n",
    "\n"
   ]
  },
  {
   "cell_type": "code",
   "execution_count": null,
   "id": "75ebfbcb",
   "metadata": {},
   "outputs": [],
   "source": [
    "t = threading.Timer(30.0, my_function)"
   ]
  },
  {
   "cell_type": "markdown",
   "id": "ff307439",
   "metadata": {},
   "source": [
    "You start the `Timer` by calling `.start()`. The function will be called on a new thread at some point after the specified time, but be aware that there is no promise that it will be called exactly at the time you want.\n",
    "\n"
   ]
  },
  {
   "cell_type": "markdown",
   "id": "a484d514",
   "metadata": {},
   "source": [
    "If you want to stop a `Timer` that you’ve already started, you can cancel it by calling `.cancel()`. Calling `.cancel()` after the `Timer` has triggered does nothing and does not produce an exception.\n",
    "\n"
   ]
  },
  {
   "cell_type": "markdown",
   "id": "2029150e",
   "metadata": {},
   "source": [
    "A `Timer` can be used to prompt a user for action after a specific amount of time. If the user does the action before the `Timer` expires, `.cancel()` can be called.\n",
    "\n"
   ]
  },
  {
   "cell_type": "markdown",
   "id": "7596683a",
   "metadata": {},
   "source": [
    "<a class=\"anchor\" id=\"barrier\"></a>\n",
    "### Barrier"
   ]
  },
  {
   "cell_type": "markdown",
   "id": "10c45443",
   "metadata": {},
   "source": [
    "A `threading.Barrier` can be used to keep a fixed number of threads in sync. When creating a `Barrier`, the caller must specify how many threads will be synchronizing on it. Each thread calls `.wait()` on the `Barrier`. They all will remain blocked until the specified number of threads are waiting, and then the are all released at the same time.\n",
    "\n"
   ]
  },
  {
   "cell_type": "markdown",
   "id": "5dcef5af",
   "metadata": {},
   "source": [
    "Remember that threads are scheduled by the operating system so, even though all of the threads are released simultaneously, they will be scheduled to run one at a time.\n",
    "\n"
   ]
  },
  {
   "cell_type": "markdown",
   "id": "ee63df27",
   "metadata": {},
   "source": [
    "One use for a `Barrier` is to allow a pool of threads to initialize themselves. Having the threads wait on a `Barrier` after they are initialized will ensure that none of the threads start running before all of the threads are finished with their initialization.\n",
    "\n"
   ]
  },
  {
   "cell_type": "markdown",
   "id": "36b88398-a1df-48e2-88bb-2da7b492d93f",
   "metadata": {},
   "source": [
    "<a class=\"anchor\" id=\"download_sites:_threading_version\"></a>\n",
    "## Download Sites: Threading Version"
   ]
  },
  {
   "cell_type": "markdown",
   "id": "d4c46245-1b9a-48b2-943f-9517d8b20f96",
   "metadata": {},
   "source": [
    "As you probably guessed, writing a threaded program takes more effort. You might be surprised at how little extra effort it takes for simple cases, however. Here’s what the same program looks like with `threading`:\n",
    "\n"
   ]
  },
  {
   "cell_type": "code",
   "execution_count": null,
   "id": "8b76a334",
   "metadata": {},
   "outputs": [],
   "source": [
    "import concurrent.futures\n",
    "import requests\n",
    "import threading\n",
    "import time"
   ]
  },
  {
   "cell_type": "code",
   "execution_count": null,
   "id": "e66411a0",
   "metadata": {},
   "outputs": [],
   "source": [
    "thread_local = threading.local()"
   ]
  },
  {
   "cell_type": "code",
   "execution_count": null,
   "id": "bbae590f",
   "metadata": {},
   "outputs": [],
   "source": [
    "def get_session():\n",
    "    if not hasattr(thread_local, \"session\"):\n",
    "        thread_local.session = requests.Session()\n",
    "    return thread_local.session"
   ]
  },
  {
   "cell_type": "code",
   "execution_count": null,
   "id": "ee0adfa3",
   "metadata": {},
   "outputs": [],
   "source": [
    "def download_site(url):\n",
    "    session = get_session()\n",
    "    with session.get(url) as response:\n",
    "        print(f\"Read {len(response.content)} from {url}\")"
   ]
  },
  {
   "cell_type": "code",
   "execution_count": null,
   "id": "a967faaf",
   "metadata": {},
   "outputs": [],
   "source": [
    "def download_all_sites(sites):\n",
    "    with concurrent.futures.ThreadPoolExecutor(max_workers=5) as executor:\n",
    "        executor.map(download_site, sites)"
   ]
  },
  {
   "cell_type": "code",
   "execution_count": null,
   "id": "c325c487",
   "metadata": {},
   "outputs": [],
   "source": [
    "sites = [\n",
    "    \"https://www.jython.org\",\n",
    "    \"http://olympus.realpython.org/dice\",\n",
    "] * 80\n",
    "start_time = time.time()\n",
    "download_all_sites(sites)\n",
    "duration = time.time() - start_time\n",
    "print(f\"Downloaded {len(sites)} in {duration} seconds\")"
   ]
  },
  {
   "cell_type": "markdown",
   "id": "ddb19acf-95ef-4bcd-b0ff-47b962211fbf",
   "metadata": {},
   "source": [
    "When you add `threading`, the overall structure is the same and you only needed to make a few changes. `download_all_sites()` changed from calling the function once per site to a more complex structure.\n",
    "\n"
   ]
  },
  {
   "cell_type": "markdown",
   "id": "f28805fb-38f2-42be-b8a6-622b7b17d0e0",
   "metadata": {},
   "source": [
    "In this version, you’re creating a `ThreadPoolExecutor`, which seems like a complicated thing. Let’s break that down: `ThreadPoolExecutor` = `Thread` + `Pool` + `Executor`.\n",
    "\n"
   ]
  },
  {
   "cell_type": "markdown",
   "id": "d2868f80-6a9c-4df1-9b35-40161010e0a8",
   "metadata": {},
   "source": [
    "You already know about the `Thread` part. That’s just a train of thought we mentioned earlier. The `Pool` portion is where it starts to get interesting. This object is going to create a pool of threads, each of which can run concurrently. Finally, the `Executor` is the part that’s going to control how and when each of the threads in the pool will run. It will execute the request in the pool.\n",
    "\n"
   ]
  },
  {
   "cell_type": "markdown",
   "id": "3177a11d-039e-49f5-8db9-fd0f9cfeff46",
   "metadata": {},
   "source": [
    "Helpfully, the standard library implements `ThreadPoolExecutor` as a context manager so you can use the `with` syntax to manage creating and freeing the pool of `Threads`.\n",
    "\n"
   ]
  },
  {
   "cell_type": "markdown",
   "id": "fff3cf2f-afaa-4958-b33c-816d31dbf9e8",
   "metadata": {},
   "source": [
    "Once you have a `ThreadPoolExecutor`, you can use its handy `.map()` method. This method runs the passed-in function on each of the sites in the list. The great part is that it automatically runs them concurrently using the pool of threads it is managing.\n",
    "\n"
   ]
  },
  {
   "cell_type": "markdown",
   "id": "6bd7cabd-6288-4ac2-9f06-362506124a51",
   "metadata": {},
   "source": [
    "Those of you coming from other languages, or even Python 2, are probably wondering where the usual objects and functions are that manage the details you’re used to when dealing with `threading`, things like `Thread.start()`, `Thread.join()`, and `Queue`.\n",
    "\n"
   ]
  },
  {
   "cell_type": "markdown",
   "id": "ed5e0a4f-5f4c-4c46-a68f-8bd77a860b73",
   "metadata": {},
   "source": [
    "These are all still there, and you can use them to achieve fine-grained control of how your threads are run. But, starting with Python 3.2, the standard library added a higher-level abstraction called `Executors` that manage many of the details for you if you don’t need that fine-grained control.\n",
    "\n"
   ]
  },
  {
   "cell_type": "markdown",
   "id": "d22280bc-30c1-411b-9454-00a2ead83413",
   "metadata": {},
   "source": [
    "The other interesting change in our example is that each thread needs to create its own `requests.Session()` object. When you’re looking at the documentation for `requests`, it’s not necessarily easy to tell, but reading [this issue](https://github.com/requests/requests/issues/2766), it seems fairly clear that you need a separate Session for each thread.\n",
    "\n"
   ]
  },
  {
   "cell_type": "markdown",
   "id": "7944b368-1581-44ac-8788-6c3dc849710e",
   "metadata": {},
   "source": [
    "This is one of the interesting and difficult issues with `threading`. Because the operating system is in control of when your task gets interrupted and another task starts, any data that is shared between the threads needs to be protected, or thread-safe. Unfortunately `requests.Session()` is not thread-safe.\n",
    "\n"
   ]
  },
  {
   "cell_type": "markdown",
   "id": "95f2b1b9-385d-4d11-9f91-05ec824c2e4c",
   "metadata": {},
   "source": [
    "There are several strategies for making data accesses thread-safe depending on what the data is and how you’re using it. One of them is to use thread-safe data structures like `Queue` from Python’s `queue` module.\n",
    "\n"
   ]
  },
  {
   "cell_type": "markdown",
   "id": "8a155326-e43e-4dfe-8b75-4f8263615ea3",
   "metadata": {},
   "source": [
    "These objects use low-level primitives like [`threading.Lock`](https://docs.python.org/2/library/threading.html#lock-objects) to ensure that only one thread can access a block of code or a bit of memory at the same time. You are using this strategy indirectly by way of the `ThreadPoolExecutor` object.\n",
    "\n"
   ]
  },
  {
   "cell_type": "markdown",
   "id": "a08bf0b1-c836-4542-83b5-e2a774e67526",
   "metadata": {},
   "source": [
    "Another strategy to use here is something called thread local storage. `threading.local()` creates an object that looks like a global but is specific to each individual thread. In your example, this is done with `thread_local` and `get_session()`:\n",
    "\n"
   ]
  },
  {
   "cell_type": "code",
   "execution_count": null,
   "id": "5db71950",
   "metadata": {},
   "outputs": [],
   "source": [
    "thread_local = threading.local()"
   ]
  },
  {
   "cell_type": "code",
   "execution_count": null,
   "id": "83189e81",
   "metadata": {},
   "outputs": [],
   "source": [
    "def get_session():\n",
    "    if not hasattr(thread_local, \"session\"):\n",
    "        thread_local.session = requests.Session()\n",
    "    return thread_local.session"
   ]
  },
  {
   "cell_type": "markdown",
   "id": "28ec0319-b3de-44bb-83d3-d69376d9b632",
   "metadata": {},
   "source": [
    "`local()` is in the `threading` module to specifically solve this problem. It looks a little odd, but you only want to create one of these objects, not one for each thread. The object itself takes care of separating accesses from different threads to different data.\n",
    "\n"
   ]
  },
  {
   "cell_type": "markdown",
   "id": "fdb87055-9678-408b-a50a-2548f62e0e33",
   "metadata": {},
   "source": [
    "When `get_session()` is called, the `session` it looks up is specific to the particular thread on which it’s running. So each thread will create a single session the first time it calls `get_session()` and then will simply use that session on each subsequent call throughout its lifetime.\n",
    "\n"
   ]
  },
  {
   "cell_type": "markdown",
   "id": "bed7446f-6400-4fac-8fa9-d68f77a81930",
   "metadata": {},
   "source": [
    "Finally, a quick note about picking the number of threads. You can see that the example code uses 5 threads. Feel free to play around with this number and see how the overall time changes. You might expect that having one thread per download would be the fastest but, at least on my system it was not. I found the fastest results somewhere between 5 and 10 threads. If you go any higher than that, then the extra overhead of creating and destroying the threads erases any time savings.\n",
    "\n"
   ]
  },
  {
   "cell_type": "markdown",
   "id": "20082854-80c9-485e-96c3-b9ca420bbf33",
   "metadata": {},
   "source": [
    "The difficult answer here is that the correct number of threads is not a constant from one task to another. Some experimentation is required.\n",
    "\n"
   ]
  },
  {
   "cell_type": "markdown",
   "id": "5e8987b8-44c0-48a5-a074-388a59e04650",
   "metadata": {},
   "source": [
    "**Why the `threading` Version Rocks**\n",
    "\n"
   ]
  },
  {
   "cell_type": "markdown",
   "id": "01b6e414-a885-4814-afe8-ede7c6540fa5",
   "metadata": {},
   "source": [
    "It’s fast! Here’s the fastest run of my tests. Remember that the non-concurrent version took more than 14 seconds:\n",
    "\n"
   ]
  },
  {
   "cell_type": "markdown",
   "id": "daccdeb8-7e44-4242-94f1-c96e64596a99",
   "metadata": {},
   "source": [
    "```sh\n",
    "$ ./io_threading.py\n",
    " [most output skipped]\n",
    "Downloaded 160 in 3.7238826751708984 seconds\n",
    "```"
   ]
  },
  {
   "cell_type": "markdown",
   "id": "b7f47502-b9e8-4a40-ae32-bfb29918219d",
   "metadata": {},
   "source": [
    "Here’s what its execution timing diagram looks like:\n",
    "\n"
   ]
  },
  {
   "cell_type": "markdown",
   "id": "cd13da88-1ec5-4e36-95a4-ef62d7489cf7",
   "metadata": {},
   "source": [
    "<img src=\"images/speed-up-your-python-program-with-concurrency/Threading.3eef48da829e.png\" width=\"600px\">"
   ]
  },
  {
   "cell_type": "markdown",
   "id": "a26a79be-789c-443a-bcf3-fd52f6ff5e2e",
   "metadata": {},
   "source": [
    "It uses multiple threads to have multiple open requests out to web sites at the same time, allowing your program to overlap the waiting times and get the final result faster! Yippee! That was the goal.\n",
    "\n"
   ]
  },
  {
   "cell_type": "markdown",
   "id": "aa1a839e-5f83-4b11-83bf-1a57b7d6faed",
   "metadata": {},
   "source": [
    "**The Problems with the `threading` Version**\n",
    "\n"
   ]
  },
  {
   "cell_type": "markdown",
   "id": "7c791e4f-b5b4-437f-abbf-f09d2cc938ab",
   "metadata": {},
   "source": [
    "Well, as you can see from the example, it takes a little more code to make this happen, and you really have to give some thought to what data is shared between threads.\n",
    "\n"
   ]
  },
  {
   "cell_type": "markdown",
   "id": "aa4ce81b-76c7-4ade-a091-a1a06f892af0",
   "metadata": {},
   "source": [
    "Threads can interact in ways that are subtle and hard to detect. These interactions can cause race conditions that frequently result in random, intermittent bugs that can be quite difficult to find.\n"
   ]
  },
  {
   "cell_type": "markdown",
   "id": "4e2a5919",
   "metadata": {},
   "source": [
    "<a class=\"anchor\" id=\"conclusion:_threading_in_python\"></a>\n",
    "## Conclusion: Threading in Python"
   ]
  },
  {
   "cell_type": "markdown",
   "id": "c302784b",
   "metadata": {},
   "source": [
    "You’ve now seen much of what Python `threading` has to offer and some examples of how to build threaded programs and the problems they solve. You’ve also seen a few instances of the problems that arise when writing and debugging threaded programs.\n",
    "\n"
   ]
  },
  {
   "cell_type": "markdown",
   "id": "d623fd7e",
   "metadata": {},
   "source": [
    "If you’d like to explore other options for concurrency in Python, check out [Speed Up Your Python Program With Concurrency](https://realpython.com/python-concurrency/)."
   ]
  },
  {
   "cell_type": "markdown",
   "id": "dd5adc75",
   "metadata": {},
   "source": [
    "If you’re interested in doing a deep dive on the `asyncio` module, go read [Async IO in Python: A Complete Walkthrough](https://realpython.com/async-io-python/).\n",
    "\n"
   ]
  },
  {
   "cell_type": "markdown",
   "id": "131b61b4",
   "metadata": {},
   "source": [
    "Whatever you do, you now have the information and confidence you need to write programs using Python threading!\n",
    "\n"
   ]
  },
  {
   "cell_type": "markdown",
   "id": "05625e00",
   "metadata": {},
   "source": [
    "*Special thanks to reader JL Diaz for helping to clean up the introduction.*\n",
    "\n"
   ]
  }
 ],
 "metadata": {
  "kernelspec": {
   "display_name": "Python 3 (ipykernel)",
   "language": "python",
   "name": "python3"
  },
  "language_info": {
   "codemirror_mode": {
    "name": "ipython",
    "version": 3
   },
   "file_extension": ".py",
   "mimetype": "text/x-python",
   "name": "python",
   "nbconvert_exporter": "python",
   "pygments_lexer": "ipython3",
   "version": "3.7.10"
  }
 },
 "nbformat": 4,
 "nbformat_minor": 5
}
