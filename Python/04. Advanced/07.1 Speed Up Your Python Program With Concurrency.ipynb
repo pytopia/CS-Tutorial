{
 "cells": [
  {
   "cell_type": "markdown",
   "id": "f7f8f368",
   "metadata": {},
   "source": [
    "<img src=\"../../images/banners/python-advanced.png\" width=\"600\"/>"
   ]
  },
  {
   "cell_type": "markdown",
   "id": "7f11ad8c",
   "metadata": {},
   "source": [
    "# <img src=\"../../images/logos/python.png\" width=\"23\"/> Speed Up Your Python Program With Concurrency \n"
   ]
  },
  {
   "cell_type": "markdown",
   "id": "d8c809d1",
   "metadata": {},
   "source": [
    "## <img src=\"../../images/logos/toc.png\" width=\"20\"/> Table of Contents \n",
    "* [What Is Concurrency?](#what_is_concurrency?)\n",
    "* [What Is Parallelism?](#what_is_parallelism?)\n",
    "* [When Is Concurrency Useful?](#when_is_concurrency_useful?)\n",
    "* [How to Speed Up an I/O-Bound Program](#how_to_speed_up_an_i/o-bound_program)\n",
    "    * [Synchronous Version](#synchronous_version)\n",
    "\n",
    "---"
   ]
  },
  {
   "cell_type": "markdown",
   "id": "5251a83c",
   "metadata": {},
   "source": [
    "If you’ve heard lots of talk about `asyncio` [being added to Python](https://realpython.com/python37-new-features/) but are curious how it compares to other concurrency methods or are wondering what concurrency is and how it might speed up your program, you’ve come to the right place.\n",
    "\n"
   ]
  },
  {
   "cell_type": "markdown",
   "id": "08263b92",
   "metadata": {},
   "source": [
    "**In this article, you’ll learn the following:**\n",
    "\n"
   ]
  },
  {
   "cell_type": "markdown",
   "id": "bc8b9110",
   "metadata": {},
   "source": [
    "- What **concurrency** is\n",
    "- What **parallelism** is\n",
    "- How some of **Python’s concurrency methods** compare, including `threading`, `asyncio`, and `multiprocessing`\n",
    "- **When to use concurrency** in your program and which module to use\n"
   ]
  },
  {
   "cell_type": "markdown",
   "id": "ebb736e4",
   "metadata": {},
   "source": [
    "This article assumes that you have a basic understanding of Python and that you’re using at least version 3.6 to run the examples. You can download the examples from the [*Real Python* GitHub repo](https://github.com/realpython/materials/tree/master/concurrency-overview).\n",
    "\n"
   ]
  },
  {
   "cell_type": "markdown",
   "id": "c14e8be4",
   "metadata": {},
   "source": [
    "<a class=\"anchor\" id=\"what_is_concurrency?\"></a>\n",
    "\n",
    "## What Is Concurrency?"
   ]
  },
  {
   "cell_type": "markdown",
   "id": "cb5339cd",
   "metadata": {},
   "source": [
    "The dictionary definition of concurrency is simultaneous occurrence. In Python, the things that are occurring simultaneously are called by different names (thread, task, process) but at a high level, they all refer to a sequence of instructions that run in order.\n",
    "\n"
   ]
  },
  {
   "cell_type": "markdown",
   "id": "cd1d8289",
   "metadata": {},
   "source": [
    "I like to think of them as different trains of thought. Each one can be stopped at certain points, and the CPU or brain that is processing them can switch to a different one. The state of each one is saved so it can be restarted right where it was interrupted.\n",
    "\n"
   ]
  },
  {
   "cell_type": "markdown",
   "id": "a9b63a96",
   "metadata": {},
   "source": [
    "You might wonder why Python uses different words for the same concept. It turns out that threads, tasks, and processes are only the same if you view them from a high level. Once you start digging into the details, they all represent slightly different things. You’ll see more of how they are different as you progress through the examples.\n",
    "\n"
   ]
  },
  {
   "cell_type": "markdown",
   "id": "872838b0",
   "metadata": {},
   "source": [
    "Now let’s talk about the simultaneous part of that definition. You have to be a little careful because, when you get down to the details, only `multiprocessing` actually runs these trains of thought at literally the same time. [`Threading`](https://realpython.com/intro-to-python-threading/) and `asyncio` both run on a single processor and therefore only run one at a time. They just cleverly find ways to take turns to speed up the overall process. Even though they don’t run different trains of thought simultaneously, we still call this concurrency.\n",
    "\n"
   ]
  },
  {
   "cell_type": "markdown",
   "id": "2b6272a8",
   "metadata": {},
   "source": [
    "The way the threads or tasks take turns is the big difference between `threading` and `asyncio`. In `threading`, the operating system actually knows about each thread and can interrupt it at any time to start running a different thread. This is called [pre-emptive multitasking](https://en.wikipedia.org/wiki/Preemption\\\\_%28computing%29#Preemptive\\\\_multitasking) since the operating system can pre-empt your thread to make the switch.\n",
    "\n"
   ]
  },
  {
   "cell_type": "markdown",
   "id": "f92037ac",
   "metadata": {},
   "source": [
    "Pre-emptive multitasking is handy in that the code in the thread doesn’t need to do anything to make the switch. It can also be difficult because of that “at any time” phrase. This switch can happen in the middle of a single Python statement, even a trivial one like `x = x + 1`.\n",
    "\n"
   ]
  },
  {
   "cell_type": "markdown",
   "id": "9117f77c",
   "metadata": {},
   "source": [
    "`Asyncio`, on the other hand, uses [cooperative multitasking](https://en.wikipedia.org/wiki/Cooperative\\\\_multitasking). The tasks must cooperate by announcing when they are ready to be switched out. That means that the code in the task has to change slightly to make this happen.\n",
    "\n"
   ]
  },
  {
   "cell_type": "markdown",
   "id": "48455a68",
   "metadata": {},
   "source": [
    "The benefit of doing this extra work up front is that you always know where your task will be swapped out. It will not be swapped out in the middle of a Python statement unless that statement is marked. You’ll see later how this can simplify parts of your design.\n",
    "\n"
   ]
  },
  {
   "cell_type": "markdown",
   "id": "2550c12f",
   "metadata": {},
   "source": [
    "<a class=\"anchor\" id=\"what_is_parallelism?\"></a>\n",
    "\n",
    "## What Is Parallelism?"
   ]
  },
  {
   "cell_type": "markdown",
   "id": "dbe8f60c",
   "metadata": {},
   "source": [
    "So far, you’ve looked at concurrency that happens on a single processor. What about all of those CPU cores your cool, new laptop has? How can you make use of them? `multiprocessing` is the answer.\n",
    "\n"
   ]
  },
  {
   "cell_type": "markdown",
   "id": "36ffaf81",
   "metadata": {},
   "source": [
    "With `multiprocessing`, Python creates new processes. A process here can be thought of as almost a completely different program, though technically they’re usually defined as a collection of resources where the resources include memory, file handles and things like that. One way to think about it is that each process runs in its own Python interpreter.\n",
    "\n"
   ]
  },
  {
   "cell_type": "markdown",
   "id": "8bbc2319",
   "metadata": {},
   "source": [
    "Because they are different processes, each of your trains of thought in a multiprocessing program can run on a different core. Running on a different core means that they actually can run at the same time, which is fabulous. There are some complications that arise from doing this, but Python does a pretty good job of smoothing them over most of the time.\n",
    "\n"
   ]
  },
  {
   "cell_type": "markdown",
   "id": "da2018fd",
   "metadata": {},
   "source": [
    "Now that you have an idea of what concurrency and parallelism are, let’s review their differences, and then we can look at why they can be useful:\n",
    "\n"
   ]
  },
  {
   "cell_type": "markdown",
   "id": "ac2edd23",
   "metadata": {},
   "source": [
    "|Concurrency Type|Switching Decision|Number of Processors|\n",
    "|:--|:--|:--|\n",
    "|Pre-emptive multitasking (`threading`)|The operating system decides when to switch tasks external to Python.|1|\n",
    "|Cooperative multitasking (`asyncio`)|The tasks decide when to give up control.|1|\n",
    "|Multiprocessing (`multiprocessing`)|The processes all run at the same time on different processors.|Many|\n"
   ]
  },
  {
   "cell_type": "markdown",
   "id": "42531dca",
   "metadata": {},
   "source": [
    "Each of these types of concurrency can be useful. Let’s take a look at what types of programs they can help you speed up.\n",
    "\n"
   ]
  },
  {
   "cell_type": "markdown",
   "id": "e4044d87",
   "metadata": {},
   "source": [
    "<a class=\"anchor\" id=\"when_is_concurrency_useful?\"></a>\n",
    "\n",
    "## When Is Concurrency Useful?"
   ]
  },
  {
   "cell_type": "markdown",
   "id": "dcfbb417",
   "metadata": {},
   "source": [
    "Concurrency can make a big difference for two types of problems. These are generally called CPU-bound and I/O-bound.\n",
    "\n"
   ]
  },
  {
   "cell_type": "markdown",
   "id": "0c47e6ea",
   "metadata": {},
   "source": [
    "I/O-bound problems cause your program to slow down because it frequently must wait for [input/output](https://realpython.com/python-input-output/) (I/O) from some external resource. They arise frequently when your program is working with things that are much slower than your CPU.\n",
    "\n"
   ]
  },
  {
   "cell_type": "markdown",
   "id": "86fe7099",
   "metadata": {},
   "source": [
    "Examples of things that are slower than your CPU are legion, but your program thankfully does not interact with most of them. The slow things your program will interact with most frequently are the file system and network connections.\n",
    "\n"
   ]
  },
  {
   "cell_type": "markdown",
   "id": "5b3d5d0f",
   "metadata": {},
   "source": [
    "Let’s see what that looks like:\n",
    "\n"
   ]
  },
  {
   "cell_type": "markdown",
   "id": "5819b95f",
   "metadata": {},
   "source": [
    "<img src=\"./images/speed-up-your-python-program-with-concurrency/IOBound.4810a888b457.png\" width=\"600px\">"
   ]
  },
  {
   "cell_type": "markdown",
   "id": "8006ee9b",
   "metadata": {},
   "source": [
    "In the diagram above, the blue boxes show time when your program is doing work, and the red boxes are time spent waiting for an I/O operation to complete. This diagram is not to scale because requests on the internet can take several orders of magnitude longer than CPU instructions, so your program can end up spending most of its time waiting. This is what your browser is doing most of the time.\n",
    "\n"
   ]
  },
  {
   "cell_type": "markdown",
   "id": "091505ce",
   "metadata": {},
   "source": [
    "On the flip side, there are classes of programs that do significant computation without talking to the network or accessing a file. These are the CPU-bound programs, because the resource limiting the speed of your program is the CPU, not the network or the file system.\n",
    "\n"
   ]
  },
  {
   "cell_type": "markdown",
   "id": "04ecf1f0",
   "metadata": {},
   "source": [
    "Here’s a corresponding diagram for a CPU-bound program:\n",
    "\n"
   ]
  },
  {
   "cell_type": "markdown",
   "id": "ea86c13d",
   "metadata": {},
   "source": [
    "<img src=\"./images/speed-up-your-python-program-with-concurrency/CPUBound.d2d32cb2626c.png\" width=\"600px\">"
   ]
  },
  {
   "cell_type": "markdown",
   "id": "40fd1f4c",
   "metadata": {},
   "source": [
    "As you work through the examples in the following section, you’ll see that different forms of concurrency work better or worse with CPU-bound and I/O-bound programs. Adding concurrency to your program adds extra code and complications, so you’ll need to decide if the potential speed up is worth the extra effort. By the end of this article, you should have enough info to start making that decision.\n",
    "\n"
   ]
  },
  {
   "cell_type": "markdown",
   "id": "b363da02",
   "metadata": {},
   "source": [
    "Here’s a quick summary to clarify this concept:\n",
    "\n"
   ]
  },
  {
   "cell_type": "markdown",
   "id": "c4d4a4b2",
   "metadata": {},
   "source": [
    "|I/O-Bound Process|CPU-Bound Process|\n",
    "|:--|:--|\n",
    "|Your program spends most of its time talking to a slow device, like a network connection, a hard drive, or a printer.|You program spends most of its time doing CPU operations.|\n",
    "|Speeding it up involves overlapping the times spent waiting for these devices.|Speeding it up involves finding ways to do more computations in the same amount of time.|\n"
   ]
  },
  {
   "cell_type": "markdown",
   "id": "71bd2768",
   "metadata": {},
   "source": [
    "You’ll look at I/O-bound programs first. Then, you’ll get to see some code dealing with CPU-bound programs.\n",
    "\n"
   ]
  },
  {
   "cell_type": "markdown",
   "id": "3d4e522b",
   "metadata": {},
   "source": [
    "<a class=\"anchor\" id=\"how_to_speed_up_an_i/o-bound_program\"></a>\n",
    "\n",
    "## How to Speed Up an I/O-Bound Program"
   ]
  },
  {
   "cell_type": "markdown",
   "id": "4bb266bb",
   "metadata": {},
   "source": [
    "Let’s start by focusing on I/O-bound programs and a common problem: downloading content over the network. For our example, you will be downloading web pages from a few sites, but it really could be any network traffic. It’s just easier to visualize and set up with web pages.\n",
    "\n"
   ]
  },
  {
   "cell_type": "markdown",
   "id": "9edbe344",
   "metadata": {},
   "source": [
    "<a class=\"anchor\" id=\"synchronous_version\"></a>\n",
    "\n",
    "### Synchronous Version"
   ]
  },
  {
   "cell_type": "markdown",
   "id": "3bc4b74e",
   "metadata": {},
   "source": [
    "We’ll start with a non-concurrent version of this task. Note that this program requires the [`requests`](http://docs.python-requests.org/en/master/) module. You should run `pip install requests` before running it, probably using a [virtualenv](https://realpython.com/python-virtual-environments-a-primer/). This version does not use concurrency at all:\n",
    "\n"
   ]
  },
  {
   "cell_type": "code",
   "execution_count": null,
   "id": "cd65933c",
   "metadata": {},
   "outputs": [],
   "source": [
    "import requests\n",
    "import time"
   ]
  },
  {
   "cell_type": "code",
   "execution_count": null,
   "id": "fba3d698",
   "metadata": {},
   "outputs": [],
   "source": [
    "def download_site(url, session):\n",
    "    with session.get(url) as response:\n",
    "        print(f\"Read {len(response.content)} from {url}\")"
   ]
  },
  {
   "cell_type": "code",
   "execution_count": null,
   "id": "635d8c4b",
   "metadata": {},
   "outputs": [],
   "source": [
    "def download_all_sites(sites):\n",
    "    with requests.Session() as session:\n",
    "        for url in sites:\n",
    "            download_site(url, session)"
   ]
  },
  {
   "cell_type": "code",
   "execution_count": null,
   "id": "1c48b32a",
   "metadata": {},
   "outputs": [],
   "source": [
    "sites = [\n",
    "    \"https://www.jython.org\",\n",
    "    \"http://olympus.realpython.org/dice\",\n",
    "] * 80\n",
    "start_time = time.time()\n",
    "download_all_sites(sites)\n",
    "duration = time.time() - start_time\n",
    "print(f\"Downloaded {len(sites)} in {duration} seconds\")"
   ]
  },
  {
   "cell_type": "markdown",
   "id": "a5a462dc",
   "metadata": {},
   "source": [
    "As you can see, this is a fairly short program. `download_site()` just downloads the contents from a URL and prints the size. One small thing to point out is that we’re using a [`Session`](https://2.python-requests.org/en/master/user/advanced/#id1) object from `requests`.\n",
    "\n"
   ]
  },
  {
   "cell_type": "markdown",
   "id": "836affbe",
   "metadata": {},
   "source": [
    "It is possible to simply use `get()` from `requests` directly, but creating a `Session` object allows `requests` to do some fancy networking tricks and really speed things up.\n",
    "\n"
   ]
  },
  {
   "cell_type": "markdown",
   "id": "02b5367a",
   "metadata": {},
   "source": [
    "`download_all_sites()` creates the `Session` and then walks through the [list](https://realpython.com/python-lists-tuples/) of sites, downloading each one in turn. Finally, it prints out how long this process took so you can have the satisfaction of seeing how much concurrency has helped us in the following examples.\n",
    "\n"
   ]
  },
  {
   "cell_type": "markdown",
   "id": "fe8c7726",
   "metadata": {},
   "source": [
    "The processing diagram for this program will look much like the I/O-bound diagram in the last section.\n",
    "\n"
   ]
  },
  {
   "cell_type": "markdown",
   "id": "ba0315ff",
   "metadata": {},
   "source": [
    "**Why the Synchronous Version Rocks**\n",
    "\n"
   ]
  },
  {
   "cell_type": "markdown",
   "id": "fe3550db",
   "metadata": {},
   "source": [
    "The great thing about this version of code is that, well, it’s easy. It was comparatively easy to write and debug. It’s also more straight-forward to think about. There’s only one train of thought running through it, so you can predict what the next step is and how it will behave.\n",
    "\n"
   ]
  },
  {
   "cell_type": "markdown",
   "id": "00fda5dc",
   "metadata": {},
   "source": [
    "**The Problems With the Synchronous Version**\n",
    "\n"
   ]
  },
  {
   "cell_type": "markdown",
   "id": "53c646a1",
   "metadata": {},
   "source": [
    "The big problem here is that it’s relatively slow compared to the other solutions we’ll provide. Here’s an example of what the final output gave on my machine:\n",
    "\n"
   ]
  },
  {
   "cell_type": "markdown",
   "id": "7e13f92b",
   "metadata": {},
   "source": [
    "```sh\n",
    "$ ./io_non_concurrent.py\n",
    " [most output skipped]\n",
    "Downloaded 160 in 14.289619207382202 seconds\n",
    "```"
   ]
  },
  {
   "cell_type": "markdown",
   "id": "f467fe15",
   "metadata": {},
   "source": [
    "Being slower isn’t always a big issue, however. If the program you’re running takes only 2 seconds with a synchronous version and is only run rarely, it’s probably not worth adding concurrency. You can stop here.\n",
    "\n"
   ]
  },
  {
   "cell_type": "markdown",
   "id": "07b25c4a",
   "metadata": {},
   "source": [
    "What if your program is run frequently? What if it takes hours to run? Let’s move on to concurrency in the next sections by rewriting this program using `threading`.\n",
    "\n"
   ]
  }
 ],
 "metadata": {
  "kernelspec": {
   "display_name": "Python 3 (ipykernel)",
   "language": "python",
   "name": "python3"
  },
  "language_info": {
   "codemirror_mode": {
    "name": "ipython",
    "version": 3
   },
   "file_extension": ".py",
   "mimetype": "text/x-python",
   "name": "python",
   "nbconvert_exporter": "python",
   "pygments_lexer": "ipython3",
   "version": "3.7.10"
  }
 },
 "nbformat": 4,
 "nbformat_minor": 5
}
