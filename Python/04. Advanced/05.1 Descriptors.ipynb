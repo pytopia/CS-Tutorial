{
 "cells": [
  {
   "cell_type": "markdown",
   "id": "903c6fd6",
   "metadata": {},
   "source": [
    "<img src=\"../../images/banners/python-advanced.png\" width=\"600\"/>"
   ]
  },
  {
   "cell_type": "markdown",
   "id": "strong-tracy",
   "metadata": {},
   "source": [
    "# <img src=\"../../images/logos/python.png\" width=\"23\"/> Descriptors \n",
    "\n",
    "Descriptors are a specific Python feature that power a lot of the magic hidden under the language’s hood. If you’ve ever thought that Python descriptors are an advanced topic with few practical applications, then this tutorial is the perfect tool to help you understand this powerful feature. You’ll come to understand why Python descriptors are such an interesting topic, and what kind of use cases you can apply them to."
   ]
  },
  {
   "cell_type": "markdown",
   "id": "575517f5",
   "metadata": {},
   "source": [
    "## Table of Contents\n",
    "\n",
    "\n",
    "* [What Are Python Descriptors?](#what_are_python_descriptors?)\n",
    "* [Purpose of Descriptors](#purpose_of_descriptors)\n",
    "    * [Dynamic Lookup](#dynamic_lookup)\n",
    "    * [Managed attributes](#managed_attributes)\n",
    "    * [Customized names](#customized_names)\n",
    "    * [Closing thoughts](#closing_thoughts)\n",
    "* [Complete Practical Example](#complete_practical_example)\n",
    "    * [Validator class](#validator_class)\n",
    "    * [Custom validators](#custom_validators)\n",
    "    * [Practical application](#practical_application)\n",
    "    * [Pure Python Equivalents](#pure_python_equivalents)\n",
    "* [Python Descriptors in Methods and Functions](#python_descriptors_in_methods_and_functions)\n",
    "* [How Attributes Are Accessed With the Lookup Chain](#how_attributes_are_accessed_with_the_lookup_chain)\n",
    "* [Why Use Python Descriptors?](#why_use_python_descriptors?)\n",
    "    * [Lazy Properties](#lazy_properties)\n",
    "    * [D.R.Y. Code](#d.r.y._code)\n",
    "* [<img src=\"../../images/logos/checkmark.png\" width=\"20\"/> Conclusion](#<img_src=\"../../images/logos/checkmark.png\"_width=\"20\"/>_conclusion)\n",
    "\n",
    "---"
   ]
  },
  {
   "cell_type": "markdown",
   "id": "contemporary-shelter",
   "metadata": {},
   "source": [
    "<a class=\"anchor\" id=\"what_are_python_descriptors?\"></a>\n",
    "## What Are Python Descriptors?\n",
    "\n",
    "Descriptors are Python objects that implement a method of the descriptor protocol, which gives you the ability to create objects that have special behavior when they’re accessed as attributes of other objects. They are a general-purpose way of intercepting attribute access. Descriptors are the mechanism behind properties' static methods, class methods, super methods, etc.\n",
    "\n",
    "Here you can see the correct definition of the descriptor protocol:\n",
    "\n",
    "\n",
    "```python\n",
    "__get__(self, obj, type=None) -> object\n",
    "__set__(self, obj, value) -> None\n",
    "__delete__(self, obj) -> None\n",
    "__set_name__(self, owner, name)\n",
    "```"
   ]
  },
  {
   "cell_type": "markdown",
   "id": "differential-ballot",
   "metadata": {},
   "source": [
    "If your descriptor implements just `.__get__()`, then it’s said to be a **non-data descriptor**. If it implements `.__set__()` or `.__delete__()`, then it’s said to be a **data descriptor**. Note that this difference is not just about the name, but it’s also a difference in behavior. The non-data descriptors are only readable while the data descriptors are both readable and writable. That’s because data descriptors have precedence during the lookup process, as you’ll see later on."
   ]
  },
  {
   "cell_type": "markdown",
   "id": "headed-chest",
   "metadata": {},
   "source": [
    "It is important to note that descriptors are assigned to a class, not to the instance of a class. Modifying the class overwrites or deletes the descriptor itself, rather than triggering its code.\n",
    "\n",
    "Finally, the descriptor class is not only confined to have these three methods, which means it can also contain any other attribute apart from the `get`, `set`, and `delete` method."
   ]
  },
  {
   "cell_type": "markdown",
   "id": "portable-opposition",
   "metadata": {},
   "source": [
    "Let's understand the get, set, and delete methods in more detail inspired by this IBM Developer page:\n",
    "\n",
    "- `self` is the instance of the descriptor you create (Real Python).\n",
    "- `object` is the instance of the object your descriptor is attached (Real Python).\n",
    "- `type` is the type of the object the descriptor is attached to (Real Python).\n",
    "- `value` is the value that is assigned to the attribute of the descriptor. get(self, object, type) set(self, object, value) delete(self, object)\n",
    "- `__get__()` accesses the attribute or when you want to extract some information. It returns the value of the attribute or raises the AttributeError exception if a requested attribute is not present.\n",
    "\n",
    "- `__set__()` is called in an attribute assignment operation that sets the value of an attribute. Returns nothing. But can raise the AttributeError exception.\n",
    "\n",
    "- `__delete__()` controls a delete operation, i.e., when you would want to delete the attribute from an object. Returns nothing."
   ]
  },
  {
   "cell_type": "markdown",
   "id": "unusual-invasion",
   "metadata": {},
   "source": [
    "<a class=\"anchor\" id=\"purpose_of_descriptors\"></a>\n",
    "## Purpose of Descriptors"
   ]
  },
  {
   "cell_type": "markdown",
   "id": "adaptive-camel",
   "metadata": {},
   "source": [
    "Let's define a class car that has three attributes, namely `brand` and `fuel_cap`. You will use the `__init__()` method to initialize the attributes of the class. Then, you will use the magic function `__str__()`, which will simply return the output of the three attributes that you will pass to the class while creating the object."
   ]
  },
  {
   "cell_type": "code",
   "execution_count": 1,
   "id": "seeing-syndrome",
   "metadata": {},
   "outputs": [],
   "source": [
    "class Car:\n",
    "    def __init__(self, brand, fuel_cap):\n",
    "        self.brand = brand\n",
    "        self.fuel_cap = fuel_cap\n",
    "\n",
    "    def __str__(self):\n",
    "        return f\"{self.brand} model with a fuel capacity of {self.fuel_cap} ltr.\""
   ]
  },
  {
   "cell_type": "code",
   "execution_count": 3,
   "id": "german-repair",
   "metadata": {},
   "outputs": [
    {
     "name": "stdout",
     "output_type": "stream",
     "text": [
      "BMW model with a fuel capacity of 40 ltr.\n"
     ]
    }
   ],
   "source": [
    "car_2 = Car(\"BMW\", 40)\n",
    "print(car_2)"
   ]
  },
  {
   "cell_type": "markdown",
   "id": "close-repeat",
   "metadata": {},
   "source": [
    "So as you can see from the above output, everything looks great!"
   ]
  },
  {
   "cell_type": "markdown",
   "id": "ordered-party",
   "metadata": {},
   "source": [
    "Now let's change the fuel capacity of the car to negative 40."
   ]
  },
  {
   "cell_type": "code",
   "execution_count": 7,
   "id": "front-atlanta",
   "metadata": {},
   "outputs": [
    {
     "name": "stdout",
     "output_type": "stream",
     "text": [
      "BMW model with a fuel capacity of -40 ltr.\n"
     ]
    }
   ],
   "source": [
    "car_2 = Car(\"BMW\", -40)\n",
    "print(car_2)"
   ]
  },
  {
   "cell_type": "markdown",
   "id": "compatible-pantyhose",
   "metadata": {},
   "source": [
    "Hold on, there is something wrong, isn't it? The fuel capacity of the car can never be negative. However, Python accepts it as an input without any error. That's because Python is a dynamic programming language that does not support type-checking explicitly."
   ]
  },
  {
   "cell_type": "markdown",
   "id": "featured-embassy",
   "metadata": {},
   "source": [
    "To avoid this issue, let's add an `if` condition in the `__init__()` method and check whether the inputted fuel capacity is valid or invalid. If the fuel capacity entered is invalid, then raise a ValueError exception."
   ]
  },
  {
   "cell_type": "code",
   "execution_count": 10,
   "id": "duplicate-challenge",
   "metadata": {},
   "outputs": [],
   "source": [
    "class Car:\n",
    "    def __init__(self, brand, fuel_cap):\n",
    "        self.brand = brand\n",
    "        self.fuel_cap = fuel_cap\n",
    "        \n",
    "        if self.fuel_cap <= 0:\n",
    "            raise ValueError(\"Fuel capacity can never be less than zero!\")\n",
    "\n",
    "    def __str__(self):\n",
    "        return f\"{self.brand} model with a fuel capacity of {self.fuel_cap} ltr.\""
   ]
  },
  {
   "cell_type": "code",
   "execution_count": 11,
   "id": "center-trinidad",
   "metadata": {},
   "outputs": [
    {
     "ename": "ValueError",
     "evalue": "Fuel capacity can never be less than zero!",
     "output_type": "error",
     "traceback": [
      "\u001b[0;31m---------------------------------------------------------------------------\u001b[0m",
      "\u001b[0;31mValueError\u001b[0m                                Traceback (most recent call last)",
      "\u001b[0;32m<ipython-input-11-113080103440>\u001b[0m in \u001b[0;36m<module>\u001b[0;34m\u001b[0m\n\u001b[0;32m----> 1\u001b[0;31m \u001b[0mcar_2\u001b[0m \u001b[0;34m=\u001b[0m \u001b[0mCar\u001b[0m\u001b[0;34m(\u001b[0m\u001b[0;34m\"BMW\"\u001b[0m\u001b[0;34m,\u001b[0m \u001b[0;34m-\u001b[0m\u001b[0;36m40\u001b[0m\u001b[0;34m)\u001b[0m\u001b[0;34m\u001b[0m\u001b[0;34m\u001b[0m\u001b[0m\n\u001b[0m\u001b[1;32m      2\u001b[0m \u001b[0mprint\u001b[0m\u001b[0;34m(\u001b[0m\u001b[0mcar_2\u001b[0m\u001b[0;34m)\u001b[0m\u001b[0;34m\u001b[0m\u001b[0;34m\u001b[0m\u001b[0m\n",
      "\u001b[0;32m<ipython-input-10-74378ca7cfb3>\u001b[0m in \u001b[0;36m__init__\u001b[0;34m(self, brand, fuel_cap)\u001b[0m\n\u001b[1;32m      5\u001b[0m \u001b[0;34m\u001b[0m\u001b[0m\n\u001b[1;32m      6\u001b[0m         \u001b[0;32mif\u001b[0m \u001b[0mself\u001b[0m\u001b[0;34m.\u001b[0m\u001b[0mfuel_cap\u001b[0m \u001b[0;34m<=\u001b[0m \u001b[0;36m0\u001b[0m\u001b[0;34m:\u001b[0m\u001b[0;34m\u001b[0m\u001b[0;34m\u001b[0m\u001b[0m\n\u001b[0;32m----> 7\u001b[0;31m             \u001b[0;32mraise\u001b[0m \u001b[0mValueError\u001b[0m\u001b[0;34m(\u001b[0m\u001b[0;34m\"Fuel capacity can never be less than zero!\"\u001b[0m\u001b[0;34m)\u001b[0m\u001b[0;34m\u001b[0m\u001b[0;34m\u001b[0m\u001b[0m\n\u001b[0m\u001b[1;32m      8\u001b[0m \u001b[0;34m\u001b[0m\u001b[0m\n\u001b[1;32m      9\u001b[0m     \u001b[0;32mdef\u001b[0m \u001b[0m__str__\u001b[0m\u001b[0;34m(\u001b[0m\u001b[0mself\u001b[0m\u001b[0;34m)\u001b[0m\u001b[0;34m:\u001b[0m\u001b[0;34m\u001b[0m\u001b[0;34m\u001b[0m\u001b[0m\n",
      "\u001b[0;31mValueError\u001b[0m: Fuel capacity can never be less than zero!"
     ]
    }
   ],
   "source": [
    "car_2 = Car(\"BMW\", -40)\n",
    "print(car_2)"
   ]
  },
  {
   "cell_type": "markdown",
   "id": "mounted-button",
   "metadata": {},
   "source": [
    "From the above output, you can observe that everything works fine for now since the program raises a `ValueError` if the fuel capacity is below zero."
   ]
  },
  {
   "cell_type": "markdown",
   "id": "paperback-completion",
   "metadata": {},
   "source": [
    "However, what if you would like to change the fuel capacity attribute to negative 40 explicitly later on. In this case, it will not work, since the type-checking will be done only in the `__init__()` method once. As you would know, the `__init__()` method is a constructor, and it is called only once when you create an object of the class. Hence, the custom type-checking will fail later on."
   ]
  },
  {
   "cell_type": "markdown",
   "id": "phantom-cliff",
   "metadata": {},
   "source": [
    "Let's understand it with an example."
   ]
  },
  {
   "cell_type": "code",
   "execution_count": 13,
   "id": "eastern-stage",
   "metadata": {},
   "outputs": [],
   "source": [
    "class Car:\n",
    "    def __init__(self, brand, fuel_cap):\n",
    "        self.brand = brand\n",
    "        self.fuel_cap = fuel_cap\n",
    "        \n",
    "        if self.fuel_cap <= 0:\n",
    "            raise ValueError(\"Fuel capacity can never be less than zero!\")\n",
    "\n",
    "    def __str__(self):\n",
    "        return f\"{self.brand} model with a fuel capacity of {self.fuel_cap} ltr.\""
   ]
  },
  {
   "cell_type": "code",
   "execution_count": 14,
   "id": "metric-binding",
   "metadata": {},
   "outputs": [
    {
     "name": "stdout",
     "output_type": "stream",
     "text": [
      "BMW model with a fuel capacity of 40 ltr.\n"
     ]
    }
   ],
   "source": [
    "car_2 = Car(\"BMW\", 40)\n",
    "print(car_2)"
   ]
  },
  {
   "cell_type": "code",
   "execution_count": 15,
   "id": "norwegian-portfolio",
   "metadata": {},
   "outputs": [],
   "source": [
    "car_2.fuel_cap = -40"
   ]
  },
  {
   "cell_type": "markdown",
   "id": "powered-bolivia",
   "metadata": {},
   "source": [
    "And there you go! You were able to break out of type-checking."
   ]
  },
  {
   "cell_type": "markdown",
   "id": "quiet-client",
   "metadata": {},
   "source": [
    "Now think it this way, what if you have many other attributes of the car like `mileage`, `price`, `accessories`, etc. which requires type-checking as well and you also would like functionality in which some of these attributes have only `read` access. Wouldn't that be so annoying?"
   ]
  },
  {
   "cell_type": "markdown",
   "id": "competent-privacy",
   "metadata": {},
   "source": [
    "Well, to address all of the above problems, Python has Descriptors that come to the rescue!"
   ]
  },
  {
   "cell_type": "markdown",
   "id": "stainless-nickel",
   "metadata": {},
   "source": [
    "As you learned above that any class that implements `__get__()`, `__set()__`, or `__delete()__` magic methods for an object of descriptor protocol are called Descriptors. They also give you additional control over how an attribute should work like whether it should have a read or write access."
   ]
  },
  {
   "cell_type": "markdown",
   "id": "determined-influence",
   "metadata": {},
   "source": [
    "Now let's extend the above example by adding the Python Descriptor methods."
   ]
  },
  {
   "cell_type": "code",
   "execution_count": 7,
   "id": "correct-jordan",
   "metadata": {},
   "outputs": [],
   "source": [
    "class Descriptor:\n",
    "    def __init__(self):\n",
    "        self.__fuel_cap = 0\n",
    "\n",
    "    def __get__(self, instance, owner):\n",
    "        print(\"Calling get...\")\n",
    "        return self.__fuel_cap\n",
    "\n",
    "    def __set__(self, instance, value):\n",
    "        print(\"Calling set...\")\n",
    "        if not isinstance(value, int):\n",
    "            raise TypeError(\"Fuel Capacity can only be an integer\")\n",
    "\n",
    "        if value < 0:\n",
    "            raise ValueError(\"Fuel Capacity can never be less than zero\")\n",
    "\n",
    "        self.__fuel_cap = value\n",
    "\n",
    "    def __delete__(self, instance):\n",
    "        print(\"Calling delete...\")\n",
    "        del self.__fuel_cap"
   ]
  },
  {
   "cell_type": "code",
   "execution_count": 8,
   "id": "former-gospel",
   "metadata": {},
   "outputs": [],
   "source": [
    "class Car:\n",
    "    fuel_cap = Descriptor()\n",
    "\n",
    "    def __init__(self, brand, fuel_cap):\n",
    "        self.brand = brand\n",
    "        self.fuel_cap = fuel_cap\n",
    "\n",
    "    def __str__(self):\n",
    "        return f\"{self.brand} model with a fuel capacity of {self.fuel_cap} ltr.\""
   ]
  },
  {
   "cell_type": "code",
   "execution_count": 9,
   "id": "extended-merchant",
   "metadata": {},
   "outputs": [
    {
     "name": "stdout",
     "output_type": "stream",
     "text": [
      "Calling set...\n"
     ]
    }
   ],
   "source": [
    "car_2 = Car(\"BMW\", 40)"
   ]
  },
  {
   "cell_type": "code",
   "execution_count": 95,
   "id": "resident-horror",
   "metadata": {},
   "outputs": [
    {
     "name": "stdout",
     "output_type": "stream",
     "text": [
      "---> <class 'type'>\n",
      "Calling get...\n",
      "BMW model with a fuel capacity of 40 ltr.\n"
     ]
    }
   ],
   "source": [
    "print(car_2)"
   ]
  },
  {
   "cell_type": "markdown",
   "id": "every-theology",
   "metadata": {},
   "source": [
    "Perfect! So as you can see, it works when you update the fuel capacity attribute later on.\n",
    "\n",
    "Well, there is a slight problem in Descriptors and which is that when you create a new instance or a second instance of the class, the previous instance value gets overridden. The reason is that Descriptors are linked to class and not the instance."
   ]
  },
  {
   "cell_type": "code",
   "execution_count": 76,
   "id": "handled-yield",
   "metadata": {},
   "outputs": [
    {
     "name": "stdout",
     "output_type": "stream",
     "text": [
      "Calling get...\n"
     ]
    },
    {
     "data": {
      "text/plain": [
       "40"
      ]
     },
     "execution_count": 76,
     "metadata": {},
     "output_type": "execute_result"
    }
   ],
   "source": [
    "car_2.fuel_cap"
   ]
  },
  {
   "cell_type": "code",
   "execution_count": 77,
   "id": "talented-cemetery",
   "metadata": {},
   "outputs": [
    {
     "name": "stdout",
     "output_type": "stream",
     "text": [
      "Calling set...\n"
     ]
    }
   ],
   "source": [
    "car_3 = Car(\"BMW\", 80)"
   ]
  },
  {
   "cell_type": "code",
   "execution_count": 78,
   "id": "activated-spectrum",
   "metadata": {},
   "outputs": [
    {
     "name": "stdout",
     "output_type": "stream",
     "text": [
      "Calling get...\n"
     ]
    },
    {
     "data": {
      "text/plain": [
       "80"
      ]
     },
     "execution_count": 78,
     "metadata": {},
     "output_type": "execute_result"
    }
   ],
   "source": [
    "car_2.fuel_cap"
   ]
  },
  {
   "cell_type": "markdown",
   "id": "later-stability",
   "metadata": {},
   "source": [
    "<a class=\"anchor\" id=\"dynamic_lookup\"></a>\n",
    "### Dynamic Lookup"
   ]
  },
  {
   "cell_type": "markdown",
   "id": "current-determination",
   "metadata": {},
   "source": [
    "Interesting descriptors typically run computations instead of returning constants:"
   ]
  },
  {
   "cell_type": "code",
   "execution_count": 10,
   "id": "pediatric-crossing",
   "metadata": {},
   "outputs": [],
   "source": [
    "from pathlib import Path\n",
    "\n",
    "class DirectorySize:\n",
    "\n",
    "    def __get__(self, instance, owner):\n",
    "        return len(list(Path(instance.dirname).iterdir()))\n",
    "\n",
    "class Directory:\n",
    "\n",
    "    size = DirectorySize()              # Descriptor instance\n",
    "\n",
    "    def __init__(self, dirname):\n",
    "        self.dirname = dirname          # Regular instance attribute"
   ]
  },
  {
   "cell_type": "code",
   "execution_count": 11,
   "id": "australian-spirit",
   "metadata": {},
   "outputs": [],
   "source": [
    "s = Directory('.')"
   ]
  },
  {
   "cell_type": "code",
   "execution_count": 12,
   "id": "exclusive-modern",
   "metadata": {},
   "outputs": [
    {
     "data": {
      "text/plain": [
       "12"
      ]
     },
     "execution_count": 12,
     "metadata": {},
     "output_type": "execute_result"
    }
   ],
   "source": [
    "s.size"
   ]
  },
  {
   "cell_type": "code",
   "execution_count": 13,
   "id": "stunning-privilege",
   "metadata": {},
   "outputs": [],
   "source": [
    "s.dirname = '..'"
   ]
  },
  {
   "cell_type": "code",
   "execution_count": 14,
   "id": "growing-cooking",
   "metadata": {},
   "outputs": [
    {
     "data": {
      "text/plain": [
       "11"
      ]
     },
     "execution_count": 14,
     "metadata": {},
     "output_type": "execute_result"
    }
   ],
   "source": [
    "s.size"
   ]
  },
  {
   "cell_type": "markdown",
   "id": "coral-japan",
   "metadata": {},
   "source": [
    "Besides showing how descriptors can run computations, this example also reveals the purpose of the parameters to `__get__()`. The self parameter is size, an instance of DirectorySize. The obj parameter is either g or s, an instance of Directory. It is the obj parameter that lets the `__get__()` method learn the target directory. The objtype parameter is the class Directory."
   ]
  },
  {
   "cell_type": "markdown",
   "id": "returning-postage",
   "metadata": {},
   "source": [
    "<a class=\"anchor\" id=\"managed_attributes\"></a>\n",
    "### Managed attributes"
   ]
  },
  {
   "cell_type": "markdown",
   "id": "forbidden-testimony",
   "metadata": {},
   "source": [
    "A popular use for descriptors is managing access to instance data. The descriptor is assigned to a public attribute in the class dictionary while the actual data is stored as a private attribute in the instance dictionary. The descriptor’s `__get__()` and `__set__()` methods are triggered when the public attribute is accessed."
   ]
  },
  {
   "cell_type": "markdown",
   "id": "spectacular-eleven",
   "metadata": {},
   "source": [
    "In the following example, `age` is the public attribute and `_age` is the private attribute. When the public attribute is accessed, the descriptor logs the lookup or update:"
   ]
  },
  {
   "cell_type": "code",
   "execution_count": 1,
   "id": "jewish-viking",
   "metadata": {},
   "outputs": [],
   "source": [
    "import logging\n",
    "\n",
    "logging.basicConfig(level=logging.INFO)\n",
    "\n",
    "class LoggedAgeAccess:\n",
    "\n",
    "    def __get__(self, obj, objtype=None):\n",
    "        value = obj._age\n",
    "        logging.info(f\"Accessing 'age' giving {value}\")\n",
    "        return value\n",
    "\n",
    "    def __set__(self, obj, value):\n",
    "        logging.info(f\"Updating 'age' to {value}\")\n",
    "        obj._age = value\n",
    "\n",
    "class Person:\n",
    "\n",
    "    age = LoggedAgeAccess()             # Descriptor instance\n",
    "    name = LoggedAgeAccess()\n",
    "\n",
    "    def __init__(self, name, age):\n",
    "        self.name = name                # Regular instance attribute\n",
    "        self.age = age                  # Calls __set__()\n",
    "\n",
    "    def birthday(self):\n",
    "        self.age += 1                   # Calls both __get__() and __set__()"
   ]
  },
  {
   "cell_type": "markdown",
   "id": "dominant-level",
   "metadata": {},
   "source": [
    "An interactive session shows that all access to the managed attribute age is logged, but that the regular attribute name is not logged:"
   ]
  },
  {
   "cell_type": "code",
   "execution_count": 2,
   "id": "regulated-course",
   "metadata": {},
   "outputs": [
    {
     "name": "stderr",
     "output_type": "stream",
     "text": [
      "INFO:root:Updating 'age' to 28\n"
     ]
    }
   ],
   "source": [
    "ali = Person(\"Ali\", 28)"
   ]
  },
  {
   "cell_type": "code",
   "execution_count": 3,
   "id": "congressional-sender",
   "metadata": {},
   "outputs": [
    {
     "data": {
      "text/plain": [
       "{'name': 'Ali', '_age': 28}"
      ]
     },
     "execution_count": 3,
     "metadata": {},
     "output_type": "execute_result"
    }
   ],
   "source": [
    "vars(ali)"
   ]
  },
  {
   "cell_type": "code",
   "execution_count": 4,
   "id": "measured-steering",
   "metadata": {},
   "outputs": [
    {
     "name": "stderr",
     "output_type": "stream",
     "text": [
      "INFO:root:Updating 'age' to 29\n"
     ]
    }
   ],
   "source": [
    "ali.age = 29"
   ]
  },
  {
   "cell_type": "code",
   "execution_count": 5,
   "id": "entire-object",
   "metadata": {},
   "outputs": [
    {
     "data": {
      "text/plain": [
       "'Ali'"
      ]
     },
     "execution_count": 5,
     "metadata": {},
     "output_type": "execute_result"
    }
   ],
   "source": [
    "ali.name"
   ]
  },
  {
   "cell_type": "code",
   "execution_count": 6,
   "id": "expensive-cardiff",
   "metadata": {},
   "outputs": [
    {
     "name": "stderr",
     "output_type": "stream",
     "text": [
      "INFO:root:Accessing 'age' giving 29\n"
     ]
    },
    {
     "data": {
      "text/plain": [
       "29"
      ]
     },
     "execution_count": 6,
     "metadata": {},
     "output_type": "execute_result"
    }
   ],
   "source": [
    "ali.age"
   ]
  },
  {
   "cell_type": "markdown",
   "id": "powerful-value",
   "metadata": {},
   "source": [
    "One major issue with this example is that the private name `_age` is hardwired in the `LoggedAgeAccess` class. That means that each instance can only have one logged attribute and that its name is unchangeable. In the next example, we’ll fix that problem."
   ]
  },
  {
   "cell_type": "markdown",
   "id": "referenced-plaintiff",
   "metadata": {},
   "source": [
    "<a class=\"anchor\" id=\"customized_names\"></a>\n",
    "### Customized names"
   ]
  },
  {
   "cell_type": "markdown",
   "id": "possible-airplane",
   "metadata": {},
   "source": [
    "When a class uses descriptors, it can inform each descriptor about which variable name was used."
   ]
  },
  {
   "cell_type": "markdown",
   "id": "injured-platinum",
   "metadata": {},
   "source": [
    "In this example, the `Person` class has two descriptor instances, name and age. When the `Person` class is defined, it makes a callback to `__set_name__()` in `LoggedAccess` so that the field names can be recorded, giving each descriptor its own public name and private name:"
   ]
  },
  {
   "cell_type": "code",
   "execution_count": 166,
   "id": "gorgeous-processing",
   "metadata": {},
   "outputs": [
    {
     "name": "stdout",
     "output_type": "stream",
     "text": [
      "<class '__main__.Person'> name\n",
      "<class '__main__.Person'> age\n"
     ]
    }
   ],
   "source": [
    "import logging\n",
    "\n",
    "logging.basicConfig(level=logging.INFO)\n",
    "\n",
    "class LoggedAccess:\n",
    "\n",
    "    def __set_name__(self, owner, name):\n",
    "        self.public_name = name\n",
    "        self.private_name = '_' + name\n",
    "\n",
    "    def __get__(self, obj, objtype=None):\n",
    "        value = getattr(obj, self.private_name)\n",
    "        logging.info(f\"Accessing '{self.public_name}' giving {value}\")\n",
    "        return value\n",
    "\n",
    "    def __set__(self, obj, value):\n",
    "        logging.info(f\"Updating '{self.public_name}' to {value}\")\n",
    "        setattr(obj, self.private_name, value)\n",
    "\n",
    "class Person:\n",
    "\n",
    "    name = LoggedAccess()                # First descriptor instance\n",
    "    age = LoggedAccess()                 # Second descriptor instance\n",
    "\n",
    "    def __init__(self, name, age):\n",
    "        self.name = name                 # Calls the first descriptor\n",
    "        self.age = age                   # Calls the second descriptor\n",
    "\n",
    "    def birthday(self):\n",
    "        self.age += 1"
   ]
  },
  {
   "cell_type": "code",
   "execution_count": 163,
   "id": "agreed-philippines",
   "metadata": {},
   "outputs": [
    {
     "name": "stderr",
     "output_type": "stream",
     "text": [
      "INFO:root:Updating 'name' to Ali\n",
      "INFO:root:Updating 'age' to 28\n"
     ]
    }
   ],
   "source": [
    "ali = Person(\"Ali\", 28)"
   ]
  },
  {
   "cell_type": "code",
   "execution_count": 164,
   "id": "miniature-israeli",
   "metadata": {},
   "outputs": [
    {
     "name": "stderr",
     "output_type": "stream",
     "text": [
      "INFO:root:Accessing 'name' giving Ali\n"
     ]
    },
    {
     "data": {
      "text/plain": [
       "'Ali'"
      ]
     },
     "execution_count": 164,
     "metadata": {},
     "output_type": "execute_result"
    }
   ],
   "source": [
    "ali.name"
   ]
  },
  {
   "cell_type": "code",
   "execution_count": 167,
   "id": "dressed-accent",
   "metadata": {},
   "outputs": [
    {
     "data": {
      "text/plain": [
       "{'_name': 'Ali', '_age': 28}"
      ]
     },
     "execution_count": 167,
     "metadata": {},
     "output_type": "execute_result"
    }
   ],
   "source": [
    "vars(ali)"
   ]
  },
  {
   "cell_type": "markdown",
   "id": "technical-following",
   "metadata": {},
   "source": [
    "<a class=\"anchor\" id=\"closing_thoughts\"></a>\n",
    "### Closing thoughts\n",
    "A descriptor is what we call any object that defines `__get__()`, `__set__()`, or `__delete__()`.\n",
    "\n",
    "- Optionally, descriptors can have a `__set_name__()` method. This is only used in cases where a descriptor needs to know either the class where it was created or the name of class variable it was assigned to. (This method, if present, is called even if the class is not a descriptor.)\n",
    "\n",
    "- Descriptors get invoked by the dot “operator” during attribute lookup. If a descriptor is accessed indirectly with `vars(some_class)[descriptor_name]`, the descriptor instance is returned without invoking it.\n",
    "\n",
    "- Descriptors only work when used as class variables. When put in instances, they have no effect.\n",
    "\n",
    "- The main motivation for descriptors is to provide a hook allowing objects stored in class variables to control what happens during attribute lookup.\n",
    "\n",
    "- Traditionally, the calling class controls what happens during lookup. Descriptors invert that relationship and allow the data being looked-up to have a say in the matter.\n",
    "\n",
    "- Descriptors are used throughout the language. It is how functions turn into bound methods. Common tools like `classmethod()`, `staticmethod()`, `property()`, and `functools.cached_property()` are all implemented as descriptors."
   ]
  },
  {
   "cell_type": "markdown",
   "id": "floating-shirt",
   "metadata": {},
   "source": [
    "<a class=\"anchor\" id=\"complete_practical_example\"></a>\n",
    "## Complete Practical Example"
   ]
  },
  {
   "cell_type": "markdown",
   "id": "indie-louisville",
   "metadata": {},
   "source": [
    "In this example, we create a practical and powerful tool for locating notoriously hard to find data corruption bugs."
   ]
  },
  {
   "cell_type": "markdown",
   "id": "stone-stock",
   "metadata": {},
   "source": [
    "<a class=\"anchor\" id=\"validator_class\"></a>\n",
    "### Validator class\n",
    "\n",
    "A validator is a descriptor for managed attribute access. Prior to storing any data, it verifies that the new value meets various type and range restrictions. If those restrictions aren’t met, it raises an exception to prevent data corruption at its source."
   ]
  },
  {
   "cell_type": "markdown",
   "id": "spoken-tooth",
   "metadata": {},
   "source": [
    "This `Validator` class is both an abstract base class and a managed attribute descriptor:"
   ]
  },
  {
   "cell_type": "code",
   "execution_count": 19,
   "id": "national-craft",
   "metadata": {},
   "outputs": [],
   "source": [
    "from abc import ABC, abstractmethod\n",
    "\n",
    "class Validator(ABC):\n",
    "\n",
    "    def __set_name__(self, owner, name):\n",
    "        self.private_name = '_' + name\n",
    "\n",
    "    def __get__(self, obj, objtype=None):\n",
    "        return getattr(obj, self.private_name)\n",
    "\n",
    "    def __set__(self, obj, value):\n",
    "        self.validate(value)\n",
    "        setattr(obj, self.private_name, value)\n",
    "\n",
    "    @abstractmethod\n",
    "    def validate(self, value):\n",
    "        pass"
   ]
  },
  {
   "cell_type": "markdown",
   "id": "specific-botswana",
   "metadata": {},
   "source": [
    "Custom validators need to inherit from `Validator` and must supply a `validate()` method to test various restrictions as needed."
   ]
  },
  {
   "cell_type": "markdown",
   "id": "multiple-request",
   "metadata": {},
   "source": [
    "<a class=\"anchor\" id=\"custom_validators\"></a>\n",
    "### Custom validators\n",
    "Here are three practical data validation utilities:\n",
    "\n",
    "- `OneOf` verifies that a value is one of a restricted set of options.\n",
    "\n",
    "- `Number` verifies that a value is either an `int` or `float`. Optionally, it verifies that a value is between a given minimum or maximum.\n",
    "\n",
    "- `String` verifies that a value is a `str`. Optionally, it validates a given minimum or maximum length. It can validate a user-defined predicate as well."
   ]
  },
  {
   "cell_type": "code",
   "execution_count": 20,
   "id": "seventh-vampire",
   "metadata": {},
   "outputs": [],
   "source": [
    "class OneOf(Validator):\n",
    "\n",
    "    def __init__(self, *options):\n",
    "        self.options = set(options)\n",
    "\n",
    "    def validate(self, value):\n",
    "        if value not in self.options:\n",
    "            raise ValueError(f'Expected {value!r} to be one of {self.options!r}')"
   ]
  },
  {
   "cell_type": "code",
   "execution_count": 21,
   "id": "parental-republic",
   "metadata": {},
   "outputs": [],
   "source": [
    "class Number(Validator):\n",
    "\n",
    "    def __init__(self, minvalue=None, maxvalue=None):\n",
    "        self.minvalue = minvalue\n",
    "        self.maxvalue = maxvalue\n",
    "\n",
    "    def validate(self, value):\n",
    "        if not isinstance(value, (int, float)):\n",
    "            raise TypeError(f'Expected {value!r} to be an int or float')\n",
    "        if self.minvalue is not None and value < self.minvalue:\n",
    "            raise ValueError(\n",
    "                f'Expected {value!r} to be at least {self.minvalue!r}'\n",
    "            )\n",
    "        if self.maxvalue is not None and value > self.maxvalue:\n",
    "            raise ValueError(\n",
    "                f'Expected {value!r} to be no more than {self.maxvalue!r}'\n",
    "            )"
   ]
  },
  {
   "cell_type": "code",
   "execution_count": 22,
   "id": "detailed-target",
   "metadata": {},
   "outputs": [],
   "source": [
    "class String(Validator):\n",
    "\n",
    "    def __init__(self, minsize=None, maxsize=None, predicate=None):\n",
    "        self.minsize = minsize\n",
    "        self.maxsize = maxsize\n",
    "        self.predicate = predicate\n",
    "\n",
    "    def validate(self, value):\n",
    "        if not isinstance(value, str):\n",
    "            raise TypeError(f'Expected {value!r} to be an str')\n",
    "        if self.minsize is not None and len(value) < self.minsize:\n",
    "            raise ValueError(\n",
    "                f'Expected {value!r} to be no smaller than {self.minsize!r}'\n",
    "            )\n",
    "        if self.maxsize is not None and len(value) > self.maxsize:\n",
    "            raise ValueError(\n",
    "                f'Expected {value!r} to be no bigger than {self.maxsize!r}'\n",
    "            )\n",
    "        if self.predicate is not None and not self.predicate(value):\n",
    "            raise ValueError(\n",
    "                f'Expected {self.predicate} to be true for {value!r}'\n",
    "            )"
   ]
  },
  {
   "cell_type": "markdown",
   "id": "facial-vector",
   "metadata": {},
   "source": [
    "<a class=\"anchor\" id=\"practical_application\"></a>\n",
    "### Practical application"
   ]
  },
  {
   "cell_type": "markdown",
   "id": "satisfactory-drinking",
   "metadata": {},
   "source": [
    "Here’s how the data validators can be used in a real class:"
   ]
  },
  {
   "cell_type": "code",
   "execution_count": 38,
   "id": "earlier-wilson",
   "metadata": {},
   "outputs": [],
   "source": [
    "class Component:\n",
    "\n",
    "    name = String(minsize=3, maxsize=10, predicate=str.isupper)\n",
    "    kind = OneOf('wood', 'metal', 'plastic')\n",
    "    quantity = Number(minvalue=0)\n",
    "\n",
    "    def __init__(self, name, kind, quantity):\n",
    "        self.name = name\n",
    "        self.kind = kind\n",
    "        self.quantity = quantity"
   ]
  },
  {
   "cell_type": "markdown",
   "id": "british-terrorism",
   "metadata": {},
   "source": [
    "The descriptors prevent invalid instances from being created:"
   ]
  },
  {
   "cell_type": "code",
   "execution_count": 39,
   "id": "supposed-sterling",
   "metadata": {},
   "outputs": [
    {
     "ename": "ValueError",
     "evalue": "Expected <method 'isupper' of 'str' objects> to be true for 'Widget'",
     "output_type": "error",
     "traceback": [
      "\u001b[0;31m---------------------------------------------------------------------------\u001b[0m",
      "\u001b[0;31mValueError\u001b[0m                                Traceback (most recent call last)",
      "\u001b[0;32m<ipython-input-39-d42d9ac780a4>\u001b[0m in \u001b[0;36m<module>\u001b[0;34m\u001b[0m\n\u001b[1;32m      1\u001b[0m \u001b[0;31m# this should raise `ValueError`\u001b[0m\u001b[0;34m\u001b[0m\u001b[0;34m\u001b[0m\u001b[0;34m\u001b[0m\u001b[0m\n\u001b[0;32m----> 2\u001b[0;31m \u001b[0mComponent\u001b[0m\u001b[0;34m(\u001b[0m\u001b[0mname\u001b[0m\u001b[0;34m=\u001b[0m\u001b[0;34m'Widget'\u001b[0m\u001b[0;34m,\u001b[0m \u001b[0mkind\u001b[0m\u001b[0;34m=\u001b[0m\u001b[0;34m'metal'\u001b[0m\u001b[0;34m,\u001b[0m \u001b[0mquantity\u001b[0m\u001b[0;34m=\u001b[0m\u001b[0;36m5\u001b[0m\u001b[0;34m)\u001b[0m\u001b[0;34m\u001b[0m\u001b[0;34m\u001b[0m\u001b[0m\n\u001b[0m",
      "\u001b[0;32m<ipython-input-38-a3327444ac58>\u001b[0m in \u001b[0;36m__init__\u001b[0;34m(self, name, kind, quantity)\u001b[0m\n\u001b[1;32m      6\u001b[0m \u001b[0;34m\u001b[0m\u001b[0m\n\u001b[1;32m      7\u001b[0m     \u001b[0;32mdef\u001b[0m \u001b[0m__init__\u001b[0m\u001b[0;34m(\u001b[0m\u001b[0mself\u001b[0m\u001b[0;34m,\u001b[0m \u001b[0mname\u001b[0m\u001b[0;34m,\u001b[0m \u001b[0mkind\u001b[0m\u001b[0;34m,\u001b[0m \u001b[0mquantity\u001b[0m\u001b[0;34m)\u001b[0m\u001b[0;34m:\u001b[0m\u001b[0;34m\u001b[0m\u001b[0;34m\u001b[0m\u001b[0m\n\u001b[0;32m----> 8\u001b[0;31m         \u001b[0mself\u001b[0m\u001b[0;34m.\u001b[0m\u001b[0mname\u001b[0m \u001b[0;34m=\u001b[0m \u001b[0mname\u001b[0m\u001b[0;34m\u001b[0m\u001b[0;34m\u001b[0m\u001b[0m\n\u001b[0m\u001b[1;32m      9\u001b[0m         \u001b[0mself\u001b[0m\u001b[0;34m.\u001b[0m\u001b[0mkind\u001b[0m \u001b[0;34m=\u001b[0m \u001b[0mkind\u001b[0m\u001b[0;34m\u001b[0m\u001b[0;34m\u001b[0m\u001b[0m\n\u001b[1;32m     10\u001b[0m         \u001b[0mself\u001b[0m\u001b[0;34m.\u001b[0m\u001b[0mquantity\u001b[0m \u001b[0;34m=\u001b[0m \u001b[0mquantity\u001b[0m\u001b[0;34m\u001b[0m\u001b[0;34m\u001b[0m\u001b[0m\n",
      "\u001b[0;32m<ipython-input-19-69e5bf319cba>\u001b[0m in \u001b[0;36m__set__\u001b[0;34m(self, obj, value)\u001b[0m\n\u001b[1;32m     10\u001b[0m \u001b[0;34m\u001b[0m\u001b[0m\n\u001b[1;32m     11\u001b[0m     \u001b[0;32mdef\u001b[0m \u001b[0m__set__\u001b[0m\u001b[0;34m(\u001b[0m\u001b[0mself\u001b[0m\u001b[0;34m,\u001b[0m \u001b[0mobj\u001b[0m\u001b[0;34m,\u001b[0m \u001b[0mvalue\u001b[0m\u001b[0;34m)\u001b[0m\u001b[0;34m:\u001b[0m\u001b[0;34m\u001b[0m\u001b[0;34m\u001b[0m\u001b[0m\n\u001b[0;32m---> 12\u001b[0;31m         \u001b[0mself\u001b[0m\u001b[0;34m.\u001b[0m\u001b[0mvalidate\u001b[0m\u001b[0;34m(\u001b[0m\u001b[0mvalue\u001b[0m\u001b[0;34m)\u001b[0m\u001b[0;34m\u001b[0m\u001b[0;34m\u001b[0m\u001b[0m\n\u001b[0m\u001b[1;32m     13\u001b[0m         \u001b[0msetattr\u001b[0m\u001b[0;34m(\u001b[0m\u001b[0mobj\u001b[0m\u001b[0;34m,\u001b[0m \u001b[0mself\u001b[0m\u001b[0;34m.\u001b[0m\u001b[0mprivate_name\u001b[0m\u001b[0;34m,\u001b[0m \u001b[0mvalue\u001b[0m\u001b[0;34m)\u001b[0m\u001b[0;34m\u001b[0m\u001b[0;34m\u001b[0m\u001b[0m\n\u001b[1;32m     14\u001b[0m \u001b[0;34m\u001b[0m\u001b[0m\n",
      "\u001b[0;32m<ipython-input-22-23dcc79a7cd9>\u001b[0m in \u001b[0;36mvalidate\u001b[0;34m(self, value)\u001b[0m\n\u001b[1;32m     19\u001b[0m         \u001b[0;32mif\u001b[0m \u001b[0mself\u001b[0m\u001b[0;34m.\u001b[0m\u001b[0mpredicate\u001b[0m \u001b[0;32mis\u001b[0m \u001b[0;32mnot\u001b[0m \u001b[0;32mNone\u001b[0m \u001b[0;32mand\u001b[0m \u001b[0;32mnot\u001b[0m \u001b[0mself\u001b[0m\u001b[0;34m.\u001b[0m\u001b[0mpredicate\u001b[0m\u001b[0;34m(\u001b[0m\u001b[0mvalue\u001b[0m\u001b[0;34m)\u001b[0m\u001b[0;34m:\u001b[0m\u001b[0;34m\u001b[0m\u001b[0;34m\u001b[0m\u001b[0m\n\u001b[1;32m     20\u001b[0m             raise ValueError(\n\u001b[0;32m---> 21\u001b[0;31m                 \u001b[0;34mf'Expected {self.predicate} to be true for {value!r}'\u001b[0m\u001b[0;34m\u001b[0m\u001b[0;34m\u001b[0m\u001b[0m\n\u001b[0m\u001b[1;32m     22\u001b[0m             )\n",
      "\u001b[0;31mValueError\u001b[0m: Expected <method 'isupper' of 'str' objects> to be true for 'Widget'"
     ]
    }
   ],
   "source": [
    "# this should raise `ValueError`\n",
    "Component(name='Widget', kind='metal', quantity=5)"
   ]
  },
  {
   "cell_type": "code",
   "execution_count": 40,
   "id": "suffering-theme",
   "metadata": {},
   "outputs": [
    {
     "ename": "ValueError",
     "evalue": "Expected 'metle' to be one of {'plastic', 'wood', 'metal'}",
     "output_type": "error",
     "traceback": [
      "\u001b[0;31m---------------------------------------------------------------------------\u001b[0m",
      "\u001b[0;31mValueError\u001b[0m                                Traceback (most recent call last)",
      "\u001b[0;32m<ipython-input-40-27df07fd876d>\u001b[0m in \u001b[0;36m<module>\u001b[0;34m\u001b[0m\n\u001b[1;32m      1\u001b[0m \u001b[0;31m# this should raise `ValueError`\u001b[0m\u001b[0;34m\u001b[0m\u001b[0;34m\u001b[0m\u001b[0;34m\u001b[0m\u001b[0m\n\u001b[0;32m----> 2\u001b[0;31m \u001b[0mComponent\u001b[0m\u001b[0;34m(\u001b[0m\u001b[0mname\u001b[0m\u001b[0;34m=\u001b[0m\u001b[0;34m'WIDGET'\u001b[0m\u001b[0;34m,\u001b[0m \u001b[0mkind\u001b[0m\u001b[0;34m=\u001b[0m\u001b[0;34m'metle'\u001b[0m\u001b[0;34m,\u001b[0m \u001b[0mquantity\u001b[0m\u001b[0;34m=\u001b[0m\u001b[0;36m5\u001b[0m\u001b[0;34m)\u001b[0m\u001b[0;34m\u001b[0m\u001b[0;34m\u001b[0m\u001b[0m\n\u001b[0m",
      "\u001b[0;32m<ipython-input-38-a3327444ac58>\u001b[0m in \u001b[0;36m__init__\u001b[0;34m(self, name, kind, quantity)\u001b[0m\n\u001b[1;32m      7\u001b[0m     \u001b[0;32mdef\u001b[0m \u001b[0m__init__\u001b[0m\u001b[0;34m(\u001b[0m\u001b[0mself\u001b[0m\u001b[0;34m,\u001b[0m \u001b[0mname\u001b[0m\u001b[0;34m,\u001b[0m \u001b[0mkind\u001b[0m\u001b[0;34m,\u001b[0m \u001b[0mquantity\u001b[0m\u001b[0;34m)\u001b[0m\u001b[0;34m:\u001b[0m\u001b[0;34m\u001b[0m\u001b[0;34m\u001b[0m\u001b[0m\n\u001b[1;32m      8\u001b[0m         \u001b[0mself\u001b[0m\u001b[0;34m.\u001b[0m\u001b[0mname\u001b[0m \u001b[0;34m=\u001b[0m \u001b[0mname\u001b[0m\u001b[0;34m\u001b[0m\u001b[0;34m\u001b[0m\u001b[0m\n\u001b[0;32m----> 9\u001b[0;31m         \u001b[0mself\u001b[0m\u001b[0;34m.\u001b[0m\u001b[0mkind\u001b[0m \u001b[0;34m=\u001b[0m \u001b[0mkind\u001b[0m\u001b[0;34m\u001b[0m\u001b[0;34m\u001b[0m\u001b[0m\n\u001b[0m\u001b[1;32m     10\u001b[0m         \u001b[0mself\u001b[0m\u001b[0;34m.\u001b[0m\u001b[0mquantity\u001b[0m \u001b[0;34m=\u001b[0m \u001b[0mquantity\u001b[0m\u001b[0;34m\u001b[0m\u001b[0;34m\u001b[0m\u001b[0m\n",
      "\u001b[0;32m<ipython-input-19-69e5bf319cba>\u001b[0m in \u001b[0;36m__set__\u001b[0;34m(self, obj, value)\u001b[0m\n\u001b[1;32m     10\u001b[0m \u001b[0;34m\u001b[0m\u001b[0m\n\u001b[1;32m     11\u001b[0m     \u001b[0;32mdef\u001b[0m \u001b[0m__set__\u001b[0m\u001b[0;34m(\u001b[0m\u001b[0mself\u001b[0m\u001b[0;34m,\u001b[0m \u001b[0mobj\u001b[0m\u001b[0;34m,\u001b[0m \u001b[0mvalue\u001b[0m\u001b[0;34m)\u001b[0m\u001b[0;34m:\u001b[0m\u001b[0;34m\u001b[0m\u001b[0;34m\u001b[0m\u001b[0m\n\u001b[0;32m---> 12\u001b[0;31m         \u001b[0mself\u001b[0m\u001b[0;34m.\u001b[0m\u001b[0mvalidate\u001b[0m\u001b[0;34m(\u001b[0m\u001b[0mvalue\u001b[0m\u001b[0;34m)\u001b[0m\u001b[0;34m\u001b[0m\u001b[0;34m\u001b[0m\u001b[0m\n\u001b[0m\u001b[1;32m     13\u001b[0m         \u001b[0msetattr\u001b[0m\u001b[0;34m(\u001b[0m\u001b[0mobj\u001b[0m\u001b[0;34m,\u001b[0m \u001b[0mself\u001b[0m\u001b[0;34m.\u001b[0m\u001b[0mprivate_name\u001b[0m\u001b[0;34m,\u001b[0m \u001b[0mvalue\u001b[0m\u001b[0;34m)\u001b[0m\u001b[0;34m\u001b[0m\u001b[0;34m\u001b[0m\u001b[0m\n\u001b[1;32m     14\u001b[0m \u001b[0;34m\u001b[0m\u001b[0m\n",
      "\u001b[0;32m<ipython-input-20-77e2e309ad57>\u001b[0m in \u001b[0;36mvalidate\u001b[0;34m(self, value)\u001b[0m\n\u001b[1;32m      6\u001b[0m     \u001b[0;32mdef\u001b[0m \u001b[0mvalidate\u001b[0m\u001b[0;34m(\u001b[0m\u001b[0mself\u001b[0m\u001b[0;34m,\u001b[0m \u001b[0mvalue\u001b[0m\u001b[0;34m)\u001b[0m\u001b[0;34m:\u001b[0m\u001b[0;34m\u001b[0m\u001b[0;34m\u001b[0m\u001b[0m\n\u001b[1;32m      7\u001b[0m         \u001b[0;32mif\u001b[0m \u001b[0mvalue\u001b[0m \u001b[0;32mnot\u001b[0m \u001b[0;32min\u001b[0m \u001b[0mself\u001b[0m\u001b[0;34m.\u001b[0m\u001b[0moptions\u001b[0m\u001b[0;34m:\u001b[0m\u001b[0;34m\u001b[0m\u001b[0;34m\u001b[0m\u001b[0m\n\u001b[0;32m----> 8\u001b[0;31m             \u001b[0;32mraise\u001b[0m \u001b[0mValueError\u001b[0m\u001b[0;34m(\u001b[0m\u001b[0;34mf'Expected {value!r} to be one of {self.options!r}'\u001b[0m\u001b[0;34m)\u001b[0m\u001b[0;34m\u001b[0m\u001b[0;34m\u001b[0m\u001b[0m\n\u001b[0m",
      "\u001b[0;31mValueError\u001b[0m: Expected 'metle' to be one of {'plastic', 'wood', 'metal'}"
     ]
    }
   ],
   "source": [
    "# this should raise `ValueError`\n",
    "Component(name='WIDGET', kind='metle', quantity=5)"
   ]
  },
  {
   "cell_type": "code",
   "execution_count": 41,
   "id": "verbal-flour",
   "metadata": {},
   "outputs": [
    {
     "ename": "ValueError",
     "evalue": "Expected -5 to be at least 0",
     "output_type": "error",
     "traceback": [
      "\u001b[0;31m---------------------------------------------------------------------------\u001b[0m",
      "\u001b[0;31mValueError\u001b[0m                                Traceback (most recent call last)",
      "\u001b[0;32m<ipython-input-41-12dc57603ad3>\u001b[0m in \u001b[0;36m<module>\u001b[0;34m\u001b[0m\n\u001b[1;32m      1\u001b[0m \u001b[0;31m# this should raise `ValueError`\u001b[0m\u001b[0;34m\u001b[0m\u001b[0;34m\u001b[0m\u001b[0;34m\u001b[0m\u001b[0m\n\u001b[0;32m----> 2\u001b[0;31m \u001b[0mComponent\u001b[0m\u001b[0;34m(\u001b[0m\u001b[0mname\u001b[0m\u001b[0;34m=\u001b[0m\u001b[0;34m'WIDGET'\u001b[0m\u001b[0;34m,\u001b[0m \u001b[0mkind\u001b[0m\u001b[0;34m=\u001b[0m\u001b[0;34m'metal'\u001b[0m\u001b[0;34m,\u001b[0m \u001b[0mquantity\u001b[0m\u001b[0;34m=\u001b[0m\u001b[0;34m-\u001b[0m\u001b[0;36m5\u001b[0m\u001b[0;34m)\u001b[0m\u001b[0;34m\u001b[0m\u001b[0;34m\u001b[0m\u001b[0m\n\u001b[0m",
      "\u001b[0;32m<ipython-input-38-a3327444ac58>\u001b[0m in \u001b[0;36m__init__\u001b[0;34m(self, name, kind, quantity)\u001b[0m\n\u001b[1;32m      8\u001b[0m         \u001b[0mself\u001b[0m\u001b[0;34m.\u001b[0m\u001b[0mname\u001b[0m \u001b[0;34m=\u001b[0m \u001b[0mname\u001b[0m\u001b[0;34m\u001b[0m\u001b[0;34m\u001b[0m\u001b[0m\n\u001b[1;32m      9\u001b[0m         \u001b[0mself\u001b[0m\u001b[0;34m.\u001b[0m\u001b[0mkind\u001b[0m \u001b[0;34m=\u001b[0m \u001b[0mkind\u001b[0m\u001b[0;34m\u001b[0m\u001b[0;34m\u001b[0m\u001b[0m\n\u001b[0;32m---> 10\u001b[0;31m         \u001b[0mself\u001b[0m\u001b[0;34m.\u001b[0m\u001b[0mquantity\u001b[0m \u001b[0;34m=\u001b[0m \u001b[0mquantity\u001b[0m\u001b[0;34m\u001b[0m\u001b[0;34m\u001b[0m\u001b[0m\n\u001b[0m",
      "\u001b[0;32m<ipython-input-19-69e5bf319cba>\u001b[0m in \u001b[0;36m__set__\u001b[0;34m(self, obj, value)\u001b[0m\n\u001b[1;32m     10\u001b[0m \u001b[0;34m\u001b[0m\u001b[0m\n\u001b[1;32m     11\u001b[0m     \u001b[0;32mdef\u001b[0m \u001b[0m__set__\u001b[0m\u001b[0;34m(\u001b[0m\u001b[0mself\u001b[0m\u001b[0;34m,\u001b[0m \u001b[0mobj\u001b[0m\u001b[0;34m,\u001b[0m \u001b[0mvalue\u001b[0m\u001b[0;34m)\u001b[0m\u001b[0;34m:\u001b[0m\u001b[0;34m\u001b[0m\u001b[0;34m\u001b[0m\u001b[0m\n\u001b[0;32m---> 12\u001b[0;31m         \u001b[0mself\u001b[0m\u001b[0;34m.\u001b[0m\u001b[0mvalidate\u001b[0m\u001b[0;34m(\u001b[0m\u001b[0mvalue\u001b[0m\u001b[0;34m)\u001b[0m\u001b[0;34m\u001b[0m\u001b[0;34m\u001b[0m\u001b[0m\n\u001b[0m\u001b[1;32m     13\u001b[0m         \u001b[0msetattr\u001b[0m\u001b[0;34m(\u001b[0m\u001b[0mobj\u001b[0m\u001b[0;34m,\u001b[0m \u001b[0mself\u001b[0m\u001b[0;34m.\u001b[0m\u001b[0mprivate_name\u001b[0m\u001b[0;34m,\u001b[0m \u001b[0mvalue\u001b[0m\u001b[0;34m)\u001b[0m\u001b[0;34m\u001b[0m\u001b[0;34m\u001b[0m\u001b[0m\n\u001b[1;32m     14\u001b[0m \u001b[0;34m\u001b[0m\u001b[0m\n",
      "\u001b[0;32m<ipython-input-21-3f17963df5dd>\u001b[0m in \u001b[0;36mvalidate\u001b[0;34m(self, value)\u001b[0m\n\u001b[1;32m     10\u001b[0m         \u001b[0;32mif\u001b[0m \u001b[0mself\u001b[0m\u001b[0;34m.\u001b[0m\u001b[0mminvalue\u001b[0m \u001b[0;32mis\u001b[0m \u001b[0;32mnot\u001b[0m \u001b[0;32mNone\u001b[0m \u001b[0;32mand\u001b[0m \u001b[0mvalue\u001b[0m \u001b[0;34m<\u001b[0m \u001b[0mself\u001b[0m\u001b[0;34m.\u001b[0m\u001b[0mminvalue\u001b[0m\u001b[0;34m:\u001b[0m\u001b[0;34m\u001b[0m\u001b[0;34m\u001b[0m\u001b[0m\n\u001b[1;32m     11\u001b[0m             raise ValueError(\n\u001b[0;32m---> 12\u001b[0;31m                 \u001b[0;34mf'Expected {value!r} to be at least {self.minvalue!r}'\u001b[0m\u001b[0;34m\u001b[0m\u001b[0;34m\u001b[0m\u001b[0m\n\u001b[0m\u001b[1;32m     13\u001b[0m             )\n\u001b[1;32m     14\u001b[0m         \u001b[0;32mif\u001b[0m \u001b[0mself\u001b[0m\u001b[0;34m.\u001b[0m\u001b[0mmaxvalue\u001b[0m \u001b[0;32mis\u001b[0m \u001b[0;32mnot\u001b[0m \u001b[0;32mNone\u001b[0m \u001b[0;32mand\u001b[0m \u001b[0mvalue\u001b[0m \u001b[0;34m>\u001b[0m \u001b[0mself\u001b[0m\u001b[0;34m.\u001b[0m\u001b[0mmaxvalue\u001b[0m\u001b[0;34m:\u001b[0m\u001b[0;34m\u001b[0m\u001b[0;34m\u001b[0m\u001b[0m\n",
      "\u001b[0;31mValueError\u001b[0m: Expected -5 to be at least 0"
     ]
    }
   ],
   "source": [
    "# this should raise `ValueError`\n",
    "Component(name='WIDGET', kind='metal', quantity=-5)"
   ]
  },
  {
   "cell_type": "code",
   "execution_count": 42,
   "id": "sticky-analysis",
   "metadata": {},
   "outputs": [],
   "source": [
    "# this should run successfully with no error\n",
    "c = Component('WIDGET', 'metal', 5)"
   ]
  },
  {
   "cell_type": "markdown",
   "id": "ignored-kansas",
   "metadata": {},
   "source": [
    "<a class=\"anchor\" id=\"pure_python_equivalents\"></a>\n",
    "### Pure Python Equivalents\n",
    "\n",
    "The descriptor protocol is simple and offers exciting possibilities. Several use cases are so common that they have been prepackaged into built-in tools. Properties, bound methods, static methods, class methods, and __slots__ are all based on the descriptor protocol."
   ]
  },
  {
   "cell_type": "markdown",
   "id": "packed-breed",
   "metadata": {},
   "source": [
    "Calling `property()` is a succinct way of building a data descriptor that triggers a function call upon access to an attribute. Its signature is:\n",
    "\n",
    "```python\n",
    "property(fget=None, fset=None, fdel=None, doc=None) -> property\n",
    "```"
   ]
  },
  {
   "cell_type": "markdown",
   "id": "timely-ordinary",
   "metadata": {},
   "source": [
    "The documentation shows a typical use to define a managed attribute `x`:"
   ]
  },
  {
   "cell_type": "code",
   "execution_count": 182,
   "id": "international-round",
   "metadata": {},
   "outputs": [],
   "source": [
    "class C:\n",
    "    def getx(self): return self.__x\n",
    "    def setx(self, value): self.__x = value\n",
    "    def delx(self): del self.__x\n",
    "    x = property(getx, setx, delx, \"I'm the 'x' property.\")"
   ]
  },
  {
   "cell_type": "markdown",
   "id": "located-handbook",
   "metadata": {},
   "source": [
    "To see how ‍`property()` is implemented in terms of the descriptor protocol, here is a pure Python equivalent:"
   ]
  },
  {
   "cell_type": "code",
   "execution_count": 70,
   "id": "bridal-parts",
   "metadata": {},
   "outputs": [],
   "source": [
    "class Property:\n",
    "    \"Emulate PyProperty_Type() in Objects/descrobject.c\"\n",
    "\n",
    "    def __init__(self, fget=None, fset=None, fdel=None, doc=None):\n",
    "        self.fget = fget\n",
    "        self.fset = fset\n",
    "        self.fdel = fdel\n",
    "        if doc is None and fget is not None:\n",
    "            doc = fget.__doc__\n",
    "        self.__doc__ = doc\n",
    "\n",
    "    def __get__(self, obj, objtype=None):\n",
    "        if obj is None:\n",
    "            return self\n",
    "        if self.fget is None:\n",
    "            raise AttributeError(\"unreadable attribute\")\n",
    "        return self.fget(obj)\n",
    "\n",
    "    def __set__(self, obj, value):\n",
    "        if self.fset is None:\n",
    "            raise AttributeError(\"can't set attribute\")\n",
    "        self.fset(obj, value)\n",
    "\n",
    "    def __delete__(self, obj):\n",
    "        if self.fdel is None:\n",
    "            raise AttributeError(\"can't delete attribute\")\n",
    "        self.fdel(obj)\n",
    "\n",
    "    def getter(self, fget):\n",
    "        return type(self)(fget, self.fset, self.fdel, self.__doc__)\n",
    "\n",
    "    def setter(self, fset):\n",
    "        return type(self)(self.fget, fset, self.fdel, self.__doc__)\n",
    "\n",
    "    def deleter(self, fdel):\n",
    "        return type(self)(self.fget, self.fset, fdel, self.__doc__)"
   ]
  },
  {
   "cell_type": "markdown",
   "id": "spanish-cambridge",
   "metadata": {},
   "source": [
    "The following example uses a property that logs a message to the console when it’s accessed:"
   ]
  },
  {
   "cell_type": "code",
   "execution_count": 101,
   "id": "tribal-romance",
   "metadata": {},
   "outputs": [],
   "source": [
    "# property_decorator.py\n",
    "class Foo():\n",
    "    def __init__(self, value: int):\n",
    "        self._value = value\n",
    "    \n",
    "    @property\n",
    "    def value(self):\n",
    "        print(\"accessing the attribute to get the value\")\n",
    "        return self._value\n",
    "\n",
    "    @value.setter\n",
    "    def value(self, value):\n",
    "        print(\"accessing the attribute to set the value\")\n",
    "        raise AttributeError(\"Cannot change the value\")\n",
    "        \n",
    "    @value.deleter\n",
    "    def value(self):\n",
    "        del self._value"
   ]
  },
  {
   "cell_type": "code",
   "execution_count": 203,
   "id": "double-tackle",
   "metadata": {},
   "outputs": [
    {
     "name": "stdout",
     "output_type": "stream",
     "text": [
      "accessing the attribute to get the value\n"
     ]
    },
    {
     "data": {
      "text/plain": [
       "20"
      ]
     },
     "execution_count": 203,
     "metadata": {},
     "output_type": "execute_result"
    }
   ],
   "source": [
    "obj = Foo(20)\n",
    "obj.value"
   ]
  },
  {
   "cell_type": "markdown",
   "id": "adapted-pregnancy",
   "metadata": {},
   "source": [
    "The example above makes use of decorators to define a property, but as you may know, decorators are just syntactic sugar. The example before, in fact, can be written as follows:"
   ]
  },
  {
   "cell_type": "code",
   "execution_count": 100,
   "id": "hourly-reward",
   "metadata": {},
   "outputs": [],
   "source": [
    "# property_decorator.py\n",
    "class Foo():\n",
    "    def __init__(self, value):\n",
    "        self._value = value\n",
    "\n",
    "    def getter(self):\n",
    "        print(\"accessing the attribute to get the value\")\n",
    "        return self._value\n",
    "\n",
    "    def setter(self, value):\n",
    "        print(\"accessing the attribute to set the value\")\n",
    "        raise AttributeError(\"Cannot change the value\")\n",
    "\n",
    "    def deleter(self):\n",
    "        print(\"deleting the attribute\")\n",
    "        del self._value\n",
    "\n",
    "    value = property(getter, setter, deleter)"
   ]
  },
  {
   "cell_type": "code",
   "execution_count": 211,
   "id": "crucial-semiconductor",
   "metadata": {},
   "outputs": [
    {
     "name": "stdout",
     "output_type": "stream",
     "text": [
      "accessing the attribute to get the value\n"
     ]
    },
    {
     "data": {
      "text/plain": [
       "20"
      ]
     },
     "execution_count": 211,
     "metadata": {},
     "output_type": "execute_result"
    }
   ],
   "source": [
    "obj = Foo(20)\n",
    "obj.value"
   ]
  },
  {
   "cell_type": "code",
   "execution_count": 212,
   "id": "brown-spouse",
   "metadata": {},
   "outputs": [
    {
     "name": "stdout",
     "output_type": "stream",
     "text": [
      "deleting the attribute\n"
     ]
    }
   ],
   "source": [
    "del obj.value"
   ]
  },
  {
   "cell_type": "markdown",
   "id": "loving-briefing",
   "metadata": {},
   "source": [
    "<a class=\"anchor\" id=\"python_descriptors_in_methods_and_functions\"></a>\n",
    "## Python Descriptors in Methods and Functions\n",
    "If you’ve ever written an object-oriented program in Python, then you’ve certainly used methods. These are regular functions that have the first argument reserved for the object instance. When you access a method using dot notation, you’re calling the corresponding function and passing the object instance as the first parameter.\n",
    "\n",
    "The magic that transforms your `obj.method(*args)` call into `method(obj, *args)` is inside a `.__get__()` implementation of the `function` object that is, in fact, a **non-data descriptor**. In particular, the `function` object implements `.__get__()` so that it returns a bound method when you access it with dot notation. The (`*args`) that follow invoke the functions by passing all the extra arguments needed.\n",
    "\n",
    "To get an idea for how it works, take a look at this pure Python example from the official docs:"
   ]
  },
  {
   "cell_type": "code",
   "execution_count": 213,
   "id": "military-photography",
   "metadata": {},
   "outputs": [],
   "source": [
    "import types\n",
    "\n",
    "class Function(object):\n",
    "    ...\n",
    "    def __get__(self, obj, objtype=None):\n",
    "        \"Simulate func_descr_get() in Objects/funcobject.c\"\n",
    "        if obj is None:\n",
    "            return self\n",
    "        return types.MethodType(self, obj)"
   ]
  },
  {
   "cell_type": "markdown",
   "id": "supreme-outside",
   "metadata": {},
   "source": [
    "In the example above, when the function is accessed with dot notation, `.__get__()` is called and a bound method is returned."
   ]
  },
  {
   "cell_type": "markdown",
   "id": "reserved-gateway",
   "metadata": {},
   "source": [
    "This works for regular instance methods just like it does for class methods or static methods. So, if you call a static method with `obj.method(*args)`, then it’s automatically transformed into `method(*args)`. Similarly, if you call a class method with `obj.method(type(obj), *args)`, then it’s automatically transformed into `method(type(obj), *args)`."
   ]
  },
  {
   "cell_type": "markdown",
   "id": "overall-singing",
   "metadata": {},
   "source": [
    "In the official docs, you can find some examples of how static methods and class methods would be implemented if they were written in pure Python instead of the actual C implementation. For instance, a possible static method implementation could be this:"
   ]
  },
  {
   "cell_type": "code",
   "execution_count": 214,
   "id": "comic-camcorder",
   "metadata": {},
   "outputs": [],
   "source": [
    "class StaticMethod(object):\n",
    "    \"Emulate PyStaticMethod_Type() in Objects/funcobject.c\"\n",
    "    def __init__(self, f):\n",
    "        self.f = f\n",
    "\n",
    "    def __get__(self, obj, objtype=None):\n",
    "        return self.f"
   ]
  },
  {
   "cell_type": "markdown",
   "id": "minimal-nutrition",
   "metadata": {},
   "source": [
    "Likewise, this could be a possible class method implementation:"
   ]
  },
  {
   "cell_type": "code",
   "execution_count": null,
   "id": "meaning-myanmar",
   "metadata": {},
   "outputs": [],
   "source": [
    "class Student:\n",
    "    \n",
    "    @classmethod\n",
    "    def classmethod_(cls, ):\n",
    "        pass"
   ]
  },
  {
   "cell_type": "code",
   "execution_count": 216,
   "id": "bigger-interview",
   "metadata": {},
   "outputs": [],
   "source": [
    "class ClassMethod(object):\n",
    "    \"Emulate PyClassMethod_Type() in Objects/funcobject.c\"\n",
    "    def __init__(self, f):\n",
    "        self.f = f\n",
    "\n",
    "    def __get__(self, obj, klass=None):\n",
    "        if klass is None:\n",
    "            klass = type(obj)\n",
    "        def newfunc(*args):\n",
    "            return self.f(klass, *args)\n",
    "        return newfunc"
   ]
  },
  {
   "cell_type": "markdown",
   "id": "musical-algorithm",
   "metadata": {},
   "source": [
    "Note that, in Python, a class method is just a static method that takes the class reference as the first argument of the argument list."
   ]
  },
  {
   "cell_type": "markdown",
   "id": "anonymous-mapping",
   "metadata": {},
   "source": [
    "<a class=\"anchor\" id=\"how_attributes_are_accessed_with_the_lookup_chain\"></a>\n",
    "## How Attributes Are Accessed With the Lookup Chain\n",
    "\n",
    "To understand a little more about Python descriptors and Python internals, you need to understand what happens in Python when an attribute is accessed. In Python, every object has a built-in `__dict__` attribute. This is a dictionary that contains all the attributes defined in the object itself. To see this in action, consider the following example:"
   ]
  },
  {
   "cell_type": "code",
   "execution_count": 11,
   "id": "magnetic-worker",
   "metadata": {},
   "outputs": [],
   "source": [
    "class Vehicle():\n",
    "    can_fly = False\n",
    "    number_of_weels = 0\n",
    "\n",
    "class Car(Vehicle):\n",
    "    number_of_weels = 4\n",
    "\n",
    "    def __init__(self, color):\n",
    "        self.color = color"
   ]
  },
  {
   "cell_type": "code",
   "execution_count": 12,
   "id": "e05ab5f2",
   "metadata": {},
   "outputs": [],
   "source": [
    "my_car = Car('red')"
   ]
  },
  {
   "cell_type": "code",
   "execution_count": 219,
   "id": "traditional-travel",
   "metadata": {},
   "outputs": [
    {
     "name": "stdout",
     "output_type": "stream",
     "text": [
      "{'color': 'red'}\n",
      "{'__module__': '__main__', 'number_of_weels': 4, '__init__': <function Car.__init__ at 0x7fb65beb5b90>, '__doc__': None}\n"
     ]
    }
   ],
   "source": [
    "my_car = Car(\"red\")\n",
    "print(my_car.__dict__)\n",
    "print(type(my_car).__dict__)"
   ]
  },
  {
   "cell_type": "markdown",
   "id": "dangerous-classic",
   "metadata": {},
   "source": [
    "This code creates a new object and prints the contents of the `__dict__` attribute for both the object and the class. Now, run the script and analyze the output to see the `__dict__` attributes set:\n",
    "\n",
    "```bash\n",
    "{'color': 'red'}\n",
    "{'__module__': '__main__', 'number_of_weels': 4, '__init__': <function Car.__init__ at 0x10fdeaea0>, '__doc__': None}\n",
    "```"
   ]
  },
  {
   "cell_type": "markdown",
   "id": "double-knife",
   "metadata": {},
   "source": [
    "The `__dict__` attributes are set as expected. Note that, in Python, **everything is an object**. A class is actually an object as well, so it will also have a `__dict__` attribute that contains all the attributes and methods of the class."
   ]
  },
  {
   "cell_type": "code",
   "execution_count": 221,
   "id": "suspected-lincoln",
   "metadata": {},
   "outputs": [],
   "source": [
    "# lookup.py\n",
    "class Vehicle(object):\n",
    "    can_fly = False\n",
    "    number_of_weels = 0\n",
    "\n",
    "class Car(Vehicle):\n",
    "    number_of_weels = 4\n",
    "\n",
    "    def __init__(self, color):\n",
    "        self.color = color\n",
    "\n",
    "my_car = Car(\"red\")"
   ]
  },
  {
   "cell_type": "markdown",
   "id": "demonstrated-traveler",
   "metadata": {},
   "source": [
    "In this example, you create an instance of the `Car` class that inherits from the `Vehicle` class. Then, you access some attributes. If you run this example, then you can see that you get all the values you expect."
   ]
  },
  {
   "cell_type": "code",
   "execution_count": 223,
   "id": "assigned-introduction",
   "metadata": {},
   "outputs": [
    {
     "name": "stdout",
     "output_type": "stream",
     "text": [
      "red\n",
      "4\n",
      "False\n"
     ]
    }
   ],
   "source": [
    "print(my_car.color)\n",
    "print(my_car.number_of_weels)\n",
    "print(my_car.can_fly)"
   ]
  },
  {
   "cell_type": "markdown",
   "id": "insured-jacob",
   "metadata": {},
   "source": [
    "Here, when you access the attribute `color` of the instance `my_car`, you’re actually accessing a single value of the `__dict__` attribute of the object `my_car`. When you access the attribute `number_of_wheels` of the object `my_car`, you’re really accessing a single value of the `__dict__` attribute of the class `Car`. Finally, when you access the `can_fly` attribute, you’re actually accessing it by using the `__dict__` attribute of the `Vehicle` class."
   ]
  },
  {
   "cell_type": "markdown",
   "id": "earlier-blocking",
   "metadata": {},
   "source": [
    "This means that it’s possible to rewrite the above example like this:"
   ]
  },
  {
   "cell_type": "code",
   "execution_count": 128,
   "id": "convenient-timer",
   "metadata": {},
   "outputs": [],
   "source": [
    "# lookup2.py\n",
    "class Vehicle():\n",
    "    can_fly = False\n",
    "    number_of_wheels = 0\n",
    "\n",
    "class Car(Vehicle):\n",
    "    number_of_wheels = 4\n",
    "\n",
    "    def __init__(self, color):\n",
    "        self.color = color"
   ]
  },
  {
   "cell_type": "code",
   "execution_count": 140,
   "id": "indian-administrator",
   "metadata": {},
   "outputs": [],
   "source": [
    "my_car = Car(\"red\")"
   ]
  },
  {
   "cell_type": "markdown",
   "id": "accepted-beach",
   "metadata": {},
   "source": [
    "When you test this new example, you should get the same result:"
   ]
  },
  {
   "cell_type": "code",
   "execution_count": 227,
   "id": "female-alert",
   "metadata": {},
   "outputs": [
    {
     "name": "stdout",
     "output_type": "stream",
     "text": [
      "red\n",
      "4\n",
      "False\n"
     ]
    }
   ],
   "source": [
    "print(my_car.__dict__['color'])\n",
    "print(type(my_car).__dict__['number_of_weels'])\n",
    "print(type(my_car).__base__.__dict__['can_fly'])"
   ]
  },
  {
   "cell_type": "markdown",
   "id": "guided-anderson",
   "metadata": {},
   "source": [
    "So, what happens when you access the attribute of an object with dot notation? How does the interpreter know what you really need? Well, here’s where a concept called the **lookup chain** comes in:"
   ]
  },
  {
   "cell_type": "markdown",
   "id": "material-tower",
   "metadata": {},
   "source": [
    "1. First, you’ll get the result returned from the `__get__` method of the **data descriptor** named after the attribute you’re looking for.\n",
    "\n",
    "2. If that fails, then you’ll get the value of your object’s `__dict__` for the key named after the attribute you’re looking for.\n",
    "\n",
    "3. If that fails, then you’ll get the result returned from the `__get__` method of the **non-data descriptor** named after the attribute you’re looking for.\n",
    "\n",
    "4. If that fails, then you’ll get the value of your object type’s `__dict__` for the key named after the attribute you’re looking for.\n",
    "\n",
    "5. If that fails, then you’ll get the value of your object parent type’s `__dict__` for the key named after the attribute you’re looking for.\n",
    "\n",
    "6. If that fails, then the previous step is repeated for all the parent’s types in the method resolution order of your object.\n",
    "\n",
    "7. If everything else has failed, then you’ll get an `AttributeError` exception."
   ]
  },
  {
   "cell_type": "markdown",
   "id": "amino-cartridge",
   "metadata": {},
   "source": [
    "Now you can see why it’s important to know if a descriptor is a data descriptor or a non-data descriptor? They’re on different levels of the lookup chain, and you’ll see later on that this difference in behavior can be very convenient."
   ]
  },
  {
   "cell_type": "markdown",
   "id": "conventional-festival",
   "metadata": {},
   "source": [
    "<a class=\"anchor\" id=\"why_use_python_descriptors?\"></a>\n",
    "## Why Use Python Descriptors?"
   ]
  },
  {
   "cell_type": "markdown",
   "id": "lesbian-hundred",
   "metadata": {},
   "source": [
    "Now you know what Python descriptors are and how Python itself uses them to power some of its features, like methods and properties. You’ve also seen how to create a Python descriptor while avoiding some common pitfalls. Everything should be clear now, but you may still wonder why you should use them.\n",
    "\n",
    "In my experience, I’ve known a lot of advanced Python developers that have never used this feature before and that have no need for it. That’s quite normal because there are not many use cases where Python descriptors are necessary. However, that doesn’t mean that Python descriptors are just an academic topic for advanced users. There are still some good use cases that can justify the price of learning how to use them."
   ]
  },
  {
   "cell_type": "markdown",
   "id": "upper-assets",
   "metadata": {},
   "source": [
    "<a class=\"anchor\" id=\"lazy_properties\"></a>\n",
    "### Lazy Properties"
   ]
  },
  {
   "cell_type": "markdown",
   "id": "brave-workplace",
   "metadata": {},
   "source": [
    "The first and most straightforward example is **lazy properties**. These are properties whose initial values are not loaded until they’re accessed for the first time. Then, they load their initial value and keep that value cached for later reuse."
   ]
  },
  {
   "cell_type": "markdown",
   "id": "weighted-pendant",
   "metadata": {},
   "source": [
    "Consider the following example. You have a class `DeepThought` that contains a method `meaning_of_life()` that returns a value after a lot of time spent in heavy concentration:"
   ]
  },
  {
   "cell_type": "code",
   "execution_count": 142,
   "id": "grateful-driving",
   "metadata": {},
   "outputs": [],
   "source": [
    "# slow_properties.py\n",
    "import time\n",
    "\n",
    "class DeepThought:\n",
    "    def meaning_of_life(self):\n",
    "        time.sleep(3)\n",
    "        return 42"
   ]
  },
  {
   "cell_type": "code",
   "execution_count": 143,
   "id": "casual-surprise",
   "metadata": {},
   "outputs": [],
   "source": [
    "my_deep_thought_instance = DeepThought()"
   ]
  },
  {
   "cell_type": "code",
   "execution_count": 144,
   "id": "constant-breed",
   "metadata": {},
   "outputs": [
    {
     "name": "stdout",
     "output_type": "stream",
     "text": [
      "42\n"
     ]
    }
   ],
   "source": [
    "print(my_deep_thought_instance.meaning_of_life())"
   ]
  },
  {
   "cell_type": "code",
   "execution_count": 145,
   "id": "talented-material",
   "metadata": {},
   "outputs": [
    {
     "name": "stdout",
     "output_type": "stream",
     "text": [
      "42\n"
     ]
    }
   ],
   "source": [
    "print(my_deep_thought_instance.meaning_of_life())"
   ]
  },
  {
   "cell_type": "code",
   "execution_count": 146,
   "id": "removable-receptor",
   "metadata": {},
   "outputs": [
    {
     "name": "stdout",
     "output_type": "stream",
     "text": [
      "42\n"
     ]
    }
   ],
   "source": [
    "print(my_deep_thought_instance.meaning_of_life())"
   ]
  },
  {
   "cell_type": "markdown",
   "id": "comparable-palestine",
   "metadata": {},
   "source": [
    "If you run this code and try to access the method three times, then you get an answer every three seconds, which is the length of the sleep time inside the method."
   ]
  },
  {
   "cell_type": "markdown",
   "id": "understanding-parallel",
   "metadata": {},
   "source": [
    "Now, a lazy property can instead evaluate this method just once when it’s first executed. Then, it will cache the resulting value so that, if you need it again, you can get it in no time. You can achieve this with the use of Python descriptors:"
   ]
  },
  {
   "cell_type": "code",
   "execution_count": 159,
   "id": "vulnerable-ranking",
   "metadata": {},
   "outputs": [],
   "source": [
    "# lazy_properties.py\n",
    "import time\n",
    "\n",
    "class LazyProperty:\n",
    "    def __init__(self, function):\n",
    "        self.function = function\n",
    "        self.name = function.__name__\n",
    "\n",
    "    def __get__(self, obj, type=None) -> object:\n",
    "        obj.__dict__[self.name] = self.function(obj)\n",
    "        return obj.__dict__[self.name]\n",
    "\n",
    "class DeepThought:\n",
    "    @LazyProperty\n",
    "    def meaning_of_life(self):\n",
    "        time.sleep(3)\n",
    "        return 42"
   ]
  },
  {
   "cell_type": "code",
   "execution_count": 160,
   "id": "powered-thickness",
   "metadata": {},
   "outputs": [],
   "source": [
    "my_deep_thought_instance = DeepThought()"
   ]
  },
  {
   "cell_type": "code",
   "execution_count": 161,
   "id": "interpreted-throat",
   "metadata": {},
   "outputs": [
    {
     "data": {
      "text/plain": [
       "{}"
      ]
     },
     "execution_count": 161,
     "metadata": {},
     "output_type": "execute_result"
    }
   ],
   "source": [
    "vars(my_deep_thought_instance)"
   ]
  },
  {
   "cell_type": "code",
   "execution_count": 162,
   "id": "floppy-bachelor",
   "metadata": {},
   "outputs": [
    {
     "name": "stdout",
     "output_type": "stream",
     "text": [
      "42\n"
     ]
    }
   ],
   "source": [
    "print(my_deep_thought_instance.meaning_of_life)"
   ]
  },
  {
   "cell_type": "code",
   "execution_count": 163,
   "id": "increased-vatican",
   "metadata": {},
   "outputs": [
    {
     "data": {
      "text/plain": [
       "{'meaning_of_life': 42}"
      ]
     },
     "execution_count": 163,
     "metadata": {},
     "output_type": "execute_result"
    }
   ],
   "source": [
    "vars(my_deep_thought_instance)"
   ]
  },
  {
   "cell_type": "code",
   "execution_count": 164,
   "id": "committed-injection",
   "metadata": {},
   "outputs": [
    {
     "name": "stdout",
     "output_type": "stream",
     "text": [
      "42\n"
     ]
    }
   ],
   "source": [
    "print(my_deep_thought_instance.meaning_of_life)"
   ]
  },
  {
   "cell_type": "code",
   "execution_count": 165,
   "id": "cleared-marker",
   "metadata": {},
   "outputs": [
    {
     "name": "stdout",
     "output_type": "stream",
     "text": [
      "42\n"
     ]
    }
   ],
   "source": [
    "print(my_deep_thought_instance.meaning_of_life)"
   ]
  },
  {
   "cell_type": "markdown",
   "id": "accomplished-origin",
   "metadata": {},
   "source": [
    "Take your time to study this code and understand how it works. Can you see the power of Python descriptors here? In this example, when you use the `@LazyProperty` descriptor, you’re instantiating a descriptor and passing to it `.meaning_of_life()`. This descriptor stores both the method and its name as instance variables."
   ]
  },
  {
   "cell_type": "markdown",
   "id": "pressing-table",
   "metadata": {},
   "source": [
    "Since it is a non-data descriptor, when you first access the value of the `meaning_of_life` attribute, `.__get__()` is automatically called and executes `.meaning_of_life()` on the `my_deep_thought_instance` object. The resulting value is stored in the `__dict__` attribute of the object itself. When you access the `meaning_of_life` attribute again, Python will use the **lookup chain** to find a value for that attribute inside the `__dict__` attribute, and that value will be returned immediately."
   ]
  },
  {
   "cell_type": "markdown",
   "id": "tough-eclipse",
   "metadata": {},
   "source": [
    "Note that this works because, in this example, you’ve only used one method `.__get__()` of the descriptor protocol. You’ve also implemented a non-data descriptor. If you had implemented a data descriptor, then the trick would not have worked. Following the lookup chain, it would have had precedence over the value stored in `__dict__.` To test this out, run the following code:"
   ]
  },
  {
   "cell_type": "code",
   "execution_count": 238,
   "id": "postal-farmer",
   "metadata": {},
   "outputs": [],
   "source": [
    "# wrong_lazy_properties.py\n",
    "import time\n",
    "\n",
    "class LazyProperty:\n",
    "    def __init__(self, function):\n",
    "        self.function = function\n",
    "        self.name = function.__name__\n",
    "\n",
    "    def __get__(self, obj, type=None) -> object:\n",
    "        obj.__dict__[self.name] = self.function(obj)\n",
    "        return obj.__dict__[self.name]\n",
    "\n",
    "    def __set__(self, obj, value):\n",
    "        pass\n",
    "\n",
    "class DeepThought:\n",
    "    @LazyProperty\n",
    "    def meaning_of_life(self):\n",
    "        time.sleep(3)\n",
    "        return 42"
   ]
  },
  {
   "cell_type": "code",
   "execution_count": 239,
   "id": "civil-links",
   "metadata": {},
   "outputs": [],
   "source": [
    "my_deep_thought_instance = DeepThought()"
   ]
  },
  {
   "cell_type": "code",
   "execution_count": 240,
   "id": "congressional-vietnamese",
   "metadata": {},
   "outputs": [
    {
     "name": "stdout",
     "output_type": "stream",
     "text": [
      "42\n"
     ]
    }
   ],
   "source": [
    "print(my_deep_thought_instance.meaning_of_life)"
   ]
  },
  {
   "cell_type": "code",
   "execution_count": 241,
   "id": "cultural-geometry",
   "metadata": {},
   "outputs": [
    {
     "name": "stdout",
     "output_type": "stream",
     "text": [
      "42\n"
     ]
    }
   ],
   "source": [
    "print(my_deep_thought_instance.meaning_of_life)"
   ]
  },
  {
   "cell_type": "code",
   "execution_count": 242,
   "id": "quiet-pregnancy",
   "metadata": {},
   "outputs": [
    {
     "name": "stdout",
     "output_type": "stream",
     "text": [
      "42\n"
     ]
    }
   ],
   "source": [
    "print(my_deep_thought_instance.meaning_of_life)"
   ]
  },
  {
   "cell_type": "markdown",
   "id": "bulgarian-lighter",
   "metadata": {},
   "source": [
    "In this example, you can see that just implementing `.__set__()`, even if it doesn’t do anything at all, creates a data descriptor. Now, the trick of the lazy property stops working."
   ]
  },
  {
   "cell_type": "markdown",
   "id": "stuck-island",
   "metadata": {},
   "source": [
    "<a class=\"anchor\" id=\"d.r.y._code\"></a>\n",
    "### D.R.Y. Code"
   ]
  },
  {
   "cell_type": "markdown",
   "id": "comic-anniversary",
   "metadata": {},
   "source": [
    "Another typical use case for descriptors is to write reusable code and make your code [D.R.Y.](https://en.wikipedia.org/wiki/Don%27t_repeat_yourself) Python descriptors give developers a great tool to write reusable code that can be shared among different properties or even different classes.\n",
    "\n",
    "Consider an example where you have five different properties with the same behavior. Each property can be set to a specific value only if it’s an even number. Otherwise, it’s value is set to 0:"
   ]
  },
  {
   "cell_type": "code",
   "execution_count": 243,
   "id": "undefined-processor",
   "metadata": {},
   "outputs": [],
   "source": [
    "# properties.py\n",
    "class Values:\n",
    "    def __init__(self):\n",
    "        self._value1 = 0\n",
    "        self._value2 = 0\n",
    "        self._value3 = 0\n",
    "        self._value4 = 0\n",
    "        self._value5 = 0\n",
    "\n",
    "    @property\n",
    "    def value1(self):\n",
    "        return self._value1\n",
    "\n",
    "    @value1.setter\n",
    "    def value1(self, value):\n",
    "        self._value1 = value if value % 2 == 0 else 0\n",
    "\n",
    "    @property\n",
    "    def value2(self):\n",
    "        return self._value2\n",
    "\n",
    "    @value2.setter\n",
    "    def value2(self, value):\n",
    "        self._value2 = value if value % 2 == 0 else 0\n",
    "\n",
    "    @property\n",
    "    def value3(self):\n",
    "        return self._value3\n",
    "\n",
    "    @value3.setter\n",
    "    def value3(self, value):\n",
    "        self._value3 = value if value % 2 == 0 else 0\n",
    "\n",
    "    @property\n",
    "    def value4(self):\n",
    "        return self._value4\n",
    "\n",
    "    @value4.setter\n",
    "    def value4(self, value):\n",
    "        self._value4 = value if value % 2 == 0 else 0\n",
    "\n",
    "    @property\n",
    "    def value5(self):\n",
    "        return self._value5\n",
    "\n",
    "    @value5.setter\n",
    "    def value5(self, value):\n",
    "        self._value5 = value if value % 2 == 0 else 0"
   ]
  },
  {
   "cell_type": "code",
   "execution_count": 245,
   "id": "adequate-bullet",
   "metadata": {},
   "outputs": [],
   "source": [
    "my_values = Values()\n",
    "my_values.value1 = 1\n",
    "my_values.value2 = 4"
   ]
  },
  {
   "cell_type": "code",
   "execution_count": 246,
   "id": "horizontal-coordinate",
   "metadata": {},
   "outputs": [
    {
     "name": "stdout",
     "output_type": "stream",
     "text": [
      "0\n",
      "4\n"
     ]
    }
   ],
   "source": [
    "print(my_values.value1)\n",
    "print(my_values.value2)"
   ]
  },
  {
   "cell_type": "markdown",
   "id": "intimate-black",
   "metadata": {},
   "source": [
    "As you can see, you have a lot of duplicated code here. It’s possible to use Python descriptors to share behavior among all the properties. You can create an EvenNumber descriptor and use it for all the properties like this:"
   ]
  },
  {
   "cell_type": "code",
   "execution_count": 247,
   "id": "different-lebanon",
   "metadata": {},
   "outputs": [],
   "source": [
    "# properties2.py\n",
    "class EvenNumber:\n",
    "    def __set_name__(self, owner, name):\n",
    "        self.name = name\n",
    "\n",
    "    def __get__(self, obj, type=None) -> object:\n",
    "        return obj.__dict__.get(self.name) or 0\n",
    "\n",
    "    def __set__(self, obj, value) -> None:\n",
    "        obj.__dict__[self.name] = (value if value % 2 == 0 else 0)\n",
    "\n",
    "class Values:\n",
    "    value1 = EvenNumber()\n",
    "    value2 = EvenNumber()\n",
    "    value3 = EvenNumber()\n",
    "    value4 = EvenNumber()\n",
    "    value5 = EvenNumber()"
   ]
  },
  {
   "cell_type": "code",
   "execution_count": 248,
   "id": "becoming-insulation",
   "metadata": {},
   "outputs": [
    {
     "name": "stdout",
     "output_type": "stream",
     "text": [
      "0\n",
      "4\n"
     ]
    }
   ],
   "source": [
    "my_values = Values()\n",
    "my_values.value1 = 1\n",
    "my_values.value2 = 4\n",
    "print(my_values.value1)\n",
    "print(my_values.value2)"
   ]
  },
  {
   "cell_type": "markdown",
   "id": "imperial-coordinate",
   "metadata": {},
   "source": [
    "This code looks a lot better now! The duplicates are gone and the logic is now implemented in a single place so that if you need to change it, you can do so easily."
   ]
  },
  {
   "cell_type": "markdown",
   "id": "unnecessary-agenda",
   "metadata": {},
   "source": [
    "<a class=\"anchor\" id=\"conclusion\"></a>\n",
    "## <img src=\"../../images/logos/checkmark.png\" width=\"20\"/> Conclusion \n",
    "Now that you know how Python uses descriptors to power some of its great features, you’ll be a more conscious developer who understands why some Python features have been implemented the way they are."
   ]
  },
  {
   "cell_type": "markdown",
   "id": "defensive-lobby",
   "metadata": {},
   "source": [
    "You’ve learned:\n",
    "\n",
    "- What Python descriptors are and when to use them\n",
    "- Where descriptors are used in Python’s internals\n",
    "- How to implement your own descriptors"
   ]
  }
 ],
 "metadata": {
  "interpreter": {
   "hash": "db458316ab6e40abd61d0cc300c442f9df40dc5a12580a3b20149dedf1c87f1d"
  },
  "kernelspec": {
   "display_name": "Python 3 (ipykernel)",
   "language": "python",
   "name": "python3"
  },
  "language_info": {
   "codemirror_mode": {
    "name": "ipython",
    "version": 3
   },
   "file_extension": ".py",
   "mimetype": "text/x-python",
   "name": "python",
   "nbconvert_exporter": "python",
   "pygments_lexer": "ipython3",
   "version": "3.7.10"
  }
 },
 "nbformat": 4,
 "nbformat_minor": 5
}
