{
 "cells": [
  {
   "cell_type": "markdown",
   "id": "8f923d83",
   "metadata": {},
   "source": [
    "<img src=\"../../images/banners/python-advanced.png\" width=\"600\"/>"
   ]
  },
  {
   "cell_type": "markdown",
   "id": "located-belgium",
   "metadata": {},
   "source": [
    "# <img src=\"../../images/logos/python.png\" width=\"23\"/> Decorating Classes \n"
   ]
  },
  {
   "cell_type": "markdown",
   "id": "e64dbd9c",
   "metadata": {},
   "source": [
    "## Table of Contents\n",
    "\n",
    "\n",
    "* [Decorating the Whole Class](#decorating_the_whole_class)\n",
    "    * [Creating Singletons](#creating_singletons)\n",
    "* [OOP: Instance Method, Static Method, Class Method](#oop:_instance_method,_static_method,_class_method)\n",
    "    * [Instance Method](#instance_method)\n",
    "    * [Class Method](#class_method)\n",
    "    * [Static Methods](#static_methods)\n",
    "    * [Let's See Them in Action](#let's_see_them_in_action)\n",
    "    * [Example](#example)\n",
    "        * [Delicious Pizza Factories With `@classmethod`](#delicious_pizza_factories_with_`@classmethod`)\n",
    "    * [When To Use Static Methods](#when_to_use_static_methods)\n",
    "    * [Key Takeaways](#key_takeaways)\n",
    "\n",
    "---"
   ]
  },
  {
   "cell_type": "markdown",
   "id": "incident-yemen",
   "metadata": {},
   "source": [
    "There are two different ways you can use decorators on classes.\n",
    "\n",
    "The first one is very close to what you have already done with functions: you can decorate the methods of a class. This was one of the motivations for introducing decorators back in the day.\n",
    "\n",
    "Let’s define a class where we decorate some of its methods using the `@debug` and `@timer` decorators from earlier:"
   ]
  },
  {
   "cell_type": "code",
   "execution_count": 1,
   "id": "blind-cradle",
   "metadata": {},
   "outputs": [],
   "source": [
    "import functools\n",
    "import time\n",
    "\n",
    "def timer(func):\n",
    "    \"\"\"Print the runtime of the decorated function\"\"\"\n",
    "    @functools.wraps(func)\n",
    "    def wrapper_timer(*args, **kwargs):\n",
    "        start_time = time.perf_counter()    # 1\n",
    "        value = func(*args, **kwargs)\n",
    "        end_time = time.perf_counter()      # 2\n",
    "        run_time = end_time - start_time    # 3\n",
    "        print(f\"Finished {func.__name__!r} in {run_time:.4f} secs\")\n",
    "        return value\n",
    "    return wrapper_timer"
   ]
  },
  {
   "cell_type": "code",
   "execution_count": 2,
   "id": "mechanical-district",
   "metadata": {},
   "outputs": [],
   "source": [
    "import functools\n",
    "\n",
    "def debug(func):\n",
    "    \"\"\"Print the function signature and return value\"\"\"\n",
    "    @functools.wraps(func)\n",
    "    def wrapper_debug(*args, **kwargs):\n",
    "        args_repr = [repr(a) for a in args]                      # 1\n",
    "        kwargs_repr = [f\"{k}={v!r}\" for k, v in kwargs.items()]  # 2\n",
    "        signature = \", \".join(args_repr + kwargs_repr)           # 3\n",
    "        print(f\"Calling {func.__name__}({signature})\")\n",
    "        value = func(*args, **kwargs)\n",
    "        print(f\"{func.__name__!r} returned {value!r}\")           # 4\n",
    "        return value\n",
    "    return wrapper_debug"
   ]
  },
  {
   "cell_type": "code",
   "execution_count": 3,
   "id": "legendary-microphone",
   "metadata": {},
   "outputs": [],
   "source": [
    "class TimeWaster:\n",
    "    @debug\n",
    "    def __init__(self, max_num):\n",
    "        self.max_num = max_num\n",
    "\n",
    "    @timer\n",
    "    def waste_time(self, num_times):\n",
    "        for _ in range(num_times):\n",
    "            sum([i**2 for i in range(self.max_num)])"
   ]
  },
  {
   "cell_type": "code",
   "execution_count": 4,
   "id": "crazy-check",
   "metadata": {},
   "outputs": [
    {
     "name": "stdout",
     "output_type": "stream",
     "text": [
      "Calling __init__(<__main__.TimeWaster object at 0x7f69969b6b50>, 1000)\n",
      "'__init__' returned None\n"
     ]
    }
   ],
   "source": [
    "tw = TimeWaster(1000)"
   ]
  },
  {
   "cell_type": "code",
   "execution_count": 5,
   "id": "italian-sherman",
   "metadata": {},
   "outputs": [
    {
     "name": "stdout",
     "output_type": "stream",
     "text": [
      "Finished 'waste_time' in 0.1796 secs\n"
     ]
    }
   ],
   "source": [
    "tw.waste_time(1000)"
   ]
  },
  {
   "cell_type": "markdown",
   "id": "precise-arrangement",
   "metadata": {},
   "source": [
    "<a class=\"anchor\" id=\"decorating_the_whole_class\"></a>\n",
    "## Decorating the Whole Class"
   ]
  },
  {
   "cell_type": "markdown",
   "id": "future-special",
   "metadata": {},
   "source": [
    "The other way to use decorators on classes is to decorate the whole class.\n",
    "\n",
    "The other way to use decorators on classes is to decorate the whole class. This is, for example, done in the new [dataclasses module](https://realpython.com/python-data-classes/) in Python 3.7:\n",
    "\n",
    "```python\n",
    "from dataclasses import dataclass\n",
    "\n",
    "@dataclass\n",
    "class PlayingCard:\n",
    "    rank: str\n",
    "    suit: str\n",
    "```\n",
    "\n",
    "**Note:** dataclasses will be covered later."
   ]
  },
  {
   "cell_type": "markdown",
   "id": "cellular-disposal",
   "metadata": {},
   "source": [
    "The meaning of the syntax is similar to the function decorators. In the example above, you could have done the decoration by writing `PlayingCard = dataclass(PlayingCard)`."
   ]
  },
  {
   "cell_type": "markdown",
   "id": "cooked-spoke",
   "metadata": {},
   "source": [
    "Writing a class decorator is very similar to writing a function decorator. The only difference is that the decorator will receive a class and not a function as an argument. In fact, all the decorators you saw already will work as class decorators. When you are using them on a class instead of a function, their effect might not be what you want. In the following example, the `@timer` decorator is applied to a class:"
   ]
  },
  {
   "cell_type": "code",
   "execution_count": 1,
   "id": "noticed-litigation",
   "metadata": {},
   "outputs": [],
   "source": [
    "import functools\n",
    "import time\n",
    "\n",
    "def timer(func):\n",
    "    \"\"\"Print the runtime of the decorated function\"\"\"\n",
    "    @functools.wraps(func)\n",
    "    def wrapper_timer(*args, **kwargs):\n",
    "        start_time = time.perf_counter()    # 1\n",
    "        value = func(*args, **kwargs)\n",
    "        end_time = time.perf_counter()      # 2\n",
    "        run_time = end_time - start_time    # 3\n",
    "        print(f\"Finished {func.__name__!r} in {run_time:.4f} secs\")\n",
    "        return value\n",
    "    return wrapper_timer\n",
    "\n",
    "\n",
    "@timer\n",
    "class TimeWaster:\n",
    "    def __init__(self, max_num=1000):\n",
    "        self.max_num = max_num\n",
    "\n",
    "    def waste_time(self, num_times):\n",
    "        for _ in range(num_times):\n",
    "            sum([i**2 for i in range(self.max_num)])"
   ]
  },
  {
   "cell_type": "code",
   "execution_count": 2,
   "id": "romantic-values",
   "metadata": {},
   "outputs": [
    {
     "name": "stdout",
     "output_type": "stream",
     "text": [
      "Finished 'TimeWaster' in 0.0000 secs\n"
     ]
    }
   ],
   "source": [
    "tw = TimeWaster()\n",
    "tw.waste_time(1000)"
   ]
  },
  {
   "cell_type": "markdown",
   "id": "legitimate-survival",
   "metadata": {},
   "source": [
    "Decorating a class does not decorate its methods. Recall that `@timer` is just shorthand for `TimeWaster = timer(TimeWaster)`.\n",
    "\n",
    "Here, `@timer` only measures the time it takes to instantiate the class:"
   ]
  },
  {
   "cell_type": "code",
   "execution_count": 7,
   "id": "plastic-breath",
   "metadata": {},
   "outputs": [
    {
     "name": "stdout",
     "output_type": "stream",
     "text": [
      "Finished 'TimeWaster' in 0.0000 secs\n"
     ]
    }
   ],
   "source": [
    "tw = TimeWaster(1)"
   ]
  },
  {
   "cell_type": "code",
   "execution_count": 8,
   "id": "awful-unknown",
   "metadata": {},
   "outputs": [
    {
     "name": "stdout",
     "output_type": "stream",
     "text": [
      "Finished 'TimeWaster' in 0.0000 secs\n"
     ]
    }
   ],
   "source": [
    "tw = TimeWaster(1000000)"
   ]
  },
  {
   "cell_type": "markdown",
   "id": "pressing-blogger",
   "metadata": {},
   "source": [
    "An example defining a proper class decorator is `@singleton` which ensures that there is only one instance of a class."
   ]
  },
  {
   "cell_type": "markdown",
   "id": "absolute-tampa",
   "metadata": {},
   "source": [
    "<a class=\"anchor\" id=\"creating_singletons\"></a>\n",
    "### Creating Singletons"
   ]
  },
  {
   "cell_type": "markdown",
   "id": "elementary-wholesale",
   "metadata": {},
   "source": [
    "A singleton is a class with only one instance. There are several singletons in Python that you use frequently, including `None`, `True`, and `False`. It is the fact that `None` is a singleton that allows you to compare for `None` using the `is` keyword."
   ]
  },
  {
   "cell_type": "markdown",
   "id": "threatened-cartoon",
   "metadata": {},
   "source": [
    "Using `is` returns `True` only for objects that are the exact same instance. The following `@singleton` decorator turns a class into a singleton by storing the first instance of the class as an attribute. Later attempts at creating an instance simply return the stored instance:"
   ]
  },
  {
   "cell_type": "code",
   "execution_count": 54,
   "id": "impressive-battery",
   "metadata": {},
   "outputs": [],
   "source": [
    "import functools\n",
    "\n",
    "def singleton(cls):\n",
    "    \"\"\"Make a class a Singleton class (only one instance)\"\"\"\n",
    "    @functools.wraps(cls)\n",
    "    def wrapper_singleton(*args, **kwargs):\n",
    "        if not wrapper_singleton.instance:\n",
    "            print(\"creating object for the first time...\")\n",
    "            wrapper_singleton.instance = cls(*args, **kwargs)\n",
    "        return wrapper_singleton.instance\n",
    "\n",
    "    wrapper_singleton.instance = None\n",
    "    return wrapper_singleton\n",
    "\n",
    "@singleton\n",
    "class TheOne:\n",
    "    pass"
   ]
  },
  {
   "cell_type": "markdown",
   "id": "alive-position",
   "metadata": {},
   "source": [
    "As you see, this class decorator follows the same template as our function decorators. The only difference is that we are using `cls` instead of `func` as the parameter name to indicate that it is meant to be a class decorator."
   ]
  },
  {
   "cell_type": "markdown",
   "id": "painted-triumph",
   "metadata": {},
   "source": [
    "Let’s see if it works:"
   ]
  },
  {
   "cell_type": "code",
   "execution_count": 55,
   "id": "possible-hindu",
   "metadata": {},
   "outputs": [
    {
     "name": "stdout",
     "output_type": "stream",
     "text": [
      "creating object for the first time...\n"
     ]
    }
   ],
   "source": [
    "first_one = TheOne()"
   ]
  },
  {
   "cell_type": "code",
   "execution_count": 56,
   "id": "available-victor",
   "metadata": {},
   "outputs": [],
   "source": [
    "another_one = TheOne()"
   ]
  },
  {
   "cell_type": "code",
   "execution_count": 57,
   "id": "opened-associate",
   "metadata": {},
   "outputs": [
    {
     "data": {
      "text/plain": [
       "140662932375888"
      ]
     },
     "execution_count": 57,
     "metadata": {},
     "output_type": "execute_result"
    }
   ],
   "source": [
    "id(first_one)"
   ]
  },
  {
   "cell_type": "code",
   "execution_count": 58,
   "id": "ambient-gospel",
   "metadata": {},
   "outputs": [
    {
     "data": {
      "text/plain": [
       "140662932375888"
      ]
     },
     "execution_count": 58,
     "metadata": {},
     "output_type": "execute_result"
    }
   ],
   "source": [
    "id(another_one)"
   ]
  },
  {
   "cell_type": "code",
   "execution_count": 59,
   "id": "based-jefferson",
   "metadata": {},
   "outputs": [
    {
     "data": {
      "text/plain": [
       "True"
      ]
     },
     "execution_count": 59,
     "metadata": {},
     "output_type": "execute_result"
    }
   ],
   "source": [
    "first_one is another_one"
   ]
  },
  {
   "cell_type": "markdown",
   "id": "critical-neighbor",
   "metadata": {},
   "source": [
    "It seems clear that first_one is indeed the exact same instance as another_one."
   ]
  },
  {
   "cell_type": "markdown",
   "id": "bizarre-simpson",
   "metadata": {},
   "source": [
    "<a class=\"anchor\" id=\"oop:_instance_method,_static_method,_class_method\"></a>\n",
    "## OOP: Instance Method, Static Method, Class Method"
   ]
  },
  {
   "cell_type": "markdown",
   "id": "inside-metallic",
   "metadata": {},
   "source": [
    "Some commonly used decorators that are even built-ins in Python are `@classmethod` and `@staticmethod`. The `@classmethod` and `@staticmethod` decorators are used to define methods inside a class namespace that are not connected to a particular instance of that class"
   ]
  },
  {
   "cell_type": "code",
   "execution_count": 1,
   "id": "annoying-recall",
   "metadata": {},
   "outputs": [],
   "source": [
    "class MyClass:\n",
    "    def method(self):\n",
    "        return 'instance method called', self\n",
    "\n",
    "    @classmethod\n",
    "    def classmethod(cls):\n",
    "        return 'class method called', cls\n",
    "\n",
    "    @staticmethod\n",
    "    def staticmethod():\n",
    "        return 'static method called'"
   ]
  },
  {
   "cell_type": "code",
   "execution_count": 128,
   "id": "expensive-bubble",
   "metadata": {},
   "outputs": [],
   "source": [
    "class Student:\n",
    "    University = 'University of Alberta'\n",
    "    def __init__(self, name):\n",
    "        self.name = name\n",
    "        \n",
    "    def get_name(self, name):\n",
    "        return name\n",
    "    \n",
    "    @classmethod\n",
    "    def get_university(cls):\n",
    "        return cls(\"Mohsen\")\n",
    "\n",
    "    @staticmethod\n",
    "    def cal_area(r):\n",
    "        return 3.14 * (r ** 2)"
   ]
  },
  {
   "cell_type": "code",
   "execution_count": 82,
   "id": "other-thriller",
   "metadata": {},
   "outputs": [
    {
     "data": {
      "text/plain": [
       "7"
      ]
     },
     "execution_count": 82,
     "metadata": {},
     "output_type": "execute_result"
    }
   ],
   "source": [
    "obj.add(3, 4)"
   ]
  },
  {
   "cell_type": "code",
   "execution_count": 127,
   "id": "chief-positive",
   "metadata": {},
   "outputs": [
    {
     "data": {
      "text/plain": [
       "28.26"
      ]
     },
     "execution_count": 127,
     "metadata": {},
     "output_type": "execute_result"
    }
   ],
   "source": [
    "Student.cal_area(3)"
   ]
  },
  {
   "cell_type": "code",
   "execution_count": null,
   "id": "welcome-garden",
   "metadata": {},
   "outputs": [],
   "source": [
    "Student.cal_area()"
   ]
  },
  {
   "cell_type": "markdown",
   "id": "weighted-fortune",
   "metadata": {},
   "source": [
    "<a class=\"anchor\" id=\"instance_method\"></a>\n",
    "### Instance Method\n",
    "\n",
    "The first method on `MyClass`, called `method`, is a regular instance method. That’s the basic, no-frills method type you’ll use most of the time. You can see the method takes one parameter, `self`, which points to an instance of `MyClass` when the method is called (but of course instance methods can accept more than just one parameter)."
   ]
  },
  {
   "cell_type": "markdown",
   "id": "alternate-beverage",
   "metadata": {},
   "source": [
    "Through the `self` parameter, instance methods can freely access attributes and other methods on the same object. This gives them a lot of power when it comes to modifying an object’s state."
   ]
  },
  {
   "cell_type": "markdown",
   "id": "instructional-handbook",
   "metadata": {},
   "source": [
    "Not only can they modify object state, instance methods can also access the class itself through the `self.__class__` attribute. This means instance methods can also modify class state."
   ]
  },
  {
   "cell_type": "markdown",
   "id": "flexible-combine",
   "metadata": {},
   "source": [
    "<a class=\"anchor\" id=\"class_method\"></a>\n",
    "### Class Method\n",
    "\n",
    "Let’s compare that to the second method, `MyClass.classmethod`. I marked this method with a `@classmethod` decorator to flag it as a class method.\n",
    "\n",
    "Instead of accepting a `self` parameter, class methods take a `cls` parameter that points to the class—and not the object instance—when the method is called.\n",
    "\n",
    "Because the class method only has access to this `cls` argument, it can’t modify object instance state. That would require access to `self`. However, class methods can still modify class state that applies across all instances of the class."
   ]
  },
  {
   "cell_type": "markdown",
   "id": "american-marina",
   "metadata": {},
   "source": [
    "<a class=\"anchor\" id=\"static_methods\"></a>\n",
    "### Static Methods\n",
    "\n",
    "The third method, `MyClass.staticmethod` was marked with a `@staticmethod` decorator to flag it as a static method.\n",
    "\n",
    "This type of method takes neither a `self` nor a `cls` parameter (but of course it’s free to accept an arbitrary number of other parameters).\n",
    "\n",
    "Therefore a static method can neither modify object state nor class state. Static methods are restricted in what data they can access - and they’re primarily a way to namespace your methods."
   ]
  },
  {
   "cell_type": "markdown",
   "id": "contained-pension",
   "metadata": {},
   "source": [
    "<a class=\"anchor\" id=\"let's_see_them_in_action\"></a>\n",
    "### Let's See Them in Action"
   ]
  },
  {
   "cell_type": "markdown",
   "id": "aggregate-suspension",
   "metadata": {},
   "source": [
    "Here’s what happens when we call an **instance method**:"
   ]
  },
  {
   "cell_type": "code",
   "execution_count": 2,
   "id": "periodic-leadership",
   "metadata": {},
   "outputs": [
    {
     "data": {
      "text/plain": [
       "('instance method called', <__main__.MyClass at 0x7fec6aab7cd0>)"
      ]
     },
     "execution_count": 2,
     "metadata": {},
     "output_type": "execute_result"
    }
   ],
   "source": [
    "obj = MyClass()\n",
    "obj.method()"
   ]
  },
  {
   "cell_type": "markdown",
   "id": "gross-candle",
   "metadata": {},
   "source": [
    "This confirmed that `method` (the instance method) has access to the object instance (printed as `<MyClass instance>`) via the `self` argument."
   ]
  },
  {
   "cell_type": "markdown",
   "id": "mediterranean-chile",
   "metadata": {},
   "source": [
    "When the method is called, Python replaces the `self` argument with the instance object, `obj`. We could ignore the syntactic sugar of the dot-call syntax (`obj.method()`) and pass the instance object manually to get the same result:"
   ]
  },
  {
   "cell_type": "code",
   "execution_count": 3,
   "id": "owned-organizer",
   "metadata": {},
   "outputs": [
    {
     "data": {
      "text/plain": [
       "('instance method called', <__main__.MyClass at 0x7fec6aab7cd0>)"
      ]
     },
     "execution_count": 3,
     "metadata": {},
     "output_type": "execute_result"
    }
   ],
   "source": [
    "MyClass.method(obj)"
   ]
  },
  {
   "cell_type": "markdown",
   "id": "balanced-piano",
   "metadata": {},
   "source": [
    "By the way, instance methods can also access the class itself through the `self.__class__` attribute. This makes instance methods powerful in terms of access restrictions - they can modify state on the object instance and on the class itself."
   ]
  },
  {
   "cell_type": "markdown",
   "id": "operational-bangkok",
   "metadata": {},
   "source": [
    "Let’s try out the **class method** next:"
   ]
  },
  {
   "cell_type": "code",
   "execution_count": 4,
   "id": "european-accreditation",
   "metadata": {},
   "outputs": [
    {
     "data": {
      "text/plain": [
       "('class method called', __main__.MyClass)"
      ]
     },
     "execution_count": 4,
     "metadata": {},
     "output_type": "execute_result"
    }
   ],
   "source": [
    "obj.classmethod()"
   ]
  },
  {
   "cell_type": "markdown",
   "id": "organizational-appendix",
   "metadata": {},
   "source": [
    "Calling `classmethod()` showed us it doesn’t have access to the `<MyClass instance>` object, but only to the `<class MyClass>` object, representing the class itself (everything in Python is an object, even classes themselves)."
   ]
  },
  {
   "cell_type": "markdown",
   "id": "catholic-dressing",
   "metadata": {},
   "source": [
    "Notice how Python automatically passes the class as the first argument to the function when we call `MyClass.classmethod()`. Calling a method in Python through the dot syntax triggers this behavior. The `self` parameter on instance methods works the same way."
   ]
  },
  {
   "cell_type": "markdown",
   "id": "bright-tobago",
   "metadata": {},
   "source": [
    "Please note that naming these parameters `self` and `cls` is just a convention. You could just as easily name them `the_object` and `the_class` and get the same result. All that matters is that they’re positioned first in the parameter list for the method."
   ]
  },
  {
   "cell_type": "markdown",
   "id": "considered-chicago",
   "metadata": {},
   "source": [
    "Time to call the **static method** now:"
   ]
  },
  {
   "cell_type": "code",
   "execution_count": 6,
   "id": "monthly-disclosure",
   "metadata": {},
   "outputs": [
    {
     "data": {
      "text/plain": [
       "'static method called'"
      ]
     },
     "execution_count": 6,
     "metadata": {},
     "output_type": "execute_result"
    }
   ],
   "source": [
    "obj.staticmethod()"
   ]
  },
  {
   "cell_type": "markdown",
   "id": "respective-butler",
   "metadata": {},
   "source": [
    "Behind the scenes Python simply enforces the access restrictions by not passing in the `self` or the `cls` argument when a static method gets called using the dot syntax."
   ]
  },
  {
   "cell_type": "markdown",
   "id": "personalized-boutique",
   "metadata": {},
   "source": [
    "This confirms that static methods can neither access the object instance state nor the class state. They work like regular functions but belong to the class’s (and every instance’s) namespace."
   ]
  },
  {
   "cell_type": "markdown",
   "id": "certified-capture",
   "metadata": {},
   "source": [
    "Now, let’s take a look at what happens when we attempt to call these methods on the class itself - without creating an object instance beforehand:"
   ]
  },
  {
   "cell_type": "code",
   "execution_count": 7,
   "id": "desirable-tomato",
   "metadata": {},
   "outputs": [
    {
     "data": {
      "text/plain": [
       "('class method called', __main__.MyClass)"
      ]
     },
     "execution_count": 7,
     "metadata": {},
     "output_type": "execute_result"
    }
   ],
   "source": [
    "MyClass.classmethod()"
   ]
  },
  {
   "cell_type": "code",
   "execution_count": 8,
   "id": "residential-luther",
   "metadata": {},
   "outputs": [
    {
     "data": {
      "text/plain": [
       "'static method called'"
      ]
     },
     "execution_count": 8,
     "metadata": {},
     "output_type": "execute_result"
    }
   ],
   "source": [
    "MyClass.staticmethod()"
   ]
  },
  {
   "cell_type": "code",
   "execution_count": 9,
   "id": "surrounded-providence",
   "metadata": {},
   "outputs": [
    {
     "ename": "TypeError",
     "evalue": "method() missing 1 required positional argument: 'self'",
     "output_type": "error",
     "traceback": [
      "\u001b[0;31m---------------------------------------------------------------------------\u001b[0m",
      "\u001b[0;31mTypeError\u001b[0m                                 Traceback (most recent call last)",
      "\u001b[0;32m<ipython-input-9-88f17b4fa117>\u001b[0m in \u001b[0;36m<module>\u001b[0;34m\u001b[0m\n\u001b[0;32m----> 1\u001b[0;31m \u001b[0mMyClass\u001b[0m\u001b[0;34m.\u001b[0m\u001b[0mmethod\u001b[0m\u001b[0;34m(\u001b[0m\u001b[0;34m)\u001b[0m\u001b[0;34m\u001b[0m\u001b[0;34m\u001b[0m\u001b[0m\n\u001b[0m",
      "\u001b[0;31mTypeError\u001b[0m: method() missing 1 required positional argument: 'self'"
     ]
    }
   ],
   "source": [
    "MyClass.method()"
   ]
  },
  {
   "cell_type": "markdown",
   "id": "satisfactory-accident",
   "metadata": {},
   "source": [
    "We were able to call `classmethod()` and `staticmethod()` just fine, but attempting to call the instance method `method()` failed with a `TypeError`."
   ]
  },
  {
   "cell_type": "markdown",
   "id": "superb-force",
   "metadata": {},
   "source": [
    "And this is to be expected — this time we didn’t create an object instance and tried calling an instance function directly on the class blueprint itself. This means there is no way for Python to populate the self argument and therefore the call fails."
   ]
  },
  {
   "cell_type": "markdown",
   "id": "public-litigation",
   "metadata": {},
   "source": [
    "<a class=\"anchor\" id=\"example\"></a>\n",
    "### Example"
   ]
  },
  {
   "cell_type": "markdown",
   "id": "executive-suite",
   "metadata": {},
   "source": [
    "An example using this bare-bones Pizza class:"
   ]
  },
  {
   "cell_type": "code",
   "execution_count": 95,
   "id": "blocked-delay",
   "metadata": {},
   "outputs": [],
   "source": [
    "class Pizza:\n",
    "    def __init__(self, ingredients):\n",
    "        self.ingredients = ingredients\n",
    "\n",
    "    def __repr__(self):\n",
    "        return f'Pizza({self.ingredients!r})'"
   ]
  },
  {
   "cell_type": "markdown",
   "id": "surprising-dining",
   "metadata": {},
   "source": [
    "<a class=\"anchor\" id=\"delicious_pizza_factories_with_`@classmethod`\"></a>\n",
    "#### Delicious Pizza Factories With `@classmethod`\n",
    "\n",
    "If you’ve had any exposure to pizza in the real world you’ll know that there are many delicious variations available:"
   ]
  },
  {
   "cell_type": "code",
   "execution_count": 96,
   "id": "intended-model",
   "metadata": {},
   "outputs": [
    {
     "data": {
      "text/plain": [
       "Pizza(['mozzarella', 'tomatoes'])"
      ]
     },
     "execution_count": 96,
     "metadata": {},
     "output_type": "execute_result"
    }
   ],
   "source": [
    "Pizza(['mozzarella', 'tomatoes'])"
   ]
  },
  {
   "cell_type": "code",
   "execution_count": 97,
   "id": "liberal-brand",
   "metadata": {},
   "outputs": [
    {
     "data": {
      "text/plain": [
       "Pizza(['mozzarella', 'tomatoes', 'ham', 'mushrooms'])"
      ]
     },
     "execution_count": 97,
     "metadata": {},
     "output_type": "execute_result"
    }
   ],
   "source": [
    "Pizza(['mozzarella', 'tomatoes', 'ham', 'mushrooms'])"
   ]
  },
  {
   "cell_type": "code",
   "execution_count": 98,
   "id": "quiet-midnight",
   "metadata": {},
   "outputs": [
    {
     "data": {
      "text/plain": [
       "Pizza(['mozzarella', 'mozzarella', 'mozzarella', 'mozzarella'])"
      ]
     },
     "execution_count": 98,
     "metadata": {},
     "output_type": "execute_result"
    }
   ],
   "source": [
    "Pizza(['mozzarella'] * 4)"
   ]
  },
  {
   "cell_type": "markdown",
   "id": "august-radius",
   "metadata": {},
   "source": [
    "The Italians figured out their pizza taxonomy centuries ago, and so these delicious types of pizzas all have their own names. We’d do well to take advantage of that and give the users of our Pizza class a better interface for creating the pizza objects they crave.\n",
    "\n",
    "A nice and clean way to do that is by using class methods as factory functions for the different kinds of pizzas we can create:"
   ]
  },
  {
   "cell_type": "code",
   "execution_count": 120,
   "id": "utility-poetry",
   "metadata": {},
   "outputs": [],
   "source": [
    "class Domnios:\n",
    "    def __init__(self, ingredients):\n",
    "        self.ingredients = ingredients\n",
    "\n",
    "    def __repr__(self):\n",
    "        return f'Pizza({self.ingredients!r})'\n",
    "\n",
    "    @classmethod\n",
    "    def margherita(cls):\n",
    "        return cls(['mozarella', 'ham'])\n",
    "\n",
    "    @classmethod\n",
    "    def mushroom_and_cheese(cls):\n",
    "        return cls(['beef', 'mushroom', 'cheese'])"
   ]
  },
  {
   "cell_type": "code",
   "execution_count": 121,
   "id": "coordinated-capture",
   "metadata": {},
   "outputs": [],
   "source": [
    "pizza = Dominos.mushroom_and_cheese()"
   ]
  },
  {
   "cell_type": "code",
   "execution_count": 122,
   "id": "wrapped-murder",
   "metadata": {},
   "outputs": [
    {
     "data": {
      "text/plain": [
       "['beef', 'mushroom', 'cheese']"
      ]
     },
     "execution_count": 122,
     "metadata": {},
     "output_type": "execute_result"
    }
   ],
   "source": [
    "pizza.ingredients"
   ]
  },
  {
   "cell_type": "markdown",
   "id": "cloudy-expense",
   "metadata": {},
   "source": [
    "Note how I’m using the `cls` argument in the `margherita` and `prosciutto` factory methods instead of calling the `Pizza` constructor directly."
   ]
  },
  {
   "cell_type": "markdown",
   "id": "amateur-guarantee",
   "metadata": {},
   "source": [
    "This is a trick you can use to follow the [Don’t Repeat Yourself (DRY)](https://en.wikipedia.org/wiki/Don't_repeat_yourself) principle. If we decide to rename this class at some point we won’t have to remember updating the constructor name in all of the classmethod factory functions."
   ]
  },
  {
   "cell_type": "markdown",
   "id": "changing-anger",
   "metadata": {},
   "source": [
    "Now, what can we do with these factory methods? Let’s try them out:"
   ]
  },
  {
   "cell_type": "code",
   "execution_count": 17,
   "id": "powered-charter",
   "metadata": {},
   "outputs": [
    {
     "data": {
      "text/plain": [
       "Pizza(['mozzarella', 'tomatoes'])"
      ]
     },
     "execution_count": 17,
     "metadata": {},
     "output_type": "execute_result"
    }
   ],
   "source": [
    "Pizza.margherita()"
   ]
  },
  {
   "cell_type": "code",
   "execution_count": 18,
   "id": "expanded-charger",
   "metadata": {},
   "outputs": [
    {
     "data": {
      "text/plain": [
       "Pizza(['mozzarella', 'tomatoes', 'ham'])"
      ]
     },
     "execution_count": 18,
     "metadata": {},
     "output_type": "execute_result"
    }
   ],
   "source": [
    "Pizza.prosciutto()"
   ]
  },
  {
   "cell_type": "markdown",
   "id": "average-candle",
   "metadata": {},
   "source": [
    "As you can see, we can use the factory functions to create new `Pizza` objects that are configured the way we want them. They all use the same `__init__` constructor internally and simply provide a shortcut for remembering all of the various ingredients."
   ]
  },
  {
   "cell_type": "markdown",
   "id": "legislative-myanmar",
   "metadata": {},
   "source": [
    "Another way to look at this use of class methods is that they allow you to define alternative constructors for your classes."
   ]
  },
  {
   "cell_type": "markdown",
   "id": "civilian-muscle",
   "metadata": {},
   "source": [
    "Python only allows one `__init__` method per class. Using class methods it’s possible to add as many alternative constructors as necessary. This can make the interface for your classes self-documenting (to a certain degree) and simplify their usage."
   ]
  },
  {
   "cell_type": "markdown",
   "id": "trying-republic",
   "metadata": {},
   "source": [
    "<a class=\"anchor\" id=\"when_to_use_static_methods\"></a>\n",
    "### When To Use Static Methods"
   ]
  },
  {
   "cell_type": "code",
   "execution_count": 19,
   "id": "according-hostel",
   "metadata": {},
   "outputs": [],
   "source": [
    "import math\n",
    "\n",
    "class Pizza:\n",
    "    def __init__(self, radius, ingredients):\n",
    "        self.radius = radius\n",
    "        self.ingredients = ingredients\n",
    "\n",
    "    def __repr__(self):\n",
    "        return (f'Pizza({self.radius!r}, '\n",
    "                f'{self.ingredients!r})')\n",
    "\n",
    "    def area(self):\n",
    "        return self.circle_area(self.radius)\n",
    "\n",
    "    @staticmethod\n",
    "    def circle_area(r):\n",
    "        return r ** 2 * math.pi"
   ]
  },
  {
   "cell_type": "markdown",
   "id": "processed-margin",
   "metadata": {},
   "source": [
    "As we’ve learned, static methods can’t access class or instance state because they don’t take a `cls` or `self` argument. That’s a big limitation — but it’s also a great signal to show that a particular method is independent from everything else around it."
   ]
  },
  {
   "cell_type": "markdown",
   "id": "sticky-classification",
   "metadata": {},
   "source": [
    "In the above example, it’s clear that `circle_area()` can’t modify the class or the class instance in any way. (Sure, you could always work around that with a global variable but that’s not the point here.)"
   ]
  },
  {
   "cell_type": "markdown",
   "id": "destroyed-chick",
   "metadata": {},
   "source": [
    "Now, why is that useful?\n",
    "\n",
    "Flagging a method as a static method is not just a hint that a method won’t modify class or instance state — this restriction is also enforced by the Python runtime."
   ]
  },
  {
   "cell_type": "markdown",
   "id": "weird-metadata",
   "metadata": {},
   "source": [
    "Techniques like that allow you to communicate clearly about parts of your class architecture so that new development work is naturally guided to happen within these set boundaries. Of course, it would be easy enough to defy these restrictions. But in practice they often help avoid accidental modifications going against the original design."
   ]
  },
  {
   "cell_type": "markdown",
   "id": "brazilian-birthday",
   "metadata": {},
   "source": [
    "Put differently, using static methods and class methods are ways to communicate developer intent while enforcing that intent enough to avoid most slip of the mind mistakes and bugs that would break the design."
   ]
  },
  {
   "cell_type": "markdown",
   "id": "opponent-concept",
   "metadata": {},
   "source": [
    "Static methods also have benefits when it comes to writing test code.\n",
    "\n",
    "Because the `circle_area()` method is completely independent from the rest of the class it’s much easier to test.\n",
    "\n",
    "We don’t have to worry about setting up a complete class instance before we can test the method in a unit test. We can just fire away like we would testing a regular function. Again, this makes future maintenance easier."
   ]
  },
  {
   "cell_type": "markdown",
   "id": "reliable-medicare",
   "metadata": {},
   "source": [
    "<a class=\"anchor\" id=\"key_takeaways\"></a>\n",
    "### Key Takeaways\n",
    "\n",
    "- Instance methods need a class instance and can access the instance through `self`.\n",
    "- Class methods don’t need a class instance. They can’t access the instance (`self`) but they have access to the class itself via `cls`.\n",
    "- Static methods don’t have access to `cls` or `self`. They work like regular functions but belong to the class’s namespace.\n",
    "- Static and class methods communicate and (to a certain degree) enforce developer intent about class design. This can have maintenance benefits."
   ]
  }
 ],
 "metadata": {
  "kernelspec": {
   "display_name": "Python 3 (ipykernel)",
   "language": "python",
   "name": "python3"
  },
  "language_info": {
   "codemirror_mode": {
    "name": "ipython",
    "version": 3
   },
   "file_extension": ".py",
   "mimetype": "text/x-python",
   "name": "python",
   "nbconvert_exporter": "python",
   "pygments_lexer": "ipython3",
   "version": "3.7.10"
  }
 },
 "nbformat": 4,
 "nbformat_minor": 5
}
