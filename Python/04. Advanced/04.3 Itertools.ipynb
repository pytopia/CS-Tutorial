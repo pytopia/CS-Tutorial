{
 "cells": [
  {
   "cell_type": "markdown",
   "metadata": {},
   "source": [
    "<img src=\"../../images/banners/python-advanced.png\" width=\"600\"/>"
   ]
  },
  {
   "cell_type": "markdown",
   "metadata": {},
   "source": [
    "# <img src=\"../../images/logos/python.png\" width=\"23\"/> Itertools \n"
   ]
  },
  {
   "cell_type": "markdown",
   "metadata": {},
   "source": [
    "<a class=\"anchor\" id=\"table_of_contents\"></a>\n",
    "## Table of Contents\n",
    "\n",
    "\n",
    "* [What Is `itertools` and Why Should You Use It?](#what_is_`itertools`_and_why_should_you_use_it?)\n",
    "* [The `grouper` Recipe](#the_`grouper`_recipe)\n",
    "* [Et tu, Brute Force?](#et_tu,_brute_force?)\n",
    "* [Sequences of Numbers](#sequences_of_numbers)\n",
    "    * [Evens and Odds](#evens_and_odds)\n",
    "* [Recurrence Relations](#recurrence_relations)\n",
    "* [First Order Recurrence Relations](#first_order_recurrence_relations)\n",
    "* [Second Order Recurrence Relations](#second_order_recurrence_relations)\n",
    "\n",
    "---"
   ]
  },
  {
   "cell_type": "markdown",
   "metadata": {},
   "source": [
    "It has been called a “gem” and “pretty much the coolest thing ever,” and if you have not heard of it, then you are missing out on one of the greatest corners of the Python 3 standard library: `itertools`."
   ]
  },
  {
   "cell_type": "markdown",
   "metadata": {},
   "source": [
    "A handful of excellent resources exist for learning what functions are available in the itertools module. The docs themselves are a great place to start. So is this post."
   ]
  },
  {
   "cell_type": "markdown",
   "metadata": {},
   "source": [
    "The thing about `itertools`, though, is that it is not enough to just know the definitions of the functions it contains. The real power lies in composing these functions to create fast, memory-efficient, and good-looking code."
   ]
  },
  {
   "cell_type": "markdown",
   "metadata": {},
   "source": [
    "This article takes a different approach. Rather than introducing itertools to you one function at a time, you will construct practical examples designed to encourage you to “think iteratively.” In general, the examples will start simple and gradually increase in complexity."
   ]
  },
  {
   "cell_type": "markdown",
   "metadata": {},
   "source": [
    "<a class=\"anchor\" id=\"what_is_`itertools`_and_why_should_you_use_it?\"></a>\n",
    "## What Is `itertools` and Why Should You Use It? [<img src=\"../../images/logos/back_to_top.png\" width=\"22\" align= \"center\"/>](#table_of_contents)"
   ]
  },
  {
   "cell_type": "markdown",
   "metadata": {},
   "source": [
    "According to the [itertools docs](https://docs.python.org/3/library/itertools.html), it is a “module [that] implements a number of `iterator` building blocks inspired by constructs from APL, Haskell, and SML… Together, they form an ‘iterator algebra’ making it possible to construct specialized tools succinctly and efficiently in pure Python.”\n",
    "\n",
    "Loosely speaking, this means that the functions in `itertools` “operate” on iterators to produce more complex iterators. Consider, for example, the built-in `zip()` function, which takes any number of iterables as arguments and returns an iterator over tuples of their corresponding elements:"
   ]
  },
  {
   "cell_type": "code",
   "execution_count": 1,
   "metadata": {},
   "outputs": [
    {
     "data": {
      "text/plain": [
       "[(1, 'a'), (2, 'b'), (3, 'c')]"
      ]
     },
     "execution_count": 1,
     "metadata": {},
     "output_type": "execute_result"
    }
   ],
   "source": [
    "list(zip([1, 2, 3], ['a', 'b', 'c']))"
   ]
  },
  {
   "cell_type": "markdown",
   "metadata": {},
   "source": [
    "How, exactly, does `zip()` work?\n",
    "\n",
    "`[1, 2, 3]` and `['a', 'b', 'c']`, like all lists, are iterable, which means they can return their elements one at a time. Technically, any Python object that implements the `.__iter__()` or `.__getitem__()` methods is iterable. (See the Python 3 docs glossary for a more detailed explanation.)\n",
    "\n",
    "The `iter()` built-in function, when called on an iterable, returns an iterator object for that iterable:"
   ]
  },
  {
   "cell_type": "code",
   "execution_count": 2,
   "metadata": {},
   "outputs": [
    {
     "data": {
      "text/plain": [
       "<list_iterator at 0x7ff3a05cddd0>"
      ]
     },
     "execution_count": 2,
     "metadata": {},
     "output_type": "execute_result"
    }
   ],
   "source": [
    "iter([1, 2, 3, 4])"
   ]
  },
  {
   "cell_type": "markdown",
   "metadata": {},
   "source": [
    "Under the hood, the `zip()` function works, in essence, by calling `iter()` on each of its arguments, then advancing each iterator returned by `iter()` with `next()` and aggregating the results into tuples. The iterator returned by `zip()` iterates over these tuples."
   ]
  },
  {
   "cell_type": "markdown",
   "metadata": {},
   "source": [
    "The `map()` built-in function is another “iterator operator” that, in its simplest form, applies a single-parameter function to each element of an iterable one element at a time:"
   ]
  },
  {
   "cell_type": "code",
   "execution_count": 3,
   "metadata": {},
   "outputs": [
    {
     "data": {
      "text/plain": [
       "[3, 2, 4]"
      ]
     },
     "execution_count": 3,
     "metadata": {},
     "output_type": "execute_result"
    }
   ],
   "source": [
    "list(map(len, ['abc', 'de', 'fghi']))"
   ]
  },
  {
   "cell_type": "markdown",
   "metadata": {},
   "source": [
    "The `map()` function works by calling `iter()` on its second argument, advancing this iterator with `next()` until the iterator is exhausted, and applying the function passed to its first argument to the value returned by `next()` at each step. In the above example, `len()` is called on each element of `['abc', 'de', 'fghi']` to return an iterator over the lengths of each string in the list."
   ]
  },
  {
   "cell_type": "markdown",
   "metadata": {},
   "source": [
    "Since iterators are iterable, you can compose `zip()` and `map()` to produce an iterator over combinations of elements in more than one iterable. For example, the following sums corresponding elements of two lists:"
   ]
  },
  {
   "cell_type": "code",
   "execution_count": 4,
   "metadata": {},
   "outputs": [
    {
     "data": {
      "text/plain": [
       "[5, 7, 9]"
      ]
     },
     "execution_count": 4,
     "metadata": {},
     "output_type": "execute_result"
    }
   ],
   "source": [
    "list(map(sum, zip([1, 2, 3], [4, 5, 6])))"
   ]
  },
  {
   "cell_type": "markdown",
   "metadata": {},
   "source": [
    "This is what is meant by the functions in itertools forming an “iterator algebra.” itertools is best viewed as a collection of building blocks that can be combined to form specialized “data pipelines” like the one in the example above."
   ]
  },
  {
   "cell_type": "markdown",
   "metadata": {},
   "source": [
    "There are two main reasons why such an “iterator algebra” is useful: improved memory efficiency (via lazy evaluation) and faster execuction time. To see this, consider the following problem:"
   ]
  },
  {
   "cell_type": "markdown",
   "metadata": {},
   "source": [
    "Given a list of values inputs and a positive integer `n`, write a function that splits inputs into groups of length `n`. For simplicity, assume that the length of the input list is divisible by `n`. For example, if `inputs = [1, 2, 3, 4, 5, 6]` and `n = 2`, your function should return `[(1, 2), (3, 4), (5, 6)]`."
   ]
  },
  {
   "cell_type": "markdown",
   "metadata": {},
   "source": [
    "Taking a naive approach, you might write something like this:"
   ]
  },
  {
   "cell_type": "code",
   "execution_count": 6,
   "metadata": {},
   "outputs": [],
   "source": [
    "def naive_grouper(inputs, n):\n",
    "    num_groups = len(inputs) // n\n",
    "    return [tuple(inputs[i*n:(i+1)*n]) for i in range(num_groups)]"
   ]
  },
  {
   "cell_type": "markdown",
   "metadata": {},
   "source": [
    "When you test it, you see that it works as expected:"
   ]
  },
  {
   "cell_type": "code",
   "execution_count": 10,
   "metadata": {},
   "outputs": [
    {
     "data": {
      "text/plain": [
       "[(1, 2), (3, 4), (5, 6), (7, 8), (9, 10)]"
      ]
     },
     "execution_count": 10,
     "metadata": {},
     "output_type": "execute_result"
    }
   ],
   "source": [
    "nums = [1, 2, 3, 4, 5, 6, 7, 8, 9, 10]\n",
    "naive_grouper(nums, 2)"
   ]
  },
  {
   "cell_type": "markdown",
   "metadata": {},
   "source": [
    "What happens when you try to pass it a list with, say, 100 million elements? You will need a whole lot of available memory! Even if you have enough memory available, your program will hang for a while until the output list is populated."
   ]
  },
  {
   "cell_type": "markdown",
   "metadata": {},
   "source": [
    "To see this, you can use the `%memit` command (on UNIX systems) to measure memory usage. **Make sure you have at least 5GB of free memory before executing the following**:\n",
    "\n",
    "**Note:** You should install `line_profiler` with `pip install line_profiler` to make `%%memit` work."
   ]
  },
  {
   "cell_type": "code",
   "execution_count": 1,
   "metadata": {},
   "outputs": [],
   "source": [
    "def naive_grouper(inputs, n):\n",
    "    num_groups = len(inputs) // n\n",
    "    return [tuple(inputs[i*n:(i+1)*n]) for i in range(num_groups)]"
   ]
  },
  {
   "cell_type": "code",
   "execution_count": 3,
   "metadata": {},
   "outputs": [],
   "source": [
    "# to make memit work.\n",
    "%load_ext memory_profiler"
   ]
  },
  {
   "cell_type": "code",
   "execution_count": 4,
   "metadata": {},
   "outputs": [
    {
     "name": "stdout",
     "output_type": "stream",
     "text": [
      "peak memory: 4618.79 MiB, increment: 4573.99 MiB\n"
     ]
    }
   ],
   "source": [
    "%%memit\n",
    "for _ in naive_grouper(range(100000000), 10):\n",
    "    pass"
   ]
  },
  {
   "cell_type": "markdown",
   "metadata": {},
   "source": [
    "The list and tuple implementation in `naive_grouper()` requires approximately **4.5GB** of memory to process `range(100000000)`. Working with iterators drastically improves this situation. Consider the following:"
   ]
  },
  {
   "cell_type": "code",
   "execution_count": 5,
   "metadata": {},
   "outputs": [],
   "source": [
    "def better_grouper(inputs, n):\n",
    "    iters = [iter(inputs)] * n\n",
    "    return zip(*iters)"
   ]
  },
  {
   "cell_type": "markdown",
   "metadata": {},
   "source": [
    "There’s a lot going on in this little function, so let’s break it down with a concrete example. The expression [iters(inputs)] * n creates a list of n references to the same iterator:"
   ]
  },
  {
   "cell_type": "code",
   "execution_count": 6,
   "metadata": {},
   "outputs": [
    {
     "data": {
      "text/plain": [
       "[139849102645712, 139849102645712]"
      ]
     },
     "execution_count": 6,
     "metadata": {},
     "output_type": "execute_result"
    }
   ],
   "source": [
    "nums = [1, 2, 3, 4, 5, 6, 7, 8, 9, 10]\n",
    "iters = [iter(nums)] * 2\n",
    "list(id(itr) for itr in iters)  # IDs are the same."
   ]
  },
  {
   "cell_type": "markdown",
   "metadata": {},
   "source": [
    "Next, `zip(*iters)` returns an iterator over pairs of corresponding elements of each iterator in iters. When the first element, 1, is taken from the “first” iterator, the “second” iterator now starts at 2 since it is just a reference to the “first” iterator and has therefore been advanced one step. So, the first tuple produced by `zip()` is `(1, 2)`."
   ]
  },
  {
   "cell_type": "markdown",
   "metadata": {},
   "source": [
    "At this point, “both” iterators in iters start at 3, so when `zip()` pulls 3 from the “first” iterator, it gets 4 from the “second” to produce the tuple `(3, 4)`. This process continues until `zip()` finally produces `(9, 10)` and “both” iterators in iters are exhausted:"
   ]
  },
  {
   "cell_type": "code",
   "execution_count": 7,
   "metadata": {},
   "outputs": [
    {
     "data": {
      "text/plain": [
       "[(1, 2), (3, 4), (5, 6), (7, 8), (9, 10)]"
      ]
     },
     "execution_count": 7,
     "metadata": {},
     "output_type": "execute_result"
    }
   ],
   "source": [
    "nums = [1, 2, 3, 4, 5, 6, 7, 8, 9, 10]\n",
    "list(better_grouper(nums, 2))"
   ]
  },
  {
   "cell_type": "markdown",
   "metadata": {},
   "source": [
    "The `better_grouper()` function is better for a couple of reasons. First, without the reference to the `len()` built-in, `better_grouper()` can take any iterable as an argument (even infinite iterators). Second, by returning an iterator rather than a list, `better_grouper()` can process enormous iterables without trouble and uses much less memory."
   ]
  },
  {
   "cell_type": "markdown",
   "metadata": {},
   "source": [
    "Run the following again:"
   ]
  },
  {
   "cell_type": "code",
   "execution_count": 8,
   "metadata": {},
   "outputs": [],
   "source": [
    "def better_grouper(inputs, n):\n",
    "    iters = [iter(inputs)] * n\n",
    "    return zip(*iters)"
   ]
  },
  {
   "cell_type": "code",
   "execution_count": 9,
   "metadata": {},
   "outputs": [
    {
     "name": "stdout",
     "output_type": "stream",
     "text": [
      "peak memory: 47.80 MiB, increment: 0.00 MiB\n"
     ]
    }
   ],
   "source": [
    "%%memit\n",
    "for _ in better_grouper(range(100000000), 10):\n",
    "    pass"
   ]
  },
  {
   "cell_type": "markdown",
   "metadata": {},
   "source": [
    "That’s a whopping 630 times less memory used before in less than a quarter of the time!"
   ]
  },
  {
   "cell_type": "markdown",
   "metadata": {},
   "source": [
    "Now that you’ve seen what `itertools` is (“iterator algebra”) and why you should use it (improved memory efficiency and faster execution time), let’s take a look at how to take `better_grouper()` to the next level with itertools."
   ]
  },
  {
   "cell_type": "markdown",
   "metadata": {},
   "source": [
    "<a class=\"anchor\" id=\"the_`grouper`_recipe\"></a>\n",
    "## The `grouper` Recipe [<img src=\"../../images/logos/back_to_top.png\" width=\"22\" align= \"center\"/>](#table_of_contents)"
   ]
  },
  {
   "cell_type": "markdown",
   "metadata": {},
   "source": [
    "The problem with `better_grouper()` is that it doesn’t handle situations where the value passed to the second argument isn’t a factor of the length of the iterable in the first argument:"
   ]
  },
  {
   "cell_type": "code",
   "execution_count": 10,
   "metadata": {},
   "outputs": [
    {
     "data": {
      "text/plain": [
       "[(1, 2, 3, 4), (5, 6, 7, 8)]"
      ]
     },
     "execution_count": 10,
     "metadata": {},
     "output_type": "execute_result"
    }
   ],
   "source": [
    "nums = [1, 2, 3, 4, 5, 6, 7, 8, 9, 10]\n",
    "list(better_grouper(nums, 4))"
   ]
  },
  {
   "cell_type": "markdown",
   "metadata": {},
   "source": [
    "The elements 9 and 10 are missing from the grouped output. This happens because `zip()` stops aggregating elements once the shortest iterable passed to it is exhausted. It would make more sense to return a third group containing 9 and 10."
   ]
  },
  {
   "cell_type": "markdown",
   "metadata": {},
   "source": [
    "To do this, you can use `itertools.zip_longest()`. This function accepts any number of iterables as arguments and a fillvalue keyword argument that defaults to None. The easiest way to get a sense of the difference between `zip()` and `zip_longest()` is to look at some example output:"
   ]
  },
  {
   "cell_type": "code",
   "execution_count": 15,
   "metadata": {},
   "outputs": [],
   "source": [
    "import itertools as it"
   ]
  },
  {
   "cell_type": "code",
   "execution_count": 16,
   "metadata": {},
   "outputs": [],
   "source": [
    "x = [1, 2, 3, 4, 5]\n",
    "y = ['a', 'b', 'c']"
   ]
  },
  {
   "cell_type": "code",
   "execution_count": 17,
   "metadata": {},
   "outputs": [
    {
     "data": {
      "text/plain": [
       "[(1, 'a'), (2, 'b'), (3, 'c'), (4, None), (5, None)]"
      ]
     },
     "execution_count": 17,
     "metadata": {},
     "output_type": "execute_result"
    }
   ],
   "source": [
    "list(it.zip_longest(x, y))"
   ]
  },
  {
   "cell_type": "markdown",
   "metadata": {},
   "source": [
    "With this in mind, replace zip() in better_grouper() with zip_longest():"
   ]
  },
  {
   "cell_type": "code",
   "execution_count": 19,
   "metadata": {},
   "outputs": [],
   "source": [
    "import itertools as it\n",
    "\n",
    "\n",
    "def grouper(inputs, n, fillvalue=None):\n",
    "    iters = [iter(inputs)] * n\n",
    "    return it.zip_longest(*iters, fillvalue=fillvalue)"
   ]
  },
  {
   "cell_type": "markdown",
   "metadata": {},
   "source": [
    "Now you get a better result:"
   ]
  },
  {
   "cell_type": "code",
   "execution_count": 20,
   "metadata": {},
   "outputs": [
    {
     "name": "stdout",
     "output_type": "stream",
     "text": [
      "[(1, 2, 3, 4), (5, 6, 7, 8), (9, 10, None, None)]\n"
     ]
    }
   ],
   "source": [
    "nums = [1, 2, 3, 4, 5, 6, 7, 8, 9, 10]\n",
    "print(list(grouper(nums, 4)))"
   ]
  },
  {
   "cell_type": "markdown",
   "metadata": {},
   "source": [
    "The `grouper()` function can be found in the [Recipes section](https://docs.python.org/3.6/library/itertools.html#itertools-recipes) of the itertools docs. The recipes are an excellent source of inspiration for ways to use itertools to your advantage."
   ]
  },
  {
   "cell_type": "markdown",
   "metadata": {},
   "source": [
    "<a class=\"anchor\" id=\"et_tu,_brute_force?\"></a>\n",
    "## Et tu, Brute Force? [<img src=\"../../images/logos/back_to_top.png\" width=\"22\" align= \"center\"/>](#table_of_contents)"
   ]
  },
  {
   "cell_type": "markdown",
   "metadata": {},
   "source": [
    "Here’s a common interview-style problem:\n",
    "\n",
    "> You have three `$20` dollar bills, five `$10` dollar bills, two `$5` dollar bills, and five `$1` dollar bills. How many ways can you make change for a `$100` dollar bill?"
   ]
  },
  {
   "cell_type": "markdown",
   "metadata": {},
   "source": [
    "To “brute force” this problem, you just start listing off the ways there are to choose one bill from your wallet, check whether any of these makes change for $100, then list the ways to pick two bills from your wallet, check again, and so on and so forth."
   ]
  },
  {
   "cell_type": "markdown",
   "metadata": {},
   "source": [
    "But you are a programmer, so naturally you want to automate this process."
   ]
  },
  {
   "cell_type": "markdown",
   "metadata": {},
   "source": [
    "First, create a list of the bills you have in your wallet:"
   ]
  },
  {
   "cell_type": "code",
   "execution_count": 21,
   "metadata": {},
   "outputs": [],
   "source": [
    "bills = [20, 20, 20, 10, 10, 10, 10, 10, 5, 5, 1, 1, 1, 1, 1]"
   ]
  },
  {
   "cell_type": "code",
   "execution_count": 33,
   "metadata": {},
   "outputs": [
    {
     "data": {
      "text/plain": [
       "[(20, 20, 20, 10, 10),\n",
       " (20, 20, 20, 10, 10),\n",
       " (20, 20, 20, 10, 10),\n",
       " (20, 20, 20, 10, 10),\n",
       " (20, 20, 20, 10, 5),\n",
       " (20, 20, 20, 10, 5),\n",
       " (20, 20, 20, 10, 1),\n",
       " (20, 20, 20, 10, 1),\n",
       " (20, 20, 20, 10, 1),\n",
       " (20, 20, 20, 10, 1),\n",
       " (20, 20, 20, 10, 1),\n",
       " (20, 20, 20, 10, 10),\n",
       " (20, 20, 20, 10, 10),\n",
       " (20, 20, 20, 10, 10),\n",
       " (20, 20, 20, 10, 5),\n",
       " (20, 20, 20, 10, 5),\n",
       " (20, 20, 20, 10, 1),\n",
       " (20, 20, 20, 10, 1),\n",
       " (20, 20, 20, 10, 1),\n",
       " (20, 20, 20, 10, 1),\n",
       " (20, 20, 20, 10, 1),\n",
       " (20, 20, 20, 10, 10),\n",
       " (20, 20, 20, 10, 10),\n",
       " (20, 20, 20, 10, 5),\n",
       " (20, 20, 20, 10, 5),\n",
       " (20, 20, 20, 10, 1),\n",
       " (20, 20, 20, 10, 1),\n",
       " (20, 20, 20, 10, 1),\n",
       " (20, 20, 20, 10, 1),\n",
       " (20, 20, 20, 10, 1),\n",
       " (20, 20, 20, 10, 10),\n",
       " (20, 20, 20, 10, 5),\n",
       " (20, 20, 20, 10, 5),\n",
       " (20, 20, 20, 10, 1),\n",
       " (20, 20, 20, 10, 1),\n",
       " (20, 20, 20, 10, 1),\n",
       " (20, 20, 20, 10, 1),\n",
       " (20, 20, 20, 10, 1),\n",
       " (20, 20, 20, 10, 5),\n",
       " (20, 20, 20, 10, 5),\n",
       " (20, 20, 20, 10, 1),\n",
       " (20, 20, 20, 10, 1),\n",
       " (20, 20, 20, 10, 1),\n",
       " (20, 20, 20, 10, 1),\n",
       " (20, 20, 20, 10, 1),\n",
       " (20, 20, 20, 5, 5),\n",
       " (20, 20, 20, 5, 1),\n",
       " (20, 20, 20, 5, 1),\n",
       " (20, 20, 20, 5, 1),\n",
       " (20, 20, 20, 5, 1),\n",
       " (20, 20, 20, 5, 1),\n",
       " (20, 20, 20, 5, 1),\n",
       " (20, 20, 20, 5, 1),\n",
       " (20, 20, 20, 5, 1),\n",
       " (20, 20, 20, 5, 1),\n",
       " (20, 20, 20, 5, 1),\n",
       " (20, 20, 20, 1, 1),\n",
       " (20, 20, 20, 1, 1),\n",
       " (20, 20, 20, 1, 1),\n",
       " (20, 20, 20, 1, 1),\n",
       " (20, 20, 20, 1, 1),\n",
       " (20, 20, 20, 1, 1),\n",
       " (20, 20, 20, 1, 1),\n",
       " (20, 20, 20, 1, 1),\n",
       " (20, 20, 20, 1, 1),\n",
       " (20, 20, 20, 1, 1),\n",
       " (20, 20, 10, 10, 10),\n",
       " (20, 20, 10, 10, 10),\n",
       " (20, 20, 10, 10, 10),\n",
       " (20, 20, 10, 10, 5),\n",
       " (20, 20, 10, 10, 5),\n",
       " (20, 20, 10, 10, 1),\n",
       " (20, 20, 10, 10, 1),\n",
       " (20, 20, 10, 10, 1),\n",
       " (20, 20, 10, 10, 1),\n",
       " (20, 20, 10, 10, 1),\n",
       " (20, 20, 10, 10, 10),\n",
       " (20, 20, 10, 10, 10),\n",
       " (20, 20, 10, 10, 5),\n",
       " (20, 20, 10, 10, 5),\n",
       " (20, 20, 10, 10, 1),\n",
       " (20, 20, 10, 10, 1),\n",
       " (20, 20, 10, 10, 1),\n",
       " (20, 20, 10, 10, 1),\n",
       " (20, 20, 10, 10, 1),\n",
       " (20, 20, 10, 10, 10),\n",
       " (20, 20, 10, 10, 5),\n",
       " (20, 20, 10, 10, 5),\n",
       " (20, 20, 10, 10, 1),\n",
       " (20, 20, 10, 10, 1),\n",
       " (20, 20, 10, 10, 1),\n",
       " (20, 20, 10, 10, 1),\n",
       " (20, 20, 10, 10, 1),\n",
       " (20, 20, 10, 10, 5),\n",
       " (20, 20, 10, 10, 5),\n",
       " (20, 20, 10, 10, 1),\n",
       " (20, 20, 10, 10, 1),\n",
       " (20, 20, 10, 10, 1),\n",
       " (20, 20, 10, 10, 1),\n",
       " (20, 20, 10, 10, 1),\n",
       " (20, 20, 10, 5, 5),\n",
       " (20, 20, 10, 5, 1),\n",
       " (20, 20, 10, 5, 1),\n",
       " (20, 20, 10, 5, 1),\n",
       " (20, 20, 10, 5, 1),\n",
       " (20, 20, 10, 5, 1),\n",
       " (20, 20, 10, 5, 1),\n",
       " (20, 20, 10, 5, 1),\n",
       " (20, 20, 10, 5, 1),\n",
       " (20, 20, 10, 5, 1),\n",
       " (20, 20, 10, 5, 1),\n",
       " (20, 20, 10, 1, 1),\n",
       " (20, 20, 10, 1, 1),\n",
       " (20, 20, 10, 1, 1),\n",
       " (20, 20, 10, 1, 1),\n",
       " (20, 20, 10, 1, 1),\n",
       " (20, 20, 10, 1, 1),\n",
       " (20, 20, 10, 1, 1),\n",
       " (20, 20, 10, 1, 1),\n",
       " (20, 20, 10, 1, 1),\n",
       " (20, 20, 10, 1, 1),\n",
       " (20, 20, 10, 10, 10),\n",
       " (20, 20, 10, 10, 10),\n",
       " (20, 20, 10, 10, 5),\n",
       " (20, 20, 10, 10, 5),\n",
       " (20, 20, 10, 10, 1),\n",
       " (20, 20, 10, 10, 1),\n",
       " (20, 20, 10, 10, 1),\n",
       " (20, 20, 10, 10, 1),\n",
       " (20, 20, 10, 10, 1),\n",
       " (20, 20, 10, 10, 10),\n",
       " (20, 20, 10, 10, 5),\n",
       " (20, 20, 10, 10, 5),\n",
       " (20, 20, 10, 10, 1),\n",
       " (20, 20, 10, 10, 1),\n",
       " (20, 20, 10, 10, 1),\n",
       " (20, 20, 10, 10, 1),\n",
       " (20, 20, 10, 10, 1),\n",
       " (20, 20, 10, 10, 5),\n",
       " (20, 20, 10, 10, 5),\n",
       " (20, 20, 10, 10, 1),\n",
       " (20, 20, 10, 10, 1),\n",
       " (20, 20, 10, 10, 1),\n",
       " (20, 20, 10, 10, 1),\n",
       " (20, 20, 10, 10, 1),\n",
       " (20, 20, 10, 5, 5),\n",
       " (20, 20, 10, 5, 1),\n",
       " (20, 20, 10, 5, 1),\n",
       " (20, 20, 10, 5, 1),\n",
       " (20, 20, 10, 5, 1),\n",
       " (20, 20, 10, 5, 1),\n",
       " (20, 20, 10, 5, 1),\n",
       " (20, 20, 10, 5, 1),\n",
       " (20, 20, 10, 5, 1),\n",
       " (20, 20, 10, 5, 1),\n",
       " (20, 20, 10, 5, 1),\n",
       " (20, 20, 10, 1, 1),\n",
       " (20, 20, 10, 1, 1),\n",
       " (20, 20, 10, 1, 1),\n",
       " (20, 20, 10, 1, 1),\n",
       " (20, 20, 10, 1, 1),\n",
       " (20, 20, 10, 1, 1),\n",
       " (20, 20, 10, 1, 1),\n",
       " (20, 20, 10, 1, 1),\n",
       " (20, 20, 10, 1, 1),\n",
       " (20, 20, 10, 1, 1),\n",
       " (20, 20, 10, 10, 10),\n",
       " (20, 20, 10, 10, 5),\n",
       " (20, 20, 10, 10, 5),\n",
       " (20, 20, 10, 10, 1),\n",
       " (20, 20, 10, 10, 1),\n",
       " (20, 20, 10, 10, 1),\n",
       " (20, 20, 10, 10, 1),\n",
       " (20, 20, 10, 10, 1),\n",
       " (20, 20, 10, 10, 5),\n",
       " (20, 20, 10, 10, 5),\n",
       " (20, 20, 10, 10, 1),\n",
       " (20, 20, 10, 10, 1),\n",
       " (20, 20, 10, 10, 1),\n",
       " (20, 20, 10, 10, 1),\n",
       " (20, 20, 10, 10, 1),\n",
       " (20, 20, 10, 5, 5),\n",
       " (20, 20, 10, 5, 1),\n",
       " (20, 20, 10, 5, 1),\n",
       " (20, 20, 10, 5, 1),\n",
       " (20, 20, 10, 5, 1),\n",
       " (20, 20, 10, 5, 1),\n",
       " (20, 20, 10, 5, 1),\n",
       " (20, 20, 10, 5, 1),\n",
       " (20, 20, 10, 5, 1),\n",
       " (20, 20, 10, 5, 1),\n",
       " (20, 20, 10, 5, 1),\n",
       " (20, 20, 10, 1, 1),\n",
       " (20, 20, 10, 1, 1),\n",
       " (20, 20, 10, 1, 1),\n",
       " (20, 20, 10, 1, 1),\n",
       " (20, 20, 10, 1, 1),\n",
       " (20, 20, 10, 1, 1),\n",
       " (20, 20, 10, 1, 1),\n",
       " (20, 20, 10, 1, 1),\n",
       " (20, 20, 10, 1, 1),\n",
       " (20, 20, 10, 1, 1),\n",
       " (20, 20, 10, 10, 5),\n",
       " (20, 20, 10, 10, 5),\n",
       " (20, 20, 10, 10, 1),\n",
       " (20, 20, 10, 10, 1),\n",
       " (20, 20, 10, 10, 1),\n",
       " (20, 20, 10, 10, 1),\n",
       " (20, 20, 10, 10, 1),\n",
       " (20, 20, 10, 5, 5),\n",
       " (20, 20, 10, 5, 1),\n",
       " (20, 20, 10, 5, 1),\n",
       " (20, 20, 10, 5, 1),\n",
       " (20, 20, 10, 5, 1),\n",
       " (20, 20, 10, 5, 1),\n",
       " (20, 20, 10, 5, 1),\n",
       " (20, 20, 10, 5, 1),\n",
       " (20, 20, 10, 5, 1),\n",
       " (20, 20, 10, 5, 1),\n",
       " (20, 20, 10, 5, 1),\n",
       " (20, 20, 10, 1, 1),\n",
       " (20, 20, 10, 1, 1),\n",
       " (20, 20, 10, 1, 1),\n",
       " (20, 20, 10, 1, 1),\n",
       " (20, 20, 10, 1, 1),\n",
       " (20, 20, 10, 1, 1),\n",
       " (20, 20, 10, 1, 1),\n",
       " (20, 20, 10, 1, 1),\n",
       " (20, 20, 10, 1, 1),\n",
       " (20, 20, 10, 1, 1),\n",
       " (20, 20, 10, 5, 5),\n",
       " (20, 20, 10, 5, 1),\n",
       " (20, 20, 10, 5, 1),\n",
       " (20, 20, 10, 5, 1),\n",
       " (20, 20, 10, 5, 1),\n",
       " (20, 20, 10, 5, 1),\n",
       " (20, 20, 10, 5, 1),\n",
       " (20, 20, 10, 5, 1),\n",
       " (20, 20, 10, 5, 1),\n",
       " (20, 20, 10, 5, 1),\n",
       " (20, 20, 10, 5, 1),\n",
       " (20, 20, 10, 1, 1),\n",
       " (20, 20, 10, 1, 1),\n",
       " (20, 20, 10, 1, 1),\n",
       " (20, 20, 10, 1, 1),\n",
       " (20, 20, 10, 1, 1),\n",
       " (20, 20, 10, 1, 1),\n",
       " (20, 20, 10, 1, 1),\n",
       " (20, 20, 10, 1, 1),\n",
       " (20, 20, 10, 1, 1),\n",
       " (20, 20, 10, 1, 1),\n",
       " (20, 20, 5, 5, 1),\n",
       " (20, 20, 5, 5, 1),\n",
       " (20, 20, 5, 5, 1),\n",
       " (20, 20, 5, 5, 1),\n",
       " (20, 20, 5, 5, 1),\n",
       " (20, 20, 5, 1, 1),\n",
       " (20, 20, 5, 1, 1),\n",
       " (20, 20, 5, 1, 1),\n",
       " (20, 20, 5, 1, 1),\n",
       " (20, 20, 5, 1, 1),\n",
       " (20, 20, 5, 1, 1),\n",
       " (20, 20, 5, 1, 1),\n",
       " (20, 20, 5, 1, 1),\n",
       " (20, 20, 5, 1, 1),\n",
       " (20, 20, 5, 1, 1),\n",
       " (20, 20, 5, 1, 1),\n",
       " (20, 20, 5, 1, 1),\n",
       " (20, 20, 5, 1, 1),\n",
       " (20, 20, 5, 1, 1),\n",
       " (20, 20, 5, 1, 1),\n",
       " (20, 20, 5, 1, 1),\n",
       " (20, 20, 5, 1, 1),\n",
       " (20, 20, 5, 1, 1),\n",
       " (20, 20, 5, 1, 1),\n",
       " (20, 20, 5, 1, 1),\n",
       " (20, 20, 1, 1, 1),\n",
       " (20, 20, 1, 1, 1),\n",
       " (20, 20, 1, 1, 1),\n",
       " (20, 20, 1, 1, 1),\n",
       " (20, 20, 1, 1, 1),\n",
       " (20, 20, 1, 1, 1),\n",
       " (20, 20, 1, 1, 1),\n",
       " (20, 20, 1, 1, 1),\n",
       " (20, 20, 1, 1, 1),\n",
       " (20, 20, 1, 1, 1),\n",
       " (20, 20, 10, 10, 10),\n",
       " (20, 20, 10, 10, 10),\n",
       " (20, 20, 10, 10, 10),\n",
       " (20, 20, 10, 10, 5),\n",
       " (20, 20, 10, 10, 5),\n",
       " (20, 20, 10, 10, 1),\n",
       " (20, 20, 10, 10, 1),\n",
       " (20, 20, 10, 10, 1),\n",
       " (20, 20, 10, 10, 1),\n",
       " (20, 20, 10, 10, 1),\n",
       " (20, 20, 10, 10, 10),\n",
       " (20, 20, 10, 10, 10),\n",
       " (20, 20, 10, 10, 5),\n",
       " (20, 20, 10, 10, 5),\n",
       " (20, 20, 10, 10, 1),\n",
       " (20, 20, 10, 10, 1),\n",
       " (20, 20, 10, 10, 1),\n",
       " (20, 20, 10, 10, 1),\n",
       " (20, 20, 10, 10, 1),\n",
       " (20, 20, 10, 10, 10),\n",
       " (20, 20, 10, 10, 5),\n",
       " (20, 20, 10, 10, 5),\n",
       " (20, 20, 10, 10, 1),\n",
       " (20, 20, 10, 10, 1),\n",
       " (20, 20, 10, 10, 1),\n",
       " (20, 20, 10, 10, 1),\n",
       " (20, 20, 10, 10, 1),\n",
       " (20, 20, 10, 10, 5),\n",
       " (20, 20, 10, 10, 5),\n",
       " (20, 20, 10, 10, 1),\n",
       " (20, 20, 10, 10, 1),\n",
       " (20, 20, 10, 10, 1),\n",
       " (20, 20, 10, 10, 1),\n",
       " (20, 20, 10, 10, 1),\n",
       " (20, 20, 10, 5, 5),\n",
       " (20, 20, 10, 5, 1),\n",
       " (20, 20, 10, 5, 1),\n",
       " (20, 20, 10, 5, 1),\n",
       " (20, 20, 10, 5, 1),\n",
       " (20, 20, 10, 5, 1),\n",
       " (20, 20, 10, 5, 1),\n",
       " (20, 20, 10, 5, 1),\n",
       " (20, 20, 10, 5, 1),\n",
       " (20, 20, 10, 5, 1),\n",
       " (20, 20, 10, 5, 1),\n",
       " (20, 20, 10, 1, 1),\n",
       " (20, 20, 10, 1, 1),\n",
       " (20, 20, 10, 1, 1),\n",
       " (20, 20, 10, 1, 1),\n",
       " (20, 20, 10, 1, 1),\n",
       " (20, 20, 10, 1, 1),\n",
       " (20, 20, 10, 1, 1),\n",
       " (20, 20, 10, 1, 1),\n",
       " (20, 20, 10, 1, 1),\n",
       " (20, 20, 10, 1, 1),\n",
       " (20, 20, 10, 10, 10),\n",
       " (20, 20, 10, 10, 10),\n",
       " (20, 20, 10, 10, 5),\n",
       " (20, 20, 10, 10, 5),\n",
       " (20, 20, 10, 10, 1),\n",
       " (20, 20, 10, 10, 1),\n",
       " (20, 20, 10, 10, 1),\n",
       " (20, 20, 10, 10, 1),\n",
       " (20, 20, 10, 10, 1),\n",
       " (20, 20, 10, 10, 10),\n",
       " (20, 20, 10, 10, 5),\n",
       " (20, 20, 10, 10, 5),\n",
       " (20, 20, 10, 10, 1),\n",
       " (20, 20, 10, 10, 1),\n",
       " (20, 20, 10, 10, 1),\n",
       " (20, 20, 10, 10, 1),\n",
       " (20, 20, 10, 10, 1),\n",
       " (20, 20, 10, 10, 5),\n",
       " (20, 20, 10, 10, 5),\n",
       " (20, 20, 10, 10, 1),\n",
       " (20, 20, 10, 10, 1),\n",
       " (20, 20, 10, 10, 1),\n",
       " (20, 20, 10, 10, 1),\n",
       " (20, 20, 10, 10, 1),\n",
       " (20, 20, 10, 5, 5),\n",
       " (20, 20, 10, 5, 1),\n",
       " (20, 20, 10, 5, 1),\n",
       " (20, 20, 10, 5, 1),\n",
       " (20, 20, 10, 5, 1),\n",
       " (20, 20, 10, 5, 1),\n",
       " (20, 20, 10, 5, 1),\n",
       " (20, 20, 10, 5, 1),\n",
       " (20, 20, 10, 5, 1),\n",
       " (20, 20, 10, 5, 1),\n",
       " (20, 20, 10, 5, 1),\n",
       " (20, 20, 10, 1, 1),\n",
       " (20, 20, 10, 1, 1),\n",
       " (20, 20, 10, 1, 1),\n",
       " (20, 20, 10, 1, 1),\n",
       " (20, 20, 10, 1, 1),\n",
       " (20, 20, 10, 1, 1),\n",
       " (20, 20, 10, 1, 1),\n",
       " (20, 20, 10, 1, 1),\n",
       " (20, 20, 10, 1, 1),\n",
       " (20, 20, 10, 1, 1),\n",
       " (20, 20, 10, 10, 10),\n",
       " (20, 20, 10, 10, 5),\n",
       " (20, 20, 10, 10, 5),\n",
       " (20, 20, 10, 10, 1),\n",
       " (20, 20, 10, 10, 1),\n",
       " (20, 20, 10, 10, 1),\n",
       " (20, 20, 10, 10, 1),\n",
       " (20, 20, 10, 10, 1),\n",
       " (20, 20, 10, 10, 5),\n",
       " (20, 20, 10, 10, 5),\n",
       " (20, 20, 10, 10, 1),\n",
       " (20, 20, 10, 10, 1),\n",
       " (20, 20, 10, 10, 1),\n",
       " (20, 20, 10, 10, 1),\n",
       " (20, 20, 10, 10, 1),\n",
       " (20, 20, 10, 5, 5),\n",
       " (20, 20, 10, 5, 1),\n",
       " (20, 20, 10, 5, 1),\n",
       " (20, 20, 10, 5, 1),\n",
       " (20, 20, 10, 5, 1),\n",
       " (20, 20, 10, 5, 1),\n",
       " (20, 20, 10, 5, 1),\n",
       " (20, 20, 10, 5, 1),\n",
       " (20, 20, 10, 5, 1),\n",
       " (20, 20, 10, 5, 1),\n",
       " (20, 20, 10, 5, 1),\n",
       " (20, 20, 10, 1, 1),\n",
       " (20, 20, 10, 1, 1),\n",
       " (20, 20, 10, 1, 1),\n",
       " (20, 20, 10, 1, 1),\n",
       " (20, 20, 10, 1, 1),\n",
       " (20, 20, 10, 1, 1),\n",
       " (20, 20, 10, 1, 1),\n",
       " (20, 20, 10, 1, 1),\n",
       " (20, 20, 10, 1, 1),\n",
       " (20, 20, 10, 1, 1),\n",
       " (20, 20, 10, 10, 5),\n",
       " (20, 20, 10, 10, 5),\n",
       " (20, 20, 10, 10, 1),\n",
       " (20, 20, 10, 10, 1),\n",
       " (20, 20, 10, 10, 1),\n",
       " (20, 20, 10, 10, 1),\n",
       " (20, 20, 10, 10, 1),\n",
       " (20, 20, 10, 5, 5),\n",
       " (20, 20, 10, 5, 1),\n",
       " (20, 20, 10, 5, 1),\n",
       " (20, 20, 10, 5, 1),\n",
       " (20, 20, 10, 5, 1),\n",
       " (20, 20, 10, 5, 1),\n",
       " (20, 20, 10, 5, 1),\n",
       " (20, 20, 10, 5, 1),\n",
       " (20, 20, 10, 5, 1),\n",
       " (20, 20, 10, 5, 1),\n",
       " (20, 20, 10, 5, 1),\n",
       " (20, 20, 10, 1, 1),\n",
       " (20, 20, 10, 1, 1),\n",
       " (20, 20, 10, 1, 1),\n",
       " (20, 20, 10, 1, 1),\n",
       " (20, 20, 10, 1, 1),\n",
       " (20, 20, 10, 1, 1),\n",
       " (20, 20, 10, 1, 1),\n",
       " (20, 20, 10, 1, 1),\n",
       " (20, 20, 10, 1, 1),\n",
       " (20, 20, 10, 1, 1),\n",
       " (20, 20, 10, 5, 5),\n",
       " (20, 20, 10, 5, 1),\n",
       " (20, 20, 10, 5, 1),\n",
       " (20, 20, 10, 5, 1),\n",
       " (20, 20, 10, 5, 1),\n",
       " (20, 20, 10, 5, 1),\n",
       " (20, 20, 10, 5, 1),\n",
       " (20, 20, 10, 5, 1),\n",
       " (20, 20, 10, 5, 1),\n",
       " (20, 20, 10, 5, 1),\n",
       " (20, 20, 10, 5, 1),\n",
       " (20, 20, 10, 1, 1),\n",
       " (20, 20, 10, 1, 1),\n",
       " (20, 20, 10, 1, 1),\n",
       " (20, 20, 10, 1, 1),\n",
       " (20, 20, 10, 1, 1),\n",
       " (20, 20, 10, 1, 1),\n",
       " (20, 20, 10, 1, 1),\n",
       " (20, 20, 10, 1, 1),\n",
       " (20, 20, 10, 1, 1),\n",
       " (20, 20, 10, 1, 1),\n",
       " (20, 20, 5, 5, 1),\n",
       " (20, 20, 5, 5, 1),\n",
       " (20, 20, 5, 5, 1),\n",
       " (20, 20, 5, 5, 1),\n",
       " (20, 20, 5, 5, 1),\n",
       " (20, 20, 5, 1, 1),\n",
       " (20, 20, 5, 1, 1),\n",
       " (20, 20, 5, 1, 1),\n",
       " (20, 20, 5, 1, 1),\n",
       " (20, 20, 5, 1, 1),\n",
       " (20, 20, 5, 1, 1),\n",
       " (20, 20, 5, 1, 1),\n",
       " (20, 20, 5, 1, 1),\n",
       " (20, 20, 5, 1, 1),\n",
       " (20, 20, 5, 1, 1),\n",
       " (20, 20, 5, 1, 1),\n",
       " (20, 20, 5, 1, 1),\n",
       " (20, 20, 5, 1, 1),\n",
       " (20, 20, 5, 1, 1),\n",
       " (20, 20, 5, 1, 1),\n",
       " (20, 20, 5, 1, 1),\n",
       " (20, 20, 5, 1, 1),\n",
       " (20, 20, 5, 1, 1),\n",
       " (20, 20, 5, 1, 1),\n",
       " (20, 20, 5, 1, 1),\n",
       " (20, 20, 1, 1, 1),\n",
       " (20, 20, 1, 1, 1),\n",
       " (20, 20, 1, 1, 1),\n",
       " (20, 20, 1, 1, 1),\n",
       " (20, 20, 1, 1, 1),\n",
       " (20, 20, 1, 1, 1),\n",
       " (20, 20, 1, 1, 1),\n",
       " (20, 20, 1, 1, 1),\n",
       " (20, 20, 1, 1, 1),\n",
       " (20, 20, 1, 1, 1),\n",
       " (20, 10, 10, 10, 10),\n",
       " (20, 10, 10, 10, 10),\n",
       " (20, 10, 10, 10, 5),\n",
       " (20, 10, 10, 10, 5),\n",
       " (20, 10, 10, 10, 1),\n",
       " (20, 10, 10, 10, 1),\n",
       " (20, 10, 10, 10, 1),\n",
       " (20, 10, 10, 10, 1),\n",
       " (20, 10, 10, 10, 1),\n",
       " (20, 10, 10, 10, 10),\n",
       " (20, 10, 10, 10, 5),\n",
       " (20, 10, 10, 10, 5),\n",
       " (20, 10, 10, 10, 1),\n",
       " (20, 10, 10, 10, 1),\n",
       " (20, 10, 10, 10, 1),\n",
       " (20, 10, 10, 10, 1),\n",
       " (20, 10, 10, 10, 1),\n",
       " (20, 10, 10, 10, 5),\n",
       " (20, 10, 10, 10, 5),\n",
       " (20, 10, 10, 10, 1),\n",
       " (20, 10, 10, 10, 1),\n",
       " (20, 10, 10, 10, 1),\n",
       " (20, 10, 10, 10, 1),\n",
       " (20, 10, 10, 10, 1),\n",
       " (20, 10, 10, 5, 5),\n",
       " (20, 10, 10, 5, 1),\n",
       " (20, 10, 10, 5, 1),\n",
       " (20, 10, 10, 5, 1),\n",
       " (20, 10, 10, 5, 1),\n",
       " (20, 10, 10, 5, 1),\n",
       " (20, 10, 10, 5, 1),\n",
       " (20, 10, 10, 5, 1),\n",
       " (20, 10, 10, 5, 1),\n",
       " (20, 10, 10, 5, 1),\n",
       " (20, 10, 10, 5, 1),\n",
       " (20, 10, 10, 1, 1),\n",
       " (20, 10, 10, 1, 1),\n",
       " (20, 10, 10, 1, 1),\n",
       " (20, 10, 10, 1, 1),\n",
       " (20, 10, 10, 1, 1),\n",
       " (20, 10, 10, 1, 1),\n",
       " (20, 10, 10, 1, 1),\n",
       " (20, 10, 10, 1, 1),\n",
       " (20, 10, 10, 1, 1),\n",
       " (20, 10, 10, 1, 1),\n",
       " (20, 10, 10, 10, 10),\n",
       " (20, 10, 10, 10, 5),\n",
       " (20, 10, 10, 10, 5),\n",
       " (20, 10, 10, 10, 1),\n",
       " (20, 10, 10, 10, 1),\n",
       " (20, 10, 10, 10, 1),\n",
       " (20, 10, 10, 10, 1),\n",
       " (20, 10, 10, 10, 1),\n",
       " (20, 10, 10, 10, 5),\n",
       " (20, 10, 10, 10, 5),\n",
       " (20, 10, 10, 10, 1),\n",
       " (20, 10, 10, 10, 1),\n",
       " (20, 10, 10, 10, 1),\n",
       " (20, 10, 10, 10, 1),\n",
       " (20, 10, 10, 10, 1),\n",
       " (20, 10, 10, 5, 5),\n",
       " (20, 10, 10, 5, 1),\n",
       " (20, 10, 10, 5, 1),\n",
       " (20, 10, 10, 5, 1),\n",
       " (20, 10, 10, 5, 1),\n",
       " (20, 10, 10, 5, 1),\n",
       " (20, 10, 10, 5, 1),\n",
       " (20, 10, 10, 5, 1),\n",
       " (20, 10, 10, 5, 1),\n",
       " (20, 10, 10, 5, 1),\n",
       " (20, 10, 10, 5, 1),\n",
       " (20, 10, 10, 1, 1),\n",
       " (20, 10, 10, 1, 1),\n",
       " (20, 10, 10, 1, 1),\n",
       " (20, 10, 10, 1, 1),\n",
       " (20, 10, 10, 1, 1),\n",
       " (20, 10, 10, 1, 1),\n",
       " (20, 10, 10, 1, 1),\n",
       " (20, 10, 10, 1, 1),\n",
       " (20, 10, 10, 1, 1),\n",
       " (20, 10, 10, 1, 1),\n",
       " (20, 10, 10, 10, 5),\n",
       " (20, 10, 10, 10, 5),\n",
       " (20, 10, 10, 10, 1),\n",
       " (20, 10, 10, 10, 1),\n",
       " (20, 10, 10, 10, 1),\n",
       " (20, 10, 10, 10, 1),\n",
       " (20, 10, 10, 10, 1),\n",
       " (20, 10, 10, 5, 5),\n",
       " (20, 10, 10, 5, 1),\n",
       " (20, 10, 10, 5, 1),\n",
       " (20, 10, 10, 5, 1),\n",
       " (20, 10, 10, 5, 1),\n",
       " (20, 10, 10, 5, 1),\n",
       " (20, 10, 10, 5, 1),\n",
       " (20, 10, 10, 5, 1),\n",
       " (20, 10, 10, 5, 1),\n",
       " (20, 10, 10, 5, 1),\n",
       " (20, 10, 10, 5, 1),\n",
       " (20, 10, 10, 1, 1),\n",
       " (20, 10, 10, 1, 1),\n",
       " (20, 10, 10, 1, 1),\n",
       " (20, 10, 10, 1, 1),\n",
       " (20, 10, 10, 1, 1),\n",
       " (20, 10, 10, 1, 1),\n",
       " (20, 10, 10, 1, 1),\n",
       " (20, 10, 10, 1, 1),\n",
       " (20, 10, 10, 1, 1),\n",
       " (20, 10, 10, 1, 1),\n",
       " (20, 10, 10, 5, 5),\n",
       " (20, 10, 10, 5, 1),\n",
       " (20, 10, 10, 5, 1),\n",
       " (20, 10, 10, 5, 1),\n",
       " (20, 10, 10, 5, 1),\n",
       " (20, 10, 10, 5, 1),\n",
       " (20, 10, 10, 5, 1),\n",
       " (20, 10, 10, 5, 1),\n",
       " (20, 10, 10, 5, 1),\n",
       " (20, 10, 10, 5, 1),\n",
       " (20, 10, 10, 5, 1),\n",
       " (20, 10, 10, 1, 1),\n",
       " (20, 10, 10, 1, 1),\n",
       " (20, 10, 10, 1, 1),\n",
       " (20, 10, 10, 1, 1),\n",
       " (20, 10, 10, 1, 1),\n",
       " (20, 10, 10, 1, 1),\n",
       " (20, 10, 10, 1, 1),\n",
       " (20, 10, 10, 1, 1),\n",
       " (20, 10, 10, 1, 1),\n",
       " (20, 10, 10, 1, 1),\n",
       " (20, 10, 5, 5, 1),\n",
       " (20, 10, 5, 5, 1),\n",
       " (20, 10, 5, 5, 1),\n",
       " (20, 10, 5, 5, 1),\n",
       " (20, 10, 5, 5, 1),\n",
       " (20, 10, 5, 1, 1),\n",
       " (20, 10, 5, 1, 1),\n",
       " (20, 10, 5, 1, 1),\n",
       " (20, 10, 5, 1, 1),\n",
       " (20, 10, 5, 1, 1),\n",
       " (20, 10, 5, 1, 1),\n",
       " (20, 10, 5, 1, 1),\n",
       " (20, 10, 5, 1, 1),\n",
       " (20, 10, 5, 1, 1),\n",
       " (20, 10, 5, 1, 1),\n",
       " (20, 10, 5, 1, 1),\n",
       " (20, 10, 5, 1, 1),\n",
       " (20, 10, 5, 1, 1),\n",
       " (20, 10, 5, 1, 1),\n",
       " (20, 10, 5, 1, 1),\n",
       " (20, 10, 5, 1, 1),\n",
       " (20, 10, 5, 1, 1),\n",
       " (20, 10, 5, 1, 1),\n",
       " (20, 10, 5, 1, 1),\n",
       " (20, 10, 5, 1, 1),\n",
       " (20, 10, 1, 1, 1),\n",
       " (20, 10, 1, 1, 1),\n",
       " (20, 10, 1, 1, 1),\n",
       " (20, 10, 1, 1, 1),\n",
       " (20, 10, 1, 1, 1),\n",
       " (20, 10, 1, 1, 1),\n",
       " (20, 10, 1, 1, 1),\n",
       " (20, 10, 1, 1, 1),\n",
       " (20, 10, 1, 1, 1),\n",
       " (20, 10, 1, 1, 1),\n",
       " (20, 10, 10, 10, 10),\n",
       " (20, 10, 10, 10, 5),\n",
       " (20, 10, 10, 10, 5),\n",
       " (20, 10, 10, 10, 1),\n",
       " (20, 10, 10, 10, 1),\n",
       " (20, 10, 10, 10, 1),\n",
       " (20, 10, 10, 10, 1),\n",
       " (20, 10, 10, 10, 1),\n",
       " (20, 10, 10, 10, 5),\n",
       " (20, 10, 10, 10, 5),\n",
       " (20, 10, 10, 10, 1),\n",
       " (20, 10, 10, 10, 1),\n",
       " (20, 10, 10, 10, 1),\n",
       " (20, 10, 10, 10, 1),\n",
       " (20, 10, 10, 10, 1),\n",
       " (20, 10, 10, 5, 5),\n",
       " (20, 10, 10, 5, 1),\n",
       " (20, 10, 10, 5, 1),\n",
       " (20, 10, 10, 5, 1),\n",
       " (20, 10, 10, 5, 1),\n",
       " (20, 10, 10, 5, 1),\n",
       " (20, 10, 10, 5, 1),\n",
       " (20, 10, 10, 5, 1),\n",
       " (20, 10, 10, 5, 1),\n",
       " (20, 10, 10, 5, 1),\n",
       " (20, 10, 10, 5, 1),\n",
       " (20, 10, 10, 1, 1),\n",
       " (20, 10, 10, 1, 1),\n",
       " (20, 10, 10, 1, 1),\n",
       " (20, 10, 10, 1, 1),\n",
       " (20, 10, 10, 1, 1),\n",
       " (20, 10, 10, 1, 1),\n",
       " (20, 10, 10, 1, 1),\n",
       " (20, 10, 10, 1, 1),\n",
       " (20, 10, 10, 1, 1),\n",
       " (20, 10, 10, 1, 1),\n",
       " (20, 10, 10, 10, 5),\n",
       " (20, 10, 10, 10, 5),\n",
       " (20, 10, 10, 10, 1),\n",
       " (20, 10, 10, 10, 1),\n",
       " (20, 10, 10, 10, 1),\n",
       " (20, 10, 10, 10, 1),\n",
       " (20, 10, 10, 10, 1),\n",
       " (20, 10, 10, 5, 5),\n",
       " (20, 10, 10, 5, 1),\n",
       " (20, 10, 10, 5, 1),\n",
       " (20, 10, 10, 5, 1),\n",
       " (20, 10, 10, 5, 1),\n",
       " (20, 10, 10, 5, 1),\n",
       " (20, 10, 10, 5, 1),\n",
       " (20, 10, 10, 5, 1),\n",
       " (20, 10, 10, 5, 1),\n",
       " (20, 10, 10, 5, 1),\n",
       " (20, 10, 10, 5, 1),\n",
       " (20, 10, 10, 1, 1),\n",
       " (20, 10, 10, 1, 1),\n",
       " (20, 10, 10, 1, 1),\n",
       " (20, 10, 10, 1, 1),\n",
       " (20, 10, 10, 1, 1),\n",
       " (20, 10, 10, 1, 1),\n",
       " (20, 10, 10, 1, 1),\n",
       " (20, 10, 10, 1, 1),\n",
       " (20, 10, 10, 1, 1),\n",
       " (20, 10, 10, 1, 1),\n",
       " (20, 10, 10, 5, 5),\n",
       " (20, 10, 10, 5, 1),\n",
       " (20, 10, 10, 5, 1),\n",
       " (20, 10, 10, 5, 1),\n",
       " (20, 10, 10, 5, 1),\n",
       " (20, 10, 10, 5, 1),\n",
       " (20, 10, 10, 5, 1),\n",
       " (20, 10, 10, 5, 1),\n",
       " (20, 10, 10, 5, 1),\n",
       " (20, 10, 10, 5, 1),\n",
       " (20, 10, 10, 5, 1),\n",
       " (20, 10, 10, 1, 1),\n",
       " (20, 10, 10, 1, 1),\n",
       " (20, 10, 10, 1, 1),\n",
       " (20, 10, 10, 1, 1),\n",
       " (20, 10, 10, 1, 1),\n",
       " (20, 10, 10, 1, 1),\n",
       " (20, 10, 10, 1, 1),\n",
       " (20, 10, 10, 1, 1),\n",
       " (20, 10, 10, 1, 1),\n",
       " (20, 10, 10, 1, 1),\n",
       " (20, 10, 5, 5, 1),\n",
       " (20, 10, 5, 5, 1),\n",
       " (20, 10, 5, 5, 1),\n",
       " (20, 10, 5, 5, 1),\n",
       " (20, 10, 5, 5, 1),\n",
       " (20, 10, 5, 1, 1),\n",
       " (20, 10, 5, 1, 1),\n",
       " (20, 10, 5, 1, 1),\n",
       " (20, 10, 5, 1, 1),\n",
       " (20, 10, 5, 1, 1),\n",
       " (20, 10, 5, 1, 1),\n",
       " (20, 10, 5, 1, 1),\n",
       " (20, 10, 5, 1, 1),\n",
       " (20, 10, 5, 1, 1),\n",
       " (20, 10, 5, 1, 1),\n",
       " (20, 10, 5, 1, 1),\n",
       " (20, 10, 5, 1, 1),\n",
       " (20, 10, 5, 1, 1),\n",
       " (20, 10, 5, 1, 1),\n",
       " (20, 10, 5, 1, 1),\n",
       " (20, 10, 5, 1, 1),\n",
       " (20, 10, 5, 1, 1),\n",
       " (20, 10, 5, 1, 1),\n",
       " (20, 10, 5, 1, 1),\n",
       " (20, 10, 5, 1, 1),\n",
       " (20, 10, 1, 1, 1),\n",
       " (20, 10, 1, 1, 1),\n",
       " (20, 10, 1, 1, 1),\n",
       " (20, 10, 1, 1, 1),\n",
       " (20, 10, 1, 1, 1),\n",
       " (20, 10, 1, 1, 1),\n",
       " (20, 10, 1, 1, 1),\n",
       " (20, 10, 1, 1, 1),\n",
       " (20, 10, 1, 1, 1),\n",
       " (20, 10, 1, 1, 1),\n",
       " (20, 10, 10, 10, 5),\n",
       " (20, 10, 10, 10, 5),\n",
       " (20, 10, 10, 10, 1),\n",
       " (20, 10, 10, 10, 1),\n",
       " (20, 10, 10, 10, 1),\n",
       " (20, 10, 10, 10, 1),\n",
       " (20, 10, 10, 10, 1),\n",
       " (20, 10, 10, 5, 5),\n",
       " (20, 10, 10, 5, 1),\n",
       " (20, 10, 10, 5, 1),\n",
       " (20, 10, 10, 5, 1),\n",
       " (20, 10, 10, 5, 1),\n",
       " (20, 10, 10, 5, 1),\n",
       " (20, 10, 10, 5, 1),\n",
       " (20, 10, 10, 5, 1),\n",
       " (20, 10, 10, 5, 1),\n",
       " (20, 10, 10, 5, 1),\n",
       " (20, 10, 10, 5, 1),\n",
       " (20, 10, 10, 1, 1),\n",
       " (20, 10, 10, 1, 1),\n",
       " (20, 10, 10, 1, 1),\n",
       " (20, 10, 10, 1, 1),\n",
       " (20, 10, 10, 1, 1),\n",
       " (20, 10, 10, 1, 1),\n",
       " (20, 10, 10, 1, 1),\n",
       " (20, 10, 10, 1, 1),\n",
       " (20, 10, 10, 1, 1),\n",
       " (20, 10, 10, 1, 1),\n",
       " (20, 10, 10, 5, 5),\n",
       " (20, 10, 10, 5, 1),\n",
       " (20, 10, 10, 5, 1),\n",
       " (20, 10, 10, 5, 1),\n",
       " (20, 10, 10, 5, 1),\n",
       " (20, 10, 10, 5, 1),\n",
       " (20, 10, 10, 5, 1),\n",
       " (20, 10, 10, 5, 1),\n",
       " (20, 10, 10, 5, 1),\n",
       " (20, 10, 10, 5, 1),\n",
       " (20, 10, 10, 5, 1),\n",
       " (20, 10, 10, 1, 1),\n",
       " (20, 10, 10, 1, 1),\n",
       " (20, 10, 10, 1, 1),\n",
       " (20, 10, 10, 1, 1),\n",
       " (20, 10, 10, 1, 1),\n",
       " (20, 10, 10, 1, 1),\n",
       " (20, 10, 10, 1, 1),\n",
       " (20, 10, 10, 1, 1),\n",
       " (20, 10, 10, 1, 1),\n",
       " (20, 10, 10, 1, 1),\n",
       " (20, 10, 5, 5, 1),\n",
       " (20, 10, 5, 5, 1),\n",
       " (20, 10, 5, 5, 1),\n",
       " (20, 10, 5, 5, 1),\n",
       " (20, 10, 5, 5, 1),\n",
       " (20, 10, 5, 1, 1),\n",
       " (20, 10, 5, 1, 1),\n",
       " (20, 10, 5, 1, 1),\n",
       " (20, 10, 5, 1, 1),\n",
       " (20, 10, 5, 1, 1),\n",
       " (20, 10, 5, 1, 1),\n",
       " (20, 10, 5, 1, 1),\n",
       " (20, 10, 5, 1, 1),\n",
       " (20, 10, 5, 1, 1),\n",
       " (20, 10, 5, 1, 1),\n",
       " (20, 10, 5, 1, 1),\n",
       " (20, 10, 5, 1, 1),\n",
       " (20, 10, 5, 1, 1),\n",
       " (20, 10, 5, 1, 1),\n",
       " (20, 10, 5, 1, 1),\n",
       " (20, 10, 5, 1, 1),\n",
       " (20, 10, 5, 1, 1),\n",
       " (20, 10, 5, 1, 1),\n",
       " (20, 10, 5, 1, 1),\n",
       " (20, 10, 5, 1, 1),\n",
       " (20, 10, 1, 1, 1),\n",
       " (20, 10, 1, 1, 1),\n",
       " (20, 10, 1, 1, 1),\n",
       " (20, 10, 1, 1, 1),\n",
       " (20, 10, 1, 1, 1),\n",
       " (20, 10, 1, 1, 1),\n",
       " (20, 10, 1, 1, 1),\n",
       " (20, 10, 1, 1, 1),\n",
       " (20, 10, 1, 1, 1),\n",
       " (20, 10, 1, 1, 1),\n",
       " (20, 10, 10, 5, 5),\n",
       " (20, 10, 10, 5, 1),\n",
       " (20, 10, 10, 5, 1),\n",
       " (20, 10, 10, 5, 1),\n",
       " (20, 10, 10, 5, 1),\n",
       " (20, 10, 10, 5, 1),\n",
       " (20, 10, 10, 5, 1),\n",
       " (20, 10, 10, 5, 1),\n",
       " (20, 10, 10, 5, 1),\n",
       " (20, 10, 10, 5, 1),\n",
       " (20, 10, 10, 5, 1),\n",
       " (20, 10, 10, 1, 1),\n",
       " (20, 10, 10, 1, 1),\n",
       " (20, 10, 10, 1, 1),\n",
       " (20, 10, 10, 1, 1),\n",
       " (20, 10, 10, 1, 1),\n",
       " (20, 10, 10, 1, 1),\n",
       " (20, 10, 10, 1, 1),\n",
       " (20, 10, 10, 1, 1),\n",
       " (20, 10, 10, 1, 1),\n",
       " (20, 10, 10, 1, 1),\n",
       " (20, 10, 5, 5, 1),\n",
       " (20, 10, 5, 5, 1),\n",
       " (20, 10, 5, 5, 1),\n",
       " (20, 10, 5, 5, 1),\n",
       " (20, 10, 5, 5, 1),\n",
       " (20, 10, 5, 1, 1),\n",
       " (20, 10, 5, 1, 1),\n",
       " (20, 10, 5, 1, 1),\n",
       " (20, 10, 5, 1, 1),\n",
       " (20, 10, 5, 1, 1),\n",
       " (20, 10, 5, 1, 1),\n",
       " (20, 10, 5, 1, 1),\n",
       " (20, 10, 5, 1, 1),\n",
       " (20, 10, 5, 1, 1),\n",
       " (20, 10, 5, 1, 1),\n",
       " (20, 10, 5, 1, 1),\n",
       " (20, 10, 5, 1, 1),\n",
       " (20, 10, 5, 1, 1),\n",
       " (20, 10, 5, 1, 1),\n",
       " (20, 10, 5, 1, 1),\n",
       " (20, 10, 5, 1, 1),\n",
       " (20, 10, 5, 1, 1),\n",
       " (20, 10, 5, 1, 1),\n",
       " (20, 10, 5, 1, 1),\n",
       " (20, 10, 5, 1, 1),\n",
       " (20, 10, 1, 1, 1),\n",
       " (20, 10, 1, 1, 1),\n",
       " (20, 10, 1, 1, 1),\n",
       " (20, 10, 1, 1, 1),\n",
       " (20, 10, 1, 1, 1),\n",
       " (20, 10, 1, 1, 1),\n",
       " (20, 10, 1, 1, 1),\n",
       " (20, 10, 1, 1, 1),\n",
       " (20, 10, 1, 1, 1),\n",
       " (20, 10, 1, 1, 1),\n",
       " (20, 10, 5, 5, 1),\n",
       " (20, 10, 5, 5, 1),\n",
       " (20, 10, 5, 5, 1),\n",
       " (20, 10, 5, 5, 1),\n",
       " (20, 10, 5, 5, 1),\n",
       " (20, 10, 5, 1, 1),\n",
       " (20, 10, 5, 1, 1),\n",
       " (20, 10, 5, 1, 1),\n",
       " (20, 10, 5, 1, 1),\n",
       " (20, 10, 5, 1, 1),\n",
       " (20, 10, 5, 1, 1),\n",
       " (20, 10, 5, 1, 1),\n",
       " (20, 10, 5, 1, 1),\n",
       " (20, 10, 5, 1, 1),\n",
       " (20, 10, 5, 1, 1),\n",
       " (20, 10, 5, 1, 1),\n",
       " (20, 10, 5, 1, 1),\n",
       " (20, 10, 5, 1, 1),\n",
       " (20, 10, 5, 1, 1),\n",
       " (20, 10, 5, 1, 1),\n",
       " (20, 10, 5, 1, 1),\n",
       " (20, 10, 5, 1, 1),\n",
       " (20, 10, 5, 1, 1),\n",
       " (20, 10, 5, 1, 1),\n",
       " (20, 10, 5, 1, 1),\n",
       " (20, 10, 1, 1, 1),\n",
       " (20, 10, 1, 1, 1),\n",
       " (20, 10, 1, 1, 1),\n",
       " (20, 10, 1, 1, 1),\n",
       " (20, 10, 1, 1, 1),\n",
       " (20, 10, 1, 1, 1),\n",
       " (20, 10, 1, 1, 1),\n",
       " (20, 10, 1, 1, 1),\n",
       " (20, 10, 1, 1, 1),\n",
       " (20, 10, 1, 1, 1),\n",
       " (20, 5, 5, 1, 1),\n",
       " (20, 5, 5, 1, 1),\n",
       " (20, 5, 5, 1, 1),\n",
       " (20, 5, 5, 1, 1),\n",
       " (20, 5, 5, 1, 1),\n",
       " (20, 5, 5, 1, 1),\n",
       " (20, 5, 5, 1, 1),\n",
       " (20, 5, 5, 1, 1),\n",
       " (20, 5, 5, 1, 1),\n",
       " (20, 5, 5, 1, 1),\n",
       " (20, 5, 1, 1, 1),\n",
       " (20, 5, 1, 1, 1),\n",
       " (20, 5, 1, 1, 1),\n",
       " (20, 5, 1, 1, 1),\n",
       " (20, 5, 1, 1, 1),\n",
       " (20, 5, 1, 1, 1),\n",
       " (20, 5, 1, 1, 1),\n",
       " (20, 5, 1, 1, 1),\n",
       " (20, 5, 1, 1, 1),\n",
       " (20, 5, 1, 1, 1),\n",
       " (20, 5, 1, 1, 1),\n",
       " (20, 5, 1, 1, 1),\n",
       " (20, 5, 1, 1, 1),\n",
       " (20, 5, 1, 1, 1),\n",
       " (20, 5, 1, 1, 1),\n",
       " (20, 5, 1, 1, 1),\n",
       " (20, 5, 1, 1, 1),\n",
       " (20, 5, 1, 1, 1),\n",
       " (20, 5, 1, 1, 1),\n",
       " (20, 5, 1, 1, 1),\n",
       " (20, 1, 1, 1, 1),\n",
       " (20, 1, 1, 1, 1),\n",
       " (20, 1, 1, 1, 1),\n",
       " (20, 1, 1, 1, 1),\n",
       " ...]"
      ]
     },
     "execution_count": 33,
     "metadata": {},
     "output_type": "execute_result"
    }
   ],
   "source": [
    "list(it.combinations(bills, 5))"
   ]
  },
  {
   "cell_type": "markdown",
   "metadata": {},
   "source": [
    "A choice of `k` things from a set of `n` things is called a **combination**, and `itertools` has your back here. The `itertools.combinations()` function takes two arguments—an iterable inputs and a positive integer `n`—and produces an iterator over tuples of all combinations of `n` elements in inputs."
   ]
  },
  {
   "cell_type": "markdown",
   "metadata": {},
   "source": [
    "For example, to list the combinations of three bills in your wallet, just do:"
   ]
  },
  {
   "cell_type": "code",
   "execution_count": 2,
   "metadata": {},
   "outputs": [
    {
     "ename": "NameError",
     "evalue": "name 'it' is not defined",
     "output_type": "error",
     "traceback": [
      "\u001b[0;31m---------------------------------------------------------------------------\u001b[0m",
      "\u001b[0;31mNameError\u001b[0m                                 Traceback (most recent call last)",
      "\u001b[0;32m/var/folders/b4/tsp68dlx1gz9xlnpgbx21ytc0000gn/T/ipykernel_53141/4009393498.py\u001b[0m in \u001b[0;36m<module>\u001b[0;34m\u001b[0m\n\u001b[0;32m----> 1\u001b[0;31m \u001b[0mlist\u001b[0m\u001b[0;34m(\u001b[0m\u001b[0mit\u001b[0m\u001b[0;34m.\u001b[0m\u001b[0mcombinations\u001b[0m\u001b[0;34m(\u001b[0m\u001b[0mbills\u001b[0m\u001b[0;34m,\u001b[0m \u001b[0;36m3\u001b[0m\u001b[0;34m)\u001b[0m\u001b[0;34m)\u001b[0m\u001b[0;34m\u001b[0m\u001b[0;34m\u001b[0m\u001b[0m\n\u001b[0m",
      "\u001b[0;31mNameError\u001b[0m: name 'it' is not defined"
     ]
    }
   ],
   "source": [
    "list(it.combinations(bills, 3))"
   ]
  },
  {
   "cell_type": "markdown",
   "metadata": {},
   "source": [
    "To solve the problem, you can loop over the positive integers from `1` to `len(bills)`, then check which combinations of each size add up to $100:"
   ]
  },
  {
   "cell_type": "code",
   "execution_count": 34,
   "metadata": {},
   "outputs": [],
   "source": [
    "makes_100 = []\n",
    "for n in range(1, len(bills) + 1):\n",
    "    for combination in it.combinations(bills, n):\n",
    "        if sum(combination) == 100:\n",
    "            makes_100.append(combination)"
   ]
  },
  {
   "cell_type": "markdown",
   "metadata": {},
   "source": [
    "If you print out `makes_100`, you will notice there are a lot of repeated combinations. This makes sense because you can make change for `$100` with three `$20` dollar bills and four `$10` bills, but `combinations()` does this with the first four `$10` dollars bills in your wallet; the first, third, fourth and fifth `$10` dollar bills; the first, second, fourth and fifth `$10` bills; and so on."
   ]
  },
  {
   "cell_type": "code",
   "execution_count": 35,
   "metadata": {},
   "outputs": [
    {
     "data": {
      "text/plain": [
       "{(20, 20, 10, 10, 10, 10, 10, 5, 1, 1, 1, 1, 1),\n",
       " (20, 20, 10, 10, 10, 10, 10, 5, 5),\n",
       " (20, 20, 20, 10, 10, 10, 5, 1, 1, 1, 1, 1),\n",
       " (20, 20, 20, 10, 10, 10, 5, 5),\n",
       " (20, 20, 20, 10, 10, 10, 10)}"
      ]
     },
     "execution_count": 35,
     "metadata": {},
     "output_type": "execute_result"
    }
   ],
   "source": [
    "set(makes_100)"
   ]
  },
  {
   "cell_type": "markdown",
   "metadata": {},
   "source": [
    "So, there are five ways to make change for a $100 bill with the bills you have in your wallet."
   ]
  },
  {
   "cell_type": "markdown",
   "metadata": {},
   "source": [
    "Here’s a variation on the same problem:\n",
    "    \n",
    "> How many ways are there to make change for a ‍`$100` bill using any number of `$50`, `$20`, `$10`, `$5`, and `$1` dollar bills?"
   ]
  },
  {
   "cell_type": "markdown",
   "metadata": {},
   "source": [
    "In this case, you don’t have a pre-set collection of bills, so you need a way to generate all possible combinations using any number of bills. For this, you’ll need the `itertools.combinations_with_replacement()` function."
   ]
  },
  {
   "cell_type": "markdown",
   "metadata": {},
   "source": [
    "It works just like `combinations()`, accepting an iterable inputs and a positive integer `n`, and returns an iterator over n-tuples of elements from inputs. The difference is that `combinations_with_replacement()` allows elements to be repeated in the tuples it returns."
   ]
  },
  {
   "cell_type": "markdown",
   "metadata": {},
   "source": [
    "For example:"
   ]
  },
  {
   "cell_type": "code",
   "execution_count": 38,
   "metadata": {},
   "outputs": [
    {
     "data": {
      "text/plain": [
       "[(1, 1), (1, 2), (2, 2)]"
      ]
     },
     "execution_count": 38,
     "metadata": {},
     "output_type": "execute_result"
    }
   ],
   "source": [
    "list(it.combinations_with_replacement([1, 2], 2))"
   ]
  },
  {
   "cell_type": "markdown",
   "metadata": {},
   "source": [
    "Compare that to `combinations()`:"
   ]
  },
  {
   "cell_type": "code",
   "execution_count": 40,
   "metadata": {},
   "outputs": [
    {
     "data": {
      "text/plain": [
       "[(1, 2)]"
      ]
     },
     "execution_count": 40,
     "metadata": {},
     "output_type": "execute_result"
    }
   ],
   "source": [
    "list(it.combinations([1, 2], 2))"
   ]
  },
  {
   "cell_type": "markdown",
   "metadata": {},
   "source": [
    "Here’s what the solution to the revised problem looks like:"
   ]
  },
  {
   "cell_type": "code",
   "execution_count": 44,
   "metadata": {},
   "outputs": [
    {
     "name": "stderr",
     "output_type": "stream",
     "text": [
      "100%|██████████| 100/100 [01:04<00:00,  1.55it/s]\n"
     ]
    }
   ],
   "source": [
    "from tqdm import tqdm\n",
    "\n",
    "bills = [50, 20, 10, 5, 1]\n",
    "make_100 = []\n",
    "for n in tqdm(range(1, 101)):\n",
    "    for combination in it.combinations_with_replacement(bills, n):\n",
    "        if sum(combination) == 100:\n",
    "            makes_100.append(combination)"
   ]
  },
  {
   "cell_type": "markdown",
   "metadata": {},
   "source": [
    "In this case, you do not need to remove any duplicates since `combinations_with_replacement()` won’t produce any:"
   ]
  },
  {
   "cell_type": "code",
   "execution_count": 46,
   "metadata": {},
   "outputs": [
    {
     "data": {
      "text/plain": [
       "343"
      ]
     },
     "execution_count": 46,
     "metadata": {},
     "output_type": "execute_result"
    }
   ],
   "source": [
    "len(set(makes_100))"
   ]
  },
  {
   "cell_type": "markdown",
   "metadata": {},
   "source": [
    "If you run the above solution, you may notice that it takes a while for the output to display. That is because it has to process 96,560,645 combinations!"
   ]
  },
  {
   "cell_type": "markdown",
   "metadata": {},
   "source": [
    "Another “brute force” `itertools` function is `permutations()`, which accepts a single iterable and produces all possible permutations (rearrangements) of its elements:"
   ]
  },
  {
   "cell_type": "code",
   "execution_count": 40,
   "metadata": {},
   "outputs": [
    {
     "data": {
      "text/plain": [
       "[('a', 'b', 'c'),\n",
       " ('a', 'c', 'b'),\n",
       " ('b', 'a', 'c'),\n",
       " ('b', 'c', 'a'),\n",
       " ('c', 'a', 'b'),\n",
       " ('c', 'b', 'a')]"
      ]
     },
     "execution_count": 40,
     "metadata": {},
     "output_type": "execute_result"
    }
   ],
   "source": [
    "list(it.permutations(['a', 'b', 'c']))"
   ]
  },
  {
   "cell_type": "markdown",
   "metadata": {},
   "source": [
    "Any iterable of three elements will have six permutations, and the number of permutations of longer iterables grows extremely fast. In fact, an iterable of length `n` has `n!` permutations."
   ]
  },
  {
   "cell_type": "markdown",
   "metadata": {},
   "source": [
    "The phenomenon of just a few inputs producing a large number of outcomes is called a [combinatorial explosion](https://en.wikipedia.org/wiki/Combinatorial_explosion) and is something to keep in mind when working with `combinations()`, `combinations_with_replacement()`, and `permutations()`."
   ]
  },
  {
   "cell_type": "markdown",
   "metadata": {},
   "source": [
    "It is usually best to avoid brute force algorithms, although there are times you may need to use one (for example, if the correctness of the algorithm is critical, or every possible outcome must be considered). In that case, itertools has you covered."
   ]
  },
  {
   "cell_type": "markdown",
   "metadata": {},
   "source": [
    "<a class=\"anchor\" id=\"sequences_of_numbers\"></a>\n",
    "## Sequences of Numbers [<img src=\"../../images/logos/back_to_top.png\" width=\"22\" align= \"center\"/>](#table_of_contents)"
   ]
  },
  {
   "cell_type": "markdown",
   "metadata": {},
   "source": [
    "With `itertools`, you can easily generate iterators over infinite sequences. In this section, you will explore numeric sequences, but the tools and techniques seen here are by no means limited to numbers."
   ]
  },
  {
   "cell_type": "markdown",
   "metadata": {},
   "source": [
    "<a class=\"anchor\" id=\"evens_and_odds\"></a>\n",
    "### Evens and Odds [<img src=\"../../images/logos/back_to_top.png\" width=\"22\" align= \"center\"/>](#table_of_contents)"
   ]
  },
  {
   "cell_type": "markdown",
   "metadata": {},
   "source": [
    "For the first example, you will create a pair of iterators over even and odd integers without explicitly doing any arithmetic. Before diving in, let’s look at an arithmetic solution using"
   ]
  },
  {
   "cell_type": "markdown",
   "metadata": {},
   "source": [
    "For the first example, you will create a pair of iterators over even and odd integers without explicitly doing any arithmetic. Before diving in, let’s look at an arithmetic solution using generators:"
   ]
  },
  {
   "cell_type": "code",
   "execution_count": 41,
   "metadata": {},
   "outputs": [],
   "source": [
    "def evens():\n",
    "    \"\"\"Generate even integers, starting with 0.\"\"\"\n",
    "    n = 0\n",
    "    while True:\n",
    "        yield n\n",
    "        n += 2"
   ]
  },
  {
   "cell_type": "code",
   "execution_count": 42,
   "metadata": {},
   "outputs": [
    {
     "data": {
      "text/plain": [
       "[0, 2, 4, 6, 8]"
      ]
     },
     "execution_count": 42,
     "metadata": {},
     "output_type": "execute_result"
    }
   ],
   "source": [
    "evens = evens()\n",
    "list(next(evens) for _ in range(5))"
   ]
  },
  {
   "cell_type": "code",
   "execution_count": 3,
   "metadata": {},
   "outputs": [],
   "source": [
    "def odds():\n",
    "    \"\"\"Generate odd integers, starting with 1.\"\"\"\n",
    "    n = 1\n",
    "    while True:\n",
    "        yield n\n",
    "        n += 2"
   ]
  },
  {
   "cell_type": "code",
   "execution_count": 4,
   "metadata": {},
   "outputs": [
    {
     "data": {
      "text/plain": [
       "[1, 3, 5, 7, 9]"
      ]
     },
     "execution_count": 4,
     "metadata": {},
     "output_type": "execute_result"
    }
   ],
   "source": [
    "odds = odds()\n",
    "list(next(odds) for _ in range(5))"
   ]
  },
  {
   "cell_type": "markdown",
   "metadata": {},
   "source": [
    "That is pretty straightforward, but with `itertools` you can do this much more compactly. The function you need is `itertools.count()`, which does exactly what it sounds like: it counts, starting by default with the number `0`."
   ]
  },
  {
   "cell_type": "code",
   "execution_count": 7,
   "metadata": {},
   "outputs": [
    {
     "data": {
      "text/plain": [
       "[0, 1, 2, 3, 4]"
      ]
     },
     "execution_count": 7,
     "metadata": {},
     "output_type": "execute_result"
    }
   ],
   "source": [
    "counter = it.count()\n",
    "list(next(counter) for _ in range(5))"
   ]
  },
  {
   "cell_type": "markdown",
   "metadata": {},
   "source": [
    "You can start counting from any number you like by setting the start keyword argument, which defaults to `0`. You can even set a `step` keyword argument to determine the interval between numbers returned from `count()`—this defaults to `1`."
   ]
  },
  {
   "cell_type": "markdown",
   "metadata": {},
   "source": [
    "With count(), iterators over even and odd integers become literal one-liners:"
   ]
  },
  {
   "cell_type": "code",
   "execution_count": 8,
   "metadata": {},
   "outputs": [
    {
     "data": {
      "text/plain": [
       "[0, 2, 4, 6, 8]"
      ]
     },
     "execution_count": 8,
     "metadata": {},
     "output_type": "execute_result"
    }
   ],
   "source": [
    "evens = it.count(step=2)\n",
    "list(next(evens) for _ in range(5))"
   ]
  },
  {
   "cell_type": "code",
   "execution_count": 9,
   "metadata": {},
   "outputs": [
    {
     "data": {
      "text/plain": [
       "[1, 3, 5, 7, 9]"
      ]
     },
     "execution_count": 9,
     "metadata": {},
     "output_type": "execute_result"
    }
   ],
   "source": [
    "odds = it.count(start=1, step=2)\n",
    "list(next(odds) for _ in range(5))"
   ]
  },
  {
   "cell_type": "markdown",
   "metadata": {},
   "source": [
    "Ever since Python 3.1, the `count()` function also accepts non-integer arguments:"
   ]
  },
  {
   "cell_type": "code",
   "execution_count": 9,
   "metadata": {},
   "outputs": [
    {
     "data": {
      "text/plain": [
       "[0.5, 1.25, 2.0, 2.75, 3.5]"
      ]
     },
     "execution_count": 9,
     "metadata": {},
     "output_type": "execute_result"
    }
   ],
   "source": [
    "count_with_floats = it.count(start=0.5, step=0.75)\n",
    "list(next(count_with_floats) for _ in range(5))"
   ]
  },
  {
   "cell_type": "markdown",
   "metadata": {},
   "source": [
    "You can even pass it negative numbers:"
   ]
  },
  {
   "cell_type": "code",
   "execution_count": 164,
   "metadata": {},
   "outputs": [
    {
     "data": {
      "text/plain": [
       "[-1, -1.5, -2.0, -2.5, -3.0]"
      ]
     },
     "execution_count": 164,
     "metadata": {},
     "output_type": "execute_result"
    }
   ],
   "source": [
    "negative_count = it.count(start=-1, step=-0.5)\n",
    "list(next(negative_count) for _ in range(5))"
   ]
  },
  {
   "cell_type": "markdown",
   "metadata": {},
   "source": [
    "In some ways, `count()` is similar to the built-in `range()` function, but `count()` always returns an infinite sequence. You might wonder what good an infinite sequence is since it’s impossible to iterate over completely. That is a valid question, and I admit the first time I was introduced to infinite iterators, I too didn’t quite see the point."
   ]
  },
  {
   "cell_type": "markdown",
   "metadata": {},
   "source": [
    "The example that made me realize the power of the infinite iterator was the following, which emulates the behavior of the built-in `enumerate()` function:"
   ]
  },
  {
   "cell_type": "code",
   "execution_count": 16,
   "metadata": {},
   "outputs": [
    {
     "data": {
      "text/plain": [
       "[(0, 'a'), (1, 'b'), (2, 'c')]"
      ]
     },
     "execution_count": 16,
     "metadata": {},
     "output_type": "execute_result"
    }
   ],
   "source": [
    "list(zip(it.count(), ['a', 'b', 'c']))"
   ]
  },
  {
   "cell_type": "markdown",
   "metadata": {},
   "source": [
    "It is a simple example, but think about it: you just enumerated a list without a `for` loop and without knowing the length of the list ahead of time."
   ]
  },
  {
   "cell_type": "markdown",
   "metadata": {},
   "source": [
    "<a class=\"anchor\" id=\"recurrence_relations\"></a>\n",
    "## Recurrence Relations [<img src=\"../../images/logos/back_to_top.png\" width=\"22\" align= \"center\"/>](#table_of_contents)"
   ]
  },
  {
   "cell_type": "markdown",
   "metadata": {},
   "source": [
    "A [recurrence relation](https://en.wikipedia.org/wiki/Recurrence_relation) is a way of describing a sequence of numbers with a recursive formula. One of the best-known recurrence relations is the one that describes the [Fibonacci sequence](https://en.wikipedia.org/wiki/Fibonacci_number)."
   ]
  },
  {
   "cell_type": "markdown",
   "metadata": {},
   "source": [
    "The Fibonacci sequence is the sequence 0, 1, 1, 2, 3, 5, 8, 13, .... It starts with 0 and 1, and each subsequent number in the sequence is the sum of the previous two. The numbers in this sequence are called the Fibonacci numbers. In mathematical notation, the recurrence relation describing the n-th Fibonacci number looks like this:\n",
    "\n",
    "$F_n = F_{n-1} + F_{n-2}; F_0 = 0, F_1 = 1$"
   ]
  },
  {
   "cell_type": "markdown",
   "metadata": {},
   "source": [
    "It is common to see the Fibonacci sequence produced with a generator:"
   ]
  },
  {
   "cell_type": "code",
   "execution_count": 17,
   "metadata": {},
   "outputs": [],
   "source": [
    "def fibs():\n",
    "    a, b = 0, 1\n",
    "    while True:\n",
    "        yield a\n",
    "        a, b = b, a + b"
   ]
  },
  {
   "cell_type": "markdown",
   "metadata": {},
   "source": [
    "The recurrence relation describing the Fibonacci numbers is called a second order recurrence relation because, to calculate the next number in the sequence, you need to look back two numbers behind it."
   ]
  },
  {
   "cell_type": "markdown",
   "metadata": {},
   "source": [
    "In general, second order recurrence relations have the form:\n",
    "    \n",
    "$s_n = Ps_{n-1} + Qs_{n-2} + R$"
   ]
  },
  {
   "cell_type": "markdown",
   "metadata": {},
   "source": [
    "Here, P, Q, and R are constants. To generate the sequence, you need two initial values. For the Fibonacci numbers, `P = Q = 1`, `R = 0`, and the initial values are `0` and `1`."
   ]
  },
  {
   "cell_type": "markdown",
   "metadata": {},
   "source": [
    "As you might guess, a first order recurrence relation has the following form:\n",
    "    \n",
    "$s_n = Ps_{n-1} + Q$"
   ]
  },
  {
   "cell_type": "markdown",
   "metadata": {},
   "source": [
    "There are countless sequences of numbers that can be described by first and second order recurrence relations. For example, the positive integers can be described as a first order recurrence relation with `P = Q = 1` and initial value 1. For the even integers, take `P = 1` and `Q = 2` with initial value 0."
   ]
  },
  {
   "cell_type": "markdown",
   "metadata": {},
   "source": [
    "In this section, you will construct functions for producing any sequence whose values can be described with a first or second order recurrence relation."
   ]
  },
  {
   "cell_type": "markdown",
   "metadata": {},
   "source": [
    "<a class=\"anchor\" id=\"first_order_recurrence_relations\"></a>\n",
    "## First Order Recurrence Relations [<img src=\"../../images/logos/back_to_top.png\" width=\"22\" align= \"center\"/>](#table_of_contents)\n"
   ]
  },
  {
   "cell_type": "markdown",
   "metadata": {},
   "source": [
    "You’ve already seen how `count()` can generate the sequence of non-negative integers, the even integers, and the odd integers. You can also use it to generate the sequence `3n = 0, 3, 6, 9, 12, …` and `4n = 0, 4, 8, 12, 16, …`."
   ]
  },
  {
   "cell_type": "code",
   "execution_count": 175,
   "metadata": {},
   "outputs": [],
   "source": [
    "count_by_three = it.count(step=3)\n",
    "count_by_four = it.count(step=4)"
   ]
  },
  {
   "cell_type": "markdown",
   "metadata": {},
   "source": [
    "In fact, `count()` can produce sequences of multiples of any number you wish. These sequences can be described with first-order recurrence relations. For example, to generate the sequence of multiples of some number `n`, just take `P = 1, Q = n`, and initial value 0."
   ]
  },
  {
   "cell_type": "markdown",
   "metadata": {},
   "source": [
    "Another easy example of a first-order recurrence relation is the constant sequence `n, n, n, n, n, …`, where n is any value you’d like. For this sequence, set `P = 1` and `Q = 0` with initial value n. itertools provides an easy way to implement this sequence as well, with the `repeat()` function:"
   ]
  },
  {
   "cell_type": "code",
   "execution_count": 185,
   "metadata": {},
   "outputs": [],
   "source": [
    "all_ones = it.repeat(1)  # 1, 1, 1, 1, ...\n",
    "all_twos = it.repeat(2)  # 2, 2, 2, 2, ..."
   ]
  },
  {
   "cell_type": "markdown",
   "metadata": {},
   "source": [
    "If you need a finite sequence of repeated values, you can set a stopping point by passing a positive integer as a second argument:"
   ]
  },
  {
   "cell_type": "code",
   "execution_count": 29,
   "metadata": {},
   "outputs": [],
   "source": [
    "five_ones = it.repeat(1, 5)  # 1, 1, 1, 1, 1\n",
    "three_fours = it.repeat(4, 3)  # 4, 4, 4"
   ]
  },
  {
   "cell_type": "markdown",
   "metadata": {},
   "source": [
    "What may not be quite as obvious is that the sequence `1, -1, 1, -1, 1, -1, ...` of alternating 1s and -1s can also be described by a first order recurrence relation. Just take `P = -1`, `Q = 0`, and initial value `1`."
   ]
  },
  {
   "cell_type": "markdown",
   "metadata": {},
   "source": [
    "There’s an easy way to generate this sequence with the `itertools.cycle()` function. This function takes an iterable inputs as an argument and returns an infinite iterator over the values in inputs that returns to the beginning once the end of inputs is reached. So, to produce the alternating sequence of 1s and -1s, you could do this:"
   ]
  },
  {
   "cell_type": "code",
   "execution_count": 232,
   "metadata": {},
   "outputs": [],
   "source": [
    "alternating_ones = it.cycle([1, -1])  # 1, -1, 1, -1, 1, -1, ..."
   ]
  },
  {
   "cell_type": "markdown",
   "metadata": {},
   "source": [
    "The goal of this section, though, is to produce a single function that can generate any first order recurrence relation—just pass it `P`, `Q`, and an initial value. One way to do this is with `itertools.accumulate()`."
   ]
  },
  {
   "cell_type": "markdown",
   "metadata": {},
   "source": [
    "The `accumulate()` function takes two arguments—an iterable `inputs` and a **binary function** `func` (that is, a function with exactly two inputs)—and returns an iterator over accumulated results of applying func to elements of inputs. It is roughly equivalent to the following generator:"
   ]
  },
  {
   "cell_type": "code",
   "execution_count": 31,
   "metadata": {},
   "outputs": [],
   "source": [
    "def accumulate(inputs, func):\n",
    "    itr = iter(inputs)\n",
    "    prev = next(itr)\n",
    "    for cur in itr:\n",
    "        yield prev\n",
    "        prev = func(prev, cur)"
   ]
  },
  {
   "cell_type": "code",
   "execution_count": 32,
   "metadata": {},
   "outputs": [
    {
     "data": {
      "text/plain": [
       "[1, 3, 6, 10, 15]"
      ]
     },
     "execution_count": 32,
     "metadata": {},
     "output_type": "execute_result"
    }
   ],
   "source": [
    "import operator\n",
    "list(it.accumulate([1, 2, 3, 4, 5], operator.add))"
   ]
  },
  {
   "cell_type": "markdown",
   "metadata": {},
   "source": [
    "The first value in the iterator returned by `accumulate()` is always the first value in the input sequence. In the above example, this is 1—the first value in `[1, 2, 3, 4, 5]`."
   ]
  },
  {
   "cell_type": "markdown",
   "metadata": {},
   "source": [
    "The next value in the output iterator is the sum of the first two elements of the input sequence: `add(1, 2) = 3`. To produce the next value, `accumulate()` takes the result of `add(1, 2)` and adds this to the third value in the input sequence:\n",
    "\n",
    "```\n",
    "add(3, 3) = add(add(1, 2), 3) = 6\n",
    "```"
   ]
  },
  {
   "cell_type": "markdown",
   "metadata": {},
   "source": [
    "The fourth value produced by `accumulate()` is `add(add(add(1, 2), 3), 4) = 10`, and so on."
   ]
  },
  {
   "cell_type": "markdown",
   "metadata": {},
   "source": [
    "The second argument of `accumulate()` defaults to `operator.add()`, so the previous example can be simplified to:"
   ]
  },
  {
   "cell_type": "code",
   "execution_count": 40,
   "metadata": {},
   "outputs": [
    {
     "data": {
      "text/plain": [
       "[1, 3, 6, 10, 15]"
      ]
     },
     "execution_count": 40,
     "metadata": {},
     "output_type": "execute_result"
    }
   ],
   "source": [
    "list(it.accumulate([1, 2, 3, 4, 5]))"
   ]
  },
  {
   "cell_type": "markdown",
   "metadata": {},
   "source": [
    "Passing the built-in `min()` to `accumulate()` will keep track of a running minimum:"
   ]
  },
  {
   "cell_type": "code",
   "execution_count": 43,
   "metadata": {},
   "outputs": [
    {
     "data": {
      "text/plain": [
       "[9, 9, 9, 5, 5, 5, 2, 2]"
      ]
     },
     "execution_count": 43,
     "metadata": {},
     "output_type": "execute_result"
    }
   ],
   "source": [
    "list(it.accumulate([9, 21, 17, 5, 11, 12, 2, 6], min))"
   ]
  },
  {
   "cell_type": "markdown",
   "metadata": {},
   "source": [
    "More complex functions can be passed to `accumulate()` with lambda expressions:"
   ]
  },
  {
   "cell_type": "code",
   "execution_count": 44,
   "metadata": {},
   "outputs": [
    {
     "data": {
      "text/plain": [
       "[1, 1.5, 2.25, 3.125, 4.0625]"
      ]
     },
     "execution_count": 44,
     "metadata": {},
     "output_type": "execute_result"
    }
   ],
   "source": [
    "list(it.accumulate([1, 2, 3, 4, 5], lambda x, y: (x + y) / 2))"
   ]
  },
  {
   "cell_type": "markdown",
   "metadata": {},
   "source": [
    "The order of the arguments in the binary function passed to `accumulate()` is important. The first argument is always the previously accumulated result and the second argument is always the next element of the input iterable. For example, consider the difference in output of the following expressions:"
   ]
  },
  {
   "cell_type": "code",
   "execution_count": 45,
   "metadata": {},
   "outputs": [
    {
     "data": {
      "text/plain": [
       "[1, -1, -4, -8, -13]"
      ]
     },
     "execution_count": 45,
     "metadata": {},
     "output_type": "execute_result"
    }
   ],
   "source": [
    "list(it.accumulate([1, 2, 3, 4, 5], lambda x, y: x - y))"
   ]
  },
  {
   "cell_type": "code",
   "execution_count": 46,
   "metadata": {},
   "outputs": [
    {
     "data": {
      "text/plain": [
       "[1, 1, 2, 2, 3]"
      ]
     },
     "execution_count": 46,
     "metadata": {},
     "output_type": "execute_result"
    }
   ],
   "source": [
    "list(it.accumulate([1, 2, 3, 4, 5], lambda x, y: y - x))"
   ]
  },
  {
   "cell_type": "markdown",
   "metadata": {},
   "source": [
    "To model a recurrence relation, you can just ignore the second argument of the binary function passed to `accumulate()`. That is, given values `p`, `q`, and `s`, `lambda x, _: p*s + q` will return the value following `x` in the recurrence relation defined by $s_i = Ps_{i-1} + Q$."
   ]
  },
  {
   "cell_type": "markdown",
   "metadata": {},
   "source": [
    "In order for `accumulate()` to iterate over the resulting recurrence relation, you need to pass to it an infinite sequence with the right initial value. It doesn’t matter what the rest of the values in the sequence are, as long as the initial value is the initial value of the recurrence relation. You can do this is with `repeat()`:"
   ]
  },
  {
   "cell_type": "code",
   "execution_count": 47,
   "metadata": {},
   "outputs": [],
   "source": [
    "def first_order(p, q, initial_val):\n",
    "    \"\"\"Return sequence defined by s(n) = p * s(n-1) + q.\"\"\"\n",
    "    return it.accumulate(it.repeat(initial_val), lambda s, _: p*s + q)"
   ]
  },
  {
   "cell_type": "markdown",
   "metadata": {},
   "source": [
    "Using `first_order()`, you can build the sequences from above as follows:"
   ]
  },
  {
   "cell_type": "code",
   "execution_count": 49,
   "metadata": {},
   "outputs": [
    {
     "data": {
      "text/plain": [
       "[0, 2, 4, 6, 8]"
      ]
     },
     "execution_count": 49,
     "metadata": {},
     "output_type": "execute_result"
    }
   ],
   "source": [
    "evens = first_order(p=1, q=2, initial_val=0)\n",
    "list(next(evens) for _ in range(5))"
   ]
  },
  {
   "cell_type": "code",
   "execution_count": 50,
   "metadata": {},
   "outputs": [
    {
     "data": {
      "text/plain": [
       "[1, 3, 5, 7, 9]"
      ]
     },
     "execution_count": 50,
     "metadata": {},
     "output_type": "execute_result"
    }
   ],
   "source": [
    "odds = first_order(p=1, q=2, initial_val=1)\n",
    "list(next(odds) for _ in range(5))"
   ]
  },
  {
   "cell_type": "code",
   "execution_count": 51,
   "metadata": {},
   "outputs": [
    {
     "data": {
      "text/plain": [
       "[0, 3, 6, 9, 12]"
      ]
     },
     "execution_count": 51,
     "metadata": {},
     "output_type": "execute_result"
    }
   ],
   "source": [
    "count_by_threes = first_order(p=1, q=3, initial_val=0)\n",
    "list(next(count_by_threes) for _ in range(5))"
   ]
  },
  {
   "cell_type": "code",
   "execution_count": 52,
   "metadata": {},
   "outputs": [
    {
     "data": {
      "text/plain": [
       "[0, 4, 8, 12, 16]"
      ]
     },
     "execution_count": 52,
     "metadata": {},
     "output_type": "execute_result"
    }
   ],
   "source": [
    "count_by_fours = first_order(p=1, q=4, initial_val=0)\n",
    "list(next(count_by_fours) for _ in range(5))"
   ]
  },
  {
   "cell_type": "code",
   "execution_count": 53,
   "metadata": {},
   "outputs": [
    {
     "data": {
      "text/plain": [
       "[1, 1, 1, 1, 1]"
      ]
     },
     "execution_count": 53,
     "metadata": {},
     "output_type": "execute_result"
    }
   ],
   "source": [
    "all_ones = first_order(p=1, q=0, initial_val=1)\n",
    "list(next(all_ones) for _ in range(5))"
   ]
  },
  {
   "cell_type": "code",
   "execution_count": 54,
   "metadata": {},
   "outputs": [
    {
     "data": {
      "text/plain": [
       "[2, 2, 2, 2, 2]"
      ]
     },
     "execution_count": 54,
     "metadata": {},
     "output_type": "execute_result"
    }
   ],
   "source": [
    "all_twos = first_order(p=1, q=0, initial_val=2)\n",
    "list(next(all_twos) for _ in range(5))"
   ]
  },
  {
   "cell_type": "code",
   "execution_count": 56,
   "metadata": {},
   "outputs": [
    {
     "data": {
      "text/plain": [
       "[1, -1, 1, -1, 1]"
      ]
     },
     "execution_count": 56,
     "metadata": {},
     "output_type": "execute_result"
    }
   ],
   "source": [
    "alternating_ones = first_order(p=-1, q=0, initial_val=1)\n",
    "list(next(alternating_ones) for _ in range(5))"
   ]
  },
  {
   "cell_type": "markdown",
   "metadata": {},
   "source": [
    "<a class=\"anchor\" id=\"second_order_recurrence_relations\"></a>\n",
    "## Second Order Recurrence Relations [<img src=\"../../images/logos/back_to_top.png\" width=\"22\" align= \"center\"/>](#table_of_contents)"
   ]
  },
  {
   "cell_type": "markdown",
   "metadata": {},
   "source": [
    "Generating sequences described by second order recurrence relations, like the Fibonacci sequence, can be accomplished using a similar technique as the one used for first order recurrence relations."
   ]
  },
  {
   "cell_type": "markdown",
   "metadata": {},
   "source": [
    "The difference here is that you need to create an intermediate sequence of tuples that keep track of the previous two elements of the sequence, and then map() each of these tuples to their first component to get the final sequence."
   ]
  },
  {
   "cell_type": "markdown",
   "metadata": {},
   "source": [
    "Here’s what it looks like:"
   ]
  },
  {
   "cell_type": "code",
   "execution_count": 6,
   "metadata": {},
   "outputs": [],
   "source": [
    "def second_order(p, q, r, initial_values):\n",
    "    \"\"\"Return sequence defined by s(n) = p * s(n-1) + q * s(n-2) + r.\"\"\"\n",
    "    intermediate = it.accumulate(\n",
    "        it.repeat(initial_values),\n",
    "        lambda s, _: (s[1], p*s[1] + q*s[0] + r)\n",
    "    )\n",
    "    return map(lambda x: x[0], intermediate)"
   ]
  },
  {
   "cell_type": "markdown",
   "metadata": {},
   "source": [
    "Using `second_order()`, you can generate the Fibonacci sequence like this:"
   ]
  },
  {
   "cell_type": "code",
   "execution_count": 7,
   "metadata": {},
   "outputs": [
    {
     "data": {
      "text/plain": [
       "[0, 1, 1, 2, 3, 5, 8, 13]"
      ]
     },
     "execution_count": 7,
     "metadata": {},
     "output_type": "execute_result"
    }
   ],
   "source": [
    "fibs = second_order(p=1, q=1, r=0, initial_values=(0, 1))\n",
    "list(next(fibs) for _ in range(8))"
   ]
  },
  {
   "cell_type": "markdown",
   "metadata": {},
   "source": [
    "Other sequences can be easily generated by changing the values of `p`, `q`, and `r`. For example, the [Pell numbers](https://en.wikipedia.org/wiki/Pell_number) and the [Lucas numbers](https://en.wikipedia.org/wiki/Lucas_number) can be generated as follows:"
   ]
  },
  {
   "cell_type": "code",
   "execution_count": 59,
   "metadata": {},
   "outputs": [
    {
     "data": {
      "text/plain": [
       "[0, 1, 2, 5, 12, 29]"
      ]
     },
     "execution_count": 59,
     "metadata": {},
     "output_type": "execute_result"
    }
   ],
   "source": [
    "pell = second_order(p=2, q=1, r=0, initial_values=(0, 1))\n",
    "list(next(pell) for _ in range(6))"
   ]
  },
  {
   "cell_type": "code",
   "execution_count": 60,
   "metadata": {},
   "outputs": [
    {
     "data": {
      "text/plain": [
       "[2, 1, 3, 4, 7, 11]"
      ]
     },
     "execution_count": 60,
     "metadata": {},
     "output_type": "execute_result"
    }
   ],
   "source": [
    "lucas = second_order(p=1, q=1, r=0, initial_values=(2, 1))\n",
    "list(next(lucas) for _ in range(6))"
   ]
  },
  {
   "cell_type": "markdown",
   "metadata": {},
   "source": [
    "You can even generate the alternating Fibonacci numbers:"
   ]
  },
  {
   "cell_type": "code",
   "execution_count": 61,
   "metadata": {},
   "outputs": [
    {
     "data": {
      "text/plain": [
       "[-1, 1, -2, 3, -5, 8]"
      ]
     },
     "execution_count": 61,
     "metadata": {},
     "output_type": "execute_result"
    }
   ],
   "source": [
    "alt_fibs = second_order(p=-1, q=1, r=0, initial_values=(-1, 1))\n",
    "list(next(alt_fibs) for _ in range(6))"
   ]
  },
  {
   "cell_type": "markdown",
   "metadata": {},
   "source": [
    "This is a valuable lesson. The accumulate() function is a powerful tool to have in your toolkit, but there are times when using it could mean sacrificing clarity and readability."
   ]
  }
 ],
 "metadata": {
  "kernelspec": {
   "display_name": "Python 3",
   "language": "python",
   "name": "python3"
  },
  "language_info": {
   "codemirror_mode": {
    "name": "ipython",
    "version": 3
   },
   "file_extension": ".py",
   "mimetype": "text/x-python",
   "name": "python",
   "nbconvert_exporter": "python",
   "pygments_lexer": "ipython3",
   "version": "3.7.6"
  }
 },
 "nbformat": 4,
 "nbformat_minor": 5
}
