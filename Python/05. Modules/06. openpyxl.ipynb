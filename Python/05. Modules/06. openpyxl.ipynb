{
 "cells": [
  {
   "cell_type": "markdown",
   "metadata": {},
   "source": [
    "<img src=\"../../images/banners/python-modules.png\" width=\"600\"/>"
   ]
  },
  {
   "cell_type": "markdown",
   "metadata": {},
   "source": [
    "# <img src=\"../../images/logos/python.png\" width=\"23\"/> Excel Spreadsheets in Python With `openpyxl` \n",
    "\n",
    "Spreadsheets are a very intuitive and user-friendly way to manipulate large datasets without any prior technical background. That’s why they’re still so commonly used today."
   ]
  },
  {
   "cell_type": "markdown",
   "metadata": {},
   "source": [
    "<a class=\"anchor\" id=\"table_of_contents\"></a>\n",
    "## Table of Contents\n",
    "\n",
    "\n",
    "* [Practical Use Cases](#practical_use_cases)\n",
    "    * [Importing New Products Into a Database](#importing_new_products_into_a_database)\n",
    "    * [Exporting Database Data Into a Spreadsheet](#exporting_database_data_into_a_spreadsheet)\n",
    "    * [Appending Information to an Existing Spreadsheet](#appending_information_to_an_existing_spreadsheet)\n",
    "* [Learning Some Basic Excel Terminology](#learning_some_basic_excel_terminology)\n",
    "* [Getting Started With `openpyxl`](#getting_started_with_`openpyxl`)\n",
    "* [Reading Excel Spreadsheets With `openpyxl`](#reading_excel_spreadsheets_with_`openpyxl`)\n",
    "    * [Dataset](#dataset)\n",
    "    * [A Simple Approach to Reading an Excel Spreadsheet](#a_simple_approach_to_reading_an_excel_spreadsheet)\n",
    "        * [Additional Reading Options](#additional_reading_options)\n",
    "    * [Importing Data From a Spreadsheet](#importing_data_from_a_spreadsheet)\n",
    "    * [Iterating Through the Data](#iterating_through_the_data)\n",
    "* [Writing Excel Spreadsheets With `openpyxl`](#writing_excel_spreadsheets_with_`openpyxl`)\n",
    "    * [Appending New Data](#appending_new_data)\n",
    "* [Writing Excel Spreadsheets With openpyxl](#writing_excel_spreadsheets_with_openpyxl)\n",
    "    * [Creating a Simple Spreadsheet](#creating_a_simple_spreadsheet)\n",
    "    * [Basic Spreadsheet Operations](#basic_spreadsheet_operations)\n",
    "        * [Adding and Updating Cell Values](#adding_and_updating_cell_values)\n",
    "    * [Managing Rows and Columns](#managing_rows_and_columns)\n",
    "* [Managing Sheets](#managing_sheets)\n",
    "* [<img src=\"../../images/logos/checkmark.png\" width=\"20\"/> Conclusion](#conclusion)\n",
    "\n",
    "---"
   ]
  },
  {
   "cell_type": "markdown",
   "metadata": {},
   "source": [
    "If you ever get asked to extract some data from a database or log file into an Excel spreadsheet, or if you often have to convert an Excel spreadsheet into some more usable programmatic form, then this tutorial is perfect for you. Let’s jump into the `openpyxl` caravan!"
   ]
  },
  {
   "cell_type": "markdown",
   "metadata": {},
   "source": [
    "<a class=\"anchor\" id=\"practical_use_cases\"></a>\n",
    "## Practical Use Cases [<img src=\"../../images/logos/back_to_top.png\" width=\"22\" align= \"center\"/>](#table_of_contents)\n",
    "First things first, when would you need to use a package like openpyxl in a real-world scenario? You’ll see a few examples below, but really, there are hundreds of possible scenarios where this knowledge could come in handy."
   ]
  },
  {
   "cell_type": "markdown",
   "metadata": {},
   "source": [
    "<a class=\"anchor\" id=\"importing_new_products_into_a_database\"></a>\n",
    "### Importing New Products Into a Database [<img src=\"../../images/logos/back_to_top.png\" width=\"22\" align= \"center\"/>](#table_of_contents)\n",
    "You are responsible for tech in an online store company, and your boss doesn’t want to pay for a cool and expensive CMS system.\n",
    "\n",
    "Every time they want to add new products to the online store, they come to you with an Excel spreadsheet with a few hundred rows and, for each of them, you have the product name, description, price, and so forth.\n",
    "\n",
    "Now, to import the data, you’ll have to iterate over each spreadsheet row and add each product to the online store."
   ]
  },
  {
   "cell_type": "markdown",
   "metadata": {},
   "source": [
    "<a class=\"anchor\" id=\"exporting_database_data_into_a_spreadsheet\"></a>\n",
    "### Exporting Database Data Into a Spreadsheet [<img src=\"../../images/logos/back_to_top.png\" width=\"22\" align= \"center\"/>](#table_of_contents)\n",
    "Say you have a Database table where you record all your users’ information, including name, phone number, email address, and so forth.\n",
    "\n",
    "Now, the Marketing team wants to contact all users to give them some discounted offer or promotion. However, they don’t have access to the Database, or they don’t know how to use SQL to extract that information easily.\n",
    "\n",
    "What can you do to help? Well, you can make a quick script using openpyxl that iterates over every single User record and puts all the essential information into an Excel spreadsheet.\n",
    "\n",
    "That’s gonna earn you an extra slice of cake at your company’s next birthday party!"
   ]
  },
  {
   "cell_type": "markdown",
   "metadata": {},
   "source": [
    "<a class=\"anchor\" id=\"appending_information_to_an_existing_spreadsheet\"></a>\n",
    "### Appending Information to an Existing Spreadsheet [<img src=\"../../images/logos/back_to_top.png\" width=\"22\" align= \"center\"/>](#table_of_contents)\n",
    "You may also have to open a spreadsheet, read the information in it and, according to some business logic, append more data to it.\n",
    "\n",
    "For example, using the online store scenario again, say you get an Excel spreadsheet with a list of users and you need to append to each row the total amount they’ve spent in your store.\n",
    "\n",
    "This data is in the Database and, in order to do this, you have to read the spreadsheet, iterate through each row, fetch the total amount spent from the Database and then write back to the spreadsheet.\n",
    "\n",
    "Not a problem for `openpyxl`!"
   ]
  },
  {
   "cell_type": "markdown",
   "metadata": {},
   "source": [
    "<a class=\"anchor\" id=\"learning_some_basic_excel_terminology\"></a>\n",
    "## Learning Some Basic Excel Terminology [<img src=\"../../images/logos/back_to_top.png\" width=\"22\" align= \"center\"/>](#table_of_contents)\n",
    "\n",
    "Here’s a quick list of basic terms you’ll see when you’re working with Excel spreadsheets:\n",
    "\n",
    "|Term|Explanation|\n",
    "|:--|:--|\n",
    "|Spreadsheet or Workbook | A **Spreadsheet** is the main file you are creating or working with.|\n",
    "|Worksheet or Sheet| A **Sheet** is used to split different kinds of content within the same spreadsheet. A Spreadsheet can have one or more Sheets.|\n",
    "|Column|\tA **Column** is a vertical line, and it’s represented by an uppercase letter: `A`.|\n",
    "|Row|\tA **Row** is a horizontal line, and it’s represented by a number: `1`.|\n",
    "|Cell|\tA **Cell** is a combination of **Column and Row**, represented by both an uppercase letter and a number: `A1`.|"
   ]
  },
  {
   "cell_type": "markdown",
   "metadata": {},
   "source": [
    "<a class=\"anchor\" id=\"getting_started_with_`openpyxl`\"></a>\n",
    "## Getting Started With `openpyxl` [<img src=\"../../images/logos/back_to_top.png\" width=\"22\" align= \"center\"/>](#table_of_contents)\n",
    "\n",
    "Now that you’re aware of the benefits of a tool like `openpyxl`, let’s get down to it and start by installing the package. For this tutorial, you should use Python 3.7 and `openpyxl 2.6.2`. To install the package, you can do the following:\n",
    "\n",
    "```bash\n",
    "$ pip install openpyxl\n",
    "```"
   ]
  },
  {
   "cell_type": "markdown",
   "metadata": {},
   "source": [
    "After you install the package, you should be able to create a super simple spreadsheet with the following code:"
   ]
  },
  {
   "cell_type": "code",
   "execution_count": 1,
   "metadata": {},
   "outputs": [],
   "source": [
    "from openpyxl import Workbook\n",
    "\n",
    "workbook = Workbook()\n",
    "sheet = workbook.active\n",
    "\n",
    "sheet[\"A1\"] = \"hello\"\n",
    "sheet[\"B1\"] = \"world!\"\n",
    "\n",
    "workbook.save(filename=\"hello_world.xlsx\")"
   ]
  },
  {
   "cell_type": "markdown",
   "metadata": {},
   "source": [
    "The code above should create a file called hello_world.xlsx in the folder you are using to run the code. If you open that file with Excel you should see something like this:\n",
    "\n",
    "<img src=\"../images/xl.png\" alt=\"numpy-array\" width=400 align=\"left\" />"
   ]
  },
  {
   "cell_type": "markdown",
   "metadata": {},
   "source": [
    "Woohoo, your first spreadsheet created!"
   ]
  },
  {
   "cell_type": "markdown",
   "metadata": {},
   "source": [
    "<a class=\"anchor\" id=\"reading_excel_spreadsheets_with_`openpyxl`\"></a>\n",
    "## Reading Excel Spreadsheets With `openpyxl` [<img src=\"../../images/logos/back_to_top.png\" width=\"22\" align= \"center\"/>](#table_of_contents)\n",
    "Let’s start with the most essential thing one can do with a spreadsheet: read it.\n",
    "\n",
    "You’ll go from a straightforward approach to reading a spreadsheet to more complex examples where you read the data and convert it into more useful Python structures."
   ]
  },
  {
   "cell_type": "markdown",
   "metadata": {},
   "source": [
    "<a class=\"anchor\" id=\"dataset\"></a>\n",
    "### Dataset [<img src=\"../../images/logos/back_to_top.png\" width=\"22\" align= \"center\"/>](#table_of_contents)\n",
    "\n",
    "Before you dive deep into some code examples, you should download this sample dataset and store it somewhere as `sample.xlsx`:\n",
    "\n",
    "> Download Dataset: [Click here to download the dataset for the openpyxl exercise you’ll be following in this tutorial](https://github.com/realpython/materials/blob/master/openpyxl-excel-spreadsheets-python/reviews-sample.xlsx)."
   ]
  },
  {
   "cell_type": "markdown",
   "metadata": {},
   "source": [
    "This is one of the datasets you’ll be using throughout this tutorial, and it’s a spreadsheet with a sample of real data from Amazon’s online product reviews. This dataset is only a tiny fraction of what Amazon provides, but for testing purposes, it’s more than enough."
   ]
  },
  {
   "cell_type": "markdown",
   "metadata": {},
   "source": [
    "<a class=\"anchor\" id=\"a_simple_approach_to_reading_an_excel_spreadsheet\"></a>\n",
    "### A Simple Approach to Reading an Excel Spreadsheet [<img src=\"../../images/logos/back_to_top.png\" width=\"22\" align= \"center\"/>](#table_of_contents)\n",
    "\n",
    "Finally, let’s start reading some spreadsheets! To begin with, open our sample spreadsheet:"
   ]
  },
  {
   "cell_type": "code",
   "execution_count": 2,
   "metadata": {},
   "outputs": [],
   "source": [
    "from openpyxl import load_workbook"
   ]
  },
  {
   "cell_type": "code",
   "execution_count": 3,
   "metadata": {},
   "outputs": [
    {
     "name": "stderr",
     "output_type": "stream",
     "text": [
      "/home/ali/anaconda3/envs/test/lib/python3.7/site-packages/openpyxl/workbook/child.py:99: UserWarning: Title is more than 31 characters. Some applications may not be able to read the file\n",
      "  warnings.warn(\"Title is more than 31 characters. Some applications may not be able to read the file\")\n"
     ]
    }
   ],
   "source": [
    "workbook = load_workbook(filename='../data/sample.xlsx')"
   ]
  },
  {
   "cell_type": "code",
   "execution_count": 4,
   "metadata": {},
   "outputs": [
    {
     "data": {
      "text/plain": [
       "['amazon_reviews_us_Watches_v1_00-sample']"
      ]
     },
     "execution_count": 4,
     "metadata": {},
     "output_type": "execute_result"
    }
   ],
   "source": [
    "workbook.sheetnames"
   ]
  },
  {
   "cell_type": "code",
   "execution_count": 5,
   "metadata": {},
   "outputs": [],
   "source": [
    "sheet = workbook.active"
   ]
  },
  {
   "cell_type": "code",
   "execution_count": 6,
   "metadata": {},
   "outputs": [
    {
     "data": {
      "text/plain": [
       "<Worksheet \"amazon_reviews_us_Watches_v1_00-sample\">"
      ]
     },
     "execution_count": 6,
     "metadata": {},
     "output_type": "execute_result"
    }
   ],
   "source": [
    "sheet"
   ]
  },
  {
   "cell_type": "code",
   "execution_count": 7,
   "metadata": {},
   "outputs": [
    {
     "data": {
      "text/plain": [
       "'amazon_reviews_us_Watches_v1_00-sample'"
      ]
     },
     "execution_count": 7,
     "metadata": {},
     "output_type": "execute_result"
    }
   ],
   "source": [
    "sheet.title"
   ]
  },
  {
   "cell_type": "markdown",
   "metadata": {},
   "source": [
    "In the code above, you first open the spreadsheet `sample.xlsx` using `load_workbook()`, and then you can use `workbook.sheetnames` to see all the sheets you have available to work with. After that, `workbook.active` selects the first available sheet and, in this case, you can see that it selects `amazon_reviews_us_Watches_v1_00-sample` automatically. Using these methods is the default way of opening a spreadsheet, and you’ll see it many times during this tutorial."
   ]
  },
  {
   "cell_type": "markdown",
   "metadata": {},
   "source": [
    "Now, after opening a spreadsheet, you can easily retrieve data from it like this:"
   ]
  },
  {
   "cell_type": "code",
   "execution_count": 8,
   "metadata": {},
   "outputs": [
    {
     "data": {
      "text/plain": [
       "<Cell 'amazon_reviews_us_Watches_v1_00-sample'.A1>"
      ]
     },
     "execution_count": 8,
     "metadata": {},
     "output_type": "execute_result"
    }
   ],
   "source": [
    "sheet['A1']"
   ]
  },
  {
   "cell_type": "code",
   "execution_count": 9,
   "metadata": {},
   "outputs": [
    {
     "data": {
      "text/plain": [
       "'marketplace'"
      ]
     },
     "execution_count": 9,
     "metadata": {},
     "output_type": "execute_result"
    }
   ],
   "source": [
    "sheet['A1'].value"
   ]
  },
  {
   "cell_type": "code",
   "execution_count": 10,
   "metadata": {},
   "outputs": [
    {
     "data": {
      "text/plain": [
       "\"G-Shock Men's Grey Sport Watch\""
      ]
     },
     "execution_count": 10,
     "metadata": {},
     "output_type": "execute_result"
    }
   ],
   "source": [
    "sheet['F10'].value"
   ]
  },
  {
   "cell_type": "markdown",
   "metadata": {},
   "source": [
    "To return the actual value of a cell, you need to do .value. Otherwise, you’ll get the main Cell object. You can also use the method `.cell()` to retrieve a cell using index notation. Remember to add `.value` to get the actual value and not a Cell object:"
   ]
  },
  {
   "cell_type": "code",
   "execution_count": 11,
   "metadata": {},
   "outputs": [
    {
     "data": {
      "text/plain": [
       "<Cell 'amazon_reviews_us_Watches_v1_00-sample'.A1>"
      ]
     },
     "execution_count": 11,
     "metadata": {},
     "output_type": "execute_result"
    }
   ],
   "source": [
    "sheet.cell(row=1, column=1)"
   ]
  },
  {
   "cell_type": "code",
   "execution_count": 12,
   "metadata": {},
   "outputs": [
    {
     "data": {
      "text/plain": [
       "\"G-Shock Men's Grey Sport Watch\""
      ]
     },
     "execution_count": 12,
     "metadata": {},
     "output_type": "execute_result"
    }
   ],
   "source": [
    "sheet.cell(row=10, column=6).value"
   ]
  },
  {
   "cell_type": "markdown",
   "metadata": {},
   "source": [
    "You can see that the results returned are the same, no matter which way you decide to go with. However, in this tutorial, you’ll be mostly using the first approach: `[\"A1\"]`."
   ]
  },
  {
   "cell_type": "markdown",
   "metadata": {},
   "source": [
    "> **Note:** Even though in Python you’re used to a zero-indexed notation, with spreadsheets you’ll always use a one-indexed notation where the first row or column always has index 1."
   ]
  },
  {
   "cell_type": "markdown",
   "metadata": {},
   "source": [
    "The above shows you the quickest way to open a spreadsheet. However, you can pass additional parameters to change the way a spreadsheet is loaded."
   ]
  },
  {
   "cell_type": "markdown",
   "metadata": {},
   "source": [
    "<a class=\"anchor\" id=\"additional_reading_options\"></a>\n",
    "#### Additional Reading Options [<img src=\"../../images/logos/back_to_top.png\" width=\"22\" align= \"center\"/>](#table_of_contents)\n",
    "\n",
    "There are a few arguments you can pass to `load_workbook()` that change the way a spreadsheet is loaded. The most important ones are the following two Booleans:\n",
    "\n",
    "- `read_only` loads a spreadsheet in read-only mode allowing you to open very large Excel files.\n",
    "- `data_only` ignores loading formulas and instead loads only the resulting values."
   ]
  },
  {
   "cell_type": "markdown",
   "metadata": {},
   "source": [
    "<a class=\"anchor\" id=\"importing_data_from_a_spreadsheet\"></a>\n",
    "### Importing Data From a Spreadsheet [<img src=\"../../images/logos/back_to_top.png\" width=\"22\" align= \"center\"/>](#table_of_contents)\n"
   ]
  },
  {
   "cell_type": "markdown",
   "metadata": {},
   "source": [
    "Now that you’ve learned the basics about loading a spreadsheet, it’s about time you get to the fun part: **the iteration and actual usage of the values within the spreadsheet.**"
   ]
  },
  {
   "cell_type": "markdown",
   "metadata": {},
   "source": [
    "<a class=\"anchor\" id=\"iterating_through_the_data\"></a>\n",
    "### Iterating Through the Data [<img src=\"../../images/logos/back_to_top.png\" width=\"22\" align= \"center\"/>](#table_of_contents)\n",
    "\n",
    "There are a few different ways you can iterate through the data depending on your needs."
   ]
  },
  {
   "cell_type": "markdown",
   "metadata": {},
   "source": [
    "You can slice the data with a combination of columns and rows:"
   ]
  },
  {
   "cell_type": "code",
   "execution_count": 13,
   "metadata": {},
   "outputs": [
    {
     "data": {
      "text/plain": [
       "((<Cell 'amazon_reviews_us_Watches_v1_00-sample'.A1>,\n",
       "  <Cell 'amazon_reviews_us_Watches_v1_00-sample'.B1>,\n",
       "  <Cell 'amazon_reviews_us_Watches_v1_00-sample'.C1>),\n",
       " (<Cell 'amazon_reviews_us_Watches_v1_00-sample'.A2>,\n",
       "  <Cell 'amazon_reviews_us_Watches_v1_00-sample'.B2>,\n",
       "  <Cell 'amazon_reviews_us_Watches_v1_00-sample'.C2>))"
      ]
     },
     "execution_count": 13,
     "metadata": {},
     "output_type": "execute_result"
    }
   ],
   "source": [
    "sheet[\"A1:C2\"]"
   ]
  },
  {
   "cell_type": "code",
   "execution_count": 14,
   "metadata": {},
   "outputs": [
    {
     "data": {
      "text/plain": [
       "(<Cell 'amazon_reviews_us_Watches_v1_00-sample'.A1>,\n",
       " <Cell 'amazon_reviews_us_Watches_v1_00-sample'.A2>,\n",
       " <Cell 'amazon_reviews_us_Watches_v1_00-sample'.A3>,\n",
       " <Cell 'amazon_reviews_us_Watches_v1_00-sample'.A4>,\n",
       " <Cell 'amazon_reviews_us_Watches_v1_00-sample'.A5>,\n",
       " <Cell 'amazon_reviews_us_Watches_v1_00-sample'.A6>,\n",
       " <Cell 'amazon_reviews_us_Watches_v1_00-sample'.A7>,\n",
       " <Cell 'amazon_reviews_us_Watches_v1_00-sample'.A8>,\n",
       " <Cell 'amazon_reviews_us_Watches_v1_00-sample'.A9>,\n",
       " <Cell 'amazon_reviews_us_Watches_v1_00-sample'.A10>,\n",
       " <Cell 'amazon_reviews_us_Watches_v1_00-sample'.A11>,\n",
       " <Cell 'amazon_reviews_us_Watches_v1_00-sample'.A12>,\n",
       " <Cell 'amazon_reviews_us_Watches_v1_00-sample'.A13>,\n",
       " <Cell 'amazon_reviews_us_Watches_v1_00-sample'.A14>,\n",
       " <Cell 'amazon_reviews_us_Watches_v1_00-sample'.A15>,\n",
       " <Cell 'amazon_reviews_us_Watches_v1_00-sample'.A16>,\n",
       " <Cell 'amazon_reviews_us_Watches_v1_00-sample'.A17>,\n",
       " <Cell 'amazon_reviews_us_Watches_v1_00-sample'.A18>,\n",
       " <Cell 'amazon_reviews_us_Watches_v1_00-sample'.A19>,\n",
       " <Cell 'amazon_reviews_us_Watches_v1_00-sample'.A20>,\n",
       " <Cell 'amazon_reviews_us_Watches_v1_00-sample'.A21>,\n",
       " <Cell 'amazon_reviews_us_Watches_v1_00-sample'.A22>,\n",
       " <Cell 'amazon_reviews_us_Watches_v1_00-sample'.A23>,\n",
       " <Cell 'amazon_reviews_us_Watches_v1_00-sample'.A24>,\n",
       " <Cell 'amazon_reviews_us_Watches_v1_00-sample'.A25>,\n",
       " <Cell 'amazon_reviews_us_Watches_v1_00-sample'.A26>,\n",
       " <Cell 'amazon_reviews_us_Watches_v1_00-sample'.A27>,\n",
       " <Cell 'amazon_reviews_us_Watches_v1_00-sample'.A28>,\n",
       " <Cell 'amazon_reviews_us_Watches_v1_00-sample'.A29>,\n",
       " <Cell 'amazon_reviews_us_Watches_v1_00-sample'.A30>,\n",
       " <Cell 'amazon_reviews_us_Watches_v1_00-sample'.A31>,\n",
       " <Cell 'amazon_reviews_us_Watches_v1_00-sample'.A32>,\n",
       " <Cell 'amazon_reviews_us_Watches_v1_00-sample'.A33>,\n",
       " <Cell 'amazon_reviews_us_Watches_v1_00-sample'.A34>,\n",
       " <Cell 'amazon_reviews_us_Watches_v1_00-sample'.A35>,\n",
       " <Cell 'amazon_reviews_us_Watches_v1_00-sample'.A36>,\n",
       " <Cell 'amazon_reviews_us_Watches_v1_00-sample'.A37>,\n",
       " <Cell 'amazon_reviews_us_Watches_v1_00-sample'.A38>,\n",
       " <Cell 'amazon_reviews_us_Watches_v1_00-sample'.A39>,\n",
       " <Cell 'amazon_reviews_us_Watches_v1_00-sample'.A40>,\n",
       " <Cell 'amazon_reviews_us_Watches_v1_00-sample'.A41>,\n",
       " <Cell 'amazon_reviews_us_Watches_v1_00-sample'.A42>,\n",
       " <Cell 'amazon_reviews_us_Watches_v1_00-sample'.A43>,\n",
       " <Cell 'amazon_reviews_us_Watches_v1_00-sample'.A44>,\n",
       " <Cell 'amazon_reviews_us_Watches_v1_00-sample'.A45>,\n",
       " <Cell 'amazon_reviews_us_Watches_v1_00-sample'.A46>,\n",
       " <Cell 'amazon_reviews_us_Watches_v1_00-sample'.A47>,\n",
       " <Cell 'amazon_reviews_us_Watches_v1_00-sample'.A48>,\n",
       " <Cell 'amazon_reviews_us_Watches_v1_00-sample'.A49>,\n",
       " <Cell 'amazon_reviews_us_Watches_v1_00-sample'.A50>,\n",
       " <Cell 'amazon_reviews_us_Watches_v1_00-sample'.A51>,\n",
       " <Cell 'amazon_reviews_us_Watches_v1_00-sample'.A52>,\n",
       " <Cell 'amazon_reviews_us_Watches_v1_00-sample'.A53>,\n",
       " <Cell 'amazon_reviews_us_Watches_v1_00-sample'.A54>,\n",
       " <Cell 'amazon_reviews_us_Watches_v1_00-sample'.A55>,\n",
       " <Cell 'amazon_reviews_us_Watches_v1_00-sample'.A56>,\n",
       " <Cell 'amazon_reviews_us_Watches_v1_00-sample'.A57>,\n",
       " <Cell 'amazon_reviews_us_Watches_v1_00-sample'.A58>,\n",
       " <Cell 'amazon_reviews_us_Watches_v1_00-sample'.A59>,\n",
       " <Cell 'amazon_reviews_us_Watches_v1_00-sample'.A60>,\n",
       " <Cell 'amazon_reviews_us_Watches_v1_00-sample'.A61>,\n",
       " <Cell 'amazon_reviews_us_Watches_v1_00-sample'.A62>,\n",
       " <Cell 'amazon_reviews_us_Watches_v1_00-sample'.A63>,\n",
       " <Cell 'amazon_reviews_us_Watches_v1_00-sample'.A64>,\n",
       " <Cell 'amazon_reviews_us_Watches_v1_00-sample'.A65>,\n",
       " <Cell 'amazon_reviews_us_Watches_v1_00-sample'.A66>,\n",
       " <Cell 'amazon_reviews_us_Watches_v1_00-sample'.A67>,\n",
       " <Cell 'amazon_reviews_us_Watches_v1_00-sample'.A68>,\n",
       " <Cell 'amazon_reviews_us_Watches_v1_00-sample'.A69>,\n",
       " <Cell 'amazon_reviews_us_Watches_v1_00-sample'.A70>,\n",
       " <Cell 'amazon_reviews_us_Watches_v1_00-sample'.A71>,\n",
       " <Cell 'amazon_reviews_us_Watches_v1_00-sample'.A72>,\n",
       " <Cell 'amazon_reviews_us_Watches_v1_00-sample'.A73>,\n",
       " <Cell 'amazon_reviews_us_Watches_v1_00-sample'.A74>,\n",
       " <Cell 'amazon_reviews_us_Watches_v1_00-sample'.A75>,\n",
       " <Cell 'amazon_reviews_us_Watches_v1_00-sample'.A76>,\n",
       " <Cell 'amazon_reviews_us_Watches_v1_00-sample'.A77>,\n",
       " <Cell 'amazon_reviews_us_Watches_v1_00-sample'.A78>,\n",
       " <Cell 'amazon_reviews_us_Watches_v1_00-sample'.A79>,\n",
       " <Cell 'amazon_reviews_us_Watches_v1_00-sample'.A80>,\n",
       " <Cell 'amazon_reviews_us_Watches_v1_00-sample'.A81>,\n",
       " <Cell 'amazon_reviews_us_Watches_v1_00-sample'.A82>,\n",
       " <Cell 'amazon_reviews_us_Watches_v1_00-sample'.A83>,\n",
       " <Cell 'amazon_reviews_us_Watches_v1_00-sample'.A84>,\n",
       " <Cell 'amazon_reviews_us_Watches_v1_00-sample'.A85>,\n",
       " <Cell 'amazon_reviews_us_Watches_v1_00-sample'.A86>,\n",
       " <Cell 'amazon_reviews_us_Watches_v1_00-sample'.A87>,\n",
       " <Cell 'amazon_reviews_us_Watches_v1_00-sample'.A88>,\n",
       " <Cell 'amazon_reviews_us_Watches_v1_00-sample'.A89>,\n",
       " <Cell 'amazon_reviews_us_Watches_v1_00-sample'.A90>,\n",
       " <Cell 'amazon_reviews_us_Watches_v1_00-sample'.A91>,\n",
       " <Cell 'amazon_reviews_us_Watches_v1_00-sample'.A92>,\n",
       " <Cell 'amazon_reviews_us_Watches_v1_00-sample'.A93>,\n",
       " <Cell 'amazon_reviews_us_Watches_v1_00-sample'.A94>,\n",
       " <Cell 'amazon_reviews_us_Watches_v1_00-sample'.A95>,\n",
       " <Cell 'amazon_reviews_us_Watches_v1_00-sample'.A96>,\n",
       " <Cell 'amazon_reviews_us_Watches_v1_00-sample'.A97>,\n",
       " <Cell 'amazon_reviews_us_Watches_v1_00-sample'.A98>,\n",
       " <Cell 'amazon_reviews_us_Watches_v1_00-sample'.A99>,\n",
       " <Cell 'amazon_reviews_us_Watches_v1_00-sample'.A100>)"
      ]
     },
     "execution_count": 14,
     "metadata": {},
     "output_type": "execute_result"
    }
   ],
   "source": [
    "sheet[\"A\"]"
   ]
  },
  {
   "cell_type": "code",
   "execution_count": 15,
   "metadata": {},
   "outputs": [
    {
     "data": {
      "text/plain": [
       "((<Cell 'amazon_reviews_us_Watches_v1_00-sample'.A1>,\n",
       "  <Cell 'amazon_reviews_us_Watches_v1_00-sample'.A2>,\n",
       "  <Cell 'amazon_reviews_us_Watches_v1_00-sample'.A3>,\n",
       "  <Cell 'amazon_reviews_us_Watches_v1_00-sample'.A4>,\n",
       "  <Cell 'amazon_reviews_us_Watches_v1_00-sample'.A5>,\n",
       "  <Cell 'amazon_reviews_us_Watches_v1_00-sample'.A6>,\n",
       "  <Cell 'amazon_reviews_us_Watches_v1_00-sample'.A7>,\n",
       "  <Cell 'amazon_reviews_us_Watches_v1_00-sample'.A8>,\n",
       "  <Cell 'amazon_reviews_us_Watches_v1_00-sample'.A9>,\n",
       "  <Cell 'amazon_reviews_us_Watches_v1_00-sample'.A10>,\n",
       "  <Cell 'amazon_reviews_us_Watches_v1_00-sample'.A11>,\n",
       "  <Cell 'amazon_reviews_us_Watches_v1_00-sample'.A12>,\n",
       "  <Cell 'amazon_reviews_us_Watches_v1_00-sample'.A13>,\n",
       "  <Cell 'amazon_reviews_us_Watches_v1_00-sample'.A14>,\n",
       "  <Cell 'amazon_reviews_us_Watches_v1_00-sample'.A15>,\n",
       "  <Cell 'amazon_reviews_us_Watches_v1_00-sample'.A16>,\n",
       "  <Cell 'amazon_reviews_us_Watches_v1_00-sample'.A17>,\n",
       "  <Cell 'amazon_reviews_us_Watches_v1_00-sample'.A18>,\n",
       "  <Cell 'amazon_reviews_us_Watches_v1_00-sample'.A19>,\n",
       "  <Cell 'amazon_reviews_us_Watches_v1_00-sample'.A20>,\n",
       "  <Cell 'amazon_reviews_us_Watches_v1_00-sample'.A21>,\n",
       "  <Cell 'amazon_reviews_us_Watches_v1_00-sample'.A22>,\n",
       "  <Cell 'amazon_reviews_us_Watches_v1_00-sample'.A23>,\n",
       "  <Cell 'amazon_reviews_us_Watches_v1_00-sample'.A24>,\n",
       "  <Cell 'amazon_reviews_us_Watches_v1_00-sample'.A25>,\n",
       "  <Cell 'amazon_reviews_us_Watches_v1_00-sample'.A26>,\n",
       "  <Cell 'amazon_reviews_us_Watches_v1_00-sample'.A27>,\n",
       "  <Cell 'amazon_reviews_us_Watches_v1_00-sample'.A28>,\n",
       "  <Cell 'amazon_reviews_us_Watches_v1_00-sample'.A29>,\n",
       "  <Cell 'amazon_reviews_us_Watches_v1_00-sample'.A30>,\n",
       "  <Cell 'amazon_reviews_us_Watches_v1_00-sample'.A31>,\n",
       "  <Cell 'amazon_reviews_us_Watches_v1_00-sample'.A32>,\n",
       "  <Cell 'amazon_reviews_us_Watches_v1_00-sample'.A33>,\n",
       "  <Cell 'amazon_reviews_us_Watches_v1_00-sample'.A34>,\n",
       "  <Cell 'amazon_reviews_us_Watches_v1_00-sample'.A35>,\n",
       "  <Cell 'amazon_reviews_us_Watches_v1_00-sample'.A36>,\n",
       "  <Cell 'amazon_reviews_us_Watches_v1_00-sample'.A37>,\n",
       "  <Cell 'amazon_reviews_us_Watches_v1_00-sample'.A38>,\n",
       "  <Cell 'amazon_reviews_us_Watches_v1_00-sample'.A39>,\n",
       "  <Cell 'amazon_reviews_us_Watches_v1_00-sample'.A40>,\n",
       "  <Cell 'amazon_reviews_us_Watches_v1_00-sample'.A41>,\n",
       "  <Cell 'amazon_reviews_us_Watches_v1_00-sample'.A42>,\n",
       "  <Cell 'amazon_reviews_us_Watches_v1_00-sample'.A43>,\n",
       "  <Cell 'amazon_reviews_us_Watches_v1_00-sample'.A44>,\n",
       "  <Cell 'amazon_reviews_us_Watches_v1_00-sample'.A45>,\n",
       "  <Cell 'amazon_reviews_us_Watches_v1_00-sample'.A46>,\n",
       "  <Cell 'amazon_reviews_us_Watches_v1_00-sample'.A47>,\n",
       "  <Cell 'amazon_reviews_us_Watches_v1_00-sample'.A48>,\n",
       "  <Cell 'amazon_reviews_us_Watches_v1_00-sample'.A49>,\n",
       "  <Cell 'amazon_reviews_us_Watches_v1_00-sample'.A50>,\n",
       "  <Cell 'amazon_reviews_us_Watches_v1_00-sample'.A51>,\n",
       "  <Cell 'amazon_reviews_us_Watches_v1_00-sample'.A52>,\n",
       "  <Cell 'amazon_reviews_us_Watches_v1_00-sample'.A53>,\n",
       "  <Cell 'amazon_reviews_us_Watches_v1_00-sample'.A54>,\n",
       "  <Cell 'amazon_reviews_us_Watches_v1_00-sample'.A55>,\n",
       "  <Cell 'amazon_reviews_us_Watches_v1_00-sample'.A56>,\n",
       "  <Cell 'amazon_reviews_us_Watches_v1_00-sample'.A57>,\n",
       "  <Cell 'amazon_reviews_us_Watches_v1_00-sample'.A58>,\n",
       "  <Cell 'amazon_reviews_us_Watches_v1_00-sample'.A59>,\n",
       "  <Cell 'amazon_reviews_us_Watches_v1_00-sample'.A60>,\n",
       "  <Cell 'amazon_reviews_us_Watches_v1_00-sample'.A61>,\n",
       "  <Cell 'amazon_reviews_us_Watches_v1_00-sample'.A62>,\n",
       "  <Cell 'amazon_reviews_us_Watches_v1_00-sample'.A63>,\n",
       "  <Cell 'amazon_reviews_us_Watches_v1_00-sample'.A64>,\n",
       "  <Cell 'amazon_reviews_us_Watches_v1_00-sample'.A65>,\n",
       "  <Cell 'amazon_reviews_us_Watches_v1_00-sample'.A66>,\n",
       "  <Cell 'amazon_reviews_us_Watches_v1_00-sample'.A67>,\n",
       "  <Cell 'amazon_reviews_us_Watches_v1_00-sample'.A68>,\n",
       "  <Cell 'amazon_reviews_us_Watches_v1_00-sample'.A69>,\n",
       "  <Cell 'amazon_reviews_us_Watches_v1_00-sample'.A70>,\n",
       "  <Cell 'amazon_reviews_us_Watches_v1_00-sample'.A71>,\n",
       "  <Cell 'amazon_reviews_us_Watches_v1_00-sample'.A72>,\n",
       "  <Cell 'amazon_reviews_us_Watches_v1_00-sample'.A73>,\n",
       "  <Cell 'amazon_reviews_us_Watches_v1_00-sample'.A74>,\n",
       "  <Cell 'amazon_reviews_us_Watches_v1_00-sample'.A75>,\n",
       "  <Cell 'amazon_reviews_us_Watches_v1_00-sample'.A76>,\n",
       "  <Cell 'amazon_reviews_us_Watches_v1_00-sample'.A77>,\n",
       "  <Cell 'amazon_reviews_us_Watches_v1_00-sample'.A78>,\n",
       "  <Cell 'amazon_reviews_us_Watches_v1_00-sample'.A79>,\n",
       "  <Cell 'amazon_reviews_us_Watches_v1_00-sample'.A80>,\n",
       "  <Cell 'amazon_reviews_us_Watches_v1_00-sample'.A81>,\n",
       "  <Cell 'amazon_reviews_us_Watches_v1_00-sample'.A82>,\n",
       "  <Cell 'amazon_reviews_us_Watches_v1_00-sample'.A83>,\n",
       "  <Cell 'amazon_reviews_us_Watches_v1_00-sample'.A84>,\n",
       "  <Cell 'amazon_reviews_us_Watches_v1_00-sample'.A85>,\n",
       "  <Cell 'amazon_reviews_us_Watches_v1_00-sample'.A86>,\n",
       "  <Cell 'amazon_reviews_us_Watches_v1_00-sample'.A87>,\n",
       "  <Cell 'amazon_reviews_us_Watches_v1_00-sample'.A88>,\n",
       "  <Cell 'amazon_reviews_us_Watches_v1_00-sample'.A89>,\n",
       "  <Cell 'amazon_reviews_us_Watches_v1_00-sample'.A90>,\n",
       "  <Cell 'amazon_reviews_us_Watches_v1_00-sample'.A91>,\n",
       "  <Cell 'amazon_reviews_us_Watches_v1_00-sample'.A92>,\n",
       "  <Cell 'amazon_reviews_us_Watches_v1_00-sample'.A93>,\n",
       "  <Cell 'amazon_reviews_us_Watches_v1_00-sample'.A94>,\n",
       "  <Cell 'amazon_reviews_us_Watches_v1_00-sample'.A95>,\n",
       "  <Cell 'amazon_reviews_us_Watches_v1_00-sample'.A96>,\n",
       "  <Cell 'amazon_reviews_us_Watches_v1_00-sample'.A97>,\n",
       "  <Cell 'amazon_reviews_us_Watches_v1_00-sample'.A98>,\n",
       "  <Cell 'amazon_reviews_us_Watches_v1_00-sample'.A99>,\n",
       "  <Cell 'amazon_reviews_us_Watches_v1_00-sample'.A100>),\n",
       " (<Cell 'amazon_reviews_us_Watches_v1_00-sample'.B1>,\n",
       "  <Cell 'amazon_reviews_us_Watches_v1_00-sample'.B2>,\n",
       "  <Cell 'amazon_reviews_us_Watches_v1_00-sample'.B3>,\n",
       "  <Cell 'amazon_reviews_us_Watches_v1_00-sample'.B4>,\n",
       "  <Cell 'amazon_reviews_us_Watches_v1_00-sample'.B5>,\n",
       "  <Cell 'amazon_reviews_us_Watches_v1_00-sample'.B6>,\n",
       "  <Cell 'amazon_reviews_us_Watches_v1_00-sample'.B7>,\n",
       "  <Cell 'amazon_reviews_us_Watches_v1_00-sample'.B8>,\n",
       "  <Cell 'amazon_reviews_us_Watches_v1_00-sample'.B9>,\n",
       "  <Cell 'amazon_reviews_us_Watches_v1_00-sample'.B10>,\n",
       "  <Cell 'amazon_reviews_us_Watches_v1_00-sample'.B11>,\n",
       "  <Cell 'amazon_reviews_us_Watches_v1_00-sample'.B12>,\n",
       "  <Cell 'amazon_reviews_us_Watches_v1_00-sample'.B13>,\n",
       "  <Cell 'amazon_reviews_us_Watches_v1_00-sample'.B14>,\n",
       "  <Cell 'amazon_reviews_us_Watches_v1_00-sample'.B15>,\n",
       "  <Cell 'amazon_reviews_us_Watches_v1_00-sample'.B16>,\n",
       "  <Cell 'amazon_reviews_us_Watches_v1_00-sample'.B17>,\n",
       "  <Cell 'amazon_reviews_us_Watches_v1_00-sample'.B18>,\n",
       "  <Cell 'amazon_reviews_us_Watches_v1_00-sample'.B19>,\n",
       "  <Cell 'amazon_reviews_us_Watches_v1_00-sample'.B20>,\n",
       "  <Cell 'amazon_reviews_us_Watches_v1_00-sample'.B21>,\n",
       "  <Cell 'amazon_reviews_us_Watches_v1_00-sample'.B22>,\n",
       "  <Cell 'amazon_reviews_us_Watches_v1_00-sample'.B23>,\n",
       "  <Cell 'amazon_reviews_us_Watches_v1_00-sample'.B24>,\n",
       "  <Cell 'amazon_reviews_us_Watches_v1_00-sample'.B25>,\n",
       "  <Cell 'amazon_reviews_us_Watches_v1_00-sample'.B26>,\n",
       "  <Cell 'amazon_reviews_us_Watches_v1_00-sample'.B27>,\n",
       "  <Cell 'amazon_reviews_us_Watches_v1_00-sample'.B28>,\n",
       "  <Cell 'amazon_reviews_us_Watches_v1_00-sample'.B29>,\n",
       "  <Cell 'amazon_reviews_us_Watches_v1_00-sample'.B30>,\n",
       "  <Cell 'amazon_reviews_us_Watches_v1_00-sample'.B31>,\n",
       "  <Cell 'amazon_reviews_us_Watches_v1_00-sample'.B32>,\n",
       "  <Cell 'amazon_reviews_us_Watches_v1_00-sample'.B33>,\n",
       "  <Cell 'amazon_reviews_us_Watches_v1_00-sample'.B34>,\n",
       "  <Cell 'amazon_reviews_us_Watches_v1_00-sample'.B35>,\n",
       "  <Cell 'amazon_reviews_us_Watches_v1_00-sample'.B36>,\n",
       "  <Cell 'amazon_reviews_us_Watches_v1_00-sample'.B37>,\n",
       "  <Cell 'amazon_reviews_us_Watches_v1_00-sample'.B38>,\n",
       "  <Cell 'amazon_reviews_us_Watches_v1_00-sample'.B39>,\n",
       "  <Cell 'amazon_reviews_us_Watches_v1_00-sample'.B40>,\n",
       "  <Cell 'amazon_reviews_us_Watches_v1_00-sample'.B41>,\n",
       "  <Cell 'amazon_reviews_us_Watches_v1_00-sample'.B42>,\n",
       "  <Cell 'amazon_reviews_us_Watches_v1_00-sample'.B43>,\n",
       "  <Cell 'amazon_reviews_us_Watches_v1_00-sample'.B44>,\n",
       "  <Cell 'amazon_reviews_us_Watches_v1_00-sample'.B45>,\n",
       "  <Cell 'amazon_reviews_us_Watches_v1_00-sample'.B46>,\n",
       "  <Cell 'amazon_reviews_us_Watches_v1_00-sample'.B47>,\n",
       "  <Cell 'amazon_reviews_us_Watches_v1_00-sample'.B48>,\n",
       "  <Cell 'amazon_reviews_us_Watches_v1_00-sample'.B49>,\n",
       "  <Cell 'amazon_reviews_us_Watches_v1_00-sample'.B50>,\n",
       "  <Cell 'amazon_reviews_us_Watches_v1_00-sample'.B51>,\n",
       "  <Cell 'amazon_reviews_us_Watches_v1_00-sample'.B52>,\n",
       "  <Cell 'amazon_reviews_us_Watches_v1_00-sample'.B53>,\n",
       "  <Cell 'amazon_reviews_us_Watches_v1_00-sample'.B54>,\n",
       "  <Cell 'amazon_reviews_us_Watches_v1_00-sample'.B55>,\n",
       "  <Cell 'amazon_reviews_us_Watches_v1_00-sample'.B56>,\n",
       "  <Cell 'amazon_reviews_us_Watches_v1_00-sample'.B57>,\n",
       "  <Cell 'amazon_reviews_us_Watches_v1_00-sample'.B58>,\n",
       "  <Cell 'amazon_reviews_us_Watches_v1_00-sample'.B59>,\n",
       "  <Cell 'amazon_reviews_us_Watches_v1_00-sample'.B60>,\n",
       "  <Cell 'amazon_reviews_us_Watches_v1_00-sample'.B61>,\n",
       "  <Cell 'amazon_reviews_us_Watches_v1_00-sample'.B62>,\n",
       "  <Cell 'amazon_reviews_us_Watches_v1_00-sample'.B63>,\n",
       "  <Cell 'amazon_reviews_us_Watches_v1_00-sample'.B64>,\n",
       "  <Cell 'amazon_reviews_us_Watches_v1_00-sample'.B65>,\n",
       "  <Cell 'amazon_reviews_us_Watches_v1_00-sample'.B66>,\n",
       "  <Cell 'amazon_reviews_us_Watches_v1_00-sample'.B67>,\n",
       "  <Cell 'amazon_reviews_us_Watches_v1_00-sample'.B68>,\n",
       "  <Cell 'amazon_reviews_us_Watches_v1_00-sample'.B69>,\n",
       "  <Cell 'amazon_reviews_us_Watches_v1_00-sample'.B70>,\n",
       "  <Cell 'amazon_reviews_us_Watches_v1_00-sample'.B71>,\n",
       "  <Cell 'amazon_reviews_us_Watches_v1_00-sample'.B72>,\n",
       "  <Cell 'amazon_reviews_us_Watches_v1_00-sample'.B73>,\n",
       "  <Cell 'amazon_reviews_us_Watches_v1_00-sample'.B74>,\n",
       "  <Cell 'amazon_reviews_us_Watches_v1_00-sample'.B75>,\n",
       "  <Cell 'amazon_reviews_us_Watches_v1_00-sample'.B76>,\n",
       "  <Cell 'amazon_reviews_us_Watches_v1_00-sample'.B77>,\n",
       "  <Cell 'amazon_reviews_us_Watches_v1_00-sample'.B78>,\n",
       "  <Cell 'amazon_reviews_us_Watches_v1_00-sample'.B79>,\n",
       "  <Cell 'amazon_reviews_us_Watches_v1_00-sample'.B80>,\n",
       "  <Cell 'amazon_reviews_us_Watches_v1_00-sample'.B81>,\n",
       "  <Cell 'amazon_reviews_us_Watches_v1_00-sample'.B82>,\n",
       "  <Cell 'amazon_reviews_us_Watches_v1_00-sample'.B83>,\n",
       "  <Cell 'amazon_reviews_us_Watches_v1_00-sample'.B84>,\n",
       "  <Cell 'amazon_reviews_us_Watches_v1_00-sample'.B85>,\n",
       "  <Cell 'amazon_reviews_us_Watches_v1_00-sample'.B86>,\n",
       "  <Cell 'amazon_reviews_us_Watches_v1_00-sample'.B87>,\n",
       "  <Cell 'amazon_reviews_us_Watches_v1_00-sample'.B88>,\n",
       "  <Cell 'amazon_reviews_us_Watches_v1_00-sample'.B89>,\n",
       "  <Cell 'amazon_reviews_us_Watches_v1_00-sample'.B90>,\n",
       "  <Cell 'amazon_reviews_us_Watches_v1_00-sample'.B91>,\n",
       "  <Cell 'amazon_reviews_us_Watches_v1_00-sample'.B92>,\n",
       "  <Cell 'amazon_reviews_us_Watches_v1_00-sample'.B93>,\n",
       "  <Cell 'amazon_reviews_us_Watches_v1_00-sample'.B94>,\n",
       "  <Cell 'amazon_reviews_us_Watches_v1_00-sample'.B95>,\n",
       "  <Cell 'amazon_reviews_us_Watches_v1_00-sample'.B96>,\n",
       "  <Cell 'amazon_reviews_us_Watches_v1_00-sample'.B97>,\n",
       "  <Cell 'amazon_reviews_us_Watches_v1_00-sample'.B98>,\n",
       "  <Cell 'amazon_reviews_us_Watches_v1_00-sample'.B99>,\n",
       "  <Cell 'amazon_reviews_us_Watches_v1_00-sample'.B100>))"
      ]
     },
     "execution_count": 15,
     "metadata": {},
     "output_type": "execute_result"
    }
   ],
   "source": [
    "sheet['A:B']"
   ]
  },
  {
   "cell_type": "code",
   "execution_count": 16,
   "metadata": {},
   "outputs": [
    {
     "data": {
      "text/plain": [
       "(<Cell 'amazon_reviews_us_Watches_v1_00-sample'.A5>,\n",
       " <Cell 'amazon_reviews_us_Watches_v1_00-sample'.B5>,\n",
       " <Cell 'amazon_reviews_us_Watches_v1_00-sample'.C5>,\n",
       " <Cell 'amazon_reviews_us_Watches_v1_00-sample'.D5>,\n",
       " <Cell 'amazon_reviews_us_Watches_v1_00-sample'.E5>,\n",
       " <Cell 'amazon_reviews_us_Watches_v1_00-sample'.F5>,\n",
       " <Cell 'amazon_reviews_us_Watches_v1_00-sample'.G5>,\n",
       " <Cell 'amazon_reviews_us_Watches_v1_00-sample'.H5>,\n",
       " <Cell 'amazon_reviews_us_Watches_v1_00-sample'.I5>,\n",
       " <Cell 'amazon_reviews_us_Watches_v1_00-sample'.J5>,\n",
       " <Cell 'amazon_reviews_us_Watches_v1_00-sample'.K5>,\n",
       " <Cell 'amazon_reviews_us_Watches_v1_00-sample'.L5>,\n",
       " <Cell 'amazon_reviews_us_Watches_v1_00-sample'.M5>,\n",
       " <Cell 'amazon_reviews_us_Watches_v1_00-sample'.N5>,\n",
       " <Cell 'amazon_reviews_us_Watches_v1_00-sample'.O5>)"
      ]
     },
     "execution_count": 16,
     "metadata": {},
     "output_type": "execute_result"
    }
   ],
   "source": [
    "sheet[5]"
   ]
  },
  {
   "cell_type": "code",
   "execution_count": 17,
   "metadata": {},
   "outputs": [
    {
     "data": {
      "text/plain": [
       "((<Cell 'amazon_reviews_us_Watches_v1_00-sample'.A5>,\n",
       "  <Cell 'amazon_reviews_us_Watches_v1_00-sample'.B5>,\n",
       "  <Cell 'amazon_reviews_us_Watches_v1_00-sample'.C5>,\n",
       "  <Cell 'amazon_reviews_us_Watches_v1_00-sample'.D5>,\n",
       "  <Cell 'amazon_reviews_us_Watches_v1_00-sample'.E5>,\n",
       "  <Cell 'amazon_reviews_us_Watches_v1_00-sample'.F5>,\n",
       "  <Cell 'amazon_reviews_us_Watches_v1_00-sample'.G5>,\n",
       "  <Cell 'amazon_reviews_us_Watches_v1_00-sample'.H5>,\n",
       "  <Cell 'amazon_reviews_us_Watches_v1_00-sample'.I5>,\n",
       "  <Cell 'amazon_reviews_us_Watches_v1_00-sample'.J5>,\n",
       "  <Cell 'amazon_reviews_us_Watches_v1_00-sample'.K5>,\n",
       "  <Cell 'amazon_reviews_us_Watches_v1_00-sample'.L5>,\n",
       "  <Cell 'amazon_reviews_us_Watches_v1_00-sample'.M5>,\n",
       "  <Cell 'amazon_reviews_us_Watches_v1_00-sample'.N5>,\n",
       "  <Cell 'amazon_reviews_us_Watches_v1_00-sample'.O5>),\n",
       " (<Cell 'amazon_reviews_us_Watches_v1_00-sample'.A6>,\n",
       "  <Cell 'amazon_reviews_us_Watches_v1_00-sample'.B6>,\n",
       "  <Cell 'amazon_reviews_us_Watches_v1_00-sample'.C6>,\n",
       "  <Cell 'amazon_reviews_us_Watches_v1_00-sample'.D6>,\n",
       "  <Cell 'amazon_reviews_us_Watches_v1_00-sample'.E6>,\n",
       "  <Cell 'amazon_reviews_us_Watches_v1_00-sample'.F6>,\n",
       "  <Cell 'amazon_reviews_us_Watches_v1_00-sample'.G6>,\n",
       "  <Cell 'amazon_reviews_us_Watches_v1_00-sample'.H6>,\n",
       "  <Cell 'amazon_reviews_us_Watches_v1_00-sample'.I6>,\n",
       "  <Cell 'amazon_reviews_us_Watches_v1_00-sample'.J6>,\n",
       "  <Cell 'amazon_reviews_us_Watches_v1_00-sample'.K6>,\n",
       "  <Cell 'amazon_reviews_us_Watches_v1_00-sample'.L6>,\n",
       "  <Cell 'amazon_reviews_us_Watches_v1_00-sample'.M6>,\n",
       "  <Cell 'amazon_reviews_us_Watches_v1_00-sample'.N6>,\n",
       "  <Cell 'amazon_reviews_us_Watches_v1_00-sample'.O6>))"
      ]
     },
     "execution_count": 17,
     "metadata": {},
     "output_type": "execute_result"
    }
   ],
   "source": [
    "sheet[5:6]"
   ]
  },
  {
   "cell_type": "markdown",
   "metadata": {},
   "source": [
    "You’ll notice that all of the above examples return a `tuple`."
   ]
  },
  {
   "cell_type": "markdown",
   "metadata": {},
   "source": [
    "There are also multiple ways of using normal Python generators to go through the data. The main methods you can use to achieve this are:\n",
    "\n",
    "- `.iter_rows()`\n",
    "- `.iter_cols()`"
   ]
  },
  {
   "cell_type": "markdown",
   "metadata": {},
   "source": [
    "Both methods can receive the following arguments:\n",
    "\n",
    "- `min_row`\n",
    "- `max_row`\n",
    "- `min_col`\n",
    "- `max_col`"
   ]
  },
  {
   "cell_type": "markdown",
   "metadata": {},
   "source": [
    "These arguments are used to set boundaries for the iteration:"
   ]
  },
  {
   "cell_type": "code",
   "execution_count": 18,
   "metadata": {},
   "outputs": [
    {
     "name": "stdout",
     "output_type": "stream",
     "text": [
      "(<Cell 'amazon_reviews_us_Watches_v1_00-sample'.A1>, <Cell 'amazon_reviews_us_Watches_v1_00-sample'.B1>, <Cell 'amazon_reviews_us_Watches_v1_00-sample'.C1>)\n",
      "(<Cell 'amazon_reviews_us_Watches_v1_00-sample'.A2>, <Cell 'amazon_reviews_us_Watches_v1_00-sample'.B2>, <Cell 'amazon_reviews_us_Watches_v1_00-sample'.C2>)\n"
     ]
    }
   ],
   "source": [
    "for row in sheet.iter_rows(min_row=1, max_row=2, min_col=1, max_col=3):\n",
    "    print(row)"
   ]
  },
  {
   "cell_type": "code",
   "execution_count": 19,
   "metadata": {},
   "outputs": [
    {
     "name": "stdout",
     "output_type": "stream",
     "text": [
      "(<Cell 'amazon_reviews_us_Watches_v1_00-sample'.A1>, <Cell 'amazon_reviews_us_Watches_v1_00-sample'.A2>)\n",
      "(<Cell 'amazon_reviews_us_Watches_v1_00-sample'.B1>, <Cell 'amazon_reviews_us_Watches_v1_00-sample'.B2>)\n",
      "(<Cell 'amazon_reviews_us_Watches_v1_00-sample'.C1>, <Cell 'amazon_reviews_us_Watches_v1_00-sample'.C2>)\n"
     ]
    }
   ],
   "source": [
    "for column in sheet.iter_cols(min_row=1, max_row=2, min_col=1, max_col=3):\n",
    "    print(column)"
   ]
  },
  {
   "cell_type": "markdown",
   "metadata": {},
   "source": [
    "You’ll notice that in the first example, when iterating through the rows using `.iter_rows()`, you get one tuple element per row selected. While when using `.iter_cols()` and iterating through columns, you’ll get one tuple per column instead."
   ]
  },
  {
   "cell_type": "markdown",
   "metadata": {},
   "source": [
    "One additional argument you can pass to both methods is the Boolean `values_only`. When it’s set to True, the values of the cell are returned, instead of the Cell object:"
   ]
  },
  {
   "cell_type": "code",
   "execution_count": 20,
   "metadata": {},
   "outputs": [
    {
     "name": "stdout",
     "output_type": "stream",
     "text": [
      "('marketplace', 'customer_id', 'review_id')\n",
      "('US', 3653882, 'R3O9SGZBVQBV76')\n"
     ]
    }
   ],
   "source": [
    "for value in sheet.iter_rows(min_row=1, max_row=2, min_col=1, max_col=3, values_only=True):\n",
    "    print(value)"
   ]
  },
  {
   "cell_type": "markdown",
   "metadata": {},
   "source": [
    "If you want to iterate through the whole dataset, then you can also use the attributes `.rows` or `.columns` directly, which are shortcuts to using `.iter_rows()` and `.iter_cols()` without any arguments:"
   ]
  },
  {
   "cell_type": "code",
   "execution_count": 21,
   "metadata": {},
   "outputs": [
    {
     "name": "stdout",
     "output_type": "stream",
     "text": [
      "(<Cell 'amazon_reviews_us_Watches_v1_00-sample'.A1>, <Cell 'amazon_reviews_us_Watches_v1_00-sample'.B1>, <Cell 'amazon_reviews_us_Watches_v1_00-sample'.C1>, <Cell 'amazon_reviews_us_Watches_v1_00-sample'.D1>, <Cell 'amazon_reviews_us_Watches_v1_00-sample'.E1>, <Cell 'amazon_reviews_us_Watches_v1_00-sample'.F1>, <Cell 'amazon_reviews_us_Watches_v1_00-sample'.G1>, <Cell 'amazon_reviews_us_Watches_v1_00-sample'.H1>, <Cell 'amazon_reviews_us_Watches_v1_00-sample'.I1>, <Cell 'amazon_reviews_us_Watches_v1_00-sample'.J1>, <Cell 'amazon_reviews_us_Watches_v1_00-sample'.K1>, <Cell 'amazon_reviews_us_Watches_v1_00-sample'.L1>, <Cell 'amazon_reviews_us_Watches_v1_00-sample'.M1>, <Cell 'amazon_reviews_us_Watches_v1_00-sample'.N1>, <Cell 'amazon_reviews_us_Watches_v1_00-sample'.O1>)\n",
      "(<Cell 'amazon_reviews_us_Watches_v1_00-sample'.A2>, <Cell 'amazon_reviews_us_Watches_v1_00-sample'.B2>, <Cell 'amazon_reviews_us_Watches_v1_00-sample'.C2>, <Cell 'amazon_reviews_us_Watches_v1_00-sample'.D2>, <Cell 'amazon_reviews_us_Watches_v1_00-sample'.E2>, <Cell 'amazon_reviews_us_Watches_v1_00-sample'.F2>, <Cell 'amazon_reviews_us_Watches_v1_00-sample'.G2>, <Cell 'amazon_reviews_us_Watches_v1_00-sample'.H2>, <Cell 'amazon_reviews_us_Watches_v1_00-sample'.I2>, <Cell 'amazon_reviews_us_Watches_v1_00-sample'.J2>, <Cell 'amazon_reviews_us_Watches_v1_00-sample'.K2>, <Cell 'amazon_reviews_us_Watches_v1_00-sample'.L2>, <Cell 'amazon_reviews_us_Watches_v1_00-sample'.M2>, <Cell 'amazon_reviews_us_Watches_v1_00-sample'.N2>, <Cell 'amazon_reviews_us_Watches_v1_00-sample'.O2>)\n",
      "(<Cell 'amazon_reviews_us_Watches_v1_00-sample'.A3>, <Cell 'amazon_reviews_us_Watches_v1_00-sample'.B3>, <Cell 'amazon_reviews_us_Watches_v1_00-sample'.C3>, <Cell 'amazon_reviews_us_Watches_v1_00-sample'.D3>, <Cell 'amazon_reviews_us_Watches_v1_00-sample'.E3>, <Cell 'amazon_reviews_us_Watches_v1_00-sample'.F3>, <Cell 'amazon_reviews_us_Watches_v1_00-sample'.G3>, <Cell 'amazon_reviews_us_Watches_v1_00-sample'.H3>, <Cell 'amazon_reviews_us_Watches_v1_00-sample'.I3>, <Cell 'amazon_reviews_us_Watches_v1_00-sample'.J3>, <Cell 'amazon_reviews_us_Watches_v1_00-sample'.K3>, <Cell 'amazon_reviews_us_Watches_v1_00-sample'.L3>, <Cell 'amazon_reviews_us_Watches_v1_00-sample'.M3>, <Cell 'amazon_reviews_us_Watches_v1_00-sample'.N3>, <Cell 'amazon_reviews_us_Watches_v1_00-sample'.O3>)\n",
      "(<Cell 'amazon_reviews_us_Watches_v1_00-sample'.A4>, <Cell 'amazon_reviews_us_Watches_v1_00-sample'.B4>, <Cell 'amazon_reviews_us_Watches_v1_00-sample'.C4>, <Cell 'amazon_reviews_us_Watches_v1_00-sample'.D4>, <Cell 'amazon_reviews_us_Watches_v1_00-sample'.E4>, <Cell 'amazon_reviews_us_Watches_v1_00-sample'.F4>, <Cell 'amazon_reviews_us_Watches_v1_00-sample'.G4>, <Cell 'amazon_reviews_us_Watches_v1_00-sample'.H4>, <Cell 'amazon_reviews_us_Watches_v1_00-sample'.I4>, <Cell 'amazon_reviews_us_Watches_v1_00-sample'.J4>, <Cell 'amazon_reviews_us_Watches_v1_00-sample'.K4>, <Cell 'amazon_reviews_us_Watches_v1_00-sample'.L4>, <Cell 'amazon_reviews_us_Watches_v1_00-sample'.M4>, <Cell 'amazon_reviews_us_Watches_v1_00-sample'.N4>, <Cell 'amazon_reviews_us_Watches_v1_00-sample'.O4>)\n",
      "(<Cell 'amazon_reviews_us_Watches_v1_00-sample'.A5>, <Cell 'amazon_reviews_us_Watches_v1_00-sample'.B5>, <Cell 'amazon_reviews_us_Watches_v1_00-sample'.C5>, <Cell 'amazon_reviews_us_Watches_v1_00-sample'.D5>, <Cell 'amazon_reviews_us_Watches_v1_00-sample'.E5>, <Cell 'amazon_reviews_us_Watches_v1_00-sample'.F5>, <Cell 'amazon_reviews_us_Watches_v1_00-sample'.G5>, <Cell 'amazon_reviews_us_Watches_v1_00-sample'.H5>, <Cell 'amazon_reviews_us_Watches_v1_00-sample'.I5>, <Cell 'amazon_reviews_us_Watches_v1_00-sample'.J5>, <Cell 'amazon_reviews_us_Watches_v1_00-sample'.K5>, <Cell 'amazon_reviews_us_Watches_v1_00-sample'.L5>, <Cell 'amazon_reviews_us_Watches_v1_00-sample'.M5>, <Cell 'amazon_reviews_us_Watches_v1_00-sample'.N5>, <Cell 'amazon_reviews_us_Watches_v1_00-sample'.O5>)\n",
      "(<Cell 'amazon_reviews_us_Watches_v1_00-sample'.A6>, <Cell 'amazon_reviews_us_Watches_v1_00-sample'.B6>, <Cell 'amazon_reviews_us_Watches_v1_00-sample'.C6>, <Cell 'amazon_reviews_us_Watches_v1_00-sample'.D6>, <Cell 'amazon_reviews_us_Watches_v1_00-sample'.E6>, <Cell 'amazon_reviews_us_Watches_v1_00-sample'.F6>, <Cell 'amazon_reviews_us_Watches_v1_00-sample'.G6>, <Cell 'amazon_reviews_us_Watches_v1_00-sample'.H6>, <Cell 'amazon_reviews_us_Watches_v1_00-sample'.I6>, <Cell 'amazon_reviews_us_Watches_v1_00-sample'.J6>, <Cell 'amazon_reviews_us_Watches_v1_00-sample'.K6>, <Cell 'amazon_reviews_us_Watches_v1_00-sample'.L6>, <Cell 'amazon_reviews_us_Watches_v1_00-sample'.M6>, <Cell 'amazon_reviews_us_Watches_v1_00-sample'.N6>, <Cell 'amazon_reviews_us_Watches_v1_00-sample'.O6>)\n",
      "(<Cell 'amazon_reviews_us_Watches_v1_00-sample'.A7>, <Cell 'amazon_reviews_us_Watches_v1_00-sample'.B7>, <Cell 'amazon_reviews_us_Watches_v1_00-sample'.C7>, <Cell 'amazon_reviews_us_Watches_v1_00-sample'.D7>, <Cell 'amazon_reviews_us_Watches_v1_00-sample'.E7>, <Cell 'amazon_reviews_us_Watches_v1_00-sample'.F7>, <Cell 'amazon_reviews_us_Watches_v1_00-sample'.G7>, <Cell 'amazon_reviews_us_Watches_v1_00-sample'.H7>, <Cell 'amazon_reviews_us_Watches_v1_00-sample'.I7>, <Cell 'amazon_reviews_us_Watches_v1_00-sample'.J7>, <Cell 'amazon_reviews_us_Watches_v1_00-sample'.K7>, <Cell 'amazon_reviews_us_Watches_v1_00-sample'.L7>, <Cell 'amazon_reviews_us_Watches_v1_00-sample'.M7>, <Cell 'amazon_reviews_us_Watches_v1_00-sample'.N7>, <Cell 'amazon_reviews_us_Watches_v1_00-sample'.O7>)\n",
      "(<Cell 'amazon_reviews_us_Watches_v1_00-sample'.A8>, <Cell 'amazon_reviews_us_Watches_v1_00-sample'.B8>, <Cell 'amazon_reviews_us_Watches_v1_00-sample'.C8>, <Cell 'amazon_reviews_us_Watches_v1_00-sample'.D8>, <Cell 'amazon_reviews_us_Watches_v1_00-sample'.E8>, <Cell 'amazon_reviews_us_Watches_v1_00-sample'.F8>, <Cell 'amazon_reviews_us_Watches_v1_00-sample'.G8>, <Cell 'amazon_reviews_us_Watches_v1_00-sample'.H8>, <Cell 'amazon_reviews_us_Watches_v1_00-sample'.I8>, <Cell 'amazon_reviews_us_Watches_v1_00-sample'.J8>, <Cell 'amazon_reviews_us_Watches_v1_00-sample'.K8>, <Cell 'amazon_reviews_us_Watches_v1_00-sample'.L8>, <Cell 'amazon_reviews_us_Watches_v1_00-sample'.M8>, <Cell 'amazon_reviews_us_Watches_v1_00-sample'.N8>, <Cell 'amazon_reviews_us_Watches_v1_00-sample'.O8>)\n",
      "(<Cell 'amazon_reviews_us_Watches_v1_00-sample'.A9>, <Cell 'amazon_reviews_us_Watches_v1_00-sample'.B9>, <Cell 'amazon_reviews_us_Watches_v1_00-sample'.C9>, <Cell 'amazon_reviews_us_Watches_v1_00-sample'.D9>, <Cell 'amazon_reviews_us_Watches_v1_00-sample'.E9>, <Cell 'amazon_reviews_us_Watches_v1_00-sample'.F9>, <Cell 'amazon_reviews_us_Watches_v1_00-sample'.G9>, <Cell 'amazon_reviews_us_Watches_v1_00-sample'.H9>, <Cell 'amazon_reviews_us_Watches_v1_00-sample'.I9>, <Cell 'amazon_reviews_us_Watches_v1_00-sample'.J9>, <Cell 'amazon_reviews_us_Watches_v1_00-sample'.K9>, <Cell 'amazon_reviews_us_Watches_v1_00-sample'.L9>, <Cell 'amazon_reviews_us_Watches_v1_00-sample'.M9>, <Cell 'amazon_reviews_us_Watches_v1_00-sample'.N9>, <Cell 'amazon_reviews_us_Watches_v1_00-sample'.O9>)\n",
      "(<Cell 'amazon_reviews_us_Watches_v1_00-sample'.A10>, <Cell 'amazon_reviews_us_Watches_v1_00-sample'.B10>, <Cell 'amazon_reviews_us_Watches_v1_00-sample'.C10>, <Cell 'amazon_reviews_us_Watches_v1_00-sample'.D10>, <Cell 'amazon_reviews_us_Watches_v1_00-sample'.E10>, <Cell 'amazon_reviews_us_Watches_v1_00-sample'.F10>, <Cell 'amazon_reviews_us_Watches_v1_00-sample'.G10>, <Cell 'amazon_reviews_us_Watches_v1_00-sample'.H10>, <Cell 'amazon_reviews_us_Watches_v1_00-sample'.I10>, <Cell 'amazon_reviews_us_Watches_v1_00-sample'.J10>, <Cell 'amazon_reviews_us_Watches_v1_00-sample'.K10>, <Cell 'amazon_reviews_us_Watches_v1_00-sample'.L10>, <Cell 'amazon_reviews_us_Watches_v1_00-sample'.M10>, <Cell 'amazon_reviews_us_Watches_v1_00-sample'.N10>, <Cell 'amazon_reviews_us_Watches_v1_00-sample'.O10>)\n",
      "(<Cell 'amazon_reviews_us_Watches_v1_00-sample'.A11>, <Cell 'amazon_reviews_us_Watches_v1_00-sample'.B11>, <Cell 'amazon_reviews_us_Watches_v1_00-sample'.C11>, <Cell 'amazon_reviews_us_Watches_v1_00-sample'.D11>, <Cell 'amazon_reviews_us_Watches_v1_00-sample'.E11>, <Cell 'amazon_reviews_us_Watches_v1_00-sample'.F11>, <Cell 'amazon_reviews_us_Watches_v1_00-sample'.G11>, <Cell 'amazon_reviews_us_Watches_v1_00-sample'.H11>, <Cell 'amazon_reviews_us_Watches_v1_00-sample'.I11>, <Cell 'amazon_reviews_us_Watches_v1_00-sample'.J11>, <Cell 'amazon_reviews_us_Watches_v1_00-sample'.K11>, <Cell 'amazon_reviews_us_Watches_v1_00-sample'.L11>, <Cell 'amazon_reviews_us_Watches_v1_00-sample'.M11>, <Cell 'amazon_reviews_us_Watches_v1_00-sample'.N11>, <Cell 'amazon_reviews_us_Watches_v1_00-sample'.O11>)\n",
      "(<Cell 'amazon_reviews_us_Watches_v1_00-sample'.A12>, <Cell 'amazon_reviews_us_Watches_v1_00-sample'.B12>, <Cell 'amazon_reviews_us_Watches_v1_00-sample'.C12>, <Cell 'amazon_reviews_us_Watches_v1_00-sample'.D12>, <Cell 'amazon_reviews_us_Watches_v1_00-sample'.E12>, <Cell 'amazon_reviews_us_Watches_v1_00-sample'.F12>, <Cell 'amazon_reviews_us_Watches_v1_00-sample'.G12>, <Cell 'amazon_reviews_us_Watches_v1_00-sample'.H12>, <Cell 'amazon_reviews_us_Watches_v1_00-sample'.I12>, <Cell 'amazon_reviews_us_Watches_v1_00-sample'.J12>, <Cell 'amazon_reviews_us_Watches_v1_00-sample'.K12>, <Cell 'amazon_reviews_us_Watches_v1_00-sample'.L12>, <Cell 'amazon_reviews_us_Watches_v1_00-sample'.M12>, <Cell 'amazon_reviews_us_Watches_v1_00-sample'.N12>, <Cell 'amazon_reviews_us_Watches_v1_00-sample'.O12>)\n",
      "(<Cell 'amazon_reviews_us_Watches_v1_00-sample'.A13>, <Cell 'amazon_reviews_us_Watches_v1_00-sample'.B13>, <Cell 'amazon_reviews_us_Watches_v1_00-sample'.C13>, <Cell 'amazon_reviews_us_Watches_v1_00-sample'.D13>, <Cell 'amazon_reviews_us_Watches_v1_00-sample'.E13>, <Cell 'amazon_reviews_us_Watches_v1_00-sample'.F13>, <Cell 'amazon_reviews_us_Watches_v1_00-sample'.G13>, <Cell 'amazon_reviews_us_Watches_v1_00-sample'.H13>, <Cell 'amazon_reviews_us_Watches_v1_00-sample'.I13>, <Cell 'amazon_reviews_us_Watches_v1_00-sample'.J13>, <Cell 'amazon_reviews_us_Watches_v1_00-sample'.K13>, <Cell 'amazon_reviews_us_Watches_v1_00-sample'.L13>, <Cell 'amazon_reviews_us_Watches_v1_00-sample'.M13>, <Cell 'amazon_reviews_us_Watches_v1_00-sample'.N13>, <Cell 'amazon_reviews_us_Watches_v1_00-sample'.O13>)\n",
      "(<Cell 'amazon_reviews_us_Watches_v1_00-sample'.A14>, <Cell 'amazon_reviews_us_Watches_v1_00-sample'.B14>, <Cell 'amazon_reviews_us_Watches_v1_00-sample'.C14>, <Cell 'amazon_reviews_us_Watches_v1_00-sample'.D14>, <Cell 'amazon_reviews_us_Watches_v1_00-sample'.E14>, <Cell 'amazon_reviews_us_Watches_v1_00-sample'.F14>, <Cell 'amazon_reviews_us_Watches_v1_00-sample'.G14>, <Cell 'amazon_reviews_us_Watches_v1_00-sample'.H14>, <Cell 'amazon_reviews_us_Watches_v1_00-sample'.I14>, <Cell 'amazon_reviews_us_Watches_v1_00-sample'.J14>, <Cell 'amazon_reviews_us_Watches_v1_00-sample'.K14>, <Cell 'amazon_reviews_us_Watches_v1_00-sample'.L14>, <Cell 'amazon_reviews_us_Watches_v1_00-sample'.M14>, <Cell 'amazon_reviews_us_Watches_v1_00-sample'.N14>, <Cell 'amazon_reviews_us_Watches_v1_00-sample'.O14>)\n",
      "(<Cell 'amazon_reviews_us_Watches_v1_00-sample'.A15>, <Cell 'amazon_reviews_us_Watches_v1_00-sample'.B15>, <Cell 'amazon_reviews_us_Watches_v1_00-sample'.C15>, <Cell 'amazon_reviews_us_Watches_v1_00-sample'.D15>, <Cell 'amazon_reviews_us_Watches_v1_00-sample'.E15>, <Cell 'amazon_reviews_us_Watches_v1_00-sample'.F15>, <Cell 'amazon_reviews_us_Watches_v1_00-sample'.G15>, <Cell 'amazon_reviews_us_Watches_v1_00-sample'.H15>, <Cell 'amazon_reviews_us_Watches_v1_00-sample'.I15>, <Cell 'amazon_reviews_us_Watches_v1_00-sample'.J15>, <Cell 'amazon_reviews_us_Watches_v1_00-sample'.K15>, <Cell 'amazon_reviews_us_Watches_v1_00-sample'.L15>, <Cell 'amazon_reviews_us_Watches_v1_00-sample'.M15>, <Cell 'amazon_reviews_us_Watches_v1_00-sample'.N15>, <Cell 'amazon_reviews_us_Watches_v1_00-sample'.O15>)\n",
      "(<Cell 'amazon_reviews_us_Watches_v1_00-sample'.A16>, <Cell 'amazon_reviews_us_Watches_v1_00-sample'.B16>, <Cell 'amazon_reviews_us_Watches_v1_00-sample'.C16>, <Cell 'amazon_reviews_us_Watches_v1_00-sample'.D16>, <Cell 'amazon_reviews_us_Watches_v1_00-sample'.E16>, <Cell 'amazon_reviews_us_Watches_v1_00-sample'.F16>, <Cell 'amazon_reviews_us_Watches_v1_00-sample'.G16>, <Cell 'amazon_reviews_us_Watches_v1_00-sample'.H16>, <Cell 'amazon_reviews_us_Watches_v1_00-sample'.I16>, <Cell 'amazon_reviews_us_Watches_v1_00-sample'.J16>, <Cell 'amazon_reviews_us_Watches_v1_00-sample'.K16>, <Cell 'amazon_reviews_us_Watches_v1_00-sample'.L16>, <Cell 'amazon_reviews_us_Watches_v1_00-sample'.M16>, <Cell 'amazon_reviews_us_Watches_v1_00-sample'.N16>, <Cell 'amazon_reviews_us_Watches_v1_00-sample'.O16>)\n",
      "(<Cell 'amazon_reviews_us_Watches_v1_00-sample'.A17>, <Cell 'amazon_reviews_us_Watches_v1_00-sample'.B17>, <Cell 'amazon_reviews_us_Watches_v1_00-sample'.C17>, <Cell 'amazon_reviews_us_Watches_v1_00-sample'.D17>, <Cell 'amazon_reviews_us_Watches_v1_00-sample'.E17>, <Cell 'amazon_reviews_us_Watches_v1_00-sample'.F17>, <Cell 'amazon_reviews_us_Watches_v1_00-sample'.G17>, <Cell 'amazon_reviews_us_Watches_v1_00-sample'.H17>, <Cell 'amazon_reviews_us_Watches_v1_00-sample'.I17>, <Cell 'amazon_reviews_us_Watches_v1_00-sample'.J17>, <Cell 'amazon_reviews_us_Watches_v1_00-sample'.K17>, <Cell 'amazon_reviews_us_Watches_v1_00-sample'.L17>, <Cell 'amazon_reviews_us_Watches_v1_00-sample'.M17>, <Cell 'amazon_reviews_us_Watches_v1_00-sample'.N17>, <Cell 'amazon_reviews_us_Watches_v1_00-sample'.O17>)\n",
      "(<Cell 'amazon_reviews_us_Watches_v1_00-sample'.A18>, <Cell 'amazon_reviews_us_Watches_v1_00-sample'.B18>, <Cell 'amazon_reviews_us_Watches_v1_00-sample'.C18>, <Cell 'amazon_reviews_us_Watches_v1_00-sample'.D18>, <Cell 'amazon_reviews_us_Watches_v1_00-sample'.E18>, <Cell 'amazon_reviews_us_Watches_v1_00-sample'.F18>, <Cell 'amazon_reviews_us_Watches_v1_00-sample'.G18>, <Cell 'amazon_reviews_us_Watches_v1_00-sample'.H18>, <Cell 'amazon_reviews_us_Watches_v1_00-sample'.I18>, <Cell 'amazon_reviews_us_Watches_v1_00-sample'.J18>, <Cell 'amazon_reviews_us_Watches_v1_00-sample'.K18>, <Cell 'amazon_reviews_us_Watches_v1_00-sample'.L18>, <Cell 'amazon_reviews_us_Watches_v1_00-sample'.M18>, <Cell 'amazon_reviews_us_Watches_v1_00-sample'.N18>, <Cell 'amazon_reviews_us_Watches_v1_00-sample'.O18>)\n",
      "(<Cell 'amazon_reviews_us_Watches_v1_00-sample'.A19>, <Cell 'amazon_reviews_us_Watches_v1_00-sample'.B19>, <Cell 'amazon_reviews_us_Watches_v1_00-sample'.C19>, <Cell 'amazon_reviews_us_Watches_v1_00-sample'.D19>, <Cell 'amazon_reviews_us_Watches_v1_00-sample'.E19>, <Cell 'amazon_reviews_us_Watches_v1_00-sample'.F19>, <Cell 'amazon_reviews_us_Watches_v1_00-sample'.G19>, <Cell 'amazon_reviews_us_Watches_v1_00-sample'.H19>, <Cell 'amazon_reviews_us_Watches_v1_00-sample'.I19>, <Cell 'amazon_reviews_us_Watches_v1_00-sample'.J19>, <Cell 'amazon_reviews_us_Watches_v1_00-sample'.K19>, <Cell 'amazon_reviews_us_Watches_v1_00-sample'.L19>, <Cell 'amazon_reviews_us_Watches_v1_00-sample'.M19>, <Cell 'amazon_reviews_us_Watches_v1_00-sample'.N19>, <Cell 'amazon_reviews_us_Watches_v1_00-sample'.O19>)\n",
      "(<Cell 'amazon_reviews_us_Watches_v1_00-sample'.A20>, <Cell 'amazon_reviews_us_Watches_v1_00-sample'.B20>, <Cell 'amazon_reviews_us_Watches_v1_00-sample'.C20>, <Cell 'amazon_reviews_us_Watches_v1_00-sample'.D20>, <Cell 'amazon_reviews_us_Watches_v1_00-sample'.E20>, <Cell 'amazon_reviews_us_Watches_v1_00-sample'.F20>, <Cell 'amazon_reviews_us_Watches_v1_00-sample'.G20>, <Cell 'amazon_reviews_us_Watches_v1_00-sample'.H20>, <Cell 'amazon_reviews_us_Watches_v1_00-sample'.I20>, <Cell 'amazon_reviews_us_Watches_v1_00-sample'.J20>, <Cell 'amazon_reviews_us_Watches_v1_00-sample'.K20>, <Cell 'amazon_reviews_us_Watches_v1_00-sample'.L20>, <Cell 'amazon_reviews_us_Watches_v1_00-sample'.M20>, <Cell 'amazon_reviews_us_Watches_v1_00-sample'.N20>, <Cell 'amazon_reviews_us_Watches_v1_00-sample'.O20>)\n",
      "(<Cell 'amazon_reviews_us_Watches_v1_00-sample'.A21>, <Cell 'amazon_reviews_us_Watches_v1_00-sample'.B21>, <Cell 'amazon_reviews_us_Watches_v1_00-sample'.C21>, <Cell 'amazon_reviews_us_Watches_v1_00-sample'.D21>, <Cell 'amazon_reviews_us_Watches_v1_00-sample'.E21>, <Cell 'amazon_reviews_us_Watches_v1_00-sample'.F21>, <Cell 'amazon_reviews_us_Watches_v1_00-sample'.G21>, <Cell 'amazon_reviews_us_Watches_v1_00-sample'.H21>, <Cell 'amazon_reviews_us_Watches_v1_00-sample'.I21>, <Cell 'amazon_reviews_us_Watches_v1_00-sample'.J21>, <Cell 'amazon_reviews_us_Watches_v1_00-sample'.K21>, <Cell 'amazon_reviews_us_Watches_v1_00-sample'.L21>, <Cell 'amazon_reviews_us_Watches_v1_00-sample'.M21>, <Cell 'amazon_reviews_us_Watches_v1_00-sample'.N21>, <Cell 'amazon_reviews_us_Watches_v1_00-sample'.O21>)\n",
      "(<Cell 'amazon_reviews_us_Watches_v1_00-sample'.A22>, <Cell 'amazon_reviews_us_Watches_v1_00-sample'.B22>, <Cell 'amazon_reviews_us_Watches_v1_00-sample'.C22>, <Cell 'amazon_reviews_us_Watches_v1_00-sample'.D22>, <Cell 'amazon_reviews_us_Watches_v1_00-sample'.E22>, <Cell 'amazon_reviews_us_Watches_v1_00-sample'.F22>, <Cell 'amazon_reviews_us_Watches_v1_00-sample'.G22>, <Cell 'amazon_reviews_us_Watches_v1_00-sample'.H22>, <Cell 'amazon_reviews_us_Watches_v1_00-sample'.I22>, <Cell 'amazon_reviews_us_Watches_v1_00-sample'.J22>, <Cell 'amazon_reviews_us_Watches_v1_00-sample'.K22>, <Cell 'amazon_reviews_us_Watches_v1_00-sample'.L22>, <Cell 'amazon_reviews_us_Watches_v1_00-sample'.M22>, <Cell 'amazon_reviews_us_Watches_v1_00-sample'.N22>, <Cell 'amazon_reviews_us_Watches_v1_00-sample'.O22>)\n",
      "(<Cell 'amazon_reviews_us_Watches_v1_00-sample'.A23>, <Cell 'amazon_reviews_us_Watches_v1_00-sample'.B23>, <Cell 'amazon_reviews_us_Watches_v1_00-sample'.C23>, <Cell 'amazon_reviews_us_Watches_v1_00-sample'.D23>, <Cell 'amazon_reviews_us_Watches_v1_00-sample'.E23>, <Cell 'amazon_reviews_us_Watches_v1_00-sample'.F23>, <Cell 'amazon_reviews_us_Watches_v1_00-sample'.G23>, <Cell 'amazon_reviews_us_Watches_v1_00-sample'.H23>, <Cell 'amazon_reviews_us_Watches_v1_00-sample'.I23>, <Cell 'amazon_reviews_us_Watches_v1_00-sample'.J23>, <Cell 'amazon_reviews_us_Watches_v1_00-sample'.K23>, <Cell 'amazon_reviews_us_Watches_v1_00-sample'.L23>, <Cell 'amazon_reviews_us_Watches_v1_00-sample'.M23>, <Cell 'amazon_reviews_us_Watches_v1_00-sample'.N23>, <Cell 'amazon_reviews_us_Watches_v1_00-sample'.O23>)\n",
      "(<Cell 'amazon_reviews_us_Watches_v1_00-sample'.A24>, <Cell 'amazon_reviews_us_Watches_v1_00-sample'.B24>, <Cell 'amazon_reviews_us_Watches_v1_00-sample'.C24>, <Cell 'amazon_reviews_us_Watches_v1_00-sample'.D24>, <Cell 'amazon_reviews_us_Watches_v1_00-sample'.E24>, <Cell 'amazon_reviews_us_Watches_v1_00-sample'.F24>, <Cell 'amazon_reviews_us_Watches_v1_00-sample'.G24>, <Cell 'amazon_reviews_us_Watches_v1_00-sample'.H24>, <Cell 'amazon_reviews_us_Watches_v1_00-sample'.I24>, <Cell 'amazon_reviews_us_Watches_v1_00-sample'.J24>, <Cell 'amazon_reviews_us_Watches_v1_00-sample'.K24>, <Cell 'amazon_reviews_us_Watches_v1_00-sample'.L24>, <Cell 'amazon_reviews_us_Watches_v1_00-sample'.M24>, <Cell 'amazon_reviews_us_Watches_v1_00-sample'.N24>, <Cell 'amazon_reviews_us_Watches_v1_00-sample'.O24>)\n",
      "(<Cell 'amazon_reviews_us_Watches_v1_00-sample'.A25>, <Cell 'amazon_reviews_us_Watches_v1_00-sample'.B25>, <Cell 'amazon_reviews_us_Watches_v1_00-sample'.C25>, <Cell 'amazon_reviews_us_Watches_v1_00-sample'.D25>, <Cell 'amazon_reviews_us_Watches_v1_00-sample'.E25>, <Cell 'amazon_reviews_us_Watches_v1_00-sample'.F25>, <Cell 'amazon_reviews_us_Watches_v1_00-sample'.G25>, <Cell 'amazon_reviews_us_Watches_v1_00-sample'.H25>, <Cell 'amazon_reviews_us_Watches_v1_00-sample'.I25>, <Cell 'amazon_reviews_us_Watches_v1_00-sample'.J25>, <Cell 'amazon_reviews_us_Watches_v1_00-sample'.K25>, <Cell 'amazon_reviews_us_Watches_v1_00-sample'.L25>, <Cell 'amazon_reviews_us_Watches_v1_00-sample'.M25>, <Cell 'amazon_reviews_us_Watches_v1_00-sample'.N25>, <Cell 'amazon_reviews_us_Watches_v1_00-sample'.O25>)\n",
      "(<Cell 'amazon_reviews_us_Watches_v1_00-sample'.A26>, <Cell 'amazon_reviews_us_Watches_v1_00-sample'.B26>, <Cell 'amazon_reviews_us_Watches_v1_00-sample'.C26>, <Cell 'amazon_reviews_us_Watches_v1_00-sample'.D26>, <Cell 'amazon_reviews_us_Watches_v1_00-sample'.E26>, <Cell 'amazon_reviews_us_Watches_v1_00-sample'.F26>, <Cell 'amazon_reviews_us_Watches_v1_00-sample'.G26>, <Cell 'amazon_reviews_us_Watches_v1_00-sample'.H26>, <Cell 'amazon_reviews_us_Watches_v1_00-sample'.I26>, <Cell 'amazon_reviews_us_Watches_v1_00-sample'.J26>, <Cell 'amazon_reviews_us_Watches_v1_00-sample'.K26>, <Cell 'amazon_reviews_us_Watches_v1_00-sample'.L26>, <Cell 'amazon_reviews_us_Watches_v1_00-sample'.M26>, <Cell 'amazon_reviews_us_Watches_v1_00-sample'.N26>, <Cell 'amazon_reviews_us_Watches_v1_00-sample'.O26>)\n",
      "(<Cell 'amazon_reviews_us_Watches_v1_00-sample'.A27>, <Cell 'amazon_reviews_us_Watches_v1_00-sample'.B27>, <Cell 'amazon_reviews_us_Watches_v1_00-sample'.C27>, <Cell 'amazon_reviews_us_Watches_v1_00-sample'.D27>, <Cell 'amazon_reviews_us_Watches_v1_00-sample'.E27>, <Cell 'amazon_reviews_us_Watches_v1_00-sample'.F27>, <Cell 'amazon_reviews_us_Watches_v1_00-sample'.G27>, <Cell 'amazon_reviews_us_Watches_v1_00-sample'.H27>, <Cell 'amazon_reviews_us_Watches_v1_00-sample'.I27>, <Cell 'amazon_reviews_us_Watches_v1_00-sample'.J27>, <Cell 'amazon_reviews_us_Watches_v1_00-sample'.K27>, <Cell 'amazon_reviews_us_Watches_v1_00-sample'.L27>, <Cell 'amazon_reviews_us_Watches_v1_00-sample'.M27>, <Cell 'amazon_reviews_us_Watches_v1_00-sample'.N27>, <Cell 'amazon_reviews_us_Watches_v1_00-sample'.O27>)\n",
      "(<Cell 'amazon_reviews_us_Watches_v1_00-sample'.A28>, <Cell 'amazon_reviews_us_Watches_v1_00-sample'.B28>, <Cell 'amazon_reviews_us_Watches_v1_00-sample'.C28>, <Cell 'amazon_reviews_us_Watches_v1_00-sample'.D28>, <Cell 'amazon_reviews_us_Watches_v1_00-sample'.E28>, <Cell 'amazon_reviews_us_Watches_v1_00-sample'.F28>, <Cell 'amazon_reviews_us_Watches_v1_00-sample'.G28>, <Cell 'amazon_reviews_us_Watches_v1_00-sample'.H28>, <Cell 'amazon_reviews_us_Watches_v1_00-sample'.I28>, <Cell 'amazon_reviews_us_Watches_v1_00-sample'.J28>, <Cell 'amazon_reviews_us_Watches_v1_00-sample'.K28>, <Cell 'amazon_reviews_us_Watches_v1_00-sample'.L28>, <Cell 'amazon_reviews_us_Watches_v1_00-sample'.M28>, <Cell 'amazon_reviews_us_Watches_v1_00-sample'.N28>, <Cell 'amazon_reviews_us_Watches_v1_00-sample'.O28>)\n",
      "(<Cell 'amazon_reviews_us_Watches_v1_00-sample'.A29>, <Cell 'amazon_reviews_us_Watches_v1_00-sample'.B29>, <Cell 'amazon_reviews_us_Watches_v1_00-sample'.C29>, <Cell 'amazon_reviews_us_Watches_v1_00-sample'.D29>, <Cell 'amazon_reviews_us_Watches_v1_00-sample'.E29>, <Cell 'amazon_reviews_us_Watches_v1_00-sample'.F29>, <Cell 'amazon_reviews_us_Watches_v1_00-sample'.G29>, <Cell 'amazon_reviews_us_Watches_v1_00-sample'.H29>, <Cell 'amazon_reviews_us_Watches_v1_00-sample'.I29>, <Cell 'amazon_reviews_us_Watches_v1_00-sample'.J29>, <Cell 'amazon_reviews_us_Watches_v1_00-sample'.K29>, <Cell 'amazon_reviews_us_Watches_v1_00-sample'.L29>, <Cell 'amazon_reviews_us_Watches_v1_00-sample'.M29>, <Cell 'amazon_reviews_us_Watches_v1_00-sample'.N29>, <Cell 'amazon_reviews_us_Watches_v1_00-sample'.O29>)\n",
      "(<Cell 'amazon_reviews_us_Watches_v1_00-sample'.A30>, <Cell 'amazon_reviews_us_Watches_v1_00-sample'.B30>, <Cell 'amazon_reviews_us_Watches_v1_00-sample'.C30>, <Cell 'amazon_reviews_us_Watches_v1_00-sample'.D30>, <Cell 'amazon_reviews_us_Watches_v1_00-sample'.E30>, <Cell 'amazon_reviews_us_Watches_v1_00-sample'.F30>, <Cell 'amazon_reviews_us_Watches_v1_00-sample'.G30>, <Cell 'amazon_reviews_us_Watches_v1_00-sample'.H30>, <Cell 'amazon_reviews_us_Watches_v1_00-sample'.I30>, <Cell 'amazon_reviews_us_Watches_v1_00-sample'.J30>, <Cell 'amazon_reviews_us_Watches_v1_00-sample'.K30>, <Cell 'amazon_reviews_us_Watches_v1_00-sample'.L30>, <Cell 'amazon_reviews_us_Watches_v1_00-sample'.M30>, <Cell 'amazon_reviews_us_Watches_v1_00-sample'.N30>, <Cell 'amazon_reviews_us_Watches_v1_00-sample'.O30>)\n",
      "(<Cell 'amazon_reviews_us_Watches_v1_00-sample'.A31>, <Cell 'amazon_reviews_us_Watches_v1_00-sample'.B31>, <Cell 'amazon_reviews_us_Watches_v1_00-sample'.C31>, <Cell 'amazon_reviews_us_Watches_v1_00-sample'.D31>, <Cell 'amazon_reviews_us_Watches_v1_00-sample'.E31>, <Cell 'amazon_reviews_us_Watches_v1_00-sample'.F31>, <Cell 'amazon_reviews_us_Watches_v1_00-sample'.G31>, <Cell 'amazon_reviews_us_Watches_v1_00-sample'.H31>, <Cell 'amazon_reviews_us_Watches_v1_00-sample'.I31>, <Cell 'amazon_reviews_us_Watches_v1_00-sample'.J31>, <Cell 'amazon_reviews_us_Watches_v1_00-sample'.K31>, <Cell 'amazon_reviews_us_Watches_v1_00-sample'.L31>, <Cell 'amazon_reviews_us_Watches_v1_00-sample'.M31>, <Cell 'amazon_reviews_us_Watches_v1_00-sample'.N31>, <Cell 'amazon_reviews_us_Watches_v1_00-sample'.O31>)\n",
      "(<Cell 'amazon_reviews_us_Watches_v1_00-sample'.A32>, <Cell 'amazon_reviews_us_Watches_v1_00-sample'.B32>, <Cell 'amazon_reviews_us_Watches_v1_00-sample'.C32>, <Cell 'amazon_reviews_us_Watches_v1_00-sample'.D32>, <Cell 'amazon_reviews_us_Watches_v1_00-sample'.E32>, <Cell 'amazon_reviews_us_Watches_v1_00-sample'.F32>, <Cell 'amazon_reviews_us_Watches_v1_00-sample'.G32>, <Cell 'amazon_reviews_us_Watches_v1_00-sample'.H32>, <Cell 'amazon_reviews_us_Watches_v1_00-sample'.I32>, <Cell 'amazon_reviews_us_Watches_v1_00-sample'.J32>, <Cell 'amazon_reviews_us_Watches_v1_00-sample'.K32>, <Cell 'amazon_reviews_us_Watches_v1_00-sample'.L32>, <Cell 'amazon_reviews_us_Watches_v1_00-sample'.M32>, <Cell 'amazon_reviews_us_Watches_v1_00-sample'.N32>, <Cell 'amazon_reviews_us_Watches_v1_00-sample'.O32>)\n",
      "(<Cell 'amazon_reviews_us_Watches_v1_00-sample'.A33>, <Cell 'amazon_reviews_us_Watches_v1_00-sample'.B33>, <Cell 'amazon_reviews_us_Watches_v1_00-sample'.C33>, <Cell 'amazon_reviews_us_Watches_v1_00-sample'.D33>, <Cell 'amazon_reviews_us_Watches_v1_00-sample'.E33>, <Cell 'amazon_reviews_us_Watches_v1_00-sample'.F33>, <Cell 'amazon_reviews_us_Watches_v1_00-sample'.G33>, <Cell 'amazon_reviews_us_Watches_v1_00-sample'.H33>, <Cell 'amazon_reviews_us_Watches_v1_00-sample'.I33>, <Cell 'amazon_reviews_us_Watches_v1_00-sample'.J33>, <Cell 'amazon_reviews_us_Watches_v1_00-sample'.K33>, <Cell 'amazon_reviews_us_Watches_v1_00-sample'.L33>, <Cell 'amazon_reviews_us_Watches_v1_00-sample'.M33>, <Cell 'amazon_reviews_us_Watches_v1_00-sample'.N33>, <Cell 'amazon_reviews_us_Watches_v1_00-sample'.O33>)\n",
      "(<Cell 'amazon_reviews_us_Watches_v1_00-sample'.A34>, <Cell 'amazon_reviews_us_Watches_v1_00-sample'.B34>, <Cell 'amazon_reviews_us_Watches_v1_00-sample'.C34>, <Cell 'amazon_reviews_us_Watches_v1_00-sample'.D34>, <Cell 'amazon_reviews_us_Watches_v1_00-sample'.E34>, <Cell 'amazon_reviews_us_Watches_v1_00-sample'.F34>, <Cell 'amazon_reviews_us_Watches_v1_00-sample'.G34>, <Cell 'amazon_reviews_us_Watches_v1_00-sample'.H34>, <Cell 'amazon_reviews_us_Watches_v1_00-sample'.I34>, <Cell 'amazon_reviews_us_Watches_v1_00-sample'.J34>, <Cell 'amazon_reviews_us_Watches_v1_00-sample'.K34>, <Cell 'amazon_reviews_us_Watches_v1_00-sample'.L34>, <Cell 'amazon_reviews_us_Watches_v1_00-sample'.M34>, <Cell 'amazon_reviews_us_Watches_v1_00-sample'.N34>, <Cell 'amazon_reviews_us_Watches_v1_00-sample'.O34>)\n",
      "(<Cell 'amazon_reviews_us_Watches_v1_00-sample'.A35>, <Cell 'amazon_reviews_us_Watches_v1_00-sample'.B35>, <Cell 'amazon_reviews_us_Watches_v1_00-sample'.C35>, <Cell 'amazon_reviews_us_Watches_v1_00-sample'.D35>, <Cell 'amazon_reviews_us_Watches_v1_00-sample'.E35>, <Cell 'amazon_reviews_us_Watches_v1_00-sample'.F35>, <Cell 'amazon_reviews_us_Watches_v1_00-sample'.G35>, <Cell 'amazon_reviews_us_Watches_v1_00-sample'.H35>, <Cell 'amazon_reviews_us_Watches_v1_00-sample'.I35>, <Cell 'amazon_reviews_us_Watches_v1_00-sample'.J35>, <Cell 'amazon_reviews_us_Watches_v1_00-sample'.K35>, <Cell 'amazon_reviews_us_Watches_v1_00-sample'.L35>, <Cell 'amazon_reviews_us_Watches_v1_00-sample'.M35>, <Cell 'amazon_reviews_us_Watches_v1_00-sample'.N35>, <Cell 'amazon_reviews_us_Watches_v1_00-sample'.O35>)\n",
      "(<Cell 'amazon_reviews_us_Watches_v1_00-sample'.A36>, <Cell 'amazon_reviews_us_Watches_v1_00-sample'.B36>, <Cell 'amazon_reviews_us_Watches_v1_00-sample'.C36>, <Cell 'amazon_reviews_us_Watches_v1_00-sample'.D36>, <Cell 'amazon_reviews_us_Watches_v1_00-sample'.E36>, <Cell 'amazon_reviews_us_Watches_v1_00-sample'.F36>, <Cell 'amazon_reviews_us_Watches_v1_00-sample'.G36>, <Cell 'amazon_reviews_us_Watches_v1_00-sample'.H36>, <Cell 'amazon_reviews_us_Watches_v1_00-sample'.I36>, <Cell 'amazon_reviews_us_Watches_v1_00-sample'.J36>, <Cell 'amazon_reviews_us_Watches_v1_00-sample'.K36>, <Cell 'amazon_reviews_us_Watches_v1_00-sample'.L36>, <Cell 'amazon_reviews_us_Watches_v1_00-sample'.M36>, <Cell 'amazon_reviews_us_Watches_v1_00-sample'.N36>, <Cell 'amazon_reviews_us_Watches_v1_00-sample'.O36>)\n",
      "(<Cell 'amazon_reviews_us_Watches_v1_00-sample'.A37>, <Cell 'amazon_reviews_us_Watches_v1_00-sample'.B37>, <Cell 'amazon_reviews_us_Watches_v1_00-sample'.C37>, <Cell 'amazon_reviews_us_Watches_v1_00-sample'.D37>, <Cell 'amazon_reviews_us_Watches_v1_00-sample'.E37>, <Cell 'amazon_reviews_us_Watches_v1_00-sample'.F37>, <Cell 'amazon_reviews_us_Watches_v1_00-sample'.G37>, <Cell 'amazon_reviews_us_Watches_v1_00-sample'.H37>, <Cell 'amazon_reviews_us_Watches_v1_00-sample'.I37>, <Cell 'amazon_reviews_us_Watches_v1_00-sample'.J37>, <Cell 'amazon_reviews_us_Watches_v1_00-sample'.K37>, <Cell 'amazon_reviews_us_Watches_v1_00-sample'.L37>, <Cell 'amazon_reviews_us_Watches_v1_00-sample'.M37>, <Cell 'amazon_reviews_us_Watches_v1_00-sample'.N37>, <Cell 'amazon_reviews_us_Watches_v1_00-sample'.O37>)\n",
      "(<Cell 'amazon_reviews_us_Watches_v1_00-sample'.A38>, <Cell 'amazon_reviews_us_Watches_v1_00-sample'.B38>, <Cell 'amazon_reviews_us_Watches_v1_00-sample'.C38>, <Cell 'amazon_reviews_us_Watches_v1_00-sample'.D38>, <Cell 'amazon_reviews_us_Watches_v1_00-sample'.E38>, <Cell 'amazon_reviews_us_Watches_v1_00-sample'.F38>, <Cell 'amazon_reviews_us_Watches_v1_00-sample'.G38>, <Cell 'amazon_reviews_us_Watches_v1_00-sample'.H38>, <Cell 'amazon_reviews_us_Watches_v1_00-sample'.I38>, <Cell 'amazon_reviews_us_Watches_v1_00-sample'.J38>, <Cell 'amazon_reviews_us_Watches_v1_00-sample'.K38>, <Cell 'amazon_reviews_us_Watches_v1_00-sample'.L38>, <Cell 'amazon_reviews_us_Watches_v1_00-sample'.M38>, <Cell 'amazon_reviews_us_Watches_v1_00-sample'.N38>, <Cell 'amazon_reviews_us_Watches_v1_00-sample'.O38>)\n",
      "(<Cell 'amazon_reviews_us_Watches_v1_00-sample'.A39>, <Cell 'amazon_reviews_us_Watches_v1_00-sample'.B39>, <Cell 'amazon_reviews_us_Watches_v1_00-sample'.C39>, <Cell 'amazon_reviews_us_Watches_v1_00-sample'.D39>, <Cell 'amazon_reviews_us_Watches_v1_00-sample'.E39>, <Cell 'amazon_reviews_us_Watches_v1_00-sample'.F39>, <Cell 'amazon_reviews_us_Watches_v1_00-sample'.G39>, <Cell 'amazon_reviews_us_Watches_v1_00-sample'.H39>, <Cell 'amazon_reviews_us_Watches_v1_00-sample'.I39>, <Cell 'amazon_reviews_us_Watches_v1_00-sample'.J39>, <Cell 'amazon_reviews_us_Watches_v1_00-sample'.K39>, <Cell 'amazon_reviews_us_Watches_v1_00-sample'.L39>, <Cell 'amazon_reviews_us_Watches_v1_00-sample'.M39>, <Cell 'amazon_reviews_us_Watches_v1_00-sample'.N39>, <Cell 'amazon_reviews_us_Watches_v1_00-sample'.O39>)\n",
      "(<Cell 'amazon_reviews_us_Watches_v1_00-sample'.A40>, <Cell 'amazon_reviews_us_Watches_v1_00-sample'.B40>, <Cell 'amazon_reviews_us_Watches_v1_00-sample'.C40>, <Cell 'amazon_reviews_us_Watches_v1_00-sample'.D40>, <Cell 'amazon_reviews_us_Watches_v1_00-sample'.E40>, <Cell 'amazon_reviews_us_Watches_v1_00-sample'.F40>, <Cell 'amazon_reviews_us_Watches_v1_00-sample'.G40>, <Cell 'amazon_reviews_us_Watches_v1_00-sample'.H40>, <Cell 'amazon_reviews_us_Watches_v1_00-sample'.I40>, <Cell 'amazon_reviews_us_Watches_v1_00-sample'.J40>, <Cell 'amazon_reviews_us_Watches_v1_00-sample'.K40>, <Cell 'amazon_reviews_us_Watches_v1_00-sample'.L40>, <Cell 'amazon_reviews_us_Watches_v1_00-sample'.M40>, <Cell 'amazon_reviews_us_Watches_v1_00-sample'.N40>, <Cell 'amazon_reviews_us_Watches_v1_00-sample'.O40>)\n",
      "(<Cell 'amazon_reviews_us_Watches_v1_00-sample'.A41>, <Cell 'amazon_reviews_us_Watches_v1_00-sample'.B41>, <Cell 'amazon_reviews_us_Watches_v1_00-sample'.C41>, <Cell 'amazon_reviews_us_Watches_v1_00-sample'.D41>, <Cell 'amazon_reviews_us_Watches_v1_00-sample'.E41>, <Cell 'amazon_reviews_us_Watches_v1_00-sample'.F41>, <Cell 'amazon_reviews_us_Watches_v1_00-sample'.G41>, <Cell 'amazon_reviews_us_Watches_v1_00-sample'.H41>, <Cell 'amazon_reviews_us_Watches_v1_00-sample'.I41>, <Cell 'amazon_reviews_us_Watches_v1_00-sample'.J41>, <Cell 'amazon_reviews_us_Watches_v1_00-sample'.K41>, <Cell 'amazon_reviews_us_Watches_v1_00-sample'.L41>, <Cell 'amazon_reviews_us_Watches_v1_00-sample'.M41>, <Cell 'amazon_reviews_us_Watches_v1_00-sample'.N41>, <Cell 'amazon_reviews_us_Watches_v1_00-sample'.O41>)\n",
      "(<Cell 'amazon_reviews_us_Watches_v1_00-sample'.A42>, <Cell 'amazon_reviews_us_Watches_v1_00-sample'.B42>, <Cell 'amazon_reviews_us_Watches_v1_00-sample'.C42>, <Cell 'amazon_reviews_us_Watches_v1_00-sample'.D42>, <Cell 'amazon_reviews_us_Watches_v1_00-sample'.E42>, <Cell 'amazon_reviews_us_Watches_v1_00-sample'.F42>, <Cell 'amazon_reviews_us_Watches_v1_00-sample'.G42>, <Cell 'amazon_reviews_us_Watches_v1_00-sample'.H42>, <Cell 'amazon_reviews_us_Watches_v1_00-sample'.I42>, <Cell 'amazon_reviews_us_Watches_v1_00-sample'.J42>, <Cell 'amazon_reviews_us_Watches_v1_00-sample'.K42>, <Cell 'amazon_reviews_us_Watches_v1_00-sample'.L42>, <Cell 'amazon_reviews_us_Watches_v1_00-sample'.M42>, <Cell 'amazon_reviews_us_Watches_v1_00-sample'.N42>, <Cell 'amazon_reviews_us_Watches_v1_00-sample'.O42>)\n",
      "(<Cell 'amazon_reviews_us_Watches_v1_00-sample'.A43>, <Cell 'amazon_reviews_us_Watches_v1_00-sample'.B43>, <Cell 'amazon_reviews_us_Watches_v1_00-sample'.C43>, <Cell 'amazon_reviews_us_Watches_v1_00-sample'.D43>, <Cell 'amazon_reviews_us_Watches_v1_00-sample'.E43>, <Cell 'amazon_reviews_us_Watches_v1_00-sample'.F43>, <Cell 'amazon_reviews_us_Watches_v1_00-sample'.G43>, <Cell 'amazon_reviews_us_Watches_v1_00-sample'.H43>, <Cell 'amazon_reviews_us_Watches_v1_00-sample'.I43>, <Cell 'amazon_reviews_us_Watches_v1_00-sample'.J43>, <Cell 'amazon_reviews_us_Watches_v1_00-sample'.K43>, <Cell 'amazon_reviews_us_Watches_v1_00-sample'.L43>, <Cell 'amazon_reviews_us_Watches_v1_00-sample'.M43>, <Cell 'amazon_reviews_us_Watches_v1_00-sample'.N43>, <Cell 'amazon_reviews_us_Watches_v1_00-sample'.O43>)\n",
      "(<Cell 'amazon_reviews_us_Watches_v1_00-sample'.A44>, <Cell 'amazon_reviews_us_Watches_v1_00-sample'.B44>, <Cell 'amazon_reviews_us_Watches_v1_00-sample'.C44>, <Cell 'amazon_reviews_us_Watches_v1_00-sample'.D44>, <Cell 'amazon_reviews_us_Watches_v1_00-sample'.E44>, <Cell 'amazon_reviews_us_Watches_v1_00-sample'.F44>, <Cell 'amazon_reviews_us_Watches_v1_00-sample'.G44>, <Cell 'amazon_reviews_us_Watches_v1_00-sample'.H44>, <Cell 'amazon_reviews_us_Watches_v1_00-sample'.I44>, <Cell 'amazon_reviews_us_Watches_v1_00-sample'.J44>, <Cell 'amazon_reviews_us_Watches_v1_00-sample'.K44>, <Cell 'amazon_reviews_us_Watches_v1_00-sample'.L44>, <Cell 'amazon_reviews_us_Watches_v1_00-sample'.M44>, <Cell 'amazon_reviews_us_Watches_v1_00-sample'.N44>, <Cell 'amazon_reviews_us_Watches_v1_00-sample'.O44>)\n",
      "(<Cell 'amazon_reviews_us_Watches_v1_00-sample'.A45>, <Cell 'amazon_reviews_us_Watches_v1_00-sample'.B45>, <Cell 'amazon_reviews_us_Watches_v1_00-sample'.C45>, <Cell 'amazon_reviews_us_Watches_v1_00-sample'.D45>, <Cell 'amazon_reviews_us_Watches_v1_00-sample'.E45>, <Cell 'amazon_reviews_us_Watches_v1_00-sample'.F45>, <Cell 'amazon_reviews_us_Watches_v1_00-sample'.G45>, <Cell 'amazon_reviews_us_Watches_v1_00-sample'.H45>, <Cell 'amazon_reviews_us_Watches_v1_00-sample'.I45>, <Cell 'amazon_reviews_us_Watches_v1_00-sample'.J45>, <Cell 'amazon_reviews_us_Watches_v1_00-sample'.K45>, <Cell 'amazon_reviews_us_Watches_v1_00-sample'.L45>, <Cell 'amazon_reviews_us_Watches_v1_00-sample'.M45>, <Cell 'amazon_reviews_us_Watches_v1_00-sample'.N45>, <Cell 'amazon_reviews_us_Watches_v1_00-sample'.O45>)\n",
      "(<Cell 'amazon_reviews_us_Watches_v1_00-sample'.A46>, <Cell 'amazon_reviews_us_Watches_v1_00-sample'.B46>, <Cell 'amazon_reviews_us_Watches_v1_00-sample'.C46>, <Cell 'amazon_reviews_us_Watches_v1_00-sample'.D46>, <Cell 'amazon_reviews_us_Watches_v1_00-sample'.E46>, <Cell 'amazon_reviews_us_Watches_v1_00-sample'.F46>, <Cell 'amazon_reviews_us_Watches_v1_00-sample'.G46>, <Cell 'amazon_reviews_us_Watches_v1_00-sample'.H46>, <Cell 'amazon_reviews_us_Watches_v1_00-sample'.I46>, <Cell 'amazon_reviews_us_Watches_v1_00-sample'.J46>, <Cell 'amazon_reviews_us_Watches_v1_00-sample'.K46>, <Cell 'amazon_reviews_us_Watches_v1_00-sample'.L46>, <Cell 'amazon_reviews_us_Watches_v1_00-sample'.M46>, <Cell 'amazon_reviews_us_Watches_v1_00-sample'.N46>, <Cell 'amazon_reviews_us_Watches_v1_00-sample'.O46>)\n",
      "(<Cell 'amazon_reviews_us_Watches_v1_00-sample'.A47>, <Cell 'amazon_reviews_us_Watches_v1_00-sample'.B47>, <Cell 'amazon_reviews_us_Watches_v1_00-sample'.C47>, <Cell 'amazon_reviews_us_Watches_v1_00-sample'.D47>, <Cell 'amazon_reviews_us_Watches_v1_00-sample'.E47>, <Cell 'amazon_reviews_us_Watches_v1_00-sample'.F47>, <Cell 'amazon_reviews_us_Watches_v1_00-sample'.G47>, <Cell 'amazon_reviews_us_Watches_v1_00-sample'.H47>, <Cell 'amazon_reviews_us_Watches_v1_00-sample'.I47>, <Cell 'amazon_reviews_us_Watches_v1_00-sample'.J47>, <Cell 'amazon_reviews_us_Watches_v1_00-sample'.K47>, <Cell 'amazon_reviews_us_Watches_v1_00-sample'.L47>, <Cell 'amazon_reviews_us_Watches_v1_00-sample'.M47>, <Cell 'amazon_reviews_us_Watches_v1_00-sample'.N47>, <Cell 'amazon_reviews_us_Watches_v1_00-sample'.O47>)\n",
      "(<Cell 'amazon_reviews_us_Watches_v1_00-sample'.A48>, <Cell 'amazon_reviews_us_Watches_v1_00-sample'.B48>, <Cell 'amazon_reviews_us_Watches_v1_00-sample'.C48>, <Cell 'amazon_reviews_us_Watches_v1_00-sample'.D48>, <Cell 'amazon_reviews_us_Watches_v1_00-sample'.E48>, <Cell 'amazon_reviews_us_Watches_v1_00-sample'.F48>, <Cell 'amazon_reviews_us_Watches_v1_00-sample'.G48>, <Cell 'amazon_reviews_us_Watches_v1_00-sample'.H48>, <Cell 'amazon_reviews_us_Watches_v1_00-sample'.I48>, <Cell 'amazon_reviews_us_Watches_v1_00-sample'.J48>, <Cell 'amazon_reviews_us_Watches_v1_00-sample'.K48>, <Cell 'amazon_reviews_us_Watches_v1_00-sample'.L48>, <Cell 'amazon_reviews_us_Watches_v1_00-sample'.M48>, <Cell 'amazon_reviews_us_Watches_v1_00-sample'.N48>, <Cell 'amazon_reviews_us_Watches_v1_00-sample'.O48>)\n",
      "(<Cell 'amazon_reviews_us_Watches_v1_00-sample'.A49>, <Cell 'amazon_reviews_us_Watches_v1_00-sample'.B49>, <Cell 'amazon_reviews_us_Watches_v1_00-sample'.C49>, <Cell 'amazon_reviews_us_Watches_v1_00-sample'.D49>, <Cell 'amazon_reviews_us_Watches_v1_00-sample'.E49>, <Cell 'amazon_reviews_us_Watches_v1_00-sample'.F49>, <Cell 'amazon_reviews_us_Watches_v1_00-sample'.G49>, <Cell 'amazon_reviews_us_Watches_v1_00-sample'.H49>, <Cell 'amazon_reviews_us_Watches_v1_00-sample'.I49>, <Cell 'amazon_reviews_us_Watches_v1_00-sample'.J49>, <Cell 'amazon_reviews_us_Watches_v1_00-sample'.K49>, <Cell 'amazon_reviews_us_Watches_v1_00-sample'.L49>, <Cell 'amazon_reviews_us_Watches_v1_00-sample'.M49>, <Cell 'amazon_reviews_us_Watches_v1_00-sample'.N49>, <Cell 'amazon_reviews_us_Watches_v1_00-sample'.O49>)\n",
      "(<Cell 'amazon_reviews_us_Watches_v1_00-sample'.A50>, <Cell 'amazon_reviews_us_Watches_v1_00-sample'.B50>, <Cell 'amazon_reviews_us_Watches_v1_00-sample'.C50>, <Cell 'amazon_reviews_us_Watches_v1_00-sample'.D50>, <Cell 'amazon_reviews_us_Watches_v1_00-sample'.E50>, <Cell 'amazon_reviews_us_Watches_v1_00-sample'.F50>, <Cell 'amazon_reviews_us_Watches_v1_00-sample'.G50>, <Cell 'amazon_reviews_us_Watches_v1_00-sample'.H50>, <Cell 'amazon_reviews_us_Watches_v1_00-sample'.I50>, <Cell 'amazon_reviews_us_Watches_v1_00-sample'.J50>, <Cell 'amazon_reviews_us_Watches_v1_00-sample'.K50>, <Cell 'amazon_reviews_us_Watches_v1_00-sample'.L50>, <Cell 'amazon_reviews_us_Watches_v1_00-sample'.M50>, <Cell 'amazon_reviews_us_Watches_v1_00-sample'.N50>, <Cell 'amazon_reviews_us_Watches_v1_00-sample'.O50>)\n",
      "(<Cell 'amazon_reviews_us_Watches_v1_00-sample'.A51>, <Cell 'amazon_reviews_us_Watches_v1_00-sample'.B51>, <Cell 'amazon_reviews_us_Watches_v1_00-sample'.C51>, <Cell 'amazon_reviews_us_Watches_v1_00-sample'.D51>, <Cell 'amazon_reviews_us_Watches_v1_00-sample'.E51>, <Cell 'amazon_reviews_us_Watches_v1_00-sample'.F51>, <Cell 'amazon_reviews_us_Watches_v1_00-sample'.G51>, <Cell 'amazon_reviews_us_Watches_v1_00-sample'.H51>, <Cell 'amazon_reviews_us_Watches_v1_00-sample'.I51>, <Cell 'amazon_reviews_us_Watches_v1_00-sample'.J51>, <Cell 'amazon_reviews_us_Watches_v1_00-sample'.K51>, <Cell 'amazon_reviews_us_Watches_v1_00-sample'.L51>, <Cell 'amazon_reviews_us_Watches_v1_00-sample'.M51>, <Cell 'amazon_reviews_us_Watches_v1_00-sample'.N51>, <Cell 'amazon_reviews_us_Watches_v1_00-sample'.O51>)\n",
      "(<Cell 'amazon_reviews_us_Watches_v1_00-sample'.A52>, <Cell 'amazon_reviews_us_Watches_v1_00-sample'.B52>, <Cell 'amazon_reviews_us_Watches_v1_00-sample'.C52>, <Cell 'amazon_reviews_us_Watches_v1_00-sample'.D52>, <Cell 'amazon_reviews_us_Watches_v1_00-sample'.E52>, <Cell 'amazon_reviews_us_Watches_v1_00-sample'.F52>, <Cell 'amazon_reviews_us_Watches_v1_00-sample'.G52>, <Cell 'amazon_reviews_us_Watches_v1_00-sample'.H52>, <Cell 'amazon_reviews_us_Watches_v1_00-sample'.I52>, <Cell 'amazon_reviews_us_Watches_v1_00-sample'.J52>, <Cell 'amazon_reviews_us_Watches_v1_00-sample'.K52>, <Cell 'amazon_reviews_us_Watches_v1_00-sample'.L52>, <Cell 'amazon_reviews_us_Watches_v1_00-sample'.M52>, <Cell 'amazon_reviews_us_Watches_v1_00-sample'.N52>, <Cell 'amazon_reviews_us_Watches_v1_00-sample'.O52>)\n",
      "(<Cell 'amazon_reviews_us_Watches_v1_00-sample'.A53>, <Cell 'amazon_reviews_us_Watches_v1_00-sample'.B53>, <Cell 'amazon_reviews_us_Watches_v1_00-sample'.C53>, <Cell 'amazon_reviews_us_Watches_v1_00-sample'.D53>, <Cell 'amazon_reviews_us_Watches_v1_00-sample'.E53>, <Cell 'amazon_reviews_us_Watches_v1_00-sample'.F53>, <Cell 'amazon_reviews_us_Watches_v1_00-sample'.G53>, <Cell 'amazon_reviews_us_Watches_v1_00-sample'.H53>, <Cell 'amazon_reviews_us_Watches_v1_00-sample'.I53>, <Cell 'amazon_reviews_us_Watches_v1_00-sample'.J53>, <Cell 'amazon_reviews_us_Watches_v1_00-sample'.K53>, <Cell 'amazon_reviews_us_Watches_v1_00-sample'.L53>, <Cell 'amazon_reviews_us_Watches_v1_00-sample'.M53>, <Cell 'amazon_reviews_us_Watches_v1_00-sample'.N53>, <Cell 'amazon_reviews_us_Watches_v1_00-sample'.O53>)\n",
      "(<Cell 'amazon_reviews_us_Watches_v1_00-sample'.A54>, <Cell 'amazon_reviews_us_Watches_v1_00-sample'.B54>, <Cell 'amazon_reviews_us_Watches_v1_00-sample'.C54>, <Cell 'amazon_reviews_us_Watches_v1_00-sample'.D54>, <Cell 'amazon_reviews_us_Watches_v1_00-sample'.E54>, <Cell 'amazon_reviews_us_Watches_v1_00-sample'.F54>, <Cell 'amazon_reviews_us_Watches_v1_00-sample'.G54>, <Cell 'amazon_reviews_us_Watches_v1_00-sample'.H54>, <Cell 'amazon_reviews_us_Watches_v1_00-sample'.I54>, <Cell 'amazon_reviews_us_Watches_v1_00-sample'.J54>, <Cell 'amazon_reviews_us_Watches_v1_00-sample'.K54>, <Cell 'amazon_reviews_us_Watches_v1_00-sample'.L54>, <Cell 'amazon_reviews_us_Watches_v1_00-sample'.M54>, <Cell 'amazon_reviews_us_Watches_v1_00-sample'.N54>, <Cell 'amazon_reviews_us_Watches_v1_00-sample'.O54>)\n",
      "(<Cell 'amazon_reviews_us_Watches_v1_00-sample'.A55>, <Cell 'amazon_reviews_us_Watches_v1_00-sample'.B55>, <Cell 'amazon_reviews_us_Watches_v1_00-sample'.C55>, <Cell 'amazon_reviews_us_Watches_v1_00-sample'.D55>, <Cell 'amazon_reviews_us_Watches_v1_00-sample'.E55>, <Cell 'amazon_reviews_us_Watches_v1_00-sample'.F55>, <Cell 'amazon_reviews_us_Watches_v1_00-sample'.G55>, <Cell 'amazon_reviews_us_Watches_v1_00-sample'.H55>, <Cell 'amazon_reviews_us_Watches_v1_00-sample'.I55>, <Cell 'amazon_reviews_us_Watches_v1_00-sample'.J55>, <Cell 'amazon_reviews_us_Watches_v1_00-sample'.K55>, <Cell 'amazon_reviews_us_Watches_v1_00-sample'.L55>, <Cell 'amazon_reviews_us_Watches_v1_00-sample'.M55>, <Cell 'amazon_reviews_us_Watches_v1_00-sample'.N55>, <Cell 'amazon_reviews_us_Watches_v1_00-sample'.O55>)\n",
      "(<Cell 'amazon_reviews_us_Watches_v1_00-sample'.A56>, <Cell 'amazon_reviews_us_Watches_v1_00-sample'.B56>, <Cell 'amazon_reviews_us_Watches_v1_00-sample'.C56>, <Cell 'amazon_reviews_us_Watches_v1_00-sample'.D56>, <Cell 'amazon_reviews_us_Watches_v1_00-sample'.E56>, <Cell 'amazon_reviews_us_Watches_v1_00-sample'.F56>, <Cell 'amazon_reviews_us_Watches_v1_00-sample'.G56>, <Cell 'amazon_reviews_us_Watches_v1_00-sample'.H56>, <Cell 'amazon_reviews_us_Watches_v1_00-sample'.I56>, <Cell 'amazon_reviews_us_Watches_v1_00-sample'.J56>, <Cell 'amazon_reviews_us_Watches_v1_00-sample'.K56>, <Cell 'amazon_reviews_us_Watches_v1_00-sample'.L56>, <Cell 'amazon_reviews_us_Watches_v1_00-sample'.M56>, <Cell 'amazon_reviews_us_Watches_v1_00-sample'.N56>, <Cell 'amazon_reviews_us_Watches_v1_00-sample'.O56>)\n",
      "(<Cell 'amazon_reviews_us_Watches_v1_00-sample'.A57>, <Cell 'amazon_reviews_us_Watches_v1_00-sample'.B57>, <Cell 'amazon_reviews_us_Watches_v1_00-sample'.C57>, <Cell 'amazon_reviews_us_Watches_v1_00-sample'.D57>, <Cell 'amazon_reviews_us_Watches_v1_00-sample'.E57>, <Cell 'amazon_reviews_us_Watches_v1_00-sample'.F57>, <Cell 'amazon_reviews_us_Watches_v1_00-sample'.G57>, <Cell 'amazon_reviews_us_Watches_v1_00-sample'.H57>, <Cell 'amazon_reviews_us_Watches_v1_00-sample'.I57>, <Cell 'amazon_reviews_us_Watches_v1_00-sample'.J57>, <Cell 'amazon_reviews_us_Watches_v1_00-sample'.K57>, <Cell 'amazon_reviews_us_Watches_v1_00-sample'.L57>, <Cell 'amazon_reviews_us_Watches_v1_00-sample'.M57>, <Cell 'amazon_reviews_us_Watches_v1_00-sample'.N57>, <Cell 'amazon_reviews_us_Watches_v1_00-sample'.O57>)\n",
      "(<Cell 'amazon_reviews_us_Watches_v1_00-sample'.A58>, <Cell 'amazon_reviews_us_Watches_v1_00-sample'.B58>, <Cell 'amazon_reviews_us_Watches_v1_00-sample'.C58>, <Cell 'amazon_reviews_us_Watches_v1_00-sample'.D58>, <Cell 'amazon_reviews_us_Watches_v1_00-sample'.E58>, <Cell 'amazon_reviews_us_Watches_v1_00-sample'.F58>, <Cell 'amazon_reviews_us_Watches_v1_00-sample'.G58>, <Cell 'amazon_reviews_us_Watches_v1_00-sample'.H58>, <Cell 'amazon_reviews_us_Watches_v1_00-sample'.I58>, <Cell 'amazon_reviews_us_Watches_v1_00-sample'.J58>, <Cell 'amazon_reviews_us_Watches_v1_00-sample'.K58>, <Cell 'amazon_reviews_us_Watches_v1_00-sample'.L58>, <Cell 'amazon_reviews_us_Watches_v1_00-sample'.M58>, <Cell 'amazon_reviews_us_Watches_v1_00-sample'.N58>, <Cell 'amazon_reviews_us_Watches_v1_00-sample'.O58>)\n",
      "(<Cell 'amazon_reviews_us_Watches_v1_00-sample'.A59>, <Cell 'amazon_reviews_us_Watches_v1_00-sample'.B59>, <Cell 'amazon_reviews_us_Watches_v1_00-sample'.C59>, <Cell 'amazon_reviews_us_Watches_v1_00-sample'.D59>, <Cell 'amazon_reviews_us_Watches_v1_00-sample'.E59>, <Cell 'amazon_reviews_us_Watches_v1_00-sample'.F59>, <Cell 'amazon_reviews_us_Watches_v1_00-sample'.G59>, <Cell 'amazon_reviews_us_Watches_v1_00-sample'.H59>, <Cell 'amazon_reviews_us_Watches_v1_00-sample'.I59>, <Cell 'amazon_reviews_us_Watches_v1_00-sample'.J59>, <Cell 'amazon_reviews_us_Watches_v1_00-sample'.K59>, <Cell 'amazon_reviews_us_Watches_v1_00-sample'.L59>, <Cell 'amazon_reviews_us_Watches_v1_00-sample'.M59>, <Cell 'amazon_reviews_us_Watches_v1_00-sample'.N59>, <Cell 'amazon_reviews_us_Watches_v1_00-sample'.O59>)\n",
      "(<Cell 'amazon_reviews_us_Watches_v1_00-sample'.A60>, <Cell 'amazon_reviews_us_Watches_v1_00-sample'.B60>, <Cell 'amazon_reviews_us_Watches_v1_00-sample'.C60>, <Cell 'amazon_reviews_us_Watches_v1_00-sample'.D60>, <Cell 'amazon_reviews_us_Watches_v1_00-sample'.E60>, <Cell 'amazon_reviews_us_Watches_v1_00-sample'.F60>, <Cell 'amazon_reviews_us_Watches_v1_00-sample'.G60>, <Cell 'amazon_reviews_us_Watches_v1_00-sample'.H60>, <Cell 'amazon_reviews_us_Watches_v1_00-sample'.I60>, <Cell 'amazon_reviews_us_Watches_v1_00-sample'.J60>, <Cell 'amazon_reviews_us_Watches_v1_00-sample'.K60>, <Cell 'amazon_reviews_us_Watches_v1_00-sample'.L60>, <Cell 'amazon_reviews_us_Watches_v1_00-sample'.M60>, <Cell 'amazon_reviews_us_Watches_v1_00-sample'.N60>, <Cell 'amazon_reviews_us_Watches_v1_00-sample'.O60>)\n",
      "(<Cell 'amazon_reviews_us_Watches_v1_00-sample'.A61>, <Cell 'amazon_reviews_us_Watches_v1_00-sample'.B61>, <Cell 'amazon_reviews_us_Watches_v1_00-sample'.C61>, <Cell 'amazon_reviews_us_Watches_v1_00-sample'.D61>, <Cell 'amazon_reviews_us_Watches_v1_00-sample'.E61>, <Cell 'amazon_reviews_us_Watches_v1_00-sample'.F61>, <Cell 'amazon_reviews_us_Watches_v1_00-sample'.G61>, <Cell 'amazon_reviews_us_Watches_v1_00-sample'.H61>, <Cell 'amazon_reviews_us_Watches_v1_00-sample'.I61>, <Cell 'amazon_reviews_us_Watches_v1_00-sample'.J61>, <Cell 'amazon_reviews_us_Watches_v1_00-sample'.K61>, <Cell 'amazon_reviews_us_Watches_v1_00-sample'.L61>, <Cell 'amazon_reviews_us_Watches_v1_00-sample'.M61>, <Cell 'amazon_reviews_us_Watches_v1_00-sample'.N61>, <Cell 'amazon_reviews_us_Watches_v1_00-sample'.O61>)\n",
      "(<Cell 'amazon_reviews_us_Watches_v1_00-sample'.A62>, <Cell 'amazon_reviews_us_Watches_v1_00-sample'.B62>, <Cell 'amazon_reviews_us_Watches_v1_00-sample'.C62>, <Cell 'amazon_reviews_us_Watches_v1_00-sample'.D62>, <Cell 'amazon_reviews_us_Watches_v1_00-sample'.E62>, <Cell 'amazon_reviews_us_Watches_v1_00-sample'.F62>, <Cell 'amazon_reviews_us_Watches_v1_00-sample'.G62>, <Cell 'amazon_reviews_us_Watches_v1_00-sample'.H62>, <Cell 'amazon_reviews_us_Watches_v1_00-sample'.I62>, <Cell 'amazon_reviews_us_Watches_v1_00-sample'.J62>, <Cell 'amazon_reviews_us_Watches_v1_00-sample'.K62>, <Cell 'amazon_reviews_us_Watches_v1_00-sample'.L62>, <Cell 'amazon_reviews_us_Watches_v1_00-sample'.M62>, <Cell 'amazon_reviews_us_Watches_v1_00-sample'.N62>, <Cell 'amazon_reviews_us_Watches_v1_00-sample'.O62>)\n",
      "(<Cell 'amazon_reviews_us_Watches_v1_00-sample'.A63>, <Cell 'amazon_reviews_us_Watches_v1_00-sample'.B63>, <Cell 'amazon_reviews_us_Watches_v1_00-sample'.C63>, <Cell 'amazon_reviews_us_Watches_v1_00-sample'.D63>, <Cell 'amazon_reviews_us_Watches_v1_00-sample'.E63>, <Cell 'amazon_reviews_us_Watches_v1_00-sample'.F63>, <Cell 'amazon_reviews_us_Watches_v1_00-sample'.G63>, <Cell 'amazon_reviews_us_Watches_v1_00-sample'.H63>, <Cell 'amazon_reviews_us_Watches_v1_00-sample'.I63>, <Cell 'amazon_reviews_us_Watches_v1_00-sample'.J63>, <Cell 'amazon_reviews_us_Watches_v1_00-sample'.K63>, <Cell 'amazon_reviews_us_Watches_v1_00-sample'.L63>, <Cell 'amazon_reviews_us_Watches_v1_00-sample'.M63>, <Cell 'amazon_reviews_us_Watches_v1_00-sample'.N63>, <Cell 'amazon_reviews_us_Watches_v1_00-sample'.O63>)\n",
      "(<Cell 'amazon_reviews_us_Watches_v1_00-sample'.A64>, <Cell 'amazon_reviews_us_Watches_v1_00-sample'.B64>, <Cell 'amazon_reviews_us_Watches_v1_00-sample'.C64>, <Cell 'amazon_reviews_us_Watches_v1_00-sample'.D64>, <Cell 'amazon_reviews_us_Watches_v1_00-sample'.E64>, <Cell 'amazon_reviews_us_Watches_v1_00-sample'.F64>, <Cell 'amazon_reviews_us_Watches_v1_00-sample'.G64>, <Cell 'amazon_reviews_us_Watches_v1_00-sample'.H64>, <Cell 'amazon_reviews_us_Watches_v1_00-sample'.I64>, <Cell 'amazon_reviews_us_Watches_v1_00-sample'.J64>, <Cell 'amazon_reviews_us_Watches_v1_00-sample'.K64>, <Cell 'amazon_reviews_us_Watches_v1_00-sample'.L64>, <Cell 'amazon_reviews_us_Watches_v1_00-sample'.M64>, <Cell 'amazon_reviews_us_Watches_v1_00-sample'.N64>, <Cell 'amazon_reviews_us_Watches_v1_00-sample'.O64>)\n",
      "(<Cell 'amazon_reviews_us_Watches_v1_00-sample'.A65>, <Cell 'amazon_reviews_us_Watches_v1_00-sample'.B65>, <Cell 'amazon_reviews_us_Watches_v1_00-sample'.C65>, <Cell 'amazon_reviews_us_Watches_v1_00-sample'.D65>, <Cell 'amazon_reviews_us_Watches_v1_00-sample'.E65>, <Cell 'amazon_reviews_us_Watches_v1_00-sample'.F65>, <Cell 'amazon_reviews_us_Watches_v1_00-sample'.G65>, <Cell 'amazon_reviews_us_Watches_v1_00-sample'.H65>, <Cell 'amazon_reviews_us_Watches_v1_00-sample'.I65>, <Cell 'amazon_reviews_us_Watches_v1_00-sample'.J65>, <Cell 'amazon_reviews_us_Watches_v1_00-sample'.K65>, <Cell 'amazon_reviews_us_Watches_v1_00-sample'.L65>, <Cell 'amazon_reviews_us_Watches_v1_00-sample'.M65>, <Cell 'amazon_reviews_us_Watches_v1_00-sample'.N65>, <Cell 'amazon_reviews_us_Watches_v1_00-sample'.O65>)\n",
      "(<Cell 'amazon_reviews_us_Watches_v1_00-sample'.A66>, <Cell 'amazon_reviews_us_Watches_v1_00-sample'.B66>, <Cell 'amazon_reviews_us_Watches_v1_00-sample'.C66>, <Cell 'amazon_reviews_us_Watches_v1_00-sample'.D66>, <Cell 'amazon_reviews_us_Watches_v1_00-sample'.E66>, <Cell 'amazon_reviews_us_Watches_v1_00-sample'.F66>, <Cell 'amazon_reviews_us_Watches_v1_00-sample'.G66>, <Cell 'amazon_reviews_us_Watches_v1_00-sample'.H66>, <Cell 'amazon_reviews_us_Watches_v1_00-sample'.I66>, <Cell 'amazon_reviews_us_Watches_v1_00-sample'.J66>, <Cell 'amazon_reviews_us_Watches_v1_00-sample'.K66>, <Cell 'amazon_reviews_us_Watches_v1_00-sample'.L66>, <Cell 'amazon_reviews_us_Watches_v1_00-sample'.M66>, <Cell 'amazon_reviews_us_Watches_v1_00-sample'.N66>, <Cell 'amazon_reviews_us_Watches_v1_00-sample'.O66>)\n",
      "(<Cell 'amazon_reviews_us_Watches_v1_00-sample'.A67>, <Cell 'amazon_reviews_us_Watches_v1_00-sample'.B67>, <Cell 'amazon_reviews_us_Watches_v1_00-sample'.C67>, <Cell 'amazon_reviews_us_Watches_v1_00-sample'.D67>, <Cell 'amazon_reviews_us_Watches_v1_00-sample'.E67>, <Cell 'amazon_reviews_us_Watches_v1_00-sample'.F67>, <Cell 'amazon_reviews_us_Watches_v1_00-sample'.G67>, <Cell 'amazon_reviews_us_Watches_v1_00-sample'.H67>, <Cell 'amazon_reviews_us_Watches_v1_00-sample'.I67>, <Cell 'amazon_reviews_us_Watches_v1_00-sample'.J67>, <Cell 'amazon_reviews_us_Watches_v1_00-sample'.K67>, <Cell 'amazon_reviews_us_Watches_v1_00-sample'.L67>, <Cell 'amazon_reviews_us_Watches_v1_00-sample'.M67>, <Cell 'amazon_reviews_us_Watches_v1_00-sample'.N67>, <Cell 'amazon_reviews_us_Watches_v1_00-sample'.O67>)\n",
      "(<Cell 'amazon_reviews_us_Watches_v1_00-sample'.A68>, <Cell 'amazon_reviews_us_Watches_v1_00-sample'.B68>, <Cell 'amazon_reviews_us_Watches_v1_00-sample'.C68>, <Cell 'amazon_reviews_us_Watches_v1_00-sample'.D68>, <Cell 'amazon_reviews_us_Watches_v1_00-sample'.E68>, <Cell 'amazon_reviews_us_Watches_v1_00-sample'.F68>, <Cell 'amazon_reviews_us_Watches_v1_00-sample'.G68>, <Cell 'amazon_reviews_us_Watches_v1_00-sample'.H68>, <Cell 'amazon_reviews_us_Watches_v1_00-sample'.I68>, <Cell 'amazon_reviews_us_Watches_v1_00-sample'.J68>, <Cell 'amazon_reviews_us_Watches_v1_00-sample'.K68>, <Cell 'amazon_reviews_us_Watches_v1_00-sample'.L68>, <Cell 'amazon_reviews_us_Watches_v1_00-sample'.M68>, <Cell 'amazon_reviews_us_Watches_v1_00-sample'.N68>, <Cell 'amazon_reviews_us_Watches_v1_00-sample'.O68>)\n",
      "(<Cell 'amazon_reviews_us_Watches_v1_00-sample'.A69>, <Cell 'amazon_reviews_us_Watches_v1_00-sample'.B69>, <Cell 'amazon_reviews_us_Watches_v1_00-sample'.C69>, <Cell 'amazon_reviews_us_Watches_v1_00-sample'.D69>, <Cell 'amazon_reviews_us_Watches_v1_00-sample'.E69>, <Cell 'amazon_reviews_us_Watches_v1_00-sample'.F69>, <Cell 'amazon_reviews_us_Watches_v1_00-sample'.G69>, <Cell 'amazon_reviews_us_Watches_v1_00-sample'.H69>, <Cell 'amazon_reviews_us_Watches_v1_00-sample'.I69>, <Cell 'amazon_reviews_us_Watches_v1_00-sample'.J69>, <Cell 'amazon_reviews_us_Watches_v1_00-sample'.K69>, <Cell 'amazon_reviews_us_Watches_v1_00-sample'.L69>, <Cell 'amazon_reviews_us_Watches_v1_00-sample'.M69>, <Cell 'amazon_reviews_us_Watches_v1_00-sample'.N69>, <Cell 'amazon_reviews_us_Watches_v1_00-sample'.O69>)\n",
      "(<Cell 'amazon_reviews_us_Watches_v1_00-sample'.A70>, <Cell 'amazon_reviews_us_Watches_v1_00-sample'.B70>, <Cell 'amazon_reviews_us_Watches_v1_00-sample'.C70>, <Cell 'amazon_reviews_us_Watches_v1_00-sample'.D70>, <Cell 'amazon_reviews_us_Watches_v1_00-sample'.E70>, <Cell 'amazon_reviews_us_Watches_v1_00-sample'.F70>, <Cell 'amazon_reviews_us_Watches_v1_00-sample'.G70>, <Cell 'amazon_reviews_us_Watches_v1_00-sample'.H70>, <Cell 'amazon_reviews_us_Watches_v1_00-sample'.I70>, <Cell 'amazon_reviews_us_Watches_v1_00-sample'.J70>, <Cell 'amazon_reviews_us_Watches_v1_00-sample'.K70>, <Cell 'amazon_reviews_us_Watches_v1_00-sample'.L70>, <Cell 'amazon_reviews_us_Watches_v1_00-sample'.M70>, <Cell 'amazon_reviews_us_Watches_v1_00-sample'.N70>, <Cell 'amazon_reviews_us_Watches_v1_00-sample'.O70>)\n",
      "(<Cell 'amazon_reviews_us_Watches_v1_00-sample'.A71>, <Cell 'amazon_reviews_us_Watches_v1_00-sample'.B71>, <Cell 'amazon_reviews_us_Watches_v1_00-sample'.C71>, <Cell 'amazon_reviews_us_Watches_v1_00-sample'.D71>, <Cell 'amazon_reviews_us_Watches_v1_00-sample'.E71>, <Cell 'amazon_reviews_us_Watches_v1_00-sample'.F71>, <Cell 'amazon_reviews_us_Watches_v1_00-sample'.G71>, <Cell 'amazon_reviews_us_Watches_v1_00-sample'.H71>, <Cell 'amazon_reviews_us_Watches_v1_00-sample'.I71>, <Cell 'amazon_reviews_us_Watches_v1_00-sample'.J71>, <Cell 'amazon_reviews_us_Watches_v1_00-sample'.K71>, <Cell 'amazon_reviews_us_Watches_v1_00-sample'.L71>, <Cell 'amazon_reviews_us_Watches_v1_00-sample'.M71>, <Cell 'amazon_reviews_us_Watches_v1_00-sample'.N71>, <Cell 'amazon_reviews_us_Watches_v1_00-sample'.O71>)\n",
      "(<Cell 'amazon_reviews_us_Watches_v1_00-sample'.A72>, <Cell 'amazon_reviews_us_Watches_v1_00-sample'.B72>, <Cell 'amazon_reviews_us_Watches_v1_00-sample'.C72>, <Cell 'amazon_reviews_us_Watches_v1_00-sample'.D72>, <Cell 'amazon_reviews_us_Watches_v1_00-sample'.E72>, <Cell 'amazon_reviews_us_Watches_v1_00-sample'.F72>, <Cell 'amazon_reviews_us_Watches_v1_00-sample'.G72>, <Cell 'amazon_reviews_us_Watches_v1_00-sample'.H72>, <Cell 'amazon_reviews_us_Watches_v1_00-sample'.I72>, <Cell 'amazon_reviews_us_Watches_v1_00-sample'.J72>, <Cell 'amazon_reviews_us_Watches_v1_00-sample'.K72>, <Cell 'amazon_reviews_us_Watches_v1_00-sample'.L72>, <Cell 'amazon_reviews_us_Watches_v1_00-sample'.M72>, <Cell 'amazon_reviews_us_Watches_v1_00-sample'.N72>, <Cell 'amazon_reviews_us_Watches_v1_00-sample'.O72>)\n",
      "(<Cell 'amazon_reviews_us_Watches_v1_00-sample'.A73>, <Cell 'amazon_reviews_us_Watches_v1_00-sample'.B73>, <Cell 'amazon_reviews_us_Watches_v1_00-sample'.C73>, <Cell 'amazon_reviews_us_Watches_v1_00-sample'.D73>, <Cell 'amazon_reviews_us_Watches_v1_00-sample'.E73>, <Cell 'amazon_reviews_us_Watches_v1_00-sample'.F73>, <Cell 'amazon_reviews_us_Watches_v1_00-sample'.G73>, <Cell 'amazon_reviews_us_Watches_v1_00-sample'.H73>, <Cell 'amazon_reviews_us_Watches_v1_00-sample'.I73>, <Cell 'amazon_reviews_us_Watches_v1_00-sample'.J73>, <Cell 'amazon_reviews_us_Watches_v1_00-sample'.K73>, <Cell 'amazon_reviews_us_Watches_v1_00-sample'.L73>, <Cell 'amazon_reviews_us_Watches_v1_00-sample'.M73>, <Cell 'amazon_reviews_us_Watches_v1_00-sample'.N73>, <Cell 'amazon_reviews_us_Watches_v1_00-sample'.O73>)\n",
      "(<Cell 'amazon_reviews_us_Watches_v1_00-sample'.A74>, <Cell 'amazon_reviews_us_Watches_v1_00-sample'.B74>, <Cell 'amazon_reviews_us_Watches_v1_00-sample'.C74>, <Cell 'amazon_reviews_us_Watches_v1_00-sample'.D74>, <Cell 'amazon_reviews_us_Watches_v1_00-sample'.E74>, <Cell 'amazon_reviews_us_Watches_v1_00-sample'.F74>, <Cell 'amazon_reviews_us_Watches_v1_00-sample'.G74>, <Cell 'amazon_reviews_us_Watches_v1_00-sample'.H74>, <Cell 'amazon_reviews_us_Watches_v1_00-sample'.I74>, <Cell 'amazon_reviews_us_Watches_v1_00-sample'.J74>, <Cell 'amazon_reviews_us_Watches_v1_00-sample'.K74>, <Cell 'amazon_reviews_us_Watches_v1_00-sample'.L74>, <Cell 'amazon_reviews_us_Watches_v1_00-sample'.M74>, <Cell 'amazon_reviews_us_Watches_v1_00-sample'.N74>, <Cell 'amazon_reviews_us_Watches_v1_00-sample'.O74>)\n",
      "(<Cell 'amazon_reviews_us_Watches_v1_00-sample'.A75>, <Cell 'amazon_reviews_us_Watches_v1_00-sample'.B75>, <Cell 'amazon_reviews_us_Watches_v1_00-sample'.C75>, <Cell 'amazon_reviews_us_Watches_v1_00-sample'.D75>, <Cell 'amazon_reviews_us_Watches_v1_00-sample'.E75>, <Cell 'amazon_reviews_us_Watches_v1_00-sample'.F75>, <Cell 'amazon_reviews_us_Watches_v1_00-sample'.G75>, <Cell 'amazon_reviews_us_Watches_v1_00-sample'.H75>, <Cell 'amazon_reviews_us_Watches_v1_00-sample'.I75>, <Cell 'amazon_reviews_us_Watches_v1_00-sample'.J75>, <Cell 'amazon_reviews_us_Watches_v1_00-sample'.K75>, <Cell 'amazon_reviews_us_Watches_v1_00-sample'.L75>, <Cell 'amazon_reviews_us_Watches_v1_00-sample'.M75>, <Cell 'amazon_reviews_us_Watches_v1_00-sample'.N75>, <Cell 'amazon_reviews_us_Watches_v1_00-sample'.O75>)\n",
      "(<Cell 'amazon_reviews_us_Watches_v1_00-sample'.A76>, <Cell 'amazon_reviews_us_Watches_v1_00-sample'.B76>, <Cell 'amazon_reviews_us_Watches_v1_00-sample'.C76>, <Cell 'amazon_reviews_us_Watches_v1_00-sample'.D76>, <Cell 'amazon_reviews_us_Watches_v1_00-sample'.E76>, <Cell 'amazon_reviews_us_Watches_v1_00-sample'.F76>, <Cell 'amazon_reviews_us_Watches_v1_00-sample'.G76>, <Cell 'amazon_reviews_us_Watches_v1_00-sample'.H76>, <Cell 'amazon_reviews_us_Watches_v1_00-sample'.I76>, <Cell 'amazon_reviews_us_Watches_v1_00-sample'.J76>, <Cell 'amazon_reviews_us_Watches_v1_00-sample'.K76>, <Cell 'amazon_reviews_us_Watches_v1_00-sample'.L76>, <Cell 'amazon_reviews_us_Watches_v1_00-sample'.M76>, <Cell 'amazon_reviews_us_Watches_v1_00-sample'.N76>, <Cell 'amazon_reviews_us_Watches_v1_00-sample'.O76>)\n",
      "(<Cell 'amazon_reviews_us_Watches_v1_00-sample'.A77>, <Cell 'amazon_reviews_us_Watches_v1_00-sample'.B77>, <Cell 'amazon_reviews_us_Watches_v1_00-sample'.C77>, <Cell 'amazon_reviews_us_Watches_v1_00-sample'.D77>, <Cell 'amazon_reviews_us_Watches_v1_00-sample'.E77>, <Cell 'amazon_reviews_us_Watches_v1_00-sample'.F77>, <Cell 'amazon_reviews_us_Watches_v1_00-sample'.G77>, <Cell 'amazon_reviews_us_Watches_v1_00-sample'.H77>, <Cell 'amazon_reviews_us_Watches_v1_00-sample'.I77>, <Cell 'amazon_reviews_us_Watches_v1_00-sample'.J77>, <Cell 'amazon_reviews_us_Watches_v1_00-sample'.K77>, <Cell 'amazon_reviews_us_Watches_v1_00-sample'.L77>, <Cell 'amazon_reviews_us_Watches_v1_00-sample'.M77>, <Cell 'amazon_reviews_us_Watches_v1_00-sample'.N77>, <Cell 'amazon_reviews_us_Watches_v1_00-sample'.O77>)\n",
      "(<Cell 'amazon_reviews_us_Watches_v1_00-sample'.A78>, <Cell 'amazon_reviews_us_Watches_v1_00-sample'.B78>, <Cell 'amazon_reviews_us_Watches_v1_00-sample'.C78>, <Cell 'amazon_reviews_us_Watches_v1_00-sample'.D78>, <Cell 'amazon_reviews_us_Watches_v1_00-sample'.E78>, <Cell 'amazon_reviews_us_Watches_v1_00-sample'.F78>, <Cell 'amazon_reviews_us_Watches_v1_00-sample'.G78>, <Cell 'amazon_reviews_us_Watches_v1_00-sample'.H78>, <Cell 'amazon_reviews_us_Watches_v1_00-sample'.I78>, <Cell 'amazon_reviews_us_Watches_v1_00-sample'.J78>, <Cell 'amazon_reviews_us_Watches_v1_00-sample'.K78>, <Cell 'amazon_reviews_us_Watches_v1_00-sample'.L78>, <Cell 'amazon_reviews_us_Watches_v1_00-sample'.M78>, <Cell 'amazon_reviews_us_Watches_v1_00-sample'.N78>, <Cell 'amazon_reviews_us_Watches_v1_00-sample'.O78>)\n",
      "(<Cell 'amazon_reviews_us_Watches_v1_00-sample'.A79>, <Cell 'amazon_reviews_us_Watches_v1_00-sample'.B79>, <Cell 'amazon_reviews_us_Watches_v1_00-sample'.C79>, <Cell 'amazon_reviews_us_Watches_v1_00-sample'.D79>, <Cell 'amazon_reviews_us_Watches_v1_00-sample'.E79>, <Cell 'amazon_reviews_us_Watches_v1_00-sample'.F79>, <Cell 'amazon_reviews_us_Watches_v1_00-sample'.G79>, <Cell 'amazon_reviews_us_Watches_v1_00-sample'.H79>, <Cell 'amazon_reviews_us_Watches_v1_00-sample'.I79>, <Cell 'amazon_reviews_us_Watches_v1_00-sample'.J79>, <Cell 'amazon_reviews_us_Watches_v1_00-sample'.K79>, <Cell 'amazon_reviews_us_Watches_v1_00-sample'.L79>, <Cell 'amazon_reviews_us_Watches_v1_00-sample'.M79>, <Cell 'amazon_reviews_us_Watches_v1_00-sample'.N79>, <Cell 'amazon_reviews_us_Watches_v1_00-sample'.O79>)\n",
      "(<Cell 'amazon_reviews_us_Watches_v1_00-sample'.A80>, <Cell 'amazon_reviews_us_Watches_v1_00-sample'.B80>, <Cell 'amazon_reviews_us_Watches_v1_00-sample'.C80>, <Cell 'amazon_reviews_us_Watches_v1_00-sample'.D80>, <Cell 'amazon_reviews_us_Watches_v1_00-sample'.E80>, <Cell 'amazon_reviews_us_Watches_v1_00-sample'.F80>, <Cell 'amazon_reviews_us_Watches_v1_00-sample'.G80>, <Cell 'amazon_reviews_us_Watches_v1_00-sample'.H80>, <Cell 'amazon_reviews_us_Watches_v1_00-sample'.I80>, <Cell 'amazon_reviews_us_Watches_v1_00-sample'.J80>, <Cell 'amazon_reviews_us_Watches_v1_00-sample'.K80>, <Cell 'amazon_reviews_us_Watches_v1_00-sample'.L80>, <Cell 'amazon_reviews_us_Watches_v1_00-sample'.M80>, <Cell 'amazon_reviews_us_Watches_v1_00-sample'.N80>, <Cell 'amazon_reviews_us_Watches_v1_00-sample'.O80>)\n",
      "(<Cell 'amazon_reviews_us_Watches_v1_00-sample'.A81>, <Cell 'amazon_reviews_us_Watches_v1_00-sample'.B81>, <Cell 'amazon_reviews_us_Watches_v1_00-sample'.C81>, <Cell 'amazon_reviews_us_Watches_v1_00-sample'.D81>, <Cell 'amazon_reviews_us_Watches_v1_00-sample'.E81>, <Cell 'amazon_reviews_us_Watches_v1_00-sample'.F81>, <Cell 'amazon_reviews_us_Watches_v1_00-sample'.G81>, <Cell 'amazon_reviews_us_Watches_v1_00-sample'.H81>, <Cell 'amazon_reviews_us_Watches_v1_00-sample'.I81>, <Cell 'amazon_reviews_us_Watches_v1_00-sample'.J81>, <Cell 'amazon_reviews_us_Watches_v1_00-sample'.K81>, <Cell 'amazon_reviews_us_Watches_v1_00-sample'.L81>, <Cell 'amazon_reviews_us_Watches_v1_00-sample'.M81>, <Cell 'amazon_reviews_us_Watches_v1_00-sample'.N81>, <Cell 'amazon_reviews_us_Watches_v1_00-sample'.O81>)\n",
      "(<Cell 'amazon_reviews_us_Watches_v1_00-sample'.A82>, <Cell 'amazon_reviews_us_Watches_v1_00-sample'.B82>, <Cell 'amazon_reviews_us_Watches_v1_00-sample'.C82>, <Cell 'amazon_reviews_us_Watches_v1_00-sample'.D82>, <Cell 'amazon_reviews_us_Watches_v1_00-sample'.E82>, <Cell 'amazon_reviews_us_Watches_v1_00-sample'.F82>, <Cell 'amazon_reviews_us_Watches_v1_00-sample'.G82>, <Cell 'amazon_reviews_us_Watches_v1_00-sample'.H82>, <Cell 'amazon_reviews_us_Watches_v1_00-sample'.I82>, <Cell 'amazon_reviews_us_Watches_v1_00-sample'.J82>, <Cell 'amazon_reviews_us_Watches_v1_00-sample'.K82>, <Cell 'amazon_reviews_us_Watches_v1_00-sample'.L82>, <Cell 'amazon_reviews_us_Watches_v1_00-sample'.M82>, <Cell 'amazon_reviews_us_Watches_v1_00-sample'.N82>, <Cell 'amazon_reviews_us_Watches_v1_00-sample'.O82>)\n",
      "(<Cell 'amazon_reviews_us_Watches_v1_00-sample'.A83>, <Cell 'amazon_reviews_us_Watches_v1_00-sample'.B83>, <Cell 'amazon_reviews_us_Watches_v1_00-sample'.C83>, <Cell 'amazon_reviews_us_Watches_v1_00-sample'.D83>, <Cell 'amazon_reviews_us_Watches_v1_00-sample'.E83>, <Cell 'amazon_reviews_us_Watches_v1_00-sample'.F83>, <Cell 'amazon_reviews_us_Watches_v1_00-sample'.G83>, <Cell 'amazon_reviews_us_Watches_v1_00-sample'.H83>, <Cell 'amazon_reviews_us_Watches_v1_00-sample'.I83>, <Cell 'amazon_reviews_us_Watches_v1_00-sample'.J83>, <Cell 'amazon_reviews_us_Watches_v1_00-sample'.K83>, <Cell 'amazon_reviews_us_Watches_v1_00-sample'.L83>, <Cell 'amazon_reviews_us_Watches_v1_00-sample'.M83>, <Cell 'amazon_reviews_us_Watches_v1_00-sample'.N83>, <Cell 'amazon_reviews_us_Watches_v1_00-sample'.O83>)\n",
      "(<Cell 'amazon_reviews_us_Watches_v1_00-sample'.A84>, <Cell 'amazon_reviews_us_Watches_v1_00-sample'.B84>, <Cell 'amazon_reviews_us_Watches_v1_00-sample'.C84>, <Cell 'amazon_reviews_us_Watches_v1_00-sample'.D84>, <Cell 'amazon_reviews_us_Watches_v1_00-sample'.E84>, <Cell 'amazon_reviews_us_Watches_v1_00-sample'.F84>, <Cell 'amazon_reviews_us_Watches_v1_00-sample'.G84>, <Cell 'amazon_reviews_us_Watches_v1_00-sample'.H84>, <Cell 'amazon_reviews_us_Watches_v1_00-sample'.I84>, <Cell 'amazon_reviews_us_Watches_v1_00-sample'.J84>, <Cell 'amazon_reviews_us_Watches_v1_00-sample'.K84>, <Cell 'amazon_reviews_us_Watches_v1_00-sample'.L84>, <Cell 'amazon_reviews_us_Watches_v1_00-sample'.M84>, <Cell 'amazon_reviews_us_Watches_v1_00-sample'.N84>, <Cell 'amazon_reviews_us_Watches_v1_00-sample'.O84>)\n",
      "(<Cell 'amazon_reviews_us_Watches_v1_00-sample'.A85>, <Cell 'amazon_reviews_us_Watches_v1_00-sample'.B85>, <Cell 'amazon_reviews_us_Watches_v1_00-sample'.C85>, <Cell 'amazon_reviews_us_Watches_v1_00-sample'.D85>, <Cell 'amazon_reviews_us_Watches_v1_00-sample'.E85>, <Cell 'amazon_reviews_us_Watches_v1_00-sample'.F85>, <Cell 'amazon_reviews_us_Watches_v1_00-sample'.G85>, <Cell 'amazon_reviews_us_Watches_v1_00-sample'.H85>, <Cell 'amazon_reviews_us_Watches_v1_00-sample'.I85>, <Cell 'amazon_reviews_us_Watches_v1_00-sample'.J85>, <Cell 'amazon_reviews_us_Watches_v1_00-sample'.K85>, <Cell 'amazon_reviews_us_Watches_v1_00-sample'.L85>, <Cell 'amazon_reviews_us_Watches_v1_00-sample'.M85>, <Cell 'amazon_reviews_us_Watches_v1_00-sample'.N85>, <Cell 'amazon_reviews_us_Watches_v1_00-sample'.O85>)\n",
      "(<Cell 'amazon_reviews_us_Watches_v1_00-sample'.A86>, <Cell 'amazon_reviews_us_Watches_v1_00-sample'.B86>, <Cell 'amazon_reviews_us_Watches_v1_00-sample'.C86>, <Cell 'amazon_reviews_us_Watches_v1_00-sample'.D86>, <Cell 'amazon_reviews_us_Watches_v1_00-sample'.E86>, <Cell 'amazon_reviews_us_Watches_v1_00-sample'.F86>, <Cell 'amazon_reviews_us_Watches_v1_00-sample'.G86>, <Cell 'amazon_reviews_us_Watches_v1_00-sample'.H86>, <Cell 'amazon_reviews_us_Watches_v1_00-sample'.I86>, <Cell 'amazon_reviews_us_Watches_v1_00-sample'.J86>, <Cell 'amazon_reviews_us_Watches_v1_00-sample'.K86>, <Cell 'amazon_reviews_us_Watches_v1_00-sample'.L86>, <Cell 'amazon_reviews_us_Watches_v1_00-sample'.M86>, <Cell 'amazon_reviews_us_Watches_v1_00-sample'.N86>, <Cell 'amazon_reviews_us_Watches_v1_00-sample'.O86>)\n",
      "(<Cell 'amazon_reviews_us_Watches_v1_00-sample'.A87>, <Cell 'amazon_reviews_us_Watches_v1_00-sample'.B87>, <Cell 'amazon_reviews_us_Watches_v1_00-sample'.C87>, <Cell 'amazon_reviews_us_Watches_v1_00-sample'.D87>, <Cell 'amazon_reviews_us_Watches_v1_00-sample'.E87>, <Cell 'amazon_reviews_us_Watches_v1_00-sample'.F87>, <Cell 'amazon_reviews_us_Watches_v1_00-sample'.G87>, <Cell 'amazon_reviews_us_Watches_v1_00-sample'.H87>, <Cell 'amazon_reviews_us_Watches_v1_00-sample'.I87>, <Cell 'amazon_reviews_us_Watches_v1_00-sample'.J87>, <Cell 'amazon_reviews_us_Watches_v1_00-sample'.K87>, <Cell 'amazon_reviews_us_Watches_v1_00-sample'.L87>, <Cell 'amazon_reviews_us_Watches_v1_00-sample'.M87>, <Cell 'amazon_reviews_us_Watches_v1_00-sample'.N87>, <Cell 'amazon_reviews_us_Watches_v1_00-sample'.O87>)\n",
      "(<Cell 'amazon_reviews_us_Watches_v1_00-sample'.A88>, <Cell 'amazon_reviews_us_Watches_v1_00-sample'.B88>, <Cell 'amazon_reviews_us_Watches_v1_00-sample'.C88>, <Cell 'amazon_reviews_us_Watches_v1_00-sample'.D88>, <Cell 'amazon_reviews_us_Watches_v1_00-sample'.E88>, <Cell 'amazon_reviews_us_Watches_v1_00-sample'.F88>, <Cell 'amazon_reviews_us_Watches_v1_00-sample'.G88>, <Cell 'amazon_reviews_us_Watches_v1_00-sample'.H88>, <Cell 'amazon_reviews_us_Watches_v1_00-sample'.I88>, <Cell 'amazon_reviews_us_Watches_v1_00-sample'.J88>, <Cell 'amazon_reviews_us_Watches_v1_00-sample'.K88>, <Cell 'amazon_reviews_us_Watches_v1_00-sample'.L88>, <Cell 'amazon_reviews_us_Watches_v1_00-sample'.M88>, <Cell 'amazon_reviews_us_Watches_v1_00-sample'.N88>, <Cell 'amazon_reviews_us_Watches_v1_00-sample'.O88>)\n",
      "(<Cell 'amazon_reviews_us_Watches_v1_00-sample'.A89>, <Cell 'amazon_reviews_us_Watches_v1_00-sample'.B89>, <Cell 'amazon_reviews_us_Watches_v1_00-sample'.C89>, <Cell 'amazon_reviews_us_Watches_v1_00-sample'.D89>, <Cell 'amazon_reviews_us_Watches_v1_00-sample'.E89>, <Cell 'amazon_reviews_us_Watches_v1_00-sample'.F89>, <Cell 'amazon_reviews_us_Watches_v1_00-sample'.G89>, <Cell 'amazon_reviews_us_Watches_v1_00-sample'.H89>, <Cell 'amazon_reviews_us_Watches_v1_00-sample'.I89>, <Cell 'amazon_reviews_us_Watches_v1_00-sample'.J89>, <Cell 'amazon_reviews_us_Watches_v1_00-sample'.K89>, <Cell 'amazon_reviews_us_Watches_v1_00-sample'.L89>, <Cell 'amazon_reviews_us_Watches_v1_00-sample'.M89>, <Cell 'amazon_reviews_us_Watches_v1_00-sample'.N89>, <Cell 'amazon_reviews_us_Watches_v1_00-sample'.O89>)\n",
      "(<Cell 'amazon_reviews_us_Watches_v1_00-sample'.A90>, <Cell 'amazon_reviews_us_Watches_v1_00-sample'.B90>, <Cell 'amazon_reviews_us_Watches_v1_00-sample'.C90>, <Cell 'amazon_reviews_us_Watches_v1_00-sample'.D90>, <Cell 'amazon_reviews_us_Watches_v1_00-sample'.E90>, <Cell 'amazon_reviews_us_Watches_v1_00-sample'.F90>, <Cell 'amazon_reviews_us_Watches_v1_00-sample'.G90>, <Cell 'amazon_reviews_us_Watches_v1_00-sample'.H90>, <Cell 'amazon_reviews_us_Watches_v1_00-sample'.I90>, <Cell 'amazon_reviews_us_Watches_v1_00-sample'.J90>, <Cell 'amazon_reviews_us_Watches_v1_00-sample'.K90>, <Cell 'amazon_reviews_us_Watches_v1_00-sample'.L90>, <Cell 'amazon_reviews_us_Watches_v1_00-sample'.M90>, <Cell 'amazon_reviews_us_Watches_v1_00-sample'.N90>, <Cell 'amazon_reviews_us_Watches_v1_00-sample'.O90>)\n",
      "(<Cell 'amazon_reviews_us_Watches_v1_00-sample'.A91>, <Cell 'amazon_reviews_us_Watches_v1_00-sample'.B91>, <Cell 'amazon_reviews_us_Watches_v1_00-sample'.C91>, <Cell 'amazon_reviews_us_Watches_v1_00-sample'.D91>, <Cell 'amazon_reviews_us_Watches_v1_00-sample'.E91>, <Cell 'amazon_reviews_us_Watches_v1_00-sample'.F91>, <Cell 'amazon_reviews_us_Watches_v1_00-sample'.G91>, <Cell 'amazon_reviews_us_Watches_v1_00-sample'.H91>, <Cell 'amazon_reviews_us_Watches_v1_00-sample'.I91>, <Cell 'amazon_reviews_us_Watches_v1_00-sample'.J91>, <Cell 'amazon_reviews_us_Watches_v1_00-sample'.K91>, <Cell 'amazon_reviews_us_Watches_v1_00-sample'.L91>, <Cell 'amazon_reviews_us_Watches_v1_00-sample'.M91>, <Cell 'amazon_reviews_us_Watches_v1_00-sample'.N91>, <Cell 'amazon_reviews_us_Watches_v1_00-sample'.O91>)\n",
      "(<Cell 'amazon_reviews_us_Watches_v1_00-sample'.A92>, <Cell 'amazon_reviews_us_Watches_v1_00-sample'.B92>, <Cell 'amazon_reviews_us_Watches_v1_00-sample'.C92>, <Cell 'amazon_reviews_us_Watches_v1_00-sample'.D92>, <Cell 'amazon_reviews_us_Watches_v1_00-sample'.E92>, <Cell 'amazon_reviews_us_Watches_v1_00-sample'.F92>, <Cell 'amazon_reviews_us_Watches_v1_00-sample'.G92>, <Cell 'amazon_reviews_us_Watches_v1_00-sample'.H92>, <Cell 'amazon_reviews_us_Watches_v1_00-sample'.I92>, <Cell 'amazon_reviews_us_Watches_v1_00-sample'.J92>, <Cell 'amazon_reviews_us_Watches_v1_00-sample'.K92>, <Cell 'amazon_reviews_us_Watches_v1_00-sample'.L92>, <Cell 'amazon_reviews_us_Watches_v1_00-sample'.M92>, <Cell 'amazon_reviews_us_Watches_v1_00-sample'.N92>, <Cell 'amazon_reviews_us_Watches_v1_00-sample'.O92>)\n",
      "(<Cell 'amazon_reviews_us_Watches_v1_00-sample'.A93>, <Cell 'amazon_reviews_us_Watches_v1_00-sample'.B93>, <Cell 'amazon_reviews_us_Watches_v1_00-sample'.C93>, <Cell 'amazon_reviews_us_Watches_v1_00-sample'.D93>, <Cell 'amazon_reviews_us_Watches_v1_00-sample'.E93>, <Cell 'amazon_reviews_us_Watches_v1_00-sample'.F93>, <Cell 'amazon_reviews_us_Watches_v1_00-sample'.G93>, <Cell 'amazon_reviews_us_Watches_v1_00-sample'.H93>, <Cell 'amazon_reviews_us_Watches_v1_00-sample'.I93>, <Cell 'amazon_reviews_us_Watches_v1_00-sample'.J93>, <Cell 'amazon_reviews_us_Watches_v1_00-sample'.K93>, <Cell 'amazon_reviews_us_Watches_v1_00-sample'.L93>, <Cell 'amazon_reviews_us_Watches_v1_00-sample'.M93>, <Cell 'amazon_reviews_us_Watches_v1_00-sample'.N93>, <Cell 'amazon_reviews_us_Watches_v1_00-sample'.O93>)\n",
      "(<Cell 'amazon_reviews_us_Watches_v1_00-sample'.A94>, <Cell 'amazon_reviews_us_Watches_v1_00-sample'.B94>, <Cell 'amazon_reviews_us_Watches_v1_00-sample'.C94>, <Cell 'amazon_reviews_us_Watches_v1_00-sample'.D94>, <Cell 'amazon_reviews_us_Watches_v1_00-sample'.E94>, <Cell 'amazon_reviews_us_Watches_v1_00-sample'.F94>, <Cell 'amazon_reviews_us_Watches_v1_00-sample'.G94>, <Cell 'amazon_reviews_us_Watches_v1_00-sample'.H94>, <Cell 'amazon_reviews_us_Watches_v1_00-sample'.I94>, <Cell 'amazon_reviews_us_Watches_v1_00-sample'.J94>, <Cell 'amazon_reviews_us_Watches_v1_00-sample'.K94>, <Cell 'amazon_reviews_us_Watches_v1_00-sample'.L94>, <Cell 'amazon_reviews_us_Watches_v1_00-sample'.M94>, <Cell 'amazon_reviews_us_Watches_v1_00-sample'.N94>, <Cell 'amazon_reviews_us_Watches_v1_00-sample'.O94>)\n",
      "(<Cell 'amazon_reviews_us_Watches_v1_00-sample'.A95>, <Cell 'amazon_reviews_us_Watches_v1_00-sample'.B95>, <Cell 'amazon_reviews_us_Watches_v1_00-sample'.C95>, <Cell 'amazon_reviews_us_Watches_v1_00-sample'.D95>, <Cell 'amazon_reviews_us_Watches_v1_00-sample'.E95>, <Cell 'amazon_reviews_us_Watches_v1_00-sample'.F95>, <Cell 'amazon_reviews_us_Watches_v1_00-sample'.G95>, <Cell 'amazon_reviews_us_Watches_v1_00-sample'.H95>, <Cell 'amazon_reviews_us_Watches_v1_00-sample'.I95>, <Cell 'amazon_reviews_us_Watches_v1_00-sample'.J95>, <Cell 'amazon_reviews_us_Watches_v1_00-sample'.K95>, <Cell 'amazon_reviews_us_Watches_v1_00-sample'.L95>, <Cell 'amazon_reviews_us_Watches_v1_00-sample'.M95>, <Cell 'amazon_reviews_us_Watches_v1_00-sample'.N95>, <Cell 'amazon_reviews_us_Watches_v1_00-sample'.O95>)\n",
      "(<Cell 'amazon_reviews_us_Watches_v1_00-sample'.A96>, <Cell 'amazon_reviews_us_Watches_v1_00-sample'.B96>, <Cell 'amazon_reviews_us_Watches_v1_00-sample'.C96>, <Cell 'amazon_reviews_us_Watches_v1_00-sample'.D96>, <Cell 'amazon_reviews_us_Watches_v1_00-sample'.E96>, <Cell 'amazon_reviews_us_Watches_v1_00-sample'.F96>, <Cell 'amazon_reviews_us_Watches_v1_00-sample'.G96>, <Cell 'amazon_reviews_us_Watches_v1_00-sample'.H96>, <Cell 'amazon_reviews_us_Watches_v1_00-sample'.I96>, <Cell 'amazon_reviews_us_Watches_v1_00-sample'.J96>, <Cell 'amazon_reviews_us_Watches_v1_00-sample'.K96>, <Cell 'amazon_reviews_us_Watches_v1_00-sample'.L96>, <Cell 'amazon_reviews_us_Watches_v1_00-sample'.M96>, <Cell 'amazon_reviews_us_Watches_v1_00-sample'.N96>, <Cell 'amazon_reviews_us_Watches_v1_00-sample'.O96>)\n",
      "(<Cell 'amazon_reviews_us_Watches_v1_00-sample'.A97>, <Cell 'amazon_reviews_us_Watches_v1_00-sample'.B97>, <Cell 'amazon_reviews_us_Watches_v1_00-sample'.C97>, <Cell 'amazon_reviews_us_Watches_v1_00-sample'.D97>, <Cell 'amazon_reviews_us_Watches_v1_00-sample'.E97>, <Cell 'amazon_reviews_us_Watches_v1_00-sample'.F97>, <Cell 'amazon_reviews_us_Watches_v1_00-sample'.G97>, <Cell 'amazon_reviews_us_Watches_v1_00-sample'.H97>, <Cell 'amazon_reviews_us_Watches_v1_00-sample'.I97>, <Cell 'amazon_reviews_us_Watches_v1_00-sample'.J97>, <Cell 'amazon_reviews_us_Watches_v1_00-sample'.K97>, <Cell 'amazon_reviews_us_Watches_v1_00-sample'.L97>, <Cell 'amazon_reviews_us_Watches_v1_00-sample'.M97>, <Cell 'amazon_reviews_us_Watches_v1_00-sample'.N97>, <Cell 'amazon_reviews_us_Watches_v1_00-sample'.O97>)\n",
      "(<Cell 'amazon_reviews_us_Watches_v1_00-sample'.A98>, <Cell 'amazon_reviews_us_Watches_v1_00-sample'.B98>, <Cell 'amazon_reviews_us_Watches_v1_00-sample'.C98>, <Cell 'amazon_reviews_us_Watches_v1_00-sample'.D98>, <Cell 'amazon_reviews_us_Watches_v1_00-sample'.E98>, <Cell 'amazon_reviews_us_Watches_v1_00-sample'.F98>, <Cell 'amazon_reviews_us_Watches_v1_00-sample'.G98>, <Cell 'amazon_reviews_us_Watches_v1_00-sample'.H98>, <Cell 'amazon_reviews_us_Watches_v1_00-sample'.I98>, <Cell 'amazon_reviews_us_Watches_v1_00-sample'.J98>, <Cell 'amazon_reviews_us_Watches_v1_00-sample'.K98>, <Cell 'amazon_reviews_us_Watches_v1_00-sample'.L98>, <Cell 'amazon_reviews_us_Watches_v1_00-sample'.M98>, <Cell 'amazon_reviews_us_Watches_v1_00-sample'.N98>, <Cell 'amazon_reviews_us_Watches_v1_00-sample'.O98>)\n",
      "(<Cell 'amazon_reviews_us_Watches_v1_00-sample'.A99>, <Cell 'amazon_reviews_us_Watches_v1_00-sample'.B99>, <Cell 'amazon_reviews_us_Watches_v1_00-sample'.C99>, <Cell 'amazon_reviews_us_Watches_v1_00-sample'.D99>, <Cell 'amazon_reviews_us_Watches_v1_00-sample'.E99>, <Cell 'amazon_reviews_us_Watches_v1_00-sample'.F99>, <Cell 'amazon_reviews_us_Watches_v1_00-sample'.G99>, <Cell 'amazon_reviews_us_Watches_v1_00-sample'.H99>, <Cell 'amazon_reviews_us_Watches_v1_00-sample'.I99>, <Cell 'amazon_reviews_us_Watches_v1_00-sample'.J99>, <Cell 'amazon_reviews_us_Watches_v1_00-sample'.K99>, <Cell 'amazon_reviews_us_Watches_v1_00-sample'.L99>, <Cell 'amazon_reviews_us_Watches_v1_00-sample'.M99>, <Cell 'amazon_reviews_us_Watches_v1_00-sample'.N99>, <Cell 'amazon_reviews_us_Watches_v1_00-sample'.O99>)\n",
      "(<Cell 'amazon_reviews_us_Watches_v1_00-sample'.A100>, <Cell 'amazon_reviews_us_Watches_v1_00-sample'.B100>, <Cell 'amazon_reviews_us_Watches_v1_00-sample'.C100>, <Cell 'amazon_reviews_us_Watches_v1_00-sample'.D100>, <Cell 'amazon_reviews_us_Watches_v1_00-sample'.E100>, <Cell 'amazon_reviews_us_Watches_v1_00-sample'.F100>, <Cell 'amazon_reviews_us_Watches_v1_00-sample'.G100>, <Cell 'amazon_reviews_us_Watches_v1_00-sample'.H100>, <Cell 'amazon_reviews_us_Watches_v1_00-sample'.I100>, <Cell 'amazon_reviews_us_Watches_v1_00-sample'.J100>, <Cell 'amazon_reviews_us_Watches_v1_00-sample'.K100>, <Cell 'amazon_reviews_us_Watches_v1_00-sample'.L100>, <Cell 'amazon_reviews_us_Watches_v1_00-sample'.M100>, <Cell 'amazon_reviews_us_Watches_v1_00-sample'.N100>, <Cell 'amazon_reviews_us_Watches_v1_00-sample'.O100>)\n"
     ]
    }
   ],
   "source": [
    "for row in sheet.rows:\n",
    "    print(row)"
   ]
  },
  {
   "cell_type": "markdown",
   "metadata": {},
   "source": [
    "These shortcuts are very useful when you’re iterating through the whole dataset."
   ]
  },
  {
   "cell_type": "markdown",
   "metadata": {},
   "source": [
    "<a class=\"anchor\" id=\"writing_excel_spreadsheets_with_`openpyxl`\"></a>\n",
    "## Writing Excel Spreadsheets With `openpyxl` [<img src=\"../../images/logos/back_to_top.png\" width=\"22\" align= \"center\"/>](#table_of_contents)"
   ]
  },
  {
   "cell_type": "markdown",
   "metadata": {},
   "source": [
    "<a class=\"anchor\" id=\"appending_new_data\"></a>\n",
    "### Appending New Data [<img src=\"../../images/logos/back_to_top.png\" width=\"22\" align= \"center\"/>](#table_of_contents)\n",
    "\n",
    "Before you start creating very complex spreadsheets, have a quick look at an example of how to append data to an existing spreadsheet."
   ]
  },
  {
   "cell_type": "markdown",
   "metadata": {},
   "source": [
    "Go back to the first example spreadsheet you created (`hello_world.xlsx`) and try opening it and appending some data to it, like this:"
   ]
  },
  {
   "cell_type": "code",
   "execution_count": 22,
   "metadata": {},
   "outputs": [],
   "source": [
    "from openpyxl import load_workbook\n",
    "\n",
    "# Start by opening the spreadsheet and selecting the main sheet\n",
    "workbook = load_workbook(filename=\"hello_world.xlsx\")\n",
    "sheet = workbook.active\n",
    "\n",
    "# Write what you want into a specific cell\n",
    "sheet[\"C1\"] = \"writing ;)\"\n",
    "\n",
    "# Save the spreadsheet\n",
    "workbook.save(filename=\"hello_world_append.xlsx\")"
   ]
  },
  {
   "cell_type": "markdown",
   "metadata": {},
   "source": [
    "Et voilà, if you open the new `hello_world_append.xlsx` spreadsheet, you’ll see the following change:\n",
    "\n",
    "<img src=\"../images/xl-append.png\" alt=\"xl-append\" width=400 align=\"left\" />"
   ]
  },
  {
   "cell_type": "markdown",
   "metadata": {},
   "source": [
    "Notice the additional `writing ;)` on cell C1."
   ]
  },
  {
   "cell_type": "markdown",
   "metadata": {},
   "source": [
    "<a class=\"anchor\" id=\"writing_excel_spreadsheets_with_openpyxl\"></a>\n",
    "## Writing Excel Spreadsheets With openpyxl [<img src=\"../../images/logos/back_to_top.png\" width=\"22\" align= \"center\"/>](#table_of_contents)\n",
    "\n",
    "There are a lot of different things you can write to a spreadsheet, from simple text or number values to complex formulas, charts, or even images. We will cover some basics.\n",
    "\n",
    "Let’s start creating some spreadsheets!"
   ]
  },
  {
   "cell_type": "markdown",
   "metadata": {},
   "source": [
    "<a class=\"anchor\" id=\"creating_a_simple_spreadsheet\"></a>\n",
    "### Creating a Simple Spreadsheet [<img src=\"../../images/logos/back_to_top.png\" width=\"22\" align= \"center\"/>](#table_of_contents)\n",
    "\n",
    "Previously, you saw a very quick example of how to write `Hello world!` into a spreadsheet, so you can start with that:"
   ]
  },
  {
   "cell_type": "code",
   "execution_count": 23,
   "metadata": {},
   "outputs": [],
   "source": [
    "from openpyxl import Workbook\n",
    "\n",
    "filename = \"hello_world.xlsx\"\n",
    "\n",
    "workbook = Workbook()\n",
    "sheet = workbook.active\n",
    "\n",
    "sheet[\"A1\"] = \"hello\"\n",
    "sheet[\"B1\"] = \"world!\"\n",
    "\n",
    "workbook.save(filename=filename)"
   ]
  },
  {
   "cell_type": "markdown",
   "metadata": {},
   "source": [
    "In the code, you can see that:\n",
    "\n",
    "- **Line 5** shows you how to create a new empty workbook.\n",
    "- **Lines 8 and 9** show you how to add data to specific cells.\n",
    "- **Line 11** shows you how to save the spreadsheet when you’re done."
   ]
  },
  {
   "cell_type": "markdown",
   "metadata": {},
   "source": [
    "Even though these lines above can be straightforward, it’s still good to know them well for when things get a bit more complicated."
   ]
  },
  {
   "cell_type": "markdown",
   "metadata": {},
   "source": [
    "One thing you can do to help with coming code examples is add the following method to your Python file or console:"
   ]
  },
  {
   "cell_type": "code",
   "execution_count": 24,
   "metadata": {},
   "outputs": [],
   "source": [
    "def print_rows():\n",
    "    for row in sheet.iter_rows(values_only=True):\n",
    "        print(row)"
   ]
  },
  {
   "cell_type": "markdown",
   "metadata": {},
   "source": [
    "It makes it easier to print all of your spreadsheet values by just calling `print_rows()`."
   ]
  },
  {
   "cell_type": "markdown",
   "metadata": {},
   "source": [
    "<a class=\"anchor\" id=\"basic_spreadsheet_operations\"></a>\n",
    "### Basic Spreadsheet Operations [<img src=\"../../images/logos/back_to_top.png\" width=\"22\" align= \"center\"/>](#table_of_contents)\n",
    "\n",
    "Before you get into the more advanced topics, it’s good for you to know how to manage the most simple elements of a spreadsheet."
   ]
  },
  {
   "cell_type": "markdown",
   "metadata": {},
   "source": [
    "<a class=\"anchor\" id=\"adding_and_updating_cell_values\"></a>\n",
    "#### Adding and Updating Cell Values [<img src=\"../../images/logos/back_to_top.png\" width=\"22\" align= \"center\"/>](#table_of_contents)\n",
    "\n",
    "You already learned how to add values to a spreadsheet like this:"
   ]
  },
  {
   "cell_type": "code",
   "execution_count": 25,
   "metadata": {},
   "outputs": [],
   "source": [
    "sheet[\"A1\"] = \"value\""
   ]
  },
  {
   "cell_type": "markdown",
   "metadata": {},
   "source": [
    "There’s another way you can do this, by first selecting a cell and then changing its value:"
   ]
  },
  {
   "cell_type": "code",
   "execution_count": 26,
   "metadata": {},
   "outputs": [],
   "source": [
    "cell = sheet[\"A1\"]"
   ]
  },
  {
   "cell_type": "code",
   "execution_count": 27,
   "metadata": {},
   "outputs": [
    {
     "data": {
      "text/plain": [
       "'value'"
      ]
     },
     "execution_count": 27,
     "metadata": {},
     "output_type": "execute_result"
    }
   ],
   "source": [
    "cell.value"
   ]
  },
  {
   "cell_type": "code",
   "execution_count": 28,
   "metadata": {},
   "outputs": [],
   "source": [
    "cell.value = 'hey'"
   ]
  },
  {
   "cell_type": "code",
   "execution_count": 29,
   "metadata": {},
   "outputs": [
    {
     "data": {
      "text/plain": [
       "'hey'"
      ]
     },
     "execution_count": 29,
     "metadata": {},
     "output_type": "execute_result"
    }
   ],
   "source": [
    "cell.value"
   ]
  },
  {
   "cell_type": "markdown",
   "metadata": {},
   "source": [
    "The new value is only stored into the spreadsheet once you call `workbook.save()`."
   ]
  },
  {
   "cell_type": "markdown",
   "metadata": {},
   "source": [
    "The `openpyxl` creates a cell when adding a value, if that cell didn’t exist before:"
   ]
  },
  {
   "cell_type": "code",
   "execution_count": 30,
   "metadata": {},
   "outputs": [
    {
     "name": "stdout",
     "output_type": "stream",
     "text": [
      "('hey', 'world!')\n"
     ]
    }
   ],
   "source": [
    "# Before, our spreadsheet has only 1 row\n",
    "print_rows()"
   ]
  },
  {
   "cell_type": "code",
   "execution_count": 31,
   "metadata": {},
   "outputs": [
    {
     "name": "stdout",
     "output_type": "stream",
     "text": [
      "('hey', 'world!')\n",
      "(None, None)\n",
      "(None, None)\n",
      "(None, None)\n",
      "(None, None)\n",
      "(None, None)\n",
      "(None, None)\n",
      "(None, None)\n",
      "(None, None)\n",
      "(None, 'test')\n"
     ]
    }
   ],
   "source": [
    "# Try adding a value to row 10\n",
    "sheet[\"B10\"] = \"test\"\n",
    "print_rows()"
   ]
  },
  {
   "cell_type": "markdown",
   "metadata": {},
   "source": [
    "As you can see, when trying to add a value to cell `B10`, you end up with a tuple with 10 rows, just so you can have that test value."
   ]
  },
  {
   "cell_type": "markdown",
   "metadata": {},
   "source": [
    "<a class=\"anchor\" id=\"managing_rows_and_columns\"></a>\n",
    "### Managing Rows and Columns [<img src=\"../../images/logos/back_to_top.png\" width=\"22\" align= \"center\"/>](#table_of_contents)\n",
    "\n",
    "One of the most common things you have to do when manipulating spreadsheets is adding or removing rows and columns. The `openpyxl` package allows you to do that in a very straightforward way by using the methods:\n",
    "\n",
    "- `.insert_rows()`\n",
    "- `.delete_rows()`\n",
    "- `.insert_cols()`\n",
    "- `.delete_cols()`"
   ]
  },
  {
   "cell_type": "markdown",
   "metadata": {},
   "source": [
    "Using our basic `hello_world.xlsx` example again, let’s see how these methods work:"
   ]
  },
  {
   "cell_type": "code",
   "execution_count": 32,
   "metadata": {},
   "outputs": [
    {
     "name": "stdout",
     "output_type": "stream",
     "text": [
      "('hey', 'world!')\n",
      "(None, None)\n",
      "(None, None)\n",
      "(None, None)\n",
      "(None, None)\n",
      "(None, None)\n",
      "(None, None)\n",
      "(None, None)\n",
      "(None, None)\n",
      "(None, 'test')\n"
     ]
    }
   ],
   "source": [
    "print_rows()"
   ]
  },
  {
   "cell_type": "code",
   "execution_count": 33,
   "metadata": {},
   "outputs": [],
   "source": [
    "# Insert a column before the existing column 1 (\"A\")\n",
    "sheet.insert_cols(idx=1)"
   ]
  },
  {
   "cell_type": "code",
   "execution_count": 34,
   "metadata": {},
   "outputs": [
    {
     "name": "stdout",
     "output_type": "stream",
     "text": [
      "(None, 'hey', 'world!')\n",
      "(None, None, None)\n",
      "(None, None, None)\n",
      "(None, None, None)\n",
      "(None, None, None)\n",
      "(None, None, None)\n",
      "(None, None, None)\n",
      "(None, None, None)\n",
      "(None, None, None)\n",
      "(None, None, 'test')\n"
     ]
    }
   ],
   "source": [
    "print_rows()"
   ]
  },
  {
   "cell_type": "code",
   "execution_count": 35,
   "metadata": {},
   "outputs": [],
   "source": [
    "# Insert 5 columns between column 2 (\"B\") and 3 (\"C\")\n",
    "sheet.insert_cols(idx=3, amount=5)"
   ]
  },
  {
   "cell_type": "code",
   "execution_count": 36,
   "metadata": {},
   "outputs": [
    {
     "name": "stdout",
     "output_type": "stream",
     "text": [
      "(None, 'hey', None, None, None, None, None, 'world!')\n",
      "(None, None, None, None, None, None, None, None)\n",
      "(None, None, None, None, None, None, None, None)\n",
      "(None, None, None, None, None, None, None, None)\n",
      "(None, None, None, None, None, None, None, None)\n",
      "(None, None, None, None, None, None, None, None)\n",
      "(None, None, None, None, None, None, None, None)\n",
      "(None, None, None, None, None, None, None, None)\n",
      "(None, None, None, None, None, None, None, None)\n",
      "(None, None, None, None, None, None, None, 'test')\n"
     ]
    }
   ],
   "source": [
    "print_rows()"
   ]
  },
  {
   "cell_type": "code",
   "execution_count": 37,
   "metadata": {},
   "outputs": [],
   "source": [
    "# Delete the created columns\n",
    "sheet.delete_cols(idx=3, amount=5)"
   ]
  },
  {
   "cell_type": "code",
   "execution_count": 38,
   "metadata": {},
   "outputs": [],
   "source": [
    "sheet.delete_cols(idx=1)"
   ]
  },
  {
   "cell_type": "code",
   "execution_count": 39,
   "metadata": {},
   "outputs": [
    {
     "name": "stdout",
     "output_type": "stream",
     "text": [
      "('hey', 'world!')\n",
      "(None, None)\n",
      "(None, None)\n",
      "(None, None)\n",
      "(None, None)\n",
      "(None, None)\n",
      "(None, None)\n",
      "(None, None)\n",
      "(None, None)\n",
      "(None, 'test')\n"
     ]
    }
   ],
   "source": [
    "print_rows()"
   ]
  },
  {
   "cell_type": "code",
   "execution_count": 40,
   "metadata": {},
   "outputs": [],
   "source": [
    "# Insert a new row in the beginning\n",
    "sheet.insert_rows(idx=1)"
   ]
  },
  {
   "cell_type": "code",
   "execution_count": 41,
   "metadata": {},
   "outputs": [
    {
     "name": "stdout",
     "output_type": "stream",
     "text": [
      "(None, None)\n",
      "('hey', 'world!')\n",
      "(None, None)\n",
      "(None, None)\n",
      "(None, None)\n",
      "(None, None)\n",
      "(None, None)\n",
      "(None, None)\n",
      "(None, None)\n",
      "(None, None)\n",
      "(None, 'test')\n"
     ]
    }
   ],
   "source": [
    "print_rows()"
   ]
  },
  {
   "cell_type": "code",
   "execution_count": 42,
   "metadata": {},
   "outputs": [],
   "source": [
    "# Insert 3 new rows in the beginning\n",
    "sheet.insert_rows(idx=1, amount=3)"
   ]
  },
  {
   "cell_type": "code",
   "execution_count": 43,
   "metadata": {},
   "outputs": [
    {
     "name": "stdout",
     "output_type": "stream",
     "text": [
      "(None, None)\n",
      "(None, None)\n",
      "(None, None)\n",
      "(None, None)\n",
      "('hey', 'world!')\n",
      "(None, None)\n",
      "(None, None)\n",
      "(None, None)\n",
      "(None, None)\n",
      "(None, None)\n",
      "(None, None)\n",
      "(None, None)\n",
      "(None, None)\n",
      "(None, 'test')\n"
     ]
    }
   ],
   "source": [
    "print_rows()"
   ]
  },
  {
   "cell_type": "code",
   "execution_count": 44,
   "metadata": {},
   "outputs": [],
   "source": [
    "# Delete the first 4 rows\n",
    "sheet.delete_rows(idx=1, amount=4)"
   ]
  },
  {
   "cell_type": "code",
   "execution_count": 45,
   "metadata": {},
   "outputs": [
    {
     "name": "stdout",
     "output_type": "stream",
     "text": [
      "('hey', 'world!')\n",
      "(None, None)\n",
      "(None, None)\n",
      "(None, None)\n",
      "(None, None)\n",
      "(None, None)\n",
      "(None, None)\n",
      "(None, None)\n",
      "(None, None)\n",
      "(None, 'test')\n"
     ]
    }
   ],
   "source": [
    "print_rows()"
   ]
  },
  {
   "cell_type": "markdown",
   "metadata": {},
   "source": [
    "The only thing you need to remember is that when inserting new data (rows or columns), the insertion happens **before** the **`idx`** parameter."
   ]
  },
  {
   "cell_type": "markdown",
   "metadata": {},
   "source": [
    "So, if you do `insert_rows(1)`, it inserts a new row before the existing first row.\n",
    "\n",
    "It’s the same for columns: when you call `insert_cols(2)`, it inserts a new column right **before** the already existing second column (`B`)."
   ]
  },
  {
   "cell_type": "markdown",
   "metadata": {},
   "source": [
    "However, when deleting rows or columns, `.delete_...` deletes data **starting from** the index passed as an argument.\n",
    "\n",
    "For example, when doing `delete_rows(2)` it deletes row 2, and when doing `delete_cols(3)` it deletes the third column (`C`)."
   ]
  },
  {
   "cell_type": "markdown",
   "metadata": {},
   "source": [
    "<a class=\"anchor\" id=\"managing_sheets\"></a>\n",
    "## Managing Sheets [<img src=\"../../images/logos/back_to_top.png\" width=\"22\" align= \"center\"/>](#table_of_contents)\n",
    "\n",
    "Sheet management is also one of those things you might need to know, even though it might be something that you don’t use that often."
   ]
  },
  {
   "cell_type": "markdown",
   "metadata": {},
   "source": [
    "If you look back at the code examples from this tutorial, you’ll notice the following recurring piece of code:"
   ]
  },
  {
   "cell_type": "code",
   "execution_count": 46,
   "metadata": {},
   "outputs": [],
   "source": [
    "from openpyxl import load_workbook\n",
    "\n",
    "# Start by opening the spreadsheet and selecting the main sheet\n",
    "workbook = load_workbook(filename=\"../data/sample.xlsx\")\n",
    "sheet = workbook.active"
   ]
  },
  {
   "cell_type": "code",
   "execution_count": 47,
   "metadata": {},
   "outputs": [],
   "source": [
    "sheet = workbook.active"
   ]
  },
  {
   "cell_type": "markdown",
   "metadata": {},
   "source": [
    "This is the way to select the default sheet from a spreadsheet. However, if you’re opening a spreadsheet with multiple sheets, then you can always select a specific one like this:"
   ]
  },
  {
   "cell_type": "code",
   "execution_count": 48,
   "metadata": {},
   "outputs": [
    {
     "data": {
      "text/plain": [
       "['amazon_reviews_us_Watches_v1_00-sample']"
      ]
     },
     "execution_count": 48,
     "metadata": {},
     "output_type": "execute_result"
    }
   ],
   "source": [
    "# Let's say you have two sheets: \"Products\" and \"Company Sales\"\n",
    "workbook.sheetnames"
   ]
  },
  {
   "cell_type": "code",
   "execution_count": 49,
   "metadata": {},
   "outputs": [],
   "source": [
    "# You can select a sheet using its title\n",
    "products_sheet = workbook[\"amazon_reviews_us_Watches_v1_00-sample\"]"
   ]
  },
  {
   "cell_type": "code",
   "execution_count": 50,
   "metadata": {},
   "outputs": [
    {
     "data": {
      "text/plain": [
       "<Worksheet \"amazon_reviews_us_Watches_v1_00-sample\">"
      ]
     },
     "execution_count": 50,
     "metadata": {},
     "output_type": "execute_result"
    }
   ],
   "source": [
    "products_sheet"
   ]
  },
  {
   "cell_type": "markdown",
   "metadata": {},
   "source": [
    "You can also change a sheet title very easily:"
   ]
  },
  {
   "cell_type": "code",
   "execution_count": 51,
   "metadata": {},
   "outputs": [
    {
     "data": {
      "text/plain": [
       "['amazon_reviews_us_Watches_v1_00-sample']"
      ]
     },
     "execution_count": 51,
     "metadata": {},
     "output_type": "execute_result"
    }
   ],
   "source": [
    "workbook.sheetnames"
   ]
  },
  {
   "cell_type": "code",
   "execution_count": 52,
   "metadata": {},
   "outputs": [],
   "source": [
    "products_sheet = workbook[\"amazon_reviews_us_Watches_v1_00-sample\"]"
   ]
  },
  {
   "cell_type": "code",
   "execution_count": 53,
   "metadata": {},
   "outputs": [],
   "source": [
    "products_sheet.title = \"Products\""
   ]
  },
  {
   "cell_type": "code",
   "execution_count": 54,
   "metadata": {},
   "outputs": [
    {
     "data": {
      "text/plain": [
       "['Products']"
      ]
     },
     "execution_count": 54,
     "metadata": {},
     "output_type": "execute_result"
    }
   ],
   "source": [
    "workbook.sheetnames"
   ]
  },
  {
   "cell_type": "markdown",
   "metadata": {},
   "source": [
    "If you want to create or delete sheets, then you can also do that with `.create_sheet()` and `.remove()`:"
   ]
  },
  {
   "cell_type": "code",
   "execution_count": 55,
   "metadata": {},
   "outputs": [
    {
     "data": {
      "text/plain": [
       "['Products']"
      ]
     },
     "execution_count": 55,
     "metadata": {},
     "output_type": "execute_result"
    }
   ],
   "source": [
    "workbook.sheetnames"
   ]
  },
  {
   "cell_type": "code",
   "execution_count": 56,
   "metadata": {},
   "outputs": [],
   "source": [
    "operations_sheet = workbook.create_sheet(\"Operations\")"
   ]
  },
  {
   "cell_type": "code",
   "execution_count": 57,
   "metadata": {},
   "outputs": [
    {
     "data": {
      "text/plain": [
       "['Products', 'Operations']"
      ]
     },
     "execution_count": 57,
     "metadata": {},
     "output_type": "execute_result"
    }
   ],
   "source": [
    "workbook.sheetnames"
   ]
  },
  {
   "cell_type": "code",
   "execution_count": 58,
   "metadata": {},
   "outputs": [
    {
     "data": {
      "text/plain": [
       "['HR', 'Products', 'Operations']"
      ]
     },
     "execution_count": 58,
     "metadata": {},
     "output_type": "execute_result"
    }
   ],
   "source": [
    "# You can also define the position to create the sheet at\n",
    "hr_sheet = workbook.create_sheet(\"HR\", 0)\n",
    "workbook.sheetnames"
   ]
  },
  {
   "cell_type": "code",
   "execution_count": 59,
   "metadata": {},
   "outputs": [
    {
     "data": {
      "text/plain": [
       "['HR', 'Products']"
      ]
     },
     "execution_count": 59,
     "metadata": {},
     "output_type": "execute_result"
    }
   ],
   "source": [
    "# To remove them, just pass the sheet as an argument to the .remove()\n",
    "workbook.remove(operations_sheet)\n",
    "workbook.sheetnames"
   ]
  },
  {
   "cell_type": "code",
   "execution_count": 60,
   "metadata": {},
   "outputs": [
    {
     "data": {
      "text/plain": [
       "['Products']"
      ]
     },
     "execution_count": 60,
     "metadata": {},
     "output_type": "execute_result"
    }
   ],
   "source": [
    "workbook.remove(hr_sheet)\n",
    "workbook.sheetnames"
   ]
  },
  {
   "cell_type": "markdown",
   "metadata": {},
   "source": [
    "One other thing you can do is make duplicates of a sheet using `copy_worksheet()`:"
   ]
  },
  {
   "cell_type": "code",
   "execution_count": 61,
   "metadata": {},
   "outputs": [
    {
     "data": {
      "text/plain": [
       "['Products']"
      ]
     },
     "execution_count": 61,
     "metadata": {},
     "output_type": "execute_result"
    }
   ],
   "source": [
    "workbook.sheetnames"
   ]
  },
  {
   "cell_type": "code",
   "execution_count": 62,
   "metadata": {},
   "outputs": [
    {
     "data": {
      "text/plain": [
       "<Worksheet \"Products Copy\">"
      ]
     },
     "execution_count": 62,
     "metadata": {},
     "output_type": "execute_result"
    }
   ],
   "source": [
    "products_sheet = workbook[\"Products\"]\n",
    "workbook.copy_worksheet(products_sheet)"
   ]
  },
  {
   "cell_type": "code",
   "execution_count": 63,
   "metadata": {},
   "outputs": [
    {
     "data": {
      "text/plain": [
       "['Products', 'Products Copy']"
      ]
     },
     "execution_count": 63,
     "metadata": {},
     "output_type": "execute_result"
    }
   ],
   "source": [
    "workbook.sheetnames"
   ]
  },
  {
   "cell_type": "markdown",
   "metadata": {},
   "source": [
    "If you open your spreadsheet after saving the above code, you’ll notice that the sheet `Products Copy` is a duplicate of the sheet `Products`."
   ]
  },
  {
   "cell_type": "markdown",
   "metadata": {},
   "source": [
    "<a class=\"anchor\" id=\"conclusion\"></a>\n",
    "## <img src=\"../../images/logos/checkmark.png\" width=\"20\"/> Conclusion  [<img src=\"../../images/logos/back_to_top.png\" width=\"22\" align= \"center\"/>](#table_of_contents)\n",
    "\n",
    "You now know how to work with spreadsheets in Python! You can rely on `openpyxl`, your trustworthy companion, to:\n",
    "\n",
    "- Extract valuable information from spreadsheets in a Pythonic manner\n",
    "- Create your own spreadsheets, no matter the complexity level"
   ]
  },
  {
   "cell_type": "markdown",
   "metadata": {},
   "source": [
    "There are a few other things you can do with openpyxl that might not have been covered in this tutorial, but you can always check the package’s official [documentation website](https://openpyxl.readthedocs.io/en/stable/index.html) to learn more about it."
   ]
  }
 ],
 "metadata": {
  "kernelspec": {
   "display_name": "Python 3",
   "language": "python",
   "name": "python3"
  },
  "language_info": {
   "codemirror_mode": {
    "name": "ipython",
    "version": 3
   },
   "file_extension": ".py",
   "mimetype": "text/x-python",
   "name": "python",
   "nbconvert_exporter": "python",
   "pygments_lexer": "ipython3",
   "version": "3.7.6"
  }
 },
 "nbformat": 4,
 "nbformat_minor": 5
}
