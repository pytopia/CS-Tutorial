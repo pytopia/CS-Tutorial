{
 "cells": [
  {
   "cell_type": "markdown",
   "metadata": {},
   "source": [
    "<img src=\"../../images/banners/python-modules.png\" width=\"600\"/>"
   ]
  },
  {
   "cell_type": "markdown",
   "metadata": {},
   "source": [
    "# <img src=\"../../images/logos/python.png\" width=\"23\"/> YAML \n"
   ]
  },
  {
   "cell_type": "markdown",
   "metadata": {},
   "source": [
    "<a class=\"anchor\" id=\"table_of_contents\"></a>\n",
    "## Table of Contents\n",
    "\n",
    "\n",
    "* [YAML Tutorial Quick Start: A Simple File](#yaml_tutorial_quick_start:_a_simple_file)\n",
    "* [Installation](#installation)\n",
    "* [Read YAML](#read_yaml)\n",
    "* [Introduction](#introduction)\n",
    "    * [Rules for Creating YAML file](#rules_for_creating_yaml_file)\n",
    "    * [Indentation of YAML](#indentation_of_yaml)\n",
    "    * [Basics Components](#basics_components)\n",
    "        * [Conventional Block Format](#conventional_block_format)\n",
    "        * [Inline Format](#inline_format)\n",
    "        * [Folded Text](#folded_text)\n",
    "* [YAML Syntax and format](#yaml_syntax_and_format)\n",
    "    * [String](#string)\n",
    "        * [Short texts](#short_texts)\n",
    "        * [Long text](#long_text)\n",
    "    * [Numbers](#numbers)\n",
    "    * [Boolean](#boolean)\n",
    "    * [Collections and Structures](#collections_and_structures)\n",
    "        * [Lists](#lists)\n",
    "    * [Maps](#maps)\n",
    "    * [References](#references)\n",
    "    * [Multiple documents](#multiple_documents)\n",
    "    * [Tags](#tags)\n",
    "\n",
    "---"
   ]
  },
  {
   "cell_type": "markdown",
   "metadata": {},
   "source": [
    "**Y**AML **A**in't **M**arkup **L**anguage (**YAML**) is a serialization language that has steadily increased in popularity over the last few years. It's often used as a format for configuration files, but its object serialization abilities make it a viable replacement for languages like JSON. This YAML tutorial will demonstrate the language syntax with a guide and some simple coding examples in Python. YAML has broad language support and maps easily into native data structures. It's also easy to for humans to read, which is why it's a good choice for configuration. The YAML acronym was shorthand for **Yet Another Markup Language**. But the maintainers renamed it to **YAML Ain't Markup Language** to place more emphasis on its data-oriented features."
   ]
  },
  {
   "cell_type": "markdown",
   "metadata": {},
   "source": [
    "YAML is a recently introduced data serialization format and is very comfortable for human reading and writing. **YAML is poised to replace XML and JSON**."
   ]
  },
  {
   "cell_type": "markdown",
   "metadata": {},
   "source": [
    "<a class=\"anchor\" id=\"yaml_tutorial_quick_start:_a_simple_file\"></a>\n",
    "## YAML Tutorial Quick Start: A Simple File [<img src=\"../../images/logos/back_to_top.png\" width=\"22\" align= \"center\"/>](#table_of_contents)"
   ]
  },
  {
   "cell_type": "markdown",
   "metadata": {},
   "source": [
    "Let's take a look at a YAML file for a brief overview."
   ]
  },
  {
   "cell_type": "markdown",
   "metadata": {},
   "source": [
    "```yaml\n",
    "---\n",
    "quiz: \n",
    "  description: >\n",
    "    \"This Quiz is to learn YAML.\"\n",
    "  questions:\n",
    "    - [\"How many planets are there in the solar system?\", \"Name the non-planet\"]\n",
    "    - \"Who is found more on the web?\"\n",
    "    - \"What is the value of pi?\"\n",
    "    - \"Is pluto related to platonic relationships?\"\n",
    "    - \"How many maximum members can play TT?\"\n",
    "    - \"Which value is no value?\"\n",
    "    - \"Don't you know that the Universe is ever-expanding?\"\n",
    " \n",
    "  answers:\n",
    "    - [8, \"pluto\"]\n",
    "    - cats\n",
    "    - 3.141592653589793\n",
    "    - true\n",
    "    - 4\n",
    "    - null\n",
    "    - no\n",
    "# explicit data conversion and reusing data blocks\n",
    "extra:\n",
    "  refer: &id011 # give a reference to data\n",
    "    x: !!float 5 # explicit conversion to data type float\n",
    "    y: 8\n",
    "  num1: !!int \"123\" # conversion to integer\n",
    "  str1: !!str 120 # conversion to string\n",
    "  again: *id011 # call data by giving the reference\n",
    "```"
   ]
  },
  {
   "cell_type": "markdown",
   "metadata": {},
   "source": [
    "The identical `json` file is:"
   ]
  },
  {
   "cell_type": "markdown",
   "metadata": {},
   "source": [
    "```json\n",
    "{\n",
    "  \"quiz\": {\n",
    "    \"description\": \"\\\"This Quiz is to learn YAML.\\\"\\n\",\n",
    "    \"questions\": [\n",
    "      [\n",
    "        \"How many planets are there in the solar system?\",\n",
    "        \"Name the non-planet\"\n",
    "      ],\n",
    "      \"Who is found more on the web?\",\n",
    "      \"What is the value of pi?\",\n",
    "      \"Is pluto related to platonic relationships?\",\n",
    "      \"How many maximum members can play TT?\",\n",
    "      \"Which value is no value?\",\n",
    "      \"Don't you know that the Universe is ever-expanding?\"\n",
    "    ],\n",
    "    \"answers\": [\n",
    "      [\n",
    "        8,\n",
    "        \"pluto\"\n",
    "      ],\n",
    "      \"cats\",\n",
    "      3.141592653589793,\n",
    "      true,\n",
    "      4,\n",
    "      null,\n",
    "      false\n",
    "    ]\n",
    "  },\n",
    "  \"extra\": {\n",
    "    \"refer\": {\n",
    "      \"x\": 5.0,\n",
    "      \"y\": 8\n",
    "    },\n",
    "    \"num1\": 123,\n",
    "    \"str1\": \"120\",\n",
    "    \"again\": {\n",
    "      \"x\": 5.0,\n",
    "      \"y\": 8\n",
    "    }\n",
    "  }\n",
    "}\n",
    "```"
   ]
  },
  {
   "cell_type": "markdown",
   "metadata": {},
   "source": [
    "JSON and YAML have similar capabilities, and you can convert most documents between the formats."
   ]
  },
  {
   "cell_type": "markdown",
   "metadata": {},
   "source": [
    "<a class=\"anchor\" id=\"installation\"></a>\n",
    "## Installation [<img src=\"../../images/logos/back_to_top.png\" width=\"22\" align= \"center\"/>](#table_of_contents)"
   ]
  },
  {
   "cell_type": "markdown",
   "metadata": {},
   "source": [
    "Install a Python module called the `pyyaml` to work with YAML files.\n",
    "\n",
    "```bash\n",
    "pip install pyyaml\n",
    "```"
   ]
  },
  {
   "cell_type": "markdown",
   "metadata": {},
   "source": [
    "<a class=\"anchor\" id=\"read_yaml\"></a>\n",
    "## Read YAML [<img src=\"../../images/logos/back_to_top.png\" width=\"22\" align= \"center\"/>](#table_of_contents)"
   ]
  },
  {
   "cell_type": "markdown",
   "metadata": {},
   "source": [
    "Let's create a simple yaml file first:"
   ]
  },
  {
   "cell_type": "code",
   "execution_count": 13,
   "metadata": {},
   "outputs": [
    {
     "name": "stdout",
     "output_type": "stream",
     "text": [
      "Writing learn_yaml.yaml\n"
     ]
    }
   ],
   "source": [
    "%%writefile learn_yaml.yaml\n",
    "message: Hello World"
   ]
  },
  {
   "cell_type": "markdown",
   "metadata": {},
   "source": [
    "You can read a yaml file with `yaml.load`:"
   ]
  },
  {
   "cell_type": "code",
   "execution_count": 2,
   "metadata": {},
   "outputs": [
    {
     "name": "stdout",
     "output_type": "stream",
     "text": [
      "Key: Value\n",
      "message: Hello World\n"
     ]
    }
   ],
   "source": [
    "import yaml\n",
    "\n",
    "with open(\"learn_yaml.yaml\", 'r') as f:\n",
    "    yaml_content = yaml.load(f, yaml.SafeLoader)\n",
    "\n",
    "print(\"Key: Value\")\n",
    "for key, value in yaml_content.items():\n",
    "    print(f\"{key}: {value}\")"
   ]
  },
  {
   "cell_type": "markdown",
   "metadata": {},
   "source": [
    "Also, `yaml.load` can read from a string:"
   ]
  },
  {
   "cell_type": "code",
   "execution_count": 16,
   "metadata": {},
   "outputs": [
    {
     "data": {
      "text/plain": [
       "'this is'"
      ]
     },
     "execution_count": 16,
     "metadata": {},
     "output_type": "execute_result"
    }
   ],
   "source": [
    "yaml.load(\"this is\", Loader=yaml.SafeLoader)"
   ]
  },
  {
   "cell_type": "markdown",
   "metadata": {},
   "source": [
    "Consider the following point number of “pi”, which has a value of 3.1415926. In YAML, it is represented as a floating number as shown below:"
   ]
  },
  {
   "cell_type": "code",
   "execution_count": 19,
   "metadata": {},
   "outputs": [
    {
     "data": {
      "text/plain": [
       "float"
      ]
     },
     "execution_count": 19,
     "metadata": {},
     "output_type": "execute_result"
    }
   ],
   "source": [
    "yaml.load('3.1415926536', Loader=yaml.SafeLoader)"
   ]
  },
  {
   "cell_type": "markdown",
   "metadata": {},
   "source": [
    "Suppose, multiple values are to be loaded in specific data structure as mentioned below:\n",
    "\n",
    "```\n",
    "eggs\n",
    "ham\n",
    "spam\n",
    "French basil salmon terrine\n",
    "```"
   ]
  },
  {
   "cell_type": "code",
   "execution_count": 15,
   "metadata": {},
   "outputs": [
    {
     "data": {
      "text/plain": [
       "['eggs', 'ham', 'spam', 'French basil salmon terrine']"
      ]
     },
     "execution_count": 15,
     "metadata": {},
     "output_type": "execute_result"
    }
   ],
   "source": [
    "yaml.load(\n",
    "    \"\"\"\n",
    "   - eggs\n",
    "   - ham\n",
    "   - spam\n",
    "   - French basil salmon terrine\n",
    "   \"\"\",\n",
    "    Loader=yaml.SafeLoader\n",
    ")"
   ]
  },
  {
   "cell_type": "markdown",
   "metadata": {},
   "source": [
    "**Note:** You can read on why calling `yaml.load` without `Loader` is deprecated in [here](https://github.com/yaml/pyyaml/wiki/PyYAML-yaml.load(input)-Deprecation)"
   ]
  },
  {
   "cell_type": "markdown",
   "metadata": {},
   "source": [
    "To make it easier through this section, we define and use this function to parse yaml strings:"
   ]
  },
  {
   "cell_type": "code",
   "execution_count": 2,
   "metadata": {},
   "outputs": [],
   "source": [
    "def read_yaml(string):\n",
    "    return yaml.load(string, Loader=yaml.FullLoader)"
   ]
  },
  {
   "cell_type": "markdown",
   "metadata": {},
   "source": [
    "<a class=\"anchor\" id=\"introduction\"></a>\n",
    "## Introduction [<img src=\"../../images/logos/back_to_top.png\" width=\"22\" align= \"center\"/>](#table_of_contents)"
   ]
  },
  {
   "cell_type": "markdown",
   "metadata": {},
   "source": [
    "Now that you have an idea about YAML and its features, let us learn its basics with syntax and other operations. Remember that YAML includes a human readable structured format."
   ]
  },
  {
   "cell_type": "markdown",
   "metadata": {},
   "source": [
    "<a class=\"anchor\" id=\"rules_for_creating_yaml_file\"></a>\n",
    "### Rules for Creating YAML file [<img src=\"../../images/logos/back_to_top.png\" width=\"22\" align= \"center\"/>](#table_of_contents)\n",
    "\n",
    "When you are creating a file in YAML, you should remember the following basic rules:\n",
    "\n",
    "- YAML is case sensitive\n",
    "- The files should have `.yaml` or `.yml` as the extension\n",
    "- YAML does not allow the use of tabs while creating YAML files; spaces are allowed instead."
   ]
  },
  {
   "cell_type": "markdown",
   "metadata": {},
   "source": [
    "<a class=\"anchor\" id=\"indentation_of_yaml\"></a>\n",
    "### Indentation of YAML [<img src=\"../../images/logos/back_to_top.png\" width=\"22\" align= \"center\"/>](#table_of_contents)\n",
    "\n",
    "YAML does not include any mandatory spaces. Further, there is no need to be consistent. The valid YAML indentation is shown below."
   ]
  },
  {
   "cell_type": "code",
   "execution_count": 9,
   "metadata": {},
   "outputs": [
    {
     "data": {
      "text/plain": [
       "{'a': {'b': ['c', 'd', 'e']}, 'f': 'ghi'}"
      ]
     },
     "execution_count": 9,
     "metadata": {},
     "output_type": "execute_result"
    }
   ],
   "source": [
    "read_yaml(\n",
    "\"\"\"\n",
    "a:\n",
    "   b:\n",
    "      -        c\n",
    "      -              d\n",
    "      - e\n",
    "f: \n",
    "      \"ghi\"\n",
    "\"\"\"\n",
    ")"
   ]
  },
  {
   "cell_type": "markdown",
   "metadata": {},
   "source": [
    "You should remember the following rules while working with indentation in YAML:\n",
    "\n",
    "- Flow blocks must be intended with at least some spaces with surrounding current block level.\n",
    "- Flow content of YAML spans multiple lines. The beginning of flow content begins with `{` or `[`.\n",
    "- Block list items include same indentation as the surrounding block level because `-` is considered as a part of indentation."
   ]
  },
  {
   "cell_type": "markdown",
   "metadata": {},
   "source": [
    "<a class=\"anchor\" id=\"basics_components\"></a>\n",
    "### Basics Components [<img src=\"../../images/logos/back_to_top.png\" width=\"22\" align= \"center\"/>](#table_of_contents)"
   ]
  },
  {
   "cell_type": "markdown",
   "metadata": {},
   "source": [
    "The basic components of YAML are described below."
   ]
  },
  {
   "cell_type": "markdown",
   "metadata": {},
   "source": [
    "<a class=\"anchor\" id=\"conventional_block_format\"></a>\n",
    "#### Conventional Block Format [<img src=\"../../images/logos/back_to_top.png\" width=\"22\" align= \"center\"/>](#table_of_contents)\n",
    "This block format uses hyphen+space to begin a new item in a specified list. Observe the example shown below:"
   ]
  },
  {
   "cell_type": "code",
   "execution_count": 25,
   "metadata": {},
   "outputs": [
    {
     "data": {
      "text/plain": [
       "['Casablanca', 'North by Northwest', \"The Man Who Wasn't There\"]"
      ]
     },
     "execution_count": 25,
     "metadata": {},
     "output_type": "execute_result"
    }
   ],
   "source": [
    "read_yaml(\"\"\"\n",
    "# Favorite movies\n",
    "- Casablanca\n",
    "- North by Northwest\n",
    "- The Man Who Wasn't There\n",
    "\"\"\"\n",
    ")"
   ]
  },
  {
   "cell_type": "markdown",
   "metadata": {},
   "source": [
    "**Note:** Comments in YAML begins with the `#` character. YAML does not support multi line comments."
   ]
  },
  {
   "cell_type": "markdown",
   "metadata": {},
   "source": [
    "<a class=\"anchor\" id=\"inline_format\"></a>\n",
    "#### Inline Format [<img src=\"../../images/logos/back_to_top.png\" width=\"22\" align= \"center\"/>](#table_of_contents)\n",
    "\n",
    "Inline format is delimited with comma and space and the items are enclosed in `JSON`. Observe the example shown below:"
   ]
  },
  {
   "cell_type": "code",
   "execution_count": 60,
   "metadata": {},
   "outputs": [
    {
     "data": {
      "text/plain": [
       "['milk', 'groceries', 'eggs', 'juice', 'fruits']"
      ]
     },
     "execution_count": 60,
     "metadata": {},
     "output_type": "execute_result"
    }
   ],
   "source": [
    "read_yaml(\"\"\"\n",
    "# Shopping list\n",
    "[milk, groceries, eggs, juice, fruits]\n",
    "\"\"\")"
   ]
  },
  {
   "cell_type": "code",
   "execution_count": 57,
   "metadata": {},
   "outputs": [
    {
     "data": {
      "text/plain": [
       "['milk', 'groceries', 'eggs', 'juice', 'fruits']"
      ]
     },
     "execution_count": 57,
     "metadata": {},
     "output_type": "execute_result"
    }
   ],
   "source": [
    "read_yaml(yaml_string)"
   ]
  },
  {
   "cell_type": "markdown",
   "metadata": {},
   "source": [
    "<a class=\"anchor\" id=\"folded_text\"></a>\n",
    "#### Folded Text [<img src=\"../../images/logos/back_to_top.png\" width=\"22\" align= \"center\"/>](#table_of_contents)\n",
    "\n",
    "Folded text converts newlines to spaces and removes the leading whitespace. Observe the example shown below:"
   ]
  },
  {
   "cell_type": "code",
   "execution_count": 59,
   "metadata": {},
   "outputs": [
    {
     "data": {
      "text/plain": [
       "[{'name': 'John Smith', 'age': 33}, {'name': 'Mary Smith', 'age': 27}]"
      ]
     },
     "execution_count": 59,
     "metadata": {},
     "output_type": "execute_result"
    }
   ],
   "source": [
    "read_yaml(\"\"\"\n",
    "- {name: John Smith, age: 33}\n",
    "- name: Mary Smith\n",
    "  age: 27\n",
    "\"\"\")"
   ]
  },
  {
   "cell_type": "markdown",
   "metadata": {},
   "source": [
    "<a class=\"anchor\" id=\"yaml_syntax_and_format\"></a>\n",
    "## YAML Syntax and format [<img src=\"../../images/logos/back_to_top.png\" width=\"22\" align= \"center\"/>](#table_of_contents)"
   ]
  },
  {
   "cell_type": "markdown",
   "metadata": {},
   "source": [
    "To begin with a YAML document, one needs to use `---`. All nested elements need to indented using two spaces but you can use one too. These three dashes are required only when there is more than one document within a single YAML file."
   ]
  },
  {
   "cell_type": "markdown",
   "metadata": {},
   "source": [
    "<a class=\"anchor\" id=\"string\"></a>\n",
    "### String [<img src=\"../../images/logos/back_to_top.png\" width=\"22\" align= \"center\"/>](#table_of_contents)"
   ]
  },
  {
   "cell_type": "markdown",
   "metadata": {},
   "source": [
    "<a class=\"anchor\" id=\"short_texts\"></a>\n",
    "#### Short texts [<img src=\"../../images/logos/back_to_top.png\" width=\"22\" align= \"center\"/>](#table_of_contents)\n",
    "Short texts are written, as shown below."
   ]
  },
  {
   "cell_type": "markdown",
   "metadata": {},
   "source": [
    "```yaml\n",
    "description: This is a brief description of something\n",
    "another description: \"This is also a short description with ':' in it.\"\n",
    "55.5 : keys need not be only strings\n",
    "```"
   ]
  },
  {
   "cell_type": "markdown",
   "metadata": {},
   "source": [
    "<a class=\"anchor\" id=\"long_text\"></a>\n",
    "#### Long text [<img src=\"../../images/logos/back_to_top.png\" width=\"22\" align= \"center\"/>](#table_of_contents)\n",
    "\n",
    "Long texts are written using `|` and `>`. A block written using `|` is called a literal block, and a block written with `>` is called a folded block."
   ]
  },
  {
   "cell_type": "markdown",
   "metadata": {},
   "source": [
    "```yaml\n",
    "long description: |\n",
    "This text preserves the line breaks,\n",
    " as well as the indentation.\n",
    "folded long description: >\n",
    "This is also one way of writing the long text, but \n",
    " line breaks and indentations will be replaced with single spaces when read.\n",
    "```"
   ]
  },
  {
   "cell_type": "markdown",
   "metadata": {},
   "source": [
    "The block style indicates how newlines inside the block should behave. If you would like them to be kept as **newlines**, use the **literal style**, indicated by a **pipe** (`|`). If instead you want them to be **replaced by spaces**, use the **folded style**, indicated by a **right angle bracket** (`>`). (To get a newline using the folded style, leave a blank line by putting two newlines in. Lines with extra indentation are also not folded.)"
   ]
  },
  {
   "cell_type": "code",
   "execution_count": 14,
   "metadata": {},
   "outputs": [
    {
     "data": {
      "text/plain": [
       "{'long description': 'This text preserves the line breaks,\\nas well as the indentation.\\n',\n",
       " 'folded long description': 'This is also one way of writing the long text, but  line breaks and indentations will be replaced with single spaces when read.\\n'}"
      ]
     },
     "execution_count": 14,
     "metadata": {},
     "output_type": "execute_result"
    }
   ],
   "source": [
    "read_yaml(\"\"\"\n",
    "long description: |\n",
    "  This text preserves the line breaks,\n",
    "  as well as the indentation.\n",
    "folded long description: >\n",
    "  This is also one way of writing the long text, but \n",
    "  line breaks and indentations will be replaced with single spaces when read.\n",
    "\"\"\"\n",
    ")"
   ]
  },
  {
   "cell_type": "markdown",
   "metadata": {},
   "source": [
    "<a class=\"anchor\" id=\"numbers\"></a>\n",
    "### Numbers [<img src=\"../../images/logos/back_to_top.png\" width=\"22\" align= \"center\"/>](#table_of_contents)\n",
    "\n",
    "Integer numbers are written as shown below:\n",
    "\n",
    "```yaml\n",
    "canonical: 12345\n",
    "decimal: +12,345\n",
    "octal: 014\n",
    "hexadecimal: 0xC\n",
    "```"
   ]
  },
  {
   "cell_type": "markdown",
   "metadata": {},
   "source": [
    "Float numbers are written as shown below:\n",
    "\n",
    "```yaml\n",
    "canonical: 1.23015e+3\n",
    "exponential: 12.3015e+02\n",
    "fixed: 1,230.15\n",
    "negative infinity: -.inf\n",
    "not a number: .NaN\n",
    "```"
   ]
  },
  {
   "cell_type": "markdown",
   "metadata": {},
   "source": [
    "<a class=\"anchor\" id=\"boolean\"></a>\n",
    "### Boolean [<img src=\"../../images/logos/back_to_top.png\" width=\"22\" align= \"center\"/>](#table_of_contents)\n",
    "\n",
    "Boolean is written as true and false:\n",
    "\n",
    "```yaml\n",
    "flag: false\n",
    "not flag: true\n",
    "```"
   ]
  },
  {
   "cell_type": "markdown",
   "metadata": {},
   "source": [
    "<a class=\"anchor\" id=\"collections_and_structures\"></a>\n",
    "### Collections and Structures [<img src=\"../../images/logos/back_to_top.png\" width=\"22\" align= \"center\"/>](#table_of_contents)"
   ]
  },
  {
   "cell_type": "markdown",
   "metadata": {},
   "source": [
    "<a class=\"anchor\" id=\"lists\"></a>\n",
    "####  Lists [<img src=\"../../images/logos/back_to_top.png\" width=\"22\" align= \"center\"/>](#table_of_contents)\n",
    "\n",
    "YAML includes block collections which use indentation for scope. Here, each entry begins with a new line. Block sequences in collections indicate each entry with a dash and space (`-`). In YAML, block collections styles are not denoted by any specific indicator. Block collection in YAML can distinguished from other scalar quantities with an identification of key value pair included in them.\n",
    "\n",
    "Lists or arrays are written as shown below:\n",
    "\n",
    "```yaml\n",
    "simple list: [1, 2, 3, four, five, “with quotes”]\n",
    "nested list:\n",
    "  - item 1\n",
    "  - item 2\n",
    "  - \n",
    "    - one\n",
    "    - two\n",
    "    - three\n",
    "    - four\n",
    "```"
   ]
  },
  {
   "cell_type": "code",
   "execution_count": 58,
   "metadata": {},
   "outputs": [
    {
     "data": {
      "text/plain": [
       "{'simple list': [1, 2, 3, 'four', 'five', '“with quotes”'],\n",
       " 'nested list': ['item 1', 'item 2', ['one', 'two', 'three', 'four']]}"
      ]
     },
     "execution_count": 58,
     "metadata": {},
     "output_type": "execute_result"
    }
   ],
   "source": [
    "read_yaml(\n",
    "\"\"\"\n",
    "simple list: [1, 2, 3, four, five, “with quotes”]\n",
    "nested list:\n",
    "  - item 1\n",
    "  - item 2\n",
    "  - \n",
    "    - one\n",
    "    - two\n",
    "    - three\n",
    "    - four\n",
    "\"\"\")"
   ]
  },
  {
   "cell_type": "markdown",
   "metadata": {},
   "source": [
    "<a class=\"anchor\" id=\"maps\"></a>\n",
    "### Maps [<img src=\"../../images/logos/back_to_top.png\" width=\"22\" align= \"center\"/>](#table_of_contents)\n",
    "\n",
    "Mappings are the representation of key value as included in JSON structure. It is used often in multi-lingual support systems and creation of API in mobile applications. Mappings use key value pair representation with the usage of colon and space (:).\n",
    "\n",
    "Maps can also be nested as shown below:\n",
    "\n",
    "```yaml\n",
    "This:\n",
    " is a:\n",
    "  nested_map:\n",
    "   key: value\n",
    "```"
   ]
  },
  {
   "cell_type": "code",
   "execution_count": 10,
   "metadata": {},
   "outputs": [
    {
     "data": {
      "text/plain": [
       "{'This': {'is a': {'nested_map': {'key': 'value'}}}}"
      ]
     },
     "execution_count": 10,
     "metadata": {},
     "output_type": "execute_result"
    }
   ],
   "source": [
    "read_yaml(\n",
    "\"\"\"\n",
    "This:\n",
    "  is a:\n",
    "    nested_map:\n",
    "      key: value\n",
    "\"\"\"\n",
    ")"
   ]
  },
  {
   "cell_type": "markdown",
   "metadata": {},
   "source": [
    "<a class=\"anchor\" id=\"references\"></a>\n",
    "### References [<img src=\"../../images/logos/back_to_top.png\" width=\"22\" align= \"center\"/>](#table_of_contents)\n",
    "\n",
    "References or anchors are useful when you want to copy an existing structure into a new form without repeating. An example is given below:"
   ]
  },
  {
   "cell_type": "code",
   "execution_count": 64,
   "metadata": {},
   "outputs": [
    {
     "data": {
      "text/plain": [
       "{'repeated text': 'This text need not be written again',\n",
       " 'an anchor': 'This text need not be written again',\n",
       " 'person': {'age': 10},\n",
       " 'member 1': {'age': 10, 'name': 'John'},\n",
       " 'member 2': {'age': 10, 'name': 'Dave'}}"
      ]
     },
     "execution_count": 64,
     "metadata": {},
     "output_type": "execute_result"
    }
   ],
   "source": [
    "read_yaml(\n",
    "\"\"\"\n",
    "repeated text: &my_text This text need not be written again\n",
    "\n",
    "an anchor: *my_text\n",
    "\n",
    "# We can reference the maps too\n",
    "person: &person\n",
    "  age: 10\n",
    "\n",
    "# All members below are of the same age\n",
    "member 1:\n",
    "  <<: *person\n",
    "  name: John\n",
    "member 2:\n",
    "  <<: *person\n",
    "  name: Dave\n",
    "\"\"\"\n",
    ")"
   ]
  },
  {
   "cell_type": "markdown",
   "metadata": {},
   "source": [
    "<a class=\"anchor\" id=\"multiple_documents\"></a>\n",
    "### Multiple documents [<img src=\"../../images/logos/back_to_top.png\" width=\"22\" align= \"center\"/>](#table_of_contents)\n",
    "\n",
    "Three dashes `---`, mark the beginning of a new document"
   ]
  },
  {
   "cell_type": "code",
   "execution_count": 28,
   "metadata": {},
   "outputs": [],
   "source": [
    "# read_yaml(\n",
    "# \"\"\"\n",
    "# ---\n",
    "# message: Message of document one\n",
    "# ---\n",
    "# message: Message of document two\n",
    "# \"\"\"\n",
    "# )"
   ]
  },
  {
   "cell_type": "markdown",
   "metadata": {},
   "source": [
    "<a class=\"anchor\" id=\"tags\"></a>\n",
    "### Tags [<img src=\"../../images/logos/back_to_top.png\" width=\"22\" align= \"center\"/>](#table_of_contents)\n",
    "\n",
    "Tags, in YAML, are used to declare types. Examples are given below:"
   ]
  },
  {
   "cell_type": "code",
   "execution_count": 16,
   "metadata": {},
   "outputs": [
    {
     "data": {
      "text/plain": [
       "{'not a number': '0.00035',\n",
       " 'python tuple': (10, 1),\n",
       " 'an image': b'GIF89a\\x01\\x00\\x01\\x00\\x00\\x00\\x00!\\xf9\\x04\\x01\\n\\x00\\x01\\x00,\\x00\\x00\\x00\\x00\\x01\\x00\\x01\\x00\\x00\\x02\\x02L\\x01\\x00;'}"
      ]
     },
     "execution_count": 16,
     "metadata": {},
     "output_type": "execute_result"
    }
   ],
   "source": [
    "read_yaml(\n",
    "\"\"\"\n",
    "not a number: !!str 0.00035\n",
    "\n",
    "python tuple: !!python/tuple [10,1]\n",
    "\n",
    "# An example of storing a binary file\n",
    "an image: !!binary |\n",
    "  R0lGODlhAQABAAAAACH5BAEKAAEALAAAAAABAAEAAAICTAEAOw==\n",
    "\"\"\"\n",
    ")"
   ]
  },
  {
   "cell_type": "code",
   "execution_count": 17,
   "metadata": {},
   "outputs": [
    {
     "data": {
      "text/plain": [
       "{'integer': '3', 'key': (1, 2)}"
      ]
     },
     "execution_count": 17,
     "metadata": {},
     "output_type": "execute_result"
    }
   ],
   "source": [
    "read_yaml(\n",
    "\"\"\"\n",
    "integer: !!str 3\n",
    "key: !!python/tuple [1, 2]\n",
    "\"\"\")"
   ]
  },
  {
   "cell_type": "code",
   "execution_count": null,
   "metadata": {},
   "outputs": [],
   "source": []
  }
 ],
 "metadata": {
  "kernelspec": {
   "display_name": "Python 3",
   "language": "python",
   "name": "python3"
  },
  "language_info": {
   "codemirror_mode": {
    "name": "ipython",
    "version": 3
   },
   "file_extension": ".py",
   "mimetype": "text/x-python",
   "name": "python",
   "nbconvert_exporter": "python",
   "pygments_lexer": "ipython3",
   "version": "3.7.6"
  }
 },
 "nbformat": 4,
 "nbformat_minor": 5
}
