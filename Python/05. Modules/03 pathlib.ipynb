{
 "cells": [
  {
   "cell_type": "markdown",
   "id": "2cfb42e5",
   "metadata": {},
   "source": [
    "<img src=\"../../images/banners/python-modules.png\" width=\"600\"/>"
   ]
  },
  {
   "cell_type": "markdown",
   "id": "2741db69",
   "metadata": {},
   "source": [
    "# <img src=\"../../images/logos/python.png\" width=\"23\"/> `pathlib` module: Taming the File System \n"
   ]
  },
  {
   "cell_type": "markdown",
   "id": "e8b3892c",
   "metadata": {},
   "source": [
    "## <img src=\"../../images/logos/toc.png\" width=\"20\"/> Table of Contents \n",
    "* [The Problem With Python File Path Handling](#the_problem_with_python_file_path_handling)\n",
    "* [Creating Paths](#creating_paths)\n",
    "* [Reading and Writing Files](#reading_and_writing_files)\n",
    "* [Picking Out Components of a Path](#picking_out_components_of_a_path)\n",
    "* [Moving and Deleting Files](#moving_and_deleting_files)\n",
    "* [Examples](#examples)\n",
    "    * [Counting Files](#counting_files)\n",
    "* [Find the Last Modified File](#find_the_last_modified_file)\n",
    "    * [Create a Unique File Name](#create_a_unique_file_name)\n",
    "* [<img src=\"../../images/logos/checkmark.png\" width=\"20\"/> Conclusion](#<img_src=\"../../images/logos/checkmark.png\"_width=\"20\"/>_conclusion)\n",
    "\n",
    "---"
   ]
  },
  {
   "cell_type": "markdown",
   "id": "8b3fd384",
   "metadata": {},
   "source": [
    "Have you struggled with file path handling in Python? In Python 3.4 and above, the struggle is now over! You no longer need to scratch your head over code like:\n",
    "\n",
    "```python\n",
    "path.rsplit('\\\\', maxsplit=1)[0]\n",
    "```"
   ]
  },
  {
   "cell_type": "markdown",
   "id": "9b8d3358",
   "metadata": {},
   "source": [
    "Or cringe at the verbosity of:\n",
    "\n",
    "```python\n",
    "os.path.isfile(os.path.join(os.path.expanduser('~'), 'realpython.txt'))\n",
    "```"
   ]
  },
  {
   "cell_type": "markdown",
   "id": "629cca27",
   "metadata": {},
   "source": [
    "In this tutorial, you will see how to work with file paths—names of directories and files—in Python. You will learn new ways to read and write files, manipulate paths and the underlying file system, as well as see some examples of how to list files and iterate over them. Using the pathlib module, the two examples above can be rewritten using elegant, readable, and Pythonic code like:\n",
    "\n",
    "```python\n",
    "path.parent\n",
    "(pathlib.Path.home() / 'realpython.txt').is_file()\n",
    "```"
   ]
  },
  {
   "cell_type": "markdown",
   "id": "b8fc832f",
   "metadata": {},
   "source": [
    "<a class=\"anchor\" id=\"the_problem_with_python_file_path_handling\"></a>\n",
    "## The Problem With Python File Path Handling"
   ]
  },
  {
   "cell_type": "markdown",
   "id": "9d797ed5",
   "metadata": {},
   "source": [
    "Working with files and interacting with the file system are important for many different reasons. The simplest cases may involve only reading or writing files, but sometimes more complex tasks are at hand. Maybe you need to list all files in a directory of a given type, find the parent directory of a given file, or create a unique file name that does not already exist."
   ]
  },
  {
   "cell_type": "markdown",
   "id": "de2c57bc",
   "metadata": {},
   "source": [
    "Traditionally, Python has represented file paths using regular text strings. With support from the [`os.path`](https://docs.python.org/3/library/os.path.html) standard library, this has been adequate although a bit cumbersome (as the second example in the introduction shows). However, since paths are not strings, important functionality is spread all around the standard library, including libraries like os, glob, and shutil. The following example needs three import statements just to move all text files to an archive directory:"
   ]
  },
  {
   "cell_type": "code",
   "execution_count": 12,
   "id": "a304b008",
   "metadata": {},
   "outputs": [],
   "source": [
    "import glob\n",
    "import os\n",
    "import shutil\n",
    "\n",
    "for file_name in glob.glob('*.txt'):\n",
    "    print(file_name)\n",
    "    new_path = os.path.join('archive', file_name)\n",
    "    shutil.move(file_name, new_path)"
   ]
  },
  {
   "cell_type": "markdown",
   "id": "02c9d053",
   "metadata": {},
   "source": [
    "With paths represented by strings, it is possible, but usually a bad idea, to use regular string methods. For instance, instead of joining two paths with + like regular strings, you should use `os.path.join()`, which joins paths using the correct path separator on the operating system. Recall that Windows uses `\\` while Mac and Linux use `/` as a separator. This difference can lead to hard-to-spot errors, such as our first example in the introduction working for only Windows paths."
   ]
  },
  {
   "cell_type": "markdown",
   "id": "ccbbb2c0",
   "metadata": {},
   "source": [
    "The `pathlib` module was introduced in Python 3.4 (PEP 428) to deal with these challenges. It gathers the necessary functionality in one place and makes it available through methods and properties on an easy-to-use Path object."
   ]
  },
  {
   "cell_type": "markdown",
   "id": "30e4b2a6",
   "metadata": {},
   "source": [
    "Early on, other packages still used strings for file paths, but as of Python 3.6, the `pathlib` module is supported throughout the standard library, partly due to the addition of a file system path protocol. If you are stuck on legacy Python, there is also a backport available for Python 2."
   ]
  },
  {
   "cell_type": "markdown",
   "id": "2c738b86",
   "metadata": {},
   "source": [
    "<a class=\"anchor\" id=\"creating_paths\"></a>\n",
    "## Creating Paths\n",
    "\n",
    "All you really need to know about is the pathlib.Path class. There are a few different ways of creating a path. First of all, there are classmethods like `.cwd()` (Current Working Directory) and `.home()` (your user’s home directory):"
   ]
  },
  {
   "cell_type": "code",
   "execution_count": 8,
   "id": "945f3419",
   "metadata": {},
   "outputs": [
    {
     "data": {
      "text/plain": [
       "PosixPath('/mnt/c/Users/hejaz/OneDrive/Desktop/CS-Tutorial/Python/05. Modules')"
      ]
     },
     "execution_count": 8,
     "metadata": {},
     "output_type": "execute_result"
    }
   ],
   "source": [
    "import pathlib\n",
    "\n",
    "pathlib.Path.cwd()"
   ]
  },
  {
   "cell_type": "markdown",
   "id": "e3f0bd75",
   "metadata": {},
   "source": [
    "> Note: Throughout this tutorial, we will assume that `pathlib` has been imported, without spelling out `import pathlib` as above. As you will mainly be using the `Path` class, you can also do `from pathlib import Path` and write `Path` instead of `pathlib.Path`."
   ]
  },
  {
   "cell_type": "markdown",
   "id": "937832e0",
   "metadata": {},
   "source": [
    "A path can also be explicitly created from its string representation:"
   ]
  },
  {
   "cell_type": "code",
   "execution_count": 12,
   "id": "4cd39a09",
   "metadata": {},
   "outputs": [
    {
     "data": {
      "text/plain": [
       "PosixPath('C:\\\\Users\\\\gahjelle\\\\realpython\\\\file.txt')"
      ]
     },
     "execution_count": 12,
     "metadata": {},
     "output_type": "execute_result"
    }
   ],
   "source": [
    "pathlib.Path(r'C:\\Users\\gahjelle\\realpython\\file.txt')"
   ]
  },
  {
   "cell_type": "markdown",
   "id": "7eb415cd",
   "metadata": {},
   "source": [
    "A little tip for dealing with Windows paths: on Windows, the path separator is a backslash, `\\`. However, in many contexts, backslash is also used as an escape character in order to represent non-printable characters. To avoid problems, use raw string literals to represent Windows paths. These are string literals that have an `r` prepended to them. In raw string literals the `\\` represents a literal backslash: `r'C:\\Users'`."
   ]
  },
  {
   "cell_type": "markdown",
   "id": "7bc56cb1",
   "metadata": {},
   "source": [
    "A third way to construct a path is to join the parts of the path using the special operator `/`. The forward slash operator is used independently of the actual path separator on the platform:"
   ]
  },
  {
   "cell_type": "markdown",
   "id": "7cf4917c",
   "metadata": {},
   "source": [
    "The `/` can join several paths or a mix of paths and strings (as above) as long as there is at least one Path object. If you do not like the special `/` notation, you can do the same thing with the `.joinpath()` method:"
   ]
  },
  {
   "cell_type": "code",
   "execution_count": 11,
   "id": "fd4396de",
   "metadata": {},
   "outputs": [
    {
     "data": {
      "text/plain": [
       "PosixPath('/home/ali/python/scripts/test.py')"
      ]
     },
     "execution_count": 11,
     "metadata": {},
     "output_type": "execute_result"
    }
   ],
   "source": [
    "pathlib.Path.home().joinpath('python', 'scripts', 'test.py')"
   ]
  },
  {
   "cell_type": "code",
   "execution_count": 50,
   "id": "edf3a038",
   "metadata": {},
   "outputs": [
    {
     "data": {
      "text/plain": [
       "PosixPath('prefix/path/github')"
      ]
     },
     "execution_count": 50,
     "metadata": {},
     "output_type": "execute_result"
    }
   ],
   "source": [
    "\"prefix\" / pathlib.Path(\"./path\")"
   ]
  },
  {
   "cell_type": "markdown",
   "id": "e144d286",
   "metadata": {},
   "source": [
    "Note that in the preceding examples, the ‍‍`pathlib.Path‍` is represented by either a `WindowsPath` or a `PosixPath`. The actual object representing the path depends on the underlying operating system. (That is, the `WindowsPath` example was run on Windows, while the `PosixPath` examples have been run on Mac or Linux.) See the section Operating System Differences for more information."
   ]
  },
  {
   "cell_type": "markdown",
   "id": "7b2df788",
   "metadata": {},
   "source": [
    "<a class=\"anchor\" id=\"the-Anatomy-of-a-posixPath\"></a>\n",
    "## The Anatomy of a PosixPath\n",
    "To make it easier to understand the basics components of a Path, we'll their basic components:"
   ]
  },
  {
   "cell_type": "markdown",
   "id": "a5bec7fd",
   "metadata": {},
   "source": [
    "<img src=\"../images/the-anatomy-of-PosixPath.jfif\" width=\"500\"/>"
   ]
  },
  {
   "cell_type": "markdown",
   "id": "2a99ee3c",
   "metadata": {},
   "source": [
    "The different parts of a path are conveniently available as properties. Basic examples include:\n",
    "\n",
    "- `.name`: the file name without any directory\n",
    "- `.parent`: the directory containing the file, or the parent directory if path is a directory\n",
    "- `.stem`: the file name without the suffix\n",
    "- `.suffix`: the file extension\n",
    "- `.anchor`: the part of the path before the directories\n"
   ]
  },
  {
   "cell_type": "markdown",
   "id": "2d85a249",
   "metadata": {},
   "source": [
    "```python\n",
    ">>> from pathlib import Path\n",
    "\n",
    ">>> path = Path('/home/miguel/projects/blog/config.tar.gz')\n",
    "\n",
    ">>> path.drive\n",
    "'/'\n",
    "\n",
    ">>> path.root\n",
    "'/'\n",
    "\n",
    ">>> path.anchor\n",
    "'/'\n",
    "\n",
    ">>> path.parent\n",
    "PosixPath('/home/miguel/projects/blog')\n",
    "\n",
    ">>> path.name\n",
    "'config.tar.gz'\n",
    "\n",
    ">>> path.stem\n",
    "'config.tar'\n",
    "\n",
    ">>> path.suffix\n",
    "'.gz'\n",
    "\n",
    ">>> path.suffixes\n",
    "['.tar', '.gz']\n",
    "```"
   ]
  },
  {
   "cell_type": "code",
   "execution_count": 18,
   "id": "5ee5fce2",
   "metadata": {},
   "outputs": [
    {
     "data": {
      "text/plain": [
       "('/', 'home', 'ali', 'CS-Tutorial', 'python', 'modules', 'text.txt')"
      ]
     },
     "execution_count": 18,
     "metadata": {},
     "output_type": "execute_result"
    }
   ],
   "source": [
    "path = Path('/home/ali/CS-Tutorial/python/modules/text.txt')\n",
    "path.resolve().parts"
   ]
  },
  {
   "cell_type": "code",
   "execution_count": 19,
   "id": "804ceab0",
   "metadata": {},
   "outputs": [
    {
     "data": {
      "text/plain": [
       "PosixPath('/home/ali/CS-Tutorial/python/new.txt')"
      ]
     },
     "execution_count": 19,
     "metadata": {},
     "output_type": "execute_result"
    }
   ],
   "source": [
    "path.parent.parent / ('new' + path.suffix)"
   ]
  },
  {
   "cell_type": "markdown",
   "id": "318501ce-5d57-4d89-a748-6239851c1e74",
   "metadata": {},
   "source": [
    "<a class=\"anchor\" id=\"creating-directories-with-pathlib\"></a>\n",
    "## Creating Directories with pathlib"
   ]
  },
  {
   "cell_type": "markdown",
   "id": "0b44b43f-f461-401c-b218-58c9262fc386",
   "metadata": {},
   "source": [
    "`pathlib.Path` comes with a method to create new directories named `Path.mkdir()`."
   ]
  },
  {
   "cell_type": "markdown",
   "id": "055ea4a2",
   "metadata": {},
   "source": [
    "This method takes three arguments:\n",
    "\n",
    "- `mode`: Used to determine the file mode and access flags\n",
    "- `parents`: Similar to the `mkdir -p` command in Unix systems. Default to False which means it raises errors if there's the parent is missing, or if the directory is already created. When it's True, `pathlib.mkdir` creates the missing parent directories.\n",
    "- `exist_ok`: Defaults to False and raises FileExistsError if the directory being created already exists. When you set it to True, pathlib ignores the error if the last part of the path is not an existing non-directory if file. directory is not empty, pathlib won't override it. lets see some examples :\n",
    "\n"
   ]
  },
  {
   "cell_type": "markdown",
   "id": "5c555205",
   "metadata": {},
   "source": [
    "```python\n",
    "# Create a directory that already exists\n",
    ">>> list(Path.cwd().iterdir())\n",
    "[PosixPath('/home/miguel/path/not_created_yet'),\n",
    " PosixPath('/home/miguel/path/reports'),\n",
    " PosixPath('/home/miguel/path/new_directory')]\n",
    "\n",
    ">>> path = Path('new_directory')\n",
    "\n",
    ">>> path.exists()\n",
    "True\n",
    "\n",
    ">>> path.mkdir()\n",
    "---------------------------------------------------------------------------\n",
    "FileExistsError                           Traceback (most recent call last)\n",
    "<ipython-input-25-4b7d1fa6f6eb> in <module>\n",
    "----> 1 path.mkdir()\n",
    "\n",
    "~/.pyenv/versions/3.9.4/lib/python3.9/pathlib.py in mkdir(self, mode, parents, exist_ok)\n",
    "   1311         try:\n",
    "-> 1312             self._accessor.mkdir(self, mode)\n",
    "   1313         except FileNotFoundError:\n",
    "   1314             if not parents or self.parent == self:\n",
    "\n",
    "FileExistsError: [Errno 17] File exists: 'new_directory'\n",
    "\n",
    ">>> path.mkdir(exist_ok=True)\n",
    "\n",
    ">>> list(Path.cwd().iterdir())\n",
    "[PosixPath('/home/miguel/path/not_created_yet'),\n",
    " PosixPath('/home/miguel/path/reports'),\n",
    " PosixPath('/home/miguel/path/new_directory')]        \n",
    "```"
   ]
  },
  {
   "cell_type": "markdown",
   "id": "e06db36f",
   "metadata": {},
   "source": [
    "______\n",
    "```python\n",
    "# Create a directory that already exists\n",
    ">>> list(Path.cwd().iterdir())\n",
    "[PosixPath('/home/miguel/path/not_created_yet'),\n",
    " PosixPath('/home/miguel/path/reports'),\n",
    " PosixPath('/home/miguel/path/new_directory')]\n",
    "\n",
    ">>> path = Path('new_directory')\n",
    "\n",
    ">>> path.exists()\n",
    "True\n",
    "\n",
    ">>> path.mkdir()\n",
    "---------------------------------------------------------------------------\n",
    "FileExistsError                           Traceback (most recent call last)\n",
    "<ipython-input-25-4b7d1fa6f6eb> in <module>\n",
    "----> 1 path.mkdir()\n",
    "\n",
    "~/.pyenv/versions/3.9.4/lib/python3.9/pathlib.py in mkdir(self, mode, parents, exist_ok)\n",
    "   1311         try:\n",
    "-> 1312             self._accessor.mkdir(self, mode)\n",
    "   1313         except FileNotFoundError:\n",
    "   1314             if not parents or self.parent == self:\n",
    "\n",
    "FileExistsError: [Errno 17] File exists: 'new_directory'\n",
    "\n",
    ">>> path.mkdir(exist_ok=True)\n",
    "\n",
    ">>> list(Path.cwd().iterdir())\n",
    "[PosixPath('/home/miguel/path/not_created_yet'),\n",
    " PosixPath('/home/miguel/path/reports'),\n",
    " PosixPath('/home/miguel/path/new_directory')]        \n",
    "```"
   ]
  },
  {
   "cell_type": "markdown",
   "id": "945649b0-d18c-4b26-9c9e-1773ab423189",
   "metadata": {},
   "source": [
    "## List All Files and Directories"
   ]
  },
  {
   "cell_type": "markdown",
   "id": "8f22099a-eeb7-4f4e-a8d8-24233269afbb",
   "metadata": {},
   "source": [
    "To list all files in a directory, including other directories, you can use the `Path.iterdir()` method. For performance reasons, it returns a generator that you can either use to iterate over it, or just convert to a list for convenience."
   ]
  },
  {
   "cell_type": "markdown",
   "id": "27208a1a",
   "metadata": {},
   "source": [
    "We've seen that iterdir returns a list of Paths. To list only the directories in a folder, you can use the `Path.is_dir()` method. The example below will get all the folder names inside the directory.\n",
    "```python\n",
    ">>> path = Path('/home/miguel/projects/pathlib')\n",
    "\n",
    ">>> [p for p in path.iterdir() if p.is_dir()]\n",
    "[PosixPath('/home/miguel/projects/pathlib/tests'),\n",
    " PosixPath('/home/miguel/projects/pathlib/src')]\n",
    "```"
   ]
  },
  {
   "cell_type": "markdown",
   "id": "f0d38427",
   "metadata": {},
   "source": [
    "> **WARNING** : This example only lists the immediate subdirectories in Python. In the next subsection, we'll see how to list all subdirectories."
   ]
  },
  {
   "cell_type": "markdown",
   "id": "68facffc-0108-46f6-9133-1083be364b03",
   "metadata": {},
   "source": [
    "### Getting a List of All Subdirectories in the Current Directory Recursively"
   ]
  },
  {
   "cell_type": "markdown",
   "id": "4dafbd46-9f7c-49b7-b9f5-9a05a6b21a5e",
   "metadata": {},
   "source": [
    "In this section, we'll see how to navigate in directory and subdirectories. This time we'll use another method from pathlib.Path named glob."
   ]
  },
  {
   "cell_type": "markdown",
   "id": "07b8c0f0",
   "metadata": {},
   "source": [
    "```python\n",
    ">>> from pathlib import Path\n",
    "\n",
    ">>> path = Path('/home/miguel/projects/pathlib')\n",
    "\n",
    ">>> [p for p in path.glob('**/*') if p.is_dir()]\n",
    "[PosixPath('/home/miguel/projects/pathlib/tests'),\n",
    " PosixPath('/home/miguel/projects/pathlib/src'),\n",
    " PosixPath('/home/miguel/projects/pathlib/src/dir')]\n",
    "```"
   ]
  },
  {
   "cell_type": "markdown",
   "id": "0bf54491",
   "metadata": {},
   "source": [
    "### List only the files with is_file\n",
    "Just as pathlib provides a method to check if a path is a directory, it also provides one to check if a path is a file. This method is called `Path.is_file()`, and you can use to filter out the directories and print all file names in a folder."
   ]
  },
  {
   "cell_type": "markdown",
   "id": "bf80def8",
   "metadata": {},
   "source": [
    "```python\n",
    ">>> from pathlib import Path\n",
    ">>> path = Path('/home/miguel/projects/pathlib')\n",
    "\n",
    ">>> [p for p in path.iterdir() if p.is_file()]\n",
    "[PosixPath('/home/miguel/projects/pathlib/script.py'),\n",
    " PosixPath('/home/miguel/projects/pathlib/README.md')]\n",
    "```"
   ]
  },
  {
   "cell_type": "markdown",
   "id": "92c90d2a",
   "metadata": {},
   "source": [
    "> **WARNING** : This example only lists the files inside the current directory. In the next subsection, we'll see how to list all files inside the subdirectories as well."
   ]
  },
  {
   "cell_type": "markdown",
   "id": "496d032c",
   "metadata": {},
   "source": [
    "### Recursively Iterate Through All Files\n",
    "n previous sections, we used `Path.glob()` to list all directories recursively, we can do the same for files by filtering the paths using the `Path.is_file()` method."
   ]
  },
  {
   "cell_type": "markdown",
   "id": "881acbcb",
   "metadata": {},
   "source": [
    "```python\n",
    ">>> from pathlib import Path\n",
    "\n",
    ">>> path = Path('/home/miguel/projects/pathlib')\n",
    "\n",
    ">>> [p for p in path.rglob('*') if p.is_file()]\n",
    "[PosixPath('/home/miguel/projects/pathlib/script.py'),\n",
    " PosixPath('/home/miguel/projects/pathlib/README.md'),\n",
    " PosixPath('/home/miguel/projects/pathlib/tests/test_script.py'),\n",
    " PosixPath('/home/miguel/projects/pathlib/src/dir/walk.py')]\n",
    "```"
   ]
  },
  {
   "cell_type": "markdown",
   "id": "38481bc5",
   "metadata": {},
   "source": [
    "<a class=\"anchor\" id=\"reading_and_writing_files\"></a>\n",
    "## Reading and Writing Files\n",
    "\n",
    "Traditionally, the way to read or write a file in Python has been to use the built-in `open()` function. This is still true as the `open()` function can use `Path` objects directly. The following example finds all headers in a Markdown file and prints them:"
   ]
  },
  {
   "cell_type": "code",
   "execution_count": 51,
   "id": "cb629f1b",
   "metadata": {},
   "outputs": [],
   "source": [
    "path = pathlib.Path.cwd() / 'test.md'\n",
    "with open(path, mode='w') as f:\n",
    "    f.write(\"Hello World from pathlib!\")"
   ]
  },
  {
   "cell_type": "markdown",
   "id": "8c83d39f",
   "metadata": {},
   "source": [
    "An equivalent alternative is to call `.open()` on the Path object:"
   ]
  },
  {
   "cell_type": "code",
   "execution_count": 33,
   "id": "089e7c3b",
   "metadata": {},
   "outputs": [
    {
     "name": "stdout",
     "output_type": "stream",
     "text": [
      "Hello World from pathlib!\n"
     ]
    }
   ],
   "source": [
    "with path.open(mode='r') as f:\n",
    "    print(f.read())"
   ]
  },
  {
   "cell_type": "markdown",
   "id": "887d3425",
   "metadata": {},
   "source": [
    "In fact, `Path.open()` is calling the built-in `open()` behind the scenes. Which option you use is mainly a matter of taste.\n",
    "\n",
    "For simple reading and writing of files, there are a couple of convenience methods in the `pathlib` library:\n",
    "\n",
    "- `.read_text()`: open the path in text mode and return the contents as a string.\n",
    "- `.read_bytes()`: open the path in binary/bytes mode and return the contents as a bytestring.\n",
    "- `.write_text()`: open the path and write string data to it.\n",
    "- `.write_bytes()`: open the path in binary/bytes mode and write data to it."
   ]
  },
  {
   "cell_type": "markdown",
   "id": "dd755e42",
   "metadata": {},
   "source": [
    "Each of these methods handles the opening and closing of the file, making them trivial to use, for instance:"
   ]
  },
  {
   "cell_type": "code",
   "execution_count": 73,
   "id": "97b60f7d",
   "metadata": {},
   "outputs": [
    {
     "data": {
      "text/plain": [
       "'ali hejazi'"
      ]
     },
     "execution_count": 73,
     "metadata": {},
     "output_type": "execute_result"
    }
   ],
   "source": [
    "path = pathlib.Path.cwd() / 'test.md'\n",
    "path.read_text()"
   ]
  },
  {
   "cell_type": "markdown",
   "id": "2fe80675",
   "metadata": {},
   "source": [
    "Paths can also be specified as simple file names, in which case they are interpreted relative to the current working directory. The following example is equivalent to the previous one:"
   ]
  },
  {
   "cell_type": "code",
   "execution_count": 74,
   "id": "f5f18b69",
   "metadata": {},
   "outputs": [
    {
     "data": {
      "text/plain": [
       "'ali hejazi'"
      ]
     },
     "execution_count": 74,
     "metadata": {},
     "output_type": "execute_result"
    }
   ],
   "source": [
    "pathlib.Path('test.md').read_text()"
   ]
  },
  {
   "cell_type": "markdown",
   "id": "0a74492c",
   "metadata": {},
   "source": [
    "The `.resolve()` method will find the full path. Below, we confirm that the current working directory is used for simple file names:"
   ]
  },
  {
   "cell_type": "code",
   "execution_count": 75,
   "id": "6b1feef7",
   "metadata": {},
   "outputs": [
    {
     "data": {
      "text/plain": [
       "PosixPath('/Users/ali/PERSONAL_DIR/github/CS-Tutorial/python/05. Modules/test.md')"
      ]
     },
     "execution_count": 75,
     "metadata": {},
     "output_type": "execute_result"
    }
   ],
   "source": [
    "path.resolve()"
   ]
  },
  {
   "cell_type": "code",
   "execution_count": 76,
   "id": "5783298a",
   "metadata": {},
   "outputs": [
    {
     "data": {
      "text/plain": [
       "PosixPath('/Users/ali/PERSONAL_DIR/github/CS-Tutorial/python/05. Modules/test.md')"
      ]
     },
     "execution_count": 76,
     "metadata": {},
     "output_type": "execute_result"
    }
   ],
   "source": [
    "path = pathlib.Path('test.md')\n",
    "path.resolve()"
   ]
  },
  {
   "cell_type": "code",
   "execution_count": 77,
   "id": "515518dc",
   "metadata": {},
   "outputs": [
    {
     "data": {
      "text/plain": [
       "True"
      ]
     },
     "execution_count": 77,
     "metadata": {},
     "output_type": "execute_result"
    }
   ],
   "source": [
    "path.resolve().parent == pathlib.Path.cwd()"
   ]
  },
  {
   "cell_type": "code",
   "execution_count": 78,
   "id": "d996a883",
   "metadata": {},
   "outputs": [
    {
     "data": {
      "text/plain": [
       "False"
      ]
     },
     "execution_count": 78,
     "metadata": {},
     "output_type": "execute_result"
    }
   ],
   "source": [
    "path.parent == pathlib.Path.cwd()"
   ]
  },
  {
   "cell_type": "markdown",
   "id": "cf85908d",
   "metadata": {},
   "source": [
    "Note that when paths are compared, it is their representations that are compared. In the example above, `path.parent` is not equal to `pathlib.Path.cwd()`, because path.parent is represented by `'.'` while `pathlib.Path.cwd()` is represented by `'/home/gahjelle/realpython/'`."
   ]
  },
  {
   "cell_type": "markdown",
   "id": "a9b9efaf",
   "metadata": {},
   "source": [
    "Note that .parent returns a new `Path` object, whereas the other properties return strings. This means for instance that `.parent` can be chained as in the last example or even combined with `/` to create completely new paths:"
   ]
  },
  {
   "cell_type": "code",
   "execution_count": 34,
   "id": "cf1035fe",
   "metadata": {},
   "outputs": [
    {
     "data": {
      "text/plain": [
       "PosixPath('new.md')"
      ]
     },
     "execution_count": 34,
     "metadata": {},
     "output_type": "execute_result"
    }
   ],
   "source": [
    "path.parent.parent / ('new' + path.suffix)"
   ]
  },
  {
   "cell_type": "markdown",
   "id": "61f6eacb",
   "metadata": {},
   "source": [
    "The excellent [Pathlib Cheatsheet](https://github.com/chris1610/pbpython/blob/master/extras/Pathlib-Cheatsheet.pdf) provides a visual representation of these and other properties and methods."
   ]
  },
  {
   "cell_type": "markdown",
   "id": "90a28147",
   "metadata": {},
   "source": [
    "<a class=\"anchor\" id=\"moving_and_deleting_files\"></a>\n",
    "## Moving and Deleting Files\n",
    "\n",
    "Through `pathlib`, you also have access to basic file system level operations like moving, updating, and even deleting files. For the most part, these methods do not give a warning or wait for confirmation before information or files are lost. Be careful when using these methods."
   ]
  },
  {
   "cell_type": "markdown",
   "id": "93ff1348",
   "metadata": {},
   "source": [
    "To move a file, use `.replace()`. Note that if the destination already exists, `.replace()` will overwrite it. Unfortunately, pathlib does not explicitly support safe moving of files. To avoid possibly overwriting the destination path, the simplest is to test whether the destination exists before replacing:\n",
    "\n",
    "```python\n",
    "if not destination.exists():\n",
    "    source.replace(destination)\n",
    "```    "
   ]
  },
  {
   "cell_type": "markdown",
   "id": "10c2ba84",
   "metadata": {},
   "source": [
    "When you are renaming files, useful methods might be `.with_name()` and `.with_suffix()`. They both return the original path but with the name or the suffix replaced, respectively.\n",
    "\n",
    "For instance:"
   ]
  },
  {
   "cell_type": "code",
   "execution_count": 111,
   "id": "53e25578",
   "metadata": {},
   "outputs": [
    {
     "data": {
      "text/plain": [
       "PosixPath('/Users/ali/PERSONAL_DIR/github/CS-Tutorial/python/05. Modules/test.mp4')"
      ]
     },
     "execution_count": 111,
     "metadata": {},
     "output_type": "execute_result"
    }
   ],
   "source": [
    "path.with_suffix('.py').resolve()"
   ]
  },
  {
   "cell_type": "code",
   "execution_count": 59,
   "id": "d0bef95c",
   "metadata": {},
   "outputs": [],
   "source": [
    "path.replace(path.with_suffix('.py'))"
   ]
  },
  {
   "cell_type": "markdown",
   "id": "827407ed",
   "metadata": {},
   "source": [
    "Directories and files can be deleted using `.rmdir()` and `.unlink()` respectively. (Again, be careful!)"
   ]
  },
  {
   "cell_type": "code",
   "execution_count": 86,
   "id": "8126876c",
   "metadata": {},
   "outputs": [
    {
     "data": {
      "text/plain": [
       "PosixPath('/mnt/c/Users/hejaz/OneDrive/Desktop/CS-Tutorial/Python/05. Modules/main.py')"
      ]
     },
     "execution_count": 86,
     "metadata": {},
     "output_type": "execute_result"
    }
   ],
   "source": [
    "Path.cwd() / \"main.py\""
   ]
  },
  {
   "cell_type": "markdown",
   "id": "f298eb24",
   "metadata": {},
   "source": [
    "<a class=\"anchor\" id=\"examples\"></a>\n",
    "## Examples\n",
    "\n",
    "In this section, you will see some examples of how to use `pathlib` to deal with simple challenges."
   ]
  },
  {
   "cell_type": "markdown",
   "id": "ad9f1719",
   "metadata": {},
   "source": [
    "<a class=\"anchor\" id=\"counting_files\"></a>\n",
    "### Counting Files\n",
    "\n",
    "There are a few different ways to list many files. The simplest is the `.iterdir()` method, which iterates over all files in the given directory. The following example combines `.iterdir()` with the `collections.Counter` class to count how many files there are of each filetype in the current directory:"
   ]
  },
  {
   "cell_type": "code",
   "execution_count": 170,
   "id": "b7248fea",
   "metadata": {},
   "outputs": [
    {
     "data": {
      "text/plain": [
       "Counter({'.txt': 1, '.ipynb': 9, '': 2, '.md': 1})"
      ]
     },
     "execution_count": 170,
     "metadata": {},
     "output_type": "execute_result"
    }
   ],
   "source": [
    "import collections\n",
    "\n",
    "collections.Counter(p.suffix for p in pathlib.Path.cwd().iterdir())"
   ]
  },
  {
   "cell_type": "markdown",
   "id": "2df3ff3f",
   "metadata": {},
   "source": [
    "<a class=\"anchor\" id=\"find_the_last_modified_file\"></a>\n",
    "## Find the Last Modified File\n",
    "\n",
    "To find the file in a directory that was last modified, you can use the `.stat()` method to get information about the underlying files. For instance, `.stat().st_mtime` gives the time of last modification of a file:"
   ]
  },
  {
   "cell_type": "code",
   "execution_count": 116,
   "id": "2577dba6",
   "metadata": {},
   "outputs": [],
   "source": [
    "from datetime import datetime"
   ]
  },
  {
   "cell_type": "code",
   "execution_count": 126,
   "id": "17f085c6",
   "metadata": {},
   "outputs": [
    {
     "data": {
      "text/plain": [
       "os.stat_result(st_mode=33188, st_ino=3377699720870481, st_dev=14, st_nlink=1, st_uid=1000, st_gid=1000, st_size=25, st_atime=1621214763, st_mtime=1621214762, st_ctime=1621214766)"
      ]
     },
     "execution_count": 126,
     "metadata": {},
     "output_type": "execute_result"
    }
   ],
   "source": [
    "path.resolve().stat()"
   ]
  },
  {
   "cell_type": "code",
   "execution_count": 119,
   "id": "ccc86edc",
   "metadata": {},
   "outputs": [
    {
     "data": {
      "text/plain": [
       "[(1621206494.6305218, PosixPath('.ipynb_checkpoints')),\n",
       " (1621213214.6805825, PosixPath('14.1 json.ipynb')),\n",
       " (1621213214.6876798, PosixPath('14.2 pickle.ipynb')),\n",
       " (1621212512.615489, PosixPath('14.3 yaml.ipynb')),\n",
       " (1621206166.2721207, PosixPath('collections.ipynb')),\n",
       " (1621210977.7855675, PosixPath('input.txt')),\n",
       " (1621210958.4577336, PosixPath('learn_yaml.yaml')),\n",
       " (1621213340.4888136, PosixPath('main.py')),\n",
       " (1621214693.9817107, PosixPath('pathlib.ipynb')),\n",
       " (1621214762.334, PosixPath('test.md')),\n",
       " (1621208346.1684408, PosixPath('time.ipynb'))]"
      ]
     },
     "execution_count": 119,
     "metadata": {},
     "output_type": "execute_result"
    }
   ],
   "source": [
    "[(f.stat().st_mtime, f) for f in path.parent.iterdir()]"
   ]
  },
  {
   "cell_type": "code",
   "execution_count": 120,
   "id": "536b7b78",
   "metadata": {},
   "outputs": [],
   "source": [
    "time, file_path = max((f.stat().st_mtime, f) for f in path.parent.iterdir())"
   ]
  },
  {
   "cell_type": "markdown",
   "id": "28732c24",
   "metadata": {},
   "source": [
    "You can even get the contents of the file that was last modified with a similar expression:"
   ]
  },
  {
   "cell_type": "code",
   "execution_count": 121,
   "id": "882624b8",
   "metadata": {},
   "outputs": [
    {
     "name": "stdout",
     "output_type": "stream",
     "text": [
      "2021-05-16 21:26:02.334000 test.md\n"
     ]
    }
   ],
   "source": [
    "print(datetime.fromtimestamp(time), file_path)"
   ]
  },
  {
   "cell_type": "markdown",
   "id": "890d61a7",
   "metadata": {},
   "source": [
    "The timestamp returned from the different `.stat().st_ properties` represents seconds since **January 1st, 1970**. In addition to `datetime.fromtimestamp`, `time.localtime` or `time.ctime` may be used to convert the timestamp to something more usable."
   ]
  },
  {
   "cell_type": "markdown",
   "id": "fe840638",
   "metadata": {},
   "source": [
    "<a class=\"anchor\" id=\"create_a_unique_file_name\"></a>\n",
    "### Create a Unique File Name\n",
    "\n",
    "The last example will show how to construct a unique numbered file name based on a template. First, specify a pattern for the file name, with room for a counter. Then, check the existence of the file path created by joining a directory and the file name (with a value for the counter). If it already exists, increase the counter and try again:"
   ]
  },
  {
   "cell_type": "code",
   "execution_count": 129,
   "id": "c07c8cc2",
   "metadata": {},
   "outputs": [],
   "source": [
    "def unique_path(directory, name_pattern):\n",
    "    counter = 0\n",
    "    while True:\n",
    "        counter += 1\n",
    "        path = directory / name_pattern.format(counter)\n",
    "        if not path.exists():\n",
    "            return path\n",
    "\n",
    "path = unique_path(pathlib.Path.cwd(), 'test{:03d}.txt')"
   ]
  },
  {
   "cell_type": "code",
   "execution_count": 130,
   "id": "379b4e4e",
   "metadata": {},
   "outputs": [
    {
     "data": {
      "text/plain": [
       "PosixPath('/mnt/c/Users/hejaz/OneDrive/Desktop/CS-Tutorial/Python/05. Modules/test001.txt')"
      ]
     },
     "execution_count": 130,
     "metadata": {},
     "output_type": "execute_result"
    }
   ],
   "source": [
    "path"
   ]
  },
  {
   "cell_type": "markdown",
   "id": "43b8dcdb",
   "metadata": {},
   "source": [
    "If the directory already contains the files `test001.txt` and `test002.txt`, the above code will set path to `test003.txt`."
   ]
  },
  {
   "cell_type": "markdown",
   "id": "2ba05aa2",
   "metadata": {},
   "source": [
    "<a class=\"anchor\" id=\"<img_src=\"../../images/logos/checkmark.png\"_width=\"20\"/>_conclusion\"></a>\n",
    "## <img src=\"../../images/logos/checkmark.png\" width=\"20\"/> Conclusion \n",
    "\n",
    "Since Python 3.4, pathlib has been available in the standard library. With pathlib, file paths can be represented by proper Path objects instead of plain strings as before. These objects make code dealing with file paths:\n",
    "\n",
    "- Easier to read, especially because `/` is used to join paths together\n",
    "- More powerful, with most necessary methods and properties available directly on the object\n",
    "- More consistent across operating systems, as peculiarities of the different systems are hidden by the `Path` object\n",
    "\n",
    "In this tutorial, you have seen how to create Path objects, read and write files, manipulate paths and the underlying file system, as well as some examples of how to iterate over many file paths."
   ]
  }
 ],
 "metadata": {
  "kernelspec": {
   "display_name": "Python 3 (ipykernel)",
   "language": "python",
   "name": "python3"
  },
  "language_info": {
   "codemirror_mode": {
    "name": "ipython",
    "version": 3
   },
   "file_extension": ".py",
   "mimetype": "text/x-python",
   "name": "python",
   "nbconvert_exporter": "python",
   "pygments_lexer": "ipython3",
   "version": "3.7.10"
  }
 },
 "nbformat": 4,
 "nbformat_minor": 5
}
