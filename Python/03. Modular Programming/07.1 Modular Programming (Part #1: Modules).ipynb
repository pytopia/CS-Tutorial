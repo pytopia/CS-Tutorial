{
 "cells": [
  {
   "cell_type": "markdown",
   "id": "219a48fe",
   "metadata": {},
   "source": [
    "<img src=\"../../images/banners/python-modular.png\" width=\"600\"/>"
   ]
  },
  {
   "cell_type": "markdown",
   "id": "alternate-operations",
   "metadata": {},
   "source": [
    "# <img src=\"../../images/logos/python.png\" width=\"23\"/> Modular Programming \n"
   ]
  },
  {
   "cell_type": "markdown",
   "id": "4f3036be",
   "metadata": {},
   "source": [
    "<a class=\"anchor\" id=\"table_of_contents\"></a>\n",
    "\n",
    "## Table of Contents\n",
    "\n",
    "\n",
    "* [Overview](#overview)\n",
    "* [The Module Search Path](#the_module_search_path)\n",
    "* [The `import` Statement](#the_`import`_statement)\n",
    "    * [`from <module_name> import <name(s)>`](#`from_<module_name>_import_<name(s)>`)\n",
    "    * [`from <module_name> import <name> as <alt_name>`](#`from_<module_name>_import_<name>_as_<alt_name>`)\n",
    "    * [`import <module_name> as <alt_name>`](#`import_<module_name>_as_<alt_name>`)\n",
    "* [The `dir()` Function](#the_`dir()`_function)\n",
    "* [Executing a Module as a Script](#executing_a_module_as_a_script)\n",
    "* [Reloading a Module](#reloading_a_module)\n",
    "\n",
    "---"
   ]
  },
  {
   "cell_type": "markdown",
   "id": "metropolitan-planning",
   "metadata": {},
   "source": [
    "**Modular** programming refers to the process of breaking a large, unwieldy programming task into separate, smaller, more manageable subtasks or **modules**. Individual modules can then be cobbled together like building blocks to create a larger application."
   ]
  },
  {
   "cell_type": "markdown",
   "id": "changed-importance",
   "metadata": {},
   "source": [
    "There are several advantages to modularizing code in a large application:\n",
    "\n",
    "- **Simplicity**: Rather than focusing on the entire problem at hand, a module typically focuses on one relatively small portion of the problem. If you’re working on a single module, you’ll have a smaller problem domain to wrap your head around. This makes development easier and less error-prone.\n",
    "\n",
    "- **Maintainability**: Modules are typically designed so that they enforce logical boundaries between different problem domains. If modules are written in a way that minimizes interdependency, there is decreased likelihood that modifications to a single module will have an impact on other parts of the program. (You may even be able to make changes to a module without having any knowledge of the application outside that module.) This makes it more viable for a team of many programmers to work collaboratively on a large application.\n",
    "\n",
    "- **Reusability**: Functionality defined in a single module can be easily reused (through an appropriately defined interface) by other parts of the application. This eliminates the need to duplicate code.\n",
    "\n",
    "- **Scoping**: Modules typically define a separate namespace, which helps avoid collisions between identifiers in different areas of a program. (One of the tenets in the Zen of Python is Namespaces are one honking great idea—let’s do more of those!)"
   ]
  },
  {
   "cell_type": "markdown",
   "id": "yellow-incentive",
   "metadata": {},
   "source": [
    "**Functions**, **modules** and **packages** are all constructs in Python that promote code modularization."
   ]
  },
  {
   "cell_type": "markdown",
   "id": "iraqi-retail",
   "metadata": {},
   "source": [
    "<a class=\"anchor\" id=\"overview\"></a>\n",
    "## Overview  \n",
    "[Back to Top](#table_of_contents)\n"
   ]
  },
  {
   "cell_type": "markdown",
   "id": "suspected-september",
   "metadata": {},
   "source": [
    "There are actually three different ways to define a module in Python:\n",
    "\n",
    "- A module can be written in Python itself.\n",
    "- A module can be written in C and loaded dynamically at run-time, like the re (regular expression) module.\n",
    "- A **built-in** module is intrinsically contained in the interpreter, like the itertools module."
   ]
  },
  {
   "cell_type": "markdown",
   "id": "about-drive",
   "metadata": {},
   "source": [
    "A module’s contents are accessed the same way in all three cases: with the `import` statement."
   ]
  },
  {
   "cell_type": "markdown",
   "id": "parliamentary-berlin",
   "metadata": {},
   "source": [
    "<a class=\"anchor\" id=\"the_module_search_path\"></a>\n",
    "## The Module Search Path\n",
    "[Back to Top](#table_of_contents)"
   ]
  },
  {
   "cell_type": "code",
   "execution_count": 4,
   "id": "portable-malaysia",
   "metadata": {},
   "outputs": [],
   "source": [
    "import os"
   ]
  },
  {
   "cell_type": "markdown",
   "id": "employed-avenue",
   "metadata": {},
   "source": [
    "When the interpreter executes the above import statement, it searches for mod.py in a list of directories assembled from the following sources:"
   ]
  },
  {
   "cell_type": "markdown",
   "id": "jewish-buddy",
   "metadata": {},
   "source": [
    "- The directory from which the input script was run or the current directory if the interpreter is being run interactively\n",
    "- The list of directories contained in the `PYTHONPATH` environment variable, if it is set. (The format for PYTHONPATH is OS-dependent but should mimic the PATH environment variable.)\n",
    "- An installation-dependent list of directories configured at the time Python is installed"
   ]
  },
  {
   "cell_type": "markdown",
   "id": "according-occasion",
   "metadata": {},
   "source": [
    "The resulting search path is accessible in the Python variable `sys.path`, which is obtained from a module named `sys`:"
   ]
  },
  {
   "cell_type": "code",
   "execution_count": 1,
   "id": "cardiac-sleep",
   "metadata": {},
   "outputs": [
    {
     "data": {
      "text/plain": [
       "['/Users/ali/PERSONAL_DIR/github/CS-Tutorial/python/03. Modular Programming',\n",
       " '/Users/ali/opt/anaconda3/envs/py37/lib/python37.zip',\n",
       " '/Users/ali/opt/anaconda3/envs/py37/lib/python3.7',\n",
       " '/Users/ali/opt/anaconda3/envs/py37/lib/python3.7/lib-dynload',\n",
       " '',\n",
       " '/Users/ali/.local/lib/python3.7/site-packages',\n",
       " '/Users/ali/opt/anaconda3/envs/py37/lib/python3.7/site-packages',\n",
       " '/Users/ali/opt/anaconda3/envs/py37/lib/python3.7/site-packages/IPython/extensions',\n",
       " '/Users/ali/.ipython']"
      ]
     },
     "execution_count": 1,
     "metadata": {},
     "output_type": "execute_result"
    }
   ],
   "source": [
    "import sys\n",
    "sys.path"
   ]
  },
  {
   "cell_type": "markdown",
   "id": "chief-impression",
   "metadata": {},
   "source": [
    "- Put `mod.py` in the directory where the input script is located or the current directory, if interactive\n",
    "- Modify the `PYTHONPATH` environment variable to contain the directory where mod.py is located before starting the interpreter\n",
    "    - Or Put mod.py in one of the directories already contained in the `PYTHONPATH` variable\n",
    "- Put `mod.py` in one of the installation-dependent directories, which you may or may not have write-access to, depending on the OS"
   ]
  },
  {
   "cell_type": "markdown",
   "id": "increasing-stations",
   "metadata": {},
   "source": [
    "There is actually one additional option: you can put the module file in any directory of your choice and then modify `sys.path` at run-time so that it contains that directory. For example, in this case, you could put `mod.py` in directory `C:\\Users\\john` and then issue the following statements:"
   ]
  },
  {
   "cell_type": "code",
   "execution_count": 3,
   "id": "educational-baker",
   "metadata": {},
   "outputs": [],
   "source": [
    "sys.path.append(\"./project\")"
   ]
  },
  {
   "cell_type": "code",
   "execution_count": 4,
   "id": "independent-oracle",
   "metadata": {},
   "outputs": [
    {
     "data": {
      "text/plain": [
       "['/mnt/c/Users/hejaz/OneDrive/Desktop/CS-Tutorial/Python',\n",
       " '/home/ali/anaconda3/envs/test/lib/python37.zip',\n",
       " '/home/ali/anaconda3/envs/test/lib/python3.7',\n",
       " '/home/ali/anaconda3/envs/test/lib/python3.7/lib-dynload',\n",
       " '',\n",
       " '/home/ali/anaconda3/envs/test/lib/python3.7/site-packages',\n",
       " '/home/ali/anaconda3/envs/test/lib/python3.7/site-packages/IPython/extensions',\n",
       " '/home/ali/.ipython',\n",
       " './project']"
      ]
     },
     "execution_count": 4,
     "metadata": {},
     "output_type": "execute_result"
    }
   ],
   "source": [
    "sys.path"
   ]
  },
  {
   "cell_type": "markdown",
   "id": "cardiac-allocation",
   "metadata": {},
   "source": [
    "Once a module has been imported, you can determine the location where it was found with the module’s `__file__` attribute:"
   ]
  },
  {
   "cell_type": "code",
   "execution_count": 1,
   "id": "moved-disability",
   "metadata": {},
   "outputs": [
    {
     "data": {
      "text/plain": [
       "('/Users/ali/opt/anaconda3/envs/py37/lib/python3.7/site-packages/numpy/__init__.py',\n",
       " '/Users/ali/opt/anaconda3/envs/py37/lib/python3.7/site-packages/matplotlib/__init__.py')"
      ]
     },
     "execution_count": 1,
     "metadata": {},
     "output_type": "execute_result"
    }
   ],
   "source": [
    "import numpy\n",
    "import matplotlib\n",
    "\n",
    "numpy.__file__, matplotlib.__file__"
   ]
  },
  {
   "cell_type": "markdown",
   "id": "severe-surgeon",
   "metadata": {},
   "source": [
    "The directory portion of `__file__` should be one of the directories in `sys.path`."
   ]
  },
  {
   "cell_type": "markdown",
   "id": "approximate-wiring",
   "metadata": {},
   "source": [
    "<a class=\"anchor\" id=\"the_`import`_statement\"></a>\n",
    "## The `import` Statement\n",
    "[Back to Top](#table_of_contents)\n"
   ]
  },
  {
   "cell_type": "markdown",
   "id": "eleven-claim",
   "metadata": {},
   "source": [
    "**Module** contents are made available to the caller with the `import` statement. The `import` statement takes many different forms, shown below.\n",
    "\n",
    "```python\n",
    "import <module_name>\n",
    "```"
   ]
  },
  {
   "cell_type": "markdown",
   "id": "living-tuition",
   "metadata": {},
   "source": [
    "Note that this does not make the module contents directly accessible to the caller. Each module has its own **private symbol table**, which serves as the global symbol table for all objects defined in the module. Thus, a module creates a separate **namespace**, as already noted.\n",
    "\n",
    "The statement import `<module_name>` only places <module_name> in the caller’s symbol table. The objects that are defined in the module remain in the module’s private symbol table."
   ]
  },
  {
   "cell_type": "markdown",
   "id": "pressing-drama",
   "metadata": {},
   "source": [
    "From the caller, objects in the module are only accessible when prefixed with `<module_name>` via dot notation, as illustrated below."
   ]
  },
  {
   "cell_type": "code",
   "execution_count": 6,
   "id": "handed-boundary",
   "metadata": {},
   "outputs": [
    {
     "data": {
      "text/plain": [
       "array([1, 2, 3])"
      ]
     },
     "execution_count": 6,
     "metadata": {},
     "output_type": "execute_result"
    }
   ],
   "source": [
    "import numpy\n",
    "\n",
    "arr = numpy.array([1, 2, 3])\n",
    "arr"
   ]
  },
  {
   "cell_type": "markdown",
   "id": "isolated-rochester",
   "metadata": {},
   "source": [
    "Several comma-separated modules may be specified in a single import statement:\n",
    "\n",
    "```python\n",
    "import <module_name>[, <module_name> ...]\n",
    "```"
   ]
  },
  {
   "cell_type": "markdown",
   "id": "cutting-thailand",
   "metadata": {},
   "source": [
    "<a class=\"anchor\" id=\"`from_<module_name>_import_<name(s)>`\"></a>\n",
    "### `from <module_name> import <name(s)>`\n",
    "[Back to Top](#table_of_contents)"
   ]
  },
  {
   "cell_type": "markdown",
   "id": "alpha-commons",
   "metadata": {},
   "source": [
    "An alternate form of the `import` statement allows individual objects from the module to be imported directly into the caller’s symbol table:\n",
    "\n",
    "```python\n",
    "from <module_name> import <name(s)>\n",
    "```"
   ]
  },
  {
   "cell_type": "markdown",
   "id": "aware-macintosh",
   "metadata": {},
   "source": [
    "Following execution of the above statement, `<name(s)>` can be referenced in the caller’s environment without the `<module_name>` prefix:"
   ]
  },
  {
   "cell_type": "markdown",
   "id": "eligible-wisconsin",
   "metadata": {},
   "source": [
    "**Note:** Because this form of import places the object names directly into the caller’s symbol table, any objects that already exist with the same name will be overwritten."
   ]
  },
  {
   "cell_type": "code",
   "execution_count": 8,
   "id": "thorough-coating",
   "metadata": {},
   "outputs": [
    {
     "name": "stdout",
     "output_type": "stream",
     "text": [
      "[1, 2, 3]\n",
      "<built-in function array>\n"
     ]
    }
   ],
   "source": [
    "array = [1, 2, 3]\n",
    "print(array)\n",
    "\n",
    "from numpy import array\n",
    "print(array)"
   ]
  },
  {
   "cell_type": "markdown",
   "id": "rotary-madagascar",
   "metadata": {},
   "source": [
    "It is even possible to indiscriminately import everything from a module at one fell swoop:\n",
    "\n",
    "```python\n",
    "from <module_name> import *\n",
    "```"
   ]
  },
  {
   "cell_type": "markdown",
   "id": "loved-bobby",
   "metadata": {},
   "source": [
    "This will place the names of all objects from <module_name> into the local symbol table, with the exception of any that begin with the underscore `(_)` character."
   ]
  },
  {
   "cell_type": "code",
   "execution_count": 19,
   "id": "crude-blood",
   "metadata": {},
   "outputs": [
    {
     "data": {
      "text/plain": [
       "<function numpy.array>"
      ]
     },
     "execution_count": 19,
     "metadata": {},
     "output_type": "execute_result"
    }
   ],
   "source": [
    "from numpy import *\n",
    "\n",
    "array"
   ]
  },
  {
   "cell_type": "markdown",
   "id": "medieval-chase",
   "metadata": {},
   "source": [
    "**Note:** This isn’t necessarily recommended in large-scale production code. It’s a bit dangerous because you are entering names into the local symbol table"
   ]
  },
  {
   "cell_type": "markdown",
   "id": "verbal-answer",
   "metadata": {},
   "source": [
    "Unless you know them all well and can be confident there won’t be a conflict, you have a decent chance of overwriting an existing name inadvertently. However, this syntax is quite handy when you are just mucking around with the interactive interpreter, for testing or discovery purposes, because it quickly gives you access to everything a module has to offer without a lot of typing."
   ]
  },
  {
   "cell_type": "markdown",
   "id": "angry-genesis",
   "metadata": {},
   "source": [
    "<a class=\"anchor\" id=\"`from_<module_name>_import_<name>_as_<alt_name>`\"></a>\n",
    "### `from <module_name> import <name> as <alt_name>`\n",
    "[Back to Top](#table_of_contents)\n"
   ]
  },
  {
   "cell_type": "markdown",
   "id": "consecutive-functionality",
   "metadata": {},
   "source": [
    "It is also possible to import individual objects but enter them into the local symbol table with alternate names:\n",
    "\n",
    "```\n",
    "from <module_name> import <name> as <alt_name>[, <name> as <alt_name> …]\n",
    "```"
   ]
  },
  {
   "cell_type": "markdown",
   "id": "alert-passenger",
   "metadata": {},
   "source": [
    "This makes it possible to place names directly into the local symbol table but avoid conflicts with previously existing names:"
   ]
  },
  {
   "cell_type": "code",
   "execution_count": 10,
   "id": "tamil-drama",
   "metadata": {},
   "outputs": [
    {
     "data": {
      "text/plain": [
       "([1, 2, 3], <function numpy.array>)"
      ]
     },
     "execution_count": 10,
     "metadata": {},
     "output_type": "execute_result"
    }
   ],
   "source": [
    "array = [1, 2, 3]\n",
    "\n",
    "from numpy import array as np_array\n",
    "\n",
    "array, np_array"
   ]
  },
  {
   "cell_type": "markdown",
   "id": "reliable-apparatus",
   "metadata": {},
   "source": [
    "<a class=\"anchor\" id=\"`import_<module_name>_as_<alt_name>`\"></a>\n",
    "### `import <module_name> as <alt_name>`\n",
    "[Back to Top](#table_of_contents)\n"
   ]
  },
  {
   "cell_type": "code",
   "execution_count": 11,
   "id": "returning-animal",
   "metadata": {},
   "outputs": [
    {
     "data": {
      "text/plain": [
       "array([1, 2, 3])"
      ]
     },
     "execution_count": 11,
     "metadata": {},
     "output_type": "execute_result"
    }
   ],
   "source": [
    "import numpy as np\n",
    "\n",
    "np.array([1, 2, 3])"
   ]
  },
  {
   "cell_type": "markdown",
   "id": "extreme-grove",
   "metadata": {},
   "source": [
    "Module contents can be imported from within a function definition. In that case, the `import` does not occur until the function is called:"
   ]
  },
  {
   "cell_type": "code",
   "execution_count": 12,
   "id": "technical-prerequisite",
   "metadata": {},
   "outputs": [],
   "source": [
    "def import_module():\n",
    "    import numpy as np\n",
    "    return np.array([1, 2, 3])"
   ]
  },
  {
   "cell_type": "code",
   "execution_count": 13,
   "id": "advance-forest",
   "metadata": {},
   "outputs": [
    {
     "data": {
      "text/plain": [
       "array([1, 2, 3])"
      ]
     },
     "execution_count": 13,
     "metadata": {},
     "output_type": "execute_result"
    }
   ],
   "source": [
    "import_module()"
   ]
  },
  {
   "cell_type": "markdown",
   "id": "mineral-thunder",
   "metadata": {},
   "source": [
    "However, Python 3 does not allow the indiscriminate `import *` syntax from within a function:"
   ]
  },
  {
   "cell_type": "code",
   "execution_count": 14,
   "id": "engaging-evening",
   "metadata": {},
   "outputs": [
    {
     "ename": "SyntaxError",
     "evalue": "import * only allowed at module level (<ipython-input-14-36656901bdd2>, line 4)",
     "output_type": "error",
     "traceback": [
      "\u001b[0;36m  File \u001b[0;32m\"<ipython-input-14-36656901bdd2>\"\u001b[0;36m, line \u001b[0;32m4\u001b[0m\n\u001b[0;31mSyntaxError\u001b[0m\u001b[0;31m:\u001b[0m import * only allowed at module level\n"
     ]
    }
   ],
   "source": [
    "def import_module():\n",
    "    from numpy import *"
   ]
  },
  {
   "cell_type": "markdown",
   "id": "adopted-adventure",
   "metadata": {},
   "source": [
    "<a class=\"anchor\" id=\"the_`dir()`_function\"></a>\n",
    "## The `dir()` Function\n",
    "[Back to Top](#table_of_contents)\n"
   ]
  },
  {
   "cell_type": "markdown",
   "id": "experienced-value",
   "metadata": {},
   "source": [
    "The built-in function `dir()` returns a list of defined names in a namespace. Without arguments, it produces an alphabetically sorted list of names in the current **local symbol table**. This can be useful for identifying what exactly has been added to the namespace by an import statement:"
   ]
  },
  {
   "cell_type": "code",
   "execution_count": 4,
   "id": "ranking-antibody",
   "metadata": {},
   "outputs": [],
   "source": [
    "import numpy\n",
    "dir(numpy)"
   ]
  },
  {
   "cell_type": "markdown",
   "id": "lonely-archives",
   "metadata": {},
   "source": [
    "Without arguments, `dir()` lists the names you have defined currently:"
   ]
  },
  {
   "cell_type": "code",
   "execution_count": 1,
   "id": "absent-support",
   "metadata": {},
   "outputs": [
    {
     "data": {
      "text/plain": [
       "['In',\n",
       " 'Out',\n",
       " '_',\n",
       " '__',\n",
       " '___',\n",
       " '__builtin__',\n",
       " '__builtins__',\n",
       " '__doc__',\n",
       " '__loader__',\n",
       " '__name__',\n",
       " '__package__',\n",
       " '__spec__',\n",
       " '_dh',\n",
       " '_i',\n",
       " '_i1',\n",
       " '_ih',\n",
       " '_ii',\n",
       " '_iii',\n",
       " '_oh',\n",
       " 'exit',\n",
       " 'get_ipython',\n",
       " 'quit']"
      ]
     },
     "execution_count": 1,
     "metadata": {},
     "output_type": "execute_result"
    }
   ],
   "source": [
    "dir()"
   ]
  },
  {
   "cell_type": "markdown",
   "id": "forced-treasurer",
   "metadata": {},
   "source": [
    "Note that it lists all types of names: variables, modules, functions, etc."
   ]
  },
  {
   "cell_type": "markdown",
   "id": "earlier-currency",
   "metadata": {},
   "source": [
    "`dir()` does not list the names of built-in functions and variables. If you want a list of those, they are defined in the standard module builtins:"
   ]
  },
  {
   "cell_type": "code",
   "execution_count": 16,
   "id": "otherwise-glossary",
   "metadata": {},
   "outputs": [],
   "source": [
    "import builtins"
   ]
  },
  {
   "cell_type": "code",
   "execution_count": 17,
   "id": "understood-reggae",
   "metadata": {},
   "outputs": [
    {
     "data": {
      "text/plain": [
       "['ArithmeticError',\n",
       " 'AssertionError',\n",
       " 'AttributeError',\n",
       " 'BaseException',\n",
       " 'BlockingIOError',\n",
       " 'BrokenPipeError',\n",
       " 'BufferError',\n",
       " 'BytesWarning',\n",
       " 'ChildProcessError',\n",
       " 'ConnectionAbortedError',\n",
       " 'ConnectionError',\n",
       " 'ConnectionRefusedError',\n",
       " 'ConnectionResetError',\n",
       " 'DeprecationWarning',\n",
       " 'EOFError',\n",
       " 'Ellipsis',\n",
       " 'EnvironmentError',\n",
       " 'Exception',\n",
       " 'False',\n",
       " 'FileExistsError',\n",
       " 'FileNotFoundError',\n",
       " 'FloatingPointError',\n",
       " 'FutureWarning',\n",
       " 'GeneratorExit',\n",
       " 'IOError',\n",
       " 'ImportError',\n",
       " 'ImportWarning',\n",
       " 'IndentationError',\n",
       " 'IndexError',\n",
       " 'InterruptedError',\n",
       " 'IsADirectoryError',\n",
       " 'KeyError',\n",
       " 'KeyboardInterrupt',\n",
       " 'LookupError',\n",
       " 'MemoryError',\n",
       " 'ModuleNotFoundError',\n",
       " 'NameError',\n",
       " 'None',\n",
       " 'NotADirectoryError',\n",
       " 'NotImplemented',\n",
       " 'NotImplementedError',\n",
       " 'OSError',\n",
       " 'OverflowError',\n",
       " 'PendingDeprecationWarning',\n",
       " 'PermissionError',\n",
       " 'ProcessLookupError',\n",
       " 'RecursionError',\n",
       " 'ReferenceError',\n",
       " 'ResourceWarning',\n",
       " 'RuntimeError',\n",
       " 'RuntimeWarning',\n",
       " 'StopAsyncIteration',\n",
       " 'StopIteration',\n",
       " 'SyntaxError',\n",
       " 'SyntaxWarning',\n",
       " 'SystemError',\n",
       " 'SystemExit',\n",
       " 'TabError',\n",
       " 'TimeoutError',\n",
       " 'True',\n",
       " 'TypeError',\n",
       " 'UnboundLocalError',\n",
       " 'UnicodeDecodeError',\n",
       " 'UnicodeEncodeError',\n",
       " 'UnicodeError',\n",
       " 'UnicodeTranslateError',\n",
       " 'UnicodeWarning',\n",
       " 'UserWarning',\n",
       " 'ValueError',\n",
       " 'Warning',\n",
       " 'ZeroDivisionError',\n",
       " '__IPYTHON__',\n",
       " '__build_class__',\n",
       " '__debug__',\n",
       " '__doc__',\n",
       " '__import__',\n",
       " '__loader__',\n",
       " '__name__',\n",
       " '__package__',\n",
       " '__spec__',\n",
       " 'abs',\n",
       " 'all',\n",
       " 'any',\n",
       " 'ascii',\n",
       " 'bin',\n",
       " 'bool',\n",
       " 'breakpoint',\n",
       " 'bytearray',\n",
       " 'bytes',\n",
       " 'callable',\n",
       " 'chr',\n",
       " 'classmethod',\n",
       " 'compile',\n",
       " 'complex',\n",
       " 'copyright',\n",
       " 'credits',\n",
       " 'delattr',\n",
       " 'dict',\n",
       " 'dir',\n",
       " 'display',\n",
       " 'divmod',\n",
       " 'enumerate',\n",
       " 'eval',\n",
       " 'exec',\n",
       " 'filter',\n",
       " 'float',\n",
       " 'format',\n",
       " 'frozenset',\n",
       " 'get_ipython',\n",
       " 'getattr',\n",
       " 'globals',\n",
       " 'hasattr',\n",
       " 'hash',\n",
       " 'help',\n",
       " 'hex',\n",
       " 'id',\n",
       " 'input',\n",
       " 'int',\n",
       " 'isinstance',\n",
       " 'issubclass',\n",
       " 'iter',\n",
       " 'len',\n",
       " 'license',\n",
       " 'list',\n",
       " 'locals',\n",
       " 'map',\n",
       " 'max',\n",
       " 'memoryview',\n",
       " 'min',\n",
       " 'next',\n",
       " 'object',\n",
       " 'oct',\n",
       " 'open',\n",
       " 'ord',\n",
       " 'pow',\n",
       " 'print',\n",
       " 'property',\n",
       " 'range',\n",
       " 'repr',\n",
       " 'reversed',\n",
       " 'round',\n",
       " 'set',\n",
       " 'setattr',\n",
       " 'slice',\n",
       " 'sorted',\n",
       " 'staticmethod',\n",
       " 'str',\n",
       " 'sum',\n",
       " 'super',\n",
       " 'tuple',\n",
       " 'type',\n",
       " 'vars',\n",
       " 'zip']"
      ]
     },
     "execution_count": 17,
     "metadata": {},
     "output_type": "execute_result"
    }
   ],
   "source": [
    "dir(builtins)"
   ]
  },
  {
   "cell_type": "markdown",
   "id": "preceding-mystery",
   "metadata": {},
   "source": [
    "<a class=\"anchor\" id=\"executing_a_module_as_a_script\"></a>\n",
    "## Executing a Module as a Script\n",
    "[Back to Top](#table_of_contents)\n"
   ]
  },
  {
   "cell_type": "markdown",
   "id": "intended-agriculture",
   "metadata": {},
   "source": [
    "Any .py file that contains a **module** is essentially also a Python **script**, and there isn’t any reason it can’t be executed like one.\n",
    "\n",
    "```bash\n",
    "python script.py\n",
    "```"
   ]
  },
  {
   "cell_type": "markdown",
   "id": "through-southwest",
   "metadata": {},
   "source": [
    "**Note:** Unfortunately, a module also generates output when imported as a module:"
   ]
  },
  {
   "cell_type": "markdown",
   "id": "loving-occupation",
   "metadata": {},
   "source": [
    "This is probably not what you want. It isn’t usual for a module to generate output when it is imported. Wouldn’t it be nice if you could distinguish between when the file is loaded as a module and when it is run as a standalone script?"
   ]
  },
  {
   "cell_type": "markdown",
   "id": "starting-budapest",
   "metadata": {},
   "source": [
    "When a `.py` file is imported as a module, Python sets the special dunder variable `__name__` to the name of the module. However, if a file is run as a standalone script, `__name__` is (creatively) set to the string `'__main__'`. Using this fact, you can discern which is the case at run-time and alter behavior accordingly:"
   ]
  },
  {
   "cell_type": "code",
   "execution_count": 16,
   "id": "historic-poker",
   "metadata": {},
   "outputs": [
    {
     "data": {
      "text/plain": [
       "'__main__'"
      ]
     },
     "execution_count": 16,
     "metadata": {},
     "output_type": "execute_result"
    }
   ],
   "source": [
    "__name__"
   ]
  },
  {
   "cell_type": "code",
   "execution_count": 17,
   "id": "timely-engineer",
   "metadata": {},
   "outputs": [
    {
     "name": "stdout",
     "output_type": "stream",
     "text": [
      "Executing as standalone script!\n"
     ]
    }
   ],
   "source": [
    "if __name__ == '__main__':\n",
    "    print(\"Executing as standalone script!\")"
   ]
  },
  {
   "cell_type": "code",
   "execution_count": 18,
   "id": "incomplete-commission",
   "metadata": {},
   "outputs": [
    {
     "data": {
      "text/plain": [
       "'numpy'"
      ]
     },
     "execution_count": 18,
     "metadata": {},
     "output_type": "execute_result"
    }
   ],
   "source": [
    "import numpy\n",
    "\n",
    "numpy.__name__"
   ]
  },
  {
   "cell_type": "markdown",
   "id": "timely-croatia",
   "metadata": {},
   "source": [
    "<a class=\"anchor\" id=\"reloading_a_module\"></a>\n",
    "## Reloading a Module\n",
    "[Back to Top](#table_of_contents)\n"
   ]
  },
  {
   "cell_type": "markdown",
   "id": "returning-light",
   "metadata": {},
   "source": [
    "For reasons of efficiency, a module is only loaded once per interpreter session. That is fine for function and class definitions, which typically make up the bulk of a module’s contents. But a module can contain executable statements as well, usually for initialization. Be aware that these statements will only be executed the first time a module is imported."
   ]
  }
 ],
 "metadata": {
  "kernelspec": {
   "display_name": "Python 3 (ipykernel)",
   "language": "python",
   "name": "python3"
  },
  "language_info": {
   "codemirror_mode": {
    "name": "ipython",
    "version": 3
   },
   "file_extension": ".py",
   "mimetype": "text/x-python",
   "name": "python",
   "nbconvert_exporter": "python",
   "pygments_lexer": "ipython3",
   "version": "3.8.11"
  }
 },
 "nbformat": 4,
 "nbformat_minor": 5
}
