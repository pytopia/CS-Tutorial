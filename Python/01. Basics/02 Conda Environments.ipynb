{
 "cells": [
  {
   "cell_type": "markdown",
   "metadata": {},
   "source": [
    "<img src=\"../../images/banners/python-basics.png\" width=\"600\"/>"
   ]
  },
  {
   "cell_type": "markdown",
   "metadata": {},
   "source": [
    "# <img src=\"../../images/logos/python.png\" width=\"23\"/> Conda Environments \n"
   ]
  },
  {
   "cell_type": "markdown",
   "metadata": {},
   "source": [
    "<a class=\"anchor\" id=\"table_of_contents\"></a>\n",
    "## Table of Contents\n",
    "\n",
    "\n",
    "* [Understanding Conda Environments](#understanding_conda_environments)\n",
    "* [Understanding Basic Package Management With Conda](#understanding_basic_package_management_with_conda)\n",
    "    * [Searching and Installing Packages](#searching_and_installing_packages)\n",
    "    * [Updating and Removing Packages](#updating_and_removing_packages)\n",
    "* [Cheat Sheet](#cheat_sheet)\n",
    "* [<img src=\"../../images/logos/web.png\" width=\"20\"/> Read More](#read_more)\n",
    "\n",
    "---"
   ]
  },
  {
   "cell_type": "markdown",
   "metadata": {},
   "source": [
    "<a class=\"anchor\" id=\"understanding_conda_environments\"></a>\n",
    "## Understanding Conda Environments [<img src=\"../../images/logos/back_to_top.png\" width=\"22\" align= \"center\"/>](#table_of_contents)"
   ]
  },
  {
   "cell_type": "markdown",
   "metadata": {},
   "source": [
    "When you start developing a project from scratch, it’s recommended that you use the latest versions of the libraries you need. However, when working with someone else’s project, such as when running an example from [Kaggle](https://www.kaggle.com/) or [Github](https://github.com/), you may need to install specific versions of packages or even another version of Python due to compatibility issues."
   ]
  },
  {
   "cell_type": "markdown",
   "metadata": {},
   "source": [
    "This problem may also occur when you try to run an application you’ve developed long ago, which uses a particular library version that does not work with your application anymore due to updates."
   ]
  },
  {
   "cell_type": "markdown",
   "metadata": {},
   "source": [
    "Virtual environments are a solution to this kind of problem. By using them, it is possible to create multiple environments, each one with different versions of packages. A typical Python set up includes [Virtualenv](https://virtualenv.pypa.io/en/stable/#), a tool to create isolated Python virtual environments, widely used in the Python community."
   ]
  },
  {
   "cell_type": "markdown",
   "metadata": {},
   "source": [
    "Conda includes its own environment manager and presents some advantages over Virtualenv, especially concerning numerical applications, such as the ability to manage non-Python dependencies and the ability to manage different versions of Python, which is not possible with Virtualenv. Besides that, Conda environments are entirely compatible with default [Python packages](https://realpython.com/python-modules-packages/) that may be installed using pip."
   ]
  },
  {
   "cell_type": "markdown",
   "metadata": {},
   "source": [
    "Miniconda installation provides Conda and a root environment with a version of Python and some basic packages installed. Besides this root environment, it is possible to set up additional environments including different versions of Python and packages."
   ]
  },
  {
   "cell_type": "markdown",
   "metadata": {},
   "source": [
    "<a class=\"anchor\" id=\"conda_environments:\"></a>\n",
    "Using the Anaconda prompt, it is possible to check the available Conda environments by running `conda env list`:\n",
    "\n",
    "```bash\n",
    "\n",
    "$ (base) ~ % conda env list\n",
    "\n",
    "# conda environments:\n",
    "#\n",
    "base                  *  /home/ali/anaconda3\n",
    "```"
   ]
  },
  {
   "cell_type": "markdown",
   "metadata": {},
   "source": [
    "<a class=\"anchor\" id=\"package_plan_##\"></a>\n",
    "This base environment is the root environment, created by the Miniconda installer. It is possible to create another environment, named `otherenv`, by running `conda create --name otherenv`:\n",
    "\n",
    "\n",
    "```bash\n",
    "$ (base) ~ % conda create --name otherenv\n",
    "Solving environment: done\n",
    "\n",
    "## Package Plan ##\n",
    "\n",
    "  environment location: C:\\Users\\IEUser\\Miniconda3\\envs\\otherenv\n",
    "\n",
    "\n",
    "Proceed ([y]/n)? y\n",
    "\n",
    "Preparing transaction: done\n",
    "Verifying transaction: done\n",
    "Executing transaction: done\n",
    "#\n",
    "# To activate this environment, use\n",
    "#\n",
    "#     $ conda activate otherenv\n",
    "#\n",
    "# To deactivate an active environment, use\n",
    "#\n",
    "#     $ conda deactivate\n",
    "```"
   ]
  },
  {
   "cell_type": "markdown",
   "metadata": {},
   "source": [
    "As notified after the environment creation process is finished, it is possible to activate the otherenv environment by running `conda activate otherenv`. You’ll notice the environment has changed by the indication between parentheses in the beginning of the prompt:\n",
    "\n",
    "```bash\n",
    "$ (base) ~ % conda activate otherenv\n",
    "$ (otherenv) ~ %\n",
    "```"
   ]
  },
  {
   "cell_type": "markdown",
   "metadata": {},
   "source": [
    "You can open the Python interpreter within this environment by running `python`:\n",
    "\n",
    "```bash\n",
    "$ (otherenv) ~ % python\n",
    "\n",
    "Python 3.7.0 (default, Jun 28 2018, 08:04:48) [MSC v.1912 64 bit (AMD64)] :: Anaconda, Inc. on win32\n",
    "Type \"help\", \"copyright\", \"credits\" or \"license\" for more information.\n",
    ">>>\n",
    "```"
   ]
  },
  {
   "cell_type": "markdown",
   "metadata": {},
   "source": [
    "The environment includes Python 3.7.0, the same version included in the root base environment. To exit the Python interpreter, just run `quit()`:\n",
    "\n",
    "```bash\n",
    ">>> quit()\n",
    "\n",
    "(otherenv) ~ %\n",
    "```"
   ]
  },
  {
   "cell_type": "markdown",
   "metadata": {},
   "source": [
    "To deactivate the otherenv environment and go back to the root base environment, you should run `deactivate`:\n",
    "\n",
    "```bash\n",
    "(otherenv) ~ % conda deactivate\n",
    "\n",
    "(base) ~ %\n",
    "```"
   ]
  },
  {
   "cell_type": "markdown",
   "metadata": {},
   "source": [
    "<a class=\"anchor\" id=\"package_plan_##\"></a>\n",
    "As mentioned earlier, Conda allows you to easily create environments with different versions of Python, which is not straightforward with Virtualenv. To include a different Python version within an environment, you have to specify it by using `python=<version>` when running conda create. For example, to create an environment named `py2` with `Python 2.7`, you have to run `conda create --name py2 python=2.7`:\n",
    "\n",
    "\n",
    "```bash\n",
    "(base) ~ % create --name py2 python=2.7\n",
    "Solving environment: done\n",
    "\n",
    "## Package Plan ##\n",
    "\n",
    "  environment location: C:\\Users\\IEUser\\Miniconda3\\envs\\py2\n",
    "\n",
    "  added / updated specs:\n",
    "    - python=2.7\n",
    "\n",
    "\n",
    "The following NEW packages will be INSTALLED:\n",
    "\n",
    "    certifi:        2018.8.24-py27_1\n",
    "    pip:            10.0.1-py27_0\n",
    "    python:         2.7.15-he216670_0\n",
    "    setuptools:     40.2.0-py27_0\n",
    "    vc:             9-h7299396_1\n",
    "    vs2008_runtime: 9.00.30729.1-hfaea7d5_1\n",
    "    wheel:          0.31.1-py27_0\n",
    "    wincertstore:   0.2-py27hf04cefb_0\n",
    "\n",
    "Proceed ([y]/n)? y\n",
    "\n",
    "Preparing transaction: done\n",
    "Verifying transaction: done\n",
    "Executing transaction: done\n",
    "#\n",
    "# To activate this environment, use\n",
    "#\n",
    "#     $ conda activate py2\n",
    "#\n",
    "# To deactivate an active environment, use\n",
    "#\n",
    "#     $ conda deactivate\n",
    "\n",
    "(base) /mnt/c/Users/username%\n",
    "```"
   ]
  },
  {
   "cell_type": "markdown",
   "metadata": {},
   "source": [
    "As shown by the output of `conda create`, this time some new packages were installed, since the new environment uses Python 2. You can check the new environment indeed uses Python 2 by activating it and running the Python interpreter:\n",
    "\n",
    "```\n",
    "(base) ~ % conda activate py2\n",
    "```"
   ]
  },
  {
   "cell_type": "markdown",
   "metadata": {},
   "source": [
    "<a class=\"anchor\" id=\"conda_environments:\"></a>\n",
    "Now, if you run `conda env list`, you should see the two environments that were created, besides the root base environment:\n",
    "\n",
    "```bash\n",
    "(py2) ~ % conda env list\n",
    "# conda environments:\n",
    "#\n",
    "base                     C:\\Users\\IEUser\\Miniconda3\n",
    "otherenv                 C:\\Users\\IEUser\\Miniconda3\\envs\\otherenv\n",
    "py2               *  C:\\Users\\IEUser\\Miniconda3\\envs\\py2\n",
    "\n",
    "\n",
    "(py2) ~ %\n",
    "```"
   ]
  },
  {
   "cell_type": "markdown",
   "metadata": {},
   "source": [
    "<a class=\"anchor\" id=\"package_plan_##\"></a>\n",
    "In the list, the asterisk indicates the activated environment. It is possible to remove an environment by running `conda remove --name <environment name> --all`. Since it is not possible to remove an activated environment, you should first deactivate the `py2` environment, to remove it:\n",
    "\n",
    "```bash\n",
    "(py2) ~ % conda deactivate\n",
    "(base) ~ % conda remove --name py2 --all\n",
    "\n",
    "Remove all packages in environment C:\\Users\\IEUser\\Miniconda3\\envs\\py2:\n",
    "\n",
    "\n",
    "## Package Plan ##\n",
    "\n",
    "  environment location: C:\\Users\\IEUser\\Miniconda3\\envs\\py2\n",
    "\n",
    "\n",
    "The following packages will be REMOVED:\n",
    "\n",
    "    certifi:        2018.8.24-py27_1\n",
    "    pip:            10.0.1-py27_0\n",
    "    python:         2.7.15-he216670_0\n",
    "    setuptools:     40.2.0-py27_0\n",
    "    vc:             9-h7299396_1\n",
    "    vs2008_runtime: 9.00.30729.1-hfaea7d5_1\n",
    "    wheel:          0.31.1-py27_0\n",
    "    wincertstore:   0.2-py27hf04cefb_0\n",
    "\n",
    "Proceed ([y]/n)? y\n",
    "\n",
    "\n",
    "(base) /mnt/c/Users/username%\n",
    "```"
   ]
  },
  {
   "cell_type": "markdown",
   "metadata": {},
   "source": [
    "Now that you’ve covered the basics of managing environments with Conda, let’s see how to manage packages within the environments."
   ]
  },
  {
   "cell_type": "markdown",
   "metadata": {},
   "source": [
    "<a class=\"anchor\" id=\"understanding_basic_package_management_with_conda\"></a>\n",
    "## Understanding Basic Package Management With Conda [<img src=\"../../images/logos/back_to_top.png\" width=\"22\" align= \"center\"/>](#table_of_contents)\n",
    "\n",
    "Within each environment, packages of software can be installed using the Conda package manager. The root base environment created by the Miniconda installer includes some packages by default that are not part of Python standard library."
   ]
  },
  {
   "cell_type": "markdown",
   "metadata": {},
   "source": [
    "<a class=\"anchor\" id=\"packages_in_environment_at_c:\\users\\ieuser\\miniconda3:\"></a>\n",
    "The default installation includes the minimum packages necessary to use Conda. To check the list of installed packages in an environment, you just have to make sure it is activated and run `conda list`. In the root environment, the following packages are installed by default:\n",
    "\n",
    "```bash\n",
    "(base) ~ % conda list\n",
    "# packages in environment at C:\\Users\\IEUser\\Miniconda3:\n",
    "#\n",
    "# Name                    Version                   Build  Channel\n",
    "asn1crypto                0.24.0                   py37_0\n",
    "ca-certificates           2018.03.07                    0\n",
    "certifi                   2018.8.24                py37_1\n",
    "cffi                      1.11.5           py37h74b6da3_1\n",
    "chardet                   3.0.4                    py37_1\n",
    "conda                     4.5.11                   py37_0\n",
    "conda-env                 2.6.0                         1\n",
    "console_shortcut          0.1.1                         3\n",
    "cryptography              2.3.1            py37h74b6da3_0\n",
    "idna                      2.7                      py37_0\n",
    "menuinst                  1.4.14           py37hfa6e2cd_0\n",
    "openssl                   1.0.2p               hfa6e2cd_0\n",
    "pip                       10.0.1                   py37_0\n",
    "pycosat                   0.6.3            py37hfa6e2cd_0\n",
    "pycparser                 2.18                     py37_1\n",
    "pyopenssl                 18.0.0                   py37_0\n",
    "pysocks                   1.6.8                    py37_0\n",
    "python                    3.7.0                hea74fb7_0\n",
    "pywin32                   223              py37hfa6e2cd_1\n",
    "requests                  2.19.1                   py37_0\n",
    "ruamel_yaml               0.15.46          py37hfa6e2cd_0\n",
    "setuptools                40.2.0                   py37_0\n",
    "six                       1.11.0                   py37_1\n",
    "urllib3                   1.23                     py37_0\n",
    "vc                        14                   h0510ff6_3\n",
    "vs2015_runtime            14.0.25123                    3\n",
    "wheel                     0.31.1                   py37_0\n",
    "win_inet_pton             1.0.1                    py37_1\n",
    "wincertstore              0.2                      py37_0\n",
    "yaml                      0.1.7                hc54c509_2\n",
    "```"
   ]
  },
  {
   "cell_type": "markdown",
   "metadata": {},
   "source": [
    "To manage the packages, you should also use Conda. Next, let’s see how to search, install, update, and remove packages using Conda."
   ]
  },
  {
   "cell_type": "markdown",
   "metadata": {},
   "source": [
    "<a class=\"anchor\" id=\"searching_and_installing_packages\"></a>\n",
    "### Searching and Installing Packages [<img src=\"../../images/logos/back_to_top.png\" width=\"22\" align= \"center\"/>](#table_of_contents)\n",
    "\n",
    "Packages are installed from repositories called **channels** by Conda, and some default channels are configured by the installer. To search for a specific package, you can run `conda search <package name>`. For example, this is how you search for the `keras` package (a machine learning library):\n",
    "\n",
    "```bash\n",
    "(base) ~ % conda search keras\n",
    "Loading channels: done\n",
    "# Name                  Version           Build  Channel\n",
    "keras                     2.0.8  py35h15001cb_0  pkgs/main\n",
    "keras                     2.0.8  py36h65e7a35_0  pkgs/main\n",
    "keras                     2.1.2          py35_0  pkgs/main\n",
    "keras                     2.1.2          py36_0  pkgs/main\n",
    "keras                     2.1.3          py35_0  pkgs/main\n",
    "keras                     2.1.3          py36_0  pkgs/main\n",
    "\n",
    "... (more)\n",
    "```"
   ]
  },
  {
   "cell_type": "markdown",
   "metadata": {},
   "source": [
    "According to the previous output, there are different versions of the package and different builds for each version, such as for Python 3.5 and 3.6."
   ]
  },
  {
   "cell_type": "markdown",
   "metadata": {},
   "source": [
    "<a class=\"anchor\" id=\"name_version_build_channel\"></a>\n",
    "The previous search shows only exact matches for packages named `keras`. To perform a broader search, including all packages containing `keras` in their names, you should use the wildcard `*`. For example, when you run conda search `*keras*`, you get the following:\n",
    "\n",
    "```bash\n",
    "(base) ~ % conda search \"*keras*\"\n",
    "Loading channels: done\n",
    "# Name                  Version           Build  Channel\n",
    "keras                     2.0.8  py35h15001cb_0  pkgs/main\n",
    "keras                     2.0.8  py36h65e7a35_0  pkgs/main\n",
    "keras                     2.1.2          py35_0  pkgs/main\n",
    "keras                     2.1.2          py36_0  pkgs/main\n",
    "keras                     2.1.3          py35_0  pkgs/main\n",
    "keras                     2.1.3          py36_0  pkgs/main\n",
    "\n",
    "... (more)\n",
    "\n",
    "keras-applications           1.0.2          py35_0  pkgs/main\n",
    "keras-applications           1.0.2          py36_0  pkgs/main\n",
    "keras-applications           1.0.4          py35_0  pkgs/main\n",
    "\n",
    "... (more)\n",
    "\n",
    "keras-base                2.2.0          py35_0  pkgs/main\n",
    "keras-base                2.2.0          py36_0  pkgs/main\n",
    "\n",
    "... (more)\n",
    "```"
   ]
  },
  {
   "cell_type": "markdown",
   "metadata": {},
   "source": [
    "As the previous output shows, there are some other keras related packages in the default channels."
   ]
  },
  {
   "cell_type": "markdown",
   "metadata": {},
   "source": [
    "<a class=\"anchor\" id=\"package_plan_##\"></a>\n",
    "To install a package, you should run `conda install <package name>`. By default, the newest version of the package will be installed in the active environment. So, let’s install the package `keras` in the environment `otherenv` that you’ve already created:\n",
    "\n",
    "```bash\n",
    "(base) ~ % conda activate otherenv\n",
    "\n",
    "(otherenv) ~ % conda install keras\n",
    "Solving environment: done\n",
    "\n",
    "## Package Plan ##\n",
    "\n",
    "  environment location: C:\\Users\\IEUser\\Miniconda3\\envs\\otherenv\n",
    "\n",
    "  added / updated specs:\n",
    "    - keras\n",
    "\n",
    "\n",
    "The following NEW packages will be INSTALLED:\n",
    "\n",
    "    _tflow_1100_select:  0.0.3-mkl\n",
    "    absl-py:             0.4.1-py36_0\n",
    "    astor:               0.7.1-py36_0\n",
    "    blas:                1.0-mkl\n",
    "    certifi:             2018.8.24-py36_1\n",
    "    gast:                0.2.0-py36_0\n",
    "    grpcio:              1.12.1-py36h1a1b453_0\n",
    "    h5py:                2.8.0-py36h3bdd7fb_2\n",
    "    hdf5:                1.10.2-hac2f561_1\n",
    "    icc_rt:              2017.0.4-h97af966_0\n",
    "    intel-openmp:        2018.0.3-0\n",
    "    keras:               2.2.2-0\n",
    "    keras-applications:  1.0.4-py36_1\n",
    "    keras-base:          2.2.2-py36_0\n",
    "    keras-preprocessing: 1.0.2-py36_1\n",
    "    libmklml:            2018.0.3-1\n",
    "    libprotobuf:         3.6.0-h1a1b453_0\n",
    "    markdown:            2.6.11-py36_0\n",
    "    mkl:                 2019.0-117\n",
    "    mkl_fft:             1.0.4-py36h1e22a9b_1\n",
    "    mkl_random:          1.0.1-py36h77b88f5_1\n",
    "    numpy:               1.15.1-py36ha559c80_0\n",
    "    numpy-base:          1.15.1-py36h8128ebf_0\n",
    "    pip:                 10.0.1-py36_0\n",
    "    protobuf:            3.6.0-py36he025d50_0\n",
    "    python:              3.6.6-hea74fb7_0\n",
    "    pyyaml:              3.13-py36hfa6e2cd_0\n",
    "    scipy:               1.1.0-py36h4f6bf74_1\n",
    "    setuptools:          40.2.0-py36_0\n",
    "    six:                 1.11.0-py36_1\n",
    "    tensorboard:         1.10.0-py36he025d50_0\n",
    "    tensorflow:          1.10.0-mkl_py36hb361250_0\n",
    "    tensorflow-base:     1.10.0-mkl_py36h81393da_0\n",
    "    termcolor:           1.1.0-py36_1\n",
    "    vc:                  14-h0510ff6_3\n",
    "    vs2013_runtime:      12.0.21005-1\n",
    "    vs2015_runtime:      14.0.25123-3\n",
    "    werkzeug:            0.14.1-py36_0\n",
    "    wheel:               0.31.1-py36_0\n",
    "    wincertstore:        0.2-py36h7fe50ca_0\n",
    "    yaml:                0.1.7-hc54c509_2\n",
    "    zlib:                1.2.11-h8395fce_2\n",
    "\n",
    "Proceed ([y]/n)?\n",
    "```"
   ]
  },
  {
   "cell_type": "markdown",
   "metadata": {},
   "source": [
    "Conda manages the necessary dependencies for a package when it is installed. Since the package keras has a lot of dependencies, when you install it, Conda manages to install this big list of packages."
   ]
  },
  {
   "cell_type": "markdown",
   "metadata": {},
   "source": [
    "> **Note:** The paragraph below may not happen when you run it as newer versions of `keras` may be available that use python 3.7.\n",
    "\n",
    "It’s worth noticing that, since the keras package’s newest build uses Python 3.6 and the otherenv environment was created using Python 3.7, the package python version 3.6.6 was included as a dependency. After confirming the installation, you can check that the Python version for the otherenv environment is downgraded to the 3.6.6 version."
   ]
  },
  {
   "cell_type": "markdown",
   "metadata": {},
   "source": [
    "Sometimes, you don’t want packages to be downgraded, and it would be better to just create a new environment with the necessary version of Python. To check the list of new packages, updates, and downgrades necessary for a package without installing it, you should use the parameter `--dry-run`. For example, to check the packages that will be changed by the installation of the package keras, you should run the following:\n",
    "\n",
    "```\n",
    "(base) ~ % conda install keras --dry-run\n",
    "```"
   ]
  },
  {
   "cell_type": "markdown",
   "metadata": {},
   "source": [
    "<a class=\"anchor\" id=\"package_plan_##\"></a>\n",
    "However, if necessary, it is possible to change the default Python of a Conda environment by installing a specific version of the package python. To demonstrate that, let’s create a new environment called envpython:\n",
    "\n",
    "```bash\n",
    "(otherenv) ~ % conda create --name envpython\n",
    "Solving environment: done\n",
    "\n",
    "## Package Plan ##\n",
    "\n",
    "  environment location: C:\\Users\\IEUser\\Miniconda3\\envs\\envpython\n",
    "\n",
    "\n",
    "Proceed ([y]/n)? y\n",
    "\n",
    "Preparing transaction: done\n",
    "Verifying transaction: done\n",
    "Executing transaction: done\n",
    "#\n",
    "# To activate this environment, use\n",
    "#\n",
    "#     $ conda activate envpython\n",
    "#\n",
    "# To deactivate an active environment, use\n",
    "#\n",
    "#     $ conda deactivate\n",
    "```"
   ]
  },
  {
   "cell_type": "markdown",
   "metadata": {},
   "source": [
    "As you saw before, since the root base environment uses Python 3.7, envpython is created including this same version of Python:\n",
    "\n",
    "```bash\n",
    "(base) ~ % conda activate envpython\n",
    "(envpython) ~ % python\n",
    "Python 3.7.0 (default, Jun 28 2018, 08:04:48) [MSC v.1912 64 bit (AMD64)] :: Anaconda, Inc. on win32\n",
    "Type \"help\", \"copyright\", \"credits\" or \"license\" for more information.\n",
    ">>> quit()\n",
    "```"
   ]
  },
  {
   "cell_type": "markdown",
   "metadata": {},
   "source": [
    "<a class=\"anchor\" id=\"package_plan_##\"></a>\n",
    "To install a specific version of a package, you can run `conda install <package name>=<version>`. For example, this is how you install Python 3.6 in the envpython environment:\n",
    "\n",
    "```bash\n",
    "(envpython) ~ % conda install python=3.6\n",
    "Solving environment: done\n",
    "\n",
    "## Package Plan ##\n",
    "\n",
    "  environment location: C:\\Users\\IEUser\\Miniconda3\\envs\\envpython\n",
    "\n",
    "  added / updated specs:\n",
    "    - python=3.6\n",
    "\n",
    "\n",
    "The following NEW packages will be INSTALLED:\n",
    "\n",
    "    certifi:        2018.8.24-py36_1\n",
    "    pip:            10.0.1-py36_0\n",
    "    python:         3.6.6-hea74fb7_0\n",
    "    setuptools:     40.2.0-py36_0\n",
    "    vc:             14-h0510ff6_3\n",
    "    vs2015_runtime: 14.0.25123-3\n",
    "    wheel:          0.31.1-py36_0\n",
    "    wincertstore:   0.2-py36h7fe50ca_0\n",
    "\n",
    "Proceed ([y]/n)?\n",
    "```"
   ]
  },
  {
   "cell_type": "markdown",
   "metadata": {},
   "source": [
    "<a class=\"anchor\" id=\"package_plan_##\"></a>\n",
    "In case you need to install more than one package in an environment, it is possible to run conda install only once, passing the names of the packages. To illustrate that, let’s install `numpy`, `scipy`, and `matplotlib`, basic packages for numerical computation:\n",
    "\n",
    "```bash\n",
    "(envpython) ~ % conda install numpy scipy matplotlib\n",
    "\n",
    "Solving environment: done\n",
    "\n",
    "## Package Plan ##\n",
    "\n",
    "  environment location: C:\\Users\\IEUser\\Miniconda3\n",
    "\n",
    "  added / updated specs:\n",
    "    - matplotlib\n",
    "    - numpy\n",
    "    - scipy\n",
    "\n",
    "\n",
    "The following packages will be downloaded:\n",
    "\n",
    "    package                    |            build\n",
    "    ---------------------------|-----------------\n",
    "    libpng-1.6.34              |       h79bbb47_0         1.3 MB\n",
    "    mkl_random-1.0.1           |   py37h77b88f5_1         267 KB\n",
    "    intel-openmp-2019.0        |              117         1.7 MB\n",
    "    qt-5.9.6                   |   vc14h62aca36_0        92.5 MB\n",
    "    matplotlib-2.2.3           |   py37hd159220_0         6.5 MB\n",
    "    tornado-5.1                |   py37hfa6e2cd_0         668 KB\n",
    "    pyqt-5.9.2                 |   py37ha878b3d_0         4.6 MB\n",
    "    pytz-2018.5                |           py37_0         232 KB\n",
    "    scipy-1.1.0                |   py37h4f6bf74_1        13.5 MB\n",
    "    jpeg-9b                    |       hb83a4c4_2         313 KB\n",
    "    python-dateutil-2.7.3      |           py37_0         260 KB\n",
    "    numpy-base-1.15.1          |   py37h8128ebf_0         3.9 MB\n",
    "    numpy-1.15.1               |   py37ha559c80_0          37 KB\n",
    "    mkl_fft-1.0.4              |   py37h1e22a9b_1         120 KB\n",
    "    kiwisolver-1.0.1           |   py37h6538335_0          61 KB\n",
    "    pyparsing-2.2.0            |           py37_1          96 KB\n",
    "    cycler-0.10.0              |           py37_0          13 KB\n",
    "    freetype-2.9.1             |       ha9979f8_1         470 KB\n",
    "    icu-58.2                   |       ha66f8fd_1        21.9 MB\n",
    "    sqlite-3.24.0              |       h7602738_0         899 KB\n",
    "    sip-4.19.12                |   py37h6538335_0         283 KB\n",
    "    ------------------------------------------------------------\n",
    "                                           Total:       149.5 MB\n",
    "\n",
    "The following NEW packages will be INSTALLED:\n",
    "\n",
    "    blas:            1.0-mkl\n",
    "    cycler:          0.10.0-py37_0\n",
    "    freetype:        2.9.1-ha9979f8_1\n",
    "    icc_rt:          2017.0.4-h97af966_0\n",
    "    icu:             58.2-ha66f8fd_1\n",
    "    intel-openmp:    2019.0-117\n",
    "    jpeg:            9b-hb83a4c4_2\n",
    "    kiwisolver:      1.0.1-py37h6538335_0\n",
    "    libpng:          1.6.34-h79bbb47_0\n",
    "    matplotlib:      2.2.3-py37hd159220_0\n",
    "    mkl:             2019.0-117\n",
    "    mkl_fft:         1.0.4-py37h1e22a9b_1\n",
    "    mkl_random:      1.0.1-py37h77b88f5_1\n",
    "    numpy:           1.15.1-py37ha559c80_0\n",
    "    numpy-base:      1.15.1-py37h8128ebf_0\n",
    "    pyparsing:       2.2.0-py37_1\n",
    "    pyqt:            5.9.2-py37ha878b3d_0\n",
    "    python-dateutil: 2.7.3-py37_0\n",
    "    pytz:            2018.5-py37_0\n",
    "    qt:              5.9.6-vc14h62aca36_0\n",
    "    scipy:           1.1.0-py37h4f6bf74_1\n",
    "    sip:             4.19.12-py37h6538335_0\n",
    "    sqlite:          3.24.0-h7602738_0\n",
    "    tornado:         5.1-py37hfa6e2cd_0\n",
    "    zlib:            1.2.11-h8395fce_2\n",
    "\n",
    "Proceed ([y]/n)?\n",
    "```"
   ]
  },
  {
   "cell_type": "markdown",
   "metadata": {},
   "source": [
    "Now that you’ve covered how to search and install packages, let’s see how to update and remove them using Conda."
   ]
  },
  {
   "cell_type": "markdown",
   "metadata": {},
   "source": [
    "<a class=\"anchor\" id=\"updating_and_removing_packages\"></a>\n",
    "### Updating and Removing Packages [<img src=\"../../images/logos/back_to_top.png\" width=\"22\" align= \"center\"/>](#table_of_contents)\n",
    "\n",
    "Sometimes, when new packages are released, you need to update them. To do so, you may run `conda update <package name>`. In case you wish to update all the packages within one environment, you should activate the environment and run `conda update --all`."
   ]
  },
  {
   "cell_type": "markdown",
   "metadata": {},
   "source": [
    "<a class=\"anchor\" id=\"package_plan_##\"></a>\n",
    "To remove a package, you can run `conda remove <package name>`. For example, this is how you remove numpy from the root base environment:\n",
    "\n",
    "```bash\n",
    "(envpython) ~ % conda remove numpy\n",
    "Solving environment: done\n",
    "\n",
    "## Package Plan ##\n",
    "\n",
    "  environment location: C:\\Users\\IEUser\\Miniconda3\n",
    "\n",
    "  removed specs:\n",
    "    - numpy\n",
    "\n",
    "\n",
    "The following packages will be REMOVED:\n",
    "\n",
    "    matplotlib: 2.2.3-py37hd159220_0\n",
    "    mkl_fft:    1.0.4-py37h1e22a9b_1\n",
    "    mkl_random: 1.0.1-py37h77b88f5_1\n",
    "    numpy:      1.15.1-py37ha559c80_0\n",
    "    scipy:      1.1.0-py37h4f6bf74_1\n",
    "\n",
    "Proceed ([y]/n)?\n",
    "```"
   ]
  },
  {
   "cell_type": "markdown",
   "metadata": {},
   "source": [
    "> **Note:** It’s worth noting that when you remove a package, all packages that depend on it are also removed."
   ]
  },
  {
   "cell_type": "markdown",
   "metadata": {},
   "source": [
    "<a class=\"anchor\" id=\"cheat_sheet\"></a>\n",
    "## Cheat Sheet [<img src=\"../../images/logos/back_to_top.png\" width=\"22\" align= \"center\"/>](#table_of_contents)\n",
    "\n",
    "[Click here to get access to a Conda cheat sheet](https://static.realpython.com/conda-cheatsheet.pdf) with handy usage examples for managing your Python environment and packages."
   ]
  },
  {
   "cell_type": "markdown",
   "metadata": {},
   "source": [
    "<a class=\"anchor\" id=\"read_more\"></a>\n",
    "## <img src=\"../../images/logos/web.png\" width=\"20\"/> Read More [<img src=\"../../images/logos/back_to_top.png\" width=\"22\" align= \"center\"/>](#table_of_contents)\n"
   ]
  },
  {
   "cell_type": "markdown",
   "metadata": {},
   "source": [
    "Also, if you’d like a deeper understanding of Anaconda and Conda, check out the following links:\n",
    "\n",
    "- [Why you need Python environments and how to manage them with Conda](https://medium.freecodecamp.org/why-you-need-python-environments-and-how-to-manage-them-with-conda-85f155f4353c)\n",
    "- [Conda: Myths and Misconceptions](http://jakevdp.github.io/blog/2016/08/25/conda-myths-and-misconceptions/)"
   ]
  }
 ],
 "metadata": {
  "kernelspec": {
   "display_name": "Python 3",
   "language": "python",
   "name": "python3"
  },
  "language_info": {
   "codemirror_mode": {
    "name": "ipython",
    "version": 3
   },
   "file_extension": ".py",
   "mimetype": "text/x-python",
   "name": "python",
   "nbconvert_exporter": "python",
   "pygments_lexer": "ipython3",
   "version": "3.7.6"
  }
 },
 "nbformat": 4,
 "nbformat_minor": 5
}
