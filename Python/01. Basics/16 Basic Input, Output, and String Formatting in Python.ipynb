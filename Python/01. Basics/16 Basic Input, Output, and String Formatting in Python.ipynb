{
 "cells": [
  {
   "cell_type": "markdown",
   "metadata": {},
   "source": [
    "<img src=\"../../images/banners/python-basics.png\" width=\"600\"/>"
   ]
  },
  {
   "cell_type": "markdown",
   "metadata": {},
   "source": [
    "# <img src=\"../../images/logos/python.png\" width=\"23\"/> Basic Input, Output, and String Formatting in Python \n"
   ]
  },
  {
   "cell_type": "markdown",
   "metadata": {},
   "source": [
    "<a class=\"anchor\" id=\"table_of_contents\"></a>\n",
    "## Table of Contents\n",
    "\n",
    "\n",
    "* [Reading Input From the Keyboard](#reading_input_from_the_keyboard)\n",
    "* [Writing Output to the Console](#writing_output_to_the_console)\n",
    "    * [Unformatted Console Output](#unformatted_console_output)\n",
    "    * [Keyword Arguments to `print()`](#keyword_arguments_to_`print()`)\n",
    "        * [The `sep=` Keyword Argument](#the_`sep=`_keyword_argument)\n",
    "        * [The `end=` Keyword Argument](#the_`end=`_keyword_argument)\n",
    "    * [Output Stream Keyword Arguments](#output_stream_keyword_arguments)\n",
    "* [Formatted String Output](#formatted_string_output)\n",
    "\n",
    "---"
   ]
  },
  {
   "cell_type": "markdown",
   "metadata": {},
   "source": [
    "To be useful, a program usually needs to communicate with the outside world by obtaining input data from the user and displaying result data back to the user. This tutorial will introduce you to Python input and output."
   ]
  },
  {
   "cell_type": "markdown",
   "metadata": {},
   "source": [
    "Input may come directly from the user via the keyboard, or from some external source like a file or database. Output can be displayed directly to the console or IDE, to the screen via a Graphical User Interface (GUI), or again to an external source."
   ]
  },
  {
   "cell_type": "markdown",
   "metadata": {},
   "source": [
    "By the end of this section, you’ll know how to:\n",
    "\n",
    "- Take user input from the keyboard with the built-in function `input()`\n",
    "- Display output to the console with the built-in function `print()`\n",
    "- Format string data with the **string modulo operator**"
   ]
  },
  {
   "cell_type": "markdown",
   "metadata": {},
   "source": [
    "<a class=\"anchor\" id=\"reading_input_from_the_keyboard\"></a>\n",
    "## Reading Input From the Keyboard\n",
    "[Back to Top](#table_of_contents)\n"
   ]
  },
  {
   "cell_type": "markdown",
   "metadata": {},
   "source": [
    "Programs often need to obtain data from the user, usually by way of input from the keyboard. The simplest way to accomplish this in Python is with `input()`."
   ]
  },
  {
   "cell_type": "markdown",
   "metadata": {},
   "source": [
    "> `input([<prompt>])`\n",
    "> \n",
    "> Reads a line of input from the keyboard."
   ]
  },
  {
   "cell_type": "markdown",
   "metadata": {},
   "source": [
    "`input()` pauses program execution to allow the user to type in a line of input from the keyboard. Once the user presses the _Enter_ key, all characters typed are read and returned as a string:"
   ]
  },
  {
   "cell_type": "code",
   "execution_count": 1,
   "metadata": {},
   "outputs": [
    {
     "name": "stdout",
     "output_type": "stream",
     "text": [
      "some text\n"
     ]
    },
    {
     "data": {
      "text/plain": [
       "'some text'"
      ]
     },
     "execution_count": 1,
     "metadata": {},
     "output_type": "execute_result"
    }
   ],
   "source": [
    "s = input()\n",
    "\n",
    "s"
   ]
  },
  {
   "cell_type": "markdown",
   "metadata": {},
   "source": [
    "Note that the newline generated when the user presses the _Enter_ key isn’t included as part of the return string."
   ]
  },
  {
   "cell_type": "markdown",
   "metadata": {},
   "source": [
    "If you include the optional `<prompt>` argument, `input()` displays it as a prompt to the user before pausing to read input:"
   ]
  },
  {
   "cell_type": "code",
   "execution_count": 3,
   "metadata": {},
   "outputs": [
    {
     "name": "stdout",
     "output_type": "stream",
     "text": [
      "What is your name? Ali\n"
     ]
    },
    {
     "data": {
      "text/plain": [
       "'Ali'"
      ]
     },
     "execution_count": 3,
     "metadata": {},
     "output_type": "execute_result"
    }
   ],
   "source": [
    "name = input('What is your name? ')\n",
    "\n",
    "name"
   ]
  },
  {
   "cell_type": "markdown",
   "metadata": {},
   "source": [
    "`input()` always returns a string. If you want a numeric type, then you need to convert the string to the appropriate type with the `int()`, `float()`, or `complex()` built-in functions:"
   ]
  },
  {
   "cell_type": "code",
   "execution_count": 60,
   "metadata": {},
   "outputs": [
    {
     "name": "stdout",
     "output_type": "stream",
     "text": [
      "Enter a number: 10\n"
     ]
    }
   ],
   "source": [
    "n = input('Enter a number: ')"
   ]
  },
  {
   "cell_type": "code",
   "execution_count": 61,
   "metadata": {},
   "outputs": [
    {
     "ename": "TypeError",
     "evalue": "can only concatenate str (not \"int\") to str",
     "output_type": "error",
     "traceback": [
      "\u001b[0;31m---------------------------------------------------------------------------\u001b[0m",
      "\u001b[0;31mTypeError\u001b[0m                                 Traceback (most recent call last)",
      "\u001b[0;32m<ipython-input-61-c29d58565962>\u001b[0m in \u001b[0;36m<module>\u001b[0;34m\u001b[0m\n\u001b[0;32m----> 1\u001b[0;31m \u001b[0mprint\u001b[0m\u001b[0;34m(\u001b[0m\u001b[0mn\u001b[0m \u001b[0;34m+\u001b[0m \u001b[0;36m100\u001b[0m\u001b[0;34m)\u001b[0m\u001b[0;34m\u001b[0m\u001b[0;34m\u001b[0m\u001b[0m\n\u001b[0m",
      "\u001b[0;31mTypeError\u001b[0m: can only concatenate str (not \"int\") to str"
     ]
    }
   ],
   "source": [
    "print(n + 100)"
   ]
  },
  {
   "cell_type": "code",
   "execution_count": 15,
   "metadata": {},
   "outputs": [
    {
     "name": "stdout",
     "output_type": "stream",
     "text": [
      "Enter a number: 10\n"
     ]
    }
   ],
   "source": [
    "n = int(input('Enter a number: '))"
   ]
  },
  {
   "cell_type": "code",
   "execution_count": 16,
   "metadata": {},
   "outputs": [
    {
     "name": "stdout",
     "output_type": "stream",
     "text": [
      "110\n"
     ]
    }
   ],
   "source": [
    "print(n + 100)"
   ]
  },
  {
   "cell_type": "markdown",
   "metadata": {},
   "source": [
    "In the example above, the expression `n + 100` is invalid because `n` is a string and `100` is an integer. `int()` converts `n` to an integer so the `print()` statement finally succeeds."
   ]
  },
  {
   "cell_type": "markdown",
   "metadata": {},
   "source": [
    "> **Python Version Note:** Should you find yourself working with Python 2.x code, you might bump into a slight difference in the input functions between Python versions 2 and 3.\n",
    "> \n",
    "> `raw_input()` in Python 2 reads input from the keyboard and returns it. `raw_input()` in Python 2 behaves just like `input()` in Python 3, as described above.\n",
    "> \n",
    "> But Python 2 also has a function called `input()`. In Python 2, `input()` reads input from the keyboard, parses and evaluates it as a Python expression, and then returns the resulting value.\n",
    "> \n",
    "> Python 3 does not provide a single function that does exactly what Python 2’s `input()` does. The effect can be mimicked in Python 3 with the expression `eval(input())`. However, this is considered a security risk because it allows a user to run arbitrary, potentially malicious code.\n",
    "> \n",
    "> For more information on `eval()` and its potential security risks, check out [Python eval(): Evaluate Expressions Dynamically](https://realpython.com/python-eval-function/)."
   ]
  },
  {
   "cell_type": "markdown",
   "metadata": {},
   "source": [
    "<a class=\"anchor\" id=\"writing_output_to_the_console\"></a>\n",
    "## Writing Output to the Console\n",
    "[Back to Top](#table_of_contents)\n"
   ]
  },
  {
   "cell_type": "markdown",
   "metadata": {},
   "source": [
    "In addition to obtaining data from the user, a program will also usually need to present data back to the user. You can display program data to the console in Python with `print()`."
   ]
  },
  {
   "cell_type": "markdown",
   "metadata": {},
   "source": [
    "<a class=\"anchor\" id=\"unformatted_console_output\"></a>\n",
    "### Unformatted Console Output\n",
    "[Back to Top](#table_of_contents)\n",
    "\n",
    "To display objects to the console, pass them as a comma-separated list of arguments to `print()`."
   ]
  },
  {
   "cell_type": "markdown",
   "metadata": {},
   "source": [
    "> `print(<obj>, ..., <obj>)`\n",
    "> \n",
    "> Displays a string representation of each <obj> to the console."
   ]
  },
  {
   "cell_type": "markdown",
   "metadata": {},
   "source": [
    "By default, `print()` separates each object by a single space and appends a newline to the end of the output:"
   ]
  },
  {
   "cell_type": "code",
   "execution_count": 10,
   "metadata": {},
   "outputs": [
    {
     "name": "stdout",
     "output_type": "stream",
     "text": [
      "Name: Winston Smith\n"
     ]
    }
   ],
   "source": [
    "fname = 'Winston'\n",
    "lname = 'Smith'\n",
    "\n",
    "print('Name:', fname, lname)"
   ]
  },
  {
   "cell_type": "markdown",
   "metadata": {},
   "source": [
    "Any type of object can be specified as an argument to `print()`. If an object isn’t a string, then `print()` converts it to an appropriate string representation displaying it:"
   ]
  },
  {
   "cell_type": "code",
   "execution_count": 11,
   "metadata": {},
   "outputs": [
    {
     "data": {
      "text/plain": [
       "list"
      ]
     },
     "execution_count": 11,
     "metadata": {},
     "output_type": "execute_result"
    }
   ],
   "source": [
    "a = [1, 2, 3]\n",
    "type(a)"
   ]
  },
  {
   "cell_type": "code",
   "execution_count": 12,
   "metadata": {},
   "outputs": [
    {
     "data": {
      "text/plain": [
       "int"
      ]
     },
     "execution_count": 12,
     "metadata": {},
     "output_type": "execute_result"
    }
   ],
   "source": [
    "b = -12\n",
    "type(b)"
   ]
  },
  {
   "cell_type": "code",
   "execution_count": 13,
   "metadata": {},
   "outputs": [
    {
     "data": {
      "text/plain": [
       "dict"
      ]
     },
     "execution_count": 13,
     "metadata": {},
     "output_type": "execute_result"
    }
   ],
   "source": [
    "d = {'foo': 1, 'bar': 2}\n",
    "type(d)"
   ]
  },
  {
   "cell_type": "code",
   "execution_count": 14,
   "metadata": {},
   "outputs": [
    {
     "data": {
      "text/plain": [
       "builtin_function_or_method"
      ]
     },
     "execution_count": 14,
     "metadata": {},
     "output_type": "execute_result"
    }
   ],
   "source": [
    "type(len)"
   ]
  },
  {
   "cell_type": "code",
   "execution_count": 15,
   "metadata": {},
   "outputs": [
    {
     "name": "stdout",
     "output_type": "stream",
     "text": [
      "[1, 2, 3] -12 {'foo': 1, 'bar': 2} <built-in function len>\n"
     ]
    }
   ],
   "source": [
    "print(a, b, d, len)"
   ]
  },
  {
   "cell_type": "markdown",
   "metadata": {},
   "source": [
    "As you can see, even complex types like lists, dictionaries, and functions can be displayed to the console with `print()`."
   ]
  },
  {
   "cell_type": "markdown",
   "metadata": {},
   "source": [
    "<a class=\"anchor\" id=\"keyword_arguments_to_`print()`\"></a>\n",
    "### Keyword Arguments to `print()`\n",
    "[Back to Top](#table_of_contents)\n",
    "\n",
    "\n",
    "`print()` takes a few additional arguments that provide modest control over the format of the output. Each of these is a special type of argument called a **keyword argument**. This introductory series will include a section on functions and parameter passing so you can learn more about keyword arguments."
   ]
  },
  {
   "cell_type": "markdown",
   "metadata": {},
   "source": [
    "For now, here’s what you need to know:\n",
    "\n",
    "- Keyword arguments have the form `<keyword>=<value>`.\n",
    "- Any keyword arguments passed to `print()` must come at the end, after the list of objects to display."
   ]
  },
  {
   "cell_type": "markdown",
   "metadata": {},
   "source": [
    "In the following sections, you’ll see how these keyword arguments affect console output produced by `print()`."
   ]
  },
  {
   "cell_type": "code",
   "execution_count": 36,
   "metadata": {},
   "outputs": [
    {
     "name": "stdout",
     "output_type": "stream",
     "text": [
      "ali....hejazizo\n"
     ]
    }
   ],
   "source": [
    "print('ali', 'hejazizo', sep='....')"
   ]
  },
  {
   "cell_type": "markdown",
   "metadata": {},
   "source": [
    "<a class=\"anchor\" id=\"the_`sep=`_keyword_argument\"></a>\n",
    "#### The `sep=`  Keyword Argument\n",
    "[Back to Top](#table_of_contents)\n"
   ]
  },
  {
   "cell_type": "markdown",
   "metadata": {},
   "source": [
    "Adding the keyword argument `sep=<str>` causes objects to be separated by the string `<str>` instead of the default single space:"
   ]
  },
  {
   "cell_type": "code",
   "execution_count": 16,
   "metadata": {},
   "outputs": [
    {
     "name": "stdout",
     "output_type": "stream",
     "text": [
      "foo 42 bar\n"
     ]
    }
   ],
   "source": [
    "print('foo', 42, 'bar')"
   ]
  },
  {
   "cell_type": "code",
   "execution_count": 17,
   "metadata": {},
   "outputs": [
    {
     "name": "stdout",
     "output_type": "stream",
     "text": [
      "foo/42/bar\n"
     ]
    }
   ],
   "source": [
    "print('foo', 42, 'bar', sep='/')"
   ]
  },
  {
   "cell_type": "code",
   "execution_count": 18,
   "metadata": {},
   "outputs": [
    {
     "name": "stdout",
     "output_type": "stream",
     "text": [
      "foo...42...bar\n"
     ]
    }
   ],
   "source": [
    "print('foo', 42, 'bar', sep='...')"
   ]
  },
  {
   "cell_type": "code",
   "execution_count": 19,
   "metadata": {},
   "outputs": [
    {
     "name": "stdout",
     "output_type": "stream",
     "text": [
      "foo -> 1\n",
      "bar -> 2\n",
      "baz -> 3\n"
     ]
    }
   ],
   "source": [
    "d = {'foo': 1, 'bar': 2, 'baz': 3}\n",
    "for k, v in d.items():\n",
    "    print(k, v, sep=' -> ')"
   ]
  },
  {
   "cell_type": "markdown",
   "metadata": {},
   "source": [
    "To squish objects together without any space between them, specify `sep=''`:"
   ]
  },
  {
   "cell_type": "code",
   "execution_count": 20,
   "metadata": {},
   "outputs": [
    {
     "name": "stdout",
     "output_type": "stream",
     "text": [
      "foo42bar\n"
     ]
    }
   ],
   "source": [
    "print('foo', 42, 'bar', sep='')"
   ]
  },
  {
   "cell_type": "markdown",
   "metadata": {},
   "source": [
    "You can specify any arbitrary string as the separator with the `sep=` keyword."
   ]
  },
  {
   "cell_type": "markdown",
   "metadata": {},
   "source": [
    "<a class=\"anchor\" id=\"the_`end=`_keyword_argument\"></a>\n",
    "#### The `end=` Keyword Argument\n",
    "[Back to Top](#table_of_contents)\n",
    "\n",
    "The keyword argument `end=<str>` causes output to be terminated by `<str>` instead of the default newline:"
   ]
  },
  {
   "cell_type": "code",
   "execution_count": 62,
   "metadata": {},
   "outputs": [
    {
     "name": "stdout",
     "output_type": "stream",
     "text": [
      "foo/42/bar\n"
     ]
    }
   ],
   "source": [
    "if True:\n",
    "    print('foo', end='/')\n",
    "    print(42, end='/')\n",
    "    print('bar')"
   ]
  },
  {
   "cell_type": "markdown",
   "metadata": {},
   "source": [
    "For example, if you are displaying values in a loop, you might use `end=` to cause the values to be displayed on one line, rather than on individual lines:"
   ]
  },
  {
   "cell_type": "code",
   "execution_count": 22,
   "metadata": {},
   "outputs": [
    {
     "name": "stdout",
     "output_type": "stream",
     "text": [
      "0\n",
      "1\n",
      "2\n",
      "3\n",
      "4\n",
      "5\n",
      "6\n",
      "7\n",
      "8\n",
      "9\n"
     ]
    }
   ],
   "source": [
    "for n in range(10):\n",
    "    print(n)"
   ]
  },
  {
   "cell_type": "code",
   "execution_count": 29,
   "metadata": {},
   "outputs": [
    {
     "name": "stdout",
     "output_type": "stream",
     "text": [
      "0\n",
      "1 2 3 4 5 6 7 8 9 10\n",
      "11 12 13 14 15 16 17 18 19 20\n",
      "21 22 23 24 25 26 27 28 29 30\n"
     ]
    }
   ],
   "source": [
    "for n in range(31):\n",
    "    print(n, end=(' ' if n % 10 != 0 else '\\n'))"
   ]
  },
  {
   "cell_type": "markdown",
   "metadata": {},
   "source": [
    "Any string may be specified as the output terminator with the `end=` keyword."
   ]
  },
  {
   "cell_type": "markdown",
   "metadata": {},
   "source": [
    "<a class=\"anchor\" id=\"output_stream_keyword_arguments\"></a>\n",
    "### Output Stream Keyword Arguments\n",
    "[Back to Top](#table_of_contents)\n",
    "\n",
    "`print()` accepts two additional keyword arguments, both of which affect handling of the output stream:\n",
    "\n",
    "- `file=<stream>`: By default, `print()` sends its output to a default stream called `sys.stdout`, which is usually equivalent to the console. The `file=<stream>` argument causes output to be sent to an alternate stream designated by `<stream>` instead.\n",
    "\n",
    "- `flush=True`: Ordinarily, `print()` buffers its output and only writes to the output stream intermittently. `flush=True` specifies that the output stream is forcibly flushed with each `print()`."
   ]
  },
  {
   "cell_type": "markdown",
   "metadata": {},
   "source": [
    "These two keyword arguments are presented here for the sake of completeness. You probably don’t need to be too concerned about output streams at this point. They are discussed later in this series in the section on File I/O."
   ]
  },
  {
   "cell_type": "markdown",
   "metadata": {},
   "source": [
    "<a class=\"anchor\" id=\"formatted_string_output\"></a>\n",
    "## Formatted String Output\n",
    "[Back to Top](#table_of_contents)\n"
   ]
  },
  {
   "cell_type": "markdown",
   "metadata": {},
   "source": [
    "`print()` supports formatting of console output that is rudimentary at best. You can choose how to separate printed objects, and you can specify what goes at the end of the printed line. That’s about it."
   ]
  },
  {
   "cell_type": "markdown",
   "metadata": {},
   "source": [
    "In many cases, you’ll need more precise control over the appearance of data destined for display. Python provides several ways to format output string data. One of the older ones is the **string modulo operator**."
   ]
  },
  {
   "cell_type": "markdown",
   "metadata": {},
   "source": [
    "In recent versions of Python, there are newer ways to format string data that are arguably superior to the string modulo operator: the **string `.format()` method**, and **f-strings**. You will learn about these in the next section in this series."
   ]
  }
 ],
 "metadata": {
  "kernelspec": {
   "display_name": "Python 3 (ipykernel)",
   "language": "python",
   "name": "python3"
  },
  "language_info": {
   "codemirror_mode": {
    "name": "ipython",
    "version": 3
   },
   "file_extension": ".py",
   "mimetype": "text/x-python",
   "name": "python",
   "nbconvert_exporter": "python",
   "pygments_lexer": "ipython3",
   "version": "3.8.11"
  }
 },
 "nbformat": 4,
 "nbformat_minor": 4
}
