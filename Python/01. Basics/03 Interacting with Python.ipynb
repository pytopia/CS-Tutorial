{
 "cells": [
  {
   "cell_type": "markdown",
   "metadata": {},
   "source": [
    "<img src=\"../../images/banners/python-basics.png\" width=\"600\"/>"
   ]
  },
  {
   "cell_type": "markdown",
   "metadata": {},
   "source": [
    "# <img src=\"../../images/logos/python.png\" width=\"23\"/> Interacting with Python \n"
   ]
  },
  {
   "cell_type": "markdown",
   "metadata": {},
   "source": [
    "<a class=\"anchor\" id=\"table_of_contents\"></a>\n",
    "## Table of Contents\n",
    "\n",
    "\n",
    "* [Hello, World!](#hello,_world!)\n",
    "* [Different Ways to Execute Python Code](#different_ways_to_execute_python_code)\n",
    "    * [1. Using the Python Interpreter Interactively](#1._using_the_python_interpreter_interactively)\n",
    "        * [Starting the Interpreter](#starting_the_interpreter)\n",
    "        * [Executing Python Code](#executing_python_code)\n",
    "        * [Exiting the Interpreter](#exiting_the_interpreter)\n",
    "    * [2. IPython](#2._ipython)\n",
    "    * [3. Notebook](#3._notebook)\n",
    "    * [4. Online Python REPL Sites](#4._online_python_repl_sites)\n",
    "    * [5. Running a Python Script from the Command Line](#5._running_a_python_script_from_the_command_line)\n",
    "    * [6. Interacting with Python through an IDE](#6._interacting_with_python_through_an_ide)\n",
    "    * [7. Text Editors](#7._text_editors)\n",
    "* [<img src=\"../../images/logos/checkmark.png\" width=\"20\"/> Conclusion](#conclusion)\n",
    "* [FAQ](#faq)\n",
    "\n",
    "---"
   ]
  },
  {
   "cell_type": "markdown",
   "metadata": {},
   "source": [
    "At this point, you should have a working Python 3 interpreter at hand. If you need help getting Python set up correctly, please refer to the previous section on how to interact with Conda."
   ]
  },
  {
   "cell_type": "markdown",
   "metadata": {},
   "source": [
    "There are several ways to run Python code.\n",
    "- First let's discuss the various options for development environments. There are 3 main types of environments:\n",
    "    * Text Editors\n",
    "    * Full IDEs\n",
    "    * Notebook Environments\n",
    "    \n",
    "    \n",
    "**Note:** Development environments are a personal choice highly dependent on personal preference."
   ]
  },
  {
   "cell_type": "markdown",
   "metadata": {},
   "source": [
    "<a class=\"anchor\" id=\"hello,_world!\"></a>\n",
    "## Hello, World! [<img src=\"../../images/logos/back_to_top.png\" width=\"22\" align= \"center\"/>](#table_of_contents)\n",
    "\n",
    "There is a long-standing custom in the field of computer programming that the first code written in a newly installed language is a short program that simply displays the string Hello, World! to the console."
   ]
  },
  {
   "cell_type": "markdown",
   "metadata": {},
   "source": [
    "> **Note:** Note: This is a time-honored tradition dating back to the 1970s. See [Hello, World!](https://en.wikipedia.org/wiki/%22Hello,_World!%22_program) for a brief history. You seriously risk upsetting the qi of the universe if you don’t abide by this custom."
   ]
  },
  {
   "cell_type": "markdown",
   "metadata": {},
   "source": [
    "The simplest Python 3 code to display `Hello, World!` is:\n",
    "\n",
    "```python\n",
    "print(\"Hello World\")\n",
    "```\n",
    "\n",
    "You will explore several different ways to execute this code above."
   ]
  },
  {
   "cell_type": "markdown",
   "metadata": {},
   "source": [
    "<a class=\"anchor\" id=\"different_ways_to_execute_python_code\"></a>\n",
    "## Different Ways to Execute Python Code [<img src=\"../../images/logos/back_to_top.png\" width=\"22\" align= \"center\"/>](#table_of_contents)"
   ]
  },
  {
   "cell_type": "markdown",
   "metadata": {},
   "source": [
    "<a class=\"anchor\" id=\"1._using_the_python_interpreter_interactively\"></a>\n",
    "### 1. Using the Python Interpreter Interactively [<img src=\"../../images/logos/back_to_top.png\" width=\"22\" align= \"center\"/>](#table_of_contents)\n",
    "\n",
    "The most straightforward way to start talking to Python is in an interactive [Read-Eval-Print Loop (REPL)](https://en.wikipedia.org/wiki/Read%E2%80%93eval%E2%80%93print_loop) environment. That simply means starting up the interpreter and typing commands to it directly. The interpreter:\n",
    "\n",
    "- **R**eads the command you enter\n",
    "- **E**valuates and executes the command\n",
    "- **P**rints the output (if any) to the console\n",
    "- **L**oops back and repeats the process\n",
    "\n",
    "The session continues in this manner until you instruct the interpreter to terminate. Most of the example code in this tutorial series is presented as REPL interaction."
   ]
  },
  {
   "cell_type": "markdown",
   "metadata": {},
   "source": [
    "<a class=\"anchor\" id=\"starting_the_interpreter\"></a>\n",
    "#### Starting the Interpreter [<img src=\"../../images/logos/back_to_top.png\" width=\"22\" align= \"center\"/>](#table_of_contents)\n",
    "\n",
    "you can open a terminal window and run the interpreter from the command line. How you go about opening a terminal window varies depending on which operating system you’re using:\n",
    "\n",
    "- In Windows, it is called **Command Prompt**.\n",
    "- In macOS or Linux, it should be called **Terminal**."
   ]
  },
  {
   "cell_type": "markdown",
   "metadata": {},
   "source": [
    "Once a terminal window is open, if paths have been set up properly by the Python install process, you should be able to just type `python`. Then, you should see a response from the Python interpreter.\n",
    "\n",
    "```bash\n",
    "(base) ~ % python\n",
    "Python 3.6.0 (v3.6.0:41df79263a11, Dec 23 2016, 07:18:10) [MSC v.1900 32 bit (Intel)] on win32\n",
    "Type \"help\", \"copyright\", \"credits\" or \"license\" for more information.\n",
    ">>>\n",
    "```"
   ]
  },
  {
   "cell_type": "markdown",
   "metadata": {},
   "source": [
    "> **Technical Note:** If you are on a Linux system and installed Python 3, it may be that both Python 2 and Python 3 are installed. In that case, it is possible that typing python at the prompt will start Python 2. Starting Python 3 may require typing something else, like python3.\n",
    ">\n",
    "> If you installed a more recent version of Python 3 than the one that was included in the distribution, you may even need to specify the version you installed specifically—for example python3.6."
   ]
  },
  {
   "cell_type": "markdown",
   "metadata": {},
   "source": [
    "If you are not seeing the `>>>` prompt, then you are not talking to the Python interpreter. This could be because Python is either not installed or not in your terminal window session’s path. It’s also possible that you just haven’t found the correct command to execute it. You can refer to our installing Python section for help."
   ]
  },
  {
   "cell_type": "markdown",
   "metadata": {},
   "source": [
    "<a class=\"anchor\" id=\"executing_python_code\"></a>\n",
    "#### Executing Python Code [<img src=\"../../images/logos/back_to_top.png\" width=\"22\" align= \"center\"/>](#table_of_contents)\n",
    "\n",
    "If you are seeing the prompt, you’re off and running! The next step is to execute the statement that displays `Hello, World!` to the console:\n",
    "\n",
    "1. Ensure that the `>>>` prompt is displayed, and the cursor is positioned after it.\n",
    "2. Type the command `print(\"Hello, World!\")` exactly as shown.\n",
    "3. Press the Enter key."
   ]
  },
  {
   "cell_type": "markdown",
   "metadata": {},
   "source": [
    "The interpreter’s response should appear on the next line. You can tell it is console output because the `>>>` prompt is absent:\n",
    "\n",
    "```bash\n",
    ">>> print(\"Hello, World!\")\n",
    "Hello, World!\n",
    "```"
   ]
  },
  {
   "cell_type": "markdown",
   "metadata": {},
   "source": [
    "If your session looks like the above, then you have executed your first Python code! Take a moment to celebrate."
   ]
  },
  {
   "cell_type": "markdown",
   "metadata": {},
   "source": [
    "<img src=\"./images/celebrate.png\" alt=\"notebook\" width=200 align=\"center\" />"
   ]
  },
  {
   "cell_type": "markdown",
   "metadata": {},
   "source": [
    "<a class=\"anchor\" id=\"exiting_the_interpreter\"></a>\n",
    "#### Exiting the Interpreter [<img src=\"../../images/logos/back_to_top.png\" width=\"22\" align= \"center\"/>](#table_of_contents)\n",
    "\n",
    "When you are finished interacting with the interpreter, you can exit a REPL session in several ways:\n",
    "\n",
    "- Type `exit()` and press Enter:\n",
    "\n",
    "```bash\n",
    ">>> exit()\n",
    "\n",
    "(base) ~ %\n",
    "```\n",
    "\n",
    "- In Linux or macOS, type `Ctrl+D`. The interpreter terminates immediately; pressing Enter is not needed.\n",
    "- If all else fails, you can simply close the interpreter window. This isn’t the best way, but it will get the job done."
   ]
  },
  {
   "cell_type": "markdown",
   "metadata": {},
   "source": [
    "Below are a list of other REPLs that you can optionally install to make working in data science more developer-friendly."
   ]
  },
  {
   "cell_type": "markdown",
   "metadata": {},
   "source": [
    "<a class=\"anchor\" id=\"2._ipython\"></a>\n",
    "### 2. IPython [<img src=\"../../images/logos/back_to_top.png\" width=\"22\" align= \"center\"/>](#table_of_contents)\n",
    "\n",
    "[IPython](https://ipython.org/install.html) is an upgraded Python [read-eval-print loop (REPL)](https://en.wikipedia.org/wiki/Read%E2%80%93eval%E2%80%93print_loop) that makes editing code in a live interpreter session more straightforward and prettier. Here’s what an IPython REPL session looks like:\n",
    "\n",
    "```bash\n",
    "In [1]: import numpy as np\n",
    "\n",
    "In [2]: digits = np.array([\n",
    "   ...:     [1, 2, 3],\n",
    "   ...:     [4, 5, 6],\n",
    "   ...:     [6, 7, 9],\n",
    "   ...: ])\n",
    "\n",
    "In [3]: digits\n",
    "Out[3]:\n",
    "array([[1, 2, 3],\n",
    "       [4, 5, 6],\n",
    "       [6, 7, 9]])\n",
    "```"
   ]
  },
  {
   "cell_type": "markdown",
   "metadata": {},
   "source": [
    "It has several differences from a basic Python REPL, including its line numbers, use of colors, and quality of array visualizations. There are also a lot of user-experience bonuses that make it more pleasant to enter, re-enter, and edit code."
   ]
  },
  {
   "cell_type": "markdown",
   "metadata": {},
   "source": [
    "You can install IPython as a standalone:\n",
    "\n",
    "```bash\n",
    "$ pip install ipython\n",
    "```\n",
    "\n",
    "Alternatively, if you wait and install any of the subsequent tools, then they’ll include a copy of IPython."
   ]
  },
  {
   "cell_type": "markdown",
   "metadata": {},
   "source": [
    "<a class=\"anchor\" id=\"3._notebook\"></a>\n",
    "### 3. Notebook [<img src=\"../../images/logos/back_to_top.png\" width=\"22\" align= \"center\"/>](#table_of_contents)\n",
    "\n",
    "A slightly more featureful alternative to a REPL is a **notebook**. Notebooks are a slightly different style of writing Python than standard scripts, though. Instead of a traditional Python file, they give you a series of mini-scripts called **cells** that you can run and re-run in whatever order you want, all in the same Python memory session."
   ]
  },
  {
   "cell_type": "markdown",
   "metadata": {},
   "source": [
    "One neat thing about notebooks is that you can include graphs and render Markdown paragraphs between cells, so they’re really nice for writing up data analyses right inside the code!"
   ]
  },
  {
   "cell_type": "markdown",
   "metadata": {},
   "source": [
    "Here’s what it looks like:\n",
    "\n",
    "<img src=\"../images/notebook.png\" alt=\"notebook\" width=400 align=\"left\" />"
   ]
  },
  {
   "cell_type": "markdown",
   "metadata": {},
   "source": [
    "The most popular notebook offering is probably the [Jupyter Notebook](https://realpython.com/jupyter-notebook-introduction/), but [nteract](https://nteract.io/)\n",
    "is another option that wraps the Jupyter functionality and attempts to make it a bit more approachable and powerful."
   ]
  },
  {
   "cell_type": "markdown",
   "metadata": {},
   "source": [
    "However, if you’re looking at Jupyter Notebook and thinking that it needs more IDE-like qualities, then [JupyterLab](https://jupyterlab.readthedocs.io/en/stable/) is another option. You can customize text editors, notebooks, terminals, and custom components, all in a browser-based interface. It will likely be more comfortable for people coming from [MatLab](https://realpython.com/matlab-vs-python/). It’s the youngest of the offerings, but its 1.0 release was back in 2019, so it should be stable and full featured."
   ]
  },
  {
   "cell_type": "markdown",
   "metadata": {},
   "source": [
    "This is what the interface looks like:\n",
    "\n",
    "<img src=\"../images/jupyterlab.png\" alt=\"jupyterlab\" width=400 align=\"left\" />"
   ]
  },
  {
   "cell_type": "markdown",
   "metadata": {},
   "source": [
    "Whichever option you choose, once you have it installed, you’ll be ready to run your first lines of data science codes."
   ]
  },
  {
   "cell_type": "markdown",
   "metadata": {},
   "source": [
    "Notebook Environments are:\n",
    "\n",
    "- Great for learning.\n",
    "- See input and output next to each other.\n",
    "- Support in-line markdown notes, visualization, videos, and more.\n",
    "- Special file formats that are not `.py`."
   ]
  },
  {
   "cell_type": "markdown",
   "metadata": {},
   "source": [
    "<a class=\"anchor\" id=\"4._online_python_repl_sites\"></a>\n",
    "### 4. Online Python REPL Sites [<img src=\"../../images/logos/back_to_top.png\" width=\"22\" align= \"center\"/>](#table_of_contents)\n",
    "\n",
    "There are [websites available](https://realpython.com/installing-python/#online-python-interpreters) that can provide you with interactive access to a Python interpreter online without you having to install anything locally."
   ]
  },
  {
   "cell_type": "markdown",
   "metadata": {},
   "source": [
    "This approach may be unsatisfactory for some of the more complicated or lengthy examples in this tutorial. But for simple REPL sessions, it should work well."
   ]
  },
  {
   "cell_type": "markdown",
   "metadata": {},
   "source": [
    "The Python Software Foundation provides an Interactive Shell on their website. Go directly to https://www.python.org/shell. You should get a page with a window that looks something like this:\n",
    "\n",
    "<img src=\"./images/python-shell.png\" alt=\"notebook\" width=500 align=\"left\" />"
   ]
  },
  {
   "cell_type": "markdown",
   "metadata": {},
   "source": [
    "The familiar `>>>` prompt shows you that you are talking to the Python interpreter."
   ]
  },
  {
   "cell_type": "markdown",
   "metadata": {},
   "source": [
    "Here are a few other sites that provide Python REPL:\n",
    "\n",
    "- [PythonFiddle](http://pythonfiddle.com/)\n",
    "- [repl.it](https://repl.it/)\n",
    "- [Trinket](https://trinket.io/)"
   ]
  },
  {
   "cell_type": "markdown",
   "metadata": {},
   "source": [
    "<a class=\"anchor\" id=\"5._running_a_python_script_from_the_command_line\"></a>\n",
    "### 5. Running a Python Script from the Command Line [<img src=\"../../images/logos/back_to_top.png\" width=\"22\" align= \"center\"/>](#table_of_contents)"
   ]
  },
  {
   "cell_type": "markdown",
   "metadata": {},
   "source": [
    "Entering commands to the Python interpreter interactively is great for quick testing and exploring features or functionality."
   ]
  },
  {
   "cell_type": "markdown",
   "metadata": {},
   "source": [
    "Eventually though, as you create more complex applications, you will develop longer bodies of code that you will want to edit and run repeatedly. You clearly don’t want to re-type the code into the interpreter every time! This is where you will want to create a script file."
   ]
  },
  {
   "cell_type": "markdown",
   "metadata": {},
   "source": [
    "A Python script is a reusable set of code. It is essentially a Python program—a sequence of Python instructions—contained in a file. You can run the program by specifying the name of the script file to the interpreter."
   ]
  },
  {
   "cell_type": "markdown",
   "metadata": {},
   "source": [
    "Python scripts are just plain text, so you can edit them with any text editor. If you [have a favorite programmer’s editor](https://realpython.com/python-ides-code-editors-guide/) that operates on text files, it should be fine to use. If you don’t, the following are typically installed natively with their respective operating systems:\n",
    "\n",
    "- Windows: Notepad\n",
    "- Unix/Linux: vi or vim\n",
    "- macOS: TextEdit\n",
    "\n",
    "Using whatever editor you’ve chosen, create a script file called `hello.py` containing the following:\n",
    "\n",
    "```python\n",
    "print(\"Hello, World!\")\n",
    "```"
   ]
  },
  {
   "cell_type": "markdown",
   "metadata": {},
   "source": [
    "Now save the file, keeping track of the directory or folder you chose to save into."
   ]
  },
  {
   "cell_type": "markdown",
   "metadata": {},
   "source": [
    "Start a command prompt or terminal window. If the current working directory is the same as the location in which you saved the file, you can simply specify the filename as a command-line argument to the Python interpreter: `python hello.py`"
   ]
  },
  {
   "cell_type": "markdown",
   "metadata": {},
   "source": [
    "For example, in linux it would look like this:\n",
    "\n",
    "```bash\n",
    "(base) ~ % python hello.py\n",
    "Hello, World!\n",
    "```"
   ]
  },
  {
   "cell_type": "markdown",
   "metadata": {},
   "source": [
    "If the script is not in the current working directory, you can still run it. You’ll just have to specify the path name to it:\n",
    "\n",
    "```bash\n",
    "(base) ~ % python /home/ali/Documents/test/hello.py\n",
    "Hello, World!\n",
    "```"
   ]
  },
  {
   "cell_type": "markdown",
   "metadata": {},
   "source": [
    "A script file is not required to have a `.py` extension. The Python interpreter will run the file no matter what it’s called, so long as you properly specify the file name on the command line, but giving Python files a `.py` extension is a useful convention because it makes them more easily identifiable. In desktop-oriented folder/icon environments like Windows and macOS, this will also typically allow for setting up an appropriate file association, so that you can run the script just by clicking its icon."
   ]
  },
  {
   "cell_type": "markdown",
   "metadata": {},
   "source": [
    "<a class=\"anchor\" id=\"6._interacting_with_python_through_an_ide\"></a>\n",
    "### 6. Interacting with Python through an IDE [<img src=\"../../images/logos/back_to_top.png\" width=\"22\" align= \"center\"/>](#table_of_contents)\n",
    "\n",
    "An Integrated Development Environment (IDE) is an application that more or less combines all the functionality you have seen so far. IDEs usually provide REPL capability as well as an editor with which you can create and modify code to then submit to the interpreter for execution."
   ]
  },
  {
   "cell_type": "markdown",
   "metadata": {},
   "source": [
    "You may also find cool features such as:\n",
    "\n",
    "- **Syntax highlighting:** IDEs often colorize different syntax elements in the code to make it easier to read.\n",
    "- **Context-sensitive help:** Advanced IDEs can display related information from the Python documentation or even suggested fixes for common types of code errors.\n",
    "- **Code-completion:** Some IDEs can complete partially typed pieces of code (like function names) for you—a great time-saver and convenience feature.\n",
    "- **Debugging:** A debugger allows you to run code step-by-step and inspect program data as you go. This is invaluable when you are trying to determine why a program is behaving improperly, as will inevitably happen."
   ]
  },
  {
   "cell_type": "markdown",
   "metadata": {},
   "source": [
    "<a class=\"anchor\" id=\"7._text_editors\"></a>\n",
    "### 7. Text Editors [<img src=\"../../images/logos/back_to_top.png\" width=\"22\" align= \"center\"/>](#table_of_contents)\n",
    "\n",
    "- General editors for any text files.\n",
    "- Work with a variety of file types.\n",
    "- Can be customized with plugins and add-ons.\n",
    "- Keep in mind, most are not desinged with only Python in mind.\n",
    "\n",
    "Most popular: VSCode, Submile Text, and Atom."
   ]
  },
  {
   "cell_type": "markdown",
   "metadata": {},
   "source": [
    "Download and install **[VSCode](https://code.visualstudio.com/download)**. For WSL you just need to install it in your Windows OS and it will automatically download and install it in WSL the first time you run `code` in your WSL terminal."
   ]
  },
  {
   "cell_type": "markdown",
   "metadata": {},
   "source": [
    "Run these commands to make sure everything is setup:\n",
    "\n",
    "```bash\n",
    "~ % code --version\n",
    "1.57.1\n",
    "507ce72a4466fbb27b715c3722558bb15afa9f48\n",
    "x64\n",
    "```\n",
    "\n",
    "You should see `vscode` installation version."
   ]
  },
  {
   "cell_type": "markdown",
   "metadata": {},
   "source": [
    "<a class=\"anchor\" id=\"conclusion\"></a>\n",
    "## <img src=\"../../images/logos/checkmark.png\" width=\"20\"/> Conclusion  [<img src=\"../../images/logos/back_to_top.png\" width=\"22\" align= \"center\"/>](#table_of_contents)\n",
    "\n",
    "Larger applications are typically contained in script files that are passed to the Python interpreter for execution."
   ]
  },
  {
   "cell_type": "markdown",
   "metadata": {},
   "source": [
    "But one of the advantages of an interpreted language is that you can run the interpreter and execute commands interactively. Python is easy to use in this manner, and it is a great way to get your feet wet learning how the language works."
   ]
  },
  {
   "cell_type": "markdown",
   "metadata": {},
   "source": [
    "The examples throughout this tutorial have been produced by direct interaction with the Python interpreter, but if you choose to use IDLE or some other available IDE, the examples should still work just fine."
   ]
  },
  {
   "cell_type": "markdown",
   "metadata": {},
   "source": [
    "Continue to the next section, where you will start to explore the elements of the Python language itself."
   ]
  },
  {
   "cell_type": "markdown",
   "metadata": {},
   "source": [
    "<a class=\"anchor\" id=\"faq\"></a>\n",
    "## FAQ [<img src=\"../../images/logos/back_to_top.png\" width=\"22\" align= \"center\"/>](#table_of_contents)"
   ]
  },
  {
   "cell_type": "markdown",
   "metadata": {},
   "source": [
    "1. How can I launch a jupyter notebook in my computer?\n",
    "\n",
    "**Answer**: Run `jupyter notebook` in your terminal."
   ]
  },
  {
   "cell_type": "markdown",
   "metadata": {},
   "source": [
    "2. I'm getting an error when trying to run `jupyter notebook` or `jupyter lab` to run notebook.\n",
    "\n",
    "![jupyter-error](../images/jupyter-error.png)"
   ]
  },
  {
   "cell_type": "markdown",
   "metadata": {},
   "source": [
    "**Answer**: Follow these steps:\n",
    "1. In your terminal run `jupyter notebook --generate-config`.\n",
    "2. It will generate a config file at: `~/.jupyter/jupyter_notebook_config.py`\n",
    "3. Open `~/.jupyter/jupyter_notebook_config.py` file, look for `c.NotebookApp.use_redirect_file`.\n",
    "4. If `c.NotebookApp.use_redirect_file` exist, uncomment it and set it to `False`. Otherwise add it at the end of the file like this: `c.NotebookApp.use_redirect_file = False`\n"
   ]
  }
 ],
 "metadata": {
  "kernelspec": {
   "display_name": "Python 3",
   "language": "python",
   "name": "python3"
  },
  "language_info": {
   "codemirror_mode": {
    "name": "ipython",
    "version": 3
   },
   "file_extension": ".py",
   "mimetype": "text/x-python",
   "name": "python",
   "nbconvert_exporter": "python",
   "pygments_lexer": "ipython3",
   "version": "3.7.6"
  }
 },
 "nbformat": 4,
 "nbformat_minor": 4
}
