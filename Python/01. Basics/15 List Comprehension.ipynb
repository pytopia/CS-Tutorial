{
 "cells": [
  {
   "cell_type": "markdown",
   "id": "f601b5f2",
   "metadata": {},
   "source": [
    "<img src=\"../../images/banners/python-basics.png\" width=\"600\"/>"
   ]
  },
  {
   "cell_type": "markdown",
   "id": "f58aa0c9",
   "metadata": {},
   "source": [
    "# <img src=\"../../images/logos/python.png\" width=\"23\"/> When to Use a List Comprehension in Python \n"
   ]
  },
  {
   "cell_type": "markdown",
   "id": "f7179a0f",
   "metadata": {},
   "source": [
    "<a class=\"anchor\" id=\"table_of_contents\"></a>\n",
    "## Table of Contents\n",
    "\n",
    "\n",
    "* [How to Create Lists in Python](#how_to_create_lists_in_python)\n",
    "    * [Using for Loops](#using_for_loops)\n",
    "    * [Using `map()` Objects](#using_`map()`_objects)\n",
    "    * [Using List Comprehensions](#using_list_comprehensions)\n",
    "* [Benefits of Using List Comprehensions](#benefits_of_using_list_comprehensions)\n",
    "* [How to Supercharge Your Comprehensions](#how_to_supercharge_your_comprehensions)\n",
    "    * [Using Conditional Logic](#using_conditional_logic)\n",
    "    * [Using Set and Dictionary Comprehensions](#using_set_and_dictionary_comprehensions)\n",
    "* [When Not to Use a List Comprehension in Python](#when_not_to_use_a_list_comprehension_in_python)\n",
    "    * [Watch Out for Nested Comprehensions](#watch_out_for_nested_comprehensions)\n",
    "* [<img src=\"../../images/logos/checkmark.png\" width=\"20\"/> Conclusion](#conclusion)\n",
    "\n",
    "---"
   ]
  },
  {
   "cell_type": "markdown",
   "id": "5f773381",
   "metadata": {},
   "source": [
    "Python is famous for allowing you to write code that’s elegant, easy to write, and almost as easy to read as plain English. One of the language’s most distinctive features is the list comprehension, which you can use to create powerful functionality within a single line of code. However, many developers struggle to fully leverage the more advanced features of a list comprehension in Python. Some programmers even use them too much, which can lead to code that’s less efficient and harder to read."
   ]
  },
  {
   "cell_type": "markdown",
   "id": "d7e238e3",
   "metadata": {},
   "source": [
    "<a class=\"anchor\" id=\"how_to_create_lists_in_python\"></a>\n",
    "## How to Create Lists in Python\n",
    "[Back to Top](#table_of_contents)\n"
   ]
  },
  {
   "cell_type": "markdown",
   "id": "5f937f87",
   "metadata": {},
   "source": [
    "There are a few different ways you can create lists in Python. To better understand the trade-offs of using a list comprehension in Python, let’s first see how to create lists with these approaches."
   ]
  },
  {
   "cell_type": "markdown",
   "id": "df590574",
   "metadata": {},
   "source": [
    "<a class=\"anchor\" id=\"using_for_loops\"></a>\n",
    "### Using for Loops\n",
    "[Back to Top](#table_of_contents)\n"
   ]
  },
  {
   "cell_type": "markdown",
   "id": "87440fdd",
   "metadata": {},
   "source": [
    "The most common type of loop is the for loop. You can use a for loop to create a list of elements in three steps:\n",
    "\n",
    "- Instantiate an empty list.\n",
    "- Loop over an iterable or range of elements.\n",
    "- Append each element to the end of the list."
   ]
  },
  {
   "cell_type": "markdown",
   "id": "e60d2a38",
   "metadata": {},
   "source": [
    "If you want to create a list containing the first ten perfect squares, then you can complete these steps in three lines of code:"
   ]
  },
  {
   "cell_type": "code",
   "execution_count": 27,
   "id": "2c73b929",
   "metadata": {},
   "outputs": [
    {
     "data": {
      "text/plain": [
       "[0, 1, 4, 9, 16, 25, 36, 49, 64, 81]"
      ]
     },
     "execution_count": 27,
     "metadata": {},
     "output_type": "execute_result"
    }
   ],
   "source": [
    "squares = []\n",
    "for i in range(10):\n",
    "    squares.append(i * i)\n",
    "squares"
   ]
  },
  {
   "cell_type": "markdown",
   "id": "7c41bd32",
   "metadata": {},
   "source": [
    "Here, you instantiate an empty list, squares. Then, you use a for loop to iterate over `range(10)`. Finally, you multiply each number by itself and append the result to the end of the list."
   ]
  },
  {
   "cell_type": "markdown",
   "id": "4c4ceed1",
   "metadata": {},
   "source": [
    "<a class=\"anchor\" id=\"using_`map()`_objects\"></a>\n",
    "### Using `map()` Objects\n",
    "[Back to Top](#table_of_contents)\n"
   ]
  },
  {
   "cell_type": "markdown",
   "id": "11e32a92",
   "metadata": {},
   "source": [
    "`map()` provides an alternative approach that’s based in functional programming. You pass in a function and an iterable, and `map()` will create an object. This object contains the output you would get from running each iterable element through the supplied function."
   ]
  },
  {
   "cell_type": "markdown",
   "id": "dcb97c05",
   "metadata": {},
   "source": [
    "As an example, consider a situation in which you need to calculate the price after tax for a list of transactions:"
   ]
  },
  {
   "cell_type": "code",
   "execution_count": 6,
   "id": "e62aacb6",
   "metadata": {},
   "outputs": [],
   "source": [
    "txns = [1.09, 23.56, 57.84, 4.56, 6.78]\n",
    "TAX_RATE = .08"
   ]
  },
  {
   "cell_type": "code",
   "execution_count": 7,
   "id": "96e34612",
   "metadata": {},
   "outputs": [],
   "source": [
    "def get_price_with_tax(txn):\n",
    "    return txn * (1 + TAX_RATE)"
   ]
  },
  {
   "cell_type": "code",
   "execution_count": 8,
   "id": "baa10386",
   "metadata": {},
   "outputs": [
    {
     "data": {
      "text/plain": [
       "[1.1772000000000002, 25.4448, 62.467200000000005, 4.9248, 7.322400000000001]"
      ]
     },
     "execution_count": 8,
     "metadata": {},
     "output_type": "execute_result"
    }
   ],
   "source": [
    "final_prices = map(get_price_with_tax, txns)\n",
    "list(final_prices)"
   ]
  },
  {
   "cell_type": "markdown",
   "id": "6b958b8b",
   "metadata": {},
   "source": [
    "Here, you have an iterable txns and a function `get_price_with_tax()`. You pass both of these arguments to `map()`, and store the resulting object in final_prices. You can easily convert this map object into a list using `list()`."
   ]
  },
  {
   "cell_type": "markdown",
   "id": "fb50ab52",
   "metadata": {},
   "source": [
    "<a class=\"anchor\" id=\"using_list_comprehensions\"></a>\n",
    "### Using List Comprehensions\n",
    "[Back to Top](#table_of_contents)\n"
   ]
  },
  {
   "cell_type": "markdown",
   "id": "219dfb6c",
   "metadata": {},
   "source": [
    "List comprehensions are a third way of making lists. With this elegant approach, you could rewrite the for loop from the first example in just a single line of code:"
   ]
  },
  {
   "cell_type": "code",
   "execution_count": 87,
   "id": "2beeffdd",
   "metadata": {},
   "outputs": [
    {
     "data": {
      "text/plain": [
       "[0, 1, 4, 9, 16, 25, 36, 49, 64, 81]"
      ]
     },
     "execution_count": 87,
     "metadata": {},
     "output_type": "execute_result"
    }
   ],
   "source": [
    "squares = [i * i for i in range(10)]\n",
    "squares"
   ]
  },
  {
   "cell_type": "markdown",
   "id": "c240ed54",
   "metadata": {},
   "source": [
    "Rather than creating an empty list and adding each element to the end, you simply define the list and its contents at the same time by following this format:\n",
    "\n",
    "```python\n",
    "new_list = [expression for member in iterable]\n",
    "```"
   ]
  },
  {
   "cell_type": "markdown",
   "id": "d150a3b0",
   "metadata": {},
   "source": [
    "Every list comprehension in Python includes three elements:\n",
    "\n",
    "- **expression** is the member itself, a call to a method, or any other valid expression that returns a value. In the example above, the expression `i * i` is the square of the member value.\n",
    "- **member** is the object or value in the list or iterable. In the example above, the member value is `i`.\n",
    "- **iterable** is a list, set, sequence, generator, or any other object that can return its elements one at a time. In the example above, the iterable is `range(10)`."
   ]
  },
  {
   "cell_type": "markdown",
   "id": "ca67f077",
   "metadata": {},
   "source": [
    "Because the expression requirement is so flexible, a list comprehension in Python works well in many places where you would use `map()`. You can rewrite the pricing example with its own list comprehension:"
   ]
  },
  {
   "cell_type": "code",
   "execution_count": 10,
   "id": "9bcbb0d8",
   "metadata": {},
   "outputs": [],
   "source": [
    "txns = [1.09, 23.56, 57.84, 4.56, 6.78]\n",
    "TAX_RATE = .08"
   ]
  },
  {
   "cell_type": "code",
   "execution_count": 11,
   "id": "8fc5c567",
   "metadata": {},
   "outputs": [],
   "source": [
    "def get_price_with_tax(txn):\n",
    "    return txn * (1 + TAX_RATE)"
   ]
  },
  {
   "cell_type": "code",
   "execution_count": 12,
   "id": "a1ff6b6a",
   "metadata": {},
   "outputs": [
    {
     "data": {
      "text/plain": [
       "[1.1772000000000002, 25.4448, 62.467200000000005, 4.9248, 7.322400000000001]"
      ]
     },
     "execution_count": 12,
     "metadata": {},
     "output_type": "execute_result"
    }
   ],
   "source": [
    "final_prices = [get_price_with_tax(i) for i in txns]\n",
    "final_prices"
   ]
  },
  {
   "cell_type": "markdown",
   "id": "460062c4",
   "metadata": {},
   "source": [
    "The only distinction between this implementation and `map()` is that the list comprehension in Python returns a list, not a map object."
   ]
  },
  {
   "cell_type": "markdown",
   "id": "1ac3dbe9",
   "metadata": {},
   "source": [
    "<a class=\"anchor\" id=\"benefits_of_using_list_comprehensions\"></a>\n",
    "## Benefits of Using List Comprehensions\n",
    "[Back to Top](#table_of_contents)\n"
   ]
  },
  {
   "cell_type": "markdown",
   "id": "93c89e56",
   "metadata": {},
   "source": [
    "List comprehensions are often described as being more Pythonic than loops or `map()`. But rather than blindly accepting that assessment, it’s worth it to understand the benefits of using a list comprehension in Python when compared to the alternatives. Later on, you’ll learn about a few scenarios where the alternatives are a better choice."
   ]
  },
  {
   "cell_type": "markdown",
   "id": "667b1deb",
   "metadata": {},
   "source": [
    "One main benefit of using a list comprehension in Python is that it’s a single tool that you can use in many different situations. In addition to standard list creation, list comprehensions can also be used for mapping and filtering. You don’t have to use a different approach for each scenario."
   ]
  },
  {
   "cell_type": "markdown",
   "id": "6f0cfa83",
   "metadata": {},
   "source": [
    "This is the main reason why list comprehensions are considered **Pythonic**, as Python embraces simple, powerful tools that you can use in a wide variety of situations. As an added side benefit, whenever you use a list comprehension in Python, you won’t need to remember the proper order of arguments like you would when you call `map()`."
   ]
  },
  {
   "cell_type": "markdown",
   "id": "0cc7f834",
   "metadata": {},
   "source": [
    "List comprehensions are also more **declarative** than loops, which means they’re easier to read and understand. Loops require you to focus on how the list is created. You have to manually create an empty list, loop over the elements, and add each of them to the end of the list. With a list comprehension in Python, you can instead focus on what you want to go in the list and trust that Python will take care of how the list construction takes place."
   ]
  },
  {
   "cell_type": "markdown",
   "id": "8b8662a1",
   "metadata": {},
   "source": [
    "<a class=\"anchor\" id=\"how_to_supercharge_your_comprehensions\"></a>\n",
    "## How to Supercharge Your Comprehensions\n",
    "[Back to Top](#table_of_contents)\n"
   ]
  },
  {
   "cell_type": "markdown",
   "id": "4907fcca",
   "metadata": {},
   "source": [
    "In order to understand the full value that list comprehensions can provide, it’s helpful to understand their range of possible functionality. You’ll also want to understand the changes that are coming to the list comprehension in Python 3.8."
   ]
  },
  {
   "cell_type": "markdown",
   "id": "1849147f",
   "metadata": {},
   "source": [
    "<a class=\"anchor\" id=\"using_conditional_logic\"></a>\n",
    "### Using Conditional Logic\n",
    "[Back to Top](#table_of_contents)\n"
   ]
  },
  {
   "cell_type": "markdown",
   "id": "9f785fe8",
   "metadata": {},
   "source": [
    "Earlier, you saw this formula for how to create list comprehensions:\n",
    "\n",
    "```python\n",
    "new_list = [expression for member in iterable]\n",
    "```"
   ]
  },
  {
   "cell_type": "markdown",
   "id": "be67945e",
   "metadata": {},
   "source": [
    "While this formula is accurate, it’s also a bit incomplete. A more complete description of the comprehension formula adds support for optional **conditionals**. The most common way to add conditional logic to a list comprehension is to add a conditional to the end of the expression:\n",
    "\n",
    "```python\n",
    "new_list = [expression for member in iterable (if conditional)]\n",
    "```"
   ]
  },
  {
   "cell_type": "markdown",
   "id": "ff3b98b8",
   "metadata": {},
   "source": [
    "Here, your conditional statement comes just before the closing bracket."
   ]
  },
  {
   "cell_type": "markdown",
   "id": "cd7aca65",
   "metadata": {},
   "source": [
    "Conditionals are important because they allow list comprehensions to filter out unwanted values, which would normally require a call to `filter()`:"
   ]
  },
  {
   "cell_type": "code",
   "execution_count": 13,
   "id": "7dc0e00f",
   "metadata": {},
   "outputs": [
    {
     "data": {
      "text/plain": [
       "['e', 'o', 'e', 'a', 'e', 'a', 'o', 'a']"
      ]
     },
     "execution_count": 13,
     "metadata": {},
     "output_type": "execute_result"
    }
   ],
   "source": [
    "sentence = 'the rocket came back from mars'\n",
    "vowels = [i for i in sentence if i in 'aeiou']\n",
    "vowels"
   ]
  },
  {
   "cell_type": "markdown",
   "id": "65f3c11d",
   "metadata": {},
   "source": [
    "In this code block, the conditional statement filters out any characters in sentence that aren’t a vowel."
   ]
  },
  {
   "cell_type": "markdown",
   "id": "9fd89f75",
   "metadata": {},
   "source": [
    "The conditional can test any valid expression. If you need a more complex filter, then you can even move the conditional logic to a separate function:"
   ]
  },
  {
   "cell_type": "code",
   "execution_count": 14,
   "id": "21aa3457",
   "metadata": {},
   "outputs": [],
   "source": [
    "sentence = 'The rocket, who was named Ted, came back \\\n",
    "from Mars because he missed his friends.'"
   ]
  },
  {
   "cell_type": "code",
   "execution_count": 15,
   "id": "78a1f5b5",
   "metadata": {},
   "outputs": [],
   "source": [
    "def is_consonant(letter):\n",
    "    vowels = 'aeiou'\n",
    "    return letter.isalpha() and letter.lower() not in vowels"
   ]
  },
  {
   "cell_type": "code",
   "execution_count": 16,
   "id": "943b870a",
   "metadata": {},
   "outputs": [],
   "source": [
    "consonants = [i for i in sentence if is_consonant(i)]"
   ]
  },
  {
   "cell_type": "markdown",
   "id": "e2ec60d0",
   "metadata": {},
   "source": [
    "Here, you create a complex filter `is_consonant()` and pass this function as the conditional statement for your list comprehension. Note that the member value `i` is also passed as an argument to your function."
   ]
  },
  {
   "cell_type": "markdown",
   "id": "0d81008b",
   "metadata": {},
   "source": [
    "You can place the conditional at the end of the statement for simple filtering, but what if you want to change a member value instead of filtering it out? In this case, it’s useful to place the conditional near the beginning of the expression:\n",
    "\n",
    "```python\n",
    "new_list = [expression (if conditional) for member in iterable]\n",
    "```"
   ]
  },
  {
   "cell_type": "markdown",
   "id": "3cd71d06",
   "metadata": {},
   "source": [
    "With this formula, you can use conditional logic to select from multiple possible output options. For example, if you have a list of prices, then you may want to replace negative prices with 0 and leave the positive values unchanged:"
   ]
  },
  {
   "cell_type": "code",
   "execution_count": 17,
   "id": "f5a18ec4",
   "metadata": {},
   "outputs": [
    {
     "data": {
      "text/plain": [
       "[1.25, 0, 10.22, 3.78, 0, 1.16]"
      ]
     },
     "execution_count": 17,
     "metadata": {},
     "output_type": "execute_result"
    }
   ],
   "source": [
    "original_prices = [1.25, -9.45, 10.22, 3.78, -5.92, 1.16]\n",
    "prices = [i if i > 0 else 0 for i in original_prices]\n",
    "prices"
   ]
  },
  {
   "cell_type": "markdown",
   "id": "5caf9204",
   "metadata": {},
   "source": [
    "Here, your expression `i` contains a conditional statement, if `i > 0` else `0`. This tells Python to output the value of `i` if the number is positive, but to change `i` to `0` if the number is negative. If this seems overwhelming, then it may be helpful to view the conditional logic as its own function:"
   ]
  },
  {
   "cell_type": "code",
   "execution_count": 18,
   "id": "d1381f62",
   "metadata": {},
   "outputs": [
    {
     "data": {
      "text/plain": [
       "[1.25, 0, 10.22, 3.78, 0, 1.16]"
      ]
     },
     "execution_count": 18,
     "metadata": {},
     "output_type": "execute_result"
    }
   ],
   "source": [
    "def get_price(price):\n",
    "    return price if price > 0 else 0\n",
    "prices = [get_price(i) for i in original_prices]\n",
    "prices"
   ]
  },
  {
   "cell_type": "markdown",
   "id": "064c6a70",
   "metadata": {},
   "source": [
    "Now, your conditional statement is contained within `get_price()`, and you can use it as part of your list comprehension expression."
   ]
  },
  {
   "cell_type": "markdown",
   "id": "474fc0ea",
   "metadata": {},
   "source": [
    "<a class=\"anchor\" id=\"using_set_and_dictionary_comprehensions\"></a>\n",
    "### Using Set and Dictionary Comprehensions\n",
    "[Back to Top](#table_of_contents)\n"
   ]
  },
  {
   "cell_type": "markdown",
   "id": "1d2385a4",
   "metadata": {},
   "source": [
    "While the list comprehension in Python is a common tool, you can also create set and dictionary comprehensions. A **set** comprehension is almost exactly the same as a list comprehension in Python. The difference is that set comprehensions make sure the output contains no duplicates. You can create a set comprehension by using curly braces instead of brackets:"
   ]
  },
  {
   "cell_type": "code",
   "execution_count": 110,
   "id": "568c30fb",
   "metadata": {},
   "outputs": [
    {
     "data": {
      "text/plain": [
       "{'a', 'e', 'i', 'u'}"
      ]
     },
     "execution_count": 110,
     "metadata": {},
     "output_type": "execute_result"
    }
   ],
   "source": [
    "quote = \"life, uh, finds a way\"\n",
    "unique_vowels = {i for i in quote if i in 'aeiou'}\n",
    "unique_vowels"
   ]
  },
  {
   "cell_type": "markdown",
   "id": "1d248f9e",
   "metadata": {},
   "source": [
    "Your set comprehension outputs all the unique vowels it found in `quote`. Unlike lists, sets don’t guarantee that items will be saved in any particular order. This is why the first member of the set is `a`, even though the first vowel in quote is `i`."
   ]
  },
  {
   "cell_type": "markdown",
   "id": "d5528a3e",
   "metadata": {},
   "source": [
    "**Dictionary comprehensions** are similar, with the additional requirement of defining a key:"
   ]
  },
  {
   "cell_type": "code",
   "execution_count": 111,
   "id": "8f9f46dc",
   "metadata": {},
   "outputs": [
    {
     "data": {
      "text/plain": [
       "{0: 0, 1: 1, 2: 4, 3: 9, 4: 16, 5: 25, 6: 36, 7: 49, 8: 64, 9: 81}"
      ]
     },
     "execution_count": 111,
     "metadata": {},
     "output_type": "execute_result"
    }
   ],
   "source": [
    "squares = {i: i * i for i in range(10)}\n",
    "squares"
   ]
  },
  {
   "cell_type": "markdown",
   "id": "aaff8d57",
   "metadata": {},
   "source": [
    "To create the squares dictionary, you use curly braces (`{}`) as well as a key-value pair (`i: i * i`) in your expression."
   ]
  },
  {
   "cell_type": "markdown",
   "id": "970d53c8",
   "metadata": {},
   "source": [
    "<a class=\"anchor\" id=\"when_not_to_use_a_list_comprehension_in_python\"></a>\n",
    "## When Not to Use a List Comprehension in Python\n",
    "[Back to Top](#table_of_contents)\n"
   ]
  },
  {
   "cell_type": "markdown",
   "id": "98ccc2d1",
   "metadata": {},
   "source": [
    "List comprehensions are useful and can help you write elegant code that’s easy to read and debug, but they’re not the right choice for all circumstances. They might make your code run more slowly or use more memory. If your code is less performant or harder to understand, then it’s probably better to choose an alternative."
   ]
  },
  {
   "cell_type": "markdown",
   "id": "85c44be6",
   "metadata": {},
   "source": [
    "<a class=\"anchor\" id=\"watch_out_for_nested_comprehensions\"></a>\n",
    "### Watch Out for Nested Comprehensions\n",
    "[Back to Top](#table_of_contents)\n"
   ]
  },
  {
   "cell_type": "markdown",
   "id": "5b51b97b",
   "metadata": {},
   "source": [
    "Comprehensions can be **nested** to create combinations of lists, dictionaries, and sets within a collection. For example, say a climate laboratory is tracking the high temperature in five different cities for the first week of June. The perfect data structure for storing this data could be a Python list comprehension nested within a dictionary comprehension:"
   ]
  },
  {
   "cell_type": "code",
   "execution_count": 21,
   "id": "f10bbb3b",
   "metadata": {},
   "outputs": [
    {
     "data": {
      "text/plain": [
       "{'Austin': [0, 0, 0, 0, 0, 0, 0],\n",
       " 'Tacoma': [0, 0, 0, 0, 0, 0, 0],\n",
       " 'Topeka': [0, 0, 0, 0, 0, 0, 0],\n",
       " 'Sacramento': [0, 0, 0, 0, 0, 0, 0],\n",
       " 'Charlotte': [0, 0, 0, 0, 0, 0, 0]}"
      ]
     },
     "execution_count": 21,
     "metadata": {},
     "output_type": "execute_result"
    }
   ],
   "source": [
    "cities = ['Austin', 'Tacoma', 'Topeka', 'Sacramento', 'Charlotte']\n",
    "temps = {city: [0 for _ in range(7)] for city in cities}\n",
    "temps"
   ]
  },
  {
   "cell_type": "markdown",
   "id": "41ca8fa2",
   "metadata": {},
   "source": [
    "You create the outer collection temps with a dictionary comprehension. The expression is a key-value pair, which contains yet another comprehension. This code will quickly generate a list of data for each city in `cities`."
   ]
  },
  {
   "cell_type": "markdown",
   "id": "752369a9",
   "metadata": {},
   "source": [
    "Nested lists are a common way to create **matrices**, which are often used for mathematical purposes. Take a look at the code block below:"
   ]
  },
  {
   "cell_type": "code",
   "execution_count": 22,
   "id": "9927b614",
   "metadata": {},
   "outputs": [
    {
     "data": {
      "text/plain": [
       "[[0, 1, 2, 3, 4],\n",
       " [0, 1, 2, 3, 4],\n",
       " [0, 1, 2, 3, 4],\n",
       " [0, 1, 2, 3, 4],\n",
       " [0, 1, 2, 3, 4],\n",
       " [0, 1, 2, 3, 4]]"
      ]
     },
     "execution_count": 22,
     "metadata": {},
     "output_type": "execute_result"
    }
   ],
   "source": [
    "matrix = [[i for i in range(5)] for _ in range(6)]\n",
    "matrix"
   ]
  },
  {
   "cell_type": "markdown",
   "id": "91f049d2",
   "metadata": {},
   "source": [
    "The outer list comprehension `[... for _ in range(6)]` creates six rows, while the inner list comprehension `[i for i in range(5)]` fills each of these rows with values."
   ]
  },
  {
   "cell_type": "markdown",
   "id": "51ced991",
   "metadata": {},
   "source": [
    "So far, the purpose of each nested comprehension is pretty intuitive. However, there are other situations, such as **flattening** nested lists, where the logic arguably makes your code more confusing. Take this example, which uses a nested list comprehension to flatten a matrix:"
   ]
  },
  {
   "cell_type": "code",
   "execution_count": 23,
   "id": "29ed6bde",
   "metadata": {},
   "outputs": [
    {
     "data": {
      "text/plain": [
       "[0,\n",
       " 1,\n",
       " 2,\n",
       " 3,\n",
       " 4,\n",
       " 0,\n",
       " 1,\n",
       " 2,\n",
       " 3,\n",
       " 4,\n",
       " 0,\n",
       " 1,\n",
       " 2,\n",
       " 3,\n",
       " 4,\n",
       " 0,\n",
       " 1,\n",
       " 2,\n",
       " 3,\n",
       " 4,\n",
       " 0,\n",
       " 1,\n",
       " 2,\n",
       " 3,\n",
       " 4,\n",
       " 0,\n",
       " 1,\n",
       " 2,\n",
       " 3,\n",
       " 4]"
      ]
     },
     "execution_count": 23,
     "metadata": {},
     "output_type": "execute_result"
    }
   ],
   "source": [
    "flat = [num for row in matrix for num in row]\n",
    "flat"
   ]
  },
  {
   "cell_type": "markdown",
   "id": "52288902",
   "metadata": {},
   "source": [
    "The code to flatten the matrix is concise, but it may not be so intuitive to understand how it works. On the other hand, if you were to use `for` loops to flatten the same matrix, then your code will be much more straightforward:"
   ]
  },
  {
   "cell_type": "code",
   "execution_count": 24,
   "id": "eee26fe5",
   "metadata": {},
   "outputs": [],
   "source": [
    "matrix = [\n",
    "    [0, 0, 0],\n",
    "    [1, 1, 1],\n",
    "    [2, 2, 2],\n",
    "]"
   ]
  },
  {
   "cell_type": "code",
   "execution_count": 26,
   "id": "0aa7e9b8",
   "metadata": {},
   "outputs": [],
   "source": [
    "flat = []\n",
    "for row in matrix:\n",
    "    for num in row:\n",
    "        flat.append(num)"
   ]
  },
  {
   "cell_type": "code",
   "execution_count": 27,
   "id": "be5af3a0",
   "metadata": {},
   "outputs": [
    {
     "data": {
      "text/plain": [
       "[0, 0, 0, 1, 1, 1, 2, 2, 2]"
      ]
     },
     "execution_count": 27,
     "metadata": {},
     "output_type": "execute_result"
    }
   ],
   "source": [
    "flat"
   ]
  },
  {
   "cell_type": "markdown",
   "id": "54bd5157",
   "metadata": {},
   "source": [
    "Now you can see that the code traverses one row of the matrix at a time, pulling out all the elements in that row before moving on to the next one."
   ]
  },
  {
   "cell_type": "markdown",
   "id": "0f62e378",
   "metadata": {},
   "source": [
    "While the single-line nested list comprehension might seem more Pythonic, what’s most important is to write code that your team can easily understand and modify. When you choose your approach, you’ll have to make a judgment call based on whether you think the comprehension helps or hurts readability."
   ]
  },
  {
   "cell_type": "markdown",
   "id": "cada16f6",
   "metadata": {},
   "source": [
    "<a class=\"anchor\" id=\"conclusion\"></a>\n",
    "## <img src=\"../../images/logos/checkmark.png\" width=\"20\"/> Conclusion \n",
    "[Back to Top](#table_of_contents)\n"
   ]
  },
  {
   "cell_type": "markdown",
   "id": "a6af6814",
   "metadata": {},
   "source": [
    "In this tutorial, you learned how to use a list comprehension in Python to accomplish complex tasks without making your code overly complicated."
   ]
  },
  {
   "cell_type": "markdown",
   "id": "c2c3695b",
   "metadata": {},
   "source": [
    "Now you can:\n",
    "\n",
    "- Simplify loops and `map()` calls with declarative **list comprehensions**\n",
    "- Supercharge your comprehensions with **conditional logic**\n",
    "- Create **set** and **dictionary** comprehensions\n",
    "- Determine when code clarity or performance dictates an **alternative approach**"
   ]
  },
  {
   "cell_type": "markdown",
   "id": "856a033b",
   "metadata": {},
   "source": [
    "Whenever you have to choose a list creation method, try multiple implementations and consider what’s easiest to read and understand in your specific scenario. If performance is important, then you can use profiling tools to give you actionable data instead of relying on hunches or guesses about what works the best."
   ]
  },
  {
   "cell_type": "markdown",
   "id": "e8ae0177",
   "metadata": {},
   "source": [
    "Remember that while Python list comprehensions get a lot of attention, your intuition and ability to use data when it counts will help you write clean code that serves the task at hand. This, ultimately, is the key to making your code Pythonic!"
   ]
  }
 ],
 "metadata": {
  "kernelspec": {
   "display_name": "Python 3 (ipykernel)",
   "language": "python",
   "name": "python3"
  },
  "language_info": {
   "codemirror_mode": {
    "name": "ipython",
    "version": 3
   },
   "file_extension": ".py",
   "mimetype": "text/x-python",
   "name": "python",
   "nbconvert_exporter": "python",
   "pygments_lexer": "ipython3",
   "version": "3.8.11"
  }
 },
 "nbformat": 4,
 "nbformat_minor": 5
}
